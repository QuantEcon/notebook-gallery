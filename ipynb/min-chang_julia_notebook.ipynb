{
    "cells": [
        {
            "cell_type": "markdown",
            "metadata": {
                "slideshow": {
                    "slide_type": "slide"
                }
            },
            "source": "# Chang (1998)"
        },
        {
            "cell_type": "markdown",
            "metadata": {
                "slideshow": {
                    "slide_type": "slide"
                }
            },
            "source": "by Min Kim (min.kim@rutgers.edu), Jan 14, 2020"
        },
        {
            "cell_type": "markdown",
            "metadata": {
                "slideshow": {
                    "slide_type": "slide"
                }
            },
            "source": "Reference:\n - [Chang (1998)](https://www.sciencedirect.com/science/article/pii/S002205319892395X)\n - Ljungqvist and Sargent (4th edition, Figure 25.6.1 and 25.6.2)\n - [Quantecon Python code](https://python-advanced.quantecon.org/chang_credible.html) by Sebastian Graves\n - [Yeltekin's Matlab code](http://sevinyeltekin.com/code/) for [Judd et al. (2003)](https://onlinelibrary.wiley.com/doi/abs/10.1111/1468-0262.t01-1-00445)"
        },
        {
            "cell_type": "code",
            "execution_count": 27,
            "metadata": {
                "slideshow": {
                    "slide_type": "slide"
                }
            },
            "outputs": [],
            "source": [
                "using Parameters\n",
                "using ForwardDiff, LinearAlgebra, QuantEcon\n",
                "using Plots, LaTeXStrings\n",
                "using Gurobi, JuMP # for lienar programming\n",
                "using SharedArrays, Distributed # for parallel loop\n",
                "using LazySets # for convexification"
            ]
        },
        {
            "cell_type": "code",
            "execution_count": 28,
            "metadata": {
                "scrolled": true,
                "slideshow": {
                    "slide_type": "subslide"
                }
            },
            "outputs": [
                {
                    "name": "stdout",
                    "output_type": "stream",
                    "text": [
                        "Academic license - for non-commercial use only\r\n"
                    ]
                },
                {
                    "name": "stderr",
                    "output_type": "stream",
                    "text": [
                        "WARNING: redefining constant GUROBI_ENV\n"
                    ]
                },
                {
                    "data": {
                        "text/plain": [
                            "Gurobi.Env(Ptr{Nothing} @0x0000000090bf7010)"
                        ]
                    },
                    "execution_count": 28,
                    "metadata": {},
                    "output_type": "execute_result"
                }
            ],
            "source": [
                "const GUROBI_ENV = Gurobi.Env() # to suppress Grubi license output"
            ]
        },
        {
            "cell_type": "code",
            "execution_count": 29,
            "metadata": {
                "slideshow": {
                    "slide_type": "slide"
                }
            },
            "outputs": [
                {
                    "data": {
                        "text/plain": [
                            "##NamedTuple_kw#395 (generic function with 2 methods)"
                        ]
                    },
                    "execution_count": 29,
                    "metadata": {},
                    "output_type": "execute_result"
                }
            ],
            "source": [
                "parameters = @with_kw (β = 0.8, m_min = 1e-9, mbar = 30, h_min = 0.9, h_max = 1/β)\n",
                "functions = @with_kw (uc = c -> log(c), v = m -> 1/2000 * (mbar .* m .- 0.5 .* m.^2).^0.5,\n",
                "   f = (h,m) -> 180 .- (0.4 .* m.*(h .- 1)).^2)"
            ]
        },
        {
            "cell_type": "code",
            "execution_count": 30,
            "metadata": {
                "slideshow": {
                    "slide_type": "slide"
                }
            },
            "outputs": [
                {
                    "data": {
                        "text/plain": [
                            "(uc = var\"#49#55\"(), v = var\"#50#56\"(), f = var\"#51#57\"())"
                        ]
                    },
                    "execution_count": 30,
                    "metadata": {},
                    "output_type": "execute_result"
                }
            ],
            "source": [
                "# set 1: LS figure 25.6.2\n",
                "@unpack β, mbar, m_min, h_min, h_max = parameters()\n",
                "@unpack uc, v, f = functions() # utility and production functions\n",
                "\n",
                "# set 2: LS figure 25.6.1\n",
                "# @unpack β, mbar, h_min, h_max = parameters(β = 0.3, h_max = 2)\n",
                "# @unpack uc, v, f = functions() # utility and production functions\n",
                "\n",
                "# try\n",
                "# @unpack β, mbar, h_min, h_max = parameters(β = 0.4, h_max = 2, m_min = 10, mbar = 30)\n",
                "\n",
                "# set 3: Chang(1998)\n",
                "# @unpack β, mbar, m_min, h_min, h_max = parameters(β = 0.9, mbar = 40, h_min = .25, h_max = 1.25)\n",
                "# @unpack uc, v, f = functions(uc = c -> 10000*log(c),\n",
                "    # v = m -> mbar .* m .- 0.5 .* m.^2, f = (h,m) -> 64 .- (0.2 .* m.*(h .- 1)).^2)"
            ]
        },
        {
            "cell_type": "code",
            "execution_count": 31,
            "metadata": {
                "scrolled": true,
                "slideshow": {
                    "slide_type": "slide"
                }
            },
            "outputs": [
                {
                    "data": {
                        "text/plain": [
                            "1×2 Array{Float64,2}:\n",
                            " 0.0  1.09649"
                        ]
                    },
                    "execution_count": 31,
                    "metadata": {},
                    "output_type": "execute_result"
                }
            ],
            "source": [
                "m_max = mbar\n",
                "# n_h = 5 # number of actions for h\n",
                "n_h = 8 # number of actions for h\n",
                "n_m = 35 # number of actions for m\n",
                "# n_m = 5 # number of actions for m\n",
                "n_a = n_h*n_m # number of combinations of actions\n",
                "# n_g = 24 # number of subgradients\n",
                "n_g = 48 # number of subgradients\n",
                "\n",
                "x = (h,m) -> m.*(h .- 1) # tax from government budget constraint\n",
                "u = (h,m) -> uc.(f.(h, m)) .+ v(m) #total utility after market clearing\n",
                "D(f) = x -> ForwardDiff.derivative(f, x) # returns derivative of f\n",
                "uc_p = D(uc)\n",
                "v_p = D(v)\n",
                "Euler = (h,m) -> m.*uc_p.(f.(h, m)).-v_p.(m) # left hand side of the Euler equation\n",
                "Θ = (h,m) -> uc_p.(f.(h, m)) .* (m .*h) # promised utility\n",
                "\n",
                "# grids\n",
                "A_h = range(h_min,h_max, length = n_h)\n",
                "A_m = range(m_min,m_max, length = n_m)\n",
                "A = gridmake(A_h,A_m)\n",
                "\n",
                "# Precompute utility and output vectors\n",
                "Euler_vec = Euler(A[:,1],A[:,2])\n",
                "f_vec = f(A[:,1],A[:,2])\n",
                "u_vec = u(A[:,1],A[:,2])\n",
                "Θ_vec = Θ(A[:,1],A[:,2])\n",
                "\n",
                "# initial space as in Chang (1998)\n",
                "# w_space = [maximum([u(h_min,0)/(1-β), u(h_max,0)/(1-β)]), u(1,m_max)/(1-β)]\n",
                "# θ_space = [0, Θ(h_max,m_max)]\n",
                "\n",
                "# initial space as in LS\n",
                "p_vec = Θ_vec\n",
                "w_vec = u_vec./(1-β)\n",
                "w_space = [minimum(w_vec) maximum(w_vec)]\n",
                "θ_space = [0 maximum((Θ_vec)./(1-β))]\n"
            ]
        },
        {
            "cell_type": "code",
            "execution_count": 32,
            "metadata": {
                "scrolled": true
            },
            "outputs": [
                {
                    "data": {
                        "text/plain": [
                            "initialize (generic function with 1 method)"
                        ]
                    },
                    "execution_count": 32,
                    "metadata": {},
                    "output_type": "execute_result"
                }
            ],
            "source": [
                "function initialize()\n",
                "\n",
                "    # center and radius\n",
                "    cen = [(w_space[2]+w_space[1])/2 (θ_space[2]+θ_space[1])/2]\n",
                "    r1 = maximum([(w_space[2]- cen[1])^2, (cen[1] - w_space[1])^2])\n",
                "    r2 = maximum([(θ_space[2]- cen[2])^2, (cen[2] - θ_space[1])^2])\n",
                "    rad = sqrt(r1 + r2)\n",
                "    degree = range(0, 2π, length=n_g)\n",
                "    H = [cos.(degree) sin.(degree)]\n",
                "    Z = cen .+ rad .* H\n",
                "    C = Z .* H * [1,1] # hyperplane level\n",
                "    return (C, H, Z)\n",
                "end"
            ]
        },
        {
            "cell_type": "code",
            "execution_count": 33,
            "metadata": {},
            "outputs": [
                {
                    "data": {
                        "text/plain": [
                            "([26.452626668543168, 26.29470053708557, 25.677592360886464, 24.612314449969674, 23.117876713892418, 21.220947429458878, 18.955377344688866, 16.361595611417446, 13.485888326122687, 10.37957255343743  …  9.356348199225152, 12.524320422387305, 15.47884336018107, 18.167193480787613, 20.541397112616497, 22.5590865356118, 24.184256034220223, 25.387904420238122, 26.14855255970204, 26.452626668543168], [1.0 0.0; 0.9910774881547801 0.13328695537377883; … ; 0.99107748815478 -0.13328695537377913; 1.0 -2.4492935982947064e-16], [26.452626668543168 0.5482456140350878; 26.447602913905268 0.6232918534624999; … ; 26.447602913905268 0.47319937460767536; 26.452626668543168 0.5482456140350876])"
                        ]
                    },
                    "execution_count": 33,
                    "metadata": {},
                    "output_type": "execute_result"
                }
            ],
            "source": [
                "# Initial hyperplane levels, subgradients, and verticies\n",
                "c0, H, z0 = initialize()\n",
                "# gr() # GR backend\n",
                "# scatter(z0[:,1], z0[:,2], legend = false)"
            ]
        },
        {
            "cell_type": "code",
            "execution_count": 34,
            "metadata": {},
            "outputs": [
                {
                    "data": {
                        "text/plain": [
                            "([25.7613507911023 26.01781726304005], [0.0 1.0964912280701755])"
                        ]
                    },
                    "execution_count": 34,
                    "metadata": {},
                    "output_type": "execute_result"
                }
            ],
            "source": [
                "c0_c, z0_c = c0_s, z0_s = copy(c0), copy(z0)\n",
                "w_space_c, θ_space_c = w_space_s, θ_space_s = copy(w_space), copy(θ_space)"
            ]
        },
        {
            "cell_type": "code",
            "execution_count": 35,
            "metadata": {},
            "outputs": [
                {
                    "data": {
                        "text/plain": [
                            "outer_competitive (generic function with 1 method)"
                        ]
                    },
                    "execution_count": 35,
                    "metadata": {},
                    "output_type": "execute_result"
                }
            ],
            "source": [
                "## Outer apporximaiton\n",
                "# for competitive equilibria\n",
                "function outer_competitive(c0_c,z0_c,w_space_c,θ_space_c)\n",
                "\n",
                "   # c1_c, z1_c = SharedArray{Float64}(n_g), SharedArray{Float64}(n_g,2) # to be shared by workers\n",
                "    c1_c, z1_c = copy(c0_c), copy(z0_c)\n",
                "\n",
                " @sync @distributed for i in 1:n_g\n",
                "        c_action = -Inf*ones(n_a,1) # levels\n",
                "        wp_action = zeros(n_a,2) # values\n",
                "        for j in 1:n_a\n",
                "            if !(f_vec[j]>0)\n",
                "                break # nonpositive consumption\n",
                "            end\n",
                "#             m = Model(with_optimizer(Gurobi.Optimizer, GUROBI_ENV, Presolve=0, OutputFlag=0))\n",
                "            m = Model(optimizer_with_attributes(() -> Gurobi.Optimizer(GUROBI_ENV), \"Presolve\" => 0, \"OutputFlag\" => 0))            \n",
                "            @variable(m, w_space_c[1] <= w <=w_space_c[2])\n",
                "            @variable(m, θ_space_c[1] <= θ <= θ_space_c[2])\n",
                "            @objective(m, Max, dot(H[i,:],[w, θ]))\n",
                "            # @objective(m, Max, dot(H[i,:],[u_vec[j,1]+β*w, Θ_vec[j,1]]))\n",
                "            @constraint(m, constraint1, H*[w, θ] .<= c0_c)\n",
                "            if A[j,2] == mbar\n",
                "                @constraint(m, constraint2, Euler_vec[j] <= β*θ )\n",
                "            else # m < mbar, then adding one equality constraint\n",
                "                @constraint(m, constraint2, Euler_vec[j] == β*θ )\n",
                "            end\n",
                "            optimize!(m)\n",
                "            if termination_status(m) == MOI.OPTIMAL\n",
                "                c_action[j,1] = dot(H[i,:],[u_vec[j,1]+β*value(w), Θ_vec[j,1]]) # actual hyperplane level\n",
                "                #c_action[j,1] = objective_value(m)\n",
                "                wp_action[j,:] = [value(w) value(θ)]\n",
                "            end\n",
                "        end\n",
                "        c1_c[i], idx = findmax(c_action) # the maximum\n",
                "        z1_c[i,:] = [u_vec[idx]+β*wp_action[idx] Θ_vec[idx]] #taking into account other constraints\n",
                "    end\n",
                "    return c1_c, z1_c\n",
                "end"
            ]
        },
        {
            "cell_type": "code",
            "execution_count": 36,
            "metadata": {},
            "outputs": [
                {
                    "data": {
                        "text/plain": [
                            "worst_spe (generic function with 1 method)"
                        ]
                    },
                    "execution_count": 36,
                    "metadata": {},
                    "output_type": "execute_result"
                }
            ],
            "source": [
                "function worst_spe(w_space_s,θ_space_s)\n",
                "\n",
                "    P_vec = SharedArray{Float64}(n_a)\n",
                "#     P_vec = fill(missing,n_a)\n",
                "\n",
                " @sync @distributed for j in 1:n_a\n",
                "    if !(f_vec[j]>0) \n",
                "        break # nonpositive consumption\n",
                "    end\n",
                "#     m = Model(with_optimizer(Gurobi.Optimizer, GUROBI_ENV, Presolve=0, OutputFlag=0))\n",
                "    m = Model(optimizer_with_attributes(() -> Gurobi.Optimizer(GUROBI_ENV), \"Presolve\" => 0, \"OutputFlag\" => 0))        \n",
                "    @variable(m, w_space_s[1] <= w <=w_space_s[2])\n",
                "    @variable(m, θ_space_s[1] <= θ <= θ_space_s[2])\n",
                "    @objective(m, Min, u_vec[j,1] + β * w)\n",
                "    @constraint(m, constraint1, H*[w, θ] .<= c0_s)\n",
                "    if A[j,2] == mbar\n",
                "    # m = mbar, then adding one more inequality constraint\n",
                "        @constraint(m, constraint2, Euler_vec[j] <= β*θ)\n",
                "    else # m < mbar, then adding one equality constraint\n",
                "       @constraint(m, constraint2, Euler_vec[j] == β*θ)\n",
                "    end\n",
                "    optimize!(m)\n",
                "    if termination_status(m) == MOI.OPTIMAL\n",
                "       P_vec[j] = objective_value(m)\n",
                "    end\n",
                "    end\n",
                "# Max over h and min over other variables\n",
                "BR = maximum(minimum(reshape(P_vec,n_h, n_m), dims=1))\n",
                "    return BR\n",
                "end"
            ]
        },
        {
            "cell_type": "code",
            "execution_count": 37,
            "metadata": {},
            "outputs": [
                {
                    "data": {
                        "text/plain": [
                            "outer_sustainable (generic function with 1 method)"
                        ]
                    },
                    "execution_count": 37,
                    "metadata": {},
                    "output_type": "execute_result"
                }
            ],
            "source": [
                "# for sustainable plans\n",
                "function outer_sustainable(BR,c0_s,z0_s,w_space_s,θ_space_s)\n",
                "\n",
                "    # c1_s, z1_s = SharedArray{Float64}(n_g), SharedArray{Float64}(n_g,2) # to be shared by workers\n",
                "    c1_s, z1_s = copy(c0_s), copy(z0_s)\n",
                "\n",
                " @sync @distributed for i in 1:n_g\n",
                "        c_action = -Inf*ones(n_a,1) # levels\n",
                "        wp_action = zeros(n_a,2) # values\n",
                "        for j in 1:n_a\n",
                "            if !(f_vec[j]>0)\n",
                "                break # nonpositive consumption\n",
                "            end\n",
                "#             m = Model(with_optimizer(Gurobi.Optimizer, GUROBI_ENV, Presolve=0, OutputFlag=0))\n",
                "            m = Model(optimizer_with_attributes(() -> Gurobi.Optimizer(GUROBI_ENV), \"Presolve\" => 0, \"OutputFlag\" => 0))\n",
                "            @variable(m, w_space_s[1] <= w <=w_space_s[2])\n",
                "            @variable(m, θ_space_s[1] <= θ <= θ_space_s[2])\n",
                "            #@objective(m, Min, u_vec[j,1] + β * w)\n",
                "            @objective(m, Max, dot(H[i,:],[w, θ]))\n",
                "            @constraint(m, constraint1, H*[w, θ] .<= c0_s)\n",
                "            @constraint(m, constraint3, BR <= u_vec[j]+β*w)\n",
                "            if A[j,2] == mbar\n",
                "                @constraint(m, constraint2, Euler_vec[j] <= β*θ )\n",
                "            else # m < mbar, then adding one equality constraint\n",
                "                @constraint(m, constraint2, Euler_vec[j] == β*θ )\n",
                "            end\n",
                "            optimize!(m)\n",
                "            if termination_status(m) == MOI.OPTIMAL\n",
                "                c_action[j,1] = dot(H[i,:],[u_vec[j,1]+β*value(w), Θ_vec[j,1]]) # actual hyperplane level\n",
                "                wp_action[j,:] = [value(w) value(θ)]\n",
                "            end\n",
                "        end\n",
                "        c1_s[i], idx = findmax(c_action) # the maximum\n",
                "        z1_s[i,:] = [u_vec[idx]+β*wp_action[idx] Θ_vec[idx]] #taking into account other constraints\n",
                "    end\n",
                "    return c1_s, z1_s\n",
                "end"
            ]
        },
        {
            "cell_type": "code",
            "execution_count": 38,
            "metadata": {},
            "outputs": [
                {
                    "data": {
                        "text/plain": [
                            "ChangModel (generic function with 1 method)"
                        ]
                    },
                    "execution_count": 38,
                    "metadata": {},
                    "output_type": "execute_result"
                }
            ],
            "source": [
                "function ChangModel(c0_c,z0_c,c0_s,z0_s,w_space_c,θ_space_c,w_space_s,θ_space_s;\n",
                "    # tol = 1e-3,\n",
                "    tol = 1e-5,\n",
                "    # tol = 1e-9,\n",
                "    max_iter = 250,\n",
                "    diff = tol + 1,\n",
                "    diff_z = tol + 1)\n",
                "\n",
                "     c1_c, z1_c = copy(c0_c), copy(z0_c)\n",
                "\n",
                "     c1_s, z1_s = copy(c0_s), copy(z0_s)\n",
                " for iters in 1:max_iter\n",
                "        c1_c, z1_c = outer_competitive(c0_c,z0_c,w_space_c,θ_space_c)\n",
                "\n",
                "        BR = worst_spe(w_space_s,θ_space_s)\n",
                "        c1_s, z1_s =  outer_sustainable(BR,c0_s,z0_s,w_space_s,θ_space_s)\n",
                "\n",
                "        # difference in hyplerplane levels\n",
                "        diff = minimum([maximum(abs.(c0_c - c1_c)), maximum(abs.(c0_s - c1_s))]) # sooner\n",
                "        # diff = maximum([maximum(abs.(c0_c - c1_c)), maximum(abs.(c0_s - c1_s))]) # later\n",
                "        # difference in extreme points\n",
                "        diff_z = maximum([maximum(abs.(z1_c-z0_c)./(1 .+ abs.(z0_c))), maximum(abs.(z1_s-z0_s)./(1 .+ abs.(z0_s)))])\n",
                "        # diff_z = minimum([maximum(abs.(z1_c-z0_c)./(1 .+ abs.(z0_c))), maximum(abs.(z1_s-z0_s)./(1 .+ abs.(z0_s)))])\n",
                "\n",
                "        # print results\n",
                "        if mod(iters,1) == 0\n",
                "            println(\"iteration #$iters: difference is $diff, $diff_z\")\n",
                "        end\n",
                "\n",
                "        # break\n",
                "        if  diff < tol || diff_z < tol\n",
                "            break\n",
                "        end\n",
                "\n",
                "        # update\n",
                "        c0_c, z0_c = copy(c1_c), copy(z1_c)\n",
                "        c0_s, z0_s = copy(c1_s), copy(z1_s)\n",
                "        w_space_c = [minimum(z1_c[:,1]), maximum(z1_c[:,1])]\n",
                "        θ_space_c = [minimum(z1_c[:,2]), maximum(z1_c[:,2])]\n",
                "        w_space_s = [minimum(z1_s[:,1]), maximum(z1_s[:,1])]\n",
                "        θ_space_s = [minimum(z1_s[:,2]), maximum(z1_s[:,2])]\n",
                "end\n",
                "    return  c1_c, z1_c, c1_s, z1_s\n",
                "end\n"
            ]
        },
        {
            "cell_type": "code",
            "execution_count": 39,
            "metadata": {
                "scrolled": true
            },
            "outputs": [
                {
                    "name": "stdout",
                    "output_type": "stream",
                    "text": [
                        "iteration #1: difference is 0.8875214031201635, 0.42240011359321034\n",
                        "iteration #2: difference is 0.032800710280348255, 0.21394257951742784\n",
                        "iteration #3: difference is 0.02481438979947015, 0.025974025973133953\n",
                        "iteration #4: difference is 0.018337328847962908, 0.2086335368312195\n",
                        "iteration #5: difference is 0.012960231968328628, 0.0833712515121931\n",
                        "iteration #6: difference is 0.010083575992304361, 0.1156226779547478\n",
                        "iteration #7: difference is 0.007022416525877873, 0.04378387441913222\n",
                        "iteration #8: difference is 0.005324000273006391, 0.02947735788276953\n",
                        "iteration #9: difference is 0.004259200218410086, 0.012316543242811333\n",
                        "iteration #10: difference is 0.0034230415209854925, 0.013014129135273236\n",
                        "iteration #11: difference is 0.002848704186252604, 0.012858146226508072\n",
                        "iteration #12: difference is 0.002278963349002794, 0.006529787797708546\n",
                        "iteration #13: difference is 0.0018231706792057878, 0.005481485072661978\n",
                        "iteration #14: difference is 0.0014824344337327489, 0.005497953657707505\n",
                        "iteration #15: difference is 0.0012518283384181927, 0.005515484535854002\n",
                        "iteration #16: difference is 0.0010979367206864765, 0.005334949219475804\n",
                        "iteration #17: difference is 0.0008807608432555014, 0.005553794006251393\n",
                        "iteration #18: difference is 0.0007371913408036335, 0.004337082332939675\n",
                        "iteration #19: difference is 0.0005897530726457489, 0.0026534393301004093\n",
                        "iteration #20: difference is 0.000484818807262144, 0.005574605143283524\n",
                        "iteration #21: difference is 0.00039134684265107467, 0.005840327837549827\n",
                        "iteration #22: difference is 0.00031307747411801756, 0.003442791773777823\n",
                        "iteration #23: difference is 0.0002504619792951246, 0.004336362016986978\n",
                        "iteration #24: difference is 0.00020036958343538913, 1.8897333062824806e-5\n",
                        "iteration #25: difference is 0.00016029566674902185, 0.005860916064951887\n",
                        "iteration #26: difference is 0.0001282365334027702, 0.00476190476172487\n",
                        "iteration #27: difference is 0.00010258922671724235, 0.0035138108957611055\n",
                        "iteration #28: difference is 8.207138137450443e-5, 1.1961961775710869e-5\n",
                        "iteration #29: difference is 6.565710510031408e-5, 9.56968389270897e-6\n",
                        "645.944166 seconds (2.71 G allocations: 163.045 GiB, 5.43% gc time)\n"
                    ]
                },
                {
                    "data": {
                        "text/plain": [
                            "([25.99322399897939, 25.765641368263367, 25.07940813404647, 23.947190907987306, 22.389149479160512, 20.43395924547124, 18.11708834284791, 15.481067577196495, 12.576622807535685, 9.463617219477053  …  9.332233840087929, 12.481859747195758, 15.408746571414113, 18.060663948025617, 20.390288348619535, 22.356145402825472, 23.923650804164403, 25.064272524359517, 25.758198687565557, 25.99322399897939], [25.99322399897939 0.02941176471045752; 25.992759414282887 0.036032466424797176; … ; 25.992469184968932 0.01764901304391933; 25.99322399897939 0.02941176471045752], [25.99267644953289, 25.764635751165663, 25.0778740533394, 23.944617047247643, 22.384627523873668, 20.425338766025902, 18.10155935401314, 15.454757186494119, 12.532164510852109, 9.385935062621453  …  9.332196389713674, 12.481809670464113, 15.40868476194554, 18.060591508811548, 20.390206572339462, 22.355985877475025, 23.92348010829476, 25.064059269824206, 25.757840271395445, 25.99267644953289], [25.99267644953289 0.02450980392630719; 25.99223850751157 0.032361003438417774; … ; 25.992107542035463 0.01764901304391933; 25.99267644953289 0.02450980392630719])"
                        ]
                    },
                    "execution_count": 39,
                    "metadata": {},
                    "output_type": "execute_result"
                }
            ],
            "source": [
                "# Results\n",
                "@time c1_c, z1_c, c1_s, z1_s = ChangModel(c0_c,z0_c,c0_s,z0_s,w_space_c,θ_space_c,w_space_s,θ_space_s)"
            ]
        },
        {
            "cell_type": "code",
            "execution_count": 40,
            "metadata": {
                "scrolled": true
            },
            "outputs": [
                {
                    "data": {
                        "text/plain": [
                            "10-element Array{Array{Float64,1},1}:\n",
                            " [25.98672764970181, 0.008823773673181524]\n",
                            " [25.9883933240489, 0.008823773673181524]\n",
                            " [25.99103925748768, 0.013236118517131395]\n",
                            " [25.992107542035463, 0.01764901304391933]\n",
                            " [25.99267644953289, 0.02450980392630719]\n",
                            " [25.99223850751157, 0.032361003438417774]\n",
                            " [25.990919547828792, 0.03949091493037129]\n",
                            " [25.988395294156188, 0.04714234214760601]\n",
                            " [25.98737323452967, 0.04915567893202606]\n",
                            " [25.98672764970181, 0.04915567893202606]"
                        ]
                    },
                    "execution_count": 40,
                    "metadata": {},
                    "output_type": "execute_result"
                }
            ],
            "source": [
                "v_c, v_s = fill(Float64[], n_g), fill(Float64[], n_g)\n",
                "for i in 1:n_g\n",
                "    v_c[i] = z1_c[i,:]\n",
                "    v_s[i] = z1_s[i,:]\n",
                "end\n",
                "hull_c = convex_hull(v_c)\n",
                "hull_s = convex_hull(v_s)"
            ]
        },
        {
            "cell_type": "code",
            "execution_count": 41,
            "metadata": {
                "scrolled": false
            },
            "outputs": [
                {
                    "data": {
                        "image/svg+xml": [
                            "<?xml version=\"1.0\" encoding=\"utf-8\"?>\n",
                            "<svg xmlns=\"http://www.w3.org/2000/svg\" xmlns:xlink=\"http://www.w3.org/1999/xlink\" width=\"600\" height=\"400\" viewBox=\"0 0 2400 1600\">\n",
                            "<defs>\n",
                            "  <clipPath id=\"clip700\">\n",
                            "    <rect x=\"0\" y=\"0\" width=\"2400\" height=\"1600\"/>\n",
                            "  </clipPath>\n",
                            "</defs>\n",
                            "<path clip-path=\"url(#clip700)\" d=\"\n",
                            "M0 1600 L2400 1600 L2400 0 L0 0  Z\n",
                            "  \" fill=\"#ffffff\" fill-rule=\"evenodd\" fill-opacity=\"1\"/>\n",
                            "<defs>\n",
                            "  <clipPath id=\"clip701\">\n",
                            "    <rect x=\"480\" y=\"0\" width=\"1681\" height=\"1600\"/>\n",
                            "  </clipPath>\n",
                            "</defs>\n",
                            "<path clip-path=\"url(#clip700)\" d=\"\n",
                            "M237.135 1423.18 L2352.76 1423.18 L2352.76 47.2441 L237.135 47.2441  Z\n",
                            "  \" fill=\"#ffffff\" fill-rule=\"evenodd\" fill-opacity=\"1\"/>\n",
                            "<defs>\n",
                            "  <clipPath id=\"clip702\">\n",
                            "    <rect x=\"237\" y=\"47\" width=\"2117\" height=\"1377\"/>\n",
                            "  </clipPath>\n",
                            "</defs>\n",
                            "<polyline clip-path=\"url(#clip702)\" style=\"stroke:#000000; stroke-width:2; stroke-opacity:0.1; fill:none\" points=\"\n",
                            "  629.687,1423.18 629.687,47.2441 \n",
                            "  \"/>\n",
                            "<polyline clip-path=\"url(#clip702)\" style=\"stroke:#000000; stroke-width:2; stroke-opacity:0.1; fill:none\" points=\"\n",
                            "  1060.07,1423.18 1060.07,47.2441 \n",
                            "  \"/>\n",
                            "<polyline clip-path=\"url(#clip702)\" style=\"stroke:#000000; stroke-width:2; stroke-opacity:0.1; fill:none\" points=\"\n",
                            "  1490.45,1423.18 1490.45,47.2441 \n",
                            "  \"/>\n",
                            "<polyline clip-path=\"url(#clip702)\" style=\"stroke:#000000; stroke-width:2; stroke-opacity:0.1; fill:none\" points=\"\n",
                            "  1920.83,1423.18 1920.83,47.2441 \n",
                            "  \"/>\n",
                            "<polyline clip-path=\"url(#clip702)\" style=\"stroke:#000000; stroke-width:2; stroke-opacity:0.1; fill:none\" points=\"\n",
                            "  2351.2,1423.18 2351.2,47.2441 \n",
                            "  \"/>\n",
                            "<polyline clip-path=\"url(#clip702)\" style=\"stroke:#000000; stroke-width:2; stroke-opacity:0.1; fill:none\" points=\"\n",
                            "  237.135,1130.29 2352.76,1130.29 \n",
                            "  \"/>\n",
                            "<polyline clip-path=\"url(#clip702)\" style=\"stroke:#000000; stroke-width:2; stroke-opacity:0.1; fill:none\" points=\"\n",
                            "  237.135,821.93 2352.76,821.93 \n",
                            "  \"/>\n",
                            "<polyline clip-path=\"url(#clip702)\" style=\"stroke:#000000; stroke-width:2; stroke-opacity:0.1; fill:none\" points=\"\n",
                            "  237.135,513.567 2352.76,513.567 \n",
                            "  \"/>\n",
                            "<polyline clip-path=\"url(#clip702)\" style=\"stroke:#000000; stroke-width:2; stroke-opacity:0.1; fill:none\" points=\"\n",
                            "  237.135,205.203 2352.76,205.203 \n",
                            "  \"/>\n",
                            "<polyline clip-path=\"url(#clip700)\" style=\"stroke:#000000; stroke-width:4; stroke-opacity:1; fill:none\" points=\"\n",
                            "  237.135,1423.18 2352.76,1423.18 \n",
                            "  \"/>\n",
                            "<polyline clip-path=\"url(#clip700)\" style=\"stroke:#000000; stroke-width:4; stroke-opacity:1; fill:none\" points=\"\n",
                            "  237.135,1423.18 237.135,47.2441 \n",
                            "  \"/>\n",
                            "<polyline clip-path=\"url(#clip700)\" style=\"stroke:#000000; stroke-width:4; stroke-opacity:1; fill:none\" points=\"\n",
                            "  629.687,1423.18 629.687,1406.67 \n",
                            "  \"/>\n",
                            "<polyline clip-path=\"url(#clip700)\" style=\"stroke:#000000; stroke-width:4; stroke-opacity:1; fill:none\" points=\"\n",
                            "  1060.07,1423.18 1060.07,1406.67 \n",
                            "  \"/>\n",
                            "<polyline clip-path=\"url(#clip700)\" style=\"stroke:#000000; stroke-width:4; stroke-opacity:1; fill:none\" points=\"\n",
                            "  1490.45,1423.18 1490.45,1406.67 \n",
                            "  \"/>\n",
                            "<polyline clip-path=\"url(#clip700)\" style=\"stroke:#000000; stroke-width:4; stroke-opacity:1; fill:none\" points=\"\n",
                            "  1920.83,1423.18 1920.83,1406.67 \n",
                            "  \"/>\n",
                            "<polyline clip-path=\"url(#clip700)\" style=\"stroke:#000000; stroke-width:4; stroke-opacity:1; fill:none\" points=\"\n",
                            "  2351.2,1423.18 2351.2,1406.67 \n",
                            "  \"/>\n",
                            "<polyline clip-path=\"url(#clip700)\" style=\"stroke:#000000; stroke-width:4; stroke-opacity:1; fill:none\" points=\"\n",
                            "  237.135,1130.29 262.522,1130.29 \n",
                            "  \"/>\n",
                            "<polyline clip-path=\"url(#clip700)\" style=\"stroke:#000000; stroke-width:4; stroke-opacity:1; fill:none\" points=\"\n",
                            "  237.135,821.93 262.522,821.93 \n",
                            "  \"/>\n",
                            "<polyline clip-path=\"url(#clip700)\" style=\"stroke:#000000; stroke-width:4; stroke-opacity:1; fill:none\" points=\"\n",
                            "  237.135,513.567 262.522,513.567 \n",
                            "  \"/>\n",
                            "<polyline clip-path=\"url(#clip700)\" style=\"stroke:#000000; stroke-width:4; stroke-opacity:1; fill:none\" points=\"\n",
                            "  237.135,205.203 262.522,205.203 \n",
                            "  \"/>\n",
                            "<path clip-path=\"url(#clip700)\" d=\"M 0 0 M579.387 1472.72 L595.706 1472.72 L595.706 1476.65 L573.762 1476.65 L573.762 1472.72 Q576.424 1469.96 581.007 1465.33 Q585.613 1460.68 586.794 1459.34 Q589.039 1456.81 589.919 1455.08 Q590.822 1453.32 590.822 1451.63 Q590.822 1448.87 588.877 1447.14 Q586.956 1445.4 583.854 1445.4 Q581.655 1445.4 579.201 1446.17 Q576.771 1446.93 573.993 1448.48 L573.993 1443.76 Q576.817 1442.62 579.271 1442.05 Q581.725 1441.47 583.762 1441.47 Q589.132 1441.47 592.326 1444.15 Q595.521 1446.84 595.521 1451.33 Q595.521 1453.46 594.711 1455.38 Q593.924 1457.28 591.817 1459.87 Q591.238 1460.54 588.137 1463.76 Q585.035 1466.95 579.387 1472.72 Z\" fill=\"#000000\" fill-rule=\"evenodd\" fill-opacity=\"1\" /><path clip-path=\"url(#clip700)\" d=\"M 0 0 M600.822 1442.09 L619.178 1442.09 L619.178 1446.03 L605.104 1446.03 L605.104 1454.5 Q606.123 1454.15 607.141 1453.99 Q608.16 1453.8 609.178 1453.8 Q614.965 1453.8 618.345 1456.98 Q621.724 1460.15 621.724 1465.56 Q621.724 1471.14 618.252 1474.24 Q614.78 1477.32 608.46 1477.32 Q606.285 1477.32 604.016 1476.95 Q601.771 1476.58 599.363 1475.84 L599.363 1471.14 Q601.447 1472.28 603.669 1472.83 Q605.891 1473.39 608.368 1473.39 Q612.373 1473.39 614.71 1471.28 Q617.048 1469.18 617.048 1465.56 Q617.048 1461.95 614.71 1459.85 Q612.373 1457.74 608.368 1457.74 Q606.493 1457.74 604.618 1458.16 Q602.766 1458.57 600.822 1459.45 L600.822 1442.09 Z\" fill=\"#000000\" fill-rule=\"evenodd\" fill-opacity=\"1\" /><path clip-path=\"url(#clip700)\" d=\"M 0 0 M626.794 1470.77 L631.678 1470.77 L631.678 1476.65 L626.794 1476.65 L626.794 1470.77 Z\" fill=\"#000000\" fill-rule=\"evenodd\" fill-opacity=\"1\" /><path clip-path=\"url(#clip700)\" d=\"M 0 0 M646.747 1460.24 Q643.414 1460.24 641.493 1462.02 Q639.595 1463.8 639.595 1466.93 Q639.595 1470.05 641.493 1471.84 Q643.414 1473.62 646.747 1473.62 Q650.081 1473.62 652.002 1471.84 Q653.923 1470.03 653.923 1466.93 Q653.923 1463.8 652.002 1462.02 Q650.104 1460.24 646.747 1460.24 M642.071 1458.25 Q639.062 1457.51 637.372 1455.45 Q635.706 1453.39 635.706 1450.43 Q635.706 1446.28 638.646 1443.87 Q641.608 1441.47 646.747 1441.47 Q651.909 1441.47 654.849 1443.87 Q657.789 1446.28 657.789 1450.43 Q657.789 1453.39 656.099 1455.45 Q654.432 1457.51 651.446 1458.25 Q654.826 1459.04 656.701 1461.33 Q658.599 1463.62 658.599 1466.93 Q658.599 1471.95 655.52 1474.64 Q652.465 1477.32 646.747 1477.32 Q641.03 1477.32 637.951 1474.64 Q634.896 1471.95 634.896 1466.93 Q634.896 1463.62 636.794 1461.33 Q638.692 1459.04 642.071 1458.25 M640.358 1450.86 Q640.358 1453.55 642.025 1455.05 Q643.715 1456.56 646.747 1456.56 Q649.757 1456.56 651.446 1455.05 Q653.159 1453.55 653.159 1450.86 Q653.159 1448.18 651.446 1446.68 Q649.757 1445.17 646.747 1445.17 Q643.715 1445.17 642.025 1446.68 Q640.358 1448.18 640.358 1450.86 Z\" fill=\"#000000\" fill-rule=\"evenodd\" fill-opacity=\"1\" /><path clip-path=\"url(#clip700)\" d=\"M 0 0 M673.668 1445.17 Q670.057 1445.17 668.229 1448.74 Q666.423 1452.28 666.423 1459.41 Q666.423 1466.51 668.229 1470.08 Q670.057 1473.62 673.668 1473.62 Q677.303 1473.62 679.108 1470.08 Q680.937 1466.51 680.937 1459.41 Q680.937 1452.28 679.108 1448.74 Q677.303 1445.17 673.668 1445.17 M673.668 1441.47 Q679.479 1441.47 682.534 1446.07 Q685.613 1450.66 685.613 1459.41 Q685.613 1468.13 682.534 1472.74 Q679.479 1477.32 673.668 1477.32 Q667.858 1477.32 664.78 1472.74 Q661.724 1468.13 661.724 1459.41 Q661.724 1450.66 664.78 1446.07 Q667.858 1441.47 673.668 1441.47 Z\" fill=\"#000000\" fill-rule=\"evenodd\" fill-opacity=\"1\" /><path clip-path=\"url(#clip700)\" d=\"M 0 0 M1010.26 1472.72 L1026.58 1472.72 L1026.58 1476.65 L1004.64 1476.65 L1004.64 1472.72 Q1007.3 1469.96 1011.88 1465.33 Q1016.49 1460.68 1017.67 1459.34 Q1019.92 1456.81 1020.8 1455.08 Q1021.7 1453.32 1021.7 1451.63 Q1021.7 1448.87 1019.75 1447.14 Q1017.83 1445.4 1014.73 1445.4 Q1012.53 1445.4 1010.08 1446.17 Q1007.65 1446.93 1004.87 1448.48 L1004.87 1443.76 Q1007.69 1442.62 1010.15 1442.05 Q1012.6 1441.47 1014.64 1441.47 Q1020.01 1441.47 1023.2 1444.15 Q1026.4 1446.84 1026.4 1451.33 Q1026.4 1453.46 1025.59 1455.38 Q1024.8 1457.28 1022.69 1459.87 Q1022.12 1460.54 1019.01 1463.76 Q1015.91 1466.95 1010.26 1472.72 Z\" fill=\"#000000\" fill-rule=\"evenodd\" fill-opacity=\"1\" /><path clip-path=\"url(#clip700)\" d=\"M 0 0 M1031.7 1442.09 L1050.06 1442.09 L1050.06 1446.03 L1035.98 1446.03 L1035.98 1454.5 Q1037 1454.15 1038.02 1453.99 Q1039.04 1453.8 1040.06 1453.8 Q1045.84 1453.8 1049.22 1456.98 Q1052.6 1460.15 1052.6 1465.56 Q1052.6 1471.14 1049.13 1474.24 Q1045.66 1477.32 1039.34 1477.32 Q1037.16 1477.32 1034.89 1476.95 Q1032.65 1476.58 1030.24 1475.84 L1030.24 1471.14 Q1032.32 1472.28 1034.55 1472.83 Q1036.77 1473.39 1039.24 1473.39 Q1043.25 1473.39 1045.59 1471.28 Q1047.93 1469.18 1047.93 1465.56 Q1047.93 1461.95 1045.59 1459.85 Q1043.25 1457.74 1039.24 1457.74 Q1037.37 1457.74 1035.5 1458.16 Q1033.64 1458.57 1031.7 1459.45 L1031.7 1442.09 Z\" fill=\"#000000\" fill-rule=\"evenodd\" fill-opacity=\"1\" /><path clip-path=\"url(#clip700)\" d=\"M 0 0 M1057.67 1470.77 L1062.56 1470.77 L1062.56 1476.65 L1057.67 1476.65 L1057.67 1470.77 Z\" fill=\"#000000\" fill-rule=\"evenodd\" fill-opacity=\"1\" /><path clip-path=\"url(#clip700)\" d=\"M 0 0 M1077.62 1460.24 Q1074.29 1460.24 1072.37 1462.02 Q1070.47 1463.8 1070.47 1466.93 Q1070.47 1470.05 1072.37 1471.84 Q1074.29 1473.62 1077.62 1473.62 Q1080.96 1473.62 1082.88 1471.84 Q1084.8 1470.03 1084.8 1466.93 Q1084.8 1463.8 1082.88 1462.02 Q1080.98 1460.24 1077.62 1460.24 M1072.95 1458.25 Q1069.94 1457.51 1068.25 1455.45 Q1066.58 1453.39 1066.58 1450.43 Q1066.58 1446.28 1069.52 1443.87 Q1072.49 1441.47 1077.62 1441.47 Q1082.79 1441.47 1085.73 1443.87 Q1088.67 1446.28 1088.67 1450.43 Q1088.67 1453.39 1086.98 1455.45 Q1085.31 1457.51 1082.32 1458.25 Q1085.7 1459.04 1087.58 1461.33 Q1089.48 1463.62 1089.48 1466.93 Q1089.48 1471.95 1086.4 1474.64 Q1083.34 1477.32 1077.62 1477.32 Q1071.91 1477.32 1068.83 1474.64 Q1065.77 1471.95 1065.77 1466.93 Q1065.77 1463.62 1067.67 1461.33 Q1069.57 1459.04 1072.95 1458.25 M1071.24 1450.86 Q1071.24 1453.55 1072.9 1455.05 Q1074.59 1456.56 1077.62 1456.56 Q1080.63 1456.56 1082.32 1455.05 Q1084.04 1453.55 1084.04 1450.86 Q1084.04 1448.18 1082.32 1446.68 Q1080.63 1445.17 1077.62 1445.17 Q1074.59 1445.17 1072.9 1446.68 Q1071.24 1448.18 1071.24 1450.86 Z\" fill=\"#000000\" fill-rule=\"evenodd\" fill-opacity=\"1\" /><path clip-path=\"url(#clip700)\" d=\"M 0 0 M1094.59 1442.09 L1112.95 1442.09 L1112.95 1446.03 L1098.87 1446.03 L1098.87 1454.5 Q1099.89 1454.15 1100.91 1453.99 Q1101.93 1453.8 1102.95 1453.8 Q1108.74 1453.8 1112.11 1456.98 Q1115.49 1460.15 1115.49 1465.56 Q1115.49 1471.14 1112.02 1474.24 Q1108.55 1477.32 1102.23 1477.32 Q1100.05 1477.32 1097.79 1476.95 Q1095.54 1476.58 1093.13 1475.84 L1093.13 1471.14 Q1095.22 1472.28 1097.44 1472.83 Q1099.66 1473.39 1102.14 1473.39 Q1106.14 1473.39 1108.48 1471.28 Q1110.82 1469.18 1110.82 1465.56 Q1110.82 1461.95 1108.48 1459.85 Q1106.14 1457.74 1102.14 1457.74 Q1100.26 1457.74 1098.39 1458.16 Q1096.54 1458.57 1094.59 1459.45 L1094.59 1442.09 Z\" fill=\"#000000\" fill-rule=\"evenodd\" fill-opacity=\"1\" /><path clip-path=\"url(#clip700)\" d=\"M 0 0 M1440.19 1472.72 L1456.51 1472.72 L1456.51 1476.65 L1434.57 1476.65 L1434.57 1472.72 Q1437.23 1469.96 1441.81 1465.33 Q1446.42 1460.68 1447.6 1459.34 Q1449.84 1456.81 1450.72 1455.08 Q1451.63 1453.32 1451.63 1451.63 Q1451.63 1448.87 1449.68 1447.14 Q1447.76 1445.4 1444.66 1445.4 Q1442.46 1445.4 1440.01 1446.17 Q1437.58 1446.93 1434.8 1448.48 L1434.8 1443.76 Q1437.62 1442.62 1440.08 1442.05 Q1442.53 1441.47 1444.57 1441.47 Q1449.94 1441.47 1453.13 1444.15 Q1456.33 1446.84 1456.33 1451.33 Q1456.33 1453.46 1455.52 1455.38 Q1454.73 1457.28 1452.62 1459.87 Q1452.04 1460.54 1448.94 1463.76 Q1445.84 1466.95 1440.19 1472.72 Z\" fill=\"#000000\" fill-rule=\"evenodd\" fill-opacity=\"1\" /><path clip-path=\"url(#clip700)\" d=\"M 0 0 M1461.63 1442.09 L1479.98 1442.09 L1479.98 1446.03 L1465.91 1446.03 L1465.91 1454.5 Q1466.93 1454.15 1467.95 1453.99 Q1468.96 1453.8 1469.98 1453.8 Q1475.77 1453.8 1479.15 1456.98 Q1482.53 1460.15 1482.53 1465.56 Q1482.53 1471.14 1479.06 1474.24 Q1475.59 1477.32 1469.27 1477.32 Q1467.09 1477.32 1464.82 1476.95 Q1462.58 1476.58 1460.17 1475.84 L1460.17 1471.14 Q1462.25 1472.28 1464.47 1472.83 Q1466.7 1473.39 1469.17 1473.39 Q1473.18 1473.39 1475.52 1471.28 Q1477.85 1469.18 1477.85 1465.56 Q1477.85 1461.95 1475.52 1459.85 Q1473.18 1457.74 1469.17 1457.74 Q1467.3 1457.74 1465.42 1458.16 Q1463.57 1458.57 1461.63 1459.45 L1461.63 1442.09 Z\" fill=\"#000000\" fill-rule=\"evenodd\" fill-opacity=\"1\" /><path clip-path=\"url(#clip700)\" d=\"M 0 0 M1487.6 1470.77 L1492.48 1470.77 L1492.48 1476.65 L1487.6 1476.65 L1487.6 1470.77 Z\" fill=\"#000000\" fill-rule=\"evenodd\" fill-opacity=\"1\" /><path clip-path=\"url(#clip700)\" d=\"M 0 0 M1497.69 1475.93 L1497.69 1471.68 Q1499.45 1472.51 1501.26 1472.95 Q1503.06 1473.39 1504.8 1473.39 Q1509.43 1473.39 1511.86 1470.29 Q1514.31 1467.16 1514.66 1460.82 Q1513.32 1462.81 1511.26 1463.87 Q1509.2 1464.94 1506.7 1464.94 Q1501.51 1464.94 1498.48 1461.81 Q1495.47 1458.67 1495.47 1453.23 Q1495.47 1447.9 1498.62 1444.68 Q1501.77 1441.47 1507 1441.47 Q1512.99 1441.47 1516.14 1446.07 Q1519.31 1450.66 1519.31 1459.41 Q1519.31 1467.58 1515.42 1472.46 Q1511.56 1477.32 1505.01 1477.32 Q1503.25 1477.32 1501.44 1476.98 Q1499.64 1476.63 1497.69 1475.93 M1507 1461.28 Q1510.15 1461.28 1511.97 1459.13 Q1513.83 1456.98 1513.83 1453.23 Q1513.83 1449.5 1511.97 1447.35 Q1510.15 1445.17 1507 1445.17 Q1503.85 1445.17 1502 1447.35 Q1500.17 1449.5 1500.17 1453.23 Q1500.17 1456.98 1502 1459.13 Q1503.85 1461.28 1507 1461.28 Z\" fill=\"#000000\" fill-rule=\"evenodd\" fill-opacity=\"1\" /><path clip-path=\"url(#clip700)\" d=\"M 0 0 M1534.38 1445.17 Q1530.77 1445.17 1528.94 1448.74 Q1527.14 1452.28 1527.14 1459.41 Q1527.14 1466.51 1528.94 1470.08 Q1530.77 1473.62 1534.38 1473.62 Q1538.02 1473.62 1539.82 1470.08 Q1541.65 1466.51 1541.65 1459.41 Q1541.65 1452.28 1539.82 1448.74 Q1538.02 1445.17 1534.38 1445.17 M1534.38 1441.47 Q1540.19 1441.47 1543.25 1446.07 Q1546.33 1450.66 1546.33 1459.41 Q1546.33 1468.13 1543.25 1472.74 Q1540.19 1477.32 1534.38 1477.32 Q1528.57 1477.32 1525.49 1472.74 Q1522.44 1468.13 1522.44 1459.41 Q1522.44 1450.66 1525.49 1446.07 Q1528.57 1441.47 1534.38 1441.47 Z\" fill=\"#000000\" fill-rule=\"evenodd\" fill-opacity=\"1\" /><path clip-path=\"url(#clip700)\" d=\"M 0 0 M1871.07 1472.72 L1887.39 1472.72 L1887.39 1476.65 L1865.44 1476.65 L1865.44 1472.72 Q1868.11 1469.96 1872.69 1465.33 Q1877.3 1460.68 1878.48 1459.34 Q1880.72 1456.81 1881.6 1455.08 Q1882.5 1453.32 1882.5 1451.63 Q1882.5 1448.87 1880.56 1447.14 Q1878.64 1445.4 1875.54 1445.4 Q1873.34 1445.4 1870.88 1446.17 Q1868.45 1446.93 1865.68 1448.48 L1865.68 1443.76 Q1868.5 1442.62 1870.95 1442.05 Q1873.41 1441.47 1875.44 1441.47 Q1880.81 1441.47 1884.01 1444.15 Q1887.2 1446.84 1887.2 1451.33 Q1887.2 1453.46 1886.39 1455.38 Q1885.61 1457.28 1883.5 1459.87 Q1882.92 1460.54 1879.82 1463.76 Q1876.72 1466.95 1871.07 1472.72 Z\" fill=\"#000000\" fill-rule=\"evenodd\" fill-opacity=\"1\" /><path clip-path=\"url(#clip700)\" d=\"M 0 0 M1892.5 1442.09 L1910.86 1442.09 L1910.86 1446.03 L1896.79 1446.03 L1896.79 1454.5 Q1897.8 1454.15 1898.82 1453.99 Q1899.84 1453.8 1900.86 1453.8 Q1906.65 1453.8 1910.03 1456.98 Q1913.41 1460.15 1913.41 1465.56 Q1913.41 1471.14 1909.93 1474.24 Q1906.46 1477.32 1900.14 1477.32 Q1897.97 1477.32 1895.7 1476.95 Q1893.45 1476.58 1891.05 1475.84 L1891.05 1471.14 Q1893.13 1472.28 1895.35 1472.83 Q1897.57 1473.39 1900.05 1473.39 Q1904.05 1473.39 1906.39 1471.28 Q1908.73 1469.18 1908.73 1465.56 Q1908.73 1461.95 1906.39 1459.85 Q1904.05 1457.74 1900.05 1457.74 Q1898.18 1457.74 1896.3 1458.16 Q1894.45 1458.57 1892.5 1459.45 L1892.5 1442.09 Z\" fill=\"#000000\" fill-rule=\"evenodd\" fill-opacity=\"1\" /><path clip-path=\"url(#clip700)\" d=\"M 0 0 M1918.48 1470.77 L1923.36 1470.77 L1923.36 1476.65 L1918.48 1476.65 L1918.48 1470.77 Z\" fill=\"#000000\" fill-rule=\"evenodd\" fill-opacity=\"1\" /><path clip-path=\"url(#clip700)\" d=\"M 0 0 M1928.57 1475.93 L1928.57 1471.68 Q1930.33 1472.51 1932.13 1472.95 Q1933.94 1473.39 1935.67 1473.39 Q1940.3 1473.39 1942.74 1470.29 Q1945.19 1467.16 1945.54 1460.82 Q1944.19 1462.81 1942.13 1463.87 Q1940.07 1464.94 1937.57 1464.94 Q1932.39 1464.94 1929.36 1461.81 Q1926.35 1458.67 1926.35 1453.23 Q1926.35 1447.9 1929.49 1444.68 Q1932.64 1441.47 1937.87 1441.47 Q1943.87 1441.47 1947.02 1446.07 Q1950.19 1450.66 1950.19 1459.41 Q1950.19 1467.58 1946.3 1472.46 Q1942.43 1477.32 1935.88 1477.32 Q1934.12 1477.32 1932.32 1476.98 Q1930.51 1476.63 1928.57 1475.93 M1937.87 1461.28 Q1941.02 1461.28 1942.85 1459.13 Q1944.7 1456.98 1944.7 1453.23 Q1944.7 1449.5 1942.85 1447.35 Q1941.02 1445.17 1937.87 1445.17 Q1934.73 1445.17 1932.87 1447.35 Q1931.05 1449.5 1931.05 1453.23 Q1931.05 1456.98 1932.87 1459.13 Q1934.73 1461.28 1937.87 1461.28 Z\" fill=\"#000000\" fill-rule=\"evenodd\" fill-opacity=\"1\" /><path clip-path=\"url(#clip700)\" d=\"M 0 0 M1955.3 1442.09 L1973.66 1442.09 L1973.66 1446.03 L1959.59 1446.03 L1959.59 1454.5 Q1960.61 1454.15 1961.62 1453.99 Q1962.64 1453.8 1963.66 1453.8 Q1969.45 1453.8 1972.83 1456.98 Q1976.21 1460.15 1976.21 1465.56 Q1976.21 1471.14 1972.73 1474.24 Q1969.26 1477.32 1962.94 1477.32 Q1960.77 1477.32 1958.5 1476.95 Q1956.25 1476.58 1953.85 1475.84 L1953.85 1471.14 Q1955.93 1472.28 1958.15 1472.83 Q1960.37 1473.39 1962.85 1473.39 Q1966.86 1473.39 1969.19 1471.28 Q1971.53 1469.18 1971.53 1465.56 Q1971.53 1461.95 1969.19 1459.85 Q1966.86 1457.74 1962.85 1457.74 Q1960.98 1457.74 1959.1 1458.16 Q1957.25 1458.57 1955.3 1459.45 L1955.3 1442.09 Z\" fill=\"#000000\" fill-rule=\"evenodd\" fill-opacity=\"1\" /><path clip-path=\"url(#clip700)\" d=\"M 0 0 M2300.28 1472.72 L2316.6 1472.72 L2316.6 1476.65 L2294.65 1476.65 L2294.65 1472.72 Q2297.32 1469.96 2301.9 1465.33 Q2306.51 1460.68 2307.69 1459.34 Q2309.93 1456.81 2310.81 1455.08 Q2311.71 1453.32 2311.71 1451.63 Q2311.71 1448.87 2309.77 1447.14 Q2307.85 1445.4 2304.75 1445.4 Q2302.55 1445.4 2300.09 1446.17 Q2297.66 1446.93 2294.89 1448.48 L2294.89 1443.76 Q2297.71 1442.62 2300.16 1442.05 Q2302.62 1441.47 2304.65 1441.47 Q2310.02 1441.47 2313.22 1444.15 Q2316.41 1446.84 2316.41 1451.33 Q2316.41 1453.46 2315.6 1455.38 Q2314.82 1457.28 2312.71 1459.87 Q2312.13 1460.54 2309.03 1463.76 Q2305.93 1466.95 2300.28 1472.72 Z\" fill=\"#000000\" fill-rule=\"evenodd\" fill-opacity=\"1\" /><path clip-path=\"url(#clip700)\" d=\"M 0 0 M2332.25 1457.51 Q2329.1 1457.51 2327.25 1459.66 Q2325.42 1461.81 2325.42 1465.56 Q2325.42 1469.29 2327.25 1471.47 Q2329.1 1473.62 2332.25 1473.62 Q2335.39 1473.62 2337.22 1471.47 Q2339.08 1469.29 2339.08 1465.56 Q2339.08 1461.81 2337.22 1459.66 Q2335.39 1457.51 2332.25 1457.51 M2341.53 1442.86 L2341.53 1447.11 Q2339.77 1446.28 2337.96 1445.84 Q2336.18 1445.4 2334.42 1445.4 Q2329.79 1445.4 2327.34 1448.53 Q2324.91 1451.65 2324.56 1457.97 Q2325.93 1455.96 2327.99 1454.89 Q2330.05 1453.8 2332.52 1453.8 Q2337.73 1453.8 2340.74 1456.98 Q2343.77 1460.12 2343.77 1465.56 Q2343.77 1470.89 2340.63 1474.11 Q2337.48 1477.32 2332.25 1477.32 Q2326.25 1477.32 2323.08 1472.74 Q2319.91 1468.13 2319.91 1459.41 Q2319.91 1451.21 2323.8 1446.35 Q2327.69 1441.47 2334.24 1441.47 Q2336 1441.47 2337.78 1441.81 Q2339.58 1442.16 2341.53 1442.86 Z\" fill=\"#000000\" fill-rule=\"evenodd\" fill-opacity=\"1\" /><path clip-path=\"url(#clip700)\" d=\"M 0 0 M2348.84 1470.77 L2353.73 1470.77 L2353.73 1476.65 L2348.84 1476.65 L2348.84 1470.77 Z\" fill=\"#000000\" fill-rule=\"evenodd\" fill-opacity=\"1\" /><path clip-path=\"url(#clip700)\" d=\"M 0 0 M2368.8 1445.17 Q2365.19 1445.17 2363.36 1448.74 Q2361.55 1452.28 2361.55 1459.41 Q2361.55 1466.51 2363.36 1470.08 Q2365.19 1473.62 2368.8 1473.62 Q2372.43 1473.62 2374.24 1470.08 Q2376.07 1466.51 2376.07 1459.41 Q2376.07 1452.28 2374.24 1448.74 Q2372.43 1445.17 2368.8 1445.17 M2368.8 1441.47 Q2374.61 1441.47 2377.66 1446.07 Q2380.74 1450.66 2380.74 1459.41 Q2380.74 1468.13 2377.66 1472.74 Q2374.61 1477.32 2368.8 1477.32 Q2362.99 1477.32 2359.91 1472.74 Q2356.85 1468.13 2356.85 1459.41 Q2356.85 1450.66 2359.91 1446.07 Q2362.99 1441.47 2368.8 1441.47 Z\" fill=\"#000000\" fill-rule=\"evenodd\" fill-opacity=\"1\" /><path clip-path=\"url(#clip700)\" d=\"M 0 0 M2395.81 1445.17 Q2392.2 1445.17 2390.37 1448.74 Q2388.57 1452.28 2388.57 1459.41 Q2388.57 1466.51 2390.37 1470.08 Q2392.2 1473.62 2395.81 1473.62 Q2399.45 1473.62 2401.25 1470.08 Q2403.08 1466.51 2403.08 1459.41 Q2403.08 1452.28 2401.25 1448.74 Q2399.45 1445.17 2395.81 1445.17 M2395.81 1441.47 Q2401.62 1441.47 2404.68 1446.07 Q2407.76 1450.66 2407.76 1459.41 Q2407.76 1468.13 2404.68 1472.74 Q2401.62 1477.32 2395.81 1477.32 Q2390 1477.32 2386.92 1472.74 Q2383.87 1468.13 2383.87 1459.41 Q2383.87 1450.66 2386.92 1446.07 Q2390 1441.47 2395.81 1441.47 Z\" fill=\"#000000\" fill-rule=\"evenodd\" fill-opacity=\"1\" /><path clip-path=\"url(#clip700)\" d=\"M 0 0 M138.205 1116.09 Q134.593 1116.09 132.765 1119.66 Q130.959 1123.2 130.959 1130.33 Q130.959 1137.43 132.765 1141 Q134.593 1144.54 138.205 1144.54 Q141.839 1144.54 143.644 1141 Q145.473 1137.43 145.473 1130.33 Q145.473 1123.2 143.644 1119.66 Q141.839 1116.09 138.205 1116.09 M138.205 1112.39 Q144.015 1112.39 147.07 1116.99 Q150.149 1121.58 150.149 1130.33 Q150.149 1139.05 147.07 1143.66 Q144.015 1148.24 138.205 1148.24 Q132.394 1148.24 129.316 1143.66 Q126.26 1139.05 126.26 1130.33 Q126.26 1121.58 129.316 1116.99 Q132.394 1112.39 138.205 1112.39 Z\" fill=\"#000000\" fill-rule=\"evenodd\" fill-opacity=\"1\" /><path clip-path=\"url(#clip700)\" d=\"M 0 0 M155.218 1141.69 L160.103 1141.69 L160.103 1147.57 L155.218 1147.57 L155.218 1141.69 Z\" fill=\"#000000\" fill-rule=\"evenodd\" fill-opacity=\"1\" /><path clip-path=\"url(#clip700)\" d=\"M 0 0 M175.172 1116.09 Q171.561 1116.09 169.732 1119.66 Q167.927 1123.2 167.927 1130.33 Q167.927 1137.43 169.732 1141 Q171.561 1144.54 175.172 1144.54 Q178.806 1144.54 180.612 1141 Q182.44 1137.43 182.44 1130.33 Q182.44 1123.2 180.612 1119.66 Q178.806 1116.09 175.172 1116.09 M175.172 1112.39 Q180.982 1112.39 184.038 1116.99 Q187.116 1121.58 187.116 1130.33 Q187.116 1139.05 184.038 1143.66 Q180.982 1148.24 175.172 1148.24 Q169.362 1148.24 166.283 1143.66 Q163.228 1139.05 163.228 1130.33 Q163.228 1121.58 166.283 1116.99 Q169.362 1112.39 175.172 1112.39 Z\" fill=\"#000000\" fill-rule=\"evenodd\" fill-opacity=\"1\" /><path clip-path=\"url(#clip700)\" d=\"M 0 0 M192.232 1113.01 L210.588 1113.01 L210.588 1116.95 L196.514 1116.95 L196.514 1125.42 Q197.533 1125.07 198.551 1124.91 Q199.57 1124.73 200.588 1124.73 Q206.375 1124.73 209.755 1127.9 Q213.135 1131.07 213.135 1136.49 Q213.135 1142.06 209.662 1145.17 Q206.19 1148.24 199.871 1148.24 Q197.695 1148.24 195.426 1147.87 Q193.181 1147.5 190.774 1146.76 L190.774 1142.06 Q192.857 1143.2 195.079 1143.75 Q197.301 1144.31 199.778 1144.31 Q203.783 1144.31 206.121 1142.2 Q208.459 1140.1 208.459 1136.49 Q208.459 1132.87 206.121 1130.77 Q203.783 1128.66 199.778 1128.66 Q197.903 1128.66 196.028 1129.08 Q194.176 1129.49 192.232 1130.37 L192.232 1113.01 Z\" fill=\"#000000\" fill-rule=\"evenodd\" fill-opacity=\"1\" /><path clip-path=\"url(#clip700)\" d=\"M 0 0 M138.436 807.729 Q134.825 807.729 132.996 811.293 Q131.191 814.835 131.191 821.965 Q131.191 829.071 132.996 832.636 Q134.825 836.178 138.436 836.178 Q142.07 836.178 143.876 832.636 Q145.704 829.071 145.704 821.965 Q145.704 814.835 143.876 811.293 Q142.07 807.729 138.436 807.729 M138.436 804.025 Q144.246 804.025 147.302 808.631 Q150.38 813.215 150.38 821.965 Q150.38 830.692 147.302 835.298 Q144.246 839.881 138.436 839.881 Q132.626 839.881 129.547 835.298 Q126.492 830.692 126.492 821.965 Q126.492 813.215 129.547 808.631 Q132.626 804.025 138.436 804.025 Z\" fill=\"#000000\" fill-rule=\"evenodd\" fill-opacity=\"1\" /><path clip-path=\"url(#clip700)\" d=\"M 0 0 M155.45 833.33 L160.334 833.33 L160.334 839.21 L155.45 839.21 L155.45 833.33 Z\" fill=\"#000000\" fill-rule=\"evenodd\" fill-opacity=\"1\" /><path clip-path=\"url(#clip700)\" d=\"M 0 0 M166.214 835.275 L173.852 835.275 L173.852 808.909 L165.542 810.576 L165.542 806.317 L173.806 804.65 L178.482 804.65 L178.482 835.275 L186.121 835.275 L186.121 839.21 L166.214 839.21 L166.214 835.275 Z\" fill=\"#000000\" fill-rule=\"evenodd\" fill-opacity=\"1\" /><path clip-path=\"url(#clip700)\" d=\"M 0 0 M201.19 807.729 Q197.579 807.729 195.751 811.293 Q193.945 814.835 193.945 821.965 Q193.945 829.071 195.751 832.636 Q197.579 836.178 201.19 836.178 Q204.825 836.178 206.63 832.636 Q208.459 829.071 208.459 821.965 Q208.459 814.835 206.63 811.293 Q204.825 807.729 201.19 807.729 M201.19 804.025 Q207 804.025 210.056 808.631 Q213.135 813.215 213.135 821.965 Q213.135 830.692 210.056 835.298 Q207 839.881 201.19 839.881 Q195.38 839.881 192.301 835.298 Q189.246 830.692 189.246 821.965 Q189.246 813.215 192.301 808.631 Q195.38 804.025 201.19 804.025 Z\" fill=\"#000000\" fill-rule=\"evenodd\" fill-opacity=\"1\" /><path clip-path=\"url(#clip700)\" d=\"M 0 0 M139.431 499.365 Q135.82 499.365 133.992 502.93 Q132.186 506.472 132.186 513.601 Q132.186 520.708 133.992 524.273 Q135.82 527.814 139.431 527.814 Q143.066 527.814 144.871 524.273 Q146.7 520.708 146.7 513.601 Q146.7 506.472 144.871 502.93 Q143.066 499.365 139.431 499.365 M139.431 495.662 Q145.242 495.662 148.297 500.268 Q151.376 504.851 151.376 513.601 Q151.376 522.328 148.297 526.935 Q145.242 531.518 139.431 531.518 Q133.621 531.518 130.543 526.935 Q127.487 522.328 127.487 513.601 Q127.487 504.851 130.543 500.268 Q133.621 495.662 139.431 495.662 Z\" fill=\"#000000\" fill-rule=\"evenodd\" fill-opacity=\"1\" /><path clip-path=\"url(#clip700)\" d=\"M 0 0 M156.445 524.967 L161.329 524.967 L161.329 530.847 L156.445 530.847 L156.445 524.967 Z\" fill=\"#000000\" fill-rule=\"evenodd\" fill-opacity=\"1\" /><path clip-path=\"url(#clip700)\" d=\"M 0 0 M167.209 526.911 L174.848 526.911 L174.848 500.546 L166.538 502.212 L166.538 497.953 L174.802 496.287 L179.477 496.287 L179.477 526.911 L187.116 526.911 L187.116 530.847 L167.209 530.847 L167.209 526.911 Z\" fill=\"#000000\" fill-rule=\"evenodd\" fill-opacity=\"1\" /><path clip-path=\"url(#clip700)\" d=\"M 0 0 M192.232 496.287 L210.588 496.287 L210.588 500.222 L196.514 500.222 L196.514 508.694 Q197.533 508.347 198.551 508.185 Q199.57 507.999 200.588 507.999 Q206.375 507.999 209.755 511.171 Q213.135 514.342 213.135 519.759 Q213.135 525.337 209.662 528.439 Q206.19 531.518 199.871 531.518 Q197.695 531.518 195.426 531.147 Q193.181 530.777 190.774 530.036 L190.774 525.337 Q192.857 526.472 195.079 527.027 Q197.301 527.583 199.778 527.583 Q203.783 527.583 206.121 525.476 Q208.459 523.37 208.459 519.759 Q208.459 516.148 206.121 514.041 Q203.783 511.935 199.778 511.935 Q197.903 511.935 196.028 512.351 Q194.176 512.768 192.232 513.648 L192.232 496.287 Z\" fill=\"#000000\" fill-rule=\"evenodd\" fill-opacity=\"1\" /><path clip-path=\"url(#clip700)\" d=\"M 0 0 M138.806 191.002 Q135.195 191.002 133.367 194.567 Q131.561 198.108 131.561 205.238 Q131.561 212.344 133.367 215.909 Q135.195 219.451 138.806 219.451 Q142.441 219.451 144.246 215.909 Q146.075 212.344 146.075 205.238 Q146.075 198.108 144.246 194.567 Q142.441 191.002 138.806 191.002 M138.806 187.298 Q144.617 187.298 147.672 191.905 Q150.751 196.488 150.751 205.238 Q150.751 213.965 147.672 218.571 Q144.617 223.154 138.806 223.154 Q132.996 223.154 129.918 218.571 Q126.862 213.965 126.862 205.238 Q126.862 196.488 129.918 191.905 Q132.996 187.298 138.806 187.298 Z\" fill=\"#000000\" fill-rule=\"evenodd\" fill-opacity=\"1\" /><path clip-path=\"url(#clip700)\" d=\"M 0 0 M155.82 216.604 L160.704 216.604 L160.704 222.483 L155.82 222.483 L155.82 216.604 Z\" fill=\"#000000\" fill-rule=\"evenodd\" fill-opacity=\"1\" /><path clip-path=\"url(#clip700)\" d=\"M 0 0 M169.802 218.548 L186.121 218.548 L186.121 222.483 L164.177 222.483 L164.177 218.548 Q166.839 215.793 171.422 211.164 Q176.028 206.511 177.209 205.168 Q179.454 202.645 180.334 200.909 Q181.237 199.15 181.237 197.46 Q181.237 194.706 179.292 192.969 Q177.371 191.233 174.269 191.233 Q172.07 191.233 169.616 191.997 Q167.186 192.761 164.408 194.312 L164.408 189.59 Q167.232 188.456 169.686 187.877 Q172.14 187.298 174.177 187.298 Q179.547 187.298 182.741 189.983 Q185.936 192.668 185.936 197.159 Q185.936 199.289 185.126 201.21 Q184.339 203.108 182.232 205.701 Q181.653 206.372 178.552 209.59 Q175.45 212.784 169.802 218.548 Z\" fill=\"#000000\" fill-rule=\"evenodd\" fill-opacity=\"1\" /><path clip-path=\"url(#clip700)\" d=\"M 0 0 M201.19 191.002 Q197.579 191.002 195.751 194.567 Q193.945 198.108 193.945 205.238 Q193.945 212.344 195.751 215.909 Q197.579 219.451 201.19 219.451 Q204.825 219.451 206.63 215.909 Q208.459 212.344 208.459 205.238 Q208.459 198.108 206.63 194.567 Q204.825 191.002 201.19 191.002 M201.19 187.298 Q207 187.298 210.056 191.905 Q213.135 196.488 213.135 205.238 Q213.135 213.965 210.056 218.571 Q207 223.154 201.19 223.154 Q195.38 223.154 192.301 218.571 Q189.246 213.965 189.246 205.238 Q189.246 196.488 192.301 191.905 Q195.38 187.298 201.19 187.298 Z\" fill=\"#000000\" fill-rule=\"evenodd\" fill-opacity=\"1\" /><path clip-path=\"url(#clip700)\" d=\"M 0 0 M1271.03 1520.4 L1276.88 1520.4 L1284.2 1548.21 L1291.49 1520.4 L1298.4 1520.4 L1305.72 1548.21 L1313.01 1520.4 L1318.86 1520.4 L1309.54 1556.04 L1302.63 1556.04 L1294.96 1526.83 L1287.26 1556.04 L1280.35 1556.04 L1271.03 1520.4 Z\" fill=\"#000000\" fill-rule=\"evenodd\" fill-opacity=\"1\" /><path clip-path=\"url(#clip700)\" d=\"M 0 0 M65.4059 725.09 L65.4059 745.365 Q74.9226 744.888 78.9649 742.692 Q83.9301 739.954 83.9301 735.212 Q83.9301 730.438 78.933 727.796 Q74.5407 725.472 65.4059 725.09 M59.995 725.186 Q50.9557 726.077 47.7729 727.796 Q42.744 730.533 42.744 735.212 Q42.744 740.082 47.7092 742.66 Q51.7196 744.697 59.995 745.302 L59.995 725.186 M37.9697 735.212 Q37.9697 727.573 44.7174 723.213 Q51.4332 718.852 63.337 718.852 Q75.2091 718.852 81.9567 723.213 Q88.7362 727.573 88.7362 735.212 Q88.7362 742.883 81.9567 747.211 Q75.2091 751.572 63.337 751.572 Q51.4332 751.572 44.7174 747.211 Q37.9697 742.883 37.9697 735.212 Z\" fill=\"#000000\" fill-rule=\"evenodd\" fill-opacity=\"1\" /><path clip-path=\"url(#clip702)\" d=\"\n",
                            "M297.011 86.1857 L1039.44 783.039 L1470.45 1084.53 L1856.13 1302.59 L2044.2 1384.24 L2252.2 1384.24 L2275.67 1357.03 L2286.38 1329.81 L2292.88 1257.27 L2288.88 1216.43 \n",
                            "  L2265.36 1139.2 L2241.37 1090.45 L2163.76 985.5 L2067.67 891.076 L1867.52 742.416 L1522.57 553.876 L667.136 204.27 L300.427 86.1857 L297.011 86.1857 L297.011 86.1857 \n",
                            "   Z\n",
                            "  \" fill=\"#ff0000\" fill-rule=\"evenodd\" fill-opacity=\"0.2\"/>\n",
                            "<polyline clip-path=\"url(#clip702)\" style=\"stroke:#000000; stroke-width:4; stroke-opacity:0.2; fill:none\" points=\"\n",
                            "  297.011,86.1857 1039.44,783.039 1470.45,1084.53 1856.13,1302.59 2044.2,1384.24 2252.2,1384.24 2275.67,1357.03 2286.38,1329.81 2292.88,1257.27 2288.88,1216.43 \n",
                            "  2265.36,1139.2 2241.37,1090.45 2163.76,985.5 2067.67,891.076 1867.52,742.416 1522.57,553.876 667.136,204.27 300.427,86.1857 297.011,86.1857 \n",
                            "  \n",
                            "  \"/>\n",
                            "<path clip-path=\"url(#clip702)\" d=\"\n",
                            "M2236.96 1384.24 L2251.3 1384.24 L2274.07 1357.03 L2283.27 1329.81 L2288.17 1287.5 L2284.4 1239.08 L2273.04 1195.11 L2251.32 1147.92 L2242.52 1135.5 L2236.96 1135.5 \n",
                            "  L2236.96 1384.24 L2236.96 1384.24  Z\n",
                            "  \" fill=\"#0000ff\" fill-rule=\"evenodd\" fill-opacity=\"0.2\"/>\n",
                            "<polyline clip-path=\"url(#clip702)\" style=\"stroke:#000000; stroke-width:4; stroke-opacity:0.2; fill:none\" points=\"\n",
                            "  2236.96,1384.24 2251.3,1384.24 2274.07,1357.03 2283.27,1329.81 2288.17,1287.5 2284.4,1239.08 2273.04,1195.11 2251.32,1147.92 2242.52,1135.5 2236.96,1135.5 \n",
                            "  2236.96,1384.24 \n",
                            "  \"/>\n",
                            "<circle clip-path=\"url(#clip702)\" cx=\"2292.88\" cy=\"1257.27\" r=\"14\" fill=\"#3da44d\" fill-rule=\"evenodd\" fill-opacity=\"1\" stroke=\"#000000\" stroke-opacity=\"1\" stroke-width=\"3.2\"/>\n",
                            "<path clip-path=\"url(#clip700)\" d=\"\n",
                            "M1583.77 335.029 L2282.24 335.029 L2282.24 93.1086 L1583.77 93.1086  Z\n",
                            "  \" fill=\"#ffffff\" fill-rule=\"evenodd\" fill-opacity=\"1\"/>\n",
                            "<polyline clip-path=\"url(#clip700)\" style=\"stroke:#000000; stroke-width:4; stroke-opacity:1; fill:none\" points=\"\n",
                            "  1583.77,335.029 2282.24,335.029 2282.24,93.1086 1583.77,93.1086 1583.77,335.029 \n",
                            "  \"/>\n",
                            "<path clip-path=\"url(#clip700)\" d=\"\n",
                            "M1607.27 177.781 L1748.31 177.781 L1748.31 129.397 L1607.27 129.397 L1607.27 177.781  Z\n",
                            "  \" fill=\"#ff0000\" fill-rule=\"evenodd\" fill-opacity=\"0.2\"/>\n",
                            "<polyline clip-path=\"url(#clip700)\" style=\"stroke:#000000; stroke-width:4; stroke-opacity:1; fill:none\" points=\"\n",
                            "  1607.27,177.781 1748.31,177.781 1748.31,129.397 1607.27,129.397 1607.27,177.781 \n",
                            "  \"/>\n",
                            "<path clip-path=\"url(#clip700)\" d=\"M 0 0 M1792.33 145.938 L1792.33 149.92 Q1790.52 148.924 1788.7 148.438 Q1786.89 147.929 1785.04 147.929 Q1780.9 147.929 1778.6 150.568 Q1776.31 153.184 1776.31 157.929 Q1776.31 162.674 1778.6 165.313 Q1780.9 167.929 1785.04 167.929 Q1786.89 167.929 1788.7 167.443 Q1790.52 166.933 1792.33 165.938 L1792.33 169.873 Q1790.55 170.707 1788.63 171.123 Q1786.73 171.54 1784.58 171.54 Q1778.72 171.54 1775.27 167.859 Q1771.82 164.179 1771.82 157.929 Q1771.82 151.586 1775.29 147.952 Q1778.79 144.318 1784.85 144.318 Q1786.82 144.318 1788.7 144.735 Q1790.57 145.128 1792.33 145.938 Z\" fill=\"#000000\" fill-rule=\"evenodd\" fill-opacity=\"1\" /><path clip-path=\"url(#clip700)\" d=\"M 0 0 M1806.84 147.929 Q1803.42 147.929 1801.43 150.614 Q1799.44 153.276 1799.44 157.929 Q1799.44 162.582 1801.4 165.267 Q1803.4 167.929 1806.84 167.929 Q1810.25 167.929 1812.24 165.244 Q1814.23 162.558 1814.23 157.929 Q1814.23 153.322 1812.24 150.637 Q1810.25 147.929 1806.84 147.929 M1806.84 144.318 Q1812.4 144.318 1815.57 147.929 Q1818.74 151.54 1818.74 157.929 Q1818.74 164.295 1815.57 167.929 Q1812.4 171.54 1806.84 171.54 Q1801.27 171.54 1798.09 167.929 Q1794.95 164.295 1794.95 157.929 Q1794.95 151.54 1798.09 147.929 Q1801.27 144.318 1806.84 144.318 Z\" fill=\"#000000\" fill-rule=\"evenodd\" fill-opacity=\"1\" /><path clip-path=\"url(#clip700)\" d=\"M 0 0 M1843.39 149.92 Q1844.99 147.049 1847.21 145.684 Q1849.44 144.318 1852.45 144.318 Q1856.5 144.318 1858.7 147.165 Q1860.89 149.989 1860.89 155.221 L1860.89 170.869 L1856.61 170.869 L1856.61 155.359 Q1856.61 151.633 1855.29 149.827 Q1853.97 148.022 1851.27 148.022 Q1847.95 148.022 1846.03 150.221 Q1844.11 152.42 1844.11 156.216 L1844.11 170.869 L1839.83 170.869 L1839.83 155.359 Q1839.83 151.609 1838.51 149.827 Q1837.19 148.022 1834.44 148.022 Q1831.17 148.022 1829.25 150.244 Q1827.33 152.443 1827.33 156.216 L1827.33 170.869 L1823.05 170.869 L1823.05 144.943 L1827.33 144.943 L1827.33 148.971 Q1828.79 146.586 1830.83 145.452 Q1832.86 144.318 1835.66 144.318 Q1838.49 144.318 1840.45 145.753 Q1842.45 147.188 1843.39 149.92 Z\" fill=\"#000000\" fill-rule=\"evenodd\" fill-opacity=\"1\" /><path clip-path=\"url(#clip700)\" d=\"M 0 0 M1885.55 149.92 Q1887.14 147.049 1889.37 145.684 Q1891.59 144.318 1894.6 144.318 Q1898.65 144.318 1900.85 147.165 Q1903.05 149.989 1903.05 155.221 L1903.05 170.869 L1898.76 170.869 L1898.76 155.359 Q1898.76 151.633 1897.45 149.827 Q1896.13 148.022 1893.42 148.022 Q1890.11 148.022 1888.19 150.221 Q1886.26 152.42 1886.26 156.216 L1886.26 170.869 L1881.98 170.869 L1881.98 155.359 Q1881.98 151.609 1880.66 149.827 Q1879.34 148.022 1876.59 148.022 Q1873.33 148.022 1871.4 150.244 Q1869.48 152.443 1869.48 156.216 L1869.48 170.869 L1865.2 170.869 L1865.2 144.943 L1869.48 144.943 L1869.48 148.971 Q1870.94 146.586 1872.98 145.452 Q1875.01 144.318 1877.82 144.318 Q1880.64 144.318 1882.61 145.753 Q1884.6 147.188 1885.55 149.92 Z\" fill=\"#000000\" fill-rule=\"evenodd\" fill-opacity=\"1\" /><path clip-path=\"url(#clip700)\" d=\"M 0 0 M1929.69 156.841 L1929.69 158.924 L1910.11 158.924 Q1910.39 163.322 1912.75 165.637 Q1915.13 167.929 1919.37 167.929 Q1921.82 167.929 1924.11 167.327 Q1926.43 166.725 1928.7 165.521 L1928.7 169.549 Q1926.4 170.521 1924 171.031 Q1921.59 171.54 1919.11 171.54 Q1912.91 171.54 1909.27 167.929 Q1905.66 164.318 1905.66 158.16 Q1905.66 151.795 1909.09 148.068 Q1912.54 144.318 1918.37 144.318 Q1923.6 144.318 1926.64 147.697 Q1929.69 151.054 1929.69 156.841 M1925.43 155.591 Q1925.39 152.096 1923.46 150.012 Q1921.57 147.929 1918.42 147.929 Q1914.85 147.929 1912.7 149.943 Q1910.57 151.957 1910.25 155.614 L1925.43 155.591 Z\" fill=\"#000000\" fill-rule=\"evenodd\" fill-opacity=\"1\" /><path clip-path=\"url(#clip700)\" d=\"M 0 0 M1938.37 137.582 L1938.37 144.943 L1947.14 144.943 L1947.14 148.253 L1938.37 148.253 L1938.37 162.327 Q1938.37 165.498 1939.23 166.401 Q1940.11 167.304 1942.77 167.304 L1947.14 167.304 L1947.14 170.869 L1942.77 170.869 Q1937.84 170.869 1935.96 169.04 Q1934.09 167.188 1934.09 162.327 L1934.09 148.253 L1930.96 148.253 L1930.96 144.943 L1934.09 144.943 L1934.09 137.582 L1938.37 137.582 Z\" fill=\"#000000\" fill-rule=\"evenodd\" fill-opacity=\"1\" /><path clip-path=\"url(#clip700)\" d=\"M 0 0 M1951.61 144.943 L1955.87 144.943 L1955.87 170.869 L1951.61 170.869 L1951.61 144.943 M1951.61 134.85 L1955.87 134.85 L1955.87 140.244 L1951.61 140.244 L1951.61 134.85 Z\" fill=\"#000000\" fill-rule=\"evenodd\" fill-opacity=\"1\" /><path clip-path=\"url(#clip700)\" d=\"M 0 0 M1964.55 137.582 L1964.55 144.943 L1973.32 144.943 L1973.32 148.253 L1964.55 148.253 L1964.55 162.327 Q1964.55 165.498 1965.41 166.401 Q1966.29 167.304 1968.95 167.304 L1973.32 167.304 L1973.32 170.869 L1968.95 170.869 Q1964.02 170.869 1962.14 169.04 Q1960.27 167.188 1960.27 162.327 L1960.27 148.253 L1957.14 148.253 L1957.14 144.943 L1960.27 144.943 L1960.27 137.582 L1964.55 137.582 Z\" fill=\"#000000\" fill-rule=\"evenodd\" fill-opacity=\"1\" /><path clip-path=\"url(#clip700)\" d=\"M 0 0 M1977.79 144.943 L1982.05 144.943 L1982.05 170.869 L1977.79 170.869 L1977.79 144.943 M1977.79 134.85 L1982.05 134.85 L1982.05 140.244 L1977.79 140.244 L1977.79 134.85 Z\" fill=\"#000000\" fill-rule=\"evenodd\" fill-opacity=\"1\" /><path clip-path=\"url(#clip700)\" d=\"M 0 0 M1983.46 144.943 L1987.98 144.943 L1996.08 166.702 L2004.18 144.943 L2008.69 144.943 L1998.97 170.869 L1993.19 170.869 L1983.46 144.943 Z\" fill=\"#000000\" fill-rule=\"evenodd\" fill-opacity=\"1\" /><path clip-path=\"url(#clip700)\" d=\"M 0 0 M2035.34 156.841 L2035.34 158.924 L2015.75 158.924 Q2016.03 163.322 2018.39 165.637 Q2020.78 167.929 2025.01 167.929 Q2027.47 167.929 2029.76 167.327 Q2032.07 166.725 2034.34 165.521 L2034.34 169.549 Q2032.05 170.521 2029.64 171.031 Q2027.24 171.54 2024.76 171.54 Q2018.56 171.54 2014.92 167.929 Q2011.31 164.318 2011.31 158.16 Q2011.31 151.795 2014.74 148.068 Q2018.19 144.318 2024.02 144.318 Q2029.25 144.318 2032.28 147.697 Q2035.34 151.054 2035.34 156.841 M2031.08 155.591 Q2031.03 152.096 2029.11 150.012 Q2027.21 147.929 2024.07 147.929 Q2020.5 147.929 2018.35 149.943 Q2016.22 151.957 2015.89 155.614 L2031.08 155.591 Z\" fill=\"#000000\" fill-rule=\"evenodd\" fill-opacity=\"1\" /><path clip-path=\"url(#clip700)\" d=\"M 0 0 M2077.05 156.841 L2077.05 158.924 L2057.47 158.924 Q2057.75 163.322 2060.11 165.637 Q2062.49 167.929 2066.73 167.929 Q2069.18 167.929 2071.47 167.327 Q2073.79 166.725 2076.06 165.521 L2076.06 169.549 Q2073.76 170.521 2071.36 171.031 Q2068.95 171.54 2066.47 171.54 Q2060.27 171.54 2056.63 167.929 Q2053.02 164.318 2053.02 158.16 Q2053.02 151.795 2056.45 148.068 Q2059.9 144.318 2065.73 144.318 Q2070.96 144.318 2074 147.697 Q2077.05 151.054 2077.05 156.841 M2072.79 155.591 Q2072.75 152.096 2070.82 150.012 Q2068.93 147.929 2065.78 147.929 Q2062.21 147.929 2060.06 149.943 Q2057.93 151.957 2057.61 155.614 L2072.79 155.591 Z\" fill=\"#000000\" fill-rule=\"evenodd\" fill-opacity=\"1\" /><path clip-path=\"url(#clip700)\" d=\"M 0 0 M2084.06 157.929 Q2084.06 162.628 2085.99 165.313 Q2087.93 167.975 2091.31 167.975 Q2094.69 167.975 2096.63 165.313 Q2098.58 162.628 2098.58 157.929 Q2098.58 153.23 2096.63 150.568 Q2094.69 147.883 2091.31 147.883 Q2087.93 147.883 2085.99 150.568 Q2084.06 153.23 2084.06 157.929 M2098.58 166.98 Q2097.24 169.295 2095.18 170.429 Q2093.14 171.54 2090.27 171.54 Q2085.57 171.54 2082.61 167.79 Q2079.67 164.04 2079.67 157.929 Q2079.67 151.818 2082.61 148.068 Q2085.57 144.318 2090.27 144.318 Q2093.14 144.318 2095.18 145.452 Q2097.24 146.563 2098.58 148.878 L2098.58 144.943 L2102.84 144.943 L2102.84 180.73 L2098.58 180.73 L2098.58 166.98 Z\" fill=\"#000000\" fill-rule=\"evenodd\" fill-opacity=\"1\" /><path clip-path=\"url(#clip700)\" d=\"M 0 0 M2106.87 160.637 L2106.87 144.943 L2111.12 144.943 L2111.12 160.475 Q2111.12 164.156 2112.56 166.008 Q2114 167.836 2116.87 167.836 Q2120.31 167.836 2122.31 165.637 Q2124.32 163.438 2124.32 159.642 L2124.32 144.943 L2128.58 144.943 L2128.58 170.869 L2124.32 170.869 L2124.32 166.887 Q2122.77 169.248 2120.71 170.406 Q2118.67 171.54 2115.96 171.54 Q2111.5 171.54 2109.18 168.762 Q2106.87 165.984 2106.87 160.637 M2117.58 144.318 L2117.58 144.318 Z\" fill=\"#000000\" fill-rule=\"evenodd\" fill-opacity=\"1\" /><path clip-path=\"url(#clip700)\" d=\"M 0 0 M2133.05 144.943 L2137.31 144.943 L2137.31 170.869 L2133.05 170.869 L2133.05 144.943 M2133.05 134.85 L2137.31 134.85 L2137.31 140.244 L2133.05 140.244 L2133.05 134.85 Z\" fill=\"#000000\" fill-rule=\"evenodd\" fill-opacity=\"1\" /><path clip-path=\"url(#clip700)\" d=\"M 0 0 M2141.77 134.85 L2146.03 134.85 L2146.03 170.869 L2141.77 170.869 L2141.77 134.85 Z\" fill=\"#000000\" fill-rule=\"evenodd\" fill-opacity=\"1\" /><path clip-path=\"url(#clip700)\" d=\"M 0 0 M2150.5 144.943 L2154.76 144.943 L2154.76 170.869 L2150.5 170.869 L2150.5 144.943 M2150.5 134.85 L2154.76 134.85 L2154.76 140.244 L2150.5 140.244 L2150.5 134.85 Z\" fill=\"#000000\" fill-rule=\"evenodd\" fill-opacity=\"1\" /><path clip-path=\"url(#clip700)\" d=\"M 0 0 M2177.84 157.929 Q2177.84 153.23 2175.89 150.568 Q2173.97 147.883 2170.59 147.883 Q2167.21 147.883 2165.27 150.568 Q2163.35 153.23 2163.35 157.929 Q2163.35 162.628 2165.27 165.313 Q2167.21 167.975 2170.59 167.975 Q2173.97 167.975 2175.89 165.313 Q2177.84 162.628 2177.84 157.929 M2163.35 148.878 Q2164.69 146.563 2166.73 145.452 Q2168.79 144.318 2171.63 144.318 Q2176.36 144.318 2179.3 148.068 Q2182.26 151.818 2182.26 157.929 Q2182.26 164.04 2179.3 167.79 Q2176.36 171.54 2171.63 171.54 Q2168.79 171.54 2166.73 170.429 Q2164.69 169.295 2163.35 166.98 L2163.35 170.869 L2159.06 170.869 L2159.06 134.85 L2163.35 134.85 L2163.35 148.878 Z\" fill=\"#000000\" fill-rule=\"evenodd\" fill-opacity=\"1\" /><path clip-path=\"url(#clip700)\" d=\"M 0 0 M2201.75 148.924 Q2201.03 148.508 2200.18 148.322 Q2199.34 148.114 2198.32 148.114 Q2194.71 148.114 2192.77 150.475 Q2190.85 152.813 2190.85 157.211 L2190.85 170.869 L2186.56 170.869 L2186.56 144.943 L2190.85 144.943 L2190.85 148.971 Q2192.19 146.609 2194.34 145.475 Q2196.49 144.318 2199.57 144.318 Q2200.01 144.318 2200.55 144.387 Q2201.08 144.434 2201.73 144.549 L2201.75 148.924 Z\" fill=\"#000000\" fill-rule=\"evenodd\" fill-opacity=\"1\" /><path clip-path=\"url(#clip700)\" d=\"M 0 0 M2206.22 144.943 L2210.48 144.943 L2210.48 170.869 L2206.22 170.869 L2206.22 144.943 M2206.22 134.85 L2210.48 134.85 L2210.48 140.244 L2206.22 140.244 L2206.22 134.85 Z\" fill=\"#000000\" fill-rule=\"evenodd\" fill-opacity=\"1\" /><path clip-path=\"url(#clip700)\" d=\"M 0 0 M2226.73 157.836 Q2221.56 157.836 2219.57 159.017 Q2217.58 160.197 2217.58 163.045 Q2217.58 165.313 2219.06 166.656 Q2220.57 167.975 2223.14 167.975 Q2226.68 167.975 2228.81 165.475 Q2230.96 162.952 2230.96 158.785 L2230.96 157.836 L2226.73 157.836 M2235.22 156.077 L2235.22 170.869 L2230.96 170.869 L2230.96 166.933 Q2229.5 169.295 2227.33 170.429 Q2225.15 171.54 2222 171.54 Q2218.02 171.54 2215.66 169.318 Q2213.32 167.072 2213.32 163.322 Q2213.32 158.947 2216.24 156.725 Q2219.18 154.503 2224.99 154.503 L2230.96 154.503 L2230.96 154.086 Q2230.96 151.147 2229.02 149.549 Q2227.1 147.929 2223.6 147.929 Q2221.38 147.929 2219.27 148.461 Q2217.17 148.994 2215.22 150.059 L2215.22 146.123 Q2217.56 145.221 2219.76 144.781 Q2221.96 144.318 2224.04 144.318 Q2229.67 144.318 2232.44 147.234 Q2235.22 150.151 2235.22 156.077 Z\" fill=\"#000000\" fill-rule=\"evenodd\" fill-opacity=\"1\" /><path clip-path=\"url(#clip700)\" d=\"\n",
                            "M1607.27 238.261 L1748.31 238.261 L1748.31 189.877 L1607.27 189.877 L1607.27 238.261  Z\n",
                            "  \" fill=\"#0000ff\" fill-rule=\"evenodd\" fill-opacity=\"0.2\"/>\n",
                            "<polyline clip-path=\"url(#clip700)\" style=\"stroke:#000000; stroke-width:4; stroke-opacity:1; fill:none\" points=\"\n",
                            "  1607.27,238.261 1748.31,238.261 1748.31,189.877 1607.27,189.877 1607.27,238.261 \n",
                            "  \"/>\n",
                            "<path clip-path=\"url(#clip700)\" d=\"M 0 0 M1790.25 206.187 L1790.25 210.214 Q1788.44 209.289 1786.5 208.826 Q1784.55 208.363 1782.47 208.363 Q1779.3 208.363 1777.7 209.335 Q1776.13 210.307 1776.13 212.251 Q1776.13 213.733 1777.26 214.589 Q1778.4 215.423 1781.82 216.187 L1783.28 216.511 Q1787.82 217.483 1789.71 219.265 Q1791.64 221.025 1791.64 224.196 Q1791.64 227.807 1788.77 229.913 Q1785.92 232.02 1780.92 232.02 Q1778.83 232.02 1776.57 231.603 Q1774.32 231.21 1771.82 230.4 L1771.82 226.001 Q1774.18 227.228 1776.47 227.853 Q1778.77 228.455 1781.01 228.455 Q1784.02 228.455 1785.64 227.437 Q1787.26 226.395 1787.26 224.52 Q1787.26 222.784 1786.08 221.858 Q1784.92 220.932 1780.96 220.076 L1779.48 219.728 Q1775.52 218.895 1773.77 217.182 Q1772.01 215.446 1772.01 212.437 Q1772.01 208.779 1774.6 206.789 Q1777.19 204.798 1781.96 204.798 Q1784.32 204.798 1786.4 205.145 Q1788.49 205.492 1790.25 206.187 Z\" fill=\"#000000\" fill-rule=\"evenodd\" fill-opacity=\"1\" /><path clip-path=\"url(#clip700)\" d=\"M 0 0 M1795.66 221.117 L1795.66 205.423 L1799.92 205.423 L1799.92 220.955 Q1799.92 224.636 1801.36 226.488 Q1802.79 228.316 1805.66 228.316 Q1809.11 228.316 1811.1 226.117 Q1813.12 223.918 1813.12 220.122 L1813.12 205.423 L1817.38 205.423 L1817.38 231.349 L1813.12 231.349 L1813.12 227.367 Q1811.57 229.728 1809.51 230.886 Q1807.47 232.02 1804.76 232.02 Q1800.29 232.02 1797.98 229.242 Q1795.66 226.464 1795.66 221.117 M1806.38 204.798 L1806.38 204.798 Z\" fill=\"#000000\" fill-rule=\"evenodd\" fill-opacity=\"1\" /><path clip-path=\"url(#clip700)\" d=\"M 0 0 M1838.37 206.187 L1838.37 210.214 Q1836.57 209.289 1834.62 208.826 Q1832.68 208.363 1830.59 208.363 Q1827.42 208.363 1825.83 209.335 Q1824.25 210.307 1824.25 212.251 Q1824.25 213.733 1825.39 214.589 Q1826.52 215.423 1829.95 216.187 L1831.4 216.511 Q1835.94 217.483 1837.84 219.265 Q1839.76 221.025 1839.76 224.196 Q1839.76 227.807 1836.89 229.913 Q1834.04 232.02 1829.04 232.02 Q1826.96 232.02 1824.69 231.603 Q1822.45 231.21 1819.95 230.4 L1819.95 226.001 Q1822.31 227.228 1824.6 227.853 Q1826.89 228.455 1829.14 228.455 Q1832.14 228.455 1833.77 227.437 Q1835.39 226.395 1835.39 224.52 Q1835.39 222.784 1834.21 221.858 Q1833.05 220.932 1829.09 220.076 L1827.61 219.728 Q1823.65 218.895 1821.89 217.182 Q1820.13 215.446 1820.13 212.437 Q1820.13 208.779 1822.72 206.789 Q1825.32 204.798 1830.08 204.798 Q1832.45 204.798 1834.53 205.145 Q1836.61 205.492 1838.37 206.187 Z\" fill=\"#000000\" fill-rule=\"evenodd\" fill-opacity=\"1\" /><path clip-path=\"url(#clip700)\" d=\"M 0 0 M1848.44 198.062 L1848.44 205.423 L1857.21 205.423 L1857.21 208.733 L1848.44 208.733 L1848.44 222.807 Q1848.44 225.978 1849.3 226.881 Q1850.18 227.784 1852.84 227.784 L1857.21 227.784 L1857.21 231.349 L1852.84 231.349 Q1847.91 231.349 1846.03 229.52 Q1844.16 227.668 1844.16 222.807 L1844.16 208.733 L1841.03 208.733 L1841.03 205.423 L1844.16 205.423 L1844.16 198.062 L1848.44 198.062 Z\" fill=\"#000000\" fill-rule=\"evenodd\" fill-opacity=\"1\" /><path clip-path=\"url(#clip700)\" d=\"M 0 0 M1873.46 218.316 Q1868.3 218.316 1866.31 219.497 Q1864.32 220.677 1864.32 223.525 Q1864.32 225.793 1865.8 227.136 Q1867.31 228.455 1869.88 228.455 Q1873.42 228.455 1875.55 225.955 Q1877.7 223.432 1877.7 219.265 L1877.7 218.316 L1873.46 218.316 M1881.96 216.557 L1881.96 231.349 L1877.7 231.349 L1877.7 227.413 Q1876.24 229.775 1874.07 230.909 Q1871.89 232.02 1868.74 232.02 Q1864.76 232.02 1862.4 229.798 Q1860.06 227.552 1860.06 223.802 Q1860.06 219.427 1862.98 217.205 Q1865.92 214.983 1871.73 214.983 L1877.7 214.983 L1877.7 214.566 Q1877.7 211.627 1875.76 210.029 Q1873.83 208.409 1870.34 208.409 Q1868.12 208.409 1866.01 208.941 Q1863.9 209.474 1861.96 210.539 L1861.96 206.603 Q1864.3 205.701 1866.5 205.261 Q1868.7 204.798 1870.78 204.798 Q1876.4 204.798 1879.18 207.714 Q1881.96 210.631 1881.96 216.557 Z\" fill=\"#000000\" fill-rule=\"evenodd\" fill-opacity=\"1\" /><path clip-path=\"url(#clip700)\" d=\"M 0 0 M1886.43 205.423 L1890.69 205.423 L1890.69 231.349 L1886.43 231.349 L1886.43 205.423 M1886.43 195.33 L1890.69 195.33 L1890.69 200.724 L1886.43 200.724 L1886.43 195.33 Z\" fill=\"#000000\" fill-rule=\"evenodd\" fill-opacity=\"1\" /><path clip-path=\"url(#clip700)\" d=\"M 0 0 M1916.7 215.701 L1916.7 231.349 L1912.45 231.349 L1912.45 215.839 Q1912.45 212.159 1911.01 210.33 Q1909.57 208.502 1906.7 208.502 Q1903.26 208.502 1901.26 210.701 Q1899.27 212.9 1899.27 216.696 L1899.27 231.349 L1894.99 231.349 L1894.99 205.423 L1899.27 205.423 L1899.27 209.451 Q1900.8 207.113 1902.86 205.955 Q1904.95 204.798 1907.65 204.798 Q1912.12 204.798 1914.41 207.576 Q1916.7 210.33 1916.7 215.701 Z\" fill=\"#000000\" fill-rule=\"evenodd\" fill-opacity=\"1\" /><path clip-path=\"url(#clip700)\" d=\"M 0 0 M1932.95 218.316 Q1927.79 218.316 1925.8 219.497 Q1923.81 220.677 1923.81 223.525 Q1923.81 225.793 1925.29 227.136 Q1926.8 228.455 1929.37 228.455 Q1932.91 228.455 1935.04 225.955 Q1937.19 223.432 1937.19 219.265 L1937.19 218.316 L1932.95 218.316 M1941.45 216.557 L1941.45 231.349 L1937.19 231.349 L1937.19 227.413 Q1935.73 229.775 1933.56 230.909 Q1931.38 232.02 1928.23 232.02 Q1924.25 232.02 1921.89 229.798 Q1919.55 227.552 1919.55 223.802 Q1919.55 219.427 1922.47 217.205 Q1925.41 214.983 1931.22 214.983 L1937.19 214.983 L1937.19 214.566 Q1937.19 211.627 1935.25 210.029 Q1933.32 208.409 1929.83 208.409 Q1927.61 208.409 1925.5 208.941 Q1923.39 209.474 1921.45 210.539 L1921.45 206.603 Q1923.79 205.701 1925.99 205.261 Q1928.19 204.798 1930.27 204.798 Q1935.89 204.798 1938.67 207.714 Q1941.45 210.631 1941.45 216.557 Z\" fill=\"#000000\" fill-rule=\"evenodd\" fill-opacity=\"1\" /><path clip-path=\"url(#clip700)\" d=\"M 0 0 M1964.53 218.409 Q1964.53 213.71 1962.58 211.048 Q1960.66 208.363 1957.28 208.363 Q1953.9 208.363 1951.96 211.048 Q1950.04 213.71 1950.04 218.409 Q1950.04 223.108 1951.96 225.793 Q1953.9 228.455 1957.28 228.455 Q1960.66 228.455 1962.58 225.793 Q1964.53 223.108 1964.53 218.409 M1950.04 209.358 Q1951.38 207.043 1953.42 205.932 Q1955.48 204.798 1958.32 204.798 Q1963.05 204.798 1965.99 208.548 Q1968.95 212.298 1968.95 218.409 Q1968.95 224.52 1965.99 228.27 Q1963.05 232.02 1958.32 232.02 Q1955.48 232.02 1953.42 230.909 Q1951.38 229.775 1950.04 227.46 L1950.04 231.349 L1945.76 231.349 L1945.76 195.33 L1950.04 195.33 L1950.04 209.358 Z\" fill=\"#000000\" fill-rule=\"evenodd\" fill-opacity=\"1\" /><path clip-path=\"url(#clip700)\" d=\"M 0 0 M1973.42 195.33 L1977.68 195.33 L1977.68 231.349 L1973.42 231.349 L1973.42 195.33 Z\" fill=\"#000000\" fill-rule=\"evenodd\" fill-opacity=\"1\" /><path clip-path=\"url(#clip700)\" d=\"M 0 0 M2004.32 217.321 L2004.32 219.404 L1984.74 219.404 Q1985.01 223.802 1987.38 226.117 Q1989.76 228.409 1994 228.409 Q1996.45 228.409 1998.74 227.807 Q2001.06 227.205 2003.32 226.001 L2003.32 230.029 Q2001.03 231.001 1998.63 231.511 Q1996.22 232.02 1993.74 232.02 Q1987.54 232.02 1983.9 228.409 Q1980.29 224.798 1980.29 218.64 Q1980.29 212.275 1983.72 208.548 Q1987.17 204.798 1993 204.798 Q1998.23 204.798 2001.26 208.177 Q2004.32 211.534 2004.32 217.321 M2000.06 216.071 Q2000.01 212.576 1998.09 210.492 Q1996.19 208.409 1993.05 208.409 Q1989.48 208.409 1987.33 210.423 Q1985.2 212.437 1984.88 216.094 L2000.06 216.071 Z\" fill=\"#000000\" fill-rule=\"evenodd\" fill-opacity=\"1\" /><path clip-path=\"url(#clip700)\" d=\"M 0 0 M2027.98 227.46 L2027.98 241.21 L2023.69 241.21 L2023.69 205.423 L2027.98 205.423 L2027.98 209.358 Q2029.32 207.043 2031.36 205.932 Q2033.42 204.798 2036.26 204.798 Q2040.99 204.798 2043.93 208.548 Q2046.89 212.298 2046.89 218.409 Q2046.89 224.52 2043.93 228.27 Q2040.99 232.02 2036.26 232.02 Q2033.42 232.02 2031.36 230.909 Q2029.32 229.775 2027.98 227.46 M2042.47 218.409 Q2042.47 213.71 2040.52 211.048 Q2038.6 208.363 2035.22 208.363 Q2031.84 208.363 2029.9 211.048 Q2027.98 213.71 2027.98 218.409 Q2027.98 223.108 2029.9 225.793 Q2031.84 228.455 2035.22 228.455 Q2038.6 228.455 2040.52 225.793 Q2042.47 223.108 2042.47 218.409 Z\" fill=\"#000000\" fill-rule=\"evenodd\" fill-opacity=\"1\" /><path clip-path=\"url(#clip700)\" d=\"M 0 0 M2051.36 195.33 L2055.62 195.33 L2055.62 231.349 L2051.36 231.349 L2051.36 195.33 Z\" fill=\"#000000\" fill-rule=\"evenodd\" fill-opacity=\"1\" /><path clip-path=\"url(#clip700)\" d=\"M 0 0 M2071.87 218.316 Q2066.7 218.316 2064.71 219.497 Q2062.72 220.677 2062.72 223.525 Q2062.72 225.793 2064.2 227.136 Q2065.71 228.455 2068.28 228.455 Q2071.82 228.455 2073.95 225.955 Q2076.1 223.432 2076.1 219.265 L2076.1 218.316 L2071.87 218.316 M2080.36 216.557 L2080.36 231.349 L2076.1 231.349 L2076.1 227.413 Q2074.64 229.775 2072.47 230.909 Q2070.29 232.02 2067.14 232.02 Q2063.16 232.02 2060.8 229.798 Q2058.46 227.552 2058.46 223.802 Q2058.46 219.427 2061.38 217.205 Q2064.32 214.983 2070.13 214.983 L2076.1 214.983 L2076.1 214.566 Q2076.1 211.627 2074.16 210.029 Q2072.24 208.409 2068.74 208.409 Q2066.52 208.409 2064.41 208.941 Q2062.31 209.474 2060.36 210.539 L2060.36 206.603 Q2062.7 205.701 2064.9 205.261 Q2067.1 204.798 2069.18 204.798 Q2074.81 204.798 2077.58 207.714 Q2080.36 210.631 2080.36 216.557 Z\" fill=\"#000000\" fill-rule=\"evenodd\" fill-opacity=\"1\" /><path clip-path=\"url(#clip700)\" d=\"M 0 0 M2106.38 215.701 L2106.38 231.349 L2102.12 231.349 L2102.12 215.839 Q2102.12 212.159 2100.69 210.33 Q2099.25 208.502 2096.38 208.502 Q2092.93 208.502 2090.94 210.701 Q2088.95 212.9 2088.95 216.696 L2088.95 231.349 L2084.67 231.349 L2084.67 205.423 L2088.95 205.423 L2088.95 209.451 Q2090.48 207.113 2092.54 205.955 Q2094.62 204.798 2097.33 204.798 Q2101.8 204.798 2104.09 207.576 Q2106.38 210.33 2106.38 215.701 Z\" fill=\"#000000\" fill-rule=\"evenodd\" fill-opacity=\"1\" /><path clip-path=\"url(#clip700)\" d=\"M 0 0 M2127.37 206.187 L2127.37 210.214 Q2125.57 209.289 2123.62 208.826 Q2121.68 208.363 2119.6 208.363 Q2116.43 208.363 2114.83 209.335 Q2113.25 210.307 2113.25 212.251 Q2113.25 213.733 2114.39 214.589 Q2115.52 215.423 2118.95 216.187 L2120.41 216.511 Q2124.94 217.483 2126.84 219.265 Q2128.76 221.025 2128.76 224.196 Q2128.76 227.807 2125.89 229.913 Q2123.05 232.02 2118.05 232.02 Q2115.96 232.02 2113.69 231.603 Q2111.45 231.21 2108.95 230.4 L2108.95 226.001 Q2111.31 227.228 2113.6 227.853 Q2115.89 228.455 2118.14 228.455 Q2121.15 228.455 2122.77 227.437 Q2124.39 226.395 2124.39 224.52 Q2124.39 222.784 2123.21 221.858 Q2122.05 220.932 2118.09 220.076 L2116.61 219.728 Q2112.65 218.895 2110.89 217.182 Q2109.13 215.446 2109.13 212.437 Q2109.13 208.779 2111.73 206.789 Q2114.32 204.798 2119.09 204.798 Q2121.45 204.798 2123.53 205.145 Q2125.62 205.492 2127.37 206.187 Z\" fill=\"#000000\" fill-rule=\"evenodd\" fill-opacity=\"1\" /><circle clip-path=\"url(#clip700)\" cx=\"1677.79\" cy=\"274.549\" r=\"23\" fill=\"#3da44d\" fill-rule=\"evenodd\" fill-opacity=\"1\" stroke=\"#000000\" stroke-opacity=\"1\" stroke-width=\"5.12\"/>\n",
                            "<path clip-path=\"url(#clip700)\" d=\"M 0 0 M1787.01 269.884 Q1786.29 269.468 1785.43 269.282 Q1784.6 269.074 1783.58 269.074 Q1779.97 269.074 1778.02 271.435 Q1776.1 273.773 1776.1 278.171 L1776.1 291.829 L1771.82 291.829 L1771.82 265.903 L1776.1 265.903 L1776.1 269.931 Q1777.45 267.569 1779.6 266.435 Q1781.75 265.278 1784.83 265.278 Q1785.27 265.278 1785.8 265.347 Q1786.33 265.394 1786.98 265.509 L1787.01 269.884 Z\" fill=\"#000000\" fill-rule=\"evenodd\" fill-opacity=\"1\" /><path clip-path=\"url(#clip700)\" d=\"M 0 0 M1803.26 278.796 Q1798.09 278.796 1796.1 279.977 Q1794.11 281.157 1794.11 284.005 Q1794.11 286.273 1795.59 287.616 Q1797.1 288.935 1799.67 288.935 Q1803.21 288.935 1805.34 286.435 Q1807.49 283.912 1807.49 279.745 L1807.49 278.796 L1803.26 278.796 M1811.75 277.037 L1811.75 291.829 L1807.49 291.829 L1807.49 287.893 Q1806.03 290.255 1803.86 291.389 Q1801.68 292.5 1798.53 292.5 Q1794.55 292.5 1792.19 290.278 Q1789.85 288.032 1789.85 284.282 Q1789.85 279.907 1792.77 277.685 Q1795.71 275.463 1801.52 275.463 L1807.49 275.463 L1807.49 275.046 Q1807.49 272.107 1805.55 270.509 Q1803.63 268.889 1800.13 268.889 Q1797.91 268.889 1795.8 269.421 Q1793.7 269.954 1791.75 271.019 L1791.75 267.083 Q1794.09 266.181 1796.29 265.741 Q1798.49 265.278 1800.57 265.278 Q1806.2 265.278 1808.97 268.194 Q1811.75 271.111 1811.75 277.037 Z\" fill=\"#000000\" fill-rule=\"evenodd\" fill-opacity=\"1\" /><path clip-path=\"url(#clip700)\" d=\"M 0 0 M1836.4 270.88 Q1838 268.009 1840.22 266.644 Q1842.45 265.278 1845.45 265.278 Q1849.51 265.278 1851.7 268.125 Q1853.9 270.949 1853.9 276.181 L1853.9 291.829 L1849.62 291.829 L1849.62 276.319 Q1849.62 272.593 1848.3 270.787 Q1846.98 268.982 1844.27 268.982 Q1840.96 268.982 1839.04 271.181 Q1837.12 273.38 1837.12 277.176 L1837.12 291.829 L1832.84 291.829 L1832.84 276.319 Q1832.84 272.569 1831.52 270.787 Q1830.2 268.982 1827.45 268.982 Q1824.18 268.982 1822.26 271.204 Q1820.34 273.403 1820.34 277.176 L1820.34 291.829 L1816.06 291.829 L1816.06 265.903 L1820.34 265.903 L1820.34 269.931 Q1821.8 267.546 1823.83 266.412 Q1825.87 265.278 1828.67 265.278 Q1831.5 265.278 1833.46 266.713 Q1835.46 268.148 1836.4 270.88 Z\" fill=\"#000000\" fill-rule=\"evenodd\" fill-opacity=\"1\" /><path clip-path=\"url(#clip700)\" d=\"M 0 0 M1874.9 266.667 L1874.9 270.694 Q1873.09 269.769 1871.15 269.306 Q1869.2 268.843 1867.12 268.843 Q1863.95 268.843 1862.35 269.815 Q1860.78 270.787 1860.78 272.731 Q1860.78 274.213 1861.91 275.069 Q1863.05 275.903 1866.47 276.667 L1867.93 276.991 Q1872.47 277.963 1874.37 279.745 Q1876.29 281.505 1876.29 284.676 Q1876.29 288.287 1873.42 290.393 Q1870.57 292.5 1865.57 292.5 Q1863.49 292.5 1861.22 292.083 Q1858.97 291.69 1856.47 290.88 L1856.47 286.481 Q1858.83 287.708 1861.13 288.333 Q1863.42 288.935 1865.66 288.935 Q1868.67 288.935 1870.29 287.917 Q1871.91 286.875 1871.91 285 Q1871.91 283.264 1870.73 282.338 Q1869.58 281.412 1865.62 280.556 L1864.14 280.208 Q1860.18 279.375 1858.42 277.662 Q1856.66 275.926 1856.66 272.917 Q1856.66 269.259 1859.25 267.269 Q1861.84 265.278 1866.61 265.278 Q1868.97 265.278 1871.06 265.625 Q1873.14 265.972 1874.9 266.667 Z\" fill=\"#000000\" fill-rule=\"evenodd\" fill-opacity=\"1\" /><path clip-path=\"url(#clip700)\" d=\"M 0 0 M1902.93 277.801 L1902.93 279.884 L1883.35 279.884 Q1883.63 284.282 1885.99 286.597 Q1888.37 288.889 1892.61 288.889 Q1895.06 288.889 1897.35 288.287 Q1899.67 287.685 1901.94 286.481 L1901.94 290.509 Q1899.64 291.481 1897.24 291.991 Q1894.83 292.5 1892.35 292.5 Q1886.15 292.5 1882.51 288.889 Q1878.9 285.278 1878.9 279.12 Q1878.9 272.755 1882.33 269.028 Q1885.78 265.278 1891.61 265.278 Q1896.84 265.278 1899.88 268.657 Q1902.93 272.014 1902.93 277.801 M1898.67 276.551 Q1898.63 273.056 1896.7 270.972 Q1894.81 268.889 1891.66 268.889 Q1888.09 268.889 1885.94 270.903 Q1883.81 272.917 1883.49 276.574 L1898.67 276.551 Z\" fill=\"#000000\" fill-rule=\"evenodd\" fill-opacity=\"1\" /><path clip-path=\"url(#clip700)\" d=\"M 0 0 M1918.19 294.236 Q1916.38 298.866 1914.67 300.278 Q1912.95 301.69 1910.08 301.69 L1906.68 301.69 L1906.68 298.125 L1909.18 298.125 Q1910.94 298.125 1911.91 297.292 Q1912.89 296.458 1914.07 293.356 L1914.83 291.412 L1904.34 265.903 L1908.86 265.903 L1916.96 286.181 L1925.06 265.903 L1929.57 265.903 L1918.19 294.236 Z\" fill=\"#000000\" fill-rule=\"evenodd\" fill-opacity=\"1\" /></svg>\n"
                        ]
                    },
                    "execution_count": 41,
                    "metadata": {},
                    "output_type": "execute_result"
                }
            ],
            "source": [
                "p = plot(VPolygon(hull_c), alpha=0.2, fillcolor = :red, xlabel = \"w\", ylabel = \"θ\", label = \"commetitive equilibria\")\n",
                "plot!(p, VPolygon(hull_s), alpha=0.2, fillcolor = :blue, label = \"sustainable plans\")\n",
                "scatter!([v_c[1][1]],[v_c[1][2]], label = \"ramsey\")\n",
                "# savefig(\"b$β\"*\"g\"*\"$n_g\"*\".png\")\n",
                "# savefig(\"b$β\"*\"g\"*\"$n_g\"*\"_2\"*\".png\")"
            ]
        }
    ],
    "metadata": {
        "@webio": {
            "lastCommId": null,
            "lastKernelId": null
        },
        "kernelspec": {
            "display_name": "Julia 1.4.2",
            "language": "julia",
            "name": "julia-1.4"
        },
        "language_info": {
            "file_extension": ".jl",
            "mimetype": "application/julia",
            "name": "julia",
            "version": "1.4.2"
        }
    },
    "nbformat": 4,
    "nbformat_minor": 2
}