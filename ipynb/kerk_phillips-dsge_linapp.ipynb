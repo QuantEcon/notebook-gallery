{
    "cells": [
        {
            "cell_type": "markdown",
            "metadata": {},
            "source": [
                "# Solving and Simulating a DSGE Model using the LinApp Package in Python\n",
                "\n",
                "### by [Kerk L. Phillips](https://sites.google.com/site/kerkphillips/home), July 2018\n",
                "\n",
                "The code in this Jupyter notebook was written using Python 3.6."
            ]
        },
        {
            "cell_type": "markdown",
            "metadata": {},
            "source": [
                "This notebook explains how to set up a DSGE model and solve it in Python using the linearization techniques implemented in the LinApp package.  This package can be downloaded at the following Github site.  [https://github.com/kerkphil/DSGE-Utilities](https://github.com/kerkphil/DSGE-Utilities).  Alternatively, both those files and this notebook can be found in the public GitHub repository [https://github.com/kerkphil/Jupyter_Notebooks](https://github.com/kerkphil/Jupyter_Notebooks).\n",
                "\n",
                "The LinApp package includes the following functions:\n",
                "\n",
                "LinApp_FindSS - Takes a function, funcname.py, and a steady state value for the exogenous state variables as inputs.  Finds the steady state for the model's endogenous state and jump variables.\n",
                "\n",
                "LinApp_Deriv - Takes a function, funcname.py, as an input.   Generates the derivative matrices needed for the Uhlig toolkit.\n",
                "\n",
                "LinApp_Solve - Takes the derivative matrices as inputs.  Uses the code from the Uhlig toolkit to generate the coefficients for the linearized policy function(s).\n",
                "\n",
                "LinApp_Sim - Takes the policy function coefficients and current state as inputs.  Generates the value(s) of the endogenous state variables for the next period.\n",
                "\n",
                "LinApp_SSL - Takes a history of exogenous state variables and the policy function coefficients as inputs.  Generates a history of state and jump variables using linearization about the steady state."
            ]
        },
        {
            "cell_type": "markdown",
            "metadata": {},
            "source": [
                "We begin by writing down the behavioral equations for a simple DSGE model.\n",
                "\n",
                "We use the following definitions:\n",
                "\n",
                "$k_t$ is the capital stock in period $t$.\n",
                "\n",
                "$z_t$ is the percent deviation of technology from its long-run value.\n",
                "\n",
                "$r_t$ is the rental rate on capital.\n",
                "\n",
                "$w_t$ is the wage rate.\n",
                "\n",
                "$c_t$ is private consumption.\n",
                "\n",
                "$i_t$ is investment.\n",
                "\n",
                "$\\varepsilon_t$ is the random innovation to $z_t$\n",
                "\n",
                "We also have the following parameters:\n",
                "$\\alpha$ is the capital share in GDP.\n",
                "\n",
                "$\\beta$ is the subjective discount factor.\n",
                "\n",
                "$\\gamma$ is the curvature of the utility function.  In our example this is the constant elasticity of intertemporal substitition.  It is also the constant coefficient of relative risk aversion.\n",
                "\n",
                "$\\delta$ is the rate of capital depreciation.\n",
                "\n",
                "$\\rho$ is the autocorrelation of $z_t$.\n",
                "\n",
                "$\\sigma$ is the standard deviation of the $\\varepsilon_t$ shocks."
            ]
        },
        {
            "cell_type": "markdown",
            "metadata": {},
            "source": [
                "Suppose the household's Bellman equation is given by:\n",
                "$$ V(k_t, z_t) = \\max_{k_{t+1}} \\frac{c_t^{1-\\gamma}-1}{1-\\gamma} + \\beta V(k_{t+1}, z_{t+1}) $$\n",
                "\n",
                "$$ c_t = w_t + (1+r_t-\\delta)k_t - k_{t+1} $$\n",
                "\n",
                "The first-order condition is:\n",
                "$$ c_t^{-\\gamma} = \\beta V_k(k_{t+1}, z_{t+1}) $$\n",
                "The envelope condition is:\n",
                "$$ \\beta V_k(k_t, z_t) = c_t^{-\\gamma}(1+r_t-\\delta) $$\n",
                "Combining give the Euler equation:\n",
                "$$ c_t^{-\\gamma} = \\beta c_{t+1}^{-\\gamma}(1+r_{t+1}-\\delta) $$\n",
                "\n",
                "From the firm's problem we have the following:\n",
                "$$ y_t = k_t^\\alpha e^{(1-\\alpha)z_t} $$\n",
                "$$ r_t = \\alpha \\frac{y_t}{k_t} $$\n",
                "$$ w_t = (1-\\alpha)y_t $$\n",
                "\n",
                "Finally, we assume the following law of motion for $ z_t $:\n",
                "$$ z_t = \\rho z_{t-1} + \\varepsilon_t; \\varepsilon_t \\sim iid(0,\\sigma^2) $$"
            ]
        },
        {
            "cell_type": "markdown",
            "metadata": {},
            "source": [
                "## Programming Definitions Functions"
            ]
        },
        {
            "cell_type": "markdown",
            "metadata": {},
            "source": [
                "We want to write a function, $\\Gamma(X_{t+1}, X_t, X_{t-1}, Y_{t+1}, Y_t, Z_{t+1}, Z_t) = 0 $ based on the Euler equation.  We will define our set of endogenous state variables as $X_t = k_{t+1}$, $Y_t = \\emptyset$, and $Z_t = z_t$."
            ]
        },
        {
            "cell_type": "markdown",
            "metadata": {},
            "source": [
                "First we can define $y_t, r_t, w_t$ and $c_t$ as functions of the state $(k_t, z_t)$ using the budget constraint and the conditions from the firm's problem.  The parameters of the model, $\\alpha, \\beta, \\gamma, \\delta, \\rho, \\& \\sigma$, are included in the Python list `mparams`.\n",
                "\n",
                "$$ y_t = k_t^\\alpha e^{(1-\\alpha)z_t} $$\n",
                "$$ r_t = \\alpha \\frac{y_t}{k_t} $$\n",
                "$$ w_t = (1-\\alpha)y_t $$\n",
                "$$ c_t = w_t + (1+r_t-\\delta)k_t - k_{t+1} $$\n",
                "$$ i_t = y_t - c_t $$\n",
                "$$ u_t = \\frac{c_t^{1-\\gamma}-1}{1-\\gamma} $$"
            ]
        },
        {
            "cell_type": "code",
            "execution_count": 1,
            "metadata": {},
            "outputs": [],
            "source": [
                "def modeldefs(Xm, Xn, Z, *mparams):\n",
                "    # unpack sets\n",
                "    k = Xm                            # k(t-1)\n",
                "    kp = Xn                           # k(t)\n",
                "    z = Z                             # z(t)\n",
                "    # find variables\n",
                "    y = k**alpha*np.exp((1-alpha)*z)  # y(t)\n",
                "    r = alpha*y/k                     # r(t)\n",
                "    w = (1-alpha)*y                   # w(t)\n",
                "    c = w + (1+r-delta)*k - kp        # c(t)\n",
                "    i = y - c                         # i(t)\n",
                "    if gamma == 1.0:                  # u(t)\n",
                "        u = np.log(c)\n",
                "    else:\n",
                "        u = (c**(1-gamma)-1)/(1-gamma)\n",
                "    if np.isnan(u) or np.isinf(u):\n",
                "        u = -1.0E+99\n",
                "    return y, r, w, c, i, u"
            ]
        },
        {
            "cell_type": "markdown",
            "metadata": {},
            "source": [
                "Next we define our $\\Gamma$ function which is simply the Euler equation rewritten.\n",
                "$$ \\Gamma = c_t^{-\\gamma} - \\beta c_{t+1}^{-\\gamma} (1+r_{t+1}-\\delta) $$\n"
            ]
        },
        {
            "cell_type": "code",
            "execution_count": 2,
            "metadata": {},
            "outputs": [],
            "source": [
                "def Gamma(invec, *mparams):\n",
                "    # unpack input vector\n",
                "    kpp = invec[0]    # k(t+2)\n",
                "    kp = invec[1]     # k(t+1)\n",
                "    k = invec[2]      # k(t)\n",
                "    zp = invec[3]     # z(t+1)\n",
                "    z = invec[4]      # z(t)\n",
                "    # find period t values\n",
                "    y, r, w, c, i, u = modeldefs(k, kp, z, *mparams)\n",
                "    # find period t+1 values\n",
                "    yp, rp, wp, cp, ip, up = modeldefs(kp, kpp, zp, *mparams)\n",
                "    # calculate Euler equation (Gamma function)\n",
                "    Gamma = c**(-gamma) - beta*(cp)**(-gamma)*(1+rp-delta)\n",
                "    return Gamma"
            ]
        },
        {
            "cell_type": "markdown",
            "metadata": {},
            "source": [
                "The advantage of writing the code with two functions is that we only need to code the definitions once.  We call that function twice, but we minimize the number of functions we need to code.  An alternative would be to use the following single function.\n"
            ]
        },
        {
            "cell_type": "code",
            "execution_count": 3,
            "metadata": {},
            "outputs": [],
            "source": [
                "def Gamma2(invec, *mparams):\n",
                "    # unpack sets\n",
                "    kpp = invec[0]    # k(t+2)\n",
                "    kp = invec[1]     # k(t+1)\n",
                "    k = invec[2]      # k(t)\n",
                "    zp = invec[3]     # z(t+1)\n",
                "    z = invec[4]      # z(t)\n",
                "    # find period t values\n",
                "    y = k**alpha*np.exp((1-alpha)*z)    # y(t)\n",
                "    r = alpha*y/k                       # r(t)\n",
                "    w = (1-alpha)*y                     # w(t)\n",
                "    c = w + (1+r-delta)*k - kp          # c(t)\n",
                "    i = y - c                           # i(t)\n",
                "    if gamma == 1.0:                  # u(t)\n",
                "        u = np.log(c)\n",
                "    else:\n",
                "        u = (c**(1-gamma)-1)/(1-gamma)\n",
                "    if np.isnan(u) or np.isinf(u):\n",
                "        u = -1.0E+99\n",
                "    # find period t+1 values\n",
                "    yp = kp**alpha*np.exp((1-alpha)*zp) # y(t+1)\n",
                "    rp = alpha*yp/kp                    # r(t+1)\n",
                "    wp = (1-alpha)*yp                   # w(t+1)\n",
                "    cp = wp + (1+rp-delta)*kp - kpp     # c(t+1)\n",
                "    ip = yp - cp                        # i(t+1)\n",
                "    if gamma == 1.0:                  # u(t)\n",
                "        up = np.log(cp)\n",
                "    else:\n",
                "        up = (cp**(1-gamma)-1)/(1-gamma)\n",
                "    if np.isnan(u) or np.isinf(u):\n",
                "        up = -1.0E+99\n",
                "    # calculate Euler equation (Gamma function)\n",
                "    Gamma = beta*(c/cp)**(gamma)*(1+rp-delta)\n",
                "    return Gamma"
            ]
        },
        {
            "cell_type": "markdown",
            "metadata": {},
            "source": [
                "However, using the function below requires making changes to each defitional function twice if we have made a coding error or if we change the model.  In addition, the definitions function is useful by itself for finding steady state and simulation values for y, r, w, c and i."
            ]
        },
        {
            "cell_type": "markdown",
            "metadata": {},
            "source": [
                "## Writing the Main Program"
            ]
        },
        {
            "cell_type": "markdown",
            "metadata": {},
            "source": [
                "Now we can write a program that will solve and simulate our model.\n",
                "First we need to call the Python packages and files we need."
            ]
        },
        {
            "cell_type": "code",
            "execution_count": 4,
            "metadata": {},
            "outputs": [],
            "source": [
                "import numpy as np\n",
                "import scipy as sp\n",
                "import matplotlib.pyplot as plt\n",
                "import scipy.optimize as opt\n",
                "from LinApp import LinApp_FindSS, LinApp_Deriv, LinApp_Solve, LinApp_SSL"
            ]
        },
        {
            "cell_type": "markdown",
            "metadata": {},
            "source": [
                "Next we set our parameter values."
            ]
        },
        {
            "cell_type": "code",
            "execution_count": 5,
            "metadata": {},
            "outputs": [],
            "source": [
                "alpha = .33\n",
                "beta = .95\n",
                "gamma = 2.5\n",
                "delta = .08\n",
                "rho = .9\n",
                "sigma = .02\n",
                "mparams = (alpha, beta, gamma, delta, rho, sigma)"
            ]
        },
        {
            "cell_type": "markdown",
            "metadata": {},
            "source": [
                "### Finding the Steady State"
            ]
        },
        {
            "cell_type": "markdown",
            "metadata": {},
            "source": [
                "To find the steady state we use LinApp_FindSS.\n",
                "\n",
                "This function takes the form - LinApp_FindSS(funcname, param, guessXY, Zbar, nx, ny), where funcname will be \"Gamma\", param will be \"mparams\", guessXY will be scalar guess for the value of kbar, Zbar is 0, nx is 1, and ny is 0.  The output is XYbar, which will just be kbar in our case.  guessXY and Zbar need to be numpy arrays.\n"
            ]
        },
        {
            "cell_type": "code",
            "execution_count": 6,
            "metadata": {},
            "outputs": [
                {
                    "name": "stdout",
                    "output_type": "stream",
                    "text": [
                        "kbar:  3.8980397970046137\n",
                        "check: 0.0\n"
                    ]
                }
            ],
            "source": [
                "# find the steady state\n",
                "guessXY = np.array([1.])\n",
                "zbar = np.array([0.])\n",
                "XYbar = LinApp_FindSS(Gamma, mparams, guessXY, zbar, 1, 0)\n",
                "kbar = XYbar[0]\n",
                "# check solution works\n",
                "invec = np.array([kbar, kbar, kbar, 0., 0.])\n",
                "check = Gamma(invec, *mparams)\n",
                "print('kbar: ', kbar)\n",
                "print('check:', check)"
            ]
        },
        {
            "cell_type": "markdown",
            "metadata": {},
            "source": [
                "We can get the steady states for all the other variables using our definintions function"
            ]
        },
        {
            "cell_type": "code",
            "execution_count": 7,
            "metadata": {},
            "outputs": [
                {
                    "name": "stdout",
                    "output_type": "stream",
                    "text": [
                        "ybar:  [1.56667628]\n",
                        "rbar:  [0.13263158]\n",
                        "wbar:  [1.04967311]\n",
                        "cbar:  [1.2548331]\n",
                        "ibar:  [0.31184318]\n",
                        "ubar:  [0.19239215]\n"
                    ]
                }
            ],
            "source": [
                "ybar, rbar, wbar, cbar, ibar, ubar = modeldefs(kbar, kbar, zbar, *mparams)\n",
                "print('ybar: ', ybar)\n",
                "print('rbar: ', rbar)\n",
                "print('wbar: ', wbar)\n",
                "print('cbar: ', cbar)\n",
                "print('ibar: ', ibar)\n",
                "print('ubar: ', ubar)"
            ]
        },
        {
            "cell_type": "markdown",
            "metadata": {},
            "source": [
                "### Solving for the Policy Function Parameters"
            ]
        },
        {
            "cell_type": "markdown",
            "metadata": {},
            "source": [
                "The next step is to find the derivatives of the Gamma function and then use these to solve for the coefficients of the linear policy function.  This requires using LinApp_Deriv and LinApp_Solve.\n",
                "\n",
                "We linearize or log-linearize the $\\Gamma(X_{t+1}, X_t, X_{t-1}, Y_{t+1}, Y_t, Z_{t+1}, Z_t) = 0 $ function about the steady state to get the following approximations.\n",
                "\n",
                "$$ A \\tilde X_{t} + B\\tilde X_{t-1} + C \\tilde Y_{t} + D \\tilde Z_{t} = 0$$\n",
                "\n",
                "$$E_t\\left\\{F \\tilde X_{t+1} + G \\tilde X_{t} + H \\tilde X_{t-1} + J \\tilde Y_{t+1} + K \\tilde Y_{t} + L \\tilde Z_{t+1} + M \\tilde Z_{t} \\right\\}= 0$$\n",
                "\n",
                "The top equation approximates the equation(s) defining any jump variables, while the bottom one approximates the equations(s) defining the endogenous state variable(s).\n",
                "\n",
                "Since we have no jump variables, we can ignore the top equation and write the bottom one as:\n",
                "\n",
                "$$E_t\\left\\{F \\tilde X_{t+1} + G \\tilde X_{t} + H \\tilde X_{t-1} + L \\tilde Z_{t+1} + M \\tilde Z_{t} \\right\\}= 0$$\n",
                "\n",
                "The linearized policy and jump functions are given by:\n",
                "\n",
                "$$\\tilde X_{t} = P \\tilde X_{t-1} + Q \\tilde Z_{t}$$\n",
                "\n",
                "$$\\tilde Y_{t} = R \\tilde X_{t-1} + S \\tilde Z_{t}$$\n",
                "\n",
                "Note that $\\tilde X_{t}$ is $X_{t} - \\bar X$ if we are simply linearizing, and is $\\frac{X_{t} - $X_{t} - \\bar X$}{$X_{t} - \\bar X}$ if we are log-linearizing.  The `LinApp_Deriv` function has an option that takes the appropriate derivatives.\n"
            ]
        },
        {
            "cell_type": "code",
            "execution_count": 8,
            "metadata": {},
            "outputs": [
                {
                    "name": "stdout",
                    "output_type": "stream",
                    "text": [
                        "PP: [[0.92276239]]\n",
                        "QQ [[0.59443154]]\n"
                    ]
                }
            ],
            "source": [
                "# find derivatives of Gamma\n",
                "\n",
                "# set the options for LinApp_Deriv\n",
                "nx = 1  # number of X variables\n",
                "ny = 0  # number of Y variables\n",
                "nz = 1  # number of Z variables\n",
                "takelogs = False  # if True the model is log-linearized, otherwise simple linearization\n",
                "\n",
                "[AA, BB, CC, DD, FF, GG, HH, JJ, KK, LL, MM] = \\\n",
                "    LinApp_Deriv(Gamma, mparams, invec, nx, ny, nz, takelogs)\n",
                "\n",
                "# set the options for LinApp_Solve\n",
                "Sylv = False  # if True use Python's built-in Sylvester equation solver, otherwise us the code in LinApp_Solve\n",
                "\n",
                "# NN is the autoregressive parameter in z's law of motion\n",
                "NN = rho\n",
                "# solve for coefficients\n",
                "PP, QQ, RR, SS = \\\n",
                "    LinApp_Solve(AA, BB, CC, DD, FF, GG, HH, JJ, KK, LL, MM, NN, zbar, Sylv)\n",
                "print('PP:',PP)\n",
                "print('QQ', QQ)\n"
            ]
        },
        {
            "cell_type": "markdown",
            "metadata": {},
            "source": [
                "### Simulating the Model"
            ]
        },
        {
            "cell_type": "markdown",
            "metadata": {},
            "source": [
                "Finally we simulate our model using LinApp_SSL\n",
                "\n",
                "This function takes the form - LinApp_SSL(X0, Z, XYbar, logX, PP, QQ, RR, SS), where X0 is the starting value and Z is a numpy array containing a history of Z's generated using the law of motion.  Both Z and kbar must be 2-dimensional numpy arrays.\n"
            ]
        },
        {
            "cell_type": "code",
            "execution_count": 9,
            "metadata": {},
            "outputs": [],
            "source": [
                "# generate a history of Z's\n",
                "T = 1000  # number of observations to generate\n",
                "# initialize Z\n",
                "zhist = np.zeros((T,1))\n",
                "# generate a history of epsilon shocks with mean zero and variance sigma-squared\n",
                "epshist = np.random.randn(T,1)*sigma\n",
                "# iteratively generate Z's starting with the first value of Z = 0\n",
                "for t in range (1,T):\n",
                "    zhist[t,:] = rho*zhist[t-1,:] + epshist[t,:]\n",
                "# generate a history of k's\n",
                "kbar2 = np.array([[kbar]])\n",
                "khist, temp = LinApp_SSL(kbar2, zhist, kbar2, takelogs, PP, QQ, RR, SS)"
            ]
        },
        {
            "cell_type": "markdown",
            "metadata": {},
            "source": [
                "With a history of k's and z's we have a history of all our state variables.  We can use our definitions function to get the histories of all the other variables."
            ]
        },
        {
            "cell_type": "code",
            "execution_count": 10,
            "metadata": {},
            "outputs": [],
            "source": [
                "# initialize histories of all other variables\n",
                "yhist = np.zeros(T)\n",
                "rhist = np.zeros(T)\n",
                "whist = np.zeros(T)\n",
                "chist = np.zeros(T)\n",
                "ihist = np.zeros(T)\n",
                "uhist = np.zeros(T)\n",
                "# set initial values noting we started at the steady state\n",
                "yhist[0] = ybar\n",
                "rhist[0] = rbar\n",
                "whist[0] = wbar\n",
                "chist[0] = cbar\n",
                "ihist[0] = ibar\n",
                "uhist[0] = ubar\n",
                "# compute values for all other time periods\n",
                "for t in range(1, T-1):\n",
                "    yhist[t], rhist[t], whist[t], chist[t], ihist[t], uhist[t] = \\\n",
                "        modeldefs(khist[t-1], khist[t], zhist[t,:], *mparams)"
            ]
        },
        {
            "cell_type": "markdown",
            "metadata": {},
            "source": [
                "Lastly we can plot our simulated data"
            ]
        },
        {
            "cell_type": "code",
            "execution_count": 11,
            "metadata": {},
            "outputs": [
                {
                    "data": {
                        "image/png": "[encoded data removed]",
                        "text/plain": [
                            "<Figure size 432x288 with 1 Axes>"
                        ]
                    },
                    "metadata": {
                        "needs_background": "light"
                    },
                    "output_type": "display_data"
                }
            ],
            "source": [
                "# plot data\n",
                "t = range(0, T)\n",
                "plt.plot(t, khist, label='k')\n",
                "plt.plot(t, zhist, label='z')\n",
                "plt.plot(t, yhist, label='y')\n",
                "plt.plot(t, rhist, label='r')\n",
                "plt.plot(t, whist, label='w')\n",
                "plt.plot(t, chist, label='c')\n",
                "plt.plot(t, ihist, label='i')\n",
                "plt.plot(t, uhist, label='u')\n",
                "plt.xlabel('time')\n",
                "plt.legend(loc=9, ncol=4, bbox_to_anchor=(0., 1.02, 1., .102))\n",
                "plt.show()"
            ]
        }
    ],
    "metadata": {
        "celltoolbar": "Raw Cell Format",
        "kernelspec": {
            "display_name": "Python 3",
            "language": "python",
            "name": "python3"
        },
        "language_info": {
            "codemirror_mode": {
                "name": "ipython",
                "version": 3
            },
            "file_extension": ".py",
            "mimetype": "text/x-python",
            "name": "python",
            "nbconvert_exporter": "python",
            "pygments_lexer": "ipython3",
            "version": "3.7.3"
        }
    },
    "nbformat": 4,
    "nbformat_minor": 4
}