{
    "cells": [
        {
            "cell_type": "markdown",
            "metadata": {},
            "source": [
                "# Two Examples of Calculating Euler Errors in a DSGE Model\n",
                "\n",
                "### by [Kerk L. Phillips](https://sites.google.com/site/kerkphillips/home), July 2018\n",
                "\n",
                "The code in this Jupyter notebook was written using Python 3.6."
            ]
        },
        {
            "cell_type": "markdown",
            "metadata": {},
            "source": [
                "This notebook explains how to caclualte the Euler errors for a simple DSGE model.  The model is solved and simulated two different ways: 1) using linearization about the steady state, amnd 2) using value-function iteration on a full cartesian grid.  This notebook uses a variety of downloadable code that can be found at the following Github site.  [https://github.com/kerkphil/DSGE-Utilities](https://github.com/kerkphil/DSGE-Utilities).\n",
                "\n",
                "All the necessary files and this notebook can also be found in the public GitHub repository [https://github.com/kerkphil/Jupyter_Notebooks](https://github.com/kerkphil/Jupyter_Notebooks)."
            ]
        },
        {
            "cell_type": "markdown",
            "metadata": {},
            "source": [
                "## The Model"
            ]
        },
        {
            "cell_type": "markdown",
            "metadata": {},
            "source": [
                "Consider a model where an infinitely-lived representative agent solves the following dynamic program:\n",
                "$$ V(k_t,z_t) = \\max_{k_{t+1}} \\frac{c_t^{1-\\gamma} - 1}{1-\\gamma} + \\beta E \\left\\{ V(k_{t+1},z_{t+1}) \\right\\} $$\n",
                "Subject to the following budget constraint:\n",
                "$$ c_t = w_t + (1+r_t-\\delta)k_t - k_{t+1} $$\n",
                "The Euler equation from this optimization problem is:\n",
                "$$ c_t^{-\\gamma} = \\beta E \\left\\{ c_{t+1}^{-\\gamma} (1+r_{t+1}-\\delta) \\right\\} $$\n",
                "\n",
                "The representative firm solves the following static problem each period:\n",
                "$$ \\max_{K_t,L_t} \\Pi = K_t^\\alpha (e^{z_t} L_t)^{1-\\alpha} - r_t K_t - w_t L_t $$\n",
                "The solution to this problems yields the following:\n",
                "$$ Y_t = K_t^\\alpha (e^{z_t} L_t)^{1-\\alpha} $$\n",
                "$$ r_t = \\alpha \\frac{Y_t}{K_t} $$\n",
                "$$ w_t = (1-\\alpha) \\frac{Y_t}{L_t} $$\n",
                "\n",
                "The market clearing conditions are:\n",
                "$$ k_t = K_t $$\n",
                "$$ 1 = L_t $$\n",
                "\n",
                "The law of motion for the technology deviations is:\n",
                "$$ z_t = \\rho z_{t-1} + \\epsilon_t;\\; \\epsilon_t \\sim iid(0,\\sigma^2) $$\n",
                "\n",
                "The state variables in this model are $k_t$ and $z_t$."
            ]
        },
        {
            "cell_type": "markdown",
            "metadata": {},
            "source": [
                "### The Definitions Function"
            ]
        },
        {
            "cell_type": "markdown",
            "metadata": {},
            "source": [
                "We first define a definitions function that gives the non-state variables now as functions of the state variables now and last period.  Note that for notational purposes we have listed the current capital stock as $k_t$, even though this was chosen in the previous period.  $k_{t+1}$ is chosen in the current period."
            ]
        },
        {
            "cell_type": "code",
            "execution_count": 1,
            "metadata": {},
            "outputs": [],
            "source": [
                "def example_def(kp, k, z, param):\n",
                "    # calculate definitions for GDP, wages, rental rates, consumption\n",
                "    np.exp((1-alpha)*z)\n",
                "    y = k**alpha*np.exp((1-alpha)*z)\n",
                "    w = (1-alpha)*y\n",
                "    r = alpha*y/k\n",
                "    c = w + (1+r-delta)*k - kp\n",
                "    i = y - c\n",
                "    return y, c, i, r, w"
            ]
        },
        {
            "cell_type": "markdown",
            "metadata": {},
            "source": [
                "### The Characterizing Equations"
            ]
        },
        {
            "cell_type": "markdown",
            "metadata": {},
            "source": [
                "Next, we define an Euler equation written in the form:\n",
                "$$ E \\{ \\Gamma(k_{t+2}, k_{t+1}, k_t, z_{t+1}, z_t) \\} = 0 $$"
            ]
        },
        {
            "cell_type": "code",
            "execution_count": 2,
            "metadata": {},
            "outputs": [],
            "source": [
                "def example_dyn(invec, param):\n",
                "    # unpack invec\n",
                "    kplus = invec[0]\n",
                "    know = invec[1]\n",
                "    kminus = invec[2]\n",
                "    zplus = invec[3]\n",
                "    znow = invec[4]\n",
                "\n",
                "    # get definitions each period\n",
                "    ynow, cnow, inow, rnow, wnow = example_def(know, kminus, znow, param)\n",
                "    yplus, cplus, iplus, rplus, wplus = example_def(kplus, know, zplus, param)\n",
                "\n",
                "    # calculate Gamma function\n",
                "    Gamma = cnow**(-theta) / (beta*(cplus**(-theta)*(1+rplus-delta))) - 1.0\n",
                "    \n",
                "    return Gamma"
            ]
        },
        {
            "cell_type": "markdown",
            "metadata": {},
            "source": [
                "In order to simulate and to calculate the Euler error we need a function for the law of motion for $z_t$"
            ]
        },
        {
            "cell_type": "code",
            "execution_count": 3,
            "metadata": {},
            "outputs": [],
            "source": [
                "def example_lfunc(z, eps, lpars):\n",
                "    zp = rho*z + sigma*eps\n",
                "    return zp"
            ]
        },
        {
            "cell_type": "markdown",
            "metadata": {},
            "source": [
                "Lastly, we define a function that takes the set $\\{ k_{t+2}, k_{t+1}, k_t, z_{t+1}, z_t \\} $ as individual items, rather than a vector, and returns the value of $\\Gamma$ from above.  We will use this in calculating our Euler errors."
            ]
        },
        {
            "cell_type": "code",
            "execution_count": 4,
            "metadata": {},
            "outputs": [],
            "source": [
                "def example_efunc(kpp, kp, k, zp, z, epars):\n",
                "    invec = np.array([kpp, kp, k[0], zp[0], z[0]])\n",
                "    outvec = example_dyn(invec, epars)\n",
                "    return outvec"
            ]
        },
        {
            "cell_type": "markdown",
            "metadata": {},
            "source": [
                "## Euler Error Calculator"
            ]
        },
        {
            "cell_type": "markdown",
            "metadata": {},
            "source": [
                "The Euler error is the devaition of the $\\Gamma$ function from zero in a given period for the simulation.  Note that this function requires taking an expected value.\n",
                "\n",
                "$$ E \\{ \\Gamma(k_{t+2}, k_{t+1}, k_t, z_{t+1}, z_t) \\} = 0 $$\n",
                "\n",
                "In order to calculate the Euler error a policy function for $k_{t+1}$.  The functional form will depend on the method we use to approximate it.  We write this function generally as:\n",
                "$$ k_{t+1} = \\Phi(k_t, z_t) $$\n",
                "\n",
                "To calculate the Euler error we must use some form of quadrature to integrate over the possible values of $\\epsilon_{t+1}$.  We denote the node values and their associated probabilites for this quadrature as $ \\{\\varepsilon_j, \\phi_j\\}_{j=1}^J $.\n",
                "\n",
                "Since $k_t$, $z_t$ and $k_{t+1} are known today we need only substitute in the law of motion and the policy function to evaluate the Euler error\n",
                "\n",
                "$$ e_t = \\sum_{j=1}^J \\phi_j \\Gamma(\\Phi(k_{t+1}, \\rho z_t + \\varepsilon_j), k_{t+1}, k_t, \\rho z_t + \\varepsilon_j, z_t) \\} $$\n",
                "\n",
                "We now load Python code that calculates Euler errors.  This code is available at [https://github.com/kerkphil/DSGE-Utilities](https://github.com/kerkphil/DSGE-Utilities).  However, we recreate it here to illustrate how the Euler errors are calculated along the lines discussed above."
            ]
        },
        {
            "cell_type": "code",
            "execution_count": 5,
            "metadata": {},
            "outputs": [],
            "source": [
                "import numpy as np\n",
                "from scipy.stats import norm\n",
                "\n",
                "def EEcalc(Xdata, Zdata, efunc, epars, tfunc, tpars, lfunc, lpars):\n",
                "    '''\n",
                "    This function calculates Euler Errors for a DSGE model.\n",
                "    It takes the following as inputs:\n",
                "    1)  Xdata: an nobs-by-nx matrix of endogenous state variable data with with \n",
                "        nobs indexing the observations in rows and nx indexing the variables in \n",
                "        columns.\n",
                "    2)  Zdata: an nobs-by-nz matrix of exogenous state variable data with with \n",
                "        nobs indexing the observations in rows and nz indexing the variables in \n",
                "        columns.\n",
                "    3)  efunc: the name of a function which takes a single observation of data \n",
                "        and returns the Euler error for a given realization of future exogenous \n",
                "        variables.  This function must take 3 nx-element vectors of endogenous\n",
                "        state variables and and 2 nz-element vector of exogenous state \n",
                "        variables as inputs and output an neq-element vector of Euler equation \n",
                "        errors.  The order of input is X(t+2), X(t+1), X(t), Z(t+1), Z(t),\n",
                "        epars\n",
                "    4)  epars: a list of parameters passed to efunc.\n",
                "    5)  tfunc: the name of a transition function which takes a single \n",
                "        observation of the state variables and returns next period's value of \n",
                "        the endogenous state variables.  This function must take an nx-element \n",
                "        vector of endogenous state variables and and nz-element vector of \n",
                "        exogenous state variables as inputs and output an nz-element vector of \n",
                "        next-period endogenous state variables.  The order of inputs is X(t), \n",
                "        Z(t), tpars\n",
                "    6)  tpars: a list of parameters passed to tfunc.\n",
                "    7)  lfunc: the name of a law-of-motion function which takes a single \n",
                "        observation of the exogenous state variables and returns next period's \n",
                "        value of the exogenous state variables.  This function must take an \n",
                "        nz-element of exogenous state and an scalar iid shock as inputs \n",
                "        and output an nz-element vector of next-period endogenous state \n",
                "        variables. The order of inputs is Z(t), Eps(t+1), epars\n",
                "    8)  lpars: a list of parameters passed to lfunc.\n",
                "    \n",
                "    The function returns the following outputs:\n",
                "    1)  Eerr: an nobs-by-neq matrix of Euler errors with nobs indexing the \n",
                "        observations in rows and neq indexing the elements from the function \n",
                "        efunc in columns.\n",
                "        \n",
                "    Notes:\n",
                "    Xdata and Zdata must have the same number of rows.\n",
                "    Neither Xdata nor Zdata may have missing, nan, or complex values. \n",
                "    Innovations to the law of motion are drawn from a standard normal \n",
                "    distribution.\n",
                "    Currently this function only works with one innovation shock, i.e. ne=1\n",
                "\n",
                "    To Do:\n",
                "    1) Allow for more than one shock process.  May require the use of sparse \n",
                "    grids for quadrature.\n",
                "    2) Use a more efficient quadrature method.  Gaussian?\n",
                "    '''\n",
                "    \n",
                "    # set parameter values\n",
                "    npts = 10 # number of point for rectangular quadrature\n",
                "    \n",
                "    # check sizes of data matrices\n",
                "    (Xnobs, nx) = Xdata.shape\n",
                "    (Znobs, nz) = Zdata.shape\n",
                "    if Xnobs == Znobs:\n",
                "        nobs = Xnobs\n",
                "    else:\n",
                "        print ('Data matrices have different numbers of observations')\n",
                "        nobs = min(Xnobs, Znobs)\n",
                "        Xdata = Xdata[0:nobs]\n",
                "        Zdata = Zdata[0:nobs]\n",
                "    \n",
                "    # generate discret support for epsilon to be used in Euler error\n",
                "    # Eps are the central values\n",
                "    # Phi are the associated probabilities\n",
                "    Eps = np.zeros(npts);\n",
                "    Cum = np.linspace(0.0, 1.0, num=npts+1)+.5/npts\n",
                "    Cum = Cum[0:npts]\n",
                "    Phi = np.ones(npts)/npts\n",
                "    Eps = norm.ppf(Cum)\n",
                "\n",
                "    neq = nx\n",
                "    \n",
                "    # initialize matrix of Euler errors\n",
                "    Eerr = np.zeros((nobs,neq))\n",
                "    # begin loop over time periods\n",
                "    for t in range(0, nobs):\n",
                "        # begin loop over possible va,lues of shock next period\n",
                "        for i in range(0, npts):\n",
                "            # find value of next period Z\n",
                "            Zp = lfunc(Zdata[t,:],Eps[i],lpars)\n",
                "            # find the value of X next period\n",
                "            Xp = tfunc(Xdata[t,:],Zdata[t,:],tpars)\n",
                "            # find the value of X in two periods\n",
                "            Xpp = tfunc(Xp,Zp,tpars)\n",
                "            # find the Euler errors\n",
                "            Eerr[t,:] = Eerr[t,:] + Phi[i]*efunc(Xpp,Xp,Xdata[t,:], \\\n",
                "                Zp,Zdata[t,:],epars)\n",
                "    return Eerr"
            ]
        },
        {
            "cell_type": "markdown",
            "metadata": {},
            "source": [
                "## Solving and Simulating Using Linearization"
            ]
        },
        {
            "cell_type": "markdown",
            "metadata": {},
            "source": [
                "To linearize we use the LinApp package available at [https://github.com/kerkphil/DSGE-Utilities](https://github.com/kerkphil/DSGE-Utilities).\n",
                "\n",
                "The LinApp package includes the following functions:\n",
                "\n",
                "LinApp_FindSS - Takes a function, funcname.py, and a steady state value for the exogenous state variables as inputs.  Finds the steady state for the model's endogenous state and jump variables.\n",
                "\n",
                "LinApp_Deriv - Takes a function, funcname.py, as an input.   Generates the derivative matrices needed for the Uhlig toolkit.\n",
                "\n",
                "LinApp_Solve - Takes the derivative matrices as inputs.  Uses the code from the Uhlig toolkit to generate the coefficients for the linearized policy function(s).\n",
                "\n",
                "LinApp_Sim - Takes the policy function coefficients and current state as inputs.  Generates the value(s) of the endogenous state variables for the next period.\n",
                "\n",
                "LinApp_SSL - Takes a history of exogenous state variables and the policy function coefficients as inputs.  Generates a history of state and jump variables using linearization about the steady state."
            ]
        },
        {
            "cell_type": "markdown",
            "metadata": {},
            "source": [
                "We first define our policy or transition function for the linearized case.  This is:\n",
                "\n",
                "$$ k_{t+1} = \\bar k + P (k_t - \\bar k) + Q z_t $$\n",
                "\n",
                "The LinApp package will find the values of $\\bar k$, $P$ and $Q$."
            ]
        },
        {
            "cell_type": "code",
            "execution_count": 9,
            "metadata": {},
            "outputs": [],
            "source": [
                " def example_tfunc(k, z, tpars):\n",
                "    kp = PP*(k-kbar) + QQ*z + kbar\n",
                "    return kp"
            ]
        },
        {
            "cell_type": "markdown",
            "metadata": {},
            "source": [
                "We now proceed with our main program"
            ]
        },
        {
            "cell_type": "code",
            "execution_count": 10,
            "metadata": {},
            "outputs": [
                {
                    "name": "stdout",
                    "output_type": "stream",
                    "text": [
                        "kbar is  2.259808539186245\n",
                        "check should be close to zero and is  2.220446049250313e-16\n",
                        "P is  [[0.90121425]]\n",
                        "Q is  [[0.40395128]]\n"
                    ]
                }
            ],
            "source": [
                "from LinApp import LinApp_FindSS, LinApp_Deriv, LinApp_Solve\n",
                "\n",
                "# set parameter values\n",
                "#  model parameters\n",
                "delta = .08\n",
                "alpha = .33\n",
                "theta = 2.5\n",
                "beta = .9\n",
                "rho = .9\n",
                "sigma = .0075\n",
                "params = [delta, alpha, theta, rho, sigma, beta]\n",
                "\n",
                "#  other parameters\n",
                "nobs = 300       # number of periods in simulatipon\n",
                "kstart = 1       # starting value for simulation (proportional to kbar)\n",
                "nx = 1           # number of endogenous state variables\n",
                "ny = 0           # number of jump variables\n",
                "nz = 1           # number of exogenous state variables\n",
                "takelogs = False # if True log-linearize, otherwise simple linearization\n",
                "useSylv = False  # if ture use a built-in Sylvester equation solver\n",
                "\n",
                "# find the steady state\n",
                "guessk= np.array([1.])\n",
                "zbar = np.array([0.])\n",
                "kbar = LinApp_FindSS(example_dyn, params, guessk, zbar, nx, ny)\n",
                "# convert from numpy array to real\n",
                "kbar = kbar[0]\n",
                "# check that the solution works\n",
                "invec = np.array([kbar, kbar, kbar, 0., 0.])\n",
                "check = example_dyn(invec, params)\n",
                "print('kbar is ', kbar)\n",
                "print('check should be close to zero and is ', check)\n",
                "\n",
                "# find derivatives\n",
                "AA, BB, CC, DD, FF, GG, HH, JJ, KK, LL, MM = \\\n",
                "    LinApp_Deriv(example_dyn, params, invec, nx, ny, nz, takelogs)\n",
                "\n",
                "# find policy function coefficients\n",
                "PP, QQ, RR, SS = \\\n",
                "    LinApp_Solve(AA, BB, CC, DD, FF, GG, HH, JJ, KK, LL, MM, \\\n",
                "                 rho, zbar, useSylv)\n",
                "\n",
                "print('P is ', PP)\n",
                "print('Q is ', QQ)"
            ]
        },
        {
            "cell_type": "markdown",
            "metadata": {},
            "source": [
                "We now simulate our model"
            ]
        },
        {
            "cell_type": "code",
            "execution_count": 11,
            "metadata": {},
            "outputs": [],
            "source": [
                "# perform simulation\n",
                "tpars = (PP, QQ, kbar)\n",
                "lpars = (rho)\n",
                "eps = np.random.randn(nobs)*sigma\n",
                "z = np.zeros((nobs+1))\n",
                "k = np.zeros((nobs+1))\n",
                "y = np.zeros(nobs)\n",
                "r = np.zeros(nobs)\n",
                "w = np.zeros(nobs)\n",
                "i = np.zeros(nobs)\n",
                "c = np.zeros(nobs)\n",
                "k[0] = kbar*kstart\n",
                "z[0] = eps[0]\n",
                "for t in range(0, nobs):\n",
                "    z[t+1] = example_lfunc(z[t], eps[t], lpars)\n",
                "    k[t+1] = example_tfunc(k[t], z[t], tpars)\n",
                "    y[t], c[t], i[t], r[t], w[t] = example_def(k[t+1], k[t], z[t], params)\n",
                "k = k[0:nobs]\n",
                "z = z[0:nobs]"
            ]
        },
        {
            "cell_type": "markdown",
            "metadata": {},
            "source": [
                "Finally, we calculate our Euler errors using the `EEcalc` function from above."
            ]
        },
        {
            "cell_type": "code",
            "execution_count": 12,
            "metadata": {},
            "outputs": [
                {
                    "name": "stdout",
                    "output_type": "stream",
                    "text": [
                        "Euler Error Summary Statistics\n",
                        "Maximum Absolute Euler Error: 4.1307840607639895e-05\n",
                        "Mean Absolute Euler Error: 4.129482169021037e-05\n",
                        "Root Mean Squared Euler Error: 4.129482309669719e-05\n"
                    ]
                }
            ],
            "source": [
                "# find Euler Errors\n",
                "Xdata = k.reshape(len(k), 1)\n",
                "Zdata = z.reshape(len(z), 1)\n",
                "efunc = example_efunc\n",
                "epars = params\n",
                "tfunc = example_tfunc\n",
                "lfunc = example_lfunc\n",
                "EErrs = EEcalc(Xdata, Zdata, efunc, epars, tfunc, tpars, lfunc, lpars)\n",
                "\n",
                "MaxAbsEE = np.max(np.abs(EErrs))\n",
                "MeanAbsEE = np.mean(np.abs(EErrs))\n",
                "RootMeanSqEE = (np.mean(EErrs**2))**.5\n",
                "\n",
                "print('Euler Error Summary Statistics')\n",
                "print('Maximum Absolute Euler Error:', MaxAbsEE)\n",
                "print('Mean Absolute Euler Error:', MeanAbsEE)\n",
                "print('Root Mean Squared Euler Error:', RootMeanSqEE)"
            ]
        },
        {
            "cell_type": "markdown",
            "metadata": {},
            "source": [
                "## Solving and Simulating Using Value-Function Iteration"
            ]
        },
        {
            "cell_type": "markdown",
            "metadata": {},
            "source": [
                "The policy or transtion function in this case could be to take values straight from the discrete verision of the policy function calculated over the grid.  Or we could use a continuous polynomial function fitted to that.  This is shown below with the option `gridsim` indicating which is used."
            ]
        },
        {
            "cell_type": "code",
            "execution_count": 10,
            "metadata": {},
            "outputs": [],
            "source": [
                "def example_tfunc2(k, z, tpars):\n",
                "    k = np.reshape(k,(1))\n",
                "    z = np.reshape(z,(1))\n",
                "    if gridsim:\n",
                "        # perform simulation with grid\n",
                "        kidx = np.argmin(np.abs(kvec-k)) # index of closest value for k\n",
                "        zidx = np.argmin(np.abs(zvec-z)) # index of closest value for z\n",
                "        kp = trans[zidx,kidx];\n",
                "    else:\n",
                "        # perform simulation with polynomial fit\n",
                "        temp =  np.stack(([1.0], k, k**2, k**3, z, z**2, z**3, k*z, k**2*z, \\\n",
                "                              k*z**2))\n",
                "        kp = np.dot(coeffs,temp)\n",
                "    return kp"
            ]
        },
        {
            "cell_type": "markdown",
            "metadata": {},
            "source": [
                "We use many of the same model parameters as before, but must define new ones specific to value-function iteration"
            ]
        },
        {
            "cell_type": "code",
            "execution_count": 11,
            "metadata": {},
            "outputs": [],
            "source": [
                "low = .2           # low end of k grid (proportional to kbar)\n",
                "high = 5           # high end of k grid (proportional to kbar)\n",
                "spread = 3         # spread of the z grid (proportional to sigma)\n",
                "nptsk = 21         # number of points in the k grid\n",
                "nptsz = 21         # number of points in the z grid\n",
                "converge = .0001;  # convergence criterion for value-function iteration\n",
                "gridsim = 0        # set to 1 to use grid, 0 to use polynomial fit"
            ]
        },
        {
            "cell_type": "markdown",
            "metadata": {},
            "source": [
                "We now find the policy function"
            ]
        },
        {
            "cell_type": "code",
            "execution_count": 12,
            "metadata": {},
            "outputs": [
                {
                    "name": "stderr",
                    "output_type": "stream",
                    "text": [
                        "C:\\Anaconda3\\lib\\site-packages\\ipykernel_launcher.py:44: RuntimeWarning: invalid value encountered in double_scalars\n"
                    ]
                },
                {
                    "name": "stdout",
                    "output_type": "stream",
                    "text": [
                        "count =  1 distance =  1.0\n",
                        "count =  2 distance =  0.5452517012577935\n",
                        "count =  3 distance =  0.3558578751497489\n",
                        "count =  4 distance =  0.6402419193387543\n",
                        "count =  5 distance =  0.18632670588729233\n",
                        "count =  6 distance =  0.457206920739312\n",
                        "count =  7 distance =  0.27937124710057004\n",
                        "count =  8 distance =  0.11249655568784568\n",
                        "count =  9 distance =  0.06774281340580439\n",
                        "count =  10 distance =  0.05504814003122724\n",
                        "count =  11 distance =  0.054319684882198786\n",
                        "count =  12 distance =  0.1882708196999667\n",
                        "count =  13 distance =  0.06565295655067123\n",
                        "count =  14 distance =  0.06296436620907432\n",
                        "count =  15 distance =  0.04568130780380501\n",
                        "count =  16 distance =  0.5817832636324972\n",
                        "count =  17 distance =  0.02512202815731057\n",
                        "count =  18 distance =  0.021323751656452176\n",
                        "count =  19 distance =  0.020008745300104862\n",
                        "count =  20 distance =  0.016689417863437788\n",
                        "count =  21 distance =  0.01384304130664234\n",
                        "count =  22 distance =  0.04043552605459304\n",
                        "count =  23 distance =  0.01179425830371814\n",
                        "count =  24 distance =  0.010269306761934221\n",
                        "count =  25 distance =  0.010690571033560836\n",
                        "count =  26 distance =  0.025526080251059652\n",
                        "count =  27 distance =  0.02281341004859364\n",
                        "count =  28 distance =  0.011624130044963033\n",
                        "count =  29 distance =  0.051698897214070165\n",
                        "count =  30 distance =  0.00836513795432216\n",
                        "count =  31 distance =  0.00817206192486026\n",
                        "count =  32 distance =  0.020646933896586058\n",
                        "count =  33 distance =  0.0059615592616783725\n",
                        "count =  34 distance =  0.004746123775527513\n",
                        "count =  35 distance =  0.004398992470708536\n",
                        "count =  36 distance =  0.004855450416478893\n",
                        "count =  37 distance =  0.014909188612209927\n",
                        "count =  38 distance =  0.004948484044399965\n",
                        "count =  39 distance =  0.003091286890129275\n",
                        "count =  40 distance =  0.002438408202784564\n",
                        "count =  41 distance =  0.0020222196325331843\n",
                        "count =  42 distance =  0.0016079210612918095\n",
                        "count =  43 distance =  0.001396214139516988\n",
                        "count =  44 distance =  0.0012242864108945172\n",
                        "count =  45 distance =  0.0010548614822109195\n",
                        "count =  46 distance =  0.0008695726835235689\n",
                        "count =  47 distance =  0.0007793475886318042\n",
                        "count =  48 distance =  0.0007001949984184134\n",
                        "count =  49 distance =  0.0006295645414008359\n",
                        "count =  50 distance =  0.0005663993215903701\n",
                        "count =  51 distance =  0.0005098092032884781\n",
                        "count =  52 distance =  0.0004582016198447428\n",
                        "count =  53 distance =  0.00039701654024634043\n",
                        "count =  54 distance =  0.000356072071861924\n",
                        "count =  55 distance =  0.0003206711053411534\n",
                        "count =  56 distance =  0.00028908705571369634\n",
                        "count =  57 distance =  0.00026062965063489255\n",
                        "count =  58 distance =  0.0002349639712529274\n",
                        "count =  59 distance =  0.00021181356175402826\n",
                        "count =  60 distance =  0.0001909308318576549\n",
                        "count =  61 distance =  0.00017209355498468346\n",
                        "count =  62 distance =  0.00015510191427396596\n",
                        "count =  63 distance =  0.00013977598787201997\n",
                        "count =  64 distance =  0.0001259535892149283\n",
                        "count =  65 distance =  0.00011348839663551855\n",
                        "count =  66 distance =  0.00010224832093755675\n",
                        "count =  67 distance =  9.211407060160057e-05\n"
                    ]
                }
            ],
            "source": [
                "# set up grid for k\n",
                "klow = low*kbar   # low end of grid\n",
                "khigh = high*kbar # high end of grid\n",
                "kincr = np.log(khigh/klow)/(nptsk-1);\n",
                "kvec = np.zeros(nptsk)\n",
                "kvec[0] = klow\n",
                "for i in range (1, nptsk):\n",
                "    kvec[i] = kvec[i-1]*(1+kincr)\n",
                "\n",
                "# set up grid for z\n",
                "zlow = -spread*max(sigma, .001)\n",
                "zhigh = spread*max(sigma, .001)\n",
                "zincr = (zhigh-zlow)/(nptsz-1);\n",
                "zvec = np.zeros(nptsz)\n",
                "zvec[0] = zlow\n",
                "for i in range (1, nptsz):\n",
                "    zvec[i] = zvec[i-1] + zincr\n",
                "\n",
                "# create meshgrid\n",
                "kmesh, zmesh = np.meshgrid(kvec, zvec)\n",
                "\n",
                "# find value function and transition function\n",
                "distance = 1.0;\n",
                "maxwhile = 1000;\n",
                "count = 0;\n",
                "value = np.zeros((nptsz,nptsk));\n",
                "newval = np.zeros((nptsz,nptsk));\n",
                "trans = np.zeros((nptsz,nptsk));\n",
                "while distance > converge:\n",
                "    count = count + 1\n",
                "    if count > maxwhile:\n",
                "        break\n",
                "    for i in range(0, nptsz): # for all values of z(t)\n",
                "        # find index of closest value for E{z(t+1)}\n",
                "        m = np.argmin(np.abs(zvec - zvec[i]*rho))\n",
                "        for j in range(0, nptsk): # for all values of k(t)\n",
                "            maxval = -10000000000;\n",
                "            for l in range(0, nptsk): # search over all values of k(t+1)\n",
                "                if theta == 1:\n",
                "                    temp = np.log(kvec[j]**alpha*np.exp((1-alpha)*zvec[i]) \n",
                "                    +(1-delta)*kvec[j]-kvec[l]) + beta*value[m,l]\n",
                "                else:\n",
                "                    temp = (((kvec[j]**alpha*np.exp((1-alpha)*zvec[i]) \n",
                "                    +(1-delta)*kvec[j]-kvec[l])**(1-theta)-1)) \\\n",
                "                    / (1-theta) + beta*value[m,l]\n",
                "                # print i, j, temp\n",
                "                if np.iscomplex(temp):\n",
                "                   temp = -100000000\n",
                "                if np.isnan(temp):\n",
                "                    temp = -100000000\n",
                "                if temp > maxval:\n",
                "                    maxval = temp\n",
                "                    newval[i,j] = temp\n",
                "                    trans[i,j] = kvec[l]\n",
                "    # print newval\n",
                "    distance = np.mean(np.abs(value/newval - 1.0))\n",
                "    print('count = ', count, 'distance = ', distance)\n",
                "    for i in range(0, nptsz):\n",
                "        for j in range(0, nptsk):\n",
                "            value[i,j] = newval[i,j]"
            ]
        },
        {
            "cell_type": "markdown",
            "metadata": {},
            "source": [
                "Fit the policy function with a polynomial"
            ]
        },
        {
            "cell_type": "code",
            "execution_count": 13,
            "metadata": {},
            "outputs": [
                {
                    "name": "stdout",
                    "output_type": "stream",
                    "text": [
                        "R-squared 0.999335409097344\n"
                    ]
                }
            ],
            "source": [
                " # fit a polynomial\n",
                "Y = trans.flatten()\n",
                "\n",
                "X = np.ones(nptsk*nptsz)\n",
                "\n",
                "temp = kmesh.flatten()\n",
                "X = np.vstack((X,temp))\n",
                "\n",
                "temp = kmesh**2\n",
                "temp = temp.flatten()\n",
                "X = np.vstack((X,temp))\n",
                "\n",
                "temp = kmesh**3\n",
                "temp = temp.flatten()\n",
                "X = np.vstack((X,temp))\n",
                "\n",
                "temp = zmesh.flatten()\n",
                "X = np.vstack((X,temp))\n",
                "\n",
                "temp = zmesh**2\n",
                "temp = temp.flatten()\n",
                "X = np.vstack((X,temp))\n",
                "\n",
                "temp = zmesh**3\n",
                "temp = temp.flatten()\n",
                "X = np.vstack((X,temp))\n",
                "\n",
                "temp = kmesh*zmesh\n",
                "temp = temp.flatten()\n",
                "X = np.vstack((X,temp))\n",
                "\n",
                "temp = kmesh**2*zmesh\n",
                "temp = temp.flatten()\n",
                "X = np.vstack((X,temp))\n",
                "\n",
                "temp = kmesh*zmesh**2\n",
                "temp = temp.flatten()\n",
                "X = np.vstack((X,temp))\n",
                "\n",
                "XtX = np.dot(X,np.transpose(X))\n",
                "XtY = np.dot(X,Y)\n",
                "coeffs = np.dot(np.linalg.inv(XtX),XtY)\n",
                "tpoly = np.zeros((nptsz,nptsk))\n",
                "for i in range(0, nptsz):\n",
                "    for j in range(0, nptsk):\n",
                "        tpoly[i,j] = np.dot(np.stack((1, kvec[j], kvec[j]**2, kvec[j]**3, \\\n",
                "        zvec[i], zvec[i]**2, zvec[i]**3, \\\n",
                "        kvec[j]*zvec[i], kvec[j]**2*zvec[i], kvec[j]*zvec[i]**2)),coeffs)\n",
                "\n",
                "# calcuate R-squared\n",
                "Rsq = 1 - np.sum((trans-tpoly)**2)/np.sum(trans**2)\n",
                "print('R-squared', Rsq)"
            ]
        },
        {
            "cell_type": "markdown",
            "metadata": {},
            "source": [
                "We now simulate our model"
            ]
        },
        {
            "cell_type": "code",
            "execution_count": 14,
            "metadata": {},
            "outputs": [],
            "source": [
                "# perform simulation\n",
                "eps = np.random.randn(nobs)*sigma\n",
                "z = np.zeros(nobs+1)\n",
                "k = np.zeros(nobs+1)\n",
                "k[0] = kstart*kbar\n",
                "z[0] = eps[0]\n",
                "tpars = [kvec, zvec, trans, coeffs]\n",
                "lpars = [rho, sigma]\n",
                "for t in range(0, nobs):\n",
                "    k[t+1] = example_tfunc(k[t], z[t], tpars)\n",
                "    z[t+1] = example_lfunc(z[t], eps[t], lpars)\n",
                "    \n",
                "# remove final k & z\n",
                "k = k[0:nobs]\n",
                "z = z[0:nobs]"
            ]
        },
        {
            "cell_type": "markdown",
            "metadata": {},
            "source": [
                "Finally, we again calculate our Euler errors using the `EEcalc` function from above."
            ]
        },
        {
            "cell_type": "code",
            "execution_count": 15,
            "metadata": {},
            "outputs": [
                {
                    "name": "stdout",
                    "output_type": "stream",
                    "text": [
                        "Euler Error Summary Statistics\n",
                        "Maximum Absolute Euler Error: 0.019506309755123973\n",
                        "Mean Absolute Euler Error: 0.01899616624415117\n",
                        "Root Mean Squared Euler Error: 0.01899640982371943\n"
                    ]
                }
            ],
            "source": [
                "# find Euler Errors\n",
                "Xdata = k.reshape(len(k), 1)\n",
                "Zdata = z.reshape(len(z), 1)\n",
                "efunc = example_efunc\n",
                "epars = params\n",
                "tfunc = example_tfunc2\n",
                "lfunc = example_lfunc\n",
                "EErrs = EEcalc(Xdata, Zdata, efunc, epars, tfunc, tpars, lfunc, lpars)\n",
                "\n",
                "MaxAbsEE = np.max(np.abs(EErrs))\n",
                "MeanAbsEE = np.mean(np.abs(EErrs))\n",
                "RootMeanSqEE = (np.mean(EErrs**2))**.5\n",
                "\n",
                "print('Euler Error Summary Statistics')\n",
                "print('Maximum Absolute Euler Error:', MaxAbsEE)\n",
                "print('Mean Absolute Euler Error:', MeanAbsEE)\n",
                "print('Root Mean Squared Euler Error:', RootMeanSqEE)"
            ]
        }
    ],
    "metadata": {
        "celltoolbar": "Raw Cell Format",
        "kernelspec": {
            "display_name": "Python 3",
            "language": "python",
            "name": "python3"
        },
        "language_info": {
            "codemirror_mode": {
                "name": "ipython",
                "version": 3
            },
            "file_extension": ".py",
            "mimetype": "text/x-python",
            "name": "python",
            "nbconvert_exporter": "python",
            "pygments_lexer": "ipython3",
            "version": "3.7.3"
        }
    },
    "nbformat": 4,
    "nbformat_minor": 4
}