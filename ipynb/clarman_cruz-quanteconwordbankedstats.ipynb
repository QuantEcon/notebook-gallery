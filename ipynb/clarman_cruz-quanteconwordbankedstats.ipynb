{
    "cells": [
        {
            "cell_type": "markdown",
            "metadata": {},
            "source": [
                "# A Data Science Example In Julia Using Education Statistics From The Work Bank\n",
                "By Clarman Cruz\n",
                "\n",
                "February 2020\n",
                "\n",
                "## Introduction\n",
                "Queryverse along other Julia packages are great for a data science project. We are able to efficiently load data stored in many different file formats. Clean the data and prepare it for analysis using the Query package. Improve data quality with the easiness of the Query package along other Julia packages. Then, we graph all our data with just a single DataVoyager command. We can quickly store both our data files and graphs in a couple of file formats. Depending on the type of data, we can just continue with Julia machine learning packages to perform predictions. \n",
                "\n",
                "This JupyterLab is meant as a tutorial. It showcases [Queryverse](https://www.queryverse.org), \n",
                "[ARCHModels](https://s-broda.github.io/ARCHModels.jl/stable/) package, and some basic [Julia](https://julialang.org) programming. It is an end to end example using a real-world dataset from The World Bank website. We start the journey reading the statistics files, and then cleaning the data. We prepare further the data for deeper analysis. Afterwards, we graph the prepared data and create an interactive data visualizer. Then, we save our prepared data and graphs for publication, or team sharing. Lastly, we predict future time series values with a machine learning model created with the ARCHModels package."
            ]
        },
        {
            "cell_type": "markdown",
            "metadata": {},
            "source": [
                "## Reading In The Education Statitics Files\n",
                "Queryverse supports reading from different file formats including:\n",
                "* CSVFiles.jl can read and write CSV files. Under the hood it uses the extremly fast TextParse.jl package.\n",
                "* FeatherFiles.jl can read and write Feather files.\n",
                "* ExcelFiles.jl can read and write Excel Files.\n",
                "* StatFiles.jl can read SPSS, STATA and SAS files.\n",
                "* ParquetFiles.jl can read Parquet files.\n",
                "Just ensure the file name contains for correct format extension.  For example, CSV file names end with .csv while feather names files end with .feather.  Queryverse uses the file extension to determine the file format. \n",
                "\n",
                "Our data set is composed of 5 CSV files obtained from the The World Bank data catalog, https://datacatalog.worldbank.org/dataset/education-statistics.  The data set is statistics about education around the world.  The data \"covers over 4,000 internationally comparable indicators that describe education access, progression, completion, literacy, teachers, population, and expenditures. The indicators cover the education cycle from pre-primary to vocational and tertiary education.\"\n",
                "\n",
                "* EdStatsCountry.csv is static data such as ISO Country Code, Country Long Name, Region, Income Group, and External debt Reporting status\n",
                "* EdStatsCountry-Series.csv is a map between one Country Code and its Series Codes\n",
                "* EdStatsData.csv is the main file in the data set contain Country Code, Indicator values from 1970 to 2100.  \"Adjusted net enrolment rate, lower secondary, both sexes (%)\", \"Adjusted net enrolment rate, primary, female (%)\", \"Adjusted net enrolment rate, primary, gender parity index (GPI)\", and \"Annual statutory teacher salaries in public institutions in USD\" are examples of Indicators.  The indicator values after the last reported measurement are estimates, if found.\n",
                "* EdStatsFootNote.csv is static data of Country Code, Series Code, Year, and Description\n",
                "* EdStatsSeries.csv is static data of Series Code, Topic, Indicator Name, Long definition, Unit of measure, Periodicity, and Statistical concept and methodology.  The indicators are time series\n"
            ]
        },
        {
            "cell_type": "code",
            "execution_count": 2,
            "metadata": {},
            "outputs": [],
            "source": [
                "using Queryverse, IndexedTables, DataFrames, FeatherFiles, ARCHModels\n",
                "cd(\"C:\\\\Users\\\\drcxcruz\\\\Documents\\\\TheWorkBank\\\\EdStats\")"
            ]
        },
        {
            "cell_type": "code",
            "execution_count": 3,
            "metadata": {},
            "outputs": [
                {
                    "data": {
                        "text/plain": [
                            "Table with 241 rows, 32 columns:\n",
                            "Columns:\n",
                            "\u001b[1m#   \u001b[22m\u001b[1mcolname                                            \u001b[22m\u001b[1mtype\u001b[22m\n",
                            "──────────────────────────────────────────────────────────────\n",
                            "1   Country_Code                                       String\n",
                            "2   Short_Name                                         String\n",
                            "3   Table_Name                                         String\n",
                            "4   Long_Name                                          String\n",
                            "5   2-alpha_code                                       String\n",
                            "6   Currency_Unit                                      String\n",
                            "7   Special_Notes                                      String\n",
                            "8   Region                                             String\n",
                            "9   Income_Group                                       String\n",
                            "10  WB-2_code                                          String\n",
                            "11  National_accounts_base_year                        String\n",
                            "12  National_accounts_reference_year                   String\n",
                            "13  SNA_price_valuation                                String\n",
                            "14  Lending_category                                   String\n",
                            "15  Other_groups                                       String\n",
                            "16  System_of_National_Accounts                        String\n",
                            "17  Alternative_conversion_factor                      String\n",
                            "18  PPP_survey_year                                    String\n",
                            "19  Balance_of_Payments_Manual_in_use                  String\n",
                            "20  External_debt_Reporting_status                     String\n",
                            "21  System_of_trade                                    String\n",
                            "22  Government_Accounting_concept                      String\n",
                            "23  IMF_data_dissemination_standard                    String\n",
                            "24  Latest_population_census                           String\n",
                            "25  Latest_household_survey                            String\n",
                            "26  Source_of_most_recent_Income_and_expenditure_data  String\n",
                            "27  Vital_registration_complete                        String\n",
                            "28  Latest_agricultural_census                         String\n",
                            "29  Latest_industrial_data                             String\n",
                            "30  Latest_trade_data                                  String\n",
                            "31  Latest_water_withdrawal_data                       String\n",
                            "32                                                     Missing"
                        ]
                    },
                    "execution_count": 3,
                    "metadata": {},
                    "output_type": "execute_result"
                }
            ],
            "source": [
                "fileName = \"EdStatsCountry.csv\"\n",
                "dfCountry = load(fileName) |> DataFrame;  # the ; indicates not the read from disk into Julia the entire file\n",
                "newColNames = [replace(String(n), \" \" => \"_\") for n in names(dfCountry)] # remove spaces in the column names\n",
                "itCountry = load(fileName, colnames = newColNames) \n",
                "table(itCountry, pkey = [:Country_Code])"
            ]
        },
        {
            "cell_type": "code",
            "execution_count": 3,
            "metadata": {},
            "outputs": [
                {
                    "data": {
                        "text/plain": [
                            "Table with 613 rows, 4 columns:\n",
                            "Columns:\n",
                            "\u001b[1m#  \u001b[22m\u001b[1mcolname       \u001b[22m\u001b[1mtype\u001b[22m\n",
                            "────────────────────────\n",
                            "1  Country_Code  String\n",
                            "2  Series_Code   String\n",
                            "3  Description   String\n",
                            "4                Missing"
                        ]
                    },
                    "execution_count": 3,
                    "metadata": {},
                    "output_type": "execute_result"
                }
            ],
            "source": [
                "fileName = \"EdStatsCountry-Series.csv\"\n",
                "itCountrySeries = load(fileName, colnames = [\"Country_Code\", \"Series_Code\", \"Description\"]) \n",
                "table(itCountrySeries, pkey = [:Country_Code, :Series_Code])"
            ]
        },
        {
            "cell_type": "code",
            "execution_count": 4,
            "metadata": {},
            "outputs": [
                {
                    "data": {
                        "text/plain": [
                            "Table with 69634 rows, 70 columns:\n",
                            "Columns:\n",
                            "\u001b[1m#   \u001b[22m\u001b[1mcolname         \u001b[22m\u001b[1mtype\u001b[22m\n",
                            "───────────────────────────\n",
                            "1   Country_Name    String\n",
                            "2   Country_Code    String\n",
                            "3   Indicator_Name  String\n",
                            "4   Indicator_Code  String\n",
                            "5   1970            String\n",
                            "6   1971            String\n",
                            "7   1972            String\n",
                            "8   1973            String\n",
                            "9   1974            String\n",
                            "10  1975            String\n",
                            "11  1976            String\n",
                            "12  1977            String\n",
                            "13  1978            String\n",
                            "14  1979            String\n",
                            "15  1980            String\n",
                            "16  1981            String\n",
                            "17  1982            String\n",
                            "18  1983            String\n",
                            "19  1984            String\n",
                            "20  1985            String\n",
                            "21  1986            String\n",
                            "22  1987            String\n",
                            "23  1988            String\n",
                            "24  1989            String\n",
                            "25  1990            String\n",
                            "26  1991            String\n",
                            "27  1992            String\n",
                            "28  1993            String\n",
                            "29  1994            String\n",
                            "30  1995            String\n",
                            "31  1996            String\n",
                            "32  1997            String\n",
                            "33  1998            String\n",
                            "34  1999            String\n",
                            "35  2000            String\n",
                            "36  2001            String\n",
                            "37  2002            String\n",
                            "38  2003            String\n",
                            "39  2004            String\n",
                            "40  2005            String\n",
                            "41  2006            String\n",
                            "42  2007            String\n",
                            "43  2008            String\n",
                            "44  2009            String\n",
                            "45  2010            String\n",
                            "46  2011            String\n",
                            "47  2012            String\n",
                            "48  2013            String\n",
                            "49  2014            String\n",
                            "50  2015            String\n",
                            "51  2016            String\n",
                            "52  2017            String\n",
                            "53  2018            String\n",
                            "54  2019            String\n",
                            "55  2020            String\n",
                            "56  2021            String\n",
                            "57  2022            String\n",
                            "58  2023            String\n",
                            "59  2024            String\n",
                            "60  2025            String\n",
                            "61  2026            String\n",
                            "62  2027            String\n",
                            "63  2028            String\n",
                            "64  2029            String\n",
                            "65  2030            String\n",
                            "66  2031            String\n",
                            "67  2032            String\n",
                            "68  2033            String\n",
                            "69  2034            String\n",
                            "70  2035            Missing"
                        ]
                    },
                    "execution_count": 4,
                    "metadata": {},
                    "output_type": "execute_result"
                }
            ],
            "source": [
                "fileName = \"EdStatsData.csv\"  \n",
                "colNames = [\"Country_Name\", \"Country_Code\", \"Indicator_Name\", \"Indicator_Code\"]\n",
                "years = [string(y) for y in 1970:2100]\n",
                "append!(colNames, years)\n",
                "\n",
                "# reading from Turkey to Zimbabwe including United Kingdom and United States\n",
                "itData = load(fileName, colnames = colNames, skiplines_begin = 817297, header_exists=false); \n",
                "table(itData, pkey = [:Country_Code, :Indicator_Code])"
            ]
        },
        {
            "cell_type": "code",
            "execution_count": 5,
            "metadata": {},
            "outputs": [
                {
                    "data": {
                        "text/plain": [
                            "Table with 643638 rows, 5 columns:\n",
                            "Columns:\n",
                            "\u001b[1m#  \u001b[22m\u001b[1mcolname       \u001b[22m\u001b[1mtype\u001b[22m\n",
                            "────────────────────────\n",
                            "1  Country_Code  String\n",
                            "2  Series_Code   String\n",
                            "3  Year          String\n",
                            "4  Description   String\n",
                            "5                Missing"
                        ]
                    },
                    "execution_count": 5,
                    "metadata": {},
                    "output_type": "execute_result"
                }
            ],
            "source": [
                "fileName = \"EdStatsFootNote.csv\"\n",
                "itFootNote = load(fileName, colnames = [\"Country_Code\", \"Series_Code\", \"Year\", \"Description\"]) \n",
                "table(itFootNote, pkey = [:Country_Code, :Series_Code])"
            ]
        },
        {
            "cell_type": "code",
            "execution_count": 6,
            "metadata": {},
            "outputs": [
                {
                    "data": {
                        "text/plain": [
                            "Table with 3665 rows, 21 columns:\n",
                            "Columns:\n",
                            "\u001b[1m#   \u001b[22m\u001b[1mcolname                              \u001b[22m\u001b[1mtype\u001b[22m\n",
                            "────────────────────────────────────────────────\n",
                            "1   Series_Code                          String\n",
                            "2   Topic                                String\n",
                            "3   Indicator_Name                       String\n",
                            "4   Short_definition                     String\n",
                            "5   Long_definition                      String\n",
                            "6   Unit_of_measure                      String\n",
                            "7   Periodicity                          String\n",
                            "8   Base_Period                          String\n",
                            "9   Other_notes                          String\n",
                            "10  Aggregation_method                   String\n",
                            "11  Limitations_and_exceptions           String\n",
                            "12  Notes_from_original_source           String\n",
                            "13  General_comments                     String\n",
                            "14  Source                               String\n",
                            "15  Statistical_concept_and_methodology  String\n",
                            "16  Development_relevance                String\n",
                            "17  Related_source_links                 String\n",
                            "18  Other_web_links                      String\n",
                            "19  Related_indicators                   String\n",
                            "20  License_Type                         String\n",
                            "21                                       Missing"
                        ]
                    },
                    "execution_count": 6,
                    "metadata": {},
                    "output_type": "execute_result"
                }
            ],
            "source": [
                "fileName =\"EdStatsSeries.csv\"\n",
                "dfSeries = load(fileName) |> DataFrame;\n",
                "newColNames = [replace(String(n), \" \" => \"_\") for n in names(dfSeries)]  # remove spaces from the column names\n",
                "itSeries = load(fileName, colnames = newColNames) \n",
                "table(itSeries, pkey = [:Series_Code])"
            ]
        },
        {
            "cell_type": "markdown",
            "metadata": {},
            "source": [
                "Let's see a few charactericts of our data by joining a couple of files. \n"
            ]
        },
        {
            "cell_type": "code",
            "execution_count": 7,
            "metadata": {},
            "outputs": [
                {
                    "data": {
                        "application/vnd.dataresource+json": {
                            "data": [
                                {
                                    "Country_Code": "TUR",
                                    "Description": "Data sources : United Nations World Population Prospects",
                                    "Government_Accounting_concept": "Consolidated central government",
                                    "Income_Group": "Upper middle income",
                                    "Lending_category": "IBRD",
                                    "Long_Name": "Republic of Turkey",
                                    "Region": "Europe & Central Asia",
                                    "Series_Code": "SP.POP.TOTL"
                                },
                                {
                                    "Country_Code": "TUR",
                                    "Description": "Data sources : United Nations World Population Prospects",
                                    "Government_Accounting_concept": "Consolidated central government",
                                    "Income_Group": "Upper middle income",
                                    "Lending_category": "IBRD",
                                    "Long_Name": "Republic of Turkey",
                                    "Region": "Europe & Central Asia",
                                    "Series_Code": "SP.POP.GROW"
                                },
                                {
                                    "Country_Code": "GBR",
                                    "Description": "Data sources: Eurostat",
                                    "Government_Accounting_concept": "Consolidated central government",
                                    "Income_Group": "High income: OECD",
                                    "Lending_category": "",
                                    "Long_Name": "United Kingdom of Great Britain and Northern Ireland",
                                    "Region": "Europe & Central Asia",
                                    "Series_Code": "SP.POP.GROW"
                                },
                                {
                                    "Country_Code": "GBR",
                                    "Description": "Data sources : Eurostat",
                                    "Government_Accounting_concept": "Consolidated central government",
                                    "Income_Group": "High income: OECD",
                                    "Lending_category": "",
                                    "Long_Name": "United Kingdom of Great Britain and Northern Ireland",
                                    "Region": "Europe & Central Asia",
                                    "Series_Code": "SP.POP.TOTL"
                                },
                                {
                                    "Country_Code": "URY",
                                    "Description": "Data sources: United Nations World Population Prospects",
                                    "Government_Accounting_concept": "Consolidated central government",
                                    "Income_Group": "High income: nonOECD",
                                    "Lending_category": "IBRD",
                                    "Long_Name": "Oriental Republic of Uruguay",
                                    "Region": "Latin America & Caribbean",
                                    "Series_Code": "SP.POP.GROW"
                                },
                                {
                                    "Country_Code": "URY",
                                    "Description": "Data sources : United Nations World Population Prospects",
                                    "Government_Accounting_concept": "Consolidated central government",
                                    "Income_Group": "High income: nonOECD",
                                    "Lending_category": "IBRD",
                                    "Long_Name": "Oriental Republic of Uruguay",
                                    "Region": "Latin America & Caribbean",
                                    "Series_Code": "SP.POP.TOTL"
                                },
                                {
                                    "Country_Code": "VIR",
                                    "Description": "Data sources : U.S. Census Bureau, United Nations Population and Vital Statistics Report",
                                    "Government_Accounting_concept": "",
                                    "Income_Group": "High income: nonOECD",
                                    "Lending_category": "",
                                    "Long_Name": "Virgin Islands of the United States",
                                    "Region": "Latin America & Caribbean",
                                    "Series_Code": "SP.POP.TOTL"
                                },
                                {
                                    "Country_Code": "VIR",
                                    "Description": "Data sources: U.S. Census Bureau, United Nations Population and Vital Statistics Report",
                                    "Government_Accounting_concept": "",
                                    "Income_Group": "High income: nonOECD",
                                    "Lending_category": "",
                                    "Long_Name": "Virgin Islands of the United States",
                                    "Region": "Latin America & Caribbean",
                                    "Series_Code": "SP.POP.GROW"
                                },
                                {
                                    "Country_Code": "ARE",
                                    "Description": "Data sources: United Nations World Population Prospects",
                                    "Government_Accounting_concept": "Consolidated central government",
                                    "Income_Group": "High income: nonOECD",
                                    "Lending_category": "",
                                    "Long_Name": "United Arab Emirates",
                                    "Region": "Middle East & North Africa",
                                    "Series_Code": "SP.POP.GROW"
                                },
                                {
                                    "Country_Code": "ARE",
                                    "Description": "Data sources : United Nations World Population Prospects",
                                    "Government_Accounting_concept": "Consolidated central government",
                                    "Income_Group": "High income: nonOECD",
                                    "Lending_category": "",
                                    "Long_Name": "United Arab Emirates",
                                    "Region": "Middle East & North Africa",
                                    "Series_Code": "SP.POP.TOTL"
                                },
                                {
                                    "Country_Code": "USA",
                                    "Description": "Data sources : U.S. Census Bureau",
                                    "Government_Accounting_concept": "Consolidated central government",
                                    "Income_Group": "High income: OECD",
                                    "Lending_category": "",
                                    "Long_Name": "United States of America",
                                    "Region": "North America",
                                    "Series_Code": "SP.POP.TOTL"
                                },
                                {
                                    "Country_Code": "USA",
                                    "Description": "Data sources: U.S. Census Bureau",
                                    "Government_Accounting_concept": "Consolidated central government",
                                    "Income_Group": "High income: OECD",
                                    "Lending_category": "",
                                    "Long_Name": "United States of America",
                                    "Region": "North America",
                                    "Series_Code": "SP.POP.GROW"
                                },
                                {
                                    "Country_Code": "ZWE",
                                    "Description": "Data sources : United Nations World Population Prospects",
                                    "Government_Accounting_concept": "Consolidated central government",
                                    "Income_Group": "Low income",
                                    "Lending_category": "Blend",
                                    "Long_Name": "Republic of Zimbabwe",
                                    "Region": "Sub-Saharan Africa",
                                    "Series_Code": "SP.POP.TOTL"
                                },
                                {
                                    "Country_Code": "ZWE",
                                    "Description": "Data sources: United Nations World Population Prospects",
                                    "Government_Accounting_concept": "Consolidated central government",
                                    "Income_Group": "Low income",
                                    "Lending_category": "Blend",
                                    "Long_Name": "Republic of Zimbabwe",
                                    "Region": "Sub-Saharan Africa",
                                    "Series_Code": "SP.POP.GROW"
                                }
                            ],
                            "schema": {
                                "fields": [
                                    {
                                        "name": "Country_Code",
                                        "type": "string"
                                    },
                                    {
                                        "name": "Region",
                                        "type": "string"
                                    },
                                    {
                                        "name": "Long_Name",
                                        "type": "string"
                                    },
                                    {
                                        "name": "Income_Group",
                                        "type": "string"
                                    },
                                    {
                                        "name": "Lending_category",
                                        "type": "string"
                                    },
                                    {
                                        "name": "Government_Accounting_concept",
                                        "type": "string"
                                    },
                                    {
                                        "name": "Series_Code",
                                        "type": "string"
                                    },
                                    {
                                        "name": "Description",
                                        "type": "string"
                                    }
                                ]
                            }
                        },
                        "text/html": [
                            "<table><thead><tr><th>Country_Code</th><th>Region</th><th>Long_Name</th><th>Income_Group</th><th>Lending_category</th><th>Government_Accounting_concept</th><th>Series_Code</th><th>Description</th></tr></thead><tbody><tr><td>&quot;TUR&quot;</td><td>&quot;Europe &amp; Central Asia&quot;</td><td>&quot;Republic of Turkey&quot;</td><td>&quot;Upper middle income&quot;</td><td>&quot;IBRD&quot;</td><td>&quot;Consolidated central government&quot;</td><td>&quot;SP.POP.TOTL&quot;</td><td>&quot;Data sources : United Nations World Population Prospects&quot;</td></tr><tr><td>&quot;TUR&quot;</td><td>&quot;Europe &amp; Central Asia&quot;</td><td>&quot;Republic of Turkey&quot;</td><td>&quot;Upper middle income&quot;</td><td>&quot;IBRD&quot;</td><td>&quot;Consolidated central government&quot;</td><td>&quot;SP.POP.GROW&quot;</td><td>&quot;Data sources : United Nations World Population Prospects&quot;</td></tr><tr><td>&quot;GBR&quot;</td><td>&quot;Europe &amp; Central Asia&quot;</td><td>&quot;United Kingdom of Great Britain and Northern Ireland&quot;</td><td>&quot;High income: OECD&quot;</td><td>&quot;&quot;</td><td>&quot;Consolidated central government&quot;</td><td>&quot;SP.POP.GROW&quot;</td><td>&quot;Data sources: Eurostat&quot;</td></tr><tr><td>&quot;GBR&quot;</td><td>&quot;Europe &amp; Central Asia&quot;</td><td>&quot;United Kingdom of Great Britain and Northern Ireland&quot;</td><td>&quot;High income: OECD&quot;</td><td>&quot;&quot;</td><td>&quot;Consolidated central government&quot;</td><td>&quot;SP.POP.TOTL&quot;</td><td>&quot;Data sources : Eurostat&quot;</td></tr><tr><td>&quot;URY&quot;</td><td>&quot;Latin America &amp; Caribbean&quot;</td><td>&quot;Oriental Republic of Uruguay&quot;</td><td>&quot;High income: nonOECD&quot;</td><td>&quot;IBRD&quot;</td><td>&quot;Consolidated central government&quot;</td><td>&quot;SP.POP.GROW&quot;</td><td>&quot;Data sources: United Nations World Population Prospects&quot;</td></tr><tr><td>&quot;URY&quot;</td><td>&quot;Latin America &amp; Caribbean&quot;</td><td>&quot;Oriental Republic of Uruguay&quot;</td><td>&quot;High income: nonOECD&quot;</td><td>&quot;IBRD&quot;</td><td>&quot;Consolidated central government&quot;</td><td>&quot;SP.POP.TOTL&quot;</td><td>&quot;Data sources : United Nations World Population Prospects&quot;</td></tr><tr><td>&quot;VIR&quot;</td><td>&quot;Latin America &amp; Caribbean&quot;</td><td>&quot;Virgin Islands of the United States&quot;</td><td>&quot;High income: nonOECD&quot;</td><td>&quot;&quot;</td><td>&quot;&quot;</td><td>&quot;SP.POP.TOTL&quot;</td><td>&quot;Data sources : U.S. Census Bureau, United Nations Population and Vital Statistics Report&quot;</td></tr><tr><td>&quot;VIR&quot;</td><td>&quot;Latin America &amp; Caribbean&quot;</td><td>&quot;Virgin Islands of the United States&quot;</td><td>&quot;High income: nonOECD&quot;</td><td>&quot;&quot;</td><td>&quot;&quot;</td><td>&quot;SP.POP.GROW&quot;</td><td>&quot;Data sources: U.S. Census Bureau, United Nations Population and Vital Statistics Report&quot;</td></tr><tr><td>&quot;ARE&quot;</td><td>&quot;Middle East &amp; North Africa&quot;</td><td>&quot;United Arab Emirates&quot;</td><td>&quot;High income: nonOECD&quot;</td><td>&quot;&quot;</td><td>&quot;Consolidated central government&quot;</td><td>&quot;SP.POP.GROW&quot;</td><td>&quot;Data sources: United Nations World Population Prospects&quot;</td></tr><tr><td>&quot;ARE&quot;</td><td>&quot;Middle East &amp; North Africa&quot;</td><td>&quot;United Arab Emirates&quot;</td><td>&quot;High income: nonOECD&quot;</td><td>&quot;&quot;</td><td>&quot;Consolidated central government&quot;</td><td>&quot;SP.POP.TOTL&quot;</td><td>&quot;Data sources : United Nations World Population Prospects&quot;</td></tr><tr><td>&vellip;</td><td>&vellip;</td><td>&vellip;</td><td>&vellip;</td><td>&vellip;</td><td>&vellip;</td><td>&vellip;</td><td>&vellip;</td></tr></tbody></table><p>... with more rows.</p>"
                        ],
                        "text/plain": [
                            "?x8 query result\n",
                            "Country_Code │ Region                    \n",
                            "─────────────┼───────────────────────────\n",
                            "TUR          │ Europe & Central Asia     \n",
                            "TUR          │ Europe & Central Asia     \n",
                            "GBR          │ Europe & Central Asia     \n",
                            "GBR          │ Europe & Central Asia     \n",
                            "URY          │ Latin America & Caribbean \n",
                            "URY          │ Latin America & Caribbean \n",
                            "VIR          │ Latin America & Caribbean \n",
                            "VIR          │ Latin America & Caribbean \n",
                            "ARE          │ Middle East & North Africa\n",
                            "ARE          │ Middle East & North Africa\n",
                            "... with more rows, and 6 more columns: Long_Name, Income_Group, Lending_category, Government_Accounting_concept, Series_Code, Description"
                        ]
                    },
                    "execution_count": 7,
                    "metadata": {},
                    "output_type": "execute_result"
                }
            ],
            "source": [
                "query = @from c in itCountry begin\n",
                "    @join s in itCountrySeries on c.Country_Code equals s.Country_Code\n",
                "    @select {c.Country_Code, c.Region, c.Long_Name, c.Income_Group, c.Lending_category, c.Government_Accounting_concept, s.Series_Code, s.Description}\n",
                "    end\n",
                "table(query, pkey = [:Country_Code])\n",
                "\n",
                "query |> @filter( occursin(r\"ZWE|VIR|URY|USA|GBR|TUR|ARE\", _.Country_Code)) |> @orderby(_.Region) |> @thenby(_.Long_Name)"
            ]
        },
        {
            "cell_type": "markdown",
            "metadata": {},
            "source": [
                "## Data Cleaning and Preparation\n",
                "Let's analyze years from 1990 to 2014.  We are considering a few of the indicators and the few countries. Yet, you can easily include more countries, indicators or years as you wish.  Let's pick the following indicators and their codes.  \n",
                "\n",
                "* \"Pupil-teacher ratio in secondary education (headcount basis)\", \"SE.SEC.ENRL.TC.ZS\"\n",
                "* \"Rate of out-of-school youth of upper secondary school age, both sexes (%)\", \"UIS.ROFST.3.CP\"\n",
                "* \"Rate of out-of-school youth of upper secondary school age, female (%)\", \"UIS.ROFST.3.F.CP\"\n",
                "* \"Rate of out-of-school youth of upper secondary school age, male (%)\", \"UIS.ROFST.3.M.CP\"\n",
                "* \"Government expenditure in secondary institutions education as % of GDP (%)\", \"XGDP.23.FSGOV.FDINSTADM.FFD\"\n",
                "\n",
                "We are going to analyze the relationship between pupil-teacher ratio and out-of-school youth rate in secondary school.  \n"
            ]
        },
        {
            "cell_type": "code",
            "execution_count": 8,
            "metadata": {},
            "outputs": [
                {
                    "data": {
                        "application/vnd.dataresource+json": {
                            "data": [
                                {
                                    "1990": "",
                                    "1991": "",
                                    "1992": "",
                                    "1993": "",
                                    "1994": "",
                                    "1995": "",
                                    "1996": "",
                                    "1997": "",
                                    "1998": "1.73608994483948",
                                    "1999": "1.72523999214172",
                                    "2000": "1.7501300573349",
                                    "2001": "1.88098001480103",
                                    "2002": "1.90707004070282",
                                    "2003": "2.03250002861023",
                                    "2004": "1.94648003578186",
                                    "2005": "1.82843005657196",
                                    "2006": "1.92949998378754",
                                    "2007": "1.92969000339508",
                                    "2008": "1.96256005764008",
                                    "2009": "1.97350001335144",
                                    "2010": "1.91955995559692",
                                    "2011": "1.87390005588531",
                                    "2012": "1.76548004150391",
                                    "2013": "",
                                    "2014": "",
                                    "Country_Code": "USA",
                                    "Country_Name": "United States",
                                    "Indicator_Code": "XGDP.23.FSGOV.FDINSTADM.FFD",
                                    "Indicator_Name": "Government expenditure in secondary institutions education as % of GDP (%)"
                                },
                                {
                                    "1990": "",
                                    "1991": "",
                                    "1992": "",
                                    "1993": "15.5334100723267",
                                    "1994": "15.6976499557495",
                                    "1995": "15.4257001876831",
                                    "1996": "15.4034900665283",
                                    "1997": "",
                                    "1998": "15.1882801055908",
                                    "1999": "14.9240102767944",
                                    "2000": "14.6057996749878",
                                    "2001": "15.1627101898193",
                                    "2002": "14.8834495544434",
                                    "2003": "14.9155302047729",
                                    "2004": "14.9754199981689",
                                    "2005": "14.9440803527832",
                                    "2006": "14.6182203292847",
                                    "2007": "14.5639095306396",
                                    "2008": "14.3765897750854",
                                    "2009": "13.9601697921753",
                                    "2010": "13.7594299316406",
                                    "2011": "14.4905595779419",
                                    "2012": "14.6637201309204",
                                    "2013": "14.6957397460938",
                                    "2014": "14.7868299484253",
                                    "Country_Code": "USA",
                                    "Country_Name": "United States",
                                    "Indicator_Code": "SE.SEC.ENRL.TC.ZS",
                                    "Indicator_Name": "Pupil-teacher ratio in secondary education (headcount basis)"
                                },
                                {
                                    "1990": "",
                                    "1991": "",
                                    "1992": "",
                                    "1993": "",
                                    "1994": "",
                                    "1995": "",
                                    "1996": "",
                                    "1997": "",
                                    "1998": "",
                                    "1999": "",
                                    "2000": "15.3355",
                                    "2001": "14.20598",
                                    "2002": "16.60763",
                                    "2003": "11.95517",
                                    "2004": "10.79784",
                                    "2005": "8.91003",
                                    "2006": "8.92473",
                                    "2007": "7.24616",
                                    "2008": "7.10633",
                                    "2009": "6.92348",
                                    "2010": "9.4071",
                                    "2011": "9.25726",
                                    "2012": "10.49112",
                                    "2013": "10.03378",
                                    "2014": "7.50121",
                                    "Country_Code": "USA",
                                    "Country_Name": "United States",
                                    "Indicator_Code": "UIS.ROFST.3.CP",
                                    "Indicator_Name": "Rate of out-of-school youth of upper secondary school age, both sexes (%)"
                                },
                                {
                                    "1990": "",
                                    "1991": "",
                                    "1992": "",
                                    "1993": "",
                                    "1994": "",
                                    "1995": "",
                                    "1996": "",
                                    "1997": "",
                                    "1998": "",
                                    "1999": "",
                                    "2000": "15.97203",
                                    "2001": "13.04092",
                                    "2002": "16.74537",
                                    "2003": "11.60295",
                                    "2004": "10.80064",
                                    "2005": "6.2645",
                                    "2006": "6.21013",
                                    "2007": "6.17753",
                                    "2008": "6.56122",
                                    "2009": "5.58257",
                                    "2010": "9.36999",
                                    "2011": "7.95532",
                                    "2012": "9.75025",
                                    "2013": "9.24792",
                                    "2014": "6.52425",
                                    "Country_Code": "USA",
                                    "Country_Name": "United States",
                                    "Indicator_Code": "UIS.ROFST.3.F.CP",
                                    "Indicator_Name": "Rate of out-of-school youth of upper secondary school age, female (%)"
                                },
                                {
                                    "1990": "",
                                    "1991": "",
                                    "1992": "",
                                    "1993": "",
                                    "1994": "",
                                    "1995": "",
                                    "1996": "",
                                    "1997": "",
                                    "1998": "",
                                    "1999": "",
                                    "2000": "14.7336",
                                    "2001": "15.3063",
                                    "2002": "16.47762",
                                    "2003": "12.28699",
                                    "2004": "10.79521",
                                    "2005": "11.38762",
                                    "2006": "11.46333",
                                    "2007": "8.24965",
                                    "2008": "7.61971",
                                    "2009": "8.18763",
                                    "2010": "9.44207",
                                    "2011": "10.48286",
                                    "2012": "11.18935",
                                    "2013": "10.77544",
                                    "2014": "8.4247",
                                    "Country_Code": "USA",
                                    "Country_Name": "United States",
                                    "Indicator_Code": "UIS.ROFST.3.M.CP",
                                    "Indicator_Name": "Rate of out-of-school youth of upper secondary school age, male (%)"
                                }
                            ],
                            "schema": {
                                "fields": [
                                    {
                                        "name": "Country_Name",
                                        "type": "string"
                                    },
                                    {
                                        "name": "Country_Code",
                                        "type": "string"
                                    },
                                    {
                                        "name": "Indicator_Name",
                                        "type": "string"
                                    },
                                    {
                                        "name": "Indicator_Code",
                                        "type": "string"
                                    },
                                    {
                                        "name": "1990",
                                        "type": "string"
                                    },
                                    {
                                        "name": "1991",
                                        "type": "string"
                                    },
                                    {
                                        "name": "1992",
                                        "type": "string"
                                    },
                                    {
                                        "name": "1993",
                                        "type": "string"
                                    },
                                    {
                                        "name": "1994",
                                        "type": "string"
                                    },
                                    {
                                        "name": "1995",
                                        "type": "string"
                                    },
                                    {
                                        "name": "1996",
                                        "type": "string"
                                    },
                                    {
                                        "name": "1997",
                                        "type": "string"
                                    },
                                    {
                                        "name": "1998",
                                        "type": "string"
                                    },
                                    {
                                        "name": "1999",
                                        "type": "string"
                                    },
                                    {
                                        "name": "2000",
                                        "type": "string"
                                    },
                                    {
                                        "name": "2001",
                                        "type": "string"
                                    },
                                    {
                                        "name": "2002",
                                        "type": "string"
                                    },
                                    {
                                        "name": "2003",
                                        "type": "string"
                                    },
                                    {
                                        "name": "2004",
                                        "type": "string"
                                    },
                                    {
                                        "name": "2005",
                                        "type": "string"
                                    },
                                    {
                                        "name": "2006",
                                        "type": "string"
                                    },
                                    {
                                        "name": "2007",
                                        "type": "string"
                                    },
                                    {
                                        "name": "2008",
                                        "type": "string"
                                    },
                                    {
                                        "name": "2009",
                                        "type": "string"
                                    },
                                    {
                                        "name": "2010",
                                        "type": "string"
                                    },
                                    {
                                        "name": "2011",
                                        "type": "string"
                                    },
                                    {
                                        "name": "2012",
                                        "type": "string"
                                    },
                                    {
                                        "name": "2013",
                                        "type": "string"
                                    },
                                    {
                                        "name": "2014",
                                        "type": "string"
                                    }
                                ]
                            }
                        },
                        "text/html": [
                            "<table><thead><tr><th>Country_Name</th><th>Country_Code</th><th>Indicator_Name</th><th>Indicator_Code</th><th>1990</th><th>1991</th><th>1992</th><th>1993</th><th>1994</th><th>1995</th><th>1996</th><th>1997</th><th>1998</th><th>1999</th><th>2000</th><th>2001</th><th>2002</th><th>2003</th><th>2004</th><th>2005</th><th>2006</th><th>2007</th><th>2008</th><th>2009</th><th>2010</th><th>2011</th><th>2012</th><th>2013</th><th>2014</th></tr></thead><tbody><tr><td>&quot;United States&quot;</td><td>&quot;USA&quot;</td><td>&quot;Government expenditure in secondary institutions education as &#37; of GDP &#40;&#37;&#41;&quot;</td><td>&quot;XGDP.23.FSGOV.FDINSTADM.FFD&quot;</td><td>&quot;&quot;</td><td>&quot;&quot;</td><td>&quot;&quot;</td><td>&quot;&quot;</td><td>&quot;&quot;</td><td>&quot;&quot;</td><td>&quot;&quot;</td><td>&quot;&quot;</td><td>&quot;1.73608994483948&quot;</td><td>&quot;1.72523999214172&quot;</td><td>&quot;1.7501300573349&quot;</td><td>&quot;1.88098001480103&quot;</td><td>&quot;1.90707004070282&quot;</td><td>&quot;2.03250002861023&quot;</td><td>&quot;1.94648003578186&quot;</td><td>&quot;1.82843005657196&quot;</td><td>&quot;1.92949998378754&quot;</td><td>&quot;1.92969000339508&quot;</td><td>&quot;1.96256005764008&quot;</td><td>&quot;1.97350001335144&quot;</td><td>&quot;1.91955995559692&quot;</td><td>&quot;1.87390005588531&quot;</td><td>&quot;1.76548004150391&quot;</td><td>&quot;&quot;</td><td>&quot;&quot;</td></tr><tr><td>&quot;United States&quot;</td><td>&quot;USA&quot;</td><td>&quot;Pupil-teacher ratio in secondary education &#40;headcount basis&#41;&quot;</td><td>&quot;SE.SEC.ENRL.TC.ZS&quot;</td><td>&quot;&quot;</td><td>&quot;&quot;</td><td>&quot;&quot;</td><td>&quot;15.5334100723267&quot;</td><td>&quot;15.6976499557495&quot;</td><td>&quot;15.4257001876831&quot;</td><td>&quot;15.4034900665283&quot;</td><td>&quot;&quot;</td><td>&quot;15.1882801055908&quot;</td><td>&quot;14.9240102767944&quot;</td><td>&quot;14.6057996749878&quot;</td><td>&quot;15.1627101898193&quot;</td><td>&quot;14.8834495544434&quot;</td><td>&quot;14.9155302047729&quot;</td><td>&quot;14.9754199981689&quot;</td><td>&quot;14.9440803527832&quot;</td><td>&quot;14.6182203292847&quot;</td><td>&quot;14.5639095306396&quot;</td><td>&quot;14.3765897750854&quot;</td><td>&quot;13.9601697921753&quot;</td><td>&quot;13.7594299316406&quot;</td><td>&quot;14.4905595779419&quot;</td><td>&quot;14.6637201309204&quot;</td><td>&quot;14.6957397460938&quot;</td><td>&quot;14.7868299484253&quot;</td></tr><tr><td>&quot;United States&quot;</td><td>&quot;USA&quot;</td><td>&quot;Rate of out-of-school youth of upper secondary school age, both sexes &#40;&#37;&#41;&quot;</td><td>&quot;UIS.ROFST.3.CP&quot;</td><td>&quot;&quot;</td><td>&quot;&quot;</td><td>&quot;&quot;</td><td>&quot;&quot;</td><td>&quot;&quot;</td><td>&quot;&quot;</td><td>&quot;&quot;</td><td>&quot;&quot;</td><td>&quot;&quot;</td><td>&quot;&quot;</td><td>&quot;15.3355&quot;</td><td>&quot;14.20598&quot;</td><td>&quot;16.60763&quot;</td><td>&quot;11.95517&quot;</td><td>&quot;10.79784&quot;</td><td>&quot;8.91003&quot;</td><td>&quot;8.92473&quot;</td><td>&quot;7.24616&quot;</td><td>&quot;7.10633&quot;</td><td>&quot;6.92348&quot;</td><td>&quot;9.4071&quot;</td><td>&quot;9.25726&quot;</td><td>&quot;10.49112&quot;</td><td>&quot;10.03378&quot;</td><td>&quot;7.50121&quot;</td></tr><tr><td>&quot;United States&quot;</td><td>&quot;USA&quot;</td><td>&quot;Rate of out-of-school youth of upper secondary school age, female &#40;&#37;&#41;&quot;</td><td>&quot;UIS.ROFST.3.F.CP&quot;</td><td>&quot;&quot;</td><td>&quot;&quot;</td><td>&quot;&quot;</td><td>&quot;&quot;</td><td>&quot;&quot;</td><td>&quot;&quot;</td><td>&quot;&quot;</td><td>&quot;&quot;</td><td>&quot;&quot;</td><td>&quot;&quot;</td><td>&quot;15.97203&quot;</td><td>&quot;13.04092&quot;</td><td>&quot;16.74537&quot;</td><td>&quot;11.60295&quot;</td><td>&quot;10.80064&quot;</td><td>&quot;6.2645&quot;</td><td>&quot;6.21013&quot;</td><td>&quot;6.17753&quot;</td><td>&quot;6.56122&quot;</td><td>&quot;5.58257&quot;</td><td>&quot;9.36999&quot;</td><td>&quot;7.95532&quot;</td><td>&quot;9.75025&quot;</td><td>&quot;9.24792&quot;</td><td>&quot;6.52425&quot;</td></tr><tr><td>&quot;United States&quot;</td><td>&quot;USA&quot;</td><td>&quot;Rate of out-of-school youth of upper secondary school age, male &#40;&#37;&#41;&quot;</td><td>&quot;UIS.ROFST.3.M.CP&quot;</td><td>&quot;&quot;</td><td>&quot;&quot;</td><td>&quot;&quot;</td><td>&quot;&quot;</td><td>&quot;&quot;</td><td>&quot;&quot;</td><td>&quot;&quot;</td><td>&quot;&quot;</td><td>&quot;&quot;</td><td>&quot;&quot;</td><td>&quot;14.7336&quot;</td><td>&quot;15.3063&quot;</td><td>&quot;16.47762&quot;</td><td>&quot;12.28699&quot;</td><td>&quot;10.79521&quot;</td><td>&quot;11.38762&quot;</td><td>&quot;11.46333&quot;</td><td>&quot;8.24965&quot;</td><td>&quot;7.61971&quot;</td><td>&quot;8.18763&quot;</td><td>&quot;9.44207&quot;</td><td>&quot;10.48286&quot;</td><td>&quot;11.18935&quot;</td><td>&quot;10.77544&quot;</td><td>&quot;8.4247&quot;</td></tr></tbody></table>"
                        ],
                        "text/plain": [
                            "5x29 query result\n",
                            "Country_Name  │ Country_Code\n",
                            "──────────────┼─────────────\n",
                            "United States │ USA         \n",
                            "United States │ USA         \n",
                            "United States │ USA         \n",
                            "United States │ USA         \n",
                            "United States │ USA         \n",
                            "... with 27 more columns: Indicator_Name, Indicator_Code, 1990, 1991, 1992, 1993, 1994, 1995, 1996, 1997, 1998, 1999, 2000, 2001, 2002, 2003, 2004, 2005, 2006, 2007, 2008, 2009, 2010, 2011, 2012, 2013, 2014"
                        ]
                    },
                    "execution_count": 8,
                    "metadata": {},
                    "output_type": "execute_result"
                }
            ],
            "source": [
                "# this is where you modify the year range, indicator list, or country list\n",
                "dfClean = itData |>  \n",
                "    @filter( occursin(r\"ZWE|VIR|URY|USA|GBR|TUR|ARE\", _.Country_Code)) |>\n",
                "    @filter( occursin(r\"SE.SEC.ENRL.TC.ZS|UIS.ROFST.3.CP|UIS.ROFST.3.F.CP|UIS.ROFST.3.M.CP|XGDP.23.FSGOV.FDINSTADM.FFD\", _.Indicator_Code)) |> \n",
                "    @select(1:4, 25:49) |>  \n",
                "    DataFrame\n",
                "\n",
                "dfClean |> @filter(_.Country_Code == \"USA\")"
            ]
        },
        {
            "cell_type": "markdown",
            "metadata": {},
            "source": [
                "A few things before we move forward.  Make the years column float and shorten the indicators name.  The code columns are removed also. The column names are also shortening while keeping readability."
            ]
        },
        {
            "cell_type": "code",
            "execution_count": 9,
            "metadata": {},
            "outputs": [
                {
                    "data": {
                        "application/vnd.dataresource+json": {
                            "data": [
                                {
                                    "1990": null,
                                    "1991": null,
                                    "1992": null,
                                    "1993": null,
                                    "1994": null,
                                    "1995": null,
                                    "1996": null,
                                    "1997": null,
                                    "1998": 1.73608994483948,
                                    "1999": 1.72523999214172,
                                    "2000": 1.7501300573349,
                                    "2001": 1.88098001480103,
                                    "2002": 1.90707004070282,
                                    "2003": 2.03250002861023,
                                    "2004": 1.94648003578186,
                                    "2005": 1.82843005657196,
                                    "2006": 1.92949998378754,
                                    "2007": 1.92969000339508,
                                    "2008": 1.96256005764008,
                                    "2009": 1.97350001335144,
                                    "2010": 1.91955995559692,
                                    "2011": 1.87390005588531,
                                    "2012": 1.76548004150391,
                                    "2013": null,
                                    "2014": null,
                                    "Country": "United States",
                                    "Series": "GovernmentExpenditure"
                                },
                                {
                                    "1990": null,
                                    "1991": null,
                                    "1992": null,
                                    "1993": 15.5334100723267,
                                    "1994": 15.6976499557495,
                                    "1995": 15.4257001876831,
                                    "1996": 15.4034900665283,
                                    "1997": null,
                                    "1998": 15.1882801055908,
                                    "1999": 14.9240102767944,
                                    "2000": 14.6057996749878,
                                    "2001": 15.1627101898193,
                                    "2002": 14.8834495544434,
                                    "2003": 14.9155302047729,
                                    "2004": 14.9754199981689,
                                    "2005": 14.9440803527832,
                                    "2006": 14.6182203292847,
                                    "2007": 14.5639095306396,
                                    "2008": 14.3765897750854,
                                    "2009": 13.9601697921753,
                                    "2010": 13.7594299316406,
                                    "2011": 14.4905595779419,
                                    "2012": 14.6637201309204,
                                    "2013": 14.6957397460938,
                                    "2014": 14.7868299484253,
                                    "Country": "United States",
                                    "Series": "PupilTeacherRatio"
                                },
                                {
                                    "1990": null,
                                    "1991": null,
                                    "1992": null,
                                    "1993": null,
                                    "1994": null,
                                    "1995": null,
                                    "1996": null,
                                    "1997": null,
                                    "1998": null,
                                    "1999": null,
                                    "2000": 15.3355,
                                    "2001": 14.20598,
                                    "2002": 16.60763,
                                    "2003": 11.95517,
                                    "2004": 10.79784,
                                    "2005": 8.91003,
                                    "2006": 8.92473,
                                    "2007": 7.24616,
                                    "2008": 7.10633,
                                    "2009": 6.92348,
                                    "2010": 9.4071,
                                    "2011": 9.25726,
                                    "2012": 10.49112,
                                    "2013": 10.03378,
                                    "2014": 7.50121,
                                    "Country": "United States",
                                    "Series": "RateOutofSchoolBothSexes"
                                },
                                {
                                    "1990": null,
                                    "1991": null,
                                    "1992": null,
                                    "1993": null,
                                    "1994": null,
                                    "1995": null,
                                    "1996": null,
                                    "1997": null,
                                    "1998": null,
                                    "1999": null,
                                    "2000": 15.97203,
                                    "2001": 13.04092,
                                    "2002": 16.74537,
                                    "2003": 11.60295,
                                    "2004": 10.80064,
                                    "2005": 6.2645,
                                    "2006": 6.21013,
                                    "2007": 6.17753,
                                    "2008": 6.56122,
                                    "2009": 5.58257,
                                    "2010": 9.36999,
                                    "2011": 7.95532,
                                    "2012": 9.75025,
                                    "2013": 9.24792,
                                    "2014": 6.52425,
                                    "Country": "United States",
                                    "Series": "RateOutofSchoolFemale"
                                },
                                {
                                    "1990": null,
                                    "1991": null,
                                    "1992": null,
                                    "1993": null,
                                    "1994": null,
                                    "1995": null,
                                    "1996": null,
                                    "1997": null,
                                    "1998": null,
                                    "1999": null,
                                    "2000": 14.7336,
                                    "2001": 15.3063,
                                    "2002": 16.47762,
                                    "2003": 12.28699,
                                    "2004": 10.79521,
                                    "2005": 11.38762,
                                    "2006": 11.46333,
                                    "2007": 8.24965,
                                    "2008": 7.61971,
                                    "2009": 8.18763,
                                    "2010": 9.44207,
                                    "2011": 10.48286,
                                    "2012": 11.18935,
                                    "2013": 10.77544,
                                    "2014": 8.4247,
                                    "Country": "United States",
                                    "Series": "RateOutofSchoolMale"
                                }
                            ],
                            "schema": {
                                "fields": [
                                    {
                                        "name": "Country",
                                        "type": "string"
                                    },
                                    {
                                        "name": "Series",
                                        "type": "string"
                                    },
                                    {
                                        "name": "1990",
                                        "type": "number"
                                    },
                                    {
                                        "name": "1991",
                                        "type": "number"
                                    },
                                    {
                                        "name": "1992",
                                        "type": "number"
                                    },
                                    {
                                        "name": "1993",
                                        "type": "number"
                                    },
                                    {
                                        "name": "1994",
                                        "type": "number"
                                    },
                                    {
                                        "name": "1995",
                                        "type": "number"
                                    },
                                    {
                                        "name": "1996",
                                        "type": "number"
                                    },
                                    {
                                        "name": "1997",
                                        "type": "number"
                                    },
                                    {
                                        "name": "1998",
                                        "type": "number"
                                    },
                                    {
                                        "name": "1999",
                                        "type": "number"
                                    },
                                    {
                                        "name": "2000",
                                        "type": "number"
                                    },
                                    {
                                        "name": "2001",
                                        "type": "number"
                                    },
                                    {
                                        "name": "2002",
                                        "type": "number"
                                    },
                                    {
                                        "name": "2003",
                                        "type": "number"
                                    },
                                    {
                                        "name": "2004",
                                        "type": "number"
                                    },
                                    {
                                        "name": "2005",
                                        "type": "number"
                                    },
                                    {
                                        "name": "2006",
                                        "type": "number"
                                    },
                                    {
                                        "name": "2007",
                                        "type": "number"
                                    },
                                    {
                                        "name": "2008",
                                        "type": "number"
                                    },
                                    {
                                        "name": "2009",
                                        "type": "number"
                                    },
                                    {
                                        "name": "2010",
                                        "type": "number"
                                    },
                                    {
                                        "name": "2011",
                                        "type": "number"
                                    },
                                    {
                                        "name": "2012",
                                        "type": "number"
                                    },
                                    {
                                        "name": "2013",
                                        "type": "number"
                                    },
                                    {
                                        "name": "2014",
                                        "type": "number"
                                    }
                                ]
                            }
                        },
                        "text/html": [
                            "<table><thead><tr><th>Country</th><th>Series</th><th>1990</th><th>1991</th><th>1992</th><th>1993</th><th>1994</th><th>1995</th><th>1996</th><th>1997</th><th>1998</th><th>1999</th><th>2000</th><th>2001</th><th>2002</th><th>2003</th><th>2004</th><th>2005</th><th>2006</th><th>2007</th><th>2008</th><th>2009</th><th>2010</th><th>2011</th><th>2012</th><th>2013</th><th>2014</th></tr></thead><tbody><tr><td>&quot;United States&quot;</td><td>&quot;GovernmentExpenditure&quot;</td><td>#NA</td><td>#NA</td><td>#NA</td><td>#NA</td><td>#NA</td><td>#NA</td><td>#NA</td><td>#NA</td><td>1.73609</td><td>1.72524</td><td>1.75013</td><td>1.88098</td><td>1.90707</td><td>2.0325</td><td>1.94648</td><td>1.82843</td><td>1.9295</td><td>1.92969</td><td>1.96256</td><td>1.9735</td><td>1.91956</td><td>1.8739</td><td>1.76548</td><td>#NA</td><td>#NA</td></tr><tr><td>&quot;United States&quot;</td><td>&quot;PupilTeacherRatio&quot;</td><td>#NA</td><td>#NA</td><td>#NA</td><td>15.5334</td><td>15.6976</td><td>15.4257</td><td>15.4035</td><td>#NA</td><td>15.1883</td><td>14.924</td><td>14.6058</td><td>15.1627</td><td>14.8834</td><td>14.9155</td><td>14.9754</td><td>14.9441</td><td>14.6182</td><td>14.5639</td><td>14.3766</td><td>13.9602</td><td>13.7594</td><td>14.4906</td><td>14.6637</td><td>14.6957</td><td>14.7868</td></tr><tr><td>&quot;United States&quot;</td><td>&quot;RateOutofSchoolBothSexes&quot;</td><td>#NA</td><td>#NA</td><td>#NA</td><td>#NA</td><td>#NA</td><td>#NA</td><td>#NA</td><td>#NA</td><td>#NA</td><td>#NA</td><td>15.3355</td><td>14.206</td><td>16.6076</td><td>11.9552</td><td>10.7978</td><td>8.91003</td><td>8.92473</td><td>7.24616</td><td>7.10633</td><td>6.92348</td><td>9.4071</td><td>9.25726</td><td>10.4911</td><td>10.0338</td><td>7.50121</td></tr><tr><td>&quot;United States&quot;</td><td>&quot;RateOutofSchoolFemale&quot;</td><td>#NA</td><td>#NA</td><td>#NA</td><td>#NA</td><td>#NA</td><td>#NA</td><td>#NA</td><td>#NA</td><td>#NA</td><td>#NA</td><td>15.972</td><td>13.0409</td><td>16.7454</td><td>11.6029</td><td>10.8006</td><td>6.2645</td><td>6.21013</td><td>6.17753</td><td>6.56122</td><td>5.58257</td><td>9.36999</td><td>7.95532</td><td>9.75025</td><td>9.24792</td><td>6.52425</td></tr><tr><td>&quot;United States&quot;</td><td>&quot;RateOutofSchoolMale&quot;</td><td>#NA</td><td>#NA</td><td>#NA</td><td>#NA</td><td>#NA</td><td>#NA</td><td>#NA</td><td>#NA</td><td>#NA</td><td>#NA</td><td>14.7336</td><td>15.3063</td><td>16.4776</td><td>12.287</td><td>10.7952</td><td>11.3876</td><td>11.4633</td><td>8.24965</td><td>7.61971</td><td>8.18763</td><td>9.44207</td><td>10.4829</td><td>11.1893</td><td>10.7754</td><td>8.4247</td></tr></tbody></table>"
                        ],
                        "text/plain": [
                            "5x27 query result\n",
                            "Country       │ Series                   │ 1990 │ 1991 │ 1992 │ 1993   \n",
                            "──────────────┼──────────────────────────┼──────┼──────┼──────┼────────\n",
                            "United States │ GovernmentExpenditure    │ \u001b[90m#NA \u001b[39m │ \u001b[90m#NA \u001b[39m │ \u001b[90m#NA \u001b[39m │ \u001b[90m#NA    \u001b[39m\n",
                            "United States │ PupilTeacherRatio        │ \u001b[90m#NA \u001b[39m │ \u001b[90m#NA \u001b[39m │ \u001b[90m#NA \u001b[39m │ 15.5334\n",
                            "United States │ RateOutofSchoolBothSexes │ \u001b[90m#NA \u001b[39m │ \u001b[90m#NA \u001b[39m │ \u001b[90m#NA \u001b[39m │ \u001b[90m#NA    \u001b[39m\n",
                            "United States │ RateOutofSchoolFemale    │ \u001b[90m#NA \u001b[39m │ \u001b[90m#NA \u001b[39m │ \u001b[90m#NA \u001b[39m │ \u001b[90m#NA    \u001b[39m\n",
                            "United States │ RateOutofSchoolMale      │ \u001b[90m#NA \u001b[39m │ \u001b[90m#NA \u001b[39m │ \u001b[90m#NA \u001b[39m │ \u001b[90m#NA    \u001b[39m\n",
                            "... with 21 more columns: 1994, 1995, 1996, 1997, 1998, 1999, 2000, 2001, 2002, 2003, 2004, 2005, 2006, 2007, 2008, 2009, 2010, 2011, 2012, 2013, 2014"
                        ]
                    },
                    "execution_count": 9,
                    "metadata": {},
                    "output_type": "execute_result"
                }
            ],
            "source": [
                "#convert year columns from string to float \n",
                "dfCleanFloat = copy(dfClean)\n",
                "for c in 5:ncol(dfCleanFloat)\n",
                "  dfCleanFloat[!,c] = map(x -> (v = tryparse(Float64,x); v == nothing ? missing : v),  dfCleanFloat[!,c])\n",
                "end\n",
                "\n",
                "function indicatorRename(name::String)\n",
                "    if name == \"Government expenditure in secondary institutions education as % of GDP (%)\"\n",
                "        return string(\"GovernmentExpenditure\")\n",
                "    elseif name == \"Pupil-teacher ratio in secondary education (headcount basis)\"\n",
                "        return string(\"PupilTeacherRatio\") \n",
                "    elseif name == \"Rate of out-of-school youth of upper secondary school age, both sexes (%)\"\n",
                "        return string(\"RateOutofSchoolBothSexes\") \n",
                "    elseif name == \"Rate of out-of-school youth of upper secondary school age, female (%)\"\n",
                "        return string(\"RateOutofSchoolFemale\") \n",
                "    elseif name == \"Rate of out-of-school youth of upper secondary school age, male (%)\"\n",
                "        return string(\"RateOutofSchoolMale\")\n",
                "    end     \n",
                "end\n",
                "\n",
                "dfCleanFloat |> @select(3) |> @unique(_.Indicator_Name)  #unique Indicator Names\n",
                "\n",
                "dfCleanShort = dfCleanFloat |> \n",
                "    @mutate(Indicator_Name = indicatorRename(_.Indicator_Name)) |>\n",
                "    @select(-:Country_Code, -:Indicator_Code) |> \n",
                "    @rename(:Country_Name => :Country, :Indicator_Name => :Series) |> \n",
                "    @orderby(:Country )  |>\n",
                "    @thenby(:Series) |> DataFrame\n",
                "\n",
                "dfCleanShort |> @filter(_.Country == \"United States\")"
            ]
        },
        {
            "cell_type": "markdown",
            "metadata": {},
            "source": [
                "No data science project is complete without talking about missing values. Julia supports missing values as part of the language itself. The Julia document says that \"missing values are represented via the missing object, which is the singleton instance of the type Missing. Missing is equivalent to NULL in SQL and NA in R and behaves like them in most situations.\"\n",
                "\n",
                "Here for simplicity, we fill a missing value in a time series with the previous value. Take a look at the forwardBackwardFill function. First, the function fills missing values with a forward loop. Secondly, any values still missing are filled with a backward loop. A little recursion ensures we impute all values. In Python, such loops are slow. In Julia the loops are as fast as C. I implemented the function in C style to get the C speed point across."
            ]
        },
        {
            "cell_type": "code",
            "execution_count": 10,
            "metadata": {},
            "outputs": [
                {
                    "name": "stdout",
                    "output_type": "stream",
                    "text": [
                        "Union{Missing, Float64}[1.0, 1.0, 7.0, 7.0]\n",
                        "Union{Missing, Float64}[1.0, 1.0, 4.0, 4.0, 7.0]\n",
                        "Union{Missing, Float64}[2.0, 2.0, 2.0]\n",
                        "Union{Missing, Float64}[2.0, 2.0, 2.0, 2.0]\n",
                        "Missing[missing, missing, missing, missing]\n"
                    ]
                }
            ],
            "source": [
                "function forwardBackwardFill(v)    \n",
                "  if all(ismissing, v)\n",
                "    # nothing we can do without any values    \n",
                "    return v\n",
                "  end\n",
                "    \n",
                "  nEnd = length(v)\n",
                "  r = zeros(nEnd)\n",
                "  r = convert(Vector{Union{Missing,Float64}}, r)  # to allow assinging a missing to a float array item \n",
                "  r[1] = v[1]   \n",
                "       \n",
                "  # forward filling\n",
                "  for i in 2:nEnd\n",
                "    if ismissing(v[i]) \n",
                "        r[i] = v[i-1]\n",
                "    else\n",
                "        r[i] = v[i]\n",
                "    end\n",
                "  end\n",
                "  \n",
                "  # backward filling\n",
                "  for i in reverse(1:nEnd-1)\n",
                "    if ismissing(r[i]) \n",
                "        r[i] = r[i+1]\n",
                "    end\n",
                "  end\n",
                "    \n",
                "  if any(ismissing, r) \n",
                "    forwardBackwardFill(r)     \n",
                "  else \n",
                "    return r\n",
                "  end\n",
                "        \n",
                "end\n",
                "\n",
                "println(forwardBackwardFill([1,missing,missing,7]))\n",
                "println(forwardBackwardFill([1,missing,4,missing,7]))\n",
                "println(forwardBackwardFill([missing,missing,2]))\n",
                "println(forwardBackwardFill([2,missing,missing,missing]))\n",
                "println(forwardBackwardFill([missing,missing,missing,missing]))"
            ]
        },
        {
            "cell_type": "markdown",
            "metadata": {},
            "source": [
                "Next are a few helper functions. We imputate and rescale using the helper functions. We keep things simple for supportability. "
            ]
        },
        {
            "cell_type": "code",
            "execution_count": 11,
            "metadata": {},
            "outputs": [
                {
                    "data": {
                        "text/plain": [
                            "getFirst (generic function with 1 method)"
                        ]
                    },
                    "execution_count": 11,
                    "metadata": {},
                    "output_type": "execute_result"
                }
            ],
            "source": [
                "function getYearValues( df, r)\n",
                "    v = convert(Vector, df[r,3:end])    #skipping country and series\n",
                "    return v    \n",
                "end\n",
                "\n",
                "function setYearValues!( df, r, v)\n",
                "    df[r,3:end] .= v \n",
                "end\n",
                "\n",
                "function getMax( df, r)\n",
                "   v = getYearValues( df, r)\n",
                "   return partialsort(v,1,rev=true) \n",
                "end\n",
                "\n",
                "function getMin( df, r)\n",
                "   v = getYearValues( df, r)\n",
                "   return partialsort(v,1,rev=false) \n",
                "end\n",
                "\n",
                "function getFirst( df, r)\n",
                "   v = getYearValues( df, r)\n",
                "   return v[1] \n",
                "end"
            ]
        },
        {
            "cell_type": "code",
            "execution_count": 12,
            "metadata": {},
            "outputs": [
                {
                    "data": {
                        "application/vnd.dataresource+json": {
                            "data": [
                                {
                                    "1990": 1.73608994483948,
                                    "1991": 1.73608994483948,
                                    "1992": 1.73608994483948,
                                    "1993": 1.73608994483948,
                                    "1994": 1.73608994483948,
                                    "1995": 1.73608994483948,
                                    "1996": 1.73608994483948,
                                    "1997": 1.73608994483948,
                                    "1998": 1.73608994483948,
                                    "1999": 1.72523999214172,
                                    "2000": 1.7501300573349,
                                    "2001": 1.88098001480103,
                                    "2002": 1.90707004070282,
                                    "2003": 2.03250002861023,
                                    "2004": 1.94648003578186,
                                    "2005": 1.82843005657196,
                                    "2006": 1.92949998378754,
                                    "2007": 1.92969000339508,
                                    "2008": 1.96256005764008,
                                    "2009": 1.97350001335144,
                                    "2010": 1.91955995559692,
                                    "2011": 1.87390005588531,
                                    "2012": 1.76548004150391,
                                    "2013": 1.76548004150391,
                                    "2014": 1.76548004150391,
                                    "Country": "United States",
                                    "Series": "GovernmentExpenditure"
                                },
                                {
                                    "1990": 15.5334100723267,
                                    "1991": 15.5334100723267,
                                    "1992": 15.5334100723267,
                                    "1993": 15.5334100723267,
                                    "1994": 15.6976499557495,
                                    "1995": 15.4257001876831,
                                    "1996": 15.4034900665283,
                                    "1997": 15.4034900665283,
                                    "1998": 15.1882801055908,
                                    "1999": 14.9240102767944,
                                    "2000": 14.6057996749878,
                                    "2001": 15.1627101898193,
                                    "2002": 14.8834495544434,
                                    "2003": 14.9155302047729,
                                    "2004": 14.9754199981689,
                                    "2005": 14.9440803527832,
                                    "2006": 14.6182203292847,
                                    "2007": 14.5639095306396,
                                    "2008": 14.3765897750854,
                                    "2009": 13.9601697921753,
                                    "2010": 13.7594299316406,
                                    "2011": 14.4905595779419,
                                    "2012": 14.6637201309204,
                                    "2013": 14.6957397460938,
                                    "2014": 14.7868299484253,
                                    "Country": "United States",
                                    "Series": "PupilTeacherRatio"
                                },
                                {
                                    "1990": 15.3355,
                                    "1991": 15.3355,
                                    "1992": 15.3355,
                                    "1993": 15.3355,
                                    "1994": 15.3355,
                                    "1995": 15.3355,
                                    "1996": 15.3355,
                                    "1997": 15.3355,
                                    "1998": 15.3355,
                                    "1999": 15.3355,
                                    "2000": 15.3355,
                                    "2001": 14.20598,
                                    "2002": 16.60763,
                                    "2003": 11.95517,
                                    "2004": 10.79784,
                                    "2005": 8.91003,
                                    "2006": 8.92473,
                                    "2007": 7.24616,
                                    "2008": 7.10633,
                                    "2009": 6.92348,
                                    "2010": 9.4071,
                                    "2011": 9.25726,
                                    "2012": 10.49112,
                                    "2013": 10.03378,
                                    "2014": 7.50121,
                                    "Country": "United States",
                                    "Series": "RateOutofSchoolBothSexes"
                                },
                                {
                                    "1990": 15.97203,
                                    "1991": 15.97203,
                                    "1992": 15.97203,
                                    "1993": 15.97203,
                                    "1994": 15.97203,
                                    "1995": 15.97203,
                                    "1996": 15.97203,
                                    "1997": 15.97203,
                                    "1998": 15.97203,
                                    "1999": 15.97203,
                                    "2000": 15.97203,
                                    "2001": 13.04092,
                                    "2002": 16.74537,
                                    "2003": 11.60295,
                                    "2004": 10.80064,
                                    "2005": 6.2645,
                                    "2006": 6.21013,
                                    "2007": 6.17753,
                                    "2008": 6.56122,
                                    "2009": 5.58257,
                                    "2010": 9.36999,
                                    "2011": 7.95532,
                                    "2012": 9.75025,
                                    "2013": 9.24792,
                                    "2014": 6.52425,
                                    "Country": "United States",
                                    "Series": "RateOutofSchoolFemale"
                                },
                                {
                                    "1990": 14.7336,
                                    "1991": 14.7336,
                                    "1992": 14.7336,
                                    "1993": 14.7336,
                                    "1994": 14.7336,
                                    "1995": 14.7336,
                                    "1996": 14.7336,
                                    "1997": 14.7336,
                                    "1998": 14.7336,
                                    "1999": 14.7336,
                                    "2000": 14.7336,
                                    "2001": 15.3063,
                                    "2002": 16.47762,
                                    "2003": 12.28699,
                                    "2004": 10.79521,
                                    "2005": 11.38762,
                                    "2006": 11.46333,
                                    "2007": 8.24965,
                                    "2008": 7.61971,
                                    "2009": 8.18763,
                                    "2010": 9.44207,
                                    "2011": 10.48286,
                                    "2012": 11.18935,
                                    "2013": 10.77544,
                                    "2014": 8.4247,
                                    "Country": "United States",
                                    "Series": "RateOutofSchoolMale"
                                }
                            ],
                            "schema": {
                                "fields": [
                                    {
                                        "name": "Country",
                                        "type": "string"
                                    },
                                    {
                                        "name": "Series",
                                        "type": "string"
                                    },
                                    {
                                        "name": "1990",
                                        "type": "number"
                                    },
                                    {
                                        "name": "1991",
                                        "type": "number"
                                    },
                                    {
                                        "name": "1992",
                                        "type": "number"
                                    },
                                    {
                                        "name": "1993",
                                        "type": "number"
                                    },
                                    {
                                        "name": "1994",
                                        "type": "number"
                                    },
                                    {
                                        "name": "1995",
                                        "type": "number"
                                    },
                                    {
                                        "name": "1996",
                                        "type": "number"
                                    },
                                    {
                                        "name": "1997",
                                        "type": "number"
                                    },
                                    {
                                        "name": "1998",
                                        "type": "number"
                                    },
                                    {
                                        "name": "1999",
                                        "type": "number"
                                    },
                                    {
                                        "name": "2000",
                                        "type": "number"
                                    },
                                    {
                                        "name": "2001",
                                        "type": "number"
                                    },
                                    {
                                        "name": "2002",
                                        "type": "number"
                                    },
                                    {
                                        "name": "2003",
                                        "type": "number"
                                    },
                                    {
                                        "name": "2004",
                                        "type": "number"
                                    },
                                    {
                                        "name": "2005",
                                        "type": "number"
                                    },
                                    {
                                        "name": "2006",
                                        "type": "number"
                                    },
                                    {
                                        "name": "2007",
                                        "type": "number"
                                    },
                                    {
                                        "name": "2008",
                                        "type": "number"
                                    },
                                    {
                                        "name": "2009",
                                        "type": "number"
                                    },
                                    {
                                        "name": "2010",
                                        "type": "number"
                                    },
                                    {
                                        "name": "2011",
                                        "type": "number"
                                    },
                                    {
                                        "name": "2012",
                                        "type": "number"
                                    },
                                    {
                                        "name": "2013",
                                        "type": "number"
                                    },
                                    {
                                        "name": "2014",
                                        "type": "number"
                                    }
                                ]
                            }
                        },
                        "text/html": [
                            "<table><thead><tr><th>Country</th><th>Series</th><th>1990</th><th>1991</th><th>1992</th><th>1993</th><th>1994</th><th>1995</th><th>1996</th><th>1997</th><th>1998</th><th>1999</th><th>2000</th><th>2001</th><th>2002</th><th>2003</th><th>2004</th><th>2005</th><th>2006</th><th>2007</th><th>2008</th><th>2009</th><th>2010</th><th>2011</th><th>2012</th><th>2013</th><th>2014</th></tr></thead><tbody><tr><td>&quot;United States&quot;</td><td>&quot;GovernmentExpenditure&quot;</td><td>1.73609</td><td>1.73609</td><td>1.73609</td><td>1.73609</td><td>1.73609</td><td>1.73609</td><td>1.73609</td><td>1.73609</td><td>1.73609</td><td>1.72524</td><td>1.75013</td><td>1.88098</td><td>1.90707</td><td>2.0325</td><td>1.94648</td><td>1.82843</td><td>1.9295</td><td>1.92969</td><td>1.96256</td><td>1.9735</td><td>1.91956</td><td>1.8739</td><td>1.76548</td><td>1.76548</td><td>1.76548</td></tr><tr><td>&quot;United States&quot;</td><td>&quot;PupilTeacherRatio&quot;</td><td>15.5334</td><td>15.5334</td><td>15.5334</td><td>15.5334</td><td>15.6976</td><td>15.4257</td><td>15.4035</td><td>15.4035</td><td>15.1883</td><td>14.924</td><td>14.6058</td><td>15.1627</td><td>14.8834</td><td>14.9155</td><td>14.9754</td><td>14.9441</td><td>14.6182</td><td>14.5639</td><td>14.3766</td><td>13.9602</td><td>13.7594</td><td>14.4906</td><td>14.6637</td><td>14.6957</td><td>14.7868</td></tr><tr><td>&quot;United States&quot;</td><td>&quot;RateOutofSchoolBothSexes&quot;</td><td>15.3355</td><td>15.3355</td><td>15.3355</td><td>15.3355</td><td>15.3355</td><td>15.3355</td><td>15.3355</td><td>15.3355</td><td>15.3355</td><td>15.3355</td><td>15.3355</td><td>14.206</td><td>16.6076</td><td>11.9552</td><td>10.7978</td><td>8.91003</td><td>8.92473</td><td>7.24616</td><td>7.10633</td><td>6.92348</td><td>9.4071</td><td>9.25726</td><td>10.4911</td><td>10.0338</td><td>7.50121</td></tr><tr><td>&quot;United States&quot;</td><td>&quot;RateOutofSchoolFemale&quot;</td><td>15.972</td><td>15.972</td><td>15.972</td><td>15.972</td><td>15.972</td><td>15.972</td><td>15.972</td><td>15.972</td><td>15.972</td><td>15.972</td><td>15.972</td><td>13.0409</td><td>16.7454</td><td>11.6029</td><td>10.8006</td><td>6.2645</td><td>6.21013</td><td>6.17753</td><td>6.56122</td><td>5.58257</td><td>9.36999</td><td>7.95532</td><td>9.75025</td><td>9.24792</td><td>6.52425</td></tr><tr><td>&quot;United States&quot;</td><td>&quot;RateOutofSchoolMale&quot;</td><td>14.7336</td><td>14.7336</td><td>14.7336</td><td>14.7336</td><td>14.7336</td><td>14.7336</td><td>14.7336</td><td>14.7336</td><td>14.7336</td><td>14.7336</td><td>14.7336</td><td>15.3063</td><td>16.4776</td><td>12.287</td><td>10.7952</td><td>11.3876</td><td>11.4633</td><td>8.24965</td><td>7.61971</td><td>8.18763</td><td>9.44207</td><td>10.4829</td><td>11.1893</td><td>10.7754</td><td>8.4247</td></tr></tbody></table>"
                        ],
                        "text/plain": [
                            "5x27 query result\n",
                            "Country       │ Series                   │ 1990    │ 1991    │ 1992   \n",
                            "──────────────┼──────────────────────────┼─────────┼─────────┼────────\n",
                            "United States │ GovernmentExpenditure    │ 1.73609 │ 1.73609 │ 1.73609\n",
                            "United States │ PupilTeacherRatio        │ 15.5334 │ 15.5334 │ 15.5334\n",
                            "United States │ RateOutofSchoolBothSexes │ 15.3355 │ 15.3355 │ 15.3355\n",
                            "United States │ RateOutofSchoolFemale    │ 15.972  │ 15.972  │ 15.972 \n",
                            "United States │ RateOutofSchoolMale      │ 14.7336 │ 14.7336 │ 14.7336\n",
                            "... with 22 more columns: 1993, 1994, 1995, 1996, 1997, 1998, 1999, 2000, 2001, 2002, 2003, 2004, 2005, 2006, 2007, 2008, 2009, 2010, 2011, 2012, 2013, 2014"
                        ]
                    },
                    "execution_count": 12,
                    "metadata": {},
                    "output_type": "execute_result"
                }
            ],
            "source": [
                "dfImputation = copy(dfCleanShort)\n",
                "for r in 1:nrow(dfImputation)\n",
                "    v = getYearValues( dfImputation, r)\n",
                "    fb = forwardBackwardFill(v)\n",
                "    setYearValues!( dfImputation, r, fb)\n",
                "end\n",
                "\n",
                "dfImputation |> @filter(_.Country == \"United States\")"
            ]
        },
        {
            "cell_type": "markdown",
            "metadata": {},
            "source": [
                "   \n"
            ]
        },
        {
            "cell_type": "markdown",
            "metadata": {},
            "source": [
                "We like to compare different kind of time series and between different countries.  Therefore, we must normalize the time series and start them at zero.  The result of normalization is to scale the original values to a range between 0 and 1.  We make each time series start at zero so we can compare their trend side by side.\n",
                "\n",
                "Many machine learning models require the data to be standardized as well.  You can standardize the data yourself depending on your chosen machine learning model.  "
            ]
        },
        {
            "cell_type": "code",
            "execution_count": 13,
            "metadata": {},
            "outputs": [
                {
                    "data": {
                        "application/vnd.dataresource+json": {
                            "data": [
                                {
                                    "1990": 0.03531195537976147,
                                    "1991": 0.03531195537976147,
                                    "1992": 0.03531195537976147,
                                    "1993": 0.03531195537976147,
                                    "1994": 0.03531195537976147,
                                    "1995": 0.03531195537976147,
                                    "1996": 0.03531195537976147,
                                    "1997": 0.03531195537976147,
                                    "1998": 0.03531195537976147,
                                    "1999": 0,
                                    "2000": 0.08100651643231425,
                                    "2001": 0.5068671619300263,
                                    "2002": 0.5917790372316615,
                                    "2003": 1,
                                    "2004": 0.7200417150989111,
                                    "2005": 0.3358395241250828,
                                    "2006": 0.6647789084238875,
                                    "2007": 0.6653973409728254,
                                    "2008": 0.7723753086343268,
                                    "2009": 0.8079801853280172,
                                    "2010": 0.6324283681295313,
                                    "2011": 0.48382492384044773,
                                    "2012": 0.13096414953499502,
                                    "2013": 0.13096414953499502,
                                    "2014": 0.13096414953499502,
                                    "Country": "United States",
                                    "Series": "GovernmentExpenditure"
                                },
                                {
                                    "1990": 0.9152625185067368,
                                    "1991": 0.9152625185067368,
                                    "1992": 0.9152625185067368,
                                    "1993": 0.9152625185067368,
                                    "1994": 1,
                                    "1995": 0.859690971776319,
                                    "1996": 0.8482319419043052,
                                    "1997": 0.8482319419043052,
                                    "1998": 0.7371970963962761,
                                    "1999": 0.6008504352797707,
                                    "2000": 0.43667371754469425,
                                    "2001": 0.724004623171645,
                                    "2002": 0.5799236458304421,
                                    "2003": 0.5964752498436389,
                                    "2004": 0.6273746279591519,
                                    "2005": 0.6112053360336348,
                                    "2006": 0.44308199634813417,
                                    "2007": 0.4150610297037157,
                                    "2008": 0.3184157813706109,
                                    "2009": 0.10356918102060705,
                                    "2010": 0,
                                    "2011": 0.37721705338249106,
                                    "2012": 0.46655704101269346,
                                    "2013": 0.4830771547124378,
                                    "2014": 0.530073987475725,
                                    "Country": "United States",
                                    "Series": "PupilTeacherRatio"
                                },
                                {
                                    "1990": 0.8686379289870562,
                                    "1991": 0.8686379289870562,
                                    "1992": 0.8686379289870562,
                                    "1993": 0.8686379289870562,
                                    "1994": 0.8686379289870562,
                                    "1995": 0.8686379289870562,
                                    "1996": 0.8686379289870562,
                                    "1997": 0.8686379289870562,
                                    "1998": 0.8686379289870562,
                                    "1999": 0.8686379289870562,
                                    "2000": 0.8686379289870562,
                                    "2001": 0.7520019826210871,
                                    "2002": 1,
                                    "2003": 0.5195799321571848,
                                    "2004": 0.4000722830604649,
                                    "2005": 0.2051341625232985,
                                    "2006": 0.20665210679305882,
                                    "2007": 0.033320425643964625,
                                    "2008": 0.01888136800855007,
                                    "2009": 0,
                                    "2010": 0.25646236375933873,
                                    "2011": 0.24098965835927785,
                                    "2012": 0.3683999111950972,
                                    "2013": 0.32117428994800784,
                                    "2014": 0.05965727503188206,
                                    "Country": "United States",
                                    "Series": "RateOutofSchoolBothSexes"
                                },
                                {
                                    "1990": 0.930721682731931,
                                    "1991": 0.930721682731931,
                                    "1992": 0.930721682731931,
                                    "1993": 0.930721682731931,
                                    "1994": 0.930721682731931,
                                    "1995": 0.930721682731931,
                                    "1996": 0.930721682731931,
                                    "1997": 0.930721682731931,
                                    "1998": 0.930721682731931,
                                    "1999": 0.930721682731931,
                                    "2000": 0.930721682731931,
                                    "2001": 0.6681432973805855,
                                    "2002": 1,
                                    "2003": 0.5393252588956176,
                                    "2004": 0.4674517146235711,
                                    "2005": 0.0610895115920737,
                                    "2006": 0.056218869817608555,
                                    "2007": 0.053298455584620374,
                                    "2008": 0.08767065610778657,
                                    "2009": 0,
                                    "2010": 0.3392894255921453,
                                    "2011": 0.21255867703443587,
                                    "2012": 0.37335435553803703,
                                    "2013": 0.3283539972050024,
                                    "2014": 0.0843587630343642,
                                    "Country": "United States",
                                    "Series": "RateOutofSchoolFemale"
                                },
                                {
                                    "1990": 0.8031115692076346,
                                    "1991": 0.8031115692076346,
                                    "1992": 0.8031115692076346,
                                    "1993": 0.8031115692076346,
                                    "1994": 0.8031115692076346,
                                    "1995": 0.8031115692076346,
                                    "1996": 0.8031115692076346,
                                    "1997": 0.8031115692076346,
                                    "1998": 0.8031115692076346,
                                    "1999": 0.8031115692076346,
                                    "2000": 0.8031115692076346,
                                    "2001": 0.8677656467496282,
                                    "2002": 1,
                                    "2003": 0.5269053309414974,
                                    "2004": 0.3584931434164493,
                                    "2005": 0.42537235081413105,
                                    "2006": 0.43391951374534155,
                                    "2007": 0.07111609849275961,
                                    "2008": 0,
                                    "2009": 0.06411444686161859,
                                    "2010": 0.20573250349122973,
                                    "2011": 0.32323087500324565,
                                    "2012": 0.40298896692334857,
                                    "2013": 0.3562612399538942,
                                    "2014": 0.09087809652615562,
                                    "Country": "United States",
                                    "Series": "RateOutofSchoolMale"
                                }
                            ],
                            "schema": {
                                "fields": [
                                    {
                                        "name": "Country",
                                        "type": "string"
                                    },
                                    {
                                        "name": "Series",
                                        "type": "string"
                                    },
                                    {
                                        "name": "1990",
                                        "type": "number"
                                    },
                                    {
                                        "name": "1991",
                                        "type": "number"
                                    },
                                    {
                                        "name": "1992",
                                        "type": "number"
                                    },
                                    {
                                        "name": "1993",
                                        "type": "number"
                                    },
                                    {
                                        "name": "1994",
                                        "type": "number"
                                    },
                                    {
                                        "name": "1995",
                                        "type": "number"
                                    },
                                    {
                                        "name": "1996",
                                        "type": "number"
                                    },
                                    {
                                        "name": "1997",
                                        "type": "number"
                                    },
                                    {
                                        "name": "1998",
                                        "type": "number"
                                    },
                                    {
                                        "name": "1999",
                                        "type": "number"
                                    },
                                    {
                                        "name": "2000",
                                        "type": "number"
                                    },
                                    {
                                        "name": "2001",
                                        "type": "number"
                                    },
                                    {
                                        "name": "2002",
                                        "type": "number"
                                    },
                                    {
                                        "name": "2003",
                                        "type": "number"
                                    },
                                    {
                                        "name": "2004",
                                        "type": "number"
                                    },
                                    {
                                        "name": "2005",
                                        "type": "number"
                                    },
                                    {
                                        "name": "2006",
                                        "type": "number"
                                    },
                                    {
                                        "name": "2007",
                                        "type": "number"
                                    },
                                    {
                                        "name": "2008",
                                        "type": "number"
                                    },
                                    {
                                        "name": "2009",
                                        "type": "number"
                                    },
                                    {
                                        "name": "2010",
                                        "type": "number"
                                    },
                                    {
                                        "name": "2011",
                                        "type": "number"
                                    },
                                    {
                                        "name": "2012",
                                        "type": "number"
                                    },
                                    {
                                        "name": "2013",
                                        "type": "number"
                                    },
                                    {
                                        "name": "2014",
                                        "type": "number"
                                    }
                                ]
                            }
                        },
                        "text/html": [
                            "<table><thead><tr><th>Country</th><th>Series</th><th>1990</th><th>1991</th><th>1992</th><th>1993</th><th>1994</th><th>1995</th><th>1996</th><th>1997</th><th>1998</th><th>1999</th><th>2000</th><th>2001</th><th>2002</th><th>2003</th><th>2004</th><th>2005</th><th>2006</th><th>2007</th><th>2008</th><th>2009</th><th>2010</th><th>2011</th><th>2012</th><th>2013</th><th>2014</th></tr></thead><tbody><tr><td>&quot;United States&quot;</td><td>&quot;GovernmentExpenditure&quot;</td><td>0.035312</td><td>0.035312</td><td>0.035312</td><td>0.035312</td><td>0.035312</td><td>0.035312</td><td>0.035312</td><td>0.035312</td><td>0.035312</td><td>0.0</td><td>0.0810065</td><td>0.506867</td><td>0.591779</td><td>1.0</td><td>0.720042</td><td>0.33584</td><td>0.664779</td><td>0.665397</td><td>0.772375</td><td>0.80798</td><td>0.632428</td><td>0.483825</td><td>0.130964</td><td>0.130964</td><td>0.130964</td></tr><tr><td>&quot;United States&quot;</td><td>&quot;PupilTeacherRatio&quot;</td><td>0.915263</td><td>0.915263</td><td>0.915263</td><td>0.915263</td><td>1.0</td><td>0.859691</td><td>0.848232</td><td>0.848232</td><td>0.737197</td><td>0.60085</td><td>0.436674</td><td>0.724005</td><td>0.579924</td><td>0.596475</td><td>0.627375</td><td>0.611205</td><td>0.443082</td><td>0.415061</td><td>0.318416</td><td>0.103569</td><td>0.0</td><td>0.377217</td><td>0.466557</td><td>0.483077</td><td>0.530074</td></tr><tr><td>&quot;United States&quot;</td><td>&quot;RateOutofSchoolBothSexes&quot;</td><td>0.868638</td><td>0.868638</td><td>0.868638</td><td>0.868638</td><td>0.868638</td><td>0.868638</td><td>0.868638</td><td>0.868638</td><td>0.868638</td><td>0.868638</td><td>0.868638</td><td>0.752002</td><td>1.0</td><td>0.51958</td><td>0.400072</td><td>0.205134</td><td>0.206652</td><td>0.0333204</td><td>0.0188814</td><td>0.0</td><td>0.256462</td><td>0.24099</td><td>0.3684</td><td>0.321174</td><td>0.0596573</td></tr><tr><td>&quot;United States&quot;</td><td>&quot;RateOutofSchoolFemale&quot;</td><td>0.930722</td><td>0.930722</td><td>0.930722</td><td>0.930722</td><td>0.930722</td><td>0.930722</td><td>0.930722</td><td>0.930722</td><td>0.930722</td><td>0.930722</td><td>0.930722</td><td>0.668143</td><td>1.0</td><td>0.539325</td><td>0.467452</td><td>0.0610895</td><td>0.0562189</td><td>0.0532985</td><td>0.0876707</td><td>0.0</td><td>0.339289</td><td>0.212559</td><td>0.373354</td><td>0.328354</td><td>0.0843588</td></tr><tr><td>&quot;United States&quot;</td><td>&quot;RateOutofSchoolMale&quot;</td><td>0.803112</td><td>0.803112</td><td>0.803112</td><td>0.803112</td><td>0.803112</td><td>0.803112</td><td>0.803112</td><td>0.803112</td><td>0.803112</td><td>0.803112</td><td>0.803112</td><td>0.867766</td><td>1.0</td><td>0.526905</td><td>0.358493</td><td>0.425372</td><td>0.43392</td><td>0.0711161</td><td>0.0</td><td>0.0641144</td><td>0.205733</td><td>0.323231</td><td>0.402989</td><td>0.356261</td><td>0.0908781</td></tr></tbody></table>"
                        ],
                        "text/plain": [
                            "5x27 query result\n",
                            "Country       │ Series                   │ 1990     │ 1991     │ 1992    \n",
                            "──────────────┼──────────────────────────┼──────────┼──────────┼─────────\n",
                            "United States │ GovernmentExpenditure    │ 0.035312 │ 0.035312 │ 0.035312\n",
                            "United States │ PupilTeacherRatio        │ 0.915263 │ 0.915263 │ 0.915263\n",
                            "United States │ RateOutofSchoolBothSexes │ 0.868638 │ 0.868638 │ 0.868638\n",
                            "United States │ RateOutofSchoolFemale    │ 0.930722 │ 0.930722 │ 0.930722\n",
                            "United States │ RateOutofSchoolMale      │ 0.803112 │ 0.803112 │ 0.803112\n",
                            "... with 22 more columns: 1993, 1994, 1995, 1996, 1997, 1998, 1999, 2000, 2001, 2002, 2003, 2004, 2005, 2006, 2007, 2008, 2009, 2010, 2011, 2012, 2013, 2014"
                        ]
                    },
                    "execution_count": 13,
                    "metadata": {},
                    "output_type": "execute_result"
                }
            ],
            "source": [
                "dfNormalize = copy(dfImputation)\n",
                "for r in 1:nrow(dfNormalize)\n",
                "    v = getYearValues( dfNormalize, r)\n",
                "    fMin = getMin(dfNormalize, r)\n",
                "    fMax = getMax(dfNormalize, r)\n",
                "    if ismissing(fMax - fMin)    \n",
                "        n = Vector{Union{Missing, Float64}}(missing, length(v))\n",
                "    elseif (fMax - fMin) == 0\n",
                "        n = v\n",
                "    else \n",
                "        n = (v .- fMin) ./ (fMax - fMin)\n",
                "    end\n",
                "    setYearValues!( dfNormalize, r, n)\n",
                "end\n",
                "\n",
                "dfNormalize |> @filter(_.Country == \"United States\")"
            ]
        },
        {
            "cell_type": "code",
            "execution_count": 14,
            "metadata": {},
            "outputs": [
                {
                    "data": {
                        "application/vnd.dataresource+json": {
                            "data": [
                                {
                                    "1990": 0,
                                    "1991": 0,
                                    "1992": 0,
                                    "1993": 0,
                                    "1994": 0,
                                    "1995": 0,
                                    "1996": 0,
                                    "1997": 0,
                                    "1998": 0,
                                    "1999": -0.03531195537976147,
                                    "2000": 0.04569456105255278,
                                    "2001": 0.4715552065502649,
                                    "2002": 0.5564670818519,
                                    "2003": 0.9646880446202385,
                                    "2004": 0.6847297597191496,
                                    "2005": 0.3005275687453213,
                                    "2006": 0.629466953044126,
                                    "2007": 0.6300853855930639,
                                    "2008": 0.7370633532545653,
                                    "2009": 0.7726682299482557,
                                    "2010": 0.5971164127497698,
                                    "2011": 0.4485129684606863,
                                    "2012": 0.09565219415523354,
                                    "2013": 0.09565219415523354,
                                    "2014": 0.09565219415523354,
                                    "Country": "United States",
                                    "Series": "GovernmentExpenditure"
                                },
                                {
                                    "1990": 0,
                                    "1991": 0,
                                    "1992": 0,
                                    "1993": 0,
                                    "1994": 0.08473748149326321,
                                    "1995": -0.055571546730417754,
                                    "1996": -0.06703057660243161,
                                    "1997": -0.06703057660243161,
                                    "1998": -0.17806542211046072,
                                    "1999": -0.3144120832269661,
                                    "2000": -0.47858880096204254,
                                    "2001": -0.19125789533509174,
                                    "2002": -0.3353388726762947,
                                    "2003": -0.3187872686630979,
                                    "2004": -0.2878878905475849,
                                    "2005": -0.304057182473102,
                                    "2006": -0.4721805221586026,
                                    "2007": -0.5002014888030211,
                                    "2008": -0.5968467371361259,
                                    "2009": -0.8116933374861297,
                                    "2010": -0.9152625185067368,
                                    "2011": -0.5380454651242457,
                                    "2012": -0.4487054774940433,
                                    "2013": -0.432185363794299,
                                    "2014": -0.3851885310310118,
                                    "Country": "United States",
                                    "Series": "PupilTeacherRatio"
                                },
                                {
                                    "1990": 0,
                                    "1991": 0,
                                    "1992": 0,
                                    "1993": 0,
                                    "1994": 0,
                                    "1995": 0,
                                    "1996": 0,
                                    "1997": 0,
                                    "1998": 0,
                                    "1999": 0,
                                    "2000": 0,
                                    "2001": -0.11663594636596908,
                                    "2002": 0.13136207101294384,
                                    "2003": -0.3490579968298714,
                                    "2004": -0.4685656459265913,
                                    "2005": -0.6635037664637576,
                                    "2006": -0.6619858221939974,
                                    "2007": -0.8353175033430915,
                                    "2008": -0.849756560978506,
                                    "2009": -0.8686379289870562,
                                    "2010": -0.6121755652277174,
                                    "2011": -0.6276482706277783,
                                    "2012": -0.500238017791959,
                                    "2013": -0.5474636390390484,
                                    "2014": -0.808980653955174,
                                    "Country": "United States",
                                    "Series": "RateOutofSchoolBothSexes"
                                },
                                {
                                    "1990": 0,
                                    "1991": 0,
                                    "1992": 0,
                                    "1993": 0,
                                    "1994": 0,
                                    "1995": 0,
                                    "1996": 0,
                                    "1997": 0,
                                    "1998": 0,
                                    "1999": 0,
                                    "2000": 0,
                                    "2001": -0.2625783853513455,
                                    "2002": 0.06927831726806899,
                                    "2003": -0.39139642383631346,
                                    "2004": -0.4632699681083599,
                                    "2005": -0.8696321711398574,
                                    "2006": -0.8745028129143224,
                                    "2007": -0.8774232271473106,
                                    "2008": -0.8430510266241444,
                                    "2009": -0.930721682731931,
                                    "2010": -0.5914322571397856,
                                    "2011": -0.7181630056974951,
                                    "2012": -0.5573673271938939,
                                    "2013": -0.6023676855269287,
                                    "2014": -0.8463629196975668,
                                    "Country": "United States",
                                    "Series": "RateOutofSchoolFemale"
                                },
                                {
                                    "1990": 0,
                                    "1991": 0,
                                    "1992": 0,
                                    "1993": 0,
                                    "1994": 0,
                                    "1995": 0,
                                    "1996": 0,
                                    "1997": 0,
                                    "1998": 0,
                                    "1999": 0,
                                    "2000": 0,
                                    "2001": 0.0646540775419936,
                                    "2002": 0.1968884307923654,
                                    "2003": -0.2762062382661372,
                                    "2004": -0.4446184257911853,
                                    "2005": -0.37773921839350355,
                                    "2006": -0.36919205546229306,
                                    "2007": -0.731995470714875,
                                    "2008": -0.8031115692076346,
                                    "2009": -0.738997122346016,
                                    "2010": -0.5973790657164049,
                                    "2011": -0.47988069420438895,
                                    "2012": -0.40012260228428603,
                                    "2013": -0.4468503292537404,
                                    "2014": -0.712233472681479,
                                    "Country": "United States",
                                    "Series": "RateOutofSchoolMale"
                                }
                            ],
                            "schema": {
                                "fields": [
                                    {
                                        "name": "Country",
                                        "type": "string"
                                    },
                                    {
                                        "name": "Series",
                                        "type": "string"
                                    },
                                    {
                                        "name": "1990",
                                        "type": "number"
                                    },
                                    {
                                        "name": "1991",
                                        "type": "number"
                                    },
                                    {
                                        "name": "1992",
                                        "type": "number"
                                    },
                                    {
                                        "name": "1993",
                                        "type": "number"
                                    },
                                    {
                                        "name": "1994",
                                        "type": "number"
                                    },
                                    {
                                        "name": "1995",
                                        "type": "number"
                                    },
                                    {
                                        "name": "1996",
                                        "type": "number"
                                    },
                                    {
                                        "name": "1997",
                                        "type": "number"
                                    },
                                    {
                                        "name": "1998",
                                        "type": "number"
                                    },
                                    {
                                        "name": "1999",
                                        "type": "number"
                                    },
                                    {
                                        "name": "2000",
                                        "type": "number"
                                    },
                                    {
                                        "name": "2001",
                                        "type": "number"
                                    },
                                    {
                                        "name": "2002",
                                        "type": "number"
                                    },
                                    {
                                        "name": "2003",
                                        "type": "number"
                                    },
                                    {
                                        "name": "2004",
                                        "type": "number"
                                    },
                                    {
                                        "name": "2005",
                                        "type": "number"
                                    },
                                    {
                                        "name": "2006",
                                        "type": "number"
                                    },
                                    {
                                        "name": "2007",
                                        "type": "number"
                                    },
                                    {
                                        "name": "2008",
                                        "type": "number"
                                    },
                                    {
                                        "name": "2009",
                                        "type": "number"
                                    },
                                    {
                                        "name": "2010",
                                        "type": "number"
                                    },
                                    {
                                        "name": "2011",
                                        "type": "number"
                                    },
                                    {
                                        "name": "2012",
                                        "type": "number"
                                    },
                                    {
                                        "name": "2013",
                                        "type": "number"
                                    },
                                    {
                                        "name": "2014",
                                        "type": "number"
                                    }
                                ]
                            }
                        },
                        "text/html": [
                            "<table><thead><tr><th>Country</th><th>Series</th><th>1990</th><th>1991</th><th>1992</th><th>1993</th><th>1994</th><th>1995</th><th>1996</th><th>1997</th><th>1998</th><th>1999</th><th>2000</th><th>2001</th><th>2002</th><th>2003</th><th>2004</th><th>2005</th><th>2006</th><th>2007</th><th>2008</th><th>2009</th><th>2010</th><th>2011</th><th>2012</th><th>2013</th><th>2014</th></tr></thead><tbody><tr><td>&quot;United States&quot;</td><td>&quot;GovernmentExpenditure&quot;</td><td>0.0</td><td>0.0</td><td>0.0</td><td>0.0</td><td>0.0</td><td>0.0</td><td>0.0</td><td>0.0</td><td>0.0</td><td>-0.035312</td><td>0.0456946</td><td>0.471555</td><td>0.556467</td><td>0.964688</td><td>0.68473</td><td>0.300528</td><td>0.629467</td><td>0.630085</td><td>0.737063</td><td>0.772668</td><td>0.597116</td><td>0.448513</td><td>0.0956522</td><td>0.0956522</td><td>0.0956522</td></tr><tr><td>&quot;United States&quot;</td><td>&quot;PupilTeacherRatio&quot;</td><td>0.0</td><td>0.0</td><td>0.0</td><td>0.0</td><td>0.0847375</td><td>-0.0555715</td><td>-0.0670306</td><td>-0.0670306</td><td>-0.178065</td><td>-0.314412</td><td>-0.478589</td><td>-0.191258</td><td>-0.335339</td><td>-0.318787</td><td>-0.287888</td><td>-0.304057</td><td>-0.472181</td><td>-0.500201</td><td>-0.596847</td><td>-0.811693</td><td>-0.915263</td><td>-0.538045</td><td>-0.448705</td><td>-0.432185</td><td>-0.385189</td></tr><tr><td>&quot;United States&quot;</td><td>&quot;RateOutofSchoolBothSexes&quot;</td><td>0.0</td><td>0.0</td><td>0.0</td><td>0.0</td><td>0.0</td><td>0.0</td><td>0.0</td><td>0.0</td><td>0.0</td><td>0.0</td><td>0.0</td><td>-0.116636</td><td>0.131362</td><td>-0.349058</td><td>-0.468566</td><td>-0.663504</td><td>-0.661986</td><td>-0.835318</td><td>-0.849757</td><td>-0.868638</td><td>-0.612176</td><td>-0.627648</td><td>-0.500238</td><td>-0.547464</td><td>-0.808981</td></tr><tr><td>&quot;United States&quot;</td><td>&quot;RateOutofSchoolFemale&quot;</td><td>0.0</td><td>0.0</td><td>0.0</td><td>0.0</td><td>0.0</td><td>0.0</td><td>0.0</td><td>0.0</td><td>0.0</td><td>0.0</td><td>0.0</td><td>-0.262578</td><td>0.0692783</td><td>-0.391396</td><td>-0.46327</td><td>-0.869632</td><td>-0.874503</td><td>-0.877423</td><td>-0.843051</td><td>-0.930722</td><td>-0.591432</td><td>-0.718163</td><td>-0.557367</td><td>-0.602368</td><td>-0.846363</td></tr><tr><td>&quot;United States&quot;</td><td>&quot;RateOutofSchoolMale&quot;</td><td>0.0</td><td>0.0</td><td>0.0</td><td>0.0</td><td>0.0</td><td>0.0</td><td>0.0</td><td>0.0</td><td>0.0</td><td>0.0</td><td>0.0</td><td>0.0646541</td><td>0.196888</td><td>-0.276206</td><td>-0.444618</td><td>-0.377739</td><td>-0.369192</td><td>-0.731995</td><td>-0.803112</td><td>-0.738997</td><td>-0.597379</td><td>-0.479881</td><td>-0.400123</td><td>-0.44685</td><td>-0.712233</td></tr></tbody></table>"
                        ],
                        "text/plain": [
                            "5x27 query result\n",
                            "Country       │ Series                   │ 1990 │ 1991 │ 1992 │ 1993\n",
                            "──────────────┼──────────────────────────┼──────┼──────┼──────┼─────\n",
                            "United States │ GovernmentExpenditure    │ 0.0  │ 0.0  │ 0.0  │ 0.0 \n",
                            "United States │ PupilTeacherRatio        │ 0.0  │ 0.0  │ 0.0  │ 0.0 \n",
                            "United States │ RateOutofSchoolBothSexes │ 0.0  │ 0.0  │ 0.0  │ 0.0 \n",
                            "United States │ RateOutofSchoolFemale    │ 0.0  │ 0.0  │ 0.0  │ 0.0 \n",
                            "United States │ RateOutofSchoolMale      │ 0.0  │ 0.0  │ 0.0  │ 0.0 \n",
                            "... with 21 more columns: 1994, 1995, 1996, 1997, 1998, 1999, 2000, 2001, 2002, 2003, 2004, 2005, 2006, 2007, 2008, 2009, 2010, 2011, 2012, 2013, 2014"
                        ]
                    },
                    "execution_count": 14,
                    "metadata": {},
                    "output_type": "execute_result"
                }
            ],
            "source": [
                "dfSeriesFromZero = copy(dfNormalize)\n",
                "for r in 1:nrow(dfSeriesFromZero)\n",
                "    v = getYearValues( dfSeriesFromZero, r)\n",
                "    fFirst = getFirst(dfSeriesFromZero, r)\n",
                "    n = v .- fFirst\n",
                "    setYearValues!( dfSeriesFromZero, r, n)\n",
                "end\n",
                "\n",
                "dfSeriesFromZero |> @filter(_.Country == \"United States\")"
            ]
        },
        {
            "cell_type": "markdown",
            "metadata": {},
            "source": [
                "We filled our missing years and normalized our data. Let's get ready to transform our data to time series style. The years are rows instead of columns. Our dataframe needs transposing. Luckily, Julia data frame package has the stack function to do so. The Julia Timeseries package requires the first column to be both unique and convertible to the time type. Our \"timestamp\" is the year only without any month or day. Thus, we cannot easily use the Julia Timeseries package."
            ]
        },
        {
            "cell_type": "code",
            "execution_count": 15,
            "metadata": {},
            "outputs": [
                {
                    "data": {
                        "text/html": [
                            "<table class=\"data-frame\"><thead><tr><th></th><th>Timestamp</th><th>Value</th><th>Country</th><th>Series</th></tr><tr><th></th><th>Symbol</th><th>Float64⍰</th><th>String</th><th>String</th></tr></thead><tbody><p>875 rows × 4 columns</p><tr><th>1</th><td>1990</td><td>missing</td><td>Turkey</td><td>GovernmentExpenditure</td></tr><tr><th>2</th><td>1990</td><td>0.0</td><td>Turkey</td><td>PupilTeacherRatio</td></tr><tr><th>3</th><td>1990</td><td>0.0</td><td>Turkey</td><td>RateOutofSchoolBothSexes</td></tr><tr><th>4</th><td>1990</td><td>0.0</td><td>Turkey</td><td>RateOutofSchoolFemale</td></tr><tr><th>5</th><td>1990</td><td>0.0</td><td>Turkey</td><td>RateOutofSchoolMale</td></tr><tr><th>6</th><td>1990</td><td>0.0</td><td>United Arab Emirates</td><td>GovernmentExpenditure</td></tr><tr><th>7</th><td>1990</td><td>0.0</td><td>United Arab Emirates</td><td>PupilTeacherRatio</td></tr><tr><th>8</th><td>1990</td><td>0.0</td><td>United Arab Emirates</td><td>RateOutofSchoolBothSexes</td></tr><tr><th>9</th><td>1990</td><td>0.0</td><td>United Arab Emirates</td><td>RateOutofSchoolFemale</td></tr><tr><th>10</th><td>1990</td><td>0.0</td><td>United Arab Emirates</td><td>RateOutofSchoolMale</td></tr><tr><th>11</th><td>1990</td><td>0.0</td><td>United Kingdom</td><td>GovernmentExpenditure</td></tr><tr><th>12</th><td>1990</td><td>0.0</td><td>United Kingdom</td><td>PupilTeacherRatio</td></tr><tr><th>13</th><td>1990</td><td>0.0</td><td>United Kingdom</td><td>RateOutofSchoolBothSexes</td></tr><tr><th>14</th><td>1990</td><td>0.0</td><td>United Kingdom</td><td>RateOutofSchoolFemale</td></tr><tr><th>15</th><td>1990</td><td>0.0</td><td>United Kingdom</td><td>RateOutofSchoolMale</td></tr><tr><th>16</th><td>1990</td><td>0.0</td><td>United States</td><td>GovernmentExpenditure</td></tr><tr><th>17</th><td>1990</td><td>0.0</td><td>United States</td><td>PupilTeacherRatio</td></tr><tr><th>18</th><td>1990</td><td>0.0</td><td>United States</td><td>RateOutofSchoolBothSexes</td></tr><tr><th>19</th><td>1990</td><td>0.0</td><td>United States</td><td>RateOutofSchoolFemale</td></tr><tr><th>20</th><td>1990</td><td>0.0</td><td>United States</td><td>RateOutofSchoolMale</td></tr><tr><th>21</th><td>1990</td><td>0.0</td><td>Uruguay</td><td>GovernmentExpenditure</td></tr><tr><th>22</th><td>1990</td><td>0.0</td><td>Uruguay</td><td>PupilTeacherRatio</td></tr><tr><th>23</th><td>1990</td><td>0.0</td><td>Uruguay</td><td>RateOutofSchoolBothSexes</td></tr><tr><th>24</th><td>1990</td><td>0.0</td><td>Uruguay</td><td>RateOutofSchoolFemale</td></tr><tr><th>25</th><td>1990</td><td>0.0</td><td>Uruguay</td><td>RateOutofSchoolMale</td></tr><tr><th>26</th><td>1990</td><td>missing</td><td>Virgin Islands (U.S.)</td><td>GovernmentExpenditure</td></tr><tr><th>27</th><td>1990</td><td>missing</td><td>Virgin Islands (U.S.)</td><td>PupilTeacherRatio</td></tr><tr><th>28</th><td>1990</td><td>missing</td><td>Virgin Islands (U.S.)</td><td>RateOutofSchoolBothSexes</td></tr><tr><th>29</th><td>1990</td><td>missing</td><td>Virgin Islands (U.S.)</td><td>RateOutofSchoolFemale</td></tr><tr><th>30</th><td>1990</td><td>missing</td><td>Virgin Islands (U.S.)</td><td>RateOutofSchoolMale</td></tr><tr><th>&vellip;</th><td>&vellip;</td><td>&vellip;</td><td>&vellip;</td><td>&vellip;</td></tr></tbody></table>"
                        ],
                        "text/latex": [
                            "\\begin{tabular}{r|cccc}\n",
                            "\t& Timestamp & Value & Country & Series\\\\\n",
                            "\t\\hline\n",
                            "\t& Symbol & Float64⍰ & String & String\\\\\n",
                            "\t\\hline\n",
                            "\t1 & 1990 &  & Turkey & GovernmentExpenditure \\\\\n",
                            "\t2 & 1990 & 0.0 & Turkey & PupilTeacherRatio \\\\\n",
                            "\t3 & 1990 & 0.0 & Turkey & RateOutofSchoolBothSexes \\\\\n",
                            "\t4 & 1990 & 0.0 & Turkey & RateOutofSchoolFemale \\\\\n",
                            "\t5 & 1990 & 0.0 & Turkey & RateOutofSchoolMale \\\\\n",
                            "\t6 & 1990 & 0.0 & United Arab Emirates & GovernmentExpenditure \\\\\n",
                            "\t7 & 1990 & 0.0 & United Arab Emirates & PupilTeacherRatio \\\\\n",
                            "\t8 & 1990 & 0.0 & United Arab Emirates & RateOutofSchoolBothSexes \\\\\n",
                            "\t9 & 1990 & 0.0 & United Arab Emirates & RateOutofSchoolFemale \\\\\n",
                            "\t10 & 1990 & 0.0 & United Arab Emirates & RateOutofSchoolMale \\\\\n",
                            "\t11 & 1990 & 0.0 & United Kingdom & GovernmentExpenditure \\\\\n",
                            "\t12 & 1990 & 0.0 & United Kingdom & PupilTeacherRatio \\\\\n",
                            "\t13 & 1990 & 0.0 & United Kingdom & RateOutofSchoolBothSexes \\\\\n",
                            "\t14 & 1990 & 0.0 & United Kingdom & RateOutofSchoolFemale \\\\\n",
                            "\t15 & 1990 & 0.0 & United Kingdom & RateOutofSchoolMale \\\\\n",
                            "\t16 & 1990 & 0.0 & United States & GovernmentExpenditure \\\\\n",
                            "\t17 & 1990 & 0.0 & United States & PupilTeacherRatio \\\\\n",
                            "\t18 & 1990 & 0.0 & United States & RateOutofSchoolBothSexes \\\\\n",
                            "\t19 & 1990 & 0.0 & United States & RateOutofSchoolFemale \\\\\n",
                            "\t20 & 1990 & 0.0 & United States & RateOutofSchoolMale \\\\\n",
                            "\t21 & 1990 & 0.0 & Uruguay & GovernmentExpenditure \\\\\n",
                            "\t22 & 1990 & 0.0 & Uruguay & PupilTeacherRatio \\\\\n",
                            "\t23 & 1990 & 0.0 & Uruguay & RateOutofSchoolBothSexes \\\\\n",
                            "\t24 & 1990 & 0.0 & Uruguay & RateOutofSchoolFemale \\\\\n",
                            "\t25 & 1990 & 0.0 & Uruguay & RateOutofSchoolMale \\\\\n",
                            "\t26 & 1990 &  & Virgin Islands (U.S.) & GovernmentExpenditure \\\\\n",
                            "\t27 & 1990 &  & Virgin Islands (U.S.) & PupilTeacherRatio \\\\\n",
                            "\t28 & 1990 &  & Virgin Islands (U.S.) & RateOutofSchoolBothSexes \\\\\n",
                            "\t29 & 1990 &  & Virgin Islands (U.S.) & RateOutofSchoolFemale \\\\\n",
                            "\t30 & 1990 &  & Virgin Islands (U.S.) & RateOutofSchoolMale \\\\\n",
                            "\t$\\dots$ & $\\dots$ & $\\dots$ & $\\dots$ & $\\dots$ \\\\\n",
                            "\\end{tabular}\n"
                        ],
                        "text/plain": [
                            "875×4 DataFrame. Omitted printing of 1 columns\n",
                            "│ Row │ Timestamp │ Value      │ Country               │\n",
                            "│     │ \u001b[90mSymbol\u001b[39m    │ \u001b[90mFloat64⍰\u001b[39m   │ \u001b[90mString\u001b[39m                │\n",
                            "├─────┼───────────┼────────────┼───────────────────────┤\n",
                            "│ 1   │ 1990      │ \u001b[90mmissing\u001b[39m    │ Turkey                │\n",
                            "│ 2   │ 1990      │ 0.0        │ Turkey                │\n",
                            "│ 3   │ 1990      │ 0.0        │ Turkey                │\n",
                            "│ 4   │ 1990      │ 0.0        │ Turkey                │\n",
                            "│ 5   │ 1990      │ 0.0        │ Turkey                │\n",
                            "│ 6   │ 1990      │ 0.0        │ United Arab Emirates  │\n",
                            "│ 7   │ 1990      │ 0.0        │ United Arab Emirates  │\n",
                            "│ 8   │ 1990      │ 0.0        │ United Arab Emirates  │\n",
                            "│ 9   │ 1990      │ 0.0        │ United Arab Emirates  │\n",
                            "│ 10  │ 1990      │ 0.0        │ United Arab Emirates  │\n",
                            "⋮\n",
                            "│ 865 │ 2014      │ -0.513991  │ Uruguay               │\n",
                            "│ 866 │ 2014      │ \u001b[90mmissing\u001b[39m    │ Virgin Islands (U.S.) │\n",
                            "│ 867 │ 2014      │ \u001b[90mmissing\u001b[39m    │ Virgin Islands (U.S.) │\n",
                            "│ 868 │ 2014      │ \u001b[90mmissing\u001b[39m    │ Virgin Islands (U.S.) │\n",
                            "│ 869 │ 2014      │ \u001b[90mmissing\u001b[39m    │ Virgin Islands (U.S.) │\n",
                            "│ 870 │ 2014      │ \u001b[90mmissing\u001b[39m    │ Virgin Islands (U.S.) │\n",
                            "│ 871 │ 2014      │ 0.0        │ Zimbabwe              │\n",
                            "│ 872 │ 2014      │ -0.752613  │ Zimbabwe              │\n",
                            "│ 873 │ 2014      │ -0.28204   │ Zimbabwe              │\n",
                            "│ 874 │ 2014      │ -0.468758  │ Zimbabwe              │\n",
                            "│ 875 │ 2014      │ -0.0239847 │ Zimbabwe              │"
                        ]
                    },
                    "execution_count": 15,
                    "metadata": {},
                    "output_type": "execute_result"
                }
            ],
            "source": [
                "dfStack = DataFrames.stack(dfSeriesFromZero, 3:ncol(dfSeriesFromZero)) \n",
                "dfTranspose = dfStack |> @rename(:variable => :Timestamp, :value => :Value) |> DataFrame"
            ]
        },
        {
            "cell_type": "markdown",
            "metadata": {},
            "source": [
                "## Data Exploring and Graphing \n",
                "\n",
                "It is time to review our data. We have time series that start at zero, imputed, and scaled by simple Julia code. Let's ask one question: what is relationship between pupil-teacher ratio and out-of-school youth rate in secondary school? We expect that higher pupil-teacher ratio correlates to lower out-of-school youth rate. A higher pupil-teacher ratio allows teachers to more personal time with pupils. Teachers would have extra time to resolve pupils' needs. Pupils with more issues seem more likely to drop out of school. The pupil-teacher ratio depends on school budget, and that is the reason \"Government Expenditure\" series is included in our cleaned data.\n",
                "\n",
                "We must always remember that correlation does not imply causation. In addition, we easily add years and indicators to our data processing to ask many other questions.\n",
                "\n",
                "First, we ought to show some statistics of our data. We use data before imputation to show that Julia can easily handle missing values. The DataFrame package has a describe function that compute some basic numbers."
            ]
        },
        {
            "cell_type": "code",
            "execution_count": 16,
            "metadata": {},
            "outputs": [
                {
                    "data": {
                        "text/html": [
                            "<table class=\"data-frame\"><thead><tr><th></th><th>variable</th><th>mean</th><th>min</th><th>median</th><th>max</th><th>nunique</th></tr><tr><th></th><th>Symbol</th><th>Union…</th><th>Any</th><th>Union…</th><th>Any</th><th>Union…</th></tr></thead><tbody><p>27 rows × 8 columns (omitted printing of 2 columns)</p><tr><th>1</th><td>Country</td><td></td><td>Turkey</td><td></td><td>Zimbabwe</td><td>7</td></tr><tr><th>2</th><td>Series</td><td></td><td>GovernmentExpenditure</td><td></td><td>RateOutofSchoolMale</td><td>5</td></tr><tr><th>3</th><td>1990</td><td>17.9134</td><td>12.5649</td><td>17.9134</td><td>23.262</td><td></td></tr><tr><th>4</th><td>1991</td><td>21.5524</td><td>12.5956</td><td>23.8903</td><td>28.1712</td><td></td></tr><tr><th>5</th><td>1992</td><td>21.3931</td><td>12.5144</td><td>23.3714</td><td>28.2936</td><td></td></tr><tr><th>6</th><td>1993</td><td>18.8025</td><td>12.242</td><td>15.5334</td><td>29.8818</td><td></td></tr><tr><th>7</th><td>1994</td><td>17.9684</td><td>12.2141</td><td>15.6976</td><td>25.7173</td><td></td></tr><tr><th>8</th><td>1995</td><td>17.6755</td><td>11.021</td><td>15.4257</td><td>25.8975</td><td></td></tr><tr><th>9</th><td>1996</td><td>17.498</td><td>10.4978</td><td>15.4035</td><td>26.5927</td><td></td></tr><tr><th>10</th><td>1997</td><td>20.0675</td><td>10.7195</td><td>21.7562</td><td>27.7267</td><td></td></tr><tr><th>11</th><td>1998</td><td>15.4092</td><td>0.55201</td><td>10.7648</td><td>40.401</td><td></td></tr><tr><th>12</th><td>1999</td><td>27.2157</td><td>0.89598</td><td>25.975</td><td>59.9952</td><td></td></tr><tr><th>13</th><td>2000</td><td>25.0277</td><td>0.91436</td><td>15.0517</td><td>61.3123</td><td></td></tr><tr><th>14</th><td>2001</td><td>24.0803</td><td>0.90915</td><td>14.8696</td><td>60.5851</td><td></td></tr><tr><th>15</th><td>2002</td><td>25.2492</td><td>0.79844</td><td>16.5426</td><td>62.6981</td><td></td></tr><tr><th>16</th><td>2003</td><td>23.8189</td><td>0.67068</td><td>14.8155</td><td>66.0035</td><td></td></tr><tr><th>17</th><td>2004</td><td>14.8144</td><td>0.8618</td><td>10.7965</td><td>48.917</td><td></td></tr><tr><th>18</th><td>2005</td><td>13.8225</td><td>0.96365</td><td>8.91003</td><td>45.2854</td><td></td></tr><tr><th>19</th><td>2006</td><td>14.0505</td><td>1.03576</td><td>11.4633</td><td>42.4161</td><td></td></tr><tr><th>20</th><td>2007</td><td>16.1464</td><td>1.64455</td><td>13.7981</td><td>40.3969</td><td></td></tr><tr><th>21</th><td>2008</td><td>16.1446</td><td>1.64223</td><td>12.619</td><td>39.2483</td><td></td></tr><tr><th>22</th><td>2009</td><td>15.4673</td><td>1.78182</td><td>11.3147</td><td>36.7681</td><td></td></tr><tr><th>23</th><td>2010</td><td>11.2928</td><td>0.50527</td><td>9.4071</td><td>29.3719</td><td></td></tr><tr><th>24</th><td>2011</td><td>9.8244</td><td>0.6848</td><td>10.1009</td><td>23.2453</td><td></td></tr><tr><th>25</th><td>2012</td><td>20.8544</td><td>0.7117</td><td>14.6637</td><td>55.7197</td><td></td></tr><tr><th>26</th><td>2013</td><td>18.4723</td><td>0.467</td><td>14.8868</td><td>54.6936</td><td></td></tr><tr><th>27</th><td>2014</td><td>10.481</td><td>0.81929</td><td>8.4247</td><td>19.4811</td><td></td></tr></tbody></table>"
                        ],
                        "text/latex": [
                            "\\begin{tabular}{r|ccccccc}\n",
                            "\t& variable & mean & min & median & max & nunique & \\\\\n",
                            "\t\\hline\n",
                            "\t& Symbol & Union… & Any & Union… & Any & Union… & \\\\\n",
                            "\t\\hline\n",
                            "\t1 & Country &  & Turkey &  & Zimbabwe & 7 & $\\dots$ \\\\\n",
                            "\t2 & Series &  & GovernmentExpenditure &  & RateOutofSchoolMale & 5 & $\\dots$ \\\\\n",
                            "\t3 & 1990 & 17.9134 & 12.5649 & 17.9134 & 23.262 &  & $\\dots$ \\\\\n",
                            "\t4 & 1991 & 21.5524 & 12.5956 & 23.8903 & 28.1712 &  & $\\dots$ \\\\\n",
                            "\t5 & 1992 & 21.3931 & 12.5144 & 23.3714 & 28.2936 &  & $\\dots$ \\\\\n",
                            "\t6 & 1993 & 18.8025 & 12.242 & 15.5334 & 29.8818 &  & $\\dots$ \\\\\n",
                            "\t7 & 1994 & 17.9684 & 12.2141 & 15.6976 & 25.7173 &  & $\\dots$ \\\\\n",
                            "\t8 & 1995 & 17.6755 & 11.021 & 15.4257 & 25.8975 &  & $\\dots$ \\\\\n",
                            "\t9 & 1996 & 17.498 & 10.4978 & 15.4035 & 26.5927 &  & $\\dots$ \\\\\n",
                            "\t10 & 1997 & 20.0675 & 10.7195 & 21.7562 & 27.7267 &  & $\\dots$ \\\\\n",
                            "\t11 & 1998 & 15.4092 & 0.55201 & 10.7648 & 40.401 &  & $\\dots$ \\\\\n",
                            "\t12 & 1999 & 27.2157 & 0.89598 & 25.975 & 59.9952 &  & $\\dots$ \\\\\n",
                            "\t13 & 2000 & 25.0277 & 0.91436 & 15.0517 & 61.3123 &  & $\\dots$ \\\\\n",
                            "\t14 & 2001 & 24.0803 & 0.90915 & 14.8696 & 60.5851 &  & $\\dots$ \\\\\n",
                            "\t15 & 2002 & 25.2492 & 0.79844 & 16.5426 & 62.6981 &  & $\\dots$ \\\\\n",
                            "\t16 & 2003 & 23.8189 & 0.67068 & 14.8155 & 66.0035 &  & $\\dots$ \\\\\n",
                            "\t17 & 2004 & 14.8144 & 0.8618 & 10.7965 & 48.917 &  & $\\dots$ \\\\\n",
                            "\t18 & 2005 & 13.8225 & 0.96365 & 8.91003 & 45.2854 &  & $\\dots$ \\\\\n",
                            "\t19 & 2006 & 14.0505 & 1.03576 & 11.4633 & 42.4161 &  & $\\dots$ \\\\\n",
                            "\t20 & 2007 & 16.1464 & 1.64455 & 13.7981 & 40.3969 &  & $\\dots$ \\\\\n",
                            "\t21 & 2008 & 16.1446 & 1.64223 & 12.619 & 39.2483 &  & $\\dots$ \\\\\n",
                            "\t22 & 2009 & 15.4673 & 1.78182 & 11.3147 & 36.7681 &  & $\\dots$ \\\\\n",
                            "\t23 & 2010 & 11.2928 & 0.50527 & 9.4071 & 29.3719 &  & $\\dots$ \\\\\n",
                            "\t24 & 2011 & 9.8244 & 0.6848 & 10.1009 & 23.2453 &  & $\\dots$ \\\\\n",
                            "\t25 & 2012 & 20.8544 & 0.7117 & 14.6637 & 55.7197 &  & $\\dots$ \\\\\n",
                            "\t26 & 2013 & 18.4723 & 0.467 & 14.8868 & 54.6936 &  & $\\dots$ \\\\\n",
                            "\t27 & 2014 & 10.481 & 0.81929 & 8.4247 & 19.4811 &  & $\\dots$ \\\\\n",
                            "\\end{tabular}\n"
                        ],
                        "text/plain": [
                            "27×8 DataFrame. Omitted printing of 4 columns\n",
                            "│ Row │ variable │ mean    │ min                   │ median  │\n",
                            "│     │ \u001b[90mSymbol\u001b[39m   │ \u001b[90mUnion…\u001b[39m  │ \u001b[90mAny\u001b[39m                   │ \u001b[90mUnion…\u001b[39m  │\n",
                            "├─────┼──────────┼─────────┼───────────────────────┼─────────┤\n",
                            "│ 1   │ Country  │         │ Turkey                │         │\n",
                            "│ 2   │ Series   │         │ GovernmentExpenditure │         │\n",
                            "│ 3   │ 1990     │ 17.9134 │ 12.5649               │ 17.9134 │\n",
                            "│ 4   │ 1991     │ 21.5524 │ 12.5956               │ 23.8903 │\n",
                            "│ 5   │ 1992     │ 21.3931 │ 12.5144               │ 23.3714 │\n",
                            "│ 6   │ 1993     │ 18.8025 │ 12.242                │ 15.5334 │\n",
                            "│ 7   │ 1994     │ 17.9684 │ 12.2141               │ 15.6976 │\n",
                            "│ 8   │ 1995     │ 17.6755 │ 11.021                │ 15.4257 │\n",
                            "│ 9   │ 1996     │ 17.498  │ 10.4978               │ 15.4035 │\n",
                            "│ 10  │ 1997     │ 20.0675 │ 10.7195               │ 21.7562 │\n",
                            "⋮\n",
                            "│ 17  │ 2004     │ 14.8144 │ 0.8618                │ 10.7965 │\n",
                            "│ 18  │ 2005     │ 13.8225 │ 0.96365               │ 8.91003 │\n",
                            "│ 19  │ 2006     │ 14.0505 │ 1.03576               │ 11.4633 │\n",
                            "│ 20  │ 2007     │ 16.1464 │ 1.64455               │ 13.7981 │\n",
                            "│ 21  │ 2008     │ 16.1446 │ 1.64223               │ 12.619  │\n",
                            "│ 22  │ 2009     │ 15.4673 │ 1.78182               │ 11.3147 │\n",
                            "│ 23  │ 2010     │ 11.2928 │ 0.50527               │ 9.4071  │\n",
                            "│ 24  │ 2011     │ 9.8244  │ 0.6848                │ 10.1009 │\n",
                            "│ 25  │ 2012     │ 20.8544 │ 0.7117                │ 14.6637 │\n",
                            "│ 26  │ 2013     │ 18.4723 │ 0.467                 │ 14.8868 │\n",
                            "│ 27  │ 2014     │ 10.481  │ 0.81929               │ 8.4247  │"
                        ]
                    },
                    "execution_count": 16,
                    "metadata": {},
                    "output_type": "execute_result"
                }
            ],
            "source": [
                "describe(dfCleanShort)"
            ]
        },
        {
            "cell_type": "markdown",
            "metadata": {},
            "source": [
                "Second, statistics are great but a picture says a thousand words. Let's graph each of the five time series for the United States. We use cool VigaLite package. The graphs show that our intuition was not correct for the United States, surprise! Higher pupil-teacher ratio is positively correlated to out of school rate. Both rates are going down. It is interesting that United States schools are keeping pupils while reducing the pupil-teacher ratio. The budget is increasing implying there are other factors keeping pupils in school. Better teach training programs, computer aid learning, no student left behind law, and better after school programs are some examples contributing to lower pupil-teacher ratio in the USA."
            ]
        },
        {
            "cell_type": "code",
            "execution_count": 17,
            "metadata": {},
            "outputs": [
                {
                    "data": {
                        "application/vnd.vegalite.v3+json": {
                            "data": {
                                "values": [
                                    {
                                        "Country": "United States",
                                        "Series": "GovernmentExpenditure",
                                        "Timestamp": "1990",
                                        "Value": 0
                                    },
                                    {
                                        "Country": "United States",
                                        "Series": "PupilTeacherRatio",
                                        "Timestamp": "1990",
                                        "Value": 0
                                    },
                                    {
                                        "Country": "United States",
                                        "Series": "RateOutofSchoolBothSexes",
                                        "Timestamp": "1990",
                                        "Value": 0
                                    },
                                    {
                                        "Country": "United States",
                                        "Series": "RateOutofSchoolFemale",
                                        "Timestamp": "1990",
                                        "Value": 0
                                    },
                                    {
                                        "Country": "United States",
                                        "Series": "RateOutofSchoolMale",
                                        "Timestamp": "1990",
                                        "Value": 0
                                    },
                                    {
                                        "Country": "United States",
                                        "Series": "GovernmentExpenditure",
                                        "Timestamp": "1991",
                                        "Value": 0
                                    },
                                    {
                                        "Country": "United States",
                                        "Series": "PupilTeacherRatio",
                                        "Timestamp": "1991",
                                        "Value": 0
                                    },
                                    {
                                        "Country": "United States",
                                        "Series": "RateOutofSchoolBothSexes",
                                        "Timestamp": "1991",
                                        "Value": 0
                                    },
                                    {
                                        "Country": "United States",
                                        "Series": "RateOutofSchoolFemale",
                                        "Timestamp": "1991",
                                        "Value": 0
                                    },
                                    {
                                        "Country": "United States",
                                        "Series": "RateOutofSchoolMale",
                                        "Timestamp": "1991",
                                        "Value": 0
                                    },
                                    {
                                        "Country": "United States",
                                        "Series": "GovernmentExpenditure",
                                        "Timestamp": "1992",
                                        "Value": 0
                                    },
                                    {
                                        "Country": "United States",
                                        "Series": "PupilTeacherRatio",
                                        "Timestamp": "1992",
                                        "Value": 0
                                    },
                                    {
                                        "Country": "United States",
                                        "Series": "RateOutofSchoolBothSexes",
                                        "Timestamp": "1992",
                                        "Value": 0
                                    },
                                    {
                                        "Country": "United States",
                                        "Series": "RateOutofSchoolFemale",
                                        "Timestamp": "1992",
                                        "Value": 0
                                    },
                                    {
                                        "Country": "United States",
                                        "Series": "RateOutofSchoolMale",
                                        "Timestamp": "1992",
                                        "Value": 0
                                    },
                                    {
                                        "Country": "United States",
                                        "Series": "GovernmentExpenditure",
                                        "Timestamp": "1993",
                                        "Value": 0
                                    },
                                    {
                                        "Country": "United States",
                                        "Series": "PupilTeacherRatio",
                                        "Timestamp": "1993",
                                        "Value": 0
                                    },
                                    {
                                        "Country": "United States",
                                        "Series": "RateOutofSchoolBothSexes",
                                        "Timestamp": "1993",
                                        "Value": 0
                                    },
                                    {
                                        "Country": "United States",
                                        "Series": "RateOutofSchoolFemale",
                                        "Timestamp": "1993",
                                        "Value": 0
                                    },
                                    {
                                        "Country": "United States",
                                        "Series": "RateOutofSchoolMale",
                                        "Timestamp": "1993",
                                        "Value": 0
                                    },
                                    {
                                        "Country": "United States",
                                        "Series": "GovernmentExpenditure",
                                        "Timestamp": "1994",
                                        "Value": 0
                                    },
                                    {
                                        "Country": "United States",
                                        "Series": "PupilTeacherRatio",
                                        "Timestamp": "1994",
                                        "Value": 0.08473748149326321
                                    },
                                    {
                                        "Country": "United States",
                                        "Series": "RateOutofSchoolBothSexes",
                                        "Timestamp": "1994",
                                        "Value": 0
                                    },
                                    {
                                        "Country": "United States",
                                        "Series": "RateOutofSchoolFemale",
                                        "Timestamp": "1994",
                                        "Value": 0
                                    },
                                    {
                                        "Country": "United States",
                                        "Series": "RateOutofSchoolMale",
                                        "Timestamp": "1994",
                                        "Value": 0
                                    },
                                    {
                                        "Country": "United States",
                                        "Series": "GovernmentExpenditure",
                                        "Timestamp": "1995",
                                        "Value": 0
                                    },
                                    {
                                        "Country": "United States",
                                        "Series": "PupilTeacherRatio",
                                        "Timestamp": "1995",
                                        "Value": -0.055571546730417754
                                    },
                                    {
                                        "Country": "United States",
                                        "Series": "RateOutofSchoolBothSexes",
                                        "Timestamp": "1995",
                                        "Value": 0
                                    },
                                    {
                                        "Country": "United States",
                                        "Series": "RateOutofSchoolFemale",
                                        "Timestamp": "1995",
                                        "Value": 0
                                    },
                                    {
                                        "Country": "United States",
                                        "Series": "RateOutofSchoolMale",
                                        "Timestamp": "1995",
                                        "Value": 0
                                    },
                                    {
                                        "Country": "United States",
                                        "Series": "GovernmentExpenditure",
                                        "Timestamp": "1996",
                                        "Value": 0
                                    },
                                    {
                                        "Country": "United States",
                                        "Series": "PupilTeacherRatio",
                                        "Timestamp": "1996",
                                        "Value": -0.06703057660243161
                                    },
                                    {
                                        "Country": "United States",
                                        "Series": "RateOutofSchoolBothSexes",
                                        "Timestamp": "1996",
                                        "Value": 0
                                    },
                                    {
                                        "Country": "United States",
                                        "Series": "RateOutofSchoolFemale",
                                        "Timestamp": "1996",
                                        "Value": 0
                                    },
                                    {
                                        "Country": "United States",
                                        "Series": "RateOutofSchoolMale",
                                        "Timestamp": "1996",
                                        "Value": 0
                                    },
                                    {
                                        "Country": "United States",
                                        "Series": "GovernmentExpenditure",
                                        "Timestamp": "1997",
                                        "Value": 0
                                    },
                                    {
                                        "Country": "United States",
                                        "Series": "PupilTeacherRatio",
                                        "Timestamp": "1997",
                                        "Value": -0.06703057660243161
                                    },
                                    {
                                        "Country": "United States",
                                        "Series": "RateOutofSchoolBothSexes",
                                        "Timestamp": "1997",
                                        "Value": 0
                                    },
                                    {
                                        "Country": "United States",
                                        "Series": "RateOutofSchoolFemale",
                                        "Timestamp": "1997",
                                        "Value": 0
                                    },
                                    {
                                        "Country": "United States",
                                        "Series": "RateOutofSchoolMale",
                                        "Timestamp": "1997",
                                        "Value": 0
                                    },
                                    {
                                        "Country": "United States",
                                        "Series": "GovernmentExpenditure",
                                        "Timestamp": "1998",
                                        "Value": 0
                                    },
                                    {
                                        "Country": "United States",
                                        "Series": "PupilTeacherRatio",
                                        "Timestamp": "1998",
                                        "Value": -0.17806542211046072
                                    },
                                    {
                                        "Country": "United States",
                                        "Series": "RateOutofSchoolBothSexes",
                                        "Timestamp": "1998",
                                        "Value": 0
                                    },
                                    {
                                        "Country": "United States",
                                        "Series": "RateOutofSchoolFemale",
                                        "Timestamp": "1998",
                                        "Value": 0
                                    },
                                    {
                                        "Country": "United States",
                                        "Series": "RateOutofSchoolMale",
                                        "Timestamp": "1998",
                                        "Value": 0
                                    },
                                    {
                                        "Country": "United States",
                                        "Series": "GovernmentExpenditure",
                                        "Timestamp": "1999",
                                        "Value": -0.03531195537976147
                                    },
                                    {
                                        "Country": "United States",
                                        "Series": "PupilTeacherRatio",
                                        "Timestamp": "1999",
                                        "Value": -0.3144120832269661
                                    },
                                    {
                                        "Country": "United States",
                                        "Series": "RateOutofSchoolBothSexes",
                                        "Timestamp": "1999",
                                        "Value": 0
                                    },
                                    {
                                        "Country": "United States",
                                        "Series": "RateOutofSchoolFemale",
                                        "Timestamp": "1999",
                                        "Value": 0
                                    },
                                    {
                                        "Country": "United States",
                                        "Series": "RateOutofSchoolMale",
                                        "Timestamp": "1999",
                                        "Value": 0
                                    },
                                    {
                                        "Country": "United States",
                                        "Series": "GovernmentExpenditure",
                                        "Timestamp": "2000",
                                        "Value": 0.04569456105255278
                                    },
                                    {
                                        "Country": "United States",
                                        "Series": "PupilTeacherRatio",
                                        "Timestamp": "2000",
                                        "Value": -0.47858880096204254
                                    },
                                    {
                                        "Country": "United States",
                                        "Series": "RateOutofSchoolBothSexes",
                                        "Timestamp": "2000",
                                        "Value": 0
                                    },
                                    {
                                        "Country": "United States",
                                        "Series": "RateOutofSchoolFemale",
                                        "Timestamp": "2000",
                                        "Value": 0
                                    },
                                    {
                                        "Country": "United States",
                                        "Series": "RateOutofSchoolMale",
                                        "Timestamp": "2000",
                                        "Value": 0
                                    },
                                    {
                                        "Country": "United States",
                                        "Series": "GovernmentExpenditure",
                                        "Timestamp": "2001",
                                        "Value": 0.4715552065502649
                                    },
                                    {
                                        "Country": "United States",
                                        "Series": "PupilTeacherRatio",
                                        "Timestamp": "2001",
                                        "Value": -0.19125789533509174
                                    },
                                    {
                                        "Country": "United States",
                                        "Series": "RateOutofSchoolBothSexes",
                                        "Timestamp": "2001",
                                        "Value": -0.11663594636596908
                                    },
                                    {
                                        "Country": "United States",
                                        "Series": "RateOutofSchoolFemale",
                                        "Timestamp": "2001",
                                        "Value": -0.2625783853513455
                                    },
                                    {
                                        "Country": "United States",
                                        "Series": "RateOutofSchoolMale",
                                        "Timestamp": "2001",
                                        "Value": 0.0646540775419936
                                    },
                                    {
                                        "Country": "United States",
                                        "Series": "GovernmentExpenditure",
                                        "Timestamp": "2002",
                                        "Value": 0.5564670818519
                                    },
                                    {
                                        "Country": "United States",
                                        "Series": "PupilTeacherRatio",
                                        "Timestamp": "2002",
                                        "Value": -0.3353388726762947
                                    },
                                    {
                                        "Country": "United States",
                                        "Series": "RateOutofSchoolBothSexes",
                                        "Timestamp": "2002",
                                        "Value": 0.13136207101294384
                                    },
                                    {
                                        "Country": "United States",
                                        "Series": "RateOutofSchoolFemale",
                                        "Timestamp": "2002",
                                        "Value": 0.06927831726806899
                                    },
                                    {
                                        "Country": "United States",
                                        "Series": "RateOutofSchoolMale",
                                        "Timestamp": "2002",
                                        "Value": 0.1968884307923654
                                    },
                                    {
                                        "Country": "United States",
                                        "Series": "GovernmentExpenditure",
                                        "Timestamp": "2003",
                                        "Value": 0.9646880446202385
                                    },
                                    {
                                        "Country": "United States",
                                        "Series": "PupilTeacherRatio",
                                        "Timestamp": "2003",
                                        "Value": -0.3187872686630979
                                    },
                                    {
                                        "Country": "United States",
                                        "Series": "RateOutofSchoolBothSexes",
                                        "Timestamp": "2003",
                                        "Value": -0.3490579968298714
                                    },
                                    {
                                        "Country": "United States",
                                        "Series": "RateOutofSchoolFemale",
                                        "Timestamp": "2003",
                                        "Value": -0.39139642383631346
                                    },
                                    {
                                        "Country": "United States",
                                        "Series": "RateOutofSchoolMale",
                                        "Timestamp": "2003",
                                        "Value": -0.2762062382661372
                                    },
                                    {
                                        "Country": "United States",
                                        "Series": "GovernmentExpenditure",
                                        "Timestamp": "2004",
                                        "Value": 0.6847297597191496
                                    },
                                    {
                                        "Country": "United States",
                                        "Series": "PupilTeacherRatio",
                                        "Timestamp": "2004",
                                        "Value": -0.2878878905475849
                                    },
                                    {
                                        "Country": "United States",
                                        "Series": "RateOutofSchoolBothSexes",
                                        "Timestamp": "2004",
                                        "Value": -0.4685656459265913
                                    },
                                    {
                                        "Country": "United States",
                                        "Series": "RateOutofSchoolFemale",
                                        "Timestamp": "2004",
                                        "Value": -0.4632699681083599
                                    },
                                    {
                                        "Country": "United States",
                                        "Series": "RateOutofSchoolMale",
                                        "Timestamp": "2004",
                                        "Value": -0.4446184257911853
                                    },
                                    {
                                        "Country": "United States",
                                        "Series": "GovernmentExpenditure",
                                        "Timestamp": "2005",
                                        "Value": 0.3005275687453213
                                    },
                                    {
                                        "Country": "United States",
                                        "Series": "PupilTeacherRatio",
                                        "Timestamp": "2005",
                                        "Value": -0.304057182473102
                                    },
                                    {
                                        "Country": "United States",
                                        "Series": "RateOutofSchoolBothSexes",
                                        "Timestamp": "2005",
                                        "Value": -0.6635037664637576
                                    },
                                    {
                                        "Country": "United States",
                                        "Series": "RateOutofSchoolFemale",
                                        "Timestamp": "2005",
                                        "Value": -0.8696321711398574
                                    },
                                    {
                                        "Country": "United States",
                                        "Series": "RateOutofSchoolMale",
                                        "Timestamp": "2005",
                                        "Value": -0.37773921839350355
                                    },
                                    {
                                        "Country": "United States",
                                        "Series": "GovernmentExpenditure",
                                        "Timestamp": "2006",
                                        "Value": 0.629466953044126
                                    },
                                    {
                                        "Country": "United States",
                                        "Series": "PupilTeacherRatio",
                                        "Timestamp": "2006",
                                        "Value": -0.4721805221586026
                                    },
                                    {
                                        "Country": "United States",
                                        "Series": "RateOutofSchoolBothSexes",
                                        "Timestamp": "2006",
                                        "Value": -0.6619858221939974
                                    },
                                    {
                                        "Country": "United States",
                                        "Series": "RateOutofSchoolFemale",
                                        "Timestamp": "2006",
                                        "Value": -0.8745028129143224
                                    },
                                    {
                                        "Country": "United States",
                                        "Series": "RateOutofSchoolMale",
                                        "Timestamp": "2006",
                                        "Value": -0.36919205546229306
                                    },
                                    {
                                        "Country": "United States",
                                        "Series": "GovernmentExpenditure",
                                        "Timestamp": "2007",
                                        "Value": 0.6300853855930639
                                    },
                                    {
                                        "Country": "United States",
                                        "Series": "PupilTeacherRatio",
                                        "Timestamp": "2007",
                                        "Value": -0.5002014888030211
                                    },
                                    {
                                        "Country": "United States",
                                        "Series": "RateOutofSchoolBothSexes",
                                        "Timestamp": "2007",
                                        "Value": -0.8353175033430915
                                    },
                                    {
                                        "Country": "United States",
                                        "Series": "RateOutofSchoolFemale",
                                        "Timestamp": "2007",
                                        "Value": -0.8774232271473106
                                    },
                                    {
                                        "Country": "United States",
                                        "Series": "RateOutofSchoolMale",
                                        "Timestamp": "2007",
                                        "Value": -0.731995470714875
                                    },
                                    {
                                        "Country": "United States",
                                        "Series": "GovernmentExpenditure",
                                        "Timestamp": "2008",
                                        "Value": 0.7370633532545653
                                    },
                                    {
                                        "Country": "United States",
                                        "Series": "PupilTeacherRatio",
                                        "Timestamp": "2008",
                                        "Value": -0.5968467371361259
                                    },
                                    {
                                        "Country": "United States",
                                        "Series": "RateOutofSchoolBothSexes",
                                        "Timestamp": "2008",
                                        "Value": -0.849756560978506
                                    },
                                    {
                                        "Country": "United States",
                                        "Series": "RateOutofSchoolFemale",
                                        "Timestamp": "2008",
                                        "Value": -0.8430510266241444
                                    },
                                    {
                                        "Country": "United States",
                                        "Series": "RateOutofSchoolMale",
                                        "Timestamp": "2008",
                                        "Value": -0.8031115692076346
                                    },
                                    {
                                        "Country": "United States",
                                        "Series": "GovernmentExpenditure",
                                        "Timestamp": "2009",
                                        "Value": 0.7726682299482557
                                    },
                                    {
                                        "Country": "United States",
                                        "Series": "PupilTeacherRatio",
                                        "Timestamp": "2009",
                                        "Value": -0.8116933374861297
                                    },
                                    {
                                        "Country": "United States",
                                        "Series": "RateOutofSchoolBothSexes",
                                        "Timestamp": "2009",
                                        "Value": -0.8686379289870562
                                    },
                                    {
                                        "Country": "United States",
                                        "Series": "RateOutofSchoolFemale",
                                        "Timestamp": "2009",
                                        "Value": -0.930721682731931
                                    },
                                    {
                                        "Country": "United States",
                                        "Series": "RateOutofSchoolMale",
                                        "Timestamp": "2009",
                                        "Value": -0.738997122346016
                                    },
                                    {
                                        "Country": "United States",
                                        "Series": "GovernmentExpenditure",
                                        "Timestamp": "2010",
                                        "Value": 0.5971164127497698
                                    },
                                    {
                                        "Country": "United States",
                                        "Series": "PupilTeacherRatio",
                                        "Timestamp": "2010",
                                        "Value": -0.9152625185067368
                                    },
                                    {
                                        "Country": "United States",
                                        "Series": "RateOutofSchoolBothSexes",
                                        "Timestamp": "2010",
                                        "Value": -0.6121755652277174
                                    },
                                    {
                                        "Country": "United States",
                                        "Series": "RateOutofSchoolFemale",
                                        "Timestamp": "2010",
                                        "Value": -0.5914322571397856
                                    },
                                    {
                                        "Country": "United States",
                                        "Series": "RateOutofSchoolMale",
                                        "Timestamp": "2010",
                                        "Value": -0.5973790657164049
                                    },
                                    {
                                        "Country": "United States",
                                        "Series": "GovernmentExpenditure",
                                        "Timestamp": "2011",
                                        "Value": 0.4485129684606863
                                    },
                                    {
                                        "Country": "United States",
                                        "Series": "PupilTeacherRatio",
                                        "Timestamp": "2011",
                                        "Value": -0.5380454651242457
                                    },
                                    {
                                        "Country": "United States",
                                        "Series": "RateOutofSchoolBothSexes",
                                        "Timestamp": "2011",
                                        "Value": -0.6276482706277783
                                    },
                                    {
                                        "Country": "United States",
                                        "Series": "RateOutofSchoolFemale",
                                        "Timestamp": "2011",
                                        "Value": -0.7181630056974951
                                    },
                                    {
                                        "Country": "United States",
                                        "Series": "RateOutofSchoolMale",
                                        "Timestamp": "2011",
                                        "Value": -0.47988069420438895
                                    },
                                    {
                                        "Country": "United States",
                                        "Series": "GovernmentExpenditure",
                                        "Timestamp": "2012",
                                        "Value": 0.09565219415523354
                                    },
                                    {
                                        "Country": "United States",
                                        "Series": "PupilTeacherRatio",
                                        "Timestamp": "2012",
                                        "Value": -0.4487054774940433
                                    },
                                    {
                                        "Country": "United States",
                                        "Series": "RateOutofSchoolBothSexes",
                                        "Timestamp": "2012",
                                        "Value": -0.500238017791959
                                    },
                                    {
                                        "Country": "United States",
                                        "Series": "RateOutofSchoolFemale",
                                        "Timestamp": "2012",
                                        "Value": -0.5573673271938939
                                    },
                                    {
                                        "Country": "United States",
                                        "Series": "RateOutofSchoolMale",
                                        "Timestamp": "2012",
                                        "Value": -0.40012260228428603
                                    },
                                    {
                                        "Country": "United States",
                                        "Series": "GovernmentExpenditure",
                                        "Timestamp": "2013",
                                        "Value": 0.09565219415523354
                                    },
                                    {
                                        "Country": "United States",
                                        "Series": "PupilTeacherRatio",
                                        "Timestamp": "2013",
                                        "Value": -0.432185363794299
                                    },
                                    {
                                        "Country": "United States",
                                        "Series": "RateOutofSchoolBothSexes",
                                        "Timestamp": "2013",
                                        "Value": -0.5474636390390484
                                    },
                                    {
                                        "Country": "United States",
                                        "Series": "RateOutofSchoolFemale",
                                        "Timestamp": "2013",
                                        "Value": -0.6023676855269287
                                    },
                                    {
                                        "Country": "United States",
                                        "Series": "RateOutofSchoolMale",
                                        "Timestamp": "2013",
                                        "Value": -0.4468503292537404
                                    },
                                    {
                                        "Country": "United States",
                                        "Series": "GovernmentExpenditure",
                                        "Timestamp": "2014",
                                        "Value": 0.09565219415523354
                                    },
                                    {
                                        "Country": "United States",
                                        "Series": "PupilTeacherRatio",
                                        "Timestamp": "2014",
                                        "Value": -0.3851885310310118
                                    },
                                    {
                                        "Country": "United States",
                                        "Series": "RateOutofSchoolBothSexes",
                                        "Timestamp": "2014",
                                        "Value": -0.808980653955174
                                    },
                                    {
                                        "Country": "United States",
                                        "Series": "RateOutofSchoolFemale",
                                        "Timestamp": "2014",
                                        "Value": -0.8463629196975668
                                    },
                                    {
                                        "Country": "United States",
                                        "Series": "RateOutofSchoolMale",
                                        "Timestamp": "2014",
                                        "Value": -0.712233472681479
                                    }
                                ]
                            },
                            "encoding": {
                                "color": {
                                    "field": "Series",
                                    "type": "nominal"
                                },
                                "x": {
                                    "field": "Timestamp",
                                    "type": "ordinal"
                                },
                                "y": {
                                    "field": "Value",
                                    "type": "quantitative"
                                }
                            },
                            "mark": "line"
                        },
                        "image/png": "[encoded data removed]",
                        "image/svg+xml": [
                            "<svg class=\"marks\" width=\"705\" height=\"257\" viewBox=\"0 0 705 257\" version=\"1.1\" xmlns=\"http://www.w3.org/2000/svg\" xmlns:xlink=\"http://www.w3.org/1999/xlink\"><g transform=\"translate(44,10)\"><g class=\"mark-group role-frame root\"><g transform=\"translate(0,0)\"><path class=\"background\" d=\"M0.5,0.5h500v200h-500Z\" style=\"fill: none; stroke: #ddd;\"></path><g><g class=\"mark-group role-axis\"><g transform=\"translate(0.5,0.5)\"><path class=\"background\" d=\"M0,0h0v0h0Z\" style=\"pointer-events: none; fill: none;\"></path><g><g class=\"mark-rule role-axis-grid\" style=\"pointer-events: none;\"><line transform=\"translate(0,200)\" x2=\"500\" y2=\"0\" style=\"fill: none; stroke: #ddd; stroke-width: 1; opacity: 1;\"></line><line transform=\"translate(0,150)\" x2=\"500\" y2=\"0\" style=\"fill: none; stroke: #ddd; stroke-width: 1; opacity: 1;\"></line><line transform=\"translate(0,100)\" x2=\"500\" y2=\"0\" style=\"fill: none; stroke: #ddd; stroke-width: 1; opacity: 1;\"></line><line transform=\"translate(0,50)\" x2=\"500\" y2=\"0\" style=\"fill: none; stroke: #ddd; stroke-width: 1; opacity: 1;\"></line><line transform=\"translate(0,0)\" x2=\"500\" y2=\"0\" style=\"fill: none; stroke: #ddd; stroke-width: 1; opacity: 1;\"></line></g></g></g></g><g class=\"mark-group role-scope pathgroup\"><g transform=\"translate(0,0)\"><path class=\"background\" d=\"M0,0h500v200h-500Z\" style=\"fill: none;\"></path><g><g class=\"mark-line role-mark marks\"><path d=\"M10,100L30,100L50,100L70,100L90,100L110,100L130,100L150,100L170,100L190,103.53119553797616L210,95.43054389474473L230,52.844479344973514L250,44.35329181481001L270,3.5311955379761617L290,31.527024028085027L310,69.94724312546788L330,37.053304695587386L350,36.991461440693605L370,26.293664674543482L390,22.733177005174433L410,40.28835872502303L430,55.148703153931365L450,90.43478058447664L470,90.43478058447664L490,90.43478058447664\" style=\"fill: none; stroke: #4c78a8; stroke-width: 2;\"></path></g></g></g><g transform=\"translate(0,0)\"><path class=\"background\" d=\"M0,0h500v200h-500Z\" style=\"fill: none;\"></path><g><g class=\"mark-line role-mark marks\"><path d=\"M10,100L30,100L50,100L70,100L90,91.52625185067369L110,105.5571546730418L130,106.70305766024315L150,106.70305766024315L170,117.80654221104608L190,131.4412083226966L210,147.85888009620425L230,119.12578953350916L250,133.53388726762947L270,131.8787268663098L290,128.7887890547585L310,130.4057182473102L330,147.21805221586027L350,150.02014888030212L370,159.6846737136126L390,181.16933374861298L410,191.5262518506737L430,153.80454651242457L450,144.87054774940432L470,143.2185363794299L490,138.51885310310118\" style=\"fill: none; stroke: #f58518; stroke-width: 2;\"></path></g></g></g><g transform=\"translate(0,0)\"><path class=\"background\" d=\"M0,0h500v200h-500Z\" style=\"fill: none;\"></path><g><g class=\"mark-line role-mark marks\"><path d=\"M10,100L30,100L50,100L70,100L90,100L110,100L130,100L150,100L170,100L190,100L210,100L230,111.66359463659691L250,86.86379289870563L270,134.90579968298712L290,146.8565645926591L310,166.35037664637576L330,166.19858221939973L350,183.53175033430915L370,184.97565609785062L390,186.86379289870564L410,161.21755652277173L430,162.7648270627778L450,150.0238017791959L470,154.74636390390484L490,180.8980653955174\" style=\"fill: none; stroke: #e45756; stroke-width: 2;\"></path></g></g></g><g transform=\"translate(0,0)\"><path class=\"background\" d=\"M0,0h500v200h-500Z\" style=\"fill: none;\"></path><g><g class=\"mark-line role-mark marks\"><path d=\"M10,100L30,100L50,100L70,100L90,100L110,100L130,100L150,100L170,100L190,100L210,100L230,126.25783853513455L250,93.07216827319311L270,139.13964238363135L290,146.326996810836L310,186.96321711398573L330,187.45028129143225L350,187.74232271473105L370,184.30510266241444L390,193.0721682731931L410,159.14322571397855L430,171.8163005697495L450,155.73673271938938L470,160.23676855269287L490,184.63629196975668\" style=\"fill: none; stroke: #72b7b2; stroke-width: 2;\"></path></g></g></g><g transform=\"translate(0,0)\"><path class=\"background\" d=\"M0,0h500v200h-500Z\" style=\"fill: none;\"></path><g><g class=\"mark-line role-mark marks\"><path d=\"M10,100L30,100L50,100L70,100L90,100L110,100L130,100L150,100L170,100L190,100L210,100L230,93.53459224580062L250,80.31115692076347L270,127.62062382661372L290,144.46184257911852L310,137.77392183935035L330,136.9192055462293L350,173.1995470714875L370,180.31115692076347L390,173.8997122346016L410,159.73790657164048L430,147.9880694204389L450,140.0122602284286L470,144.68503292537406L490,171.2233472681479\" style=\"fill: none; stroke: #54a24b; stroke-width: 2;\"></path></g></g></g></g><g class=\"mark-group role-legend\"><g transform=\"translate(518,0)\"><path class=\"background\" d=\"M0,0h138v79h-138Z\" style=\"pointer-events: none; fill: none;\"></path><g><g class=\"mark-group role-legend-entry\"><g transform=\"translate(0,16)\"><path class=\"background\" d=\"M0,0h0v0h0Z\" style=\"pointer-events: none; fill: none;\"></path><g><g class=\"mark-group role-scope\"><g transform=\"translate(0,0)\"><path class=\"background\" d=\"M0,0h138v11h-138Z\" style=\"pointer-events: none; fill: none; opacity: 1;\"></path><g><g class=\"mark-symbol role-legend-symbol\" style=\"pointer-events: none;\"><path transform=\"translate(6,6)\" d=\"M-5,0L5,0\" style=\"fill: none; stroke: #4c78a8; stroke-width: 1.5; opacity: 1;\"></path></g><g class=\"mark-text role-legend-label\" style=\"pointer-events: none;\"><text text-anchor=\"start\" transform=\"translate(16,9)\" style=\"font-family: sans-serif; font-size: 10px; fill: #000; opacity: 1;\">GovernmentExpenditure</text></g></g></g><g transform=\"translate(0,13)\"><path class=\"background\" d=\"M0,0h138v11h-138Z\" style=\"pointer-events: none; fill: none; opacity: 1;\"></path><g><g class=\"mark-symbol role-legend-symbol\" style=\"pointer-events: none;\"><path transform=\"translate(6,6)\" d=\"M-5,0L5,0\" style=\"fill: none; stroke: #f58518; stroke-width: 1.5; opacity: 1;\"></path></g><g class=\"mark-text role-legend-label\" style=\"pointer-events: none;\"><text text-anchor=\"start\" transform=\"translate(16,9)\" style=\"font-family: sans-serif; font-size: 10px; fill: #000; opacity: 1;\">PupilTeacherRatio</text></g></g></g><g transform=\"translate(0,26)\"><path class=\"background\" d=\"M0,0h138v11h-138Z\" style=\"pointer-events: none; fill: none; opacity: 1;\"></path><g><g class=\"mark-symbol role-legend-symbol\" style=\"pointer-events: none;\"><path transform=\"translate(6,6)\" d=\"M-5,0L5,0\" style=\"fill: none; stroke: #e45756; stroke-width: 1.5; opacity: 1;\"></path></g><g class=\"mark-text role-legend-label\" style=\"pointer-events: none;\"><text text-anchor=\"start\" transform=\"translate(16,9)\" style=\"font-family: sans-serif; font-size: 10px; fill: #000; opacity: 1;\">RateOutofSchoolBothSexes</text></g></g></g><g transform=\"translate(0,39)\"><path class=\"background\" d=\"M0,0h138v11h-138Z\" style=\"pointer-events: none; fill: none; opacity: 1;\"></path><g><g class=\"mark-symbol role-legend-symbol\" style=\"pointer-events: none;\"><path transform=\"translate(6,6)\" d=\"M-5,0L5,0\" style=\"fill: none; stroke: #72b7b2; stroke-width: 1.5; opacity: 1;\"></path></g><g class=\"mark-text role-legend-label\" style=\"pointer-events: none;\"><text text-anchor=\"start\" transform=\"translate(16,9)\" style=\"font-family: sans-serif; font-size: 10px; fill: #000; opacity: 1;\">RateOutofSchoolFemale</text></g></g></g><g transform=\"translate(0,52)\"><path class=\"background\" d=\"M0,0h138v11h-138Z\" style=\"pointer-events: none; fill: none; opacity: 1;\"></path><g><g class=\"mark-symbol role-legend-symbol\" style=\"pointer-events: none;\"><path transform=\"translate(6,6)\" d=\"M-5,0L5,0\" style=\"fill: none; stroke: #54a24b; stroke-width: 1.5; opacity: 1;\"></path></g><g class=\"mark-text role-legend-label\" style=\"pointer-events: none;\"><text text-anchor=\"start\" transform=\"translate(16,9)\" style=\"font-family: sans-serif; font-size: 10px; fill: #000; opacity: 1;\">RateOutofSchoolMale</text></g></g></g></g></g></g></g><g class=\"mark-text role-legend-title\" style=\"pointer-events: none;\"><text text-anchor=\"start\" transform=\"translate(0,9)\" style=\"font-family: sans-serif; font-size: 11px; font-weight: bold; fill: #000; opacity: 1;\">Series</text></g></g></g></g><g class=\"mark-group role-axis\"><g transform=\"translate(0.5,200.5)\"><path class=\"background\" d=\"M0,0h0v0h0Z\" style=\"pointer-events: none; fill: none;\"></path><g><g class=\"mark-rule role-axis-tick\" style=\"pointer-events: none;\"><line transform=\"translate(10,0)\" x2=\"0\" y2=\"5\" style=\"fill: none; stroke: #888; stroke-width: 1; opacity: 1;\"></line><line transform=\"translate(30,0)\" x2=\"0\" y2=\"5\" style=\"fill: none; stroke: #888; stroke-width: 1; opacity: 1;\"></line><line transform=\"translate(50,0)\" x2=\"0\" y2=\"5\" style=\"fill: none; stroke: #888; stroke-width: 1; opacity: 1;\"></line><line transform=\"translate(70,0)\" x2=\"0\" y2=\"5\" style=\"fill: none; stroke: #888; stroke-width: 1; opacity: 1;\"></line><line transform=\"translate(90,0)\" x2=\"0\" y2=\"5\" style=\"fill: none; stroke: #888; stroke-width: 1; opacity: 1;\"></line><line transform=\"translate(110,0)\" x2=\"0\" y2=\"5\" style=\"fill: none; stroke: #888; stroke-width: 1; opacity: 1;\"></line><line transform=\"translate(130,0)\" x2=\"0\" y2=\"5\" style=\"fill: none; stroke: #888; stroke-width: 1; opacity: 1;\"></line><line transform=\"translate(150,0)\" x2=\"0\" y2=\"5\" style=\"fill: none; stroke: #888; stroke-width: 1; opacity: 1;\"></line><line transform=\"translate(170,0)\" x2=\"0\" y2=\"5\" style=\"fill: none; stroke: #888; stroke-width: 1; opacity: 1;\"></line><line transform=\"translate(190,0)\" x2=\"0\" y2=\"5\" style=\"fill: none; stroke: #888; stroke-width: 1; opacity: 1;\"></line><line transform=\"translate(210,0)\" x2=\"0\" y2=\"5\" style=\"fill: none; stroke: #888; stroke-width: 1; opacity: 1;\"></line><line transform=\"translate(230,0)\" x2=\"0\" y2=\"5\" style=\"fill: none; stroke: #888; stroke-width: 1; opacity: 1;\"></line><line transform=\"translate(250,0)\" x2=\"0\" y2=\"5\" style=\"fill: none; stroke: #888; stroke-width: 1; opacity: 1;\"></line><line transform=\"translate(270,0)\" x2=\"0\" y2=\"5\" style=\"fill: none; stroke: #888; stroke-width: 1; opacity: 1;\"></line><line transform=\"translate(290,0)\" x2=\"0\" y2=\"5\" style=\"fill: none; stroke: #888; stroke-width: 1; opacity: 1;\"></line><line transform=\"translate(310,0)\" x2=\"0\" y2=\"5\" style=\"fill: none; stroke: #888; stroke-width: 1; opacity: 1;\"></line><line transform=\"translate(330,0)\" x2=\"0\" y2=\"5\" style=\"fill: none; stroke: #888; stroke-width: 1; opacity: 1;\"></line><line transform=\"translate(350,0)\" x2=\"0\" y2=\"5\" style=\"fill: none; stroke: #888; stroke-width: 1; opacity: 1;\"></line><line transform=\"translate(370,0)\" x2=\"0\" y2=\"5\" style=\"fill: none; stroke: #888; stroke-width: 1; opacity: 1;\"></line><line transform=\"translate(390,0)\" x2=\"0\" y2=\"5\" style=\"fill: none; stroke: #888; stroke-width: 1; opacity: 1;\"></line><line transform=\"translate(410,0)\" x2=\"0\" y2=\"5\" style=\"fill: none; stroke: #888; stroke-width: 1; opacity: 1;\"></line><line transform=\"translate(430,0)\" x2=\"0\" y2=\"5\" style=\"fill: none; stroke: #888; stroke-width: 1; opacity: 1;\"></line><line transform=\"translate(450,0)\" x2=\"0\" y2=\"5\" style=\"fill: none; stroke: #888; stroke-width: 1; opacity: 1;\"></line><line transform=\"translate(470,0)\" x2=\"0\" y2=\"5\" style=\"fill: none; stroke: #888; stroke-width: 1; opacity: 1;\"></line><line transform=\"translate(490,0)\" x2=\"0\" y2=\"5\" style=\"fill: none; stroke: #888; stroke-width: 1; opacity: 1;\"></line></g><g class=\"mark-text role-axis-label\" style=\"pointer-events: none;\"><text text-anchor=\"end\" transform=\"translate(10,7) rotate(270) translate(0,3)\" style=\"font-family: sans-serif; font-size: 10px; fill: #000; opacity: 1;\">1990</text><text text-anchor=\"end\" transform=\"translate(30,7) rotate(270) translate(0,3)\" style=\"font-family: sans-serif; font-size: 10px; fill: #000; opacity: 1;\">1991</text><text text-anchor=\"end\" transform=\"translate(50,7) rotate(270) translate(0,3)\" style=\"font-family: sans-serif; font-size: 10px; fill: #000; opacity: 1;\">1992</text><text text-anchor=\"end\" transform=\"translate(70,7) rotate(270) translate(0,3)\" style=\"font-family: sans-serif; font-size: 10px; fill: #000; opacity: 1;\">1993</text><text text-anchor=\"end\" transform=\"translate(90,7) rotate(270) translate(0,3)\" style=\"font-family: sans-serif; font-size: 10px; fill: #000; opacity: 1;\">1994</text><text text-anchor=\"end\" transform=\"translate(110,7) rotate(270) translate(0,3)\" style=\"font-family: sans-serif; font-size: 10px; fill: #000; opacity: 1;\">1995</text><text text-anchor=\"end\" transform=\"translate(130,7) rotate(270) translate(0,3)\" style=\"font-family: sans-serif; font-size: 10px; fill: #000; opacity: 1;\">1996</text><text text-anchor=\"end\" transform=\"translate(150,7) rotate(270) translate(0,3)\" style=\"font-family: sans-serif; font-size: 10px; fill: #000; opacity: 1;\">1997</text><text text-anchor=\"end\" transform=\"translate(170,7) rotate(270) translate(0,3)\" style=\"font-family: sans-serif; font-size: 10px; fill: #000; opacity: 1;\">1998</text><text text-anchor=\"end\" transform=\"translate(190,7) rotate(270) translate(0,3)\" style=\"font-family: sans-serif; font-size: 10px; fill: #000; opacity: 1;\">1999</text><text text-anchor=\"end\" transform=\"translate(210,7) rotate(270) translate(0,3)\" style=\"font-family: sans-serif; font-size: 10px; fill: #000; opacity: 1;\">2000</text><text text-anchor=\"end\" transform=\"translate(230,7) rotate(270) translate(0,3)\" style=\"font-family: sans-serif; font-size: 10px; fill: #000; opacity: 1;\">2001</text><text text-anchor=\"end\" transform=\"translate(250,7) rotate(270) translate(0,3)\" style=\"font-family: sans-serif; font-size: 10px; fill: #000; opacity: 1;\">2002</text><text text-anchor=\"end\" transform=\"translate(270,7) rotate(270) translate(0,3)\" style=\"font-family: sans-serif; font-size: 10px; fill: #000; opacity: 1;\">2003</text><text text-anchor=\"end\" transform=\"translate(290,7) rotate(270) translate(0,3)\" style=\"font-family: sans-serif; font-size: 10px; fill: #000; opacity: 1;\">2004</text><text text-anchor=\"end\" transform=\"translate(310,7) rotate(270) translate(0,3)\" style=\"font-family: sans-serif; font-size: 10px; fill: #000; opacity: 1;\">2005</text><text text-anchor=\"end\" transform=\"translate(330,7) rotate(270) translate(0,3)\" style=\"font-family: sans-serif; font-size: 10px; fill: #000; opacity: 1;\">2006</text><text text-anchor=\"end\" transform=\"translate(350,7) rotate(270) translate(0,3)\" style=\"font-family: sans-serif; font-size: 10px; fill: #000; opacity: 1;\">2007</text><text text-anchor=\"end\" transform=\"translate(370,7) rotate(270) translate(0,3)\" style=\"font-family: sans-serif; font-size: 10px; fill: #000; opacity: 1;\">2008</text><text text-anchor=\"end\" transform=\"translate(390,7) rotate(270) translate(0,3)\" style=\"font-family: sans-serif; font-size: 10px; fill: #000; opacity: 1;\">2009</text><text text-anchor=\"end\" transform=\"translate(410,7) rotate(270) translate(0,3)\" style=\"font-family: sans-serif; font-size: 10px; fill: #000; opacity: 1;\">2010</text><text text-anchor=\"end\" transform=\"translate(430,7) rotate(270) translate(0,3)\" style=\"font-family: sans-serif; font-size: 10px; fill: #000; opacity: 1;\">2011</text><text text-anchor=\"end\" transform=\"translate(450,7) rotate(270) translate(0,3)\" style=\"font-family: sans-serif; font-size: 10px; fill: #000; opacity: 1;\">2012</text><text text-anchor=\"end\" transform=\"translate(470,7) rotate(270) translate(0,3)\" style=\"font-family: sans-serif; font-size: 10px; fill: #000; opacity: 1;\">2013</text><text text-anchor=\"end\" transform=\"translate(490,7) rotate(270) translate(0,3)\" style=\"font-family: sans-serif; font-size: 10px; fill: #000; opacity: 1;\">2014</text></g><g class=\"mark-rule role-axis-domain\" style=\"pointer-events: none;\"><line transform=\"translate(0,0)\" x2=\"500\" y2=\"0\" style=\"fill: none; stroke: #888; stroke-width: 1; opacity: 1;\"></line></g><g class=\"mark-text role-axis-title\" style=\"pointer-events: none;\"><text text-anchor=\"middle\" transform=\"translate(250,40)\" style=\"font-family: sans-serif; font-size: 11px; font-weight: bold; fill: #000; opacity: 1;\">Timestamp</text></g></g></g></g><g class=\"mark-group role-axis\"><g transform=\"translate(0.5,0.5)\"><path class=\"background\" d=\"M0,0h0v0h0Z\" style=\"pointer-events: none; fill: none;\"></path><g><g class=\"mark-rule role-axis-tick\" style=\"pointer-events: none;\"><line transform=\"translate(0,200)\" x2=\"-5\" y2=\"0\" style=\"fill: none; stroke: #888; stroke-width: 1; opacity: 1;\"></line><line transform=\"translate(0,150)\" x2=\"-5\" y2=\"0\" style=\"fill: none; stroke: #888; stroke-width: 1; opacity: 1;\"></line><line transform=\"translate(0,100)\" x2=\"-5\" y2=\"0\" style=\"fill: none; stroke: #888; stroke-width: 1; opacity: 1;\"></line><line transform=\"translate(0,50)\" x2=\"-5\" y2=\"0\" style=\"fill: none; stroke: #888; stroke-width: 1; opacity: 1;\"></line><line transform=\"translate(0,0)\" x2=\"-5\" y2=\"0\" style=\"fill: none; stroke: #888; stroke-width: 1; opacity: 1;\"></line></g><g class=\"mark-text role-axis-label\" style=\"pointer-events: none;\"><text text-anchor=\"end\" transform=\"translate(-7,203)\" style=\"font-family: sans-serif; font-size: 10px; fill: #000; opacity: 1;\">-1.0</text><text text-anchor=\"end\" transform=\"translate(-7,153)\" style=\"font-family: sans-serif; font-size: 10px; fill: #000; opacity: 1;\">-0.5</text><text text-anchor=\"end\" transform=\"translate(-7,103)\" style=\"font-family: sans-serif; font-size: 10px; fill: #000; opacity: 1;\">0.0</text><text text-anchor=\"end\" transform=\"translate(-7,53)\" style=\"font-family: sans-serif; font-size: 10px; fill: #000; opacity: 1;\">0.5</text><text text-anchor=\"end\" transform=\"translate(-7,3)\" style=\"font-family: sans-serif; font-size: 10px; fill: #000; opacity: 1;\">1.0</text></g><g class=\"mark-rule role-axis-domain\" style=\"pointer-events: none;\"><line transform=\"translate(0,200)\" x2=\"0\" y2=\"-200\" style=\"fill: none; stroke: #888; stroke-width: 1; opacity: 1;\"></line></g><g class=\"mark-text role-axis-title\" style=\"pointer-events: none;\"><text text-anchor=\"middle\" transform=\"translate(-28,100) rotate(-90) translate(0,-2)\" style=\"font-family: sans-serif; font-size: 11px; font-weight: bold; fill: #000; opacity: 1;\">Value</text></g></g></g></g></g></g></g></g></svg>"
                        ],
                        "text/plain": [
                            "VegaLite.VLSpec{:plot}"
                        ]
                    },
                    "execution_count": 17,
                    "metadata": {},
                    "output_type": "execute_result"
                }
            ],
            "source": [
                "graph = dfTranspose |>\n",
                "    @filter(_.Country == \"United States\") |>\n",
                "    @vlplot(:line, x=:\"Timestamp:o\", y=:Value, color=:Series)"
            ]
        },
        {
            "cell_type": "markdown",
            "metadata": {},
            "source": [
                "The story is different for the United Kingdom.  From 2005, pupil-teacher ratio is going up but also the out of school rate is going up.  The budget goes down around 2005.  Perhaps, programs such as after school project were cut off.  Other factors probably caused the out of school rate to increase even with an increasing pupil-teacher ratio.  Apparently, the UK government noticed such undesired trend increasing the 2008 budget for school programs.  Afterwards, out of school rate and pupil-teacher ratio drop similar to the USA case. "
            ]
        },
        {
            "cell_type": "code",
            "execution_count": 18,
            "metadata": {},
            "outputs": [
                {
                    "data": {
                        "application/vnd.vegalite.v3+json": {
                            "data": {
                                "values": [
                                    {
                                        "Country": "United Kingdom",
                                        "Series": "GovernmentExpenditure",
                                        "Timestamp": "1990",
                                        "Value": 0
                                    },
                                    {
                                        "Country": "United Kingdom",
                                        "Series": "PupilTeacherRatio",
                                        "Timestamp": "1990",
                                        "Value": 0
                                    },
                                    {
                                        "Country": "United Kingdom",
                                        "Series": "RateOutofSchoolFemale",
                                        "Timestamp": "1990",
                                        "Value": 0
                                    },
                                    {
                                        "Country": "United Kingdom",
                                        "Series": "RateOutofSchoolMale",
                                        "Timestamp": "1990",
                                        "Value": 0
                                    },
                                    {
                                        "Country": "United Kingdom",
                                        "Series": "GovernmentExpenditure",
                                        "Timestamp": "1991",
                                        "Value": 0
                                    },
                                    {
                                        "Country": "United Kingdom",
                                        "Series": "PupilTeacherRatio",
                                        "Timestamp": "1991",
                                        "Value": 0
                                    },
                                    {
                                        "Country": "United Kingdom",
                                        "Series": "RateOutofSchoolFemale",
                                        "Timestamp": "1991",
                                        "Value": 0
                                    },
                                    {
                                        "Country": "United Kingdom",
                                        "Series": "RateOutofSchoolMale",
                                        "Timestamp": "1991",
                                        "Value": 0
                                    },
                                    {
                                        "Country": "United Kingdom",
                                        "Series": "GovernmentExpenditure",
                                        "Timestamp": "1992",
                                        "Value": 0
                                    },
                                    {
                                        "Country": "United Kingdom",
                                        "Series": "PupilTeacherRatio",
                                        "Timestamp": "1992",
                                        "Value": 0
                                    },
                                    {
                                        "Country": "United Kingdom",
                                        "Series": "RateOutofSchoolFemale",
                                        "Timestamp": "1992",
                                        "Value": 0
                                    },
                                    {
                                        "Country": "United Kingdom",
                                        "Series": "RateOutofSchoolMale",
                                        "Timestamp": "1992",
                                        "Value": 0
                                    },
                                    {
                                        "Country": "United Kingdom",
                                        "Series": "GovernmentExpenditure",
                                        "Timestamp": "1993",
                                        "Value": 0
                                    },
                                    {
                                        "Country": "United Kingdom",
                                        "Series": "PupilTeacherRatio",
                                        "Timestamp": "1993",
                                        "Value": 0
                                    },
                                    {
                                        "Country": "United Kingdom",
                                        "Series": "RateOutofSchoolFemale",
                                        "Timestamp": "1993",
                                        "Value": 0
                                    },
                                    {
                                        "Country": "United Kingdom",
                                        "Series": "RateOutofSchoolMale",
                                        "Timestamp": "1993",
                                        "Value": 0
                                    },
                                    {
                                        "Country": "United Kingdom",
                                        "Series": "GovernmentExpenditure",
                                        "Timestamp": "1994",
                                        "Value": 0
                                    },
                                    {
                                        "Country": "United Kingdom",
                                        "Series": "PupilTeacherRatio",
                                        "Timestamp": "1994",
                                        "Value": -0.005183783437159251
                                    },
                                    {
                                        "Country": "United Kingdom",
                                        "Series": "RateOutofSchoolFemale",
                                        "Timestamp": "1994",
                                        "Value": 0
                                    },
                                    {
                                        "Country": "United Kingdom",
                                        "Series": "RateOutofSchoolMale",
                                        "Timestamp": "1994",
                                        "Value": 0
                                    },
                                    {
                                        "Country": "United Kingdom",
                                        "Series": "GovernmentExpenditure",
                                        "Timestamp": "1995",
                                        "Value": 0
                                    },
                                    {
                                        "Country": "United Kingdom",
                                        "Series": "PupilTeacherRatio",
                                        "Timestamp": "1995",
                                        "Value": -0.2274279733524318
                                    },
                                    {
                                        "Country": "United Kingdom",
                                        "Series": "RateOutofSchoolFemale",
                                        "Timestamp": "1995",
                                        "Value": 0
                                    },
                                    {
                                        "Country": "United Kingdom",
                                        "Series": "RateOutofSchoolMale",
                                        "Timestamp": "1995",
                                        "Value": 0
                                    },
                                    {
                                        "Country": "United Kingdom",
                                        "Series": "GovernmentExpenditure",
                                        "Timestamp": "1996",
                                        "Value": 0
                                    },
                                    {
                                        "Country": "United Kingdom",
                                        "Series": "PupilTeacherRatio",
                                        "Timestamp": "1996",
                                        "Value": -0.3248799755714593
                                    },
                                    {
                                        "Country": "United Kingdom",
                                        "Series": "RateOutofSchoolFemale",
                                        "Timestamp": "1996",
                                        "Value": 0
                                    },
                                    {
                                        "Country": "United Kingdom",
                                        "Series": "RateOutofSchoolMale",
                                        "Timestamp": "1996",
                                        "Value": 0
                                    },
                                    {
                                        "Country": "United Kingdom",
                                        "Series": "GovernmentExpenditure",
                                        "Timestamp": "1997",
                                        "Value": 0
                                    },
                                    {
                                        "Country": "United Kingdom",
                                        "Series": "PupilTeacherRatio",
                                        "Timestamp": "1997",
                                        "Value": -0.28359071949643333
                                    },
                                    {
                                        "Country": "United Kingdom",
                                        "Series": "RateOutofSchoolFemale",
                                        "Timestamp": "1997",
                                        "Value": 0
                                    },
                                    {
                                        "Country": "United Kingdom",
                                        "Series": "RateOutofSchoolMale",
                                        "Timestamp": "1997",
                                        "Value": 0
                                    },
                                    {
                                        "Country": "United Kingdom",
                                        "Series": "GovernmentExpenditure",
                                        "Timestamp": "1998",
                                        "Value": 0
                                    },
                                    {
                                        "Country": "United Kingdom",
                                        "Series": "PupilTeacherRatio",
                                        "Timestamp": "1998",
                                        "Value": -0.28359071949643333
                                    },
                                    {
                                        "Country": "United Kingdom",
                                        "Series": "RateOutofSchoolFemale",
                                        "Timestamp": "1998",
                                        "Value": 0
                                    },
                                    {
                                        "Country": "United Kingdom",
                                        "Series": "RateOutofSchoolMale",
                                        "Timestamp": "1998",
                                        "Value": 0
                                    },
                                    {
                                        "Country": "United Kingdom",
                                        "Series": "GovernmentExpenditure",
                                        "Timestamp": "1999",
                                        "Value": -0.08701043295048905
                                    },
                                    {
                                        "Country": "United Kingdom",
                                        "Series": "PupilTeacherRatio",
                                        "Timestamp": "1999",
                                        "Value": 0.45250155476199283
                                    },
                                    {
                                        "Country": "United Kingdom",
                                        "Series": "RateOutofSchoolFemale",
                                        "Timestamp": "1999",
                                        "Value": -0.22036684998735256
                                    },
                                    {
                                        "Country": "United Kingdom",
                                        "Series": "RateOutofSchoolMale",
                                        "Timestamp": "1999",
                                        "Value": -0.23723307037344066
                                    },
                                    {
                                        "Country": "United Kingdom",
                                        "Series": "GovernmentExpenditure",
                                        "Timestamp": "2000",
                                        "Value": 0.04774100840553319
                                    },
                                    {
                                        "Country": "United Kingdom",
                                        "Series": "PupilTeacherRatio",
                                        "Timestamp": "2000",
                                        "Value": 0.523356779552779
                                    },
                                    {
                                        "Country": "United Kingdom",
                                        "Series": "RateOutofSchoolFemale",
                                        "Timestamp": "2000",
                                        "Value": -0.10113538871547734
                                    },
                                    {
                                        "Country": "United Kingdom",
                                        "Series": "RateOutofSchoolMale",
                                        "Timestamp": "2000",
                                        "Value": -0.0538976453806439
                                    },
                                    {
                                        "Country": "United Kingdom",
                                        "Series": "GovernmentExpenditure",
                                        "Timestamp": "2001",
                                        "Value": 0.0622568753061955
                                    },
                                    {
                                        "Country": "United Kingdom",
                                        "Series": "PupilTeacherRatio",
                                        "Timestamp": "2001",
                                        "Value": 0.4894285954348452
                                    },
                                    {
                                        "Country": "United Kingdom",
                                        "Series": "RateOutofSchoolFemale",
                                        "Timestamp": "2001",
                                        "Value": -0.13443951590821968
                                    },
                                    {
                                        "Country": "United Kingdom",
                                        "Series": "RateOutofSchoolMale",
                                        "Timestamp": "2001",
                                        "Value": -0.15435739802276316
                                    },
                                    {
                                        "Country": "United Kingdom",
                                        "Series": "GovernmentExpenditure",
                                        "Timestamp": "2002",
                                        "Value": 0.3207623665481527
                                    },
                                    {
                                        "Country": "United Kingdom",
                                        "Series": "PupilTeacherRatio",
                                        "Timestamp": "2002",
                                        "Value": 0.6032552923636422
                                    },
                                    {
                                        "Country": "United Kingdom",
                                        "Series": "RateOutofSchoolFemale",
                                        "Timestamp": "2002",
                                        "Value": -0.41100210962211947
                                    },
                                    {
                                        "Country": "United Kingdom",
                                        "Series": "RateOutofSchoolMale",
                                        "Timestamp": "2002",
                                        "Value": -0.3992176604405919
                                    },
                                    {
                                        "Country": "United Kingdom",
                                        "Series": "GovernmentExpenditure",
                                        "Timestamp": "2003",
                                        "Value": 0.47715314794959995
                                    },
                                    {
                                        "Country": "United Kingdom",
                                        "Series": "PupilTeacherRatio",
                                        "Timestamp": "2003",
                                        "Value": 0.5772898344589295
                                    },
                                    {
                                        "Country": "United Kingdom",
                                        "Series": "RateOutofSchoolFemale",
                                        "Timestamp": "2003",
                                        "Value": -0.4797890899418745
                                    },
                                    {
                                        "Country": "United Kingdom",
                                        "Series": "RateOutofSchoolMale",
                                        "Timestamp": "2003",
                                        "Value": -0.12091794979663761
                                    },
                                    {
                                        "Country": "United Kingdom",
                                        "Series": "GovernmentExpenditure",
                                        "Timestamp": "2004",
                                        "Value": 0.34829896021261364
                                    },
                                    {
                                        "Country": "United Kingdom",
                                        "Series": "PupilTeacherRatio",
                                        "Timestamp": "2004",
                                        "Value": 0.5733260573491807
                                    },
                                    {
                                        "Country": "United Kingdom",
                                        "Series": "RateOutofSchoolFemale",
                                        "Timestamp": "2004",
                                        "Value": -0.8038481697919845
                                    },
                                    {
                                        "Country": "United Kingdom",
                                        "Series": "RateOutofSchoolMale",
                                        "Timestamp": "2004",
                                        "Value": -0.5997235474308825
                                    },
                                    {
                                        "Country": "United Kingdom",
                                        "Series": "GovernmentExpenditure",
                                        "Timestamp": "2005",
                                        "Value": 0.3121314764560086
                                    },
                                    {
                                        "Country": "United Kingdom",
                                        "Series": "PupilTeacherRatio",
                                        "Timestamp": "2005",
                                        "Value": 0.48868714138554137
                                    },
                                    {
                                        "Country": "United Kingdom",
                                        "Series": "RateOutofSchoolFemale",
                                        "Timestamp": "2005",
                                        "Value": -0.8271335476855437
                                    },
                                    {
                                        "Country": "United Kingdom",
                                        "Series": "RateOutofSchoolMale",
                                        "Timestamp": "2005",
                                        "Value": -0.4846263029418161
                                    },
                                    {
                                        "Country": "United Kingdom",
                                        "Series": "GovernmentExpenditure",
                                        "Timestamp": "2006",
                                        "Value": -0.5002882127419274
                                    },
                                    {
                                        "Country": "United Kingdom",
                                        "Series": "PupilTeacherRatio",
                                        "Timestamp": "2006",
                                        "Value": 0.42812683020933273
                                    },
                                    {
                                        "Country": "United Kingdom",
                                        "Series": "RateOutofSchoolFemale",
                                        "Timestamp": "2006",
                                        "Value": -0.24669279573173108
                                    },
                                    {
                                        "Country": "United Kingdom",
                                        "Series": "RateOutofSchoolMale",
                                        "Timestamp": "2006",
                                        "Value": 0.16756490183635908
                                    },
                                    {
                                        "Country": "United Kingdom",
                                        "Series": "GovernmentExpenditure",
                                        "Timestamp": "2007",
                                        "Value": -0.5200025781302012
                                    },
                                    {
                                        "Country": "United Kingdom",
                                        "Series": "PupilTeacherRatio",
                                        "Timestamp": "2007",
                                        "Value": 0.32845259747837696
                                    },
                                    {
                                        "Country": "United Kingdom",
                                        "Series": "RateOutofSchoolFemale",
                                        "Timestamp": "2007",
                                        "Value": -0.11964869185174742
                                    },
                                    {
                                        "Country": "United Kingdom",
                                        "Series": "RateOutofSchoolMale",
                                        "Timestamp": "2007",
                                        "Value": 0.2199070596158299
                                    },
                                    {
                                        "Country": "United Kingdom",
                                        "Series": "GovernmentExpenditure",
                                        "Timestamp": "2008",
                                        "Value": -0.5228468520504
                                    },
                                    {
                                        "Country": "United Kingdom",
                                        "Series": "PupilTeacherRatio",
                                        "Timestamp": "2008",
                                        "Value": 0.377606169238756
                                    },
                                    {
                                        "Country": "United Kingdom",
                                        "Series": "RateOutofSchoolFemale",
                                        "Timestamp": "2008",
                                        "Value": -0.09070332037310824
                                    },
                                    {
                                        "Country": "United Kingdom",
                                        "Series": "RateOutofSchoolMale",
                                        "Timestamp": "2008",
                                        "Value": 0.09680435677936305
                                    },
                                    {
                                        "Country": "United Kingdom",
                                        "Series": "GovernmentExpenditure",
                                        "Timestamp": "2009",
                                        "Value": -0.3517072366536428
                                    },
                                    {
                                        "Country": "United Kingdom",
                                        "Series": "PupilTeacherRatio",
                                        "Timestamp": "2009",
                                        "Value": 0.377606169238756
                                    },
                                    {
                                        "Country": "United Kingdom",
                                        "Series": "RateOutofSchoolFemale",
                                        "Timestamp": "2009",
                                        "Value": -0.11384005987258816
                                    },
                                    {
                                        "Country": "United Kingdom",
                                        "Series": "RateOutofSchoolMale",
                                        "Timestamp": "2009",
                                        "Value": -0.09931434813580131
                                    },
                                    {
                                        "Country": "United Kingdom",
                                        "Series": "GovernmentExpenditure",
                                        "Timestamp": "2010",
                                        "Value": -0.19263177986860147
                                    },
                                    {
                                        "Country": "United Kingdom",
                                        "Series": "PupilTeacherRatio",
                                        "Timestamp": "2010",
                                        "Value": 0.6751200244285407
                                    },
                                    {
                                        "Country": "United Kingdom",
                                        "Series": "RateOutofSchoolFemale",
                                        "Timestamp": "2010",
                                        "Value": -0.1951139691405832
                                    },
                                    {
                                        "Country": "United Kingdom",
                                        "Series": "RateOutofSchoolMale",
                                        "Timestamp": "2010",
                                        "Value": -0.45306758063347247
                                    },
                                    {
                                        "Country": "United Kingdom",
                                        "Series": "GovernmentExpenditure",
                                        "Timestamp": "2011",
                                        "Value": 0.06230598254822861
                                    },
                                    {
                                        "Country": "United Kingdom",
                                        "Series": "PupilTeacherRatio",
                                        "Timestamp": "2011",
                                        "Value": 0.6751200244285407
                                    },
                                    {
                                        "Country": "United Kingdom",
                                        "Series": "RateOutofSchoolFemale",
                                        "Timestamp": "2011",
                                        "Value": 0.1728664523144563
                                    },
                                    {
                                        "Country": "United Kingdom",
                                        "Series": "RateOutofSchoolMale",
                                        "Timestamp": "2011",
                                        "Value": -0.113771544828976
                                    },
                                    {
                                        "Country": "United Kingdom",
                                        "Series": "GovernmentExpenditure",
                                        "Timestamp": "2012",
                                        "Value": 0.06230598254822861
                                    },
                                    {
                                        "Country": "United Kingdom",
                                        "Series": "PupilTeacherRatio",
                                        "Timestamp": "2012",
                                        "Value": 0.6751200244285407
                                    },
                                    {
                                        "Country": "United Kingdom",
                                        "Series": "RateOutofSchoolFemale",
                                        "Timestamp": "2012",
                                        "Value": 0.1694203884938238
                                    },
                                    {
                                        "Country": "United Kingdom",
                                        "Series": "RateOutofSchoolMale",
                                        "Timestamp": "2012",
                                        "Value": -0.17725841775094164
                                    },
                                    {
                                        "Country": "United Kingdom",
                                        "Series": "GovernmentExpenditure",
                                        "Timestamp": "2013",
                                        "Value": -0.05491329648730353
                                    },
                                    {
                                        "Country": "United Kingdom",
                                        "Series": "PupilTeacherRatio",
                                        "Timestamp": "2013",
                                        "Value": 0.6751200244285407
                                    },
                                    {
                                        "Country": "United Kingdom",
                                        "Series": "RateOutofSchoolFemale",
                                        "Timestamp": "2013",
                                        "Value": -0.43609592131031255
                                    },
                                    {
                                        "Country": "United Kingdom",
                                        "Series": "RateOutofSchoolMale",
                                        "Timestamp": "2013",
                                        "Value": -0.7800929403841701
                                    },
                                    {
                                        "Country": "United Kingdom",
                                        "Series": "GovernmentExpenditure",
                                        "Timestamp": "2014",
                                        "Value": -0.05491329648730353
                                    },
                                    {
                                        "Country": "United Kingdom",
                                        "Series": "PupilTeacherRatio",
                                        "Timestamp": "2014",
                                        "Value": 0.6682245372973268
                                    },
                                    {
                                        "Country": "United Kingdom",
                                        "Series": "RateOutofSchoolFemale",
                                        "Timestamp": "2014",
                                        "Value": -0.43609592131031255
                                    },
                                    {
                                        "Country": "United Kingdom",
                                        "Series": "RateOutofSchoolMale",
                                        "Timestamp": "2014",
                                        "Value": -0.7800929403841701
                                    }
                                ]
                            },
                            "encoding": {
                                "color": {
                                    "field": "Series",
                                    "type": "nominal"
                                },
                                "x": {
                                    "field": "Timestamp",
                                    "type": "ordinal"
                                },
                                "y": {
                                    "field": "Value",
                                    "type": "quantitative"
                                }
                            },
                            "mark": "line"
                        },
                        "image/png": "[encoded data removed]",
                        "image/svg+xml": [
                            "<svg class=\"marks\" width=\"693\" height=\"252\" viewBox=\"0 0 693 252\" version=\"1.1\" xmlns=\"http://www.w3.org/2000/svg\" xmlns:xlink=\"http://www.w3.org/1999/xlink\"><g transform=\"translate(44,5)\"><g class=\"mark-group role-frame root\"><g transform=\"translate(0,0)\"><path class=\"background\" d=\"M0.5,0.5h500v200h-500Z\" style=\"fill: none; stroke: #ddd;\"></path><g><g class=\"mark-group role-axis\"><g transform=\"translate(0.5,0.5)\"><path class=\"background\" d=\"M0,0h0v0h0Z\" style=\"pointer-events: none; fill: none;\"></path><g><g class=\"mark-rule role-axis-grid\" style=\"pointer-events: none;\"><line transform=\"translate(0,200)\" x2=\"500\" y2=\"0\" style=\"fill: none; stroke: #ddd; stroke-width: 1; opacity: 1;\"></line><line transform=\"translate(0,144)\" x2=\"500\" y2=\"0\" style=\"fill: none; stroke: #ddd; stroke-width: 1; opacity: 1;\"></line><line transform=\"translate(0,89)\" x2=\"500\" y2=\"0\" style=\"fill: none; stroke: #ddd; stroke-width: 1; opacity: 1;\"></line><line transform=\"translate(0,33)\" x2=\"500\" y2=\"0\" style=\"fill: none; stroke: #ddd; stroke-width: 1; opacity: 1;\"></line></g></g></g></g><g class=\"mark-group role-scope pathgroup\"><g transform=\"translate(0,0)\"><path class=\"background\" d=\"M0,0h500v200h-500Z\" style=\"fill: none;\"></path><g><g class=\"mark-line role-mark marks\"><path d=\"M10,88.88888888888889L30,88.88888888888889L50,88.88888888888889L70,88.88888888888889L90,88.88888888888889L110,88.88888888888889L130,88.88888888888889L150,88.88888888888889L170,88.88888888888889L190,98.55671477227656L210,83.5843323993852L230,81.9714582993116L250,53.24862593909414L270,35.87187245004444L290,50.1890044208207L310,54.20761372711016L330,144.47646808243638L350,146.66695312557792L370,146.98298356115558L390,127.96747073929365L410,110.29241998540016L430,81.96600193908571L450,81.96600193908571L470,94.99036627636708L490,94.99036627636708\" style=\"fill: none; stroke: #4c78a8; stroke-width: 2;\"></path></g></g></g><g transform=\"translate(0,0)\"><path class=\"background\" d=\"M0,0h500v200h-500Z\" style=\"fill: none;\"></path><g><g class=\"mark-line role-mark marks\"><path d=\"M10,88.88888888888889L30,88.88888888888889L50,88.88888888888889L70,88.88888888888889L90,89.46486482635103L110,114.15866370582575L130,124.98666395238436L150,120.39896883293704L170,120.39896883293704L190,38.61093835977858L210,30.738135605246786L230,34.50793384057276L250,21.86052307070645L270,24.74557394900785L290,25.185993627868818L310,34.59031762382874L330,41.31924108785194L350,52.3941558357359L370,46.93264786236044L390,46.93264786236044L410,13.875552841273265L430,13.875552841273265L450,13.875552841273265L470,13.875552841273265L490,14.641718078074817\" style=\"fill: none; stroke: #f58518; stroke-width: 2;\"></path></g></g></g><g transform=\"translate(0,0)\"><path class=\"background\" d=\"M0,0h500v200h-500Z\" style=\"fill: none;\"></path><g><g class=\"mark-line role-mark marks\"><path d=\"M10,88.88888888888889L30,88.88888888888889L50,88.88888888888889L70,88.88888888888889L90,88.88888888888889L110,88.88888888888889L130,88.88888888888889L150,88.88888888888889L170,88.88888888888889L190,113.37409444303917L210,100.1261543017197L230,103.82661287869108L250,134.55578995801326L270,142.1987877713194L290,178.20535219910937L310,180.79261640950486L330,116.2991995257479L350,102.1831879835275L370,98.96703559701203L390,101.53778443028759L410,110.56821879339813L430,69.68150529839374L450,70.064401278464L470,137.3439912567014L490,137.3439912567014\" style=\"fill: none; stroke: #e45756; stroke-width: 2;\"></path></g></g></g><g transform=\"translate(0,0)\"><path class=\"background\" d=\"M0,0h500v200h-500Z\" style=\"fill: none;\"></path><g><g class=\"mark-line role-mark marks\"><path d=\"M10,88.88888888888889L30,88.88888888888889L50,88.88888888888889L70,88.88888888888889L90,88.88888888888889L110,88.88888888888889L130,88.88888888888889L150,88.88888888888889L170,88.88888888888889L190,115.24811893038229L210,94.87751615340487L230,106.03971089141812L250,133.24640671562133L270,102.32421664407086L290,155.5248386034314L310,142.73625588242402L330,70.27056646262679L350,64.45477115379667L370,78.13284924673745L390,99.92381645953347L410,139.22973118149696L430,101.530171647664L450,108.5842686389935L470,175.5658822649078L490,175.5658822649078\" style=\"fill: none; stroke: #72b7b2; stroke-width: 2;\"></path></g></g></g></g><g class=\"mark-group role-legend\"><g transform=\"translate(518,0)\"><path class=\"background\" d=\"M0,0h126v66h-126Z\" style=\"pointer-events: none; fill: none;\"></path><g><g class=\"mark-group role-legend-entry\"><g transform=\"translate(0,16)\"><path class=\"background\" d=\"M0,0h0v0h0Z\" style=\"pointer-events: none; fill: none;\"></path><g><g class=\"mark-group role-scope\"><g transform=\"translate(0,0)\"><path class=\"background\" d=\"M0,0h126v11h-126Z\" style=\"pointer-events: none; fill: none; opacity: 1;\"></path><g><g class=\"mark-symbol role-legend-symbol\" style=\"pointer-events: none;\"><path transform=\"translate(6,6)\" d=\"M-5,0L5,0\" style=\"fill: none; stroke: #4c78a8; stroke-width: 1.5; opacity: 1;\"></path></g><g class=\"mark-text role-legend-label\" style=\"pointer-events: none;\"><text text-anchor=\"start\" transform=\"translate(16,9)\" style=\"font-family: sans-serif; font-size: 10px; fill: #000; opacity: 1;\">GovernmentExpenditure</text></g></g></g><g transform=\"translate(0,13)\"><path class=\"background\" d=\"M0,0h126v11h-126Z\" style=\"pointer-events: none; fill: none; opacity: 1;\"></path><g><g class=\"mark-symbol role-legend-symbol\" style=\"pointer-events: none;\"><path transform=\"translate(6,6)\" d=\"M-5,0L5,0\" style=\"fill: none; stroke: #f58518; stroke-width: 1.5; opacity: 1;\"></path></g><g class=\"mark-text role-legend-label\" style=\"pointer-events: none;\"><text text-anchor=\"start\" transform=\"translate(16,9)\" style=\"font-family: sans-serif; font-size: 10px; fill: #000; opacity: 1;\">PupilTeacherRatio</text></g></g></g><g transform=\"translate(0,26)\"><path class=\"background\" d=\"M0,0h126v11h-126Z\" style=\"pointer-events: none; fill: none; opacity: 1;\"></path><g><g class=\"mark-symbol role-legend-symbol\" style=\"pointer-events: none;\"><path transform=\"translate(6,6)\" d=\"M-5,0L5,0\" style=\"fill: none; stroke: #e45756; stroke-width: 1.5; opacity: 1;\"></path></g><g class=\"mark-text role-legend-label\" style=\"pointer-events: none;\"><text text-anchor=\"start\" transform=\"translate(16,9)\" style=\"font-family: sans-serif; font-size: 10px; fill: #000; opacity: 1;\">RateOutofSchoolFemale</text></g></g></g><g transform=\"translate(0,39)\"><path class=\"background\" d=\"M0,0h126v11h-126Z\" style=\"pointer-events: none; fill: none; opacity: 1;\"></path><g><g class=\"mark-symbol role-legend-symbol\" style=\"pointer-events: none;\"><path transform=\"translate(6,6)\" d=\"M-5,0L5,0\" style=\"fill: none; stroke: #72b7b2; stroke-width: 1.5; opacity: 1;\"></path></g><g class=\"mark-text role-legend-label\" style=\"pointer-events: none;\"><text text-anchor=\"start\" transform=\"translate(16,9)\" style=\"font-family: sans-serif; font-size: 10px; fill: #000; opacity: 1;\">RateOutofSchoolMale</text></g></g></g></g></g></g></g><g class=\"mark-text role-legend-title\" style=\"pointer-events: none;\"><text text-anchor=\"start\" transform=\"translate(0,9)\" style=\"font-family: sans-serif; font-size: 11px; font-weight: bold; fill: #000; opacity: 1;\">Series</text></g></g></g></g><g class=\"mark-group role-axis\"><g transform=\"translate(0.5,200.5)\"><path class=\"background\" d=\"M0,0h0v0h0Z\" style=\"pointer-events: none; fill: none;\"></path><g><g class=\"mark-rule role-axis-tick\" style=\"pointer-events: none;\"><line transform=\"translate(10,0)\" x2=\"0\" y2=\"5\" style=\"fill: none; stroke: #888; stroke-width: 1; opacity: 1;\"></line><line transform=\"translate(30,0)\" x2=\"0\" y2=\"5\" style=\"fill: none; stroke: #888; stroke-width: 1; opacity: 1;\"></line><line transform=\"translate(50,0)\" x2=\"0\" y2=\"5\" style=\"fill: none; stroke: #888; stroke-width: 1; opacity: 1;\"></line><line transform=\"translate(70,0)\" x2=\"0\" y2=\"5\" style=\"fill: none; stroke: #888; stroke-width: 1; opacity: 1;\"></line><line transform=\"translate(90,0)\" x2=\"0\" y2=\"5\" style=\"fill: none; stroke: #888; stroke-width: 1; opacity: 1;\"></line><line transform=\"translate(110,0)\" x2=\"0\" y2=\"5\" style=\"fill: none; stroke: #888; stroke-width: 1; opacity: 1;\"></line><line transform=\"translate(130,0)\" x2=\"0\" y2=\"5\" style=\"fill: none; stroke: #888; stroke-width: 1; opacity: 1;\"></line><line transform=\"translate(150,0)\" x2=\"0\" y2=\"5\" style=\"fill: none; stroke: #888; stroke-width: 1; opacity: 1;\"></line><line transform=\"translate(170,0)\" x2=\"0\" y2=\"5\" style=\"fill: none; stroke: #888; stroke-width: 1; opacity: 1;\"></line><line transform=\"translate(190,0)\" x2=\"0\" y2=\"5\" style=\"fill: none; stroke: #888; stroke-width: 1; opacity: 1;\"></line><line transform=\"translate(210,0)\" x2=\"0\" y2=\"5\" style=\"fill: none; stroke: #888; stroke-width: 1; opacity: 1;\"></line><line transform=\"translate(230,0)\" x2=\"0\" y2=\"5\" style=\"fill: none; stroke: #888; stroke-width: 1; opacity: 1;\"></line><line transform=\"translate(250,0)\" x2=\"0\" y2=\"5\" style=\"fill: none; stroke: #888; stroke-width: 1; opacity: 1;\"></line><line transform=\"translate(270,0)\" x2=\"0\" y2=\"5\" style=\"fill: none; stroke: #888; stroke-width: 1; opacity: 1;\"></line><line transform=\"translate(290,0)\" x2=\"0\" y2=\"5\" style=\"fill: none; stroke: #888; stroke-width: 1; opacity: 1;\"></line><line transform=\"translate(310,0)\" x2=\"0\" y2=\"5\" style=\"fill: none; stroke: #888; stroke-width: 1; opacity: 1;\"></line><line transform=\"translate(330,0)\" x2=\"0\" y2=\"5\" style=\"fill: none; stroke: #888; stroke-width: 1; opacity: 1;\"></line><line transform=\"translate(350,0)\" x2=\"0\" y2=\"5\" style=\"fill: none; stroke: #888; stroke-width: 1; opacity: 1;\"></line><line transform=\"translate(370,0)\" x2=\"0\" y2=\"5\" style=\"fill: none; stroke: #888; stroke-width: 1; opacity: 1;\"></line><line transform=\"translate(390,0)\" x2=\"0\" y2=\"5\" style=\"fill: none; stroke: #888; stroke-width: 1; opacity: 1;\"></line><line transform=\"translate(410,0)\" x2=\"0\" y2=\"5\" style=\"fill: none; stroke: #888; stroke-width: 1; opacity: 1;\"></line><line transform=\"translate(430,0)\" x2=\"0\" y2=\"5\" style=\"fill: none; stroke: #888; stroke-width: 1; opacity: 1;\"></line><line transform=\"translate(450,0)\" x2=\"0\" y2=\"5\" style=\"fill: none; stroke: #888; stroke-width: 1; opacity: 1;\"></line><line transform=\"translate(470,0)\" x2=\"0\" y2=\"5\" style=\"fill: none; stroke: #888; stroke-width: 1; opacity: 1;\"></line><line transform=\"translate(490,0)\" x2=\"0\" y2=\"5\" style=\"fill: none; stroke: #888; stroke-width: 1; opacity: 1;\"></line></g><g class=\"mark-text role-axis-label\" style=\"pointer-events: none;\"><text text-anchor=\"end\" transform=\"translate(10,7) rotate(270) translate(0,3)\" style=\"font-family: sans-serif; font-size: 10px; fill: #000; opacity: 1;\">1990</text><text text-anchor=\"end\" transform=\"translate(30,7) rotate(270) translate(0,3)\" style=\"font-family: sans-serif; font-size: 10px; fill: #000; opacity: 1;\">1991</text><text text-anchor=\"end\" transform=\"translate(50,7) rotate(270) translate(0,3)\" style=\"font-family: sans-serif; font-size: 10px; fill: #000; opacity: 1;\">1992</text><text text-anchor=\"end\" transform=\"translate(70,7) rotate(270) translate(0,3)\" style=\"font-family: sans-serif; font-size: 10px; fill: #000; opacity: 1;\">1993</text><text text-anchor=\"end\" transform=\"translate(90,7) rotate(270) translate(0,3)\" style=\"font-family: sans-serif; font-size: 10px; fill: #000; opacity: 1;\">1994</text><text text-anchor=\"end\" transform=\"translate(110,7) rotate(270) translate(0,3)\" style=\"font-family: sans-serif; font-size: 10px; fill: #000; opacity: 1;\">1995</text><text text-anchor=\"end\" transform=\"translate(130,7) rotate(270) translate(0,3)\" style=\"font-family: sans-serif; font-size: 10px; fill: #000; opacity: 1;\">1996</text><text text-anchor=\"end\" transform=\"translate(150,7) rotate(270) translate(0,3)\" style=\"font-family: sans-serif; font-size: 10px; fill: #000; opacity: 1;\">1997</text><text text-anchor=\"end\" transform=\"translate(170,7) rotate(270) translate(0,3)\" style=\"font-family: sans-serif; font-size: 10px; fill: #000; opacity: 1;\">1998</text><text text-anchor=\"end\" transform=\"translate(190,7) rotate(270) translate(0,3)\" style=\"font-family: sans-serif; font-size: 10px; fill: #000; opacity: 1;\">1999</text><text text-anchor=\"end\" transform=\"translate(210,7) rotate(270) translate(0,3)\" style=\"font-family: sans-serif; font-size: 10px; fill: #000; opacity: 1;\">2000</text><text text-anchor=\"end\" transform=\"translate(230,7) rotate(270) translate(0,3)\" style=\"font-family: sans-serif; font-size: 10px; fill: #000; opacity: 1;\">2001</text><text text-anchor=\"end\" transform=\"translate(250,7) rotate(270) translate(0,3)\" style=\"font-family: sans-serif; font-size: 10px; fill: #000; opacity: 1;\">2002</text><text text-anchor=\"end\" transform=\"translate(270,7) rotate(270) translate(0,3)\" style=\"font-family: sans-serif; font-size: 10px; fill: #000; opacity: 1;\">2003</text><text text-anchor=\"end\" transform=\"translate(290,7) rotate(270) translate(0,3)\" style=\"font-family: sans-serif; font-size: 10px; fill: #000; opacity: 1;\">2004</text><text text-anchor=\"end\" transform=\"translate(310,7) rotate(270) translate(0,3)\" style=\"font-family: sans-serif; font-size: 10px; fill: #000; opacity: 1;\">2005</text><text text-anchor=\"end\" transform=\"translate(330,7) rotate(270) translate(0,3)\" style=\"font-family: sans-serif; font-size: 10px; fill: #000; opacity: 1;\">2006</text><text text-anchor=\"end\" transform=\"translate(350,7) rotate(270) translate(0,3)\" style=\"font-family: sans-serif; font-size: 10px; fill: #000; opacity: 1;\">2007</text><text text-anchor=\"end\" transform=\"translate(370,7) rotate(270) translate(0,3)\" style=\"font-family: sans-serif; font-size: 10px; fill: #000; opacity: 1;\">2008</text><text text-anchor=\"end\" transform=\"translate(390,7) rotate(270) translate(0,3)\" style=\"font-family: sans-serif; font-size: 10px; fill: #000; opacity: 1;\">2009</text><text text-anchor=\"end\" transform=\"translate(410,7) rotate(270) translate(0,3)\" style=\"font-family: sans-serif; font-size: 10px; fill: #000; opacity: 1;\">2010</text><text text-anchor=\"end\" transform=\"translate(430,7) rotate(270) translate(0,3)\" style=\"font-family: sans-serif; font-size: 10px; fill: #000; opacity: 1;\">2011</text><text text-anchor=\"end\" transform=\"translate(450,7) rotate(270) translate(0,3)\" style=\"font-family: sans-serif; font-size: 10px; fill: #000; opacity: 1;\">2012</text><text text-anchor=\"end\" transform=\"translate(470,7) rotate(270) translate(0,3)\" style=\"font-family: sans-serif; font-size: 10px; fill: #000; opacity: 1;\">2013</text><text text-anchor=\"end\" transform=\"translate(490,7) rotate(270) translate(0,3)\" style=\"font-family: sans-serif; font-size: 10px; fill: #000; opacity: 1;\">2014</text></g><g class=\"mark-rule role-axis-domain\" style=\"pointer-events: none;\"><line transform=\"translate(0,0)\" x2=\"500\" y2=\"0\" style=\"fill: none; stroke: #888; stroke-width: 1; opacity: 1;\"></line></g><g class=\"mark-text role-axis-title\" style=\"pointer-events: none;\"><text text-anchor=\"middle\" transform=\"translate(250,40)\" style=\"font-family: sans-serif; font-size: 11px; font-weight: bold; fill: #000; opacity: 1;\">Timestamp</text></g></g></g></g><g class=\"mark-group role-axis\"><g transform=\"translate(0.5,0.5)\"><path class=\"background\" d=\"M0,0h0v0h0Z\" style=\"pointer-events: none; fill: none;\"></path><g><g class=\"mark-rule role-axis-tick\" style=\"pointer-events: none;\"><line transform=\"translate(0,200)\" x2=\"-5\" y2=\"0\" style=\"fill: none; stroke: #888; stroke-width: 1; opacity: 1;\"></line><line transform=\"translate(0,144)\" x2=\"-5\" y2=\"0\" style=\"fill: none; stroke: #888; stroke-width: 1; opacity: 1;\"></line><line transform=\"translate(0,89)\" x2=\"-5\" y2=\"0\" style=\"fill: none; stroke: #888; stroke-width: 1; opacity: 1;\"></line><line transform=\"translate(0,33)\" x2=\"-5\" y2=\"0\" style=\"fill: none; stroke: #888; stroke-width: 1; opacity: 1;\"></line></g><g class=\"mark-text role-axis-label\" style=\"pointer-events: none;\"><text text-anchor=\"end\" transform=\"translate(-7,203)\" style=\"font-family: sans-serif; font-size: 10px; fill: #000; opacity: 1;\">-1.0</text><text text-anchor=\"end\" transform=\"translate(-7,147.44444444444443)\" style=\"font-family: sans-serif; font-size: 10px; fill: #000; opacity: 1;\">-0.5</text><text text-anchor=\"end\" transform=\"translate(-7,91.88888888888889)\" style=\"font-family: sans-serif; font-size: 10px; fill: #000; opacity: 1;\">0.0</text><text text-anchor=\"end\" transform=\"translate(-7,36.33333333333335)\" style=\"font-family: sans-serif; font-size: 10px; fill: #000; opacity: 1;\">0.5</text></g><g class=\"mark-rule role-axis-domain\" style=\"pointer-events: none;\"><line transform=\"translate(0,200)\" x2=\"0\" y2=\"-200\" style=\"fill: none; stroke: #888; stroke-width: 1; opacity: 1;\"></line></g><g class=\"mark-text role-axis-title\" style=\"pointer-events: none;\"><text text-anchor=\"middle\" transform=\"translate(-28,100) rotate(-90) translate(0,-2)\" style=\"font-family: sans-serif; font-size: 11px; font-weight: bold; fill: #000; opacity: 1;\">Value</text></g></g></g></g></g></g></g></g></svg>"
                        ],
                        "text/plain": [
                            "VegaLite.VLSpec{:plot}"
                        ]
                    },
                    "execution_count": 18,
                    "metadata": {},
                    "output_type": "execute_result"
                }
            ],
            "source": [
                "graph = dfTranspose |>\n",
                "    @filter(_.Country == \"United Kingdom\") |>\n",
                "    @filter(_.Series != \"RateOutofSchoolBothSexes\") |> \n",
                "    @vlplot(:line, x=:\"Timestamp:o\", y=:Value, color=:Series)"
            ]
        },
        {
            "cell_type": "markdown",
            "metadata": {},
            "source": [
                "Let's see Turkey and Zimbabwe out of school rate and pupil tearch ratio.  Zimbabwe out of school rate for males is higher than famales.  Turkey does not show a gender differnce.  "
            ]
        },
        {
            "cell_type": "code",
            "execution_count": 19,
            "metadata": {},
            "outputs": [
                {
                    "data": {
                        "application/vnd.vegalite.v3+json": {
                            "data": {
                                "values": [
                                    {
                                        "Country": "Turkey",
                                        "Series": "PupilTeacherRatio",
                                        "Timestamp": "1990",
                                        "Value": 0
                                    },
                                    {
                                        "Country": "Turkey",
                                        "Series": "RateOutofSchoolFemale",
                                        "Timestamp": "1990",
                                        "Value": 0
                                    },
                                    {
                                        "Country": "Turkey",
                                        "Series": "RateOutofSchoolMale",
                                        "Timestamp": "1990",
                                        "Value": 0
                                    },
                                    {
                                        "Country": "Zimbabwe",
                                        "Series": "PupilTeacherRatio",
                                        "Timestamp": "1990",
                                        "Value": 0
                                    },
                                    {
                                        "Country": "Zimbabwe",
                                        "Series": "RateOutofSchoolFemale",
                                        "Timestamp": "1990",
                                        "Value": 0
                                    },
                                    {
                                        "Country": "Zimbabwe",
                                        "Series": "RateOutofSchoolMale",
                                        "Timestamp": "1990",
                                        "Value": 0
                                    },
                                    {
                                        "Country": "Turkey",
                                        "Series": "PupilTeacherRatio",
                                        "Timestamp": "1991",
                                        "Value": 0.10297303092494958
                                    },
                                    {
                                        "Country": "Turkey",
                                        "Series": "RateOutofSchoolFemale",
                                        "Timestamp": "1991",
                                        "Value": 0
                                    },
                                    {
                                        "Country": "Turkey",
                                        "Series": "RateOutofSchoolMale",
                                        "Timestamp": "1991",
                                        "Value": 0
                                    },
                                    {
                                        "Country": "Zimbabwe",
                                        "Series": "PupilTeacherRatio",
                                        "Timestamp": "1991",
                                        "Value": 0
                                    },
                                    {
                                        "Country": "Zimbabwe",
                                        "Series": "RateOutofSchoolFemale",
                                        "Timestamp": "1991",
                                        "Value": 0
                                    },
                                    {
                                        "Country": "Zimbabwe",
                                        "Series": "RateOutofSchoolMale",
                                        "Timestamp": "1991",
                                        "Value": 0
                                    },
                                    {
                                        "Country": "Turkey",
                                        "Series": "PupilTeacherRatio",
                                        "Timestamp": "1992",
                                        "Value": 0.01793770750672774
                                    },
                                    {
                                        "Country": "Turkey",
                                        "Series": "RateOutofSchoolFemale",
                                        "Timestamp": "1992",
                                        "Value": 0
                                    },
                                    {
                                        "Country": "Turkey",
                                        "Series": "RateOutofSchoolMale",
                                        "Timestamp": "1992",
                                        "Value": 0
                                    },
                                    {
                                        "Country": "Zimbabwe",
                                        "Series": "PupilTeacherRatio",
                                        "Timestamp": "1992",
                                        "Value": 0.016187044458600197
                                    },
                                    {
                                        "Country": "Zimbabwe",
                                        "Series": "RateOutofSchoolFemale",
                                        "Timestamp": "1992",
                                        "Value": 0
                                    },
                                    {
                                        "Country": "Zimbabwe",
                                        "Series": "RateOutofSchoolMale",
                                        "Timestamp": "1992",
                                        "Value": 0
                                    },
                                    {
                                        "Country": "Turkey",
                                        "Series": "PupilTeacherRatio",
                                        "Timestamp": "1993",
                                        "Value": 0.12879341504720565
                                    },
                                    {
                                        "Country": "Turkey",
                                        "Series": "RateOutofSchoolFemale",
                                        "Timestamp": "1993",
                                        "Value": 0
                                    },
                                    {
                                        "Country": "Turkey",
                                        "Series": "RateOutofSchoolMale",
                                        "Timestamp": "1993",
                                        "Value": 0
                                    },
                                    {
                                        "Country": "Zimbabwe",
                                        "Series": "PupilTeacherRatio",
                                        "Timestamp": "1993",
                                        "Value": 0.2263425118640513
                                    },
                                    {
                                        "Country": "Zimbabwe",
                                        "Series": "RateOutofSchoolFemale",
                                        "Timestamp": "1993",
                                        "Value": 0
                                    },
                                    {
                                        "Country": "Zimbabwe",
                                        "Series": "RateOutofSchoolMale",
                                        "Timestamp": "1993",
                                        "Value": 0
                                    },
                                    {
                                        "Country": "Turkey",
                                        "Series": "PupilTeacherRatio",
                                        "Timestamp": "1994",
                                        "Value": 0.07836228867995143
                                    },
                                    {
                                        "Country": "Turkey",
                                        "Series": "RateOutofSchoolFemale",
                                        "Timestamp": "1994",
                                        "Value": 0
                                    },
                                    {
                                        "Country": "Turkey",
                                        "Series": "RateOutofSchoolMale",
                                        "Timestamp": "1994",
                                        "Value": 0
                                    },
                                    {
                                        "Country": "Zimbabwe",
                                        "Series": "PupilTeacherRatio",
                                        "Timestamp": "1994",
                                        "Value": -0.32471030475386314
                                    },
                                    {
                                        "Country": "Zimbabwe",
                                        "Series": "RateOutofSchoolFemale",
                                        "Timestamp": "1994",
                                        "Value": 0
                                    },
                                    {
                                        "Country": "Zimbabwe",
                                        "Series": "RateOutofSchoolMale",
                                        "Timestamp": "1994",
                                        "Value": 0
                                    },
                                    {
                                        "Country": "Turkey",
                                        "Series": "PupilTeacherRatio",
                                        "Timestamp": "1995",
                                        "Value": 0.01019631206135252
                                    },
                                    {
                                        "Country": "Turkey",
                                        "Series": "RateOutofSchoolFemale",
                                        "Timestamp": "1995",
                                        "Value": 0
                                    },
                                    {
                                        "Country": "Turkey",
                                        "Series": "RateOutofSchoolMale",
                                        "Timestamp": "1995",
                                        "Value": 0
                                    },
                                    {
                                        "Country": "Zimbabwe",
                                        "Series": "PupilTeacherRatio",
                                        "Timestamp": "1995",
                                        "Value": -0.3008630852553165
                                    },
                                    {
                                        "Country": "Zimbabwe",
                                        "Series": "RateOutofSchoolFemale",
                                        "Timestamp": "1995",
                                        "Value": 0
                                    },
                                    {
                                        "Country": "Zimbabwe",
                                        "Series": "RateOutofSchoolMale",
                                        "Timestamp": "1995",
                                        "Value": 0
                                    },
                                    {
                                        "Country": "Turkey",
                                        "Series": "PupilTeacherRatio",
                                        "Timestamp": "1996",
                                        "Value": 0.01019631206135252
                                    },
                                    {
                                        "Country": "Turkey",
                                        "Series": "RateOutofSchoolFemale",
                                        "Timestamp": "1996",
                                        "Value": 0
                                    },
                                    {
                                        "Country": "Turkey",
                                        "Series": "RateOutofSchoolMale",
                                        "Timestamp": "1996",
                                        "Value": 0
                                    },
                                    {
                                        "Country": "Zimbabwe",
                                        "Series": "PupilTeacherRatio",
                                        "Timestamp": "1996",
                                        "Value": -0.20887990730356953
                                    },
                                    {
                                        "Country": "Zimbabwe",
                                        "Series": "RateOutofSchoolFemale",
                                        "Timestamp": "1996",
                                        "Value": 0
                                    },
                                    {
                                        "Country": "Zimbabwe",
                                        "Series": "RateOutofSchoolMale",
                                        "Timestamp": "1996",
                                        "Value": 0
                                    },
                                    {
                                        "Country": "Turkey",
                                        "Series": "PupilTeacherRatio",
                                        "Timestamp": "1997",
                                        "Value": -0.24675662818108468
                                    },
                                    {
                                        "Country": "Turkey",
                                        "Series": "RateOutofSchoolFemale",
                                        "Timestamp": "1997",
                                        "Value": 0
                                    },
                                    {
                                        "Country": "Turkey",
                                        "Series": "RateOutofSchoolMale",
                                        "Timestamp": "1997",
                                        "Value": 0
                                    },
                                    {
                                        "Country": "Zimbabwe",
                                        "Series": "PupilTeacherRatio",
                                        "Timestamp": "1997",
                                        "Value": -0.05882038200676787
                                    },
                                    {
                                        "Country": "Zimbabwe",
                                        "Series": "RateOutofSchoolFemale",
                                        "Timestamp": "1997",
                                        "Value": 0
                                    },
                                    {
                                        "Country": "Zimbabwe",
                                        "Series": "RateOutofSchoolMale",
                                        "Timestamp": "1997",
                                        "Value": 0
                                    },
                                    {
                                        "Country": "Turkey",
                                        "Series": "PupilTeacherRatio",
                                        "Timestamp": "1998",
                                        "Value": -0.24675662818108468
                                    },
                                    {
                                        "Country": "Turkey",
                                        "Series": "RateOutofSchoolFemale",
                                        "Timestamp": "1998",
                                        "Value": 0
                                    },
                                    {
                                        "Country": "Turkey",
                                        "Series": "RateOutofSchoolMale",
                                        "Timestamp": "1998",
                                        "Value": 0
                                    },
                                    {
                                        "Country": "Zimbabwe",
                                        "Series": "PupilTeacherRatio",
                                        "Timestamp": "1998",
                                        "Value": -0.05882038200676787
                                    },
                                    {
                                        "Country": "Zimbabwe",
                                        "Series": "RateOutofSchoolFemale",
                                        "Timestamp": "1998",
                                        "Value": 0
                                    },
                                    {
                                        "Country": "Zimbabwe",
                                        "Series": "RateOutofSchoolMale",
                                        "Timestamp": "1998",
                                        "Value": 0
                                    },
                                    {
                                        "Country": "Turkey",
                                        "Series": "PupilTeacherRatio",
                                        "Timestamp": "1999",
                                        "Value": -0.8712065849527943
                                    },
                                    {
                                        "Country": "Turkey",
                                        "Series": "RateOutofSchoolFemale",
                                        "Timestamp": "1999",
                                        "Value": 0
                                    },
                                    {
                                        "Country": "Turkey",
                                        "Series": "RateOutofSchoolMale",
                                        "Timestamp": "1999",
                                        "Value": 0
                                    },
                                    {
                                        "Country": "Zimbabwe",
                                        "Series": "PupilTeacherRatio",
                                        "Timestamp": "1999",
                                        "Value": -0.11413814765149644
                                    },
                                    {
                                        "Country": "Zimbabwe",
                                        "Series": "RateOutofSchoolFemale",
                                        "Timestamp": "1999",
                                        "Value": 0
                                    },
                                    {
                                        "Country": "Zimbabwe",
                                        "Series": "RateOutofSchoolMale",
                                        "Timestamp": "1999",
                                        "Value": 0
                                    },
                                    {
                                        "Country": "Turkey",
                                        "Series": "PupilTeacherRatio",
                                        "Timestamp": "2000",
                                        "Value": -0.8712065849527943
                                    },
                                    {
                                        "Country": "Turkey",
                                        "Series": "RateOutofSchoolFemale",
                                        "Timestamp": "2000",
                                        "Value": 9.375086664342724e-05
                                    },
                                    {
                                        "Country": "Turkey",
                                        "Series": "RateOutofSchoolMale",
                                        "Timestamp": "2000",
                                        "Value": 0.05729175921337426
                                    },
                                    {
                                        "Country": "Zimbabwe",
                                        "Series": "PupilTeacherRatio",
                                        "Timestamp": "2000",
                                        "Value": -0.45793995781616015
                                    },
                                    {
                                        "Country": "Zimbabwe",
                                        "Series": "RateOutofSchoolFemale",
                                        "Timestamp": "2000",
                                        "Value": 0.11645705716751342
                                    },
                                    {
                                        "Country": "Zimbabwe",
                                        "Series": "RateOutofSchoolMale",
                                        "Timestamp": "2000",
                                        "Value": 0.134793247691463
                                    },
                                    {
                                        "Country": "Turkey",
                                        "Series": "PupilTeacherRatio",
                                        "Timestamp": "2001",
                                        "Value": -0.8712065849527943
                                    },
                                    {
                                        "Country": "Turkey",
                                        "Series": "RateOutofSchoolFemale",
                                        "Timestamp": "2001",
                                        "Value": -0.07534550998385359
                                    },
                                    {
                                        "Country": "Turkey",
                                        "Series": "RateOutofSchoolMale",
                                        "Timestamp": "2001",
                                        "Value": -0.07924400280881327
                                    },
                                    {
                                        "Country": "Zimbabwe",
                                        "Series": "PupilTeacherRatio",
                                        "Timestamp": "2001",
                                        "Value": -0.4914704805257527
                                    },
                                    {
                                        "Country": "Zimbabwe",
                                        "Series": "RateOutofSchoolFemale",
                                        "Timestamp": "2001",
                                        "Value": 0.05215863595852166
                                    },
                                    {
                                        "Country": "Zimbabwe",
                                        "Series": "RateOutofSchoolMale",
                                        "Timestamp": "2001",
                                        "Value": 0.04831198425492676
                                    },
                                    {
                                        "Country": "Turkey",
                                        "Series": "PupilTeacherRatio",
                                        "Timestamp": "2002",
                                        "Value": -0.8712065849527943
                                    },
                                    {
                                        "Country": "Turkey",
                                        "Series": "RateOutofSchoolFemale",
                                        "Timestamp": "2002",
                                        "Value": -0.07295559914779959
                                    },
                                    {
                                        "Country": "Turkey",
                                        "Series": "RateOutofSchoolMale",
                                        "Timestamp": "2002",
                                        "Value": -0.08251645439331146
                                    },
                                    {
                                        "Country": "Zimbabwe",
                                        "Series": "PupilTeacherRatio",
                                        "Timestamp": "2002",
                                        "Value": -0.2973473448083225
                                    },
                                    {
                                        "Country": "Zimbabwe",
                                        "Series": "RateOutofSchoolFemale",
                                        "Timestamp": "2002",
                                        "Value": 0.23898223860115764
                                    },
                                    {
                                        "Country": "Zimbabwe",
                                        "Series": "RateOutofSchoolMale",
                                        "Timestamp": "2002",
                                        "Value": 0.36835048749074534
                                    },
                                    {
                                        "Country": "Turkey",
                                        "Series": "PupilTeacherRatio",
                                        "Timestamp": "2003",
                                        "Value": -0.8712065849527943
                                    },
                                    {
                                        "Country": "Turkey",
                                        "Series": "RateOutofSchoolFemale",
                                        "Timestamp": "2003",
                                        "Value": -0.17374563426510714
                                    },
                                    {
                                        "Country": "Turkey",
                                        "Series": "RateOutofSchoolMale",
                                        "Timestamp": "2003",
                                        "Value": -0.23580868218094997
                                    },
                                    {
                                        "Country": "Zimbabwe",
                                        "Series": "PupilTeacherRatio",
                                        "Timestamp": "2003",
                                        "Value": -0.7736574881359487
                                    },
                                    {
                                        "Country": "Zimbabwe",
                                        "Series": "RateOutofSchoolFemale",
                                        "Timestamp": "2003",
                                        "Value": 0.5312424844738073
                                    },
                                    {
                                        "Country": "Zimbabwe",
                                        "Series": "RateOutofSchoolMale",
                                        "Timestamp": "2003",
                                        "Value": 0.9760152834272785
                                    },
                                    {
                                        "Country": "Turkey",
                                        "Series": "PupilTeacherRatio",
                                        "Timestamp": "2004",
                                        "Value": -0.8712065849527943
                                    },
                                    {
                                        "Country": "Turkey",
                                        "Series": "RateOutofSchoolFemale",
                                        "Timestamp": "2004",
                                        "Value": -0.263366308932666
                                    },
                                    {
                                        "Country": "Turkey",
                                        "Series": "RateOutofSchoolMale",
                                        "Timestamp": "2004",
                                        "Value": -0.3087453595024162
                                    },
                                    {
                                        "Country": "Zimbabwe",
                                        "Series": "PupilTeacherRatio",
                                        "Timestamp": "2004",
                                        "Value": -0.7736574881359487
                                    },
                                    {
                                        "Country": "Zimbabwe",
                                        "Series": "RateOutofSchoolFemale",
                                        "Timestamp": "2004",
                                        "Value": 0.5312424844738073
                                    },
                                    {
                                        "Country": "Zimbabwe",
                                        "Series": "RateOutofSchoolMale",
                                        "Timestamp": "2004",
                                        "Value": 0.9760152834272785
                                    },
                                    {
                                        "Country": "Turkey",
                                        "Series": "PupilTeacherRatio",
                                        "Timestamp": "2005",
                                        "Value": -0.8712065849527943
                                    },
                                    {
                                        "Country": "Turkey",
                                        "Series": "RateOutofSchoolFemale",
                                        "Timestamp": "2005",
                                        "Value": -0.3524931963130876
                                    },
                                    {
                                        "Country": "Turkey",
                                        "Series": "RateOutofSchoolMale",
                                        "Timestamp": "2005",
                                        "Value": -0.38739508905214404
                                    },
                                    {
                                        "Country": "Zimbabwe",
                                        "Series": "PupilTeacherRatio",
                                        "Timestamp": "2005",
                                        "Value": -0.7594433469849091
                                    },
                                    {
                                        "Country": "Zimbabwe",
                                        "Series": "RateOutofSchoolFemale",
                                        "Timestamp": "2005",
                                        "Value": -0.37802566242732016
                                    },
                                    {
                                        "Country": "Zimbabwe",
                                        "Series": "RateOutofSchoolMale",
                                        "Timestamp": "2005",
                                        "Value": 0.0279332626949558
                                    },
                                    {
                                        "Country": "Turkey",
                                        "Series": "PupilTeacherRatio",
                                        "Timestamp": "2006",
                                        "Value": -0.8712065849527943
                                    },
                                    {
                                        "Country": "Turkey",
                                        "Series": "RateOutofSchoolFemale",
                                        "Timestamp": "2006",
                                        "Value": -0.42291334990253104
                                    },
                                    {
                                        "Country": "Turkey",
                                        "Series": "RateOutofSchoolMale",
                                        "Timestamp": "2006",
                                        "Value": -0.47895528998626535
                                    },
                                    {
                                        "Country": "Zimbabwe",
                                        "Series": "PupilTeacherRatio",
                                        "Timestamp": "2006",
                                        "Value": -0.7594433469849091
                                    },
                                    {
                                        "Country": "Zimbabwe",
                                        "Series": "RateOutofSchoolFemale",
                                        "Timestamp": "2006",
                                        "Value": -0.37802566242732016
                                    },
                                    {
                                        "Country": "Zimbabwe",
                                        "Series": "RateOutofSchoolMale",
                                        "Timestamp": "2006",
                                        "Value": 0.0279332626949558
                                    },
                                    {
                                        "Country": "Turkey",
                                        "Series": "PupilTeacherRatio",
                                        "Timestamp": "2007",
                                        "Value": -0.8712065849527943
                                    },
                                    {
                                        "Country": "Turkey",
                                        "Series": "RateOutofSchoolFemale",
                                        "Timestamp": "2007",
                                        "Value": -0.47246853639926467
                                    },
                                    {
                                        "Country": "Turkey",
                                        "Series": "RateOutofSchoolMale",
                                        "Timestamp": "2007",
                                        "Value": -0.525777836568931
                                    },
                                    {
                                        "Country": "Zimbabwe",
                                        "Series": "PupilTeacherRatio",
                                        "Timestamp": "2007",
                                        "Value": -0.7594433469849091
                                    },
                                    {
                                        "Country": "Zimbabwe",
                                        "Series": "RateOutofSchoolFemale",
                                        "Timestamp": "2007",
                                        "Value": -0.37802566242732016
                                    },
                                    {
                                        "Country": "Zimbabwe",
                                        "Series": "RateOutofSchoolMale",
                                        "Timestamp": "2007",
                                        "Value": 0.0279332626949558
                                    },
                                    {
                                        "Country": "Turkey",
                                        "Series": "PupilTeacherRatio",
                                        "Timestamp": "2008",
                                        "Value": -0.8712065849527943
                                    },
                                    {
                                        "Country": "Turkey",
                                        "Series": "RateOutofSchoolFemale",
                                        "Timestamp": "2008",
                                        "Value": -0.5006566241981785
                                    },
                                    {
                                        "Country": "Turkey",
                                        "Series": "RateOutofSchoolMale",
                                        "Timestamp": "2008",
                                        "Value": -0.4659846015440575
                                    },
                                    {
                                        "Country": "Zimbabwe",
                                        "Series": "PupilTeacherRatio",
                                        "Timestamp": "2008",
                                        "Value": -0.7594433469849091
                                    },
                                    {
                                        "Country": "Zimbabwe",
                                        "Series": "RateOutofSchoolFemale",
                                        "Timestamp": "2008",
                                        "Value": -0.37802566242732016
                                    },
                                    {
                                        "Country": "Zimbabwe",
                                        "Series": "RateOutofSchoolMale",
                                        "Timestamp": "2008",
                                        "Value": 0.0279332626949558
                                    },
                                    {
                                        "Country": "Turkey",
                                        "Series": "PupilTeacherRatio",
                                        "Timestamp": "2009",
                                        "Value": -0.8712065849527943
                                    },
                                    {
                                        "Country": "Turkey",
                                        "Series": "RateOutofSchoolFemale",
                                        "Timestamp": "2009",
                                        "Value": -0.561525724182496
                                    },
                                    {
                                        "Country": "Turkey",
                                        "Series": "RateOutofSchoolMale",
                                        "Timestamp": "2009",
                                        "Value": -0.4736009076652038
                                    },
                                    {
                                        "Country": "Zimbabwe",
                                        "Series": "PupilTeacherRatio",
                                        "Timestamp": "2009",
                                        "Value": -0.7594433469849091
                                    },
                                    {
                                        "Country": "Zimbabwe",
                                        "Series": "RateOutofSchoolFemale",
                                        "Timestamp": "2009",
                                        "Value": -0.37802566242732016
                                    },
                                    {
                                        "Country": "Zimbabwe",
                                        "Series": "RateOutofSchoolMale",
                                        "Timestamp": "2009",
                                        "Value": 0.0279332626949558
                                    },
                                    {
                                        "Country": "Turkey",
                                        "Series": "PupilTeacherRatio",
                                        "Timestamp": "2010",
                                        "Value": -0.8712065849527943
                                    },
                                    {
                                        "Country": "Turkey",
                                        "Series": "RateOutofSchoolFemale",
                                        "Timestamp": "2010",
                                        "Value": -0.7430460540088434
                                    },
                                    {
                                        "Country": "Turkey",
                                        "Series": "RateOutofSchoolMale",
                                        "Timestamp": "2010",
                                        "Value": -0.7124902023885442
                                    },
                                    {
                                        "Country": "Zimbabwe",
                                        "Series": "PupilTeacherRatio",
                                        "Timestamp": "2010",
                                        "Value": -0.7594433469849091
                                    },
                                    {
                                        "Country": "Zimbabwe",
                                        "Series": "RateOutofSchoolFemale",
                                        "Timestamp": "2010",
                                        "Value": -0.37802566242732016
                                    },
                                    {
                                        "Country": "Zimbabwe",
                                        "Series": "RateOutofSchoolMale",
                                        "Timestamp": "2010",
                                        "Value": 0.0279332626949558
                                    },
                                    {
                                        "Country": "Turkey",
                                        "Series": "PupilTeacherRatio",
                                        "Timestamp": "2011",
                                        "Value": -0.8712065849527943
                                    },
                                    {
                                        "Country": "Turkey",
                                        "Series": "RateOutofSchoolFemale",
                                        "Timestamp": "2011",
                                        "Value": -0.8934045283631957
                                    },
                                    {
                                        "Country": "Turkey",
                                        "Series": "RateOutofSchoolMale",
                                        "Timestamp": "2011",
                                        "Value": -0.9029501751559558
                                    },
                                    {
                                        "Country": "Zimbabwe",
                                        "Series": "PupilTeacherRatio",
                                        "Timestamp": "2011",
                                        "Value": -0.7594433469849091
                                    },
                                    {
                                        "Country": "Zimbabwe",
                                        "Series": "RateOutofSchoolFemale",
                                        "Timestamp": "2011",
                                        "Value": -0.37802566242732016
                                    },
                                    {
                                        "Country": "Zimbabwe",
                                        "Series": "RateOutofSchoolMale",
                                        "Timestamp": "2011",
                                        "Value": 0.0279332626949558
                                    },
                                    {
                                        "Country": "Turkey",
                                        "Series": "PupilTeacherRatio",
                                        "Timestamp": "2012",
                                        "Value": -0.8712065849527943
                                    },
                                    {
                                        "Country": "Turkey",
                                        "Series": "RateOutofSchoolFemale",
                                        "Timestamp": "2012",
                                        "Value": -0.7991657645395445
                                    },
                                    {
                                        "Country": "Turkey",
                                        "Series": "RateOutofSchoolMale",
                                        "Timestamp": "2012",
                                        "Value": -0.6813885856099002
                                    },
                                    {
                                        "Country": "Zimbabwe",
                                        "Series": "PupilTeacherRatio",
                                        "Timestamp": "2012",
                                        "Value": -0.7594433469849091
                                    },
                                    {
                                        "Country": "Zimbabwe",
                                        "Series": "RateOutofSchoolFemale",
                                        "Timestamp": "2012",
                                        "Value": -0.37802566242732016
                                    },
                                    {
                                        "Country": "Zimbabwe",
                                        "Series": "RateOutofSchoolMale",
                                        "Timestamp": "2012",
                                        "Value": 0.0279332626949558
                                    },
                                    {
                                        "Country": "Turkey",
                                        "Series": "PupilTeacherRatio",
                                        "Timestamp": "2013",
                                        "Value": -0.5128422083121948
                                    },
                                    {
                                        "Country": "Turkey",
                                        "Series": "RateOutofSchoolFemale",
                                        "Timestamp": "2013",
                                        "Value": -0.9999062491333566
                                    },
                                    {
                                        "Country": "Turkey",
                                        "Series": "RateOutofSchoolMale",
                                        "Timestamp": "2013",
                                        "Value": -0.9427082407866257
                                    },
                                    {
                                        "Country": "Zimbabwe",
                                        "Series": "PupilTeacherRatio",
                                        "Timestamp": "2013",
                                        "Value": -0.7526127655450325
                                    },
                                    {
                                        "Country": "Zimbabwe",
                                        "Series": "RateOutofSchoolFemale",
                                        "Timestamp": "2013",
                                        "Value": -0.4687575155261927
                                    },
                                    {
                                        "Country": "Zimbabwe",
                                        "Series": "RateOutofSchoolMale",
                                        "Timestamp": "2013",
                                        "Value": -0.023984716572721484
                                    },
                                    {
                                        "Country": "Turkey",
                                        "Series": "PupilTeacherRatio",
                                        "Timestamp": "2014",
                                        "Value": -0.6196026373318508
                                    },
                                    {
                                        "Country": "Turkey",
                                        "Series": "RateOutofSchoolFemale",
                                        "Timestamp": "2014",
                                        "Value": -0.9999062491333566
                                    },
                                    {
                                        "Country": "Turkey",
                                        "Series": "RateOutofSchoolMale",
                                        "Timestamp": "2014",
                                        "Value": -0.9427082407866257
                                    },
                                    {
                                        "Country": "Zimbabwe",
                                        "Series": "PupilTeacherRatio",
                                        "Timestamp": "2014",
                                        "Value": -0.7526127655450325
                                    },
                                    {
                                        "Country": "Zimbabwe",
                                        "Series": "RateOutofSchoolFemale",
                                        "Timestamp": "2014",
                                        "Value": -0.4687575155261927
                                    },
                                    {
                                        "Country": "Zimbabwe",
                                        "Series": "RateOutofSchoolMale",
                                        "Timestamp": "2014",
                                        "Value": -0.023984716572721484
                                    }
                                ]
                            },
                            "encoding": {
                                "color": {
                                    "field": "Series",
                                    "type": "nominal"
                                },
                                "column": {
                                    "field": "Country",
                                    "type": "nominal"
                                },
                                "x": {
                                    "field": "Timestamp",
                                    "type": "ordinal"
                                },
                                "y": {
                                    "field": "Value",
                                    "type": "quantitative"
                                }
                            },
                            "mark": "line"
                        },
                        "image/png": "[encoded data removed]",
                        "image/svg+xml": [
                            "<svg class=\"marks\" width=\"1214\" height=\"307\" viewBox=\"0 0 1214 307\" version=\"1.1\" xmlns=\"http://www.w3.org/2000/svg\" xmlns:xlink=\"http://www.w3.org/1999/xlink\"><g transform=\"translate(45,57)\"><g class=\"mark-group role-frame root\"><g transform=\"translate(0,0)\"><path class=\"background\" d=\"M0,0h0v0h0Z\" style=\"fill: none;\"></path><g><g class=\"mark-group role-column-title column-title\"><g transform=\"translate(511,-31)\"><path class=\"background\" d=\"M0,0h0v0h0Z\" style=\"fill: none;\"></path><g><g class=\"mark-group role-title\"><g transform=\"translate(0,-21)\"><path class=\"background\" d=\"M0,0h0v0h0Z\" style=\"pointer-events: none; fill: none;\"></path><g><g class=\"mark-text role-title-text\" style=\"pointer-events: none;\"><text text-anchor=\"middle\" transform=\"translate(0,9)\" style=\"font-family: sans-serif; font-size: 11px; font-weight: bold; fill: #000; opacity: 1;\">Country</text></g></g></g></g></g></g></g><g class=\"mark-group role-row-header row_header\"><g transform=\"translate(-1,0)\"><path class=\"background\" d=\"M0,0h0v200h0Z\" style=\"fill: none;\"></path><g><g class=\"mark-group role-axis\"><g transform=\"translate(0.5,0.5)\"><path class=\"background\" d=\"M0,0h0v0h0Z\" style=\"pointer-events: none; fill: none;\"></path><g><g class=\"mark-rule role-axis-tick\" style=\"pointer-events: none;\"><line transform=\"translate(0,200)\" x2=\"-5\" y2=\"0\" style=\"fill: none; stroke: #888; stroke-width: 1; opacity: 1;\"></line><line transform=\"translate(0,150)\" x2=\"-5\" y2=\"0\" style=\"fill: none; stroke: #888; stroke-width: 1; opacity: 1;\"></line><line transform=\"translate(0,100)\" x2=\"-5\" y2=\"0\" style=\"fill: none; stroke: #888; stroke-width: 1; opacity: 1;\"></line><line transform=\"translate(0,50)\" x2=\"-5\" y2=\"0\" style=\"fill: none; stroke: #888; stroke-width: 1; opacity: 1;\"></line><line transform=\"translate(0,0)\" x2=\"-5\" y2=\"0\" style=\"fill: none; stroke: #888; stroke-width: 1; opacity: 1;\"></line></g><g class=\"mark-text role-axis-label\" style=\"pointer-events: none;\"><text text-anchor=\"end\" transform=\"translate(-7,203)\" style=\"font-family: sans-serif; font-size: 10px; fill: #000; opacity: 1;\">-1.0</text><text text-anchor=\"end\" transform=\"translate(-7,153)\" style=\"font-family: sans-serif; font-size: 10px; fill: #000; opacity: 1;\">-0.5</text><text text-anchor=\"end\" transform=\"translate(-7,103)\" style=\"font-family: sans-serif; font-size: 10px; fill: #000; opacity: 1;\">0.0</text><text text-anchor=\"end\" transform=\"translate(-7,53)\" style=\"font-family: sans-serif; font-size: 10px; fill: #000; opacity: 1;\">0.5</text><text text-anchor=\"end\" transform=\"translate(-7,3)\" style=\"font-family: sans-serif; font-size: 10px; fill: #000; opacity: 1;\">1.0</text></g><g class=\"mark-rule role-axis-domain\" style=\"pointer-events: none;\"><line transform=\"translate(0,200)\" x2=\"0\" y2=\"-200\" style=\"fill: none; stroke: #888; stroke-width: 1; opacity: 1;\"></line></g><g class=\"mark-text role-axis-title\" style=\"pointer-events: none;\"><text text-anchor=\"middle\" transform=\"translate(-28,100) rotate(-90) translate(0,-2)\" style=\"font-family: sans-serif; font-size: 11px; font-weight: bold; fill: #000; opacity: 1;\">Value</text></g></g></g></g></g></g></g><g class=\"mark-group role-column-header column_header\"><g transform=\"translate(0,-1)\"><path class=\"background\" d=\"M0,0h500v0h-500Z\" style=\"fill: none;\"></path><g><g class=\"mark-group role-title\"><g transform=\"translate(250,-20)\"><path class=\"background\" d=\"M0,0h0v0h0Z\" style=\"pointer-events: none; fill: none;\"></path><g><g class=\"mark-text role-title-text\" style=\"pointer-events: none;\"><text text-anchor=\"middle\" transform=\"translate(0,8)\" style=\"font-family: sans-serif; font-size: 10px; fill: #000; opacity: 1;\">Turkey</text></g></g></g></g></g></g><g transform=\"translate(522,-1)\"><path class=\"background\" d=\"M0,0h500v0h-500Z\" style=\"fill: none;\"></path><g><g class=\"mark-group role-title\"><g transform=\"translate(250,-20)\"><path class=\"background\" d=\"M0,0h0v0h0Z\" style=\"pointer-events: none; fill: none;\"></path><g><g class=\"mark-text role-title-text\" style=\"pointer-events: none;\"><text text-anchor=\"middle\" transform=\"translate(0,8)\" style=\"font-family: sans-serif; font-size: 10px; fill: #000; opacity: 1;\">Zimbabwe</text></g></g></g></g></g></g></g><g class=\"mark-group role-column-footer column_footer\"><g transform=\"translate(0,203)\"><path class=\"background\" d=\"M0,0h500v0h-500Z\" style=\"fill: none;\"></path><g><g class=\"mark-group role-axis\"><g transform=\"translate(0.5,0.5)\"><path class=\"background\" d=\"M0,0h0v0h0Z\" style=\"pointer-events: none; fill: none;\"></path><g><g class=\"mark-rule role-axis-tick\" style=\"pointer-events: none;\"><line transform=\"translate(10,0)\" x2=\"0\" y2=\"5\" style=\"fill: none; stroke: #888; stroke-width: 1; opacity: 1;\"></line><line transform=\"translate(30,0)\" x2=\"0\" y2=\"5\" style=\"fill: none; stroke: #888; stroke-width: 1; opacity: 1;\"></line><line transform=\"translate(50,0)\" x2=\"0\" y2=\"5\" style=\"fill: none; stroke: #888; stroke-width: 1; opacity: 1;\"></line><line transform=\"translate(70,0)\" x2=\"0\" y2=\"5\" style=\"fill: none; stroke: #888; stroke-width: 1; opacity: 1;\"></line><line transform=\"translate(90,0)\" x2=\"0\" y2=\"5\" style=\"fill: none; stroke: #888; stroke-width: 1; opacity: 1;\"></line><line transform=\"translate(110,0)\" x2=\"0\" y2=\"5\" style=\"fill: none; stroke: #888; stroke-width: 1; opacity: 1;\"></line><line transform=\"translate(130,0)\" x2=\"0\" y2=\"5\" style=\"fill: none; stroke: #888; stroke-width: 1; opacity: 1;\"></line><line transform=\"translate(150,0)\" x2=\"0\" y2=\"5\" style=\"fill: none; stroke: #888; stroke-width: 1; opacity: 1;\"></line><line transform=\"translate(170,0)\" x2=\"0\" y2=\"5\" style=\"fill: none; stroke: #888; stroke-width: 1; opacity: 1;\"></line><line transform=\"translate(190,0)\" x2=\"0\" y2=\"5\" style=\"fill: none; stroke: #888; stroke-width: 1; opacity: 1;\"></line><line transform=\"translate(210,0)\" x2=\"0\" y2=\"5\" style=\"fill: none; stroke: #888; stroke-width: 1; opacity: 1;\"></line><line transform=\"translate(230,0)\" x2=\"0\" y2=\"5\" style=\"fill: none; stroke: #888; stroke-width: 1; opacity: 1;\"></line><line transform=\"translate(250,0)\" x2=\"0\" y2=\"5\" style=\"fill: none; stroke: #888; stroke-width: 1; opacity: 1;\"></line><line transform=\"translate(270,0)\" x2=\"0\" y2=\"5\" style=\"fill: none; stroke: #888; stroke-width: 1; opacity: 1;\"></line><line transform=\"translate(290,0)\" x2=\"0\" y2=\"5\" style=\"fill: none; stroke: #888; stroke-width: 1; opacity: 1;\"></line><line transform=\"translate(310,0)\" x2=\"0\" y2=\"5\" style=\"fill: none; stroke: #888; stroke-width: 1; opacity: 1;\"></line><line transform=\"translate(330,0)\" x2=\"0\" y2=\"5\" style=\"fill: none; stroke: #888; stroke-width: 1; opacity: 1;\"></line><line transform=\"translate(350,0)\" x2=\"0\" y2=\"5\" style=\"fill: none; stroke: #888; stroke-width: 1; opacity: 1;\"></line><line transform=\"translate(370,0)\" x2=\"0\" y2=\"5\" style=\"fill: none; stroke: #888; stroke-width: 1; opacity: 1;\"></line><line transform=\"translate(390,0)\" x2=\"0\" y2=\"5\" style=\"fill: none; stroke: #888; stroke-width: 1; opacity: 1;\"></line><line transform=\"translate(410,0)\" x2=\"0\" y2=\"5\" style=\"fill: none; stroke: #888; stroke-width: 1; opacity: 1;\"></line><line transform=\"translate(430,0)\" x2=\"0\" y2=\"5\" style=\"fill: none; stroke: #888; stroke-width: 1; opacity: 1;\"></line><line transform=\"translate(450,0)\" x2=\"0\" y2=\"5\" style=\"fill: none; stroke: #888; stroke-width: 1; opacity: 1;\"></line><line transform=\"translate(470,0)\" x2=\"0\" y2=\"5\" style=\"fill: none; stroke: #888; stroke-width: 1; opacity: 1;\"></line><line transform=\"translate(490,0)\" x2=\"0\" y2=\"5\" style=\"fill: none; stroke: #888; stroke-width: 1; opacity: 1;\"></line></g><g class=\"mark-text role-axis-label\" style=\"pointer-events: none;\"><text text-anchor=\"end\" transform=\"translate(10,7) rotate(270) translate(0,3)\" style=\"font-family: sans-serif; font-size: 10px; fill: #000; opacity: 1;\">1990</text><text text-anchor=\"end\" transform=\"translate(30,7) rotate(270) translate(0,3)\" style=\"font-family: sans-serif; font-size: 10px; fill: #000; opacity: 1;\">1991</text><text text-anchor=\"end\" transform=\"translate(50,7) rotate(270) translate(0,3)\" style=\"font-family: sans-serif; font-size: 10px; fill: #000; opacity: 1;\">1992</text><text text-anchor=\"end\" transform=\"translate(70,7) rotate(270) translate(0,3)\" style=\"font-family: sans-serif; font-size: 10px; fill: #000; opacity: 1;\">1993</text><text text-anchor=\"end\" transform=\"translate(90,7) rotate(270) translate(0,3)\" style=\"font-family: sans-serif; font-size: 10px; fill: #000; opacity: 1;\">1994</text><text text-anchor=\"end\" transform=\"translate(110,7) rotate(270) translate(0,3)\" style=\"font-family: sans-serif; font-size: 10px; fill: #000; opacity: 1;\">1995</text><text text-anchor=\"end\" transform=\"translate(130,7) rotate(270) translate(0,3)\" style=\"font-family: sans-serif; font-size: 10px; fill: #000; opacity: 1;\">1996</text><text text-anchor=\"end\" transform=\"translate(150,7) rotate(270) translate(0,3)\" style=\"font-family: sans-serif; font-size: 10px; fill: #000; opacity: 1;\">1997</text><text text-anchor=\"end\" transform=\"translate(170,7) rotate(270) translate(0,3)\" style=\"font-family: sans-serif; font-size: 10px; fill: #000; opacity: 1;\">1998</text><text text-anchor=\"end\" transform=\"translate(190,7) rotate(270) translate(0,3)\" style=\"font-family: sans-serif; font-size: 10px; fill: #000; opacity: 1;\">1999</text><text text-anchor=\"end\" transform=\"translate(210,7) rotate(270) translate(0,3)\" style=\"font-family: sans-serif; font-size: 10px; fill: #000; opacity: 1;\">2000</text><text text-anchor=\"end\" transform=\"translate(230,7) rotate(270) translate(0,3)\" style=\"font-family: sans-serif; font-size: 10px; fill: #000; opacity: 1;\">2001</text><text text-anchor=\"end\" transform=\"translate(250,7) rotate(270) translate(0,3)\" style=\"font-family: sans-serif; font-size: 10px; fill: #000; opacity: 1;\">2002</text><text text-anchor=\"end\" transform=\"translate(270,7) rotate(270) translate(0,3)\" style=\"font-family: sans-serif; font-size: 10px; fill: #000; opacity: 1;\">2003</text><text text-anchor=\"end\" transform=\"translate(290,7) rotate(270) translate(0,3)\" style=\"font-family: sans-serif; font-size: 10px; fill: #000; opacity: 1;\">2004</text><text text-anchor=\"end\" transform=\"translate(310,7) rotate(270) translate(0,3)\" style=\"font-family: sans-serif; font-size: 10px; fill: #000; opacity: 1;\">2005</text><text text-anchor=\"end\" transform=\"translate(330,7) rotate(270) translate(0,3)\" style=\"font-family: sans-serif; font-size: 10px; fill: #000; opacity: 1;\">2006</text><text text-anchor=\"end\" transform=\"translate(350,7) rotate(270) translate(0,3)\" style=\"font-family: sans-serif; font-size: 10px; fill: #000; opacity: 1;\">2007</text><text text-anchor=\"end\" transform=\"translate(370,7) rotate(270) translate(0,3)\" style=\"font-family: sans-serif; font-size: 10px; fill: #000; opacity: 1;\">2008</text><text text-anchor=\"end\" transform=\"translate(390,7) rotate(270) translate(0,3)\" style=\"font-family: sans-serif; font-size: 10px; fill: #000; opacity: 1;\">2009</text><text text-anchor=\"end\" transform=\"translate(410,7) rotate(270) translate(0,3)\" style=\"font-family: sans-serif; font-size: 10px; fill: #000; opacity: 1;\">2010</text><text text-anchor=\"end\" transform=\"translate(430,7) rotate(270) translate(0,3)\" style=\"font-family: sans-serif; font-size: 10px; fill: #000; opacity: 1;\">2011</text><text text-anchor=\"end\" transform=\"translate(450,7) rotate(270) translate(0,3)\" style=\"font-family: sans-serif; font-size: 10px; fill: #000; opacity: 1;\">2012</text><text text-anchor=\"end\" transform=\"translate(470,7) rotate(270) translate(0,3)\" style=\"font-family: sans-serif; font-size: 10px; fill: #000; opacity: 1;\">2013</text><text text-anchor=\"end\" transform=\"translate(490,7) rotate(270) translate(0,3)\" style=\"font-family: sans-serif; font-size: 10px; fill: #000; opacity: 1;\">2014</text></g><g class=\"mark-rule role-axis-domain\" style=\"pointer-events: none;\"><line transform=\"translate(0,0)\" x2=\"500\" y2=\"0\" style=\"fill: none; stroke: #888; stroke-width: 1; opacity: 1;\"></line></g><g class=\"mark-text role-axis-title\" style=\"pointer-events: none;\"><text text-anchor=\"middle\" transform=\"translate(250,40)\" style=\"font-family: sans-serif; font-size: 11px; font-weight: bold; fill: #000; opacity: 1;\">Timestamp</text></g></g></g></g></g></g><g transform=\"translate(522,203)\"><path class=\"background\" d=\"M0,0h500v0h-500Z\" style=\"fill: none;\"></path><g><g class=\"mark-group role-axis\"><g transform=\"translate(0.5,0.5)\"><path class=\"background\" d=\"M0,0h0v0h0Z\" style=\"pointer-events: none; fill: none;\"></path><g><g class=\"mark-rule role-axis-tick\" style=\"pointer-events: none;\"><line transform=\"translate(10,0)\" x2=\"0\" y2=\"5\" style=\"fill: none; stroke: #888; stroke-width: 1; opacity: 1;\"></line><line transform=\"translate(30,0)\" x2=\"0\" y2=\"5\" style=\"fill: none; stroke: #888; stroke-width: 1; opacity: 1;\"></line><line transform=\"translate(50,0)\" x2=\"0\" y2=\"5\" style=\"fill: none; stroke: #888; stroke-width: 1; opacity: 1;\"></line><line transform=\"translate(70,0)\" x2=\"0\" y2=\"5\" style=\"fill: none; stroke: #888; stroke-width: 1; opacity: 1;\"></line><line transform=\"translate(90,0)\" x2=\"0\" y2=\"5\" style=\"fill: none; stroke: #888; stroke-width: 1; opacity: 1;\"></line><line transform=\"translate(110,0)\" x2=\"0\" y2=\"5\" style=\"fill: none; stroke: #888; stroke-width: 1; opacity: 1;\"></line><line transform=\"translate(130,0)\" x2=\"0\" y2=\"5\" style=\"fill: none; stroke: #888; stroke-width: 1; opacity: 1;\"></line><line transform=\"translate(150,0)\" x2=\"0\" y2=\"5\" style=\"fill: none; stroke: #888; stroke-width: 1; opacity: 1;\"></line><line transform=\"translate(170,0)\" x2=\"0\" y2=\"5\" style=\"fill: none; stroke: #888; stroke-width: 1; opacity: 1;\"></line><line transform=\"translate(190,0)\" x2=\"0\" y2=\"5\" style=\"fill: none; stroke: #888; stroke-width: 1; opacity: 1;\"></line><line transform=\"translate(210,0)\" x2=\"0\" y2=\"5\" style=\"fill: none; stroke: #888; stroke-width: 1; opacity: 1;\"></line><line transform=\"translate(230,0)\" x2=\"0\" y2=\"5\" style=\"fill: none; stroke: #888; stroke-width: 1; opacity: 1;\"></line><line transform=\"translate(250,0)\" x2=\"0\" y2=\"5\" style=\"fill: none; stroke: #888; stroke-width: 1; opacity: 1;\"></line><line transform=\"translate(270,0)\" x2=\"0\" y2=\"5\" style=\"fill: none; stroke: #888; stroke-width: 1; opacity: 1;\"></line><line transform=\"translate(290,0)\" x2=\"0\" y2=\"5\" style=\"fill: none; stroke: #888; stroke-width: 1; opacity: 1;\"></line><line transform=\"translate(310,0)\" x2=\"0\" y2=\"5\" style=\"fill: none; stroke: #888; stroke-width: 1; opacity: 1;\"></line><line transform=\"translate(330,0)\" x2=\"0\" y2=\"5\" style=\"fill: none; stroke: #888; stroke-width: 1; opacity: 1;\"></line><line transform=\"translate(350,0)\" x2=\"0\" y2=\"5\" style=\"fill: none; stroke: #888; stroke-width: 1; opacity: 1;\"></line><line transform=\"translate(370,0)\" x2=\"0\" y2=\"5\" style=\"fill: none; stroke: #888; stroke-width: 1; opacity: 1;\"></line><line transform=\"translate(390,0)\" x2=\"0\" y2=\"5\" style=\"fill: none; stroke: #888; stroke-width: 1; opacity: 1;\"></line><line transform=\"translate(410,0)\" x2=\"0\" y2=\"5\" style=\"fill: none; stroke: #888; stroke-width: 1; opacity: 1;\"></line><line transform=\"translate(430,0)\" x2=\"0\" y2=\"5\" style=\"fill: none; stroke: #888; stroke-width: 1; opacity: 1;\"></line><line transform=\"translate(450,0)\" x2=\"0\" y2=\"5\" style=\"fill: none; stroke: #888; stroke-width: 1; opacity: 1;\"></line><line transform=\"translate(470,0)\" x2=\"0\" y2=\"5\" style=\"fill: none; stroke: #888; stroke-width: 1; opacity: 1;\"></line><line transform=\"translate(490,0)\" x2=\"0\" y2=\"5\" style=\"fill: none; stroke: #888; stroke-width: 1; opacity: 1;\"></line></g><g class=\"mark-text role-axis-label\" style=\"pointer-events: none;\"><text text-anchor=\"end\" transform=\"translate(10,7) rotate(270) translate(0,3)\" style=\"font-family: sans-serif; font-size: 10px; fill: #000; opacity: 1;\">1990</text><text text-anchor=\"end\" transform=\"translate(30,7) rotate(270) translate(0,3)\" style=\"font-family: sans-serif; font-size: 10px; fill: #000; opacity: 1;\">1991</text><text text-anchor=\"end\" transform=\"translate(50,7) rotate(270) translate(0,3)\" style=\"font-family: sans-serif; font-size: 10px; fill: #000; opacity: 1;\">1992</text><text text-anchor=\"end\" transform=\"translate(70,7) rotate(270) translate(0,3)\" style=\"font-family: sans-serif; font-size: 10px; fill: #000; opacity: 1;\">1993</text><text text-anchor=\"end\" transform=\"translate(90,7) rotate(270) translate(0,3)\" style=\"font-family: sans-serif; font-size: 10px; fill: #000; opacity: 1;\">1994</text><text text-anchor=\"end\" transform=\"translate(110,7) rotate(270) translate(0,3)\" style=\"font-family: sans-serif; font-size: 10px; fill: #000; opacity: 1;\">1995</text><text text-anchor=\"end\" transform=\"translate(130,7) rotate(270) translate(0,3)\" style=\"font-family: sans-serif; font-size: 10px; fill: #000; opacity: 1;\">1996</text><text text-anchor=\"end\" transform=\"translate(150,7) rotate(270) translate(0,3)\" style=\"font-family: sans-serif; font-size: 10px; fill: #000; opacity: 1;\">1997</text><text text-anchor=\"end\" transform=\"translate(170,7) rotate(270) translate(0,3)\" style=\"font-family: sans-serif; font-size: 10px; fill: #000; opacity: 1;\">1998</text><text text-anchor=\"end\" transform=\"translate(190,7) rotate(270) translate(0,3)\" style=\"font-family: sans-serif; font-size: 10px; fill: #000; opacity: 1;\">1999</text><text text-anchor=\"end\" transform=\"translate(210,7) rotate(270) translate(0,3)\" style=\"font-family: sans-serif; font-size: 10px; fill: #000; opacity: 1;\">2000</text><text text-anchor=\"end\" transform=\"translate(230,7) rotate(270) translate(0,3)\" style=\"font-family: sans-serif; font-size: 10px; fill: #000; opacity: 1;\">2001</text><text text-anchor=\"end\" transform=\"translate(250,7) rotate(270) translate(0,3)\" style=\"font-family: sans-serif; font-size: 10px; fill: #000; opacity: 1;\">2002</text><text text-anchor=\"end\" transform=\"translate(270,7) rotate(270) translate(0,3)\" style=\"font-family: sans-serif; font-size: 10px; fill: #000; opacity: 1;\">2003</text><text text-anchor=\"end\" transform=\"translate(290,7) rotate(270) translate(0,3)\" style=\"font-family: sans-serif; font-size: 10px; fill: #000; opacity: 1;\">2004</text><text text-anchor=\"end\" transform=\"translate(310,7) rotate(270) translate(0,3)\" style=\"font-family: sans-serif; font-size: 10px; fill: #000; opacity: 1;\">2005</text><text text-anchor=\"end\" transform=\"translate(330,7) rotate(270) translate(0,3)\" style=\"font-family: sans-serif; font-size: 10px; fill: #000; opacity: 1;\">2006</text><text text-anchor=\"end\" transform=\"translate(350,7) rotate(270) translate(0,3)\" style=\"font-family: sans-serif; font-size: 10px; fill: #000; opacity: 1;\">2007</text><text text-anchor=\"end\" transform=\"translate(370,7) rotate(270) translate(0,3)\" style=\"font-family: sans-serif; font-size: 10px; fill: #000; opacity: 1;\">2008</text><text text-anchor=\"end\" transform=\"translate(390,7) rotate(270) translate(0,3)\" style=\"font-family: sans-serif; font-size: 10px; fill: #000; opacity: 1;\">2009</text><text text-anchor=\"end\" transform=\"translate(410,7) rotate(270) translate(0,3)\" style=\"font-family: sans-serif; font-size: 10px; fill: #000; opacity: 1;\">2010</text><text text-anchor=\"end\" transform=\"translate(430,7) rotate(270) translate(0,3)\" style=\"font-family: sans-serif; font-size: 10px; fill: #000; opacity: 1;\">2011</text><text text-anchor=\"end\" transform=\"translate(450,7) rotate(270) translate(0,3)\" style=\"font-family: sans-serif; font-size: 10px; fill: #000; opacity: 1;\">2012</text><text text-anchor=\"end\" transform=\"translate(470,7) rotate(270) translate(0,3)\" style=\"font-family: sans-serif; font-size: 10px; fill: #000; opacity: 1;\">2013</text><text text-anchor=\"end\" transform=\"translate(490,7) rotate(270) translate(0,3)\" style=\"font-family: sans-serif; font-size: 10px; fill: #000; opacity: 1;\">2014</text></g><g class=\"mark-rule role-axis-domain\" style=\"pointer-events: none;\"><line transform=\"translate(0,0)\" x2=\"500\" y2=\"0\" style=\"fill: none; stroke: #888; stroke-width: 1; opacity: 1;\"></line></g><g class=\"mark-text role-axis-title\" style=\"pointer-events: none;\"><text text-anchor=\"middle\" transform=\"translate(250,40)\" style=\"font-family: sans-serif; font-size: 11px; font-weight: bold; fill: #000; opacity: 1;\">Timestamp</text></g></g></g></g></g></g></g><g class=\"mark-group role-scope cell\"><g transform=\"translate(0,0)\"><path class=\"background\" d=\"M0.5,0.5h500v200h-500Z\" style=\"fill: none; stroke: #ddd;\"></path><g><g class=\"mark-group role-axis\"><g transform=\"translate(0.5,0.5)\"><path class=\"background\" d=\"M0,0h0v0h0Z\" style=\"pointer-events: none; fill: none;\"></path><g><g class=\"mark-rule role-axis-grid\" style=\"pointer-events: none;\"><line transform=\"translate(0,200)\" x2=\"500\" y2=\"0\" style=\"fill: none; stroke: #ddd; stroke-width: 1; opacity: 1;\"></line><line transform=\"translate(0,150)\" x2=\"500\" y2=\"0\" style=\"fill: none; stroke: #ddd; stroke-width: 1; opacity: 1;\"></line><line transform=\"translate(0,100)\" x2=\"500\" y2=\"0\" style=\"fill: none; stroke: #ddd; stroke-width: 1; opacity: 1;\"></line><line transform=\"translate(0,50)\" x2=\"500\" y2=\"0\" style=\"fill: none; stroke: #ddd; stroke-width: 1; opacity: 1;\"></line><line transform=\"translate(0,0)\" x2=\"500\" y2=\"0\" style=\"fill: none; stroke: #ddd; stroke-width: 1; opacity: 1;\"></line></g></g></g></g><g class=\"mark-group role-scope child_pathgroup\"><g transform=\"translate(0,0)\"><path class=\"background\" d=\"M0,0h500v200h-500Z\" style=\"fill: none;\"></path><g><g class=\"mark-line role-mark child_marks\"><path d=\"M10,100L30,89.70269690750503L50,98.20622924932722L70,87.12065849527943L90,92.16377113200487L110,98.98036879386476L130,98.98036879386476L150,124.67566281810846L170,124.67566281810846L190,187.12065849527943L210,187.12065849527943L230,187.12065849527943L250,187.12065849527943L270,187.12065849527943L290,187.12065849527943L310,187.12065849527943L330,187.12065849527943L350,187.12065849527943L370,187.12065849527943L390,187.12065849527943L410,187.12065849527943L430,187.12065849527943L450,187.12065849527943L470,151.28422083121947L490,161.9602637331851\" style=\"fill: none; stroke: #4c78a8; stroke-width: 2;\"></path></g></g></g><g transform=\"translate(0,0)\"><path class=\"background\" d=\"M0,0h500v200h-500Z\" style=\"fill: none;\"></path><g><g class=\"mark-line role-mark child_marks\"><path d=\"M10,100L30,100L50,100L70,100L90,100L110,100L130,100L150,100L170,100L190,100L210,99.99062491333565L230,107.53455099838536L250,107.29555991477997L270,117.37456342651072L290,126.33663089326662L310,135.24931963130877L330,142.2913349902531L350,147.24685363992646L370,150.06566241981784L390,156.1525724182496L410,174.30460540088433L430,189.34045283631957L450,179.91657645395443L470,199.99062491333567L490,199.99062491333567\" style=\"fill: none; stroke: #f58518; stroke-width: 2;\"></path></g></g></g><g transform=\"translate(0,0)\"><path class=\"background\" d=\"M0,0h500v200h-500Z\" style=\"fill: none;\"></path><g><g class=\"mark-line role-mark child_marks\"><path d=\"M10,100L30,100L50,100L70,100L90,100L110,100L130,100L150,100L170,100L190,100L210,94.27082407866259L230,107.92440028088133L250,108.25164543933114L270,123.58086821809499L290,130.87453595024164L310,138.7395089052144L330,147.89552899862653L350,152.5777836568931L370,146.59846015440573L390,147.36009076652036L410,171.24902023885443L430,190.29501751559556L450,168.13885856099003L470,194.2708240786626L490,194.2708240786626\" style=\"fill: none; stroke: #e45756; stroke-width: 2;\"></path></g></g></g></g></g></g><g transform=\"translate(522,0)\"><path class=\"background\" d=\"M0.5,0.5h500v200h-500Z\" style=\"fill: none; stroke: #ddd;\"></path><g><g class=\"mark-group role-axis\"><g transform=\"translate(0.5,0.5)\"><path class=\"background\" d=\"M0,0h0v0h0Z\" style=\"pointer-events: none; fill: none;\"></path><g><g class=\"mark-rule role-axis-grid\" style=\"pointer-events: none;\"><line transform=\"translate(0,200)\" x2=\"500\" y2=\"0\" style=\"fill: none; stroke: #ddd; stroke-width: 1; opacity: 1;\"></line><line transform=\"translate(0,150)\" x2=\"500\" y2=\"0\" style=\"fill: none; stroke: #ddd; stroke-width: 1; opacity: 1;\"></line><line transform=\"translate(0,100)\" x2=\"500\" y2=\"0\" style=\"fill: none; stroke: #ddd; stroke-width: 1; opacity: 1;\"></line><line transform=\"translate(0,50)\" x2=\"500\" y2=\"0\" style=\"fill: none; stroke: #ddd; stroke-width: 1; opacity: 1;\"></line><line transform=\"translate(0,0)\" x2=\"500\" y2=\"0\" style=\"fill: none; stroke: #ddd; stroke-width: 1; opacity: 1;\"></line></g></g></g></g><g class=\"mark-group role-scope child_pathgroup\"><g transform=\"translate(0,0)\"><path class=\"background\" d=\"M0,0h500v200h-500Z\" style=\"fill: none;\"></path><g><g class=\"mark-line role-mark child_marks\"><path d=\"M10,100L30,100L50,98.38129555413997L70,77.36574881359486L90,132.4710304753863L110,130.08630852553165L130,120.88799073035696L150,105.88203820067679L170,105.88203820067679L190,111.41381476514964L210,145.79399578161602L230,149.14704805257526L250,129.73473448083226L270,177.36574881359485L290,177.36574881359485L310,175.9443346984909L330,175.9443346984909L350,175.9443346984909L370,175.9443346984909L390,175.9443346984909L410,175.9443346984909L430,175.9443346984909L450,175.9443346984909L470,175.26127655450324L490,175.26127655450324\" style=\"fill: none; stroke: #4c78a8; stroke-width: 2;\"></path></g></g></g><g transform=\"translate(0,0)\"><path class=\"background\" d=\"M0,0h500v200h-500Z\" style=\"fill: none;\"></path><g><g class=\"mark-line role-mark child_marks\"><path d=\"M10,100L30,100L50,100L70,100L90,100L110,100L130,100L150,100L170,100L190,100L210,88.35429428324866L230,94.78413640414783L250,76.10177613988425L270,46.87575155261927L290,46.87575155261927L310,137.802566242732L330,137.802566242732L350,137.802566242732L370,137.802566242732L390,137.802566242732L410,137.802566242732L430,137.802566242732L450,137.802566242732L470,146.87575155261928L490,146.87575155261928\" style=\"fill: none; stroke: #f58518; stroke-width: 2;\"></path></g></g></g><g transform=\"translate(0,0)\"><path class=\"background\" d=\"M0,0h500v200h-500Z\" style=\"fill: none;\"></path><g><g class=\"mark-line role-mark child_marks\"><path d=\"M10,100L30,100L50,100L70,100L90,100L110,100L130,100L150,100L170,100L190,100L210,86.5206752308537L230,95.16880157450733L250,63.16495125092547L270,2.398471657272161L290,2.398471657272161L310,97.20667373050442L330,97.20667373050442L350,97.20667373050442L370,97.20667373050442L390,97.20667373050442L410,97.20667373050442L430,97.20667373050442L450,97.20667373050442L470,102.39847165727215L490,102.39847165727215\" style=\"fill: none; stroke: #e45756; stroke-width: 2;\"></path></g></g></g></g></g></g></g><g class=\"mark-group role-legend\"><g transform=\"translate(1041,0)\"><path class=\"background\" d=\"M0,0h123v53h-123Z\" style=\"pointer-events: none; fill: none;\"></path><g><g class=\"mark-group role-legend-entry\"><g transform=\"translate(0,16)\"><path class=\"background\" d=\"M0,0h0v0h0Z\" style=\"pointer-events: none; fill: none;\"></path><g><g class=\"mark-group role-scope\"><g transform=\"translate(0,0)\"><path class=\"background\" d=\"M0,0h123v11h-123Z\" style=\"pointer-events: none; fill: none; opacity: 1;\"></path><g><g class=\"mark-symbol role-legend-symbol\" style=\"pointer-events: none;\"><path transform=\"translate(6,6)\" d=\"M-5,0L5,0\" style=\"fill: none; stroke: #4c78a8; stroke-width: 1.5; opacity: 1;\"></path></g><g class=\"mark-text role-legend-label\" style=\"pointer-events: none;\"><text text-anchor=\"start\" transform=\"translate(16,9)\" style=\"font-family: sans-serif; font-size: 10px; fill: #000; opacity: 1;\">PupilTeacherRatio</text></g></g></g><g transform=\"translate(0,13)\"><path class=\"background\" d=\"M0,0h123v11h-123Z\" style=\"pointer-events: none; fill: none; opacity: 1;\"></path><g><g class=\"mark-symbol role-legend-symbol\" style=\"pointer-events: none;\"><path transform=\"translate(6,6)\" d=\"M-5,0L5,0\" style=\"fill: none; stroke: #f58518; stroke-width: 1.5; opacity: 1;\"></path></g><g class=\"mark-text role-legend-label\" style=\"pointer-events: none;\"><text text-anchor=\"start\" transform=\"translate(16,9)\" style=\"font-family: sans-serif; font-size: 10px; fill: #000; opacity: 1;\">RateOutofSchoolFemale</text></g></g></g><g transform=\"translate(0,26)\"><path class=\"background\" d=\"M0,0h123v11h-123Z\" style=\"pointer-events: none; fill: none; opacity: 1;\"></path><g><g class=\"mark-symbol role-legend-symbol\" style=\"pointer-events: none;\"><path transform=\"translate(6,6)\" d=\"M-5,0L5,0\" style=\"fill: none; stroke: #e45756; stroke-width: 1.5; opacity: 1;\"></path></g><g class=\"mark-text role-legend-label\" style=\"pointer-events: none;\"><text text-anchor=\"start\" transform=\"translate(16,9)\" style=\"font-family: sans-serif; font-size: 10px; fill: #000; opacity: 1;\">RateOutofSchoolMale</text></g></g></g></g></g></g></g><g class=\"mark-text role-legend-title\" style=\"pointer-events: none;\"><text text-anchor=\"start\" transform=\"translate(0,9)\" style=\"font-family: sans-serif; font-size: 11px; font-weight: bold; fill: #000; opacity: 1;\">Series</text></g></g></g></g></g></g></g></g></svg>"
                        ],
                        "text/plain": [
                            "VegaLite.VLSpec{:plot}"
                        ]
                    },
                    "execution_count": 19,
                    "metadata": {},
                    "output_type": "execute_result"
                }
            ],
            "source": [
                "graph = dfTranspose |>\n",
                "    @filter(_.Country == \"Turkey\" || _.Country == \"Zimbabwe\") |>\n",
                "    @filter(_.Series == \"PupilTeacherRatio\" || _.Series == \"RateOutofSchoolFemale\" || _.Series == \"RateOutofSchoolMale\") |> \n",
                "    @vlplot(:line, x=:\"Timestamp:o\", y=:Value, color=:Series, column=:Country)"
            ]
        },
        {
            "cell_type": "markdown",
            "metadata": {},
            "source": [
                "Third, the previous graphs are very informative but we can go one step further. We create an interactive data visualizer for our data. We can slice and dice different parts of our data with a few mouse clicks. We can easily gain deeper insight into our data. Incredibly, we can create an interactive application with just one Queryverse command! And, we can easily save UI for sharing."
            ]
        },
        {
            "cell_type": "code",
            "execution_count": 20,
            "metadata": {},
            "outputs": [
                {
                    "name": "stdout",
                    "output_type": "stream",
                    "text": [
                        "\n"
                    ]
                },
                {
                    "data": {
                        "text/plain": [
                            "Voyager(Electron.Window(Application(Base.PipeEndpoint(Base.Libc.WindowsRawSocket(0x0000000000000530) open, 0 bytes waiting), Process(`\u001b[4m'C:\\Users\\drcxcruz\\.julia\\artifacts\\3cac82ef60c809398a5dd6870b5e97d42dbe2df1\\electron.exe'\u001b[24m \u001b[4m'C:\\Users\\drcxcruz\\.julia\\packages\\Electron\\MNI24\\src\\main.js'\u001b[24m \u001b[4m'\\\\.\\pipe\\jlel-642b471050d711ea15cb49255953af32'\u001b[24m \u001b[4m'\\\\.\\pipe\\jlel-sn-642db81050d711ea0521c910d4efc841'\u001b[24m \u001b[4m3aT6GK25V1ZmZ9DldpL6Y4vzVkLO/I4md1fBcl1dZ3pzPpG2g2XypVlkPB6y/uwGGmQOoTbsoSiC/sGtshup8uHrz8E2k6f7RkmU9A38H9d9PUfE4/TBROJn5nC6vGk7gwTCuJdgv8M40i8VMVgEizpO+2KeLwEgjl/83SWIOHA=\u001b[24m`, ProcessRunning), [1 window]), 1, true, Channel{Any}(sz_max:128,sz_curr:0)))"
                        ]
                    },
                    "execution_count": 20,
                    "metadata": {},
                    "output_type": "execute_result"
                }
            ],
            "source": [
                "UI = dfTranspose |> Voyager"
            ]
        },
        {
            "cell_type": "code",
            "execution_count": 1,
            "metadata": {},
            "outputs": [
                {
                    "data": {
                        "image/png": "[encoded data removed]",
                        "text/plain": [
                            "655×852 Array{RGBA{N0f8},2} with eltype RGBA{Normed{UInt8,8}}:\n",
                            " RGBA{N0f8}(1.0,1.0,1.0,1.0)        …  RGBA{N0f8}(0.173,0.149,0.157,1.0)\n",
                            " RGBA{N0f8}(1.0,1.0,1.0,1.0)           RGBA{N0f8}(0.176,0.149,0.157,1.0)\n",
                            " RGBA{N0f8}(1.0,1.0,1.0,1.0)           RGBA{N0f8}(0.176,0.149,0.157,1.0)\n",
                            " RGBA{N0f8}(1.0,1.0,1.0,1.0)           RGBA{N0f8}(0.176,0.149,0.161,1.0)\n",
                            " RGBA{N0f8}(1.0,1.0,1.0,1.0)           RGBA{N0f8}(0.176,0.149,0.161,1.0)\n",
                            " RGBA{N0f8}(1.0,1.0,1.0,1.0)        …  RGBA{N0f8}(0.176,0.149,0.161,1.0)\n",
                            " RGBA{N0f8}(1.0,1.0,1.0,1.0)           RGBA{N0f8}(0.18,0.153,0.161,1.0) \n",
                            " RGBA{N0f8}(1.0,1.0,1.0,1.0)           RGBA{N0f8}(0.18,0.153,0.161,1.0) \n",
                            " RGBA{N0f8}(1.0,1.0,1.0,1.0)           RGBA{N0f8}(0.18,0.153,0.161,1.0) \n",
                            " RGBA{N0f8}(1.0,1.0,1.0,1.0)           RGBA{N0f8}(0.18,0.153,0.161,1.0) \n",
                            " RGBA{N0f8}(1.0,1.0,1.0,1.0)        …  RGBA{N0f8}(0.18,0.153,0.161,1.0) \n",
                            " RGBA{N0f8}(1.0,1.0,1.0,1.0)           RGBA{N0f8}(0.18,0.153,0.161,1.0) \n",
                            " RGBA{N0f8}(1.0,1.0,1.0,1.0)           RGBA{N0f8}(0.18,0.149,0.161,1.0) \n",
                            " ⋮                                  ⋱                                   \n",
                            " RGBA{N0f8}(0.204,0.259,0.365,1.0)     RGBA{N0f8}(0.157,0.157,0.165,1.0)\n",
                            " RGBA{N0f8}(0.204,0.259,0.365,1.0)     RGBA{N0f8}(0.153,0.157,0.161,1.0)\n",
                            " RGBA{N0f8}(0.204,0.259,0.365,1.0)  …  RGBA{N0f8}(0.153,0.153,0.161,1.0)\n",
                            " RGBA{N0f8}(0.204,0.259,0.365,1.0)     RGBA{N0f8}(0.153,0.153,0.161,1.0)\n",
                            " RGBA{N0f8}(0.204,0.259,0.365,1.0)     RGBA{N0f8}(0.153,0.153,0.161,1.0)\n",
                            " RGBA{N0f8}(0.204,0.259,0.365,1.0)     RGBA{N0f8}(0.153,0.153,0.157,1.0)\n",
                            " RGBA{N0f8}(0.204,0.259,0.365,1.0)     RGBA{N0f8}(0.149,0.153,0.157,1.0)\n",
                            " RGBA{N0f8}(0.204,0.259,0.365,1.0)  …  RGBA{N0f8}(0.153,0.153,0.157,1.0)\n",
                            " RGBA{N0f8}(0.204,0.259,0.365,1.0)     RGBA{N0f8}(0.153,0.153,0.157,1.0)\n",
                            " RGBA{N0f8}(0.204,0.259,0.365,1.0)     RGBA{N0f8}(0.153,0.153,0.157,1.0)\n",
                            " RGBA{N0f8}(0.204,0.259,0.365,1.0)     RGBA{N0f8}(0.153,0.153,0.157,1.0)\n",
                            " RGBA{N0f8}(0.204,0.259,0.365,1.0)     RGBA{N0f8}(0.153,0.153,0.157,1.0)"
                        ]
                    },
                    "execution_count": 1,
                    "metadata": {},
                    "output_type": "execute_result"
                }
            ],
            "source": [
                "using Images, ImageMagick\n",
                "img = load(\"DataVoyagerUI.png\")"
            ]
        },
        {
            "cell_type": "markdown",
            "metadata": {},
            "source": [
                "\n",
                "\n",
                "Here, we save our prepared data in Feather file format for further analysis.  We also stored our graphs and interactive visualizer for future use.\n",
                "\n"
            ]
        },
        {
            "cell_type": "code",
            "execution_count": 22,
            "metadata": {},
            "outputs": [],
            "source": [
                "dfSeriesFromZero |> save(\"SeriesFromZero.feather\")\n",
                "graph |> save(\"USASeries.vegalite\")\n",
                "UI[] |> save(\"CountrySeries.vegalite\")"
            ]
        },
        {
            "cell_type": "markdown",
            "metadata": {},
            "source": [
                "## Machine Learning Time\n",
                "As stated before, we can take our time series and feed them to a machine learning model.  Let use the ARCHModels package to predict future values of As stated before, we can take our time series and feed them to a machine learning model. Let use the ARCHModels package to predict future values of time series. Our time series end in 2014. The goal is to predict from 2015 and 2017. The reason for only three values into the future is that our time series are short. The model could easily predict more values into the future if we had larger time series. \n",
                "\n",
                "Remember the topics behind ARCH modeling. Part 1 is the exponential smoothing model. Exponential smoothing considers all observations in the time series. The user is able to define the level of importance of the most recent values. Part 2 is to incorporate trends over time, cyclical variations, and randomness. \n",
                "\n",
                "ARIMA is a generalization or expansion of exponential smoothing model. ARIMA has three components.\n",
                "1. Take the difference between consequence time series values instead of the values themselves. Ths is the d order\n",
                "2. Autoregression predicts time series values using the previous p time periods\n",
                "3. Moving average predicts linear errors using the previous q time periods\n",
                "\n",
                "GARCH estimates the variance, not the values, of a time series. GARCH does not use any difference of variances. The variance shows the range of error in the value estimate."
            ]
        },
        {
            "cell_type": "markdown",
            "metadata": {},
            "source": [
                "We predict using the Government Expenditure for USA and UK. The machine learning model and Julia code can easily used any other of the time series in our education statistics. Notice we are predicting using the time series values already normalized and starting from zero. This makes it easy to graph our prediction along the previous graphs. One needs to non-normalize and translate the predictions to see values in the original value range."
            ]
        },
        {
            "cell_type": "code",
            "execution_count": 23,
            "metadata": {},
            "outputs": [
                {
                    "data": {
                        "text/plain": [
                            "25-element Array{Float64,1}:\n",
                            "  0.0                \n",
                            "  0.0                \n",
                            "  0.0                \n",
                            "  0.0                \n",
                            "  0.0                \n",
                            "  0.0                \n",
                            "  0.0                \n",
                            "  0.0                \n",
                            "  0.0                \n",
                            " -0.03531195537976147\n",
                            "  0.04569456105255278\n",
                            "  0.4715552065502649 \n",
                            "  0.5564670818519    \n",
                            "  0.9646880446202385 \n",
                            "  0.6847297597191496 \n",
                            "  0.3005275687453213 \n",
                            "  0.629466953044126  \n",
                            "  0.6300853855930639 \n",
                            "  0.7370633532545653 \n",
                            "  0.7726682299482557 \n",
                            "  0.5971164127497698 \n",
                            "  0.4485129684606863 \n",
                            "  0.09565219415523354\n",
                            "  0.09565219415523354\n",
                            "  0.09565219415523354"
                        ]
                    },
                    "execution_count": 23,
                    "metadata": {},
                    "output_type": "execute_result"
                }
            ],
            "source": [
                "dfTimeValuesUK = dfTranspose |>\n",
                "    @filter(_.Country == \"United Kingdom\") |>\n",
                "    @filter(_.Series == \"GovernmentExpenditure\") |>\n",
                "    DataFrame\n",
                "\n",
                "vUKGovernmentExpenditure = replace(dfTimeValuesUK[!, 2], missing=>NaN)  # convert to float vector\n",
                "\n",
                "dfTimeValuesUSA = dfTranspose |>\n",
                "    @filter(_.Country == \"United States\") |>\n",
                "    @filter(_.Series == \"GovernmentExpenditure\") |>\n",
                "    DataFrame\n",
                "\n",
                "vUSAGovernmentExpenditure = replace(dfTimeValuesUSA[!, 2], missing=>NaN)"
            ]
        },
        {
            "cell_type": "markdown",
            "metadata": {},
            "source": [
                "The ARCHModels package finds optimal coeffiencents for the given time series. "
            ]
        },
        {
            "cell_type": "code",
            "execution_count": 24,
            "metadata": {},
            "outputs": [
                {
                    "name": "stdout",
                    "output_type": "stream",
                    "text": [
                        "Model USA\n",
                        "TGARCH{0,0,0} model with Gaussian errors, T=25.\n",
                        "\n",
                        "Mean equation parameters:\n",
                        "────────────────────────────────────────────\n",
                        "     Estimate  Std.Error   z value  Pr(>|z|)\n",
                        "────────────────────────────────────────────\n",
                        "c   0.0766742  0.0456966  1.6779      0.0934\n",
                        "φ₁  0.755663   0.166285   4.5444      <1e-5 \n",
                        "θ₁  0.169521   0.236156   0.717834    0.4729\n",
                        "────────────────────────────────────────────\n",
                        "\n",
                        "Volatility parameters:\n",
                        "─────────────────────────────────────────\n",
                        "   Estimate  Std.Error  z value  Pr(>|z|)\n",
                        "─────────────────────────────────────────\n",
                        "ω  0.034447  0.0107551  3.20286    0.0014\n",
                        "─────────────────────────────────────────\n",
                        "\n",
                        "Model UK\n",
                        "TGARCH{0,0,0} model with Gaussian errors, T=25.\n",
                        "\n",
                        "Mean equation parameters:\n",
                        "──────────────────────────────────────────────\n",
                        "      Estimate  Std.Error    z value  Pr(>|z|)\n",
                        "──────────────────────────────────────────────\n",
                        "c   -0.0908406  0.0128988  -7.04255     <1e-11\n",
                        "φ₁   0.376258   0.272877    1.37886     0.1679\n",
                        "φ₂   0.169518   0.353733    0.479226    0.6318\n",
                        "φ₃  -0.538235   0.184911   -2.91077     0.0036\n",
                        "θ₁   1.0        0.178747    5.59449     <1e-7 \n",
                        "θ₂   0.221982   0.214621    1.0343      0.3010\n",
                        "θ₃   0.890425   0.207606    4.28901     <1e-4 \n",
                        "──────────────────────────────────────────────\n",
                        "\n",
                        "Volatility parameters:\n",
                        "───────────────────────────────────────────\n",
                        "    Estimate   Std.Error  z value  Pr(>|z|)\n",
                        "───────────────────────────────────────────\n",
                        "ω  0.0118368  0.00504084  2.34817    0.0189\n",
                        "───────────────────────────────────────────\n",
                        "\n"
                    ]
                }
            ],
            "source": [
                "modelUSA = selectmodel(ARCH{0}, vUSAGovernmentExpenditure;  meanspec=ARMA)\n",
                "println(\"Model USA\", modelUSA)\n",
                "modelUK = selectmodel(ARCH{0}, vUKGovernmentExpenditure;  meanspec=ARMA)\n",
                "println(\"Model UK\", modelUK)"
            ]
        },
        {
            "cell_type": "markdown",
            "metadata": {},
            "source": [
                "Now, we are ready to time series predict. We create a function to predict many values in the future. Again, only three values into the future because our time series are very short in time. "
            ]
        },
        {
            "cell_type": "code",
            "execution_count": 25,
            "metadata": {},
            "outputs": [
                {
                    "name": "stdout",
                    "output_type": "stream",
                    "text": [
                        "USA [0.0, 0.0, 0.0, 0.0, 0.0, 0.0, 0.0, 0.0, 0.0, -0.03531195537976147, 0.04569456105255278, 0.4715552065502649, 0.5564670818519, 0.9646880446202385, 0.6847297597191496, 0.3005275687453213, 0.629466953044126, 0.6300853855930639, 0.7370633532545653, 0.7726682299482557, 0.5971164127497698, 0.4485129684606863, 0.09565219415523354, 0.09565219415523354, 0.09565219415523354, 0.13994636330740723, 0.18238750370821127, 0.21442658590980135]\n",
                        "UK [0.0, 0.0, 0.0, 0.0, 0.0, 0.0, 0.0, 0.0, 0.0, -0.08701043295048905, 0.04774100840553319, 0.0622568753061955, 0.3207623665481527, 0.47715314794959995, 0.34829896021261364, 0.3121314764560086, -0.5002882127419274, -0.5200025781302012, -0.5228468520504, -0.3517072366536428, -0.19263177986860147, 0.06230598254822861, 0.06230598254822861, -0.05491329648730353, -0.05491329648730353, -0.13250846231113753, -0.10259002029188521, -0.08424483319422896]\n"
                    ]
                }
            ],
            "source": [
                "function predictTimeValue(v, window)\n",
                "    l=length(v)\n",
                "    predictions = deepcopy(v) \n",
                "    for i = 1:futureWindow \n",
                "      push!(predictions, 0.0)\n",
                "    end\n",
                "\n",
                "    for t = l:l+window-1\n",
                "      m = selectmodel(ARCH{0}, predictions[1:t];  meanspec=ARMA)  \n",
                "      predictions[t+1] = predict(m, :return; level=0.05);\n",
                "    end\n",
                "    return predictions\n",
                "end\n",
                "\n",
                "futureWindow = 3\n",
                "\n",
                "predictionsUSA = predictTimeValue( vUSAGovernmentExpenditure, futureWindow)\n",
                "println(\"USA \", predictionsUSA)\n",
                "\n",
                "predictionsUK = predictTimeValue( vUKGovernmentExpenditure, futureWindow)\n",
                "println(\"UK \", predictionsUK)"
            ]
        },
        {
            "cell_type": "markdown",
            "metadata": {},
            "source": [
                "Now, we add our predictions to original time series.  We will soon see visually the quality of our predictions."
            ]
        },
        {
            "cell_type": "code",
            "execution_count": 26,
            "metadata": {},
            "outputs": [
                {
                    "data": {
                        "text/html": [
                            "<table class=\"data-frame\"><thead><tr><th></th><th>Timestamp</th><th>Value</th><th>Country</th><th>Series</th></tr><tr><th></th><th>Symbol</th><th>Float64⍰</th><th>String</th><th>String</th></tr></thead><tbody><p>881 rows × 4 columns</p><tr><th>1</th><td>1990</td><td>missing</td><td>Turkey</td><td>GovernmentExpenditure</td></tr><tr><th>2</th><td>1990</td><td>0.0</td><td>Turkey</td><td>PupilTeacherRatio</td></tr><tr><th>3</th><td>1990</td><td>0.0</td><td>Turkey</td><td>RateOutofSchoolBothSexes</td></tr><tr><th>4</th><td>1990</td><td>0.0</td><td>Turkey</td><td>RateOutofSchoolFemale</td></tr><tr><th>5</th><td>1990</td><td>0.0</td><td>Turkey</td><td>RateOutofSchoolMale</td></tr><tr><th>6</th><td>1990</td><td>0.0</td><td>United Arab Emirates</td><td>GovernmentExpenditure</td></tr><tr><th>7</th><td>1990</td><td>0.0</td><td>United Arab Emirates</td><td>PupilTeacherRatio</td></tr><tr><th>8</th><td>1990</td><td>0.0</td><td>United Arab Emirates</td><td>RateOutofSchoolBothSexes</td></tr><tr><th>9</th><td>1990</td><td>0.0</td><td>United Arab Emirates</td><td>RateOutofSchoolFemale</td></tr><tr><th>10</th><td>1990</td><td>0.0</td><td>United Arab Emirates</td><td>RateOutofSchoolMale</td></tr><tr><th>11</th><td>1990</td><td>0.0</td><td>United Kingdom</td><td>GovernmentExpenditure</td></tr><tr><th>12</th><td>1990</td><td>0.0</td><td>United Kingdom</td><td>PupilTeacherRatio</td></tr><tr><th>13</th><td>1990</td><td>0.0</td><td>United Kingdom</td><td>RateOutofSchoolBothSexes</td></tr><tr><th>14</th><td>1990</td><td>0.0</td><td>United Kingdom</td><td>RateOutofSchoolFemale</td></tr><tr><th>15</th><td>1990</td><td>0.0</td><td>United Kingdom</td><td>RateOutofSchoolMale</td></tr><tr><th>16</th><td>1990</td><td>0.0</td><td>United States</td><td>GovernmentExpenditure</td></tr><tr><th>17</th><td>1990</td><td>0.0</td><td>United States</td><td>PupilTeacherRatio</td></tr><tr><th>18</th><td>1990</td><td>0.0</td><td>United States</td><td>RateOutofSchoolBothSexes</td></tr><tr><th>19</th><td>1990</td><td>0.0</td><td>United States</td><td>RateOutofSchoolFemale</td></tr><tr><th>20</th><td>1990</td><td>0.0</td><td>United States</td><td>RateOutofSchoolMale</td></tr><tr><th>21</th><td>1990</td><td>0.0</td><td>Uruguay</td><td>GovernmentExpenditure</td></tr><tr><th>22</th><td>1990</td><td>0.0</td><td>Uruguay</td><td>PupilTeacherRatio</td></tr><tr><th>23</th><td>1990</td><td>0.0</td><td>Uruguay</td><td>RateOutofSchoolBothSexes</td></tr><tr><th>24</th><td>1990</td><td>0.0</td><td>Uruguay</td><td>RateOutofSchoolFemale</td></tr><tr><th>25</th><td>1990</td><td>0.0</td><td>Uruguay</td><td>RateOutofSchoolMale</td></tr><tr><th>26</th><td>1990</td><td>missing</td><td>Virgin Islands (U.S.)</td><td>GovernmentExpenditure</td></tr><tr><th>27</th><td>1990</td><td>missing</td><td>Virgin Islands (U.S.)</td><td>PupilTeacherRatio</td></tr><tr><th>28</th><td>1990</td><td>missing</td><td>Virgin Islands (U.S.)</td><td>RateOutofSchoolBothSexes</td></tr><tr><th>29</th><td>1990</td><td>missing</td><td>Virgin Islands (U.S.)</td><td>RateOutofSchoolFemale</td></tr><tr><th>30</th><td>1990</td><td>missing</td><td>Virgin Islands (U.S.)</td><td>RateOutofSchoolMale</td></tr><tr><th>&vellip;</th><td>&vellip;</td><td>&vellip;</td><td>&vellip;</td><td>&vellip;</td></tr></tbody></table>"
                        ],
                        "text/latex": [
                            "\\begin{tabular}{r|cccc}\n",
                            "\t& Timestamp & Value & Country & Series\\\\\n",
                            "\t\\hline\n",
                            "\t& Symbol & Float64⍰ & String & String\\\\\n",
                            "\t\\hline\n",
                            "\t1 & 1990 &  & Turkey & GovernmentExpenditure \\\\\n",
                            "\t2 & 1990 & 0.0 & Turkey & PupilTeacherRatio \\\\\n",
                            "\t3 & 1990 & 0.0 & Turkey & RateOutofSchoolBothSexes \\\\\n",
                            "\t4 & 1990 & 0.0 & Turkey & RateOutofSchoolFemale \\\\\n",
                            "\t5 & 1990 & 0.0 & Turkey & RateOutofSchoolMale \\\\\n",
                            "\t6 & 1990 & 0.0 & United Arab Emirates & GovernmentExpenditure \\\\\n",
                            "\t7 & 1990 & 0.0 & United Arab Emirates & PupilTeacherRatio \\\\\n",
                            "\t8 & 1990 & 0.0 & United Arab Emirates & RateOutofSchoolBothSexes \\\\\n",
                            "\t9 & 1990 & 0.0 & United Arab Emirates & RateOutofSchoolFemale \\\\\n",
                            "\t10 & 1990 & 0.0 & United Arab Emirates & RateOutofSchoolMale \\\\\n",
                            "\t11 & 1990 & 0.0 & United Kingdom & GovernmentExpenditure \\\\\n",
                            "\t12 & 1990 & 0.0 & United Kingdom & PupilTeacherRatio \\\\\n",
                            "\t13 & 1990 & 0.0 & United Kingdom & RateOutofSchoolBothSexes \\\\\n",
                            "\t14 & 1990 & 0.0 & United Kingdom & RateOutofSchoolFemale \\\\\n",
                            "\t15 & 1990 & 0.0 & United Kingdom & RateOutofSchoolMale \\\\\n",
                            "\t16 & 1990 & 0.0 & United States & GovernmentExpenditure \\\\\n",
                            "\t17 & 1990 & 0.0 & United States & PupilTeacherRatio \\\\\n",
                            "\t18 & 1990 & 0.0 & United States & RateOutofSchoolBothSexes \\\\\n",
                            "\t19 & 1990 & 0.0 & United States & RateOutofSchoolFemale \\\\\n",
                            "\t20 & 1990 & 0.0 & United States & RateOutofSchoolMale \\\\\n",
                            "\t21 & 1990 & 0.0 & Uruguay & GovernmentExpenditure \\\\\n",
                            "\t22 & 1990 & 0.0 & Uruguay & PupilTeacherRatio \\\\\n",
                            "\t23 & 1990 & 0.0 & Uruguay & RateOutofSchoolBothSexes \\\\\n",
                            "\t24 & 1990 & 0.0 & Uruguay & RateOutofSchoolFemale \\\\\n",
                            "\t25 & 1990 & 0.0 & Uruguay & RateOutofSchoolMale \\\\\n",
                            "\t26 & 1990 &  & Virgin Islands (U.S.) & GovernmentExpenditure \\\\\n",
                            "\t27 & 1990 &  & Virgin Islands (U.S.) & PupilTeacherRatio \\\\\n",
                            "\t28 & 1990 &  & Virgin Islands (U.S.) & RateOutofSchoolBothSexes \\\\\n",
                            "\t29 & 1990 &  & Virgin Islands (U.S.) & RateOutofSchoolFemale \\\\\n",
                            "\t30 & 1990 &  & Virgin Islands (U.S.) & RateOutofSchoolMale \\\\\n",
                            "\t$\\dots$ & $\\dots$ & $\\dots$ & $\\dots$ & $\\dots$ \\\\\n",
                            "\\end{tabular}\n"
                        ],
                        "text/plain": [
                            "881×4 DataFrame. Omitted printing of 1 columns\n",
                            "│ Row │ Timestamp │ Value      │ Country              │\n",
                            "│     │ \u001b[90mSymbol\u001b[39m    │ \u001b[90mFloat64⍰\u001b[39m   │ \u001b[90mString\u001b[39m               │\n",
                            "├─────┼───────────┼────────────┼──────────────────────┤\n",
                            "│ 1   │ 1990      │ \u001b[90mmissing\u001b[39m    │ Turkey               │\n",
                            "│ 2   │ 1990      │ 0.0        │ Turkey               │\n",
                            "│ 3   │ 1990      │ 0.0        │ Turkey               │\n",
                            "│ 4   │ 1990      │ 0.0        │ Turkey               │\n",
                            "│ 5   │ 1990      │ 0.0        │ Turkey               │\n",
                            "│ 6   │ 1990      │ 0.0        │ United Arab Emirates │\n",
                            "│ 7   │ 1990      │ 0.0        │ United Arab Emirates │\n",
                            "│ 8   │ 1990      │ 0.0        │ United Arab Emirates │\n",
                            "│ 9   │ 1990      │ 0.0        │ United Arab Emirates │\n",
                            "│ 10  │ 1990      │ 0.0        │ United Arab Emirates │\n",
                            "⋮\n",
                            "│ 871 │ 2014      │ 0.0        │ Zimbabwe             │\n",
                            "│ 872 │ 2014      │ -0.752613  │ Zimbabwe             │\n",
                            "│ 873 │ 2014      │ -0.28204   │ Zimbabwe             │\n",
                            "│ 874 │ 2014      │ -0.468758  │ Zimbabwe             │\n",
                            "│ 875 │ 2014      │ -0.0239847 │ Zimbabwe             │\n",
                            "│ 876 │ 2015      │ 0.139946   │ United States        │\n",
                            "│ 877 │ 2016      │ 0.182388   │ United States        │\n",
                            "│ 878 │ 2017      │ 0.214427   │ United States        │\n",
                            "│ 879 │ 2015      │ -0.132508  │ United Kingdom       │\n",
                            "│ 880 │ 2016      │ -0.10259   │ United Kingdom       │\n",
                            "│ 881 │ 2017      │ -0.0842448 │ United Kingdom       │"
                        ]
                    },
                    "execution_count": 26,
                    "metadata": {},
                    "output_type": "execute_result"
                }
            ],
            "source": [
                "dfPredictions = copy(dfTranspose) \n",
                "\n",
                "# you can create a loop to define the 3 rows per country, if you like\n",
                "l=length(predictionsUSA)\n",
                "push!(dfPredictions,[Symbol(\"2015\"), predictionsUSA[l-2], \"United States\", \"GovernmentExpenditurePredicted\"])\n",
                "push!(dfPredictions,[Symbol(\"2016\"), predictionsUSA[l-1], \"United States\", \"GovernmentExpenditurePredicted\"])\n",
                "push!(dfPredictions,[Symbol(\"2017\"), predictionsUSA[l],   \"United States\", \"GovernmentExpenditurePredicted\"])\n",
                "\n",
                "l=length(predictionsUK)\n",
                "push!(dfPredictions,[Symbol(\"2015\"), predictionsUK[l-2], \"United Kingdom\", \"GovernmentExpenditurePredicted\"])\n",
                "push!(dfPredictions,[Symbol(\"2016\"), predictionsUK[l-1], \"United Kingdom\", \"GovernmentExpenditurePredicted\"])\n",
                "push!(dfPredictions,[Symbol(\"2017\"), predictionsUK[l],   \"United Kingdom\", \"GovernmentExpenditurePredicted\"])"
            ]
        },
        {
            "cell_type": "markdown",
            "metadata": {},
            "source": [
                "The graphs of the original time series and our predictions are next.  I say our predictions are pretty good, what do you think?"
            ]
        },
        {
            "cell_type": "code",
            "execution_count": 27,
            "metadata": {},
            "outputs": [
                {
                    "data": {
                        "application/vnd.vegalite.v3+json": {
                            "data": {
                                "values": [
                                    {
                                        "Country": "United Kingdom",
                                        "Series": "GovernmentExpenditure",
                                        "Timestamp": "1990",
                                        "Value": 0
                                    },
                                    {
                                        "Country": "United States",
                                        "Series": "GovernmentExpenditure",
                                        "Timestamp": "1990",
                                        "Value": 0
                                    },
                                    {
                                        "Country": "United Kingdom",
                                        "Series": "GovernmentExpenditure",
                                        "Timestamp": "1991",
                                        "Value": 0
                                    },
                                    {
                                        "Country": "United States",
                                        "Series": "GovernmentExpenditure",
                                        "Timestamp": "1991",
                                        "Value": 0
                                    },
                                    {
                                        "Country": "United Kingdom",
                                        "Series": "GovernmentExpenditure",
                                        "Timestamp": "1992",
                                        "Value": 0
                                    },
                                    {
                                        "Country": "United States",
                                        "Series": "GovernmentExpenditure",
                                        "Timestamp": "1992",
                                        "Value": 0
                                    },
                                    {
                                        "Country": "United Kingdom",
                                        "Series": "GovernmentExpenditure",
                                        "Timestamp": "1993",
                                        "Value": 0
                                    },
                                    {
                                        "Country": "United States",
                                        "Series": "GovernmentExpenditure",
                                        "Timestamp": "1993",
                                        "Value": 0
                                    },
                                    {
                                        "Country": "United Kingdom",
                                        "Series": "GovernmentExpenditure",
                                        "Timestamp": "1994",
                                        "Value": 0
                                    },
                                    {
                                        "Country": "United States",
                                        "Series": "GovernmentExpenditure",
                                        "Timestamp": "1994",
                                        "Value": 0
                                    },
                                    {
                                        "Country": "United Kingdom",
                                        "Series": "GovernmentExpenditure",
                                        "Timestamp": "1995",
                                        "Value": 0
                                    },
                                    {
                                        "Country": "United States",
                                        "Series": "GovernmentExpenditure",
                                        "Timestamp": "1995",
                                        "Value": 0
                                    },
                                    {
                                        "Country": "United Kingdom",
                                        "Series": "GovernmentExpenditure",
                                        "Timestamp": "1996",
                                        "Value": 0
                                    },
                                    {
                                        "Country": "United States",
                                        "Series": "GovernmentExpenditure",
                                        "Timestamp": "1996",
                                        "Value": 0
                                    },
                                    {
                                        "Country": "United Kingdom",
                                        "Series": "GovernmentExpenditure",
                                        "Timestamp": "1997",
                                        "Value": 0
                                    },
                                    {
                                        "Country": "United States",
                                        "Series": "GovernmentExpenditure",
                                        "Timestamp": "1997",
                                        "Value": 0
                                    },
                                    {
                                        "Country": "United Kingdom",
                                        "Series": "GovernmentExpenditure",
                                        "Timestamp": "1998",
                                        "Value": 0
                                    },
                                    {
                                        "Country": "United States",
                                        "Series": "GovernmentExpenditure",
                                        "Timestamp": "1998",
                                        "Value": 0
                                    },
                                    {
                                        "Country": "United Kingdom",
                                        "Series": "GovernmentExpenditure",
                                        "Timestamp": "1999",
                                        "Value": -0.08701043295048905
                                    },
                                    {
                                        "Country": "United States",
                                        "Series": "GovernmentExpenditure",
                                        "Timestamp": "1999",
                                        "Value": -0.03531195537976147
                                    },
                                    {
                                        "Country": "United Kingdom",
                                        "Series": "GovernmentExpenditure",
                                        "Timestamp": "2000",
                                        "Value": 0.04774100840553319
                                    },
                                    {
                                        "Country": "United States",
                                        "Series": "GovernmentExpenditure",
                                        "Timestamp": "2000",
                                        "Value": 0.04569456105255278
                                    },
                                    {
                                        "Country": "United Kingdom",
                                        "Series": "GovernmentExpenditure",
                                        "Timestamp": "2001",
                                        "Value": 0.0622568753061955
                                    },
                                    {
                                        "Country": "United States",
                                        "Series": "GovernmentExpenditure",
                                        "Timestamp": "2001",
                                        "Value": 0.4715552065502649
                                    },
                                    {
                                        "Country": "United Kingdom",
                                        "Series": "GovernmentExpenditure",
                                        "Timestamp": "2002",
                                        "Value": 0.3207623665481527
                                    },
                                    {
                                        "Country": "United States",
                                        "Series": "GovernmentExpenditure",
                                        "Timestamp": "2002",
                                        "Value": 0.5564670818519
                                    },
                                    {
                                        "Country": "United Kingdom",
                                        "Series": "GovernmentExpenditure",
                                        "Timestamp": "2003",
                                        "Value": 0.47715314794959995
                                    },
                                    {
                                        "Country": "United States",
                                        "Series": "GovernmentExpenditure",
                                        "Timestamp": "2003",
                                        "Value": 0.9646880446202385
                                    },
                                    {
                                        "Country": "United Kingdom",
                                        "Series": "GovernmentExpenditure",
                                        "Timestamp": "2004",
                                        "Value": 0.34829896021261364
                                    },
                                    {
                                        "Country": "United States",
                                        "Series": "GovernmentExpenditure",
                                        "Timestamp": "2004",
                                        "Value": 0.6847297597191496
                                    },
                                    {
                                        "Country": "United Kingdom",
                                        "Series": "GovernmentExpenditure",
                                        "Timestamp": "2005",
                                        "Value": 0.3121314764560086
                                    },
                                    {
                                        "Country": "United States",
                                        "Series": "GovernmentExpenditure",
                                        "Timestamp": "2005",
                                        "Value": 0.3005275687453213
                                    },
                                    {
                                        "Country": "United Kingdom",
                                        "Series": "GovernmentExpenditure",
                                        "Timestamp": "2006",
                                        "Value": -0.5002882127419274
                                    },
                                    {
                                        "Country": "United States",
                                        "Series": "GovernmentExpenditure",
                                        "Timestamp": "2006",
                                        "Value": 0.629466953044126
                                    },
                                    {
                                        "Country": "United Kingdom",
                                        "Series": "GovernmentExpenditure",
                                        "Timestamp": "2007",
                                        "Value": -0.5200025781302012
                                    },
                                    {
                                        "Country": "United States",
                                        "Series": "GovernmentExpenditure",
                                        "Timestamp": "2007",
                                        "Value": 0.6300853855930639
                                    },
                                    {
                                        "Country": "United Kingdom",
                                        "Series": "GovernmentExpenditure",
                                        "Timestamp": "2008",
                                        "Value": -0.5228468520504
                                    },
                                    {
                                        "Country": "United States",
                                        "Series": "GovernmentExpenditure",
                                        "Timestamp": "2008",
                                        "Value": 0.7370633532545653
                                    },
                                    {
                                        "Country": "United Kingdom",
                                        "Series": "GovernmentExpenditure",
                                        "Timestamp": "2009",
                                        "Value": -0.3517072366536428
                                    },
                                    {
                                        "Country": "United States",
                                        "Series": "GovernmentExpenditure",
                                        "Timestamp": "2009",
                                        "Value": 0.7726682299482557
                                    },
                                    {
                                        "Country": "United Kingdom",
                                        "Series": "GovernmentExpenditure",
                                        "Timestamp": "2010",
                                        "Value": -0.19263177986860147
                                    },
                                    {
                                        "Country": "United States",
                                        "Series": "GovernmentExpenditure",
                                        "Timestamp": "2010",
                                        "Value": 0.5971164127497698
                                    },
                                    {
                                        "Country": "United Kingdom",
                                        "Series": "GovernmentExpenditure",
                                        "Timestamp": "2011",
                                        "Value": 0.06230598254822861
                                    },
                                    {
                                        "Country": "United States",
                                        "Series": "GovernmentExpenditure",
                                        "Timestamp": "2011",
                                        "Value": 0.4485129684606863
                                    },
                                    {
                                        "Country": "United Kingdom",
                                        "Series": "GovernmentExpenditure",
                                        "Timestamp": "2012",
                                        "Value": 0.06230598254822861
                                    },
                                    {
                                        "Country": "United States",
                                        "Series": "GovernmentExpenditure",
                                        "Timestamp": "2012",
                                        "Value": 0.09565219415523354
                                    },
                                    {
                                        "Country": "United Kingdom",
                                        "Series": "GovernmentExpenditure",
                                        "Timestamp": "2013",
                                        "Value": -0.05491329648730353
                                    },
                                    {
                                        "Country": "United States",
                                        "Series": "GovernmentExpenditure",
                                        "Timestamp": "2013",
                                        "Value": 0.09565219415523354
                                    },
                                    {
                                        "Country": "United Kingdom",
                                        "Series": "GovernmentExpenditure",
                                        "Timestamp": "2014",
                                        "Value": -0.05491329648730353
                                    },
                                    {
                                        "Country": "United States",
                                        "Series": "GovernmentExpenditure",
                                        "Timestamp": "2014",
                                        "Value": 0.09565219415523354
                                    },
                                    {
                                        "Country": "United States",
                                        "Series": "GovernmentExpenditurePredicted",
                                        "Timestamp": "2015",
                                        "Value": 0.13994636330740723
                                    },
                                    {
                                        "Country": "United States",
                                        "Series": "GovernmentExpenditurePredicted",
                                        "Timestamp": "2016",
                                        "Value": 0.18238750370821127
                                    },
                                    {
                                        "Country": "United States",
                                        "Series": "GovernmentExpenditurePredicted",
                                        "Timestamp": "2017",
                                        "Value": 0.21442658590980135
                                    },
                                    {
                                        "Country": "United Kingdom",
                                        "Series": "GovernmentExpenditurePredicted",
                                        "Timestamp": "2015",
                                        "Value": -0.13250846231113753
                                    },
                                    {
                                        "Country": "United Kingdom",
                                        "Series": "GovernmentExpenditurePredicted",
                                        "Timestamp": "2016",
                                        "Value": -0.10259002029188521
                                    },
                                    {
                                        "Country": "United Kingdom",
                                        "Series": "GovernmentExpenditurePredicted",
                                        "Timestamp": "2017",
                                        "Value": -0.08424483319422896
                                    }
                                ]
                            },
                            "encoding": {
                                "color": {
                                    "field": "Series",
                                    "type": "nominal"
                                },
                                "column": {
                                    "field": "Country",
                                    "type": "nominal"
                                },
                                "x": {
                                    "field": "Timestamp",
                                    "type": "ordinal"
                                },
                                "y": {
                                    "field": "Value",
                                    "type": "quantitative"
                                }
                            },
                            "mark": {
                                "point": true,
                                "type": "line"
                            }
                        },
                        "image/png": "[encoded data removed]",
                        "image/svg+xml": [
                            "<svg class=\"marks\" width=\"1379\" height=\"305\" viewBox=\"0 0 1379 305\" version=\"1.1\" xmlns=\"http://www.w3.org/2000/svg\" xmlns:xlink=\"http://www.w3.org/1999/xlink\"><g transform=\"translate(45,57)\"><g class=\"mark-group role-frame root\"><g transform=\"translate(0,0)\"><path class=\"background\" d=\"M0,0h0v0h0Z\" style=\"fill: none;\"></path><g><g class=\"mark-group role-column-title column-title\"><g transform=\"translate(571,-31)\"><path class=\"background\" d=\"M0,0h0v0h0Z\" style=\"fill: none;\"></path><g><g class=\"mark-group role-title\"><g transform=\"translate(0,-21)\"><path class=\"background\" d=\"M0,0h0v0h0Z\" style=\"pointer-events: none; fill: none;\"></path><g><g class=\"mark-text role-title-text\" style=\"pointer-events: none;\"><text text-anchor=\"middle\" transform=\"translate(0,9)\" style=\"font-family: sans-serif; font-size: 11px; font-weight: bold; fill: #000; opacity: 1;\">Country</text></g></g></g></g></g></g></g><g class=\"mark-group role-row-header row_header\"><g transform=\"translate(-1,0)\"><path class=\"background\" d=\"M0,0h0v200h0Z\" style=\"fill: none;\"></path><g><g class=\"mark-group role-axis\"><g transform=\"translate(0.5,0.5)\"><path class=\"background\" d=\"M0,0h0v0h0Z\" style=\"pointer-events: none; fill: none;\"></path><g><g class=\"mark-rule role-axis-tick\" style=\"pointer-events: none;\"><line transform=\"translate(0,188)\" x2=\"-5\" y2=\"0\" style=\"fill: none; stroke: #888; stroke-width: 1; opacity: 1;\"></line><line transform=\"translate(0,125)\" x2=\"-5\" y2=\"0\" style=\"fill: none; stroke: #888; stroke-width: 1; opacity: 1;\"></line><line transform=\"translate(0,63)\" x2=\"-5\" y2=\"0\" style=\"fill: none; stroke: #888; stroke-width: 1; opacity: 1;\"></line><line transform=\"translate(0,0)\" x2=\"-5\" y2=\"0\" style=\"fill: none; stroke: #888; stroke-width: 1; opacity: 1;\"></line></g><g class=\"mark-text role-axis-label\" style=\"pointer-events: none;\"><text text-anchor=\"end\" transform=\"translate(-7,190.5)\" style=\"font-family: sans-serif; font-size: 10px; fill: #000; opacity: 1;\">-0.5</text><text text-anchor=\"end\" transform=\"translate(-7,128)\" style=\"font-family: sans-serif; font-size: 10px; fill: #000; opacity: 1;\">0.0</text><text text-anchor=\"end\" transform=\"translate(-7,65.5)\" style=\"font-family: sans-serif; font-size: 10px; fill: #000; opacity: 1;\">0.5</text><text text-anchor=\"end\" transform=\"translate(-7,3)\" style=\"font-family: sans-serif; font-size: 10px; fill: #000; opacity: 1;\">1.0</text></g><g class=\"mark-rule role-axis-domain\" style=\"pointer-events: none;\"><line transform=\"translate(0,200)\" x2=\"0\" y2=\"-200\" style=\"fill: none; stroke: #888; stroke-width: 1; opacity: 1;\"></line></g><g class=\"mark-text role-axis-title\" style=\"pointer-events: none;\"><text text-anchor=\"middle\" transform=\"translate(-28,100) rotate(-90) translate(0,-2)\" style=\"font-family: sans-serif; font-size: 11px; font-weight: bold; fill: #000; opacity: 1;\">Value</text></g></g></g></g></g></g></g><g class=\"mark-group role-column-header column_header\"><g transform=\"translate(0,-1)\"><path class=\"background\" d=\"M0,0h560v0h-560Z\" style=\"fill: none;\"></path><g><g class=\"mark-group role-title\"><g transform=\"translate(280,-20)\"><path class=\"background\" d=\"M0,0h0v0h0Z\" style=\"pointer-events: none; fill: none;\"></path><g><g class=\"mark-text role-title-text\" style=\"pointer-events: none;\"><text text-anchor=\"middle\" transform=\"translate(0,8)\" style=\"font-family: sans-serif; font-size: 10px; fill: #000; opacity: 1;\">United Kingdom</text></g></g></g></g></g></g><g transform=\"translate(582,-1)\"><path class=\"background\" d=\"M0,0h560v0h-560Z\" style=\"fill: none;\"></path><g><g class=\"mark-group role-title\"><g transform=\"translate(280,-20)\"><path class=\"background\" d=\"M0,0h0v0h0Z\" style=\"pointer-events: none; fill: none;\"></path><g><g class=\"mark-text role-title-text\" style=\"pointer-events: none;\"><text text-anchor=\"middle\" transform=\"translate(0,8)\" style=\"font-family: sans-serif; font-size: 10px; fill: #000; opacity: 1;\">United States</text></g></g></g></g></g></g></g><g class=\"mark-group role-column-footer column_footer\"><g transform=\"translate(0,201)\"><path class=\"background\" d=\"M0,0h560v0h-560Z\" style=\"fill: none;\"></path><g><g class=\"mark-group role-axis\"><g transform=\"translate(0.5,0.5)\"><path class=\"background\" d=\"M0,0h0v0h0Z\" style=\"pointer-events: none; fill: none;\"></path><g><g class=\"mark-rule role-axis-tick\" style=\"pointer-events: none;\"><line transform=\"translate(10,0)\" x2=\"0\" y2=\"5\" style=\"fill: none; stroke: #888; stroke-width: 1; opacity: 1;\"></line><line transform=\"translate(30,0)\" x2=\"0\" y2=\"5\" style=\"fill: none; stroke: #888; stroke-width: 1; opacity: 1;\"></line><line transform=\"translate(50,0)\" x2=\"0\" y2=\"5\" style=\"fill: none; stroke: #888; stroke-width: 1; opacity: 1;\"></line><line transform=\"translate(70,0)\" x2=\"0\" y2=\"5\" style=\"fill: none; stroke: #888; stroke-width: 1; opacity: 1;\"></line><line transform=\"translate(90,0)\" x2=\"0\" y2=\"5\" style=\"fill: none; stroke: #888; stroke-width: 1; opacity: 1;\"></line><line transform=\"translate(110,0)\" x2=\"0\" y2=\"5\" style=\"fill: none; stroke: #888; stroke-width: 1; opacity: 1;\"></line><line transform=\"translate(130,0)\" x2=\"0\" y2=\"5\" style=\"fill: none; stroke: #888; stroke-width: 1; opacity: 1;\"></line><line transform=\"translate(150,0)\" x2=\"0\" y2=\"5\" style=\"fill: none; stroke: #888; stroke-width: 1; opacity: 1;\"></line><line transform=\"translate(170,0)\" x2=\"0\" y2=\"5\" style=\"fill: none; stroke: #888; stroke-width: 1; opacity: 1;\"></line><line transform=\"translate(190,0)\" x2=\"0\" y2=\"5\" style=\"fill: none; stroke: #888; stroke-width: 1; opacity: 1;\"></line><line transform=\"translate(210,0)\" x2=\"0\" y2=\"5\" style=\"fill: none; stroke: #888; stroke-width: 1; opacity: 1;\"></line><line transform=\"translate(230,0)\" x2=\"0\" y2=\"5\" style=\"fill: none; stroke: #888; stroke-width: 1; opacity: 1;\"></line><line transform=\"translate(250,0)\" x2=\"0\" y2=\"5\" style=\"fill: none; stroke: #888; stroke-width: 1; opacity: 1;\"></line><line transform=\"translate(270,0)\" x2=\"0\" y2=\"5\" style=\"fill: none; stroke: #888; stroke-width: 1; opacity: 1;\"></line><line transform=\"translate(290,0)\" x2=\"0\" y2=\"5\" style=\"fill: none; stroke: #888; stroke-width: 1; opacity: 1;\"></line><line transform=\"translate(310,0)\" x2=\"0\" y2=\"5\" style=\"fill: none; stroke: #888; stroke-width: 1; opacity: 1;\"></line><line transform=\"translate(330,0)\" x2=\"0\" y2=\"5\" style=\"fill: none; stroke: #888; stroke-width: 1; opacity: 1;\"></line><line transform=\"translate(350,0)\" x2=\"0\" y2=\"5\" style=\"fill: none; stroke: #888; stroke-width: 1; opacity: 1;\"></line><line transform=\"translate(370,0)\" x2=\"0\" y2=\"5\" style=\"fill: none; stroke: #888; stroke-width: 1; opacity: 1;\"></line><line transform=\"translate(390,0)\" x2=\"0\" y2=\"5\" style=\"fill: none; stroke: #888; stroke-width: 1; opacity: 1;\"></line><line transform=\"translate(410,0)\" x2=\"0\" y2=\"5\" style=\"fill: none; stroke: #888; stroke-width: 1; opacity: 1;\"></line><line transform=\"translate(430,0)\" x2=\"0\" y2=\"5\" style=\"fill: none; stroke: #888; stroke-width: 1; opacity: 1;\"></line><line transform=\"translate(450,0)\" x2=\"0\" y2=\"5\" style=\"fill: none; stroke: #888; stroke-width: 1; opacity: 1;\"></line><line transform=\"translate(470,0)\" x2=\"0\" y2=\"5\" style=\"fill: none; stroke: #888; stroke-width: 1; opacity: 1;\"></line><line transform=\"translate(490,0)\" x2=\"0\" y2=\"5\" style=\"fill: none; stroke: #888; stroke-width: 1; opacity: 1;\"></line><line transform=\"translate(510,0)\" x2=\"0\" y2=\"5\" style=\"fill: none; stroke: #888; stroke-width: 1; opacity: 1;\"></line><line transform=\"translate(530,0)\" x2=\"0\" y2=\"5\" style=\"fill: none; stroke: #888; stroke-width: 1; opacity: 1;\"></line><line transform=\"translate(550,0)\" x2=\"0\" y2=\"5\" style=\"fill: none; stroke: #888; stroke-width: 1; opacity: 1;\"></line></g><g class=\"mark-text role-axis-label\" style=\"pointer-events: none;\"><text text-anchor=\"end\" transform=\"translate(10,7) rotate(270) translate(0,3)\" style=\"font-family: sans-serif; font-size: 10px; fill: #000; opacity: 1;\">1990</text><text text-anchor=\"end\" transform=\"translate(30,7) rotate(270) translate(0,3)\" style=\"font-family: sans-serif; font-size: 10px; fill: #000; opacity: 1;\">1991</text><text text-anchor=\"end\" transform=\"translate(50,7) rotate(270) translate(0,3)\" style=\"font-family: sans-serif; font-size: 10px; fill: #000; opacity: 1;\">1992</text><text text-anchor=\"end\" transform=\"translate(70,7) rotate(270) translate(0,3)\" style=\"font-family: sans-serif; font-size: 10px; fill: #000; opacity: 1;\">1993</text><text text-anchor=\"end\" transform=\"translate(90,7) rotate(270) translate(0,3)\" style=\"font-family: sans-serif; font-size: 10px; fill: #000; opacity: 1;\">1994</text><text text-anchor=\"end\" transform=\"translate(110,7) rotate(270) translate(0,3)\" style=\"font-family: sans-serif; font-size: 10px; fill: #000; opacity: 1;\">1995</text><text text-anchor=\"end\" transform=\"translate(130,7) rotate(270) translate(0,3)\" style=\"font-family: sans-serif; font-size: 10px; fill: #000; opacity: 1;\">1996</text><text text-anchor=\"end\" transform=\"translate(150,7) rotate(270) translate(0,3)\" style=\"font-family: sans-serif; font-size: 10px; fill: #000; opacity: 1;\">1997</text><text text-anchor=\"end\" transform=\"translate(170,7) rotate(270) translate(0,3)\" style=\"font-family: sans-serif; font-size: 10px; fill: #000; opacity: 1;\">1998</text><text text-anchor=\"end\" transform=\"translate(190,7) rotate(270) translate(0,3)\" style=\"font-family: sans-serif; font-size: 10px; fill: #000; opacity: 1;\">1999</text><text text-anchor=\"end\" transform=\"translate(210,7) rotate(270) translate(0,3)\" style=\"font-family: sans-serif; font-size: 10px; fill: #000; opacity: 1;\">2000</text><text text-anchor=\"end\" transform=\"translate(230,7) rotate(270) translate(0,3)\" style=\"font-family: sans-serif; font-size: 10px; fill: #000; opacity: 1;\">2001</text><text text-anchor=\"end\" transform=\"translate(250,7) rotate(270) translate(0,3)\" style=\"font-family: sans-serif; font-size: 10px; fill: #000; opacity: 1;\">2002</text><text text-anchor=\"end\" transform=\"translate(270,7) rotate(270) translate(0,3)\" style=\"font-family: sans-serif; font-size: 10px; fill: #000; opacity: 1;\">2003</text><text text-anchor=\"end\" transform=\"translate(290,7) rotate(270) translate(0,3)\" style=\"font-family: sans-serif; font-size: 10px; fill: #000; opacity: 1;\">2004</text><text text-anchor=\"end\" transform=\"translate(310,7) rotate(270) translate(0,3)\" style=\"font-family: sans-serif; font-size: 10px; fill: #000; opacity: 1;\">2005</text><text text-anchor=\"end\" transform=\"translate(330,7) rotate(270) translate(0,3)\" style=\"font-family: sans-serif; font-size: 10px; fill: #000; opacity: 1;\">2006</text><text text-anchor=\"end\" transform=\"translate(350,7) rotate(270) translate(0,3)\" style=\"font-family: sans-serif; font-size: 10px; fill: #000; opacity: 1;\">2007</text><text text-anchor=\"end\" transform=\"translate(370,7) rotate(270) translate(0,3)\" style=\"font-family: sans-serif; font-size: 10px; fill: #000; opacity: 1;\">2008</text><text text-anchor=\"end\" transform=\"translate(390,7) rotate(270) translate(0,3)\" style=\"font-family: sans-serif; font-size: 10px; fill: #000; opacity: 1;\">2009</text><text text-anchor=\"end\" transform=\"translate(410,7) rotate(270) translate(0,3)\" style=\"font-family: sans-serif; font-size: 10px; fill: #000; opacity: 1;\">2010</text><text text-anchor=\"end\" transform=\"translate(430,7) rotate(270) translate(0,3)\" style=\"font-family: sans-serif; font-size: 10px; fill: #000; opacity: 1;\">2011</text><text text-anchor=\"end\" transform=\"translate(450,7) rotate(270) translate(0,3)\" style=\"font-family: sans-serif; font-size: 10px; fill: #000; opacity: 1;\">2012</text><text text-anchor=\"end\" transform=\"translate(470,7) rotate(270) translate(0,3)\" style=\"font-family: sans-serif; font-size: 10px; fill: #000; opacity: 1;\">2013</text><text text-anchor=\"end\" transform=\"translate(490,7) rotate(270) translate(0,3)\" style=\"font-family: sans-serif; font-size: 10px; fill: #000; opacity: 1;\">2014</text><text text-anchor=\"end\" transform=\"translate(510,7) rotate(270) translate(0,3)\" style=\"font-family: sans-serif; font-size: 10px; fill: #000; opacity: 1;\">2015</text><text text-anchor=\"end\" transform=\"translate(530,7) rotate(270) translate(0,3)\" style=\"font-family: sans-serif; font-size: 10px; fill: #000; opacity: 1;\">2016</text><text text-anchor=\"end\" transform=\"translate(550,7) rotate(270) translate(0,3)\" style=\"font-family: sans-serif; font-size: 10px; fill: #000; opacity: 1;\">2017</text></g><g class=\"mark-rule role-axis-domain\" style=\"pointer-events: none;\"><line transform=\"translate(0,0)\" x2=\"560\" y2=\"0\" style=\"fill: none; stroke: #888; stroke-width: 1; opacity: 1;\"></line></g><g class=\"mark-text role-axis-title\" style=\"pointer-events: none;\"><text text-anchor=\"middle\" transform=\"translate(280,40)\" style=\"font-family: sans-serif; font-size: 11px; font-weight: bold; fill: #000; opacity: 1;\">Timestamp</text></g></g></g></g></g></g><g transform=\"translate(582,201)\"><path class=\"background\" d=\"M0,0h560v0h-560Z\" style=\"fill: none;\"></path><g><g class=\"mark-group role-axis\"><g transform=\"translate(0.5,0.5)\"><path class=\"background\" d=\"M0,0h0v0h0Z\" style=\"pointer-events: none; fill: none;\"></path><g><g class=\"mark-rule role-axis-tick\" style=\"pointer-events: none;\"><line transform=\"translate(10,0)\" x2=\"0\" y2=\"5\" style=\"fill: none; stroke: #888; stroke-width: 1; opacity: 1;\"></line><line transform=\"translate(30,0)\" x2=\"0\" y2=\"5\" style=\"fill: none; stroke: #888; stroke-width: 1; opacity: 1;\"></line><line transform=\"translate(50,0)\" x2=\"0\" y2=\"5\" style=\"fill: none; stroke: #888; stroke-width: 1; opacity: 1;\"></line><line transform=\"translate(70,0)\" x2=\"0\" y2=\"5\" style=\"fill: none; stroke: #888; stroke-width: 1; opacity: 1;\"></line><line transform=\"translate(90,0)\" x2=\"0\" y2=\"5\" style=\"fill: none; stroke: #888; stroke-width: 1; opacity: 1;\"></line><line transform=\"translate(110,0)\" x2=\"0\" y2=\"5\" style=\"fill: none; stroke: #888; stroke-width: 1; opacity: 1;\"></line><line transform=\"translate(130,0)\" x2=\"0\" y2=\"5\" style=\"fill: none; stroke: #888; stroke-width: 1; opacity: 1;\"></line><line transform=\"translate(150,0)\" x2=\"0\" y2=\"5\" style=\"fill: none; stroke: #888; stroke-width: 1; opacity: 1;\"></line><line transform=\"translate(170,0)\" x2=\"0\" y2=\"5\" style=\"fill: none; stroke: #888; stroke-width: 1; opacity: 1;\"></line><line transform=\"translate(190,0)\" x2=\"0\" y2=\"5\" style=\"fill: none; stroke: #888; stroke-width: 1; opacity: 1;\"></line><line transform=\"translate(210,0)\" x2=\"0\" y2=\"5\" style=\"fill: none; stroke: #888; stroke-width: 1; opacity: 1;\"></line><line transform=\"translate(230,0)\" x2=\"0\" y2=\"5\" style=\"fill: none; stroke: #888; stroke-width: 1; opacity: 1;\"></line><line transform=\"translate(250,0)\" x2=\"0\" y2=\"5\" style=\"fill: none; stroke: #888; stroke-width: 1; opacity: 1;\"></line><line transform=\"translate(270,0)\" x2=\"0\" y2=\"5\" style=\"fill: none; stroke: #888; stroke-width: 1; opacity: 1;\"></line><line transform=\"translate(290,0)\" x2=\"0\" y2=\"5\" style=\"fill: none; stroke: #888; stroke-width: 1; opacity: 1;\"></line><line transform=\"translate(310,0)\" x2=\"0\" y2=\"5\" style=\"fill: none; stroke: #888; stroke-width: 1; opacity: 1;\"></line><line transform=\"translate(330,0)\" x2=\"0\" y2=\"5\" style=\"fill: none; stroke: #888; stroke-width: 1; opacity: 1;\"></line><line transform=\"translate(350,0)\" x2=\"0\" y2=\"5\" style=\"fill: none; stroke: #888; stroke-width: 1; opacity: 1;\"></line><line transform=\"translate(370,0)\" x2=\"0\" y2=\"5\" style=\"fill: none; stroke: #888; stroke-width: 1; opacity: 1;\"></line><line transform=\"translate(390,0)\" x2=\"0\" y2=\"5\" style=\"fill: none; stroke: #888; stroke-width: 1; opacity: 1;\"></line><line transform=\"translate(410,0)\" x2=\"0\" y2=\"5\" style=\"fill: none; stroke: #888; stroke-width: 1; opacity: 1;\"></line><line transform=\"translate(430,0)\" x2=\"0\" y2=\"5\" style=\"fill: none; stroke: #888; stroke-width: 1; opacity: 1;\"></line><line transform=\"translate(450,0)\" x2=\"0\" y2=\"5\" style=\"fill: none; stroke: #888; stroke-width: 1; opacity: 1;\"></line><line transform=\"translate(470,0)\" x2=\"0\" y2=\"5\" style=\"fill: none; stroke: #888; stroke-width: 1; opacity: 1;\"></line><line transform=\"translate(490,0)\" x2=\"0\" y2=\"5\" style=\"fill: none; stroke: #888; stroke-width: 1; opacity: 1;\"></line><line transform=\"translate(510,0)\" x2=\"0\" y2=\"5\" style=\"fill: none; stroke: #888; stroke-width: 1; opacity: 1;\"></line><line transform=\"translate(530,0)\" x2=\"0\" y2=\"5\" style=\"fill: none; stroke: #888; stroke-width: 1; opacity: 1;\"></line><line transform=\"translate(550,0)\" x2=\"0\" y2=\"5\" style=\"fill: none; stroke: #888; stroke-width: 1; opacity: 1;\"></line></g><g class=\"mark-text role-axis-label\" style=\"pointer-events: none;\"><text text-anchor=\"end\" transform=\"translate(10,7) rotate(270) translate(0,3)\" style=\"font-family: sans-serif; font-size: 10px; fill: #000; opacity: 1;\">1990</text><text text-anchor=\"end\" transform=\"translate(30,7) rotate(270) translate(0,3)\" style=\"font-family: sans-serif; font-size: 10px; fill: #000; opacity: 1;\">1991</text><text text-anchor=\"end\" transform=\"translate(50,7) rotate(270) translate(0,3)\" style=\"font-family: sans-serif; font-size: 10px; fill: #000; opacity: 1;\">1992</text><text text-anchor=\"end\" transform=\"translate(70,7) rotate(270) translate(0,3)\" style=\"font-family: sans-serif; font-size: 10px; fill: #000; opacity: 1;\">1993</text><text text-anchor=\"end\" transform=\"translate(90,7) rotate(270) translate(0,3)\" style=\"font-family: sans-serif; font-size: 10px; fill: #000; opacity: 1;\">1994</text><text text-anchor=\"end\" transform=\"translate(110,7) rotate(270) translate(0,3)\" style=\"font-family: sans-serif; font-size: 10px; fill: #000; opacity: 1;\">1995</text><text text-anchor=\"end\" transform=\"translate(130,7) rotate(270) translate(0,3)\" style=\"font-family: sans-serif; font-size: 10px; fill: #000; opacity: 1;\">1996</text><text text-anchor=\"end\" transform=\"translate(150,7) rotate(270) translate(0,3)\" style=\"font-family: sans-serif; font-size: 10px; fill: #000; opacity: 1;\">1997</text><text text-anchor=\"end\" transform=\"translate(170,7) rotate(270) translate(0,3)\" style=\"font-family: sans-serif; font-size: 10px; fill: #000; opacity: 1;\">1998</text><text text-anchor=\"end\" transform=\"translate(190,7) rotate(270) translate(0,3)\" style=\"font-family: sans-serif; font-size: 10px; fill: #000; opacity: 1;\">1999</text><text text-anchor=\"end\" transform=\"translate(210,7) rotate(270) translate(0,3)\" style=\"font-family: sans-serif; font-size: 10px; fill: #000; opacity: 1;\">2000</text><text text-anchor=\"end\" transform=\"translate(230,7) rotate(270) translate(0,3)\" style=\"font-family: sans-serif; font-size: 10px; fill: #000; opacity: 1;\">2001</text><text text-anchor=\"end\" transform=\"translate(250,7) rotate(270) translate(0,3)\" style=\"font-family: sans-serif; font-size: 10px; fill: #000; opacity: 1;\">2002</text><text text-anchor=\"end\" transform=\"translate(270,7) rotate(270) translate(0,3)\" style=\"font-family: sans-serif; font-size: 10px; fill: #000; opacity: 1;\">2003</text><text text-anchor=\"end\" transform=\"translate(290,7) rotate(270) translate(0,3)\" style=\"font-family: sans-serif; font-size: 10px; fill: #000; opacity: 1;\">2004</text><text text-anchor=\"end\" transform=\"translate(310,7) rotate(270) translate(0,3)\" style=\"font-family: sans-serif; font-size: 10px; fill: #000; opacity: 1;\">2005</text><text text-anchor=\"end\" transform=\"translate(330,7) rotate(270) translate(0,3)\" style=\"font-family: sans-serif; font-size: 10px; fill: #000; opacity: 1;\">2006</text><text text-anchor=\"end\" transform=\"translate(350,7) rotate(270) translate(0,3)\" style=\"font-family: sans-serif; font-size: 10px; fill: #000; opacity: 1;\">2007</text><text text-anchor=\"end\" transform=\"translate(370,7) rotate(270) translate(0,3)\" style=\"font-family: sans-serif; font-size: 10px; fill: #000; opacity: 1;\">2008</text><text text-anchor=\"end\" transform=\"translate(390,7) rotate(270) translate(0,3)\" style=\"font-family: sans-serif; font-size: 10px; fill: #000; opacity: 1;\">2009</text><text text-anchor=\"end\" transform=\"translate(410,7) rotate(270) translate(0,3)\" style=\"font-family: sans-serif; font-size: 10px; fill: #000; opacity: 1;\">2010</text><text text-anchor=\"end\" transform=\"translate(430,7) rotate(270) translate(0,3)\" style=\"font-family: sans-serif; font-size: 10px; fill: #000; opacity: 1;\">2011</text><text text-anchor=\"end\" transform=\"translate(450,7) rotate(270) translate(0,3)\" style=\"font-family: sans-serif; font-size: 10px; fill: #000; opacity: 1;\">2012</text><text text-anchor=\"end\" transform=\"translate(470,7) rotate(270) translate(0,3)\" style=\"font-family: sans-serif; font-size: 10px; fill: #000; opacity: 1;\">2013</text><text text-anchor=\"end\" transform=\"translate(490,7) rotate(270) translate(0,3)\" style=\"font-family: sans-serif; font-size: 10px; fill: #000; opacity: 1;\">2014</text><text text-anchor=\"end\" transform=\"translate(510,7) rotate(270) translate(0,3)\" style=\"font-family: sans-serif; font-size: 10px; fill: #000; opacity: 1;\">2015</text><text text-anchor=\"end\" transform=\"translate(530,7) rotate(270) translate(0,3)\" style=\"font-family: sans-serif; font-size: 10px; fill: #000; opacity: 1;\">2016</text><text text-anchor=\"end\" transform=\"translate(550,7) rotate(270) translate(0,3)\" style=\"font-family: sans-serif; font-size: 10px; fill: #000; opacity: 1;\">2017</text></g><g class=\"mark-rule role-axis-domain\" style=\"pointer-events: none;\"><line transform=\"translate(0,0)\" x2=\"560\" y2=\"0\" style=\"fill: none; stroke: #888; stroke-width: 1; opacity: 1;\"></line></g><g class=\"mark-text role-axis-title\" style=\"pointer-events: none;\"><text text-anchor=\"middle\" transform=\"translate(280,40)\" style=\"font-family: sans-serif; font-size: 11px; font-weight: bold; fill: #000; opacity: 1;\">Timestamp</text></g></g></g></g></g></g></g><g class=\"mark-group role-scope cell\"><g transform=\"translate(0,0)\"><path class=\"background\" d=\"M0.5,0.5h560v200h-560Z\" style=\"fill: none; stroke: #ddd;\"></path><g><g class=\"mark-group role-axis\"><g transform=\"translate(0.5,0.5)\"><path class=\"background\" d=\"M0,0h0v0h0Z\" style=\"pointer-events: none; fill: none;\"></path><g><g class=\"mark-rule role-axis-grid\" style=\"pointer-events: none;\"><line transform=\"translate(0,188)\" x2=\"560\" y2=\"0\" style=\"fill: none; stroke: #ddd; stroke-width: 1; opacity: 1;\"></line><line transform=\"translate(0,125)\" x2=\"560\" y2=\"0\" style=\"fill: none; stroke: #ddd; stroke-width: 1; opacity: 1;\"></line><line transform=\"translate(0,63)\" x2=\"560\" y2=\"0\" style=\"fill: none; stroke: #ddd; stroke-width: 1; opacity: 1;\"></line><line transform=\"translate(0,0)\" x2=\"560\" y2=\"0\" style=\"fill: none; stroke: #ddd; stroke-width: 1; opacity: 1;\"></line></g></g></g></g><g class=\"mark-group role-scope child_layer_0_pathgroup\"><g transform=\"translate(0,0)\"><path class=\"background\" d=\"M0,0h560v200h-560Z\" style=\"fill: none;\"></path><g><g class=\"mark-line role-mark child_layer_0_marks\"><path d=\"M10,125L30,125L50,125L70,125L90,125L110,125L130,125L150,125L170,125L190,135.87630411881113L210,119.03237394930835L230,117.21789058672556L250,84.90470418148092L270,65.35585650630003L290,81.4626299734233L310,85.98356544299894L330,187.5360265927409L350,190.00032226627516L370,190.3558565063L390,168.96340458170536L410,149.07897248357517L430,117.21175218147141L450,117.21175218147141L470,131.86416206091295L490,131.86416206091295\" style=\"fill: none; stroke: #4c78a8; stroke-width: 2;\"></path></g></g></g><g transform=\"translate(0,0)\"><path class=\"background\" d=\"M0,0h560v200h-560Z\" style=\"fill: none;\"></path><g><g class=\"mark-line role-mark child_layer_0_marks\"><path d=\"M510,141.5635577888922L530,137.82375253648567L550,135.53060414927862\" style=\"fill: none; stroke: #f58518; stroke-width: 2;\"></path></g></g></g></g><g class=\"mark-symbol role-mark child_layer_1_marks\"><path transform=\"translate(10,125)\" d=\"M2.7386127875258306,0A2.7386127875258306,2.7386127875258306,0,1,1,-2.7386127875258306,0A2.7386127875258306,2.7386127875258306,0,1,1,2.7386127875258306,0\" style=\"fill: #4c78a8; stroke-width: 2; opacity: 1;\"></path><path transform=\"translate(30,125)\" d=\"M2.7386127875258306,0A2.7386127875258306,2.7386127875258306,0,1,1,-2.7386127875258306,0A2.7386127875258306,2.7386127875258306,0,1,1,2.7386127875258306,0\" style=\"fill: #4c78a8; stroke-width: 2; opacity: 1;\"></path><path transform=\"translate(50,125)\" d=\"M2.7386127875258306,0A2.7386127875258306,2.7386127875258306,0,1,1,-2.7386127875258306,0A2.7386127875258306,2.7386127875258306,0,1,1,2.7386127875258306,0\" style=\"fill: #4c78a8; stroke-width: 2; opacity: 1;\"></path><path transform=\"translate(70,125)\" d=\"M2.7386127875258306,0A2.7386127875258306,2.7386127875258306,0,1,1,-2.7386127875258306,0A2.7386127875258306,2.7386127875258306,0,1,1,2.7386127875258306,0\" style=\"fill: #4c78a8; stroke-width: 2; opacity: 1;\"></path><path transform=\"translate(90,125)\" d=\"M2.7386127875258306,0A2.7386127875258306,2.7386127875258306,0,1,1,-2.7386127875258306,0A2.7386127875258306,2.7386127875258306,0,1,1,2.7386127875258306,0\" style=\"fill: #4c78a8; stroke-width: 2; opacity: 1;\"></path><path transform=\"translate(110,125)\" d=\"M2.7386127875258306,0A2.7386127875258306,2.7386127875258306,0,1,1,-2.7386127875258306,0A2.7386127875258306,2.7386127875258306,0,1,1,2.7386127875258306,0\" style=\"fill: #4c78a8; stroke-width: 2; opacity: 1;\"></path><path transform=\"translate(130,125)\" d=\"M2.7386127875258306,0A2.7386127875258306,2.7386127875258306,0,1,1,-2.7386127875258306,0A2.7386127875258306,2.7386127875258306,0,1,1,2.7386127875258306,0\" style=\"fill: #4c78a8; stroke-width: 2; opacity: 1;\"></path><path transform=\"translate(150,125)\" d=\"M2.7386127875258306,0A2.7386127875258306,2.7386127875258306,0,1,1,-2.7386127875258306,0A2.7386127875258306,2.7386127875258306,0,1,1,2.7386127875258306,0\" style=\"fill: #4c78a8; stroke-width: 2; opacity: 1;\"></path><path transform=\"translate(170,125)\" d=\"M2.7386127875258306,0A2.7386127875258306,2.7386127875258306,0,1,1,-2.7386127875258306,0A2.7386127875258306,2.7386127875258306,0,1,1,2.7386127875258306,0\" style=\"fill: #4c78a8; stroke-width: 2; opacity: 1;\"></path><path transform=\"translate(190,135.87630411881113)\" d=\"M2.7386127875258306,0A2.7386127875258306,2.7386127875258306,0,1,1,-2.7386127875258306,0A2.7386127875258306,2.7386127875258306,0,1,1,2.7386127875258306,0\" style=\"fill: #4c78a8; stroke-width: 2; opacity: 1;\"></path><path transform=\"translate(210,119.03237394930835)\" d=\"M2.7386127875258306,0A2.7386127875258306,2.7386127875258306,0,1,1,-2.7386127875258306,0A2.7386127875258306,2.7386127875258306,0,1,1,2.7386127875258306,0\" style=\"fill: #4c78a8; stroke-width: 2; opacity: 1;\"></path><path transform=\"translate(230,117.21789058672556)\" d=\"M2.7386127875258306,0A2.7386127875258306,2.7386127875258306,0,1,1,-2.7386127875258306,0A2.7386127875258306,2.7386127875258306,0,1,1,2.7386127875258306,0\" style=\"fill: #4c78a8; stroke-width: 2; opacity: 1;\"></path><path transform=\"translate(250,84.90470418148092)\" d=\"M2.7386127875258306,0A2.7386127875258306,2.7386127875258306,0,1,1,-2.7386127875258306,0A2.7386127875258306,2.7386127875258306,0,1,1,2.7386127875258306,0\" style=\"fill: #4c78a8; stroke-width: 2; opacity: 1;\"></path><path transform=\"translate(270,65.35585650630003)\" d=\"M2.7386127875258306,0A2.7386127875258306,2.7386127875258306,0,1,1,-2.7386127875258306,0A2.7386127875258306,2.7386127875258306,0,1,1,2.7386127875258306,0\" style=\"fill: #4c78a8; stroke-width: 2; opacity: 1;\"></path><path transform=\"translate(290,81.4626299734233)\" d=\"M2.7386127875258306,0A2.7386127875258306,2.7386127875258306,0,1,1,-2.7386127875258306,0A2.7386127875258306,2.7386127875258306,0,1,1,2.7386127875258306,0\" style=\"fill: #4c78a8; stroke-width: 2; opacity: 1;\"></path><path transform=\"translate(310,85.98356544299894)\" d=\"M2.7386127875258306,0A2.7386127875258306,2.7386127875258306,0,1,1,-2.7386127875258306,0A2.7386127875258306,2.7386127875258306,0,1,1,2.7386127875258306,0\" style=\"fill: #4c78a8; stroke-width: 2; opacity: 1;\"></path><path transform=\"translate(330,187.5360265927409)\" d=\"M2.7386127875258306,0A2.7386127875258306,2.7386127875258306,0,1,1,-2.7386127875258306,0A2.7386127875258306,2.7386127875258306,0,1,1,2.7386127875258306,0\" style=\"fill: #4c78a8; stroke-width: 2; opacity: 1;\"></path><path transform=\"translate(350,190.00032226627516)\" d=\"M2.7386127875258306,0A2.7386127875258306,2.7386127875258306,0,1,1,-2.7386127875258306,0A2.7386127875258306,2.7386127875258306,0,1,1,2.7386127875258306,0\" style=\"fill: #4c78a8; stroke-width: 2; opacity: 1;\"></path><path transform=\"translate(370,190.3558565063)\" d=\"M2.7386127875258306,0A2.7386127875258306,2.7386127875258306,0,1,1,-2.7386127875258306,0A2.7386127875258306,2.7386127875258306,0,1,1,2.7386127875258306,0\" style=\"fill: #4c78a8; stroke-width: 2; opacity: 1;\"></path><path transform=\"translate(390,168.96340458170536)\" d=\"M2.7386127875258306,0A2.7386127875258306,2.7386127875258306,0,1,1,-2.7386127875258306,0A2.7386127875258306,2.7386127875258306,0,1,1,2.7386127875258306,0\" style=\"fill: #4c78a8; stroke-width: 2; opacity: 1;\"></path><path transform=\"translate(410,149.07897248357517)\" d=\"M2.7386127875258306,0A2.7386127875258306,2.7386127875258306,0,1,1,-2.7386127875258306,0A2.7386127875258306,2.7386127875258306,0,1,1,2.7386127875258306,0\" style=\"fill: #4c78a8; stroke-width: 2; opacity: 1;\"></path><path transform=\"translate(430,117.21175218147141)\" d=\"M2.7386127875258306,0A2.7386127875258306,2.7386127875258306,0,1,1,-2.7386127875258306,0A2.7386127875258306,2.7386127875258306,0,1,1,2.7386127875258306,0\" style=\"fill: #4c78a8; stroke-width: 2; opacity: 1;\"></path><path transform=\"translate(450,117.21175218147141)\" d=\"M2.7386127875258306,0A2.7386127875258306,2.7386127875258306,0,1,1,-2.7386127875258306,0A2.7386127875258306,2.7386127875258306,0,1,1,2.7386127875258306,0\" style=\"fill: #4c78a8; stroke-width: 2; opacity: 1;\"></path><path transform=\"translate(470,131.86416206091295)\" d=\"M2.7386127875258306,0A2.7386127875258306,2.7386127875258306,0,1,1,-2.7386127875258306,0A2.7386127875258306,2.7386127875258306,0,1,1,2.7386127875258306,0\" style=\"fill: #4c78a8; stroke-width: 2; opacity: 1;\"></path><path transform=\"translate(490,131.86416206091295)\" d=\"M2.7386127875258306,0A2.7386127875258306,2.7386127875258306,0,1,1,-2.7386127875258306,0A2.7386127875258306,2.7386127875258306,0,1,1,2.7386127875258306,0\" style=\"fill: #4c78a8; stroke-width: 2; opacity: 1;\"></path><path transform=\"translate(510,141.5635577888922)\" d=\"M2.7386127875258306,0A2.7386127875258306,2.7386127875258306,0,1,1,-2.7386127875258306,0A2.7386127875258306,2.7386127875258306,0,1,1,2.7386127875258306,0\" style=\"fill: #f58518; stroke-width: 2; opacity: 1;\"></path><path transform=\"translate(530,137.82375253648567)\" d=\"M2.7386127875258306,0A2.7386127875258306,2.7386127875258306,0,1,1,-2.7386127875258306,0A2.7386127875258306,2.7386127875258306,0,1,1,2.7386127875258306,0\" style=\"fill: #f58518; stroke-width: 2; opacity: 1;\"></path><path transform=\"translate(550,135.53060414927862)\" d=\"M2.7386127875258306,0A2.7386127875258306,2.7386127875258306,0,1,1,-2.7386127875258306,0A2.7386127875258306,2.7386127875258306,0,1,1,2.7386127875258306,0\" style=\"fill: #f58518; stroke-width: 2; opacity: 1;\"></path></g></g></g><g transform=\"translate(582,0)\"><path class=\"background\" d=\"M0.5,0.5h560v200h-560Z\" style=\"fill: none; stroke: #ddd;\"></path><g><g class=\"mark-group role-axis\"><g transform=\"translate(0.5,0.5)\"><path class=\"background\" d=\"M0,0h0v0h0Z\" style=\"pointer-events: none; fill: none;\"></path><g><g class=\"mark-rule role-axis-grid\" style=\"pointer-events: none;\"><line transform=\"translate(0,188)\" x2=\"560\" y2=\"0\" style=\"fill: none; stroke: #ddd; stroke-width: 1; opacity: 1;\"></line><line transform=\"translate(0,125)\" x2=\"560\" y2=\"0\" style=\"fill: none; stroke: #ddd; stroke-width: 1; opacity: 1;\"></line><line transform=\"translate(0,63)\" x2=\"560\" y2=\"0\" style=\"fill: none; stroke: #ddd; stroke-width: 1; opacity: 1;\"></line><line transform=\"translate(0,0)\" x2=\"560\" y2=\"0\" style=\"fill: none; stroke: #ddd; stroke-width: 1; opacity: 1;\"></line></g></g></g></g><g class=\"mark-group role-scope child_layer_0_pathgroup\"><g transform=\"translate(0,0)\"><path class=\"background\" d=\"M0,0h560v200h-560Z\" style=\"fill: none;\"></path><g><g class=\"mark-line role-mark child_layer_0_marks\"><path d=\"M10,125L30,125L50,125L70,125L90,125L110,125L130,125L150,125L170,125L190,129.41399442247018L210,119.28817986843092L230,66.05559918121688L250,55.4416147685125L270,4.413994422470191L290,39.408780035106304L310,87.43405390683483L330,46.31663086948426L350,46.239326800867L370,32.86708084317935L390,28.416471256468068L410,50.36044840627878L430,68.93587894241423L450,113.04347573059582L470,113.04347573059582L490,113.04347573059582\" style=\"fill: none; stroke: #4c78a8; stroke-width: 2;\"></path></g></g></g><g transform=\"translate(0,0)\"><path class=\"background\" d=\"M0,0h560v200h-560Z\" style=\"fill: none;\"></path><g><g class=\"mark-line role-mark child_layer_0_marks\"><path d=\"M510,107.5067045865741L530,102.20156203647359L550,98.19667676127483\" style=\"fill: none; stroke: #f58518; stroke-width: 2;\"></path></g></g></g></g><g class=\"mark-symbol role-mark child_layer_1_marks\"><path transform=\"translate(10,125)\" d=\"M2.7386127875258306,0A2.7386127875258306,2.7386127875258306,0,1,1,-2.7386127875258306,0A2.7386127875258306,2.7386127875258306,0,1,1,2.7386127875258306,0\" style=\"fill: #4c78a8; stroke-width: 2; opacity: 1;\"></path><path transform=\"translate(30,125)\" d=\"M2.7386127875258306,0A2.7386127875258306,2.7386127875258306,0,1,1,-2.7386127875258306,0A2.7386127875258306,2.7386127875258306,0,1,1,2.7386127875258306,0\" style=\"fill: #4c78a8; stroke-width: 2; opacity: 1;\"></path><path transform=\"translate(50,125)\" d=\"M2.7386127875258306,0A2.7386127875258306,2.7386127875258306,0,1,1,-2.7386127875258306,0A2.7386127875258306,2.7386127875258306,0,1,1,2.7386127875258306,0\" style=\"fill: #4c78a8; stroke-width: 2; opacity: 1;\"></path><path transform=\"translate(70,125)\" d=\"M2.7386127875258306,0A2.7386127875258306,2.7386127875258306,0,1,1,-2.7386127875258306,0A2.7386127875258306,2.7386127875258306,0,1,1,2.7386127875258306,0\" style=\"fill: #4c78a8; stroke-width: 2; opacity: 1;\"></path><path transform=\"translate(90,125)\" d=\"M2.7386127875258306,0A2.7386127875258306,2.7386127875258306,0,1,1,-2.7386127875258306,0A2.7386127875258306,2.7386127875258306,0,1,1,2.7386127875258306,0\" style=\"fill: #4c78a8; stroke-width: 2; opacity: 1;\"></path><path transform=\"translate(110,125)\" d=\"M2.7386127875258306,0A2.7386127875258306,2.7386127875258306,0,1,1,-2.7386127875258306,0A2.7386127875258306,2.7386127875258306,0,1,1,2.7386127875258306,0\" style=\"fill: #4c78a8; stroke-width: 2; opacity: 1;\"></path><path transform=\"translate(130,125)\" d=\"M2.7386127875258306,0A2.7386127875258306,2.7386127875258306,0,1,1,-2.7386127875258306,0A2.7386127875258306,2.7386127875258306,0,1,1,2.7386127875258306,0\" style=\"fill: #4c78a8; stroke-width: 2; opacity: 1;\"></path><path transform=\"translate(150,125)\" d=\"M2.7386127875258306,0A2.7386127875258306,2.7386127875258306,0,1,1,-2.7386127875258306,0A2.7386127875258306,2.7386127875258306,0,1,1,2.7386127875258306,0\" style=\"fill: #4c78a8; stroke-width: 2; opacity: 1;\"></path><path transform=\"translate(170,125)\" d=\"M2.7386127875258306,0A2.7386127875258306,2.7386127875258306,0,1,1,-2.7386127875258306,0A2.7386127875258306,2.7386127875258306,0,1,1,2.7386127875258306,0\" style=\"fill: #4c78a8; stroke-width: 2; opacity: 1;\"></path><path transform=\"translate(190,129.41399442247018)\" d=\"M2.7386127875258306,0A2.7386127875258306,2.7386127875258306,0,1,1,-2.7386127875258306,0A2.7386127875258306,2.7386127875258306,0,1,1,2.7386127875258306,0\" style=\"fill: #4c78a8; stroke-width: 2; opacity: 1;\"></path><path transform=\"translate(210,119.28817986843092)\" d=\"M2.7386127875258306,0A2.7386127875258306,2.7386127875258306,0,1,1,-2.7386127875258306,0A2.7386127875258306,2.7386127875258306,0,1,1,2.7386127875258306,0\" style=\"fill: #4c78a8; stroke-width: 2; opacity: 1;\"></path><path transform=\"translate(230,66.05559918121688)\" d=\"M2.7386127875258306,0A2.7386127875258306,2.7386127875258306,0,1,1,-2.7386127875258306,0A2.7386127875258306,2.7386127875258306,0,1,1,2.7386127875258306,0\" style=\"fill: #4c78a8; stroke-width: 2; opacity: 1;\"></path><path transform=\"translate(250,55.4416147685125)\" d=\"M2.7386127875258306,0A2.7386127875258306,2.7386127875258306,0,1,1,-2.7386127875258306,0A2.7386127875258306,2.7386127875258306,0,1,1,2.7386127875258306,0\" style=\"fill: #4c78a8; stroke-width: 2; opacity: 1;\"></path><path transform=\"translate(270,4.413994422470191)\" d=\"M2.7386127875258306,0A2.7386127875258306,2.7386127875258306,0,1,1,-2.7386127875258306,0A2.7386127875258306,2.7386127875258306,0,1,1,2.7386127875258306,0\" style=\"fill: #4c78a8; stroke-width: 2; opacity: 1;\"></path><path transform=\"translate(290,39.408780035106304)\" d=\"M2.7386127875258306,0A2.7386127875258306,2.7386127875258306,0,1,1,-2.7386127875258306,0A2.7386127875258306,2.7386127875258306,0,1,1,2.7386127875258306,0\" style=\"fill: #4c78a8; stroke-width: 2; opacity: 1;\"></path><path transform=\"translate(310,87.43405390683483)\" d=\"M2.7386127875258306,0A2.7386127875258306,2.7386127875258306,0,1,1,-2.7386127875258306,0A2.7386127875258306,2.7386127875258306,0,1,1,2.7386127875258306,0\" style=\"fill: #4c78a8; stroke-width: 2; opacity: 1;\"></path><path transform=\"translate(330,46.31663086948426)\" d=\"M2.7386127875258306,0A2.7386127875258306,2.7386127875258306,0,1,1,-2.7386127875258306,0A2.7386127875258306,2.7386127875258306,0,1,1,2.7386127875258306,0\" style=\"fill: #4c78a8; stroke-width: 2; opacity: 1;\"></path><path transform=\"translate(350,46.239326800867)\" d=\"M2.7386127875258306,0A2.7386127875258306,2.7386127875258306,0,1,1,-2.7386127875258306,0A2.7386127875258306,2.7386127875258306,0,1,1,2.7386127875258306,0\" style=\"fill: #4c78a8; stroke-width: 2; opacity: 1;\"></path><path transform=\"translate(370,32.86708084317935)\" d=\"M2.7386127875258306,0A2.7386127875258306,2.7386127875258306,0,1,1,-2.7386127875258306,0A2.7386127875258306,2.7386127875258306,0,1,1,2.7386127875258306,0\" style=\"fill: #4c78a8; stroke-width: 2; opacity: 1;\"></path><path transform=\"translate(390,28.416471256468068)\" d=\"M2.7386127875258306,0A2.7386127875258306,2.7386127875258306,0,1,1,-2.7386127875258306,0A2.7386127875258306,2.7386127875258306,0,1,1,2.7386127875258306,0\" style=\"fill: #4c78a8; stroke-width: 2; opacity: 1;\"></path><path transform=\"translate(410,50.36044840627878)\" d=\"M2.7386127875258306,0A2.7386127875258306,2.7386127875258306,0,1,1,-2.7386127875258306,0A2.7386127875258306,2.7386127875258306,0,1,1,2.7386127875258306,0\" style=\"fill: #4c78a8; stroke-width: 2; opacity: 1;\"></path><path transform=\"translate(430,68.93587894241423)\" d=\"M2.7386127875258306,0A2.7386127875258306,2.7386127875258306,0,1,1,-2.7386127875258306,0A2.7386127875258306,2.7386127875258306,0,1,1,2.7386127875258306,0\" style=\"fill: #4c78a8; stroke-width: 2; opacity: 1;\"></path><path transform=\"translate(450,113.04347573059582)\" d=\"M2.7386127875258306,0A2.7386127875258306,2.7386127875258306,0,1,1,-2.7386127875258306,0A2.7386127875258306,2.7386127875258306,0,1,1,2.7386127875258306,0\" style=\"fill: #4c78a8; stroke-width: 2; opacity: 1;\"></path><path transform=\"translate(470,113.04347573059582)\" d=\"M2.7386127875258306,0A2.7386127875258306,2.7386127875258306,0,1,1,-2.7386127875258306,0A2.7386127875258306,2.7386127875258306,0,1,1,2.7386127875258306,0\" style=\"fill: #4c78a8; stroke-width: 2; opacity: 1;\"></path><path transform=\"translate(490,113.04347573059582)\" d=\"M2.7386127875258306,0A2.7386127875258306,2.7386127875258306,0,1,1,-2.7386127875258306,0A2.7386127875258306,2.7386127875258306,0,1,1,2.7386127875258306,0\" style=\"fill: #4c78a8; stroke-width: 2; opacity: 1;\"></path><path transform=\"translate(510,107.5067045865741)\" d=\"M2.7386127875258306,0A2.7386127875258306,2.7386127875258306,0,1,1,-2.7386127875258306,0A2.7386127875258306,2.7386127875258306,0,1,1,2.7386127875258306,0\" style=\"fill: #f58518; stroke-width: 2; opacity: 1;\"></path><path transform=\"translate(530,102.20156203647359)\" d=\"M2.7386127875258306,0A2.7386127875258306,2.7386127875258306,0,1,1,-2.7386127875258306,0A2.7386127875258306,2.7386127875258306,0,1,1,2.7386127875258306,0\" style=\"fill: #f58518; stroke-width: 2; opacity: 1;\"></path><path transform=\"translate(550,98.19667676127483)\" d=\"M2.7386127875258306,0A2.7386127875258306,2.7386127875258306,0,1,1,-2.7386127875258306,0A2.7386127875258306,2.7386127875258306,0,1,1,2.7386127875258306,0\" style=\"fill: #f58518; stroke-width: 2; opacity: 1;\"></path></g></g></g></g><g class=\"mark-group role-legend\"><g transform=\"translate(1161,0)\"><path class=\"background\" d=\"M0,0h168v45h-168Z\" style=\"pointer-events: none; fill: none;\"></path><g><g class=\"mark-group role-legend-entry\"><g transform=\"translate(0,16)\"><path class=\"background\" d=\"M0,0h0v0h0Z\" style=\"pointer-events: none; fill: none;\"></path><g><g class=\"mark-group role-scope\"><g transform=\"translate(0,0)\"><path class=\"background\" d=\"M0,0h168v12.5h-168Z\" style=\"pointer-events: none; fill: none; opacity: 1;\"></path><g><g class=\"mark-symbol role-legend-symbol\" style=\"pointer-events: none;\"><path transform=\"translate(6,6)\" d=\"M5,0A5,5,0,1,1,-5,0A5,5,0,1,1,5,0\" style=\"fill: #4c78a8; stroke: #4c78a8; stroke-width: 1.5; opacity: 1;\"></path></g><g class=\"mark-text role-legend-label\" style=\"pointer-events: none;\"><text text-anchor=\"start\" transform=\"translate(16,9)\" style=\"font-family: sans-serif; font-size: 10px; fill: #000; opacity: 1;\">GovernmentExpenditure</text></g></g></g><g transform=\"translate(0,16)\"><path class=\"background\" d=\"M0,0h168v12.5h-168Z\" style=\"pointer-events: none; fill: none; opacity: 1;\"></path><g><g class=\"mark-symbol role-legend-symbol\" style=\"pointer-events: none;\"><path transform=\"translate(6,6)\" d=\"M5,0A5,5,0,1,1,-5,0A5,5,0,1,1,5,0\" style=\"fill: #f58518; stroke: #f58518; stroke-width: 1.5; opacity: 1;\"></path></g><g class=\"mark-text role-legend-label\" style=\"pointer-events: none;\"><text text-anchor=\"start\" transform=\"translate(16,9)\" style=\"font-family: sans-serif; font-size: 10px; fill: #000; opacity: 1;\">GovernmentExpenditurePredicted</text></g></g></g></g></g></g></g><g class=\"mark-text role-legend-title\" style=\"pointer-events: none;\"><text text-anchor=\"start\" transform=\"translate(0,9)\" style=\"font-family: sans-serif; font-size: 11px; font-weight: bold; fill: #000; opacity: 1;\">Series</text></g></g></g></g></g></g></g></g></svg>"
                        ],
                        "text/plain": [
                            "VegaLite.VLSpec{:plot}"
                        ]
                    },
                    "execution_count": 27,
                    "metadata": {},
                    "output_type": "execute_result"
                }
            ],
            "source": [
                "graph = dfPredictions |>\n",
                "    @filter(_.Country == \"United States\" || _.Country == \"United Kingdom\") |>\n",
                "    @filter(_.Series == \"GovernmentExpenditure\" || _.Series == \"GovernmentExpenditurePredicted\") |> \n",
                "    @vlplot(\n",
                "        mark={\n",
                "        :line,\n",
                "        point=true\n",
                "        },\n",
                "        x=:\"Timestamp:o\", y=:Value, color=:Series, column=:Country)"
            ]
        },
        {
            "cell_type": "markdown",
            "metadata": {},
            "source": [
                "## Conclusion\n",
                "This JupyterLab shows the power and convenience of Queryverse, ARCHModels package, and Julia 1.31. We read real world statistics. Then, we cleaned, imputed, and graph our data. We also created an interactive data visualizer for our data. Lastly, we predicted future values with ARCH modeling. All with simple and fast Julia code.\n",
                "\n",
                "As most real world data science projects, the data cleaning and preparation is the most time consuming sections. Each data cleaning and preparation step is just a few simple lines of Julia code when using Queryverse. Queryverse allows us to use Dataframes, and IndexTables whenever and however it was convenient. That is amazing. Queryverse works with any Julia package that implements IterableTable package which is a named tuple interface. We could easily use the TimeSeries package if our time period was smaller than 1 year.\n",
                "\n",
                "VegaLite and Voyager are easy to use and are superior to graphing in R Studio. It literally takes one line of code to graph or create an interactive visualizer of our data. In addition, the ARCHModels package is well documented and easy to use."
            ]
        },
        {
            "cell_type": "markdown",
            "metadata": {},
            "source": [
                "## About the Author\n",
                "\n",
                "Clarman Cruz completed his BS/MS in Computer Science from State University of New York at Stony Brook/Albany. He has more than 15 years technology experience in the banking industry. He is completing on May 2020 his edX MicroMasters in Analytics from Georgia Tech."
            ]
        }
    ],
    "metadata": {
        "kernelspec": {
            "display_name": "Julia 1.3.1",
            "language": "julia",
            "name": "julia-1.3"
        },
        "language_info": {
            "file_extension": ".jl",
            "mimetype": "application/julia",
            "name": "julia",
            "version": "1.3.1"
        }
    },
    "nbformat": 4,
    "nbformat_minor": 4
}