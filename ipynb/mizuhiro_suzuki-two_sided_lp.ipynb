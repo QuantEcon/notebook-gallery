{
    "cells": [
        {
            "cell_type": "markdown",
            "metadata": {},
            "source": [
                "# Linear programming formulation of two-sided matching problems"
            ]
        },
        {
            "cell_type": "markdown",
            "metadata": {},
            "source": [
                "In this notebook, I solve the stable matching problem with the linear programming formulation with Julia/JuMP.\n",
                "The formulation is based on [Online and Matching-Based Market Design 1.5](https://www.cambridge.org/core/books/online-and-matchingbased-market-design/604CA9FF1396C489D6497CF336368524)."
            ]
        },
        {
            "cell_type": "markdown",
            "metadata": {},
            "source": [
                "## Setting"
            ]
        },
        {
            "cell_type": "markdown",
            "metadata": {},
            "source": [
                "I consider an instance with the same number of workers ($w$) and firms ($f$), and I consider one-to-one complete matchings.\n",
                "Let the sets of workers and firms be $W$ and $F$.\n",
                "Assume that the preferences are strict.\n",
                "A sufficient condition so that a worker-firm pair does not form a blocking pair in this matching is that, if $w$ is matched to firm $f'$ such that another firm $f$ is preferred to $f'$ by $w$, then $f$ should be matched to another worker $w'$ who is preferred to $w$ by $f$.\n",
                "\n",
                "Using this, the linear programming for finding a stable matching is formulated as follows:\n",
                "\n",
                "\\begin{align*}\n",
                "    &\\max_{x_{wf}} \\quad 0 \\\\\n",
                "    \\text{subject to} &\\sum_f x_{wf} = 1 \\quad \\forall w \\in W \\\\\n",
                "                      &\\sum_w x_{wf} = 1 \\quad \\forall f \\in F \\\\\n",
                "                      &\\sum_{\\text{$f'$; $f$ preferred to $f'$ by $w$}} x_{wf'} - \\sum_{w'; \\text{$w'$ preferred to $w$ by $f$}} x_{w'f} \\le 0 \\quad \\forall w \\in W, \\forall f \\in F \\\\\n",
                "                      &x_{wf} \\ge 0 \\quad \\forall w \\in W, \\forall f \\in F.\n",
                "\\end{align*}\n",
                "\n",
                "The first two constraints are for the perfect matching, and the third constraint is for the stable matching."
            ]
        },
        {
            "cell_type": "markdown",
            "metadata": {},
            "source": [
                "## Julia implementation"
            ]
        },
        {
            "cell_type": "code",
            "execution_count": 5,
            "metadata": {},
            "outputs": [],
            "source": [
                "using BenchmarkTools\n",
                "using Random\n",
                "using JuMP\n",
                "using HiGHS\n",
                "using DeferredAcceptance"
            ]
        },
        {
            "cell_type": "markdown",
            "metadata": {},
            "source": [
                "First I consider an instance with 5 workers and 5 firms."
            ]
        },
        {
            "cell_type": "code",
            "execution_count": 23,
            "metadata": {},
            "outputs": [],
            "source": [
                "Random.seed!(123)\n",
                "N = 5;\n",
                "\n",
                "workers_pref =  mapslices(x -> sortperm(x), rand(Float64, (N, N)), dims=1);\n",
                "firms_pref =  mapslices(x -> sortperm(x), rand(Float64, (N, N)), dims=1);"
            ]
        },
        {
            "cell_type": "markdown",
            "metadata": {},
            "source": [
                "The workers' preferences are as follows (column: worker, row: firm, and $1$ means the firm is the best choice for the worker):"
            ]
        },
        {
            "cell_type": "code",
            "execution_count": 24,
            "metadata": {},
            "outputs": [
                {
                    "data": {
                        "text/plain": [
                            "5×5 Matrix{Int64}:\n",
                            " 5  3  1  5  5\n",
                            " 4  5  5  2  3\n",
                            " 3  4  2  3  2\n",
                            " 1  2  4  1  1\n",
                            " 2  1  3  4  4"
                        ]
                    },
                    "execution_count": 24,
                    "metadata": {},
                    "output_type": "execute_result"
                }
            ],
            "source": [
                "workers_pref"
            ]
        },
        {
            "cell_type": "markdown",
            "metadata": {},
            "source": [
                "And the firms' preferences are as follows (column: firm, row: worker, and $1$ means the worker is the best choice for the firm):"
            ]
        },
        {
            "cell_type": "code",
            "execution_count": 25,
            "metadata": {},
            "outputs": [
                {
                    "data": {
                        "text/plain": [
                            "5×5 Matrix{Int64}:\n",
                            " 4  3  1  5  2\n",
                            " 2  1  5  2  1\n",
                            " 3  5  4  3  5\n",
                            " 1  2  2  1  3\n",
                            " 5  4  3  4  4"
                        ]
                    },
                    "execution_count": 25,
                    "metadata": {},
                    "output_type": "execute_result"
                }
            ],
            "source": [
                "firms_pref"
            ]
        },
        {
            "cell_type": "markdown",
            "metadata": {},
            "source": [
                "## JuMP formulation for LP"
            ]
        },
        {
            "cell_type": "code",
            "execution_count": 40,
            "metadata": {},
            "outputs": [],
            "source": [
                "model = Model(HiGHS.Optimizer);\n",
                "\n",
                "@variable(model, x[1:N, 1:N] >= 0);\n",
                "\n",
                "@objective(model, Max, 0)\n",
                "\n",
                "# constraints for perfect matching\n",
                "@constraint(model, [i = 1:N], sum(x[i, j] for j in 1:N) == 1);\n",
                "@constraint(model, [j = 1:N], sum(x[i, j] for i in 1:N) == 1);\n",
                "\n",
                "# constraint for stable matching\n",
                "@constraint(model, [i=1:N, j=1:N], \n",
                "    sum(x[i, k] * (workers_pref[j, i] < workers_pref[k, i]) for k in 1:N) \n",
                "    - sum(x[l, j] * (firms_pref[i, j] > firms_pref[l, j]) for l in 1:N) <= 0);"
            ]
        },
        {
            "cell_type": "code",
            "execution_count": 41,
            "metadata": {},
            "outputs": [
                {
                    "name": "stdout",
                    "output_type": "stream",
                    "text": [
                        "Presolving model\n",
                        "16 rows, 13 cols, 57 nonzeros\n",
                        "0 rows, 0 cols, 0 nonzeros\n",
                        "Presolve : Reductions: rows 0(-35); columns 0(-25); elements 0(-150) - Reduced to empty\n",
                        "Solving the original LP from the solution after postsolve\n",
                        "Model   status      : Optimal\n",
                        "Objective value     :  0.0000000000e+00\n",
                        "HiGHS run time      :          0.00\n",
                        "  0.002227 seconds (518 allocations: 49.797 KiB)\n"
                    ]
                }
            ],
            "source": [
                "@time optimize!(model)"
            ]
        },
        {
            "cell_type": "code",
            "execution_count": 42,
            "metadata": {},
            "outputs": [
                {
                    "data": {
                        "text/plain": [
                            "5×5 Matrix{Float64}:\n",
                            " 0.0  0.0  1.0  0.0  0.0\n",
                            " 0.0  0.0  0.0  0.0  1.0\n",
                            " 1.0  0.0  0.0  0.0  0.0\n",
                            " 0.0  0.0  0.0  1.0  0.0\n",
                            " 0.0  1.0  0.0  0.0  0.0"
                        ]
                    },
                    "execution_count": 42,
                    "metadata": {},
                    "output_type": "execute_result"
                }
            ],
            "source": [
                "value.(x)"
            ]
        },
        {
            "cell_type": "markdown",
            "metadata": {},
            "source": [
                "This means that the pairs are ($w_1$, $f_3$), ($w_2$, $f_5$), ($w_3$, $f_1$), ($w_4$, $f_4$), and ($w_5$, $f_2$).\n",
                "Using the `isstable` function in [`DeferredAcceptance` package](https://juliapackages.com/p/deferredacceptance), I confirm that this matching is actually stable:"
            ]
        },
        {
            "cell_type": "code",
            "execution_count": 43,
            "metadata": {},
            "outputs": [
                {
                    "data": {
                        "text/plain": [
                            "true"
                        ]
                    },
                    "execution_count": 43,
                    "metadata": {},
                    "output_type": "execute_result"
                }
            ],
            "source": [
                "isstable(workers_pref, firms_pref, ones(Int, N), mapslices(y -> findfirst(y .== 1), value.(x), dims=2)[:])"
            ]
        }
    ],
    "metadata": {
        "kernelspec": {
            "display_name": "Julia 1.6.2",
            "language": "julia",
            "name": "julia-1.6"
        },
        "language_info": {
            "file_extension": ".jl",
            "mimetype": "application/julia",
            "name": "julia",
            "version": "1.6.2"
        }
    },
    "nbformat": 4,
    "nbformat_minor": 4
}