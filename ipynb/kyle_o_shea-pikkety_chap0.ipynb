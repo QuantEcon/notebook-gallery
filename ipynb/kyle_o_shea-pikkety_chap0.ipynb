{
    "cells": [
        {
            "cell_type": "markdown",
            "metadata": {},
            "source": [
                "## Capital in the 21st Century - Introduction"
            ]
        },
        {
            "cell_type": "markdown",
            "metadata": {},
            "source": [
                "First published in 2013 by French economist, Thomas Pikkety, sparking fierce debate when released in English in 2014, *Capital in the Twenty First Century* has taken the world by storm and may change the way we look at wealth and global inequality. The Economist even nameed him the [modern Marx](https://www.economist.com/leaders/2014/05/03/a-modern-marx). The product of over a decade of research on the part of Pikkety and a handful of other economists, the book details the historical evolution of the concentration of income and wealth in multiple countries worldwide.\n",
                "\n",
                "From the period preceeding the early 20th century, when privately-held wealth predominated national income, to the shocks of the early-mid 20th century, chief among them the Great Depression and both World War II, during which time global inequality dropped dramatically, to the current trajectory, whereby wealth is already at pre-war levels, and rising steadily.\n",
                "\n",
                "It is from this evolutionary account of the data that Pikkety draws his now illustrious theory of capital and inequality, that of *r > g*, the historical tendency of returns on capital to exceed the rate of economic growth.  Thomas Piketty's findings in this ambitious and original work is already changing the way we look at wealth and global inequality, and will continue to do so for decades to come. In this series, we will look at Pikkety's general conclusions from each chapter, as well as the data and figures from which those conclusions are drawn, bringing his revolutionary findings to our audience at Kyso. We hope you enjoy!"
            ]
        },
        {
            "cell_type": "code",
            "execution_count": 2,
            "metadata": {},
            "outputs": [
                {
                    "data": {
                        "text/html": [
                            "<style>\n",
                            ".output {\n",
                            "    flex-direction: row;\n",
                            "}\n",
                            "</style>"
                        ],
                        "text/plain": [
                            "<IPython.core.display.HTML object>"
                        ]
                    },
                    "execution_count": 2,
                    "metadata": {},
                    "output_type": "execute_result"
                }
            ],
            "source": [
                "CSS = \"\"\"\n",
                ".output {\n",
                "    flex-direction: row;\n",
                "}\n",
                "\"\"\"\n",
                "\n",
                "HTML('<style>{}</style>'.format(CSS))"
            ]
        },
        {
            "cell_type": "code",
            "execution_count": 3,
            "metadata": {},
            "outputs": [
                {
                    "data": {
                        "text/html": [
                            "\n",
                            "    <div class=\"bk-root\">\n",
                            "        <a href=\"https://bokeh.pydata.org\" target=\"_blank\" class=\"bk-logo bk-logo-small bk-logo-notebook\"></a>\n",
                            "        <span id=\"dd7767c4-440d-4218-88be-db2d81ca7e5d\">Loading BokehJS ...</span>\n",
                            "    </div>"
                        ]
                    },
                    "metadata": {},
                    "output_type": "display_data"
                },
                {
                    "data": {
                        "application/javascript": [
                            "\n",
                            "(function(root) {\n",
                            "  function now() {\n",
                            "    return new Date();\n",
                            "  }\n",
                            "\n",
                            "  var force = true;\n",
                            "\n",
                            "  if (typeof (root._bokeh_onload_callbacks) === \"undefined\" || force === true) {\n",
                            "    root._bokeh_onload_callbacks = [];\n",
                            "    root._bokeh_is_loading = undefined;\n",
                            "  }\n",
                            "\n",
                            "  var JS_MIME_TYPE = 'application/javascript';\n",
                            "  var HTML_MIME_TYPE = 'text/html';\n",
                            "  var EXEC_MIME_TYPE = 'application/vnd.bokehjs_exec.v0+json';\n",
                            "  var CLASS_NAME = 'output_bokeh rendered_html';\n",
                            "\n",
                            "  /**\n",
                            "   * Render data to the DOM node\n",
                            "   */\n",
                            "  function render(props, node) {\n",
                            "    var script = document.createElement(\"script\");\n",
                            "    node.appendChild(script);\n",
                            "  }\n",
                            "\n",
                            "  /**\n",
                            "   * Handle when an output is cleared or removed\n",
                            "   */\n",
                            "  function handleClearOutput(event, handle) {\n",
                            "    var cell = handle.cell;\n",
                            "\n",
                            "    var id = cell.output_area._bokeh_element_id;\n",
                            "    var server_id = cell.output_area._bokeh_server_id;\n",
                            "    // Clean up Bokeh references\n",
                            "    if (id != null && id in Bokeh.index) {\n",
                            "      Bokeh.index[id].model.document.clear();\n",
                            "      delete Bokeh.index[id];\n",
                            "    }\n",
                            "\n",
                            "    if (server_id !== undefined) {\n",
                            "      // Clean up Bokeh references\n",
                            "      var cmd = \"from bokeh.io.state import curstate; print(curstate().uuid_to_server['\" + server_id + \"'].get_sessions()[0].document.roots[0]._id)\";\n",
                            "      cell.notebook.kernel.execute(cmd, {\n",
                            "        iopub: {\n",
                            "          output: function(msg) {\n",
                            "            var id = msg.content.text.trim();\n",
                            "            if (id in Bokeh.index) {\n",
                            "              Bokeh.index[id].model.document.clear();\n",
                            "              delete Bokeh.index[id];\n",
                            "            }\n",
                            "          }\n",
                            "        }\n",
                            "      });\n",
                            "      // Destroy server and session\n",
                            "      var cmd = \"import bokeh.io.notebook as ion; ion.destroy_server('\" + server_id + \"')\";\n",
                            "      cell.notebook.kernel.execute(cmd);\n",
                            "    }\n",
                            "  }\n",
                            "\n",
                            "  /**\n",
                            "   * Handle when a new output is added\n",
                            "   */\n",
                            "  function handleAddOutput(event, handle) {\n",
                            "    var output_area = handle.output_area;\n",
                            "    var output = handle.output;\n",
                            "\n",
                            "    // limit handleAddOutput to display_data with EXEC_MIME_TYPE content only\n",
                            "    if ((output.output_type != \"display_data\") || (!output.data.hasOwnProperty(EXEC_MIME_TYPE))) {\n",
                            "      return\n",
                            "    }\n",
                            "\n",
                            "    var toinsert = output_area.element.find(\".\" + CLASS_NAME.split(' ')[0]);\n",
                            "\n",
                            "    if (output.metadata[EXEC_MIME_TYPE][\"id\"] !== undefined) {\n",
                            "      toinsert[toinsert.length - 1].firstChild.textContent = output.data[JS_MIME_TYPE];\n",
                            "      // store reference to embed id on output_area\n",
                            "      output_area._bokeh_element_id = output.metadata[EXEC_MIME_TYPE][\"id\"];\n",
                            "    }\n",
                            "    if (output.metadata[EXEC_MIME_TYPE][\"server_id\"] !== undefined) {\n",
                            "      var bk_div = document.createElement(\"div\");\n",
                            "      bk_div.innerHTML = output.data[HTML_MIME_TYPE];\n",
                            "      var script_attrs = bk_div.children[0].attributes;\n",
                            "      for (var i = 0; i < script_attrs.length; i++) {\n",
                            "        toinsert[toinsert.length - 1].firstChild.setAttribute(script_attrs[i].name, script_attrs[i].value);\n",
                            "      }\n",
                            "      // store reference to server id on output_area\n",
                            "      output_area._bokeh_server_id = output.metadata[EXEC_MIME_TYPE][\"server_id\"];\n",
                            "    }\n",
                            "  }\n",
                            "\n",
                            "  function register_renderer(events, OutputArea) {\n",
                            "\n",
                            "    function append_mime(data, metadata, element) {\n",
                            "      // create a DOM node to render to\n",
                            "      var toinsert = this.create_output_subarea(\n",
                            "        metadata,\n",
                            "        CLASS_NAME,\n",
                            "        EXEC_MIME_TYPE\n",
                            "      );\n",
                            "      this.keyboard_manager.register_events(toinsert);\n",
                            "      // Render to node\n",
                            "      var props = {data: data, metadata: metadata[EXEC_MIME_TYPE]};\n",
                            "      render(props, toinsert[toinsert.length - 1]);\n",
                            "      element.append(toinsert);\n",
                            "      return toinsert\n",
                            "    }\n",
                            "\n",
                            "    /* Handle when an output is cleared or removed */\n",
                            "    events.on('clear_output.CodeCell', handleClearOutput);\n",
                            "    events.on('delete.Cell', handleClearOutput);\n",
                            "\n",
                            "    /* Handle when a new output is added */\n",
                            "    events.on('output_added.OutputArea', handleAddOutput);\n",
                            "\n",
                            "    /**\n",
                            "     * Register the mime type and append_mime function with output_area\n",
                            "     */\n",
                            "    OutputArea.prototype.register_mime_type(EXEC_MIME_TYPE, append_mime, {\n",
                            "      /* Is output safe? */\n",
                            "      safe: true,\n",
                            "      /* Index of renderer in `output_area.display_order` */\n",
                            "      index: 0\n",
                            "    });\n",
                            "  }\n",
                            "\n",
                            "  // register the mime type if in Jupyter Notebook environment and previously unregistered\n",
                            "  if (root.Jupyter !== undefined) {\n",
                            "    var events = require('base/js/events');\n",
                            "    var OutputArea = require('notebook/js/outputarea').OutputArea;\n",
                            "\n",
                            "    if (OutputArea.prototype.mime_types().indexOf(EXEC_MIME_TYPE) == -1) {\n",
                            "      register_renderer(events, OutputArea);\n",
                            "    }\n",
                            "  }\n",
                            "\n",
                            "  \n",
                            "  if (typeof (root._bokeh_timeout) === \"undefined\" || force === true) {\n",
                            "    root._bokeh_timeout = Date.now() + 5000;\n",
                            "    root._bokeh_failed_load = false;\n",
                            "  }\n",
                            "\n",
                            "  var NB_LOAD_WARNING = {'data': {'text/html':\n",
                            "     \"<div style='background-color: #fdd'>\\n\"+\n",
                            "     \"<p>\\n\"+\n",
                            "     \"BokehJS does not appear to have successfully loaded. If loading BokehJS from CDN, this \\n\"+\n",
                            "     \"may be due to a slow or bad network connection. Possible fixes:\\n\"+\n",
                            "     \"</p>\\n\"+\n",
                            "     \"<ul>\\n\"+\n",
                            "     \"<li>re-rerun `output_notebook()` to attempt to load from CDN again, or</li>\\n\"+\n",
                            "     \"<li>use INLINE resources instead, as so:</li>\\n\"+\n",
                            "     \"</ul>\\n\"+\n",
                            "     \"<code>\\n\"+\n",
                            "     \"from bokeh.resources import INLINE\\n\"+\n",
                            "     \"output_notebook(resources=INLINE)\\n\"+\n",
                            "     \"</code>\\n\"+\n",
                            "     \"</div>\"}};\n",
                            "\n",
                            "  function display_loaded() {\n",
                            "    var el = document.getElementById(\"dd7767c4-440d-4218-88be-db2d81ca7e5d\");\n",
                            "    if (el != null) {\n",
                            "      el.textContent = \"BokehJS is loading...\";\n",
                            "    }\n",
                            "    if (root.Bokeh !== undefined) {\n",
                            "      if (el != null) {\n",
                            "        el.textContent = \"BokehJS \" + root.Bokeh.version + \" successfully loaded.\";\n",
                            "      }\n",
                            "    } else if (Date.now() < root._bokeh_timeout) {\n",
                            "      setTimeout(display_loaded, 100)\n",
                            "    }\n",
                            "  }\n",
                            "\n",
                            "\n",
                            "  function run_callbacks() {\n",
                            "    try {\n",
                            "      root._bokeh_onload_callbacks.forEach(function(callback) { callback() });\n",
                            "    }\n",
                            "    finally {\n",
                            "      delete root._bokeh_onload_callbacks\n",
                            "    }\n",
                            "    console.info(\"Bokeh: all callbacks have finished\");\n",
                            "  }\n",
                            "\n",
                            "  function load_libs(js_urls, callback) {\n",
                            "    root._bokeh_onload_callbacks.push(callback);\n",
                            "    if (root._bokeh_is_loading > 0) {\n",
                            "      console.log(\"Bokeh: BokehJS is being loaded, scheduling callback at\", now());\n",
                            "      return null;\n",
                            "    }\n",
                            "    if (js_urls == null || js_urls.length === 0) {\n",
                            "      run_callbacks();\n",
                            "      return null;\n",
                            "    }\n",
                            "    console.log(\"Bokeh: BokehJS not loaded, scheduling load and callback at\", now());\n",
                            "    root._bokeh_is_loading = js_urls.length;\n",
                            "    for (var i = 0; i < js_urls.length; i++) {\n",
                            "      var url = js_urls[i];\n",
                            "      var s = document.createElement('script');\n",
                            "      s.src = url;\n",
                            "      s.async = false;\n",
                            "      s.onreadystatechange = s.onload = function() {\n",
                            "        root._bokeh_is_loading--;\n",
                            "        if (root._bokeh_is_loading === 0) {\n",
                            "          console.log(\"Bokeh: all BokehJS libraries loaded\");\n",
                            "          run_callbacks()\n",
                            "        }\n",
                            "      };\n",
                            "      s.onerror = function() {\n",
                            "        console.warn(\"failed to load library \" + url);\n",
                            "      };\n",
                            "      console.log(\"Bokeh: injecting script tag for BokehJS library: \", url);\n",
                            "      document.getElementsByTagName(\"head\")[0].appendChild(s);\n",
                            "    }\n",
                            "  };var element = document.getElementById(\"dd7767c4-440d-4218-88be-db2d81ca7e5d\");\n",
                            "  if (element == null) {\n",
                            "    console.log(\"Bokeh: ERROR: autoload.js configured with elementid 'dd7767c4-440d-4218-88be-db2d81ca7e5d' but no matching script tag was found. \")\n",
                            "    return false;\n",
                            "  }\n",
                            "\n",
                            "  var js_urls = [\"https://cdn.pydata.org/bokeh/release/bokeh-0.13.0.min.js\", \"https://cdn.pydata.org/bokeh/release/bokeh-widgets-0.13.0.min.js\", \"https://cdn.pydata.org/bokeh/release/bokeh-tables-0.13.0.min.js\", \"https://cdn.pydata.org/bokeh/release/bokeh-gl-0.13.0.min.js\"];\n",
                            "\n",
                            "  var inline_js = [\n",
                            "    function(Bokeh) {\n",
                            "      Bokeh.set_log_level(\"info\");\n",
                            "    },\n",
                            "    \n",
                            "    function(Bokeh) {\n",
                            "      \n",
                            "    },\n",
                            "    function(Bokeh) {\n",
                            "      console.log(\"Bokeh: injecting CSS: https://cdn.pydata.org/bokeh/release/bokeh-0.13.0.min.css\");\n",
                            "      Bokeh.embed.inject_css(\"https://cdn.pydata.org/bokeh/release/bokeh-0.13.0.min.css\");\n",
                            "      console.log(\"Bokeh: injecting CSS: https://cdn.pydata.org/bokeh/release/bokeh-widgets-0.13.0.min.css\");\n",
                            "      Bokeh.embed.inject_css(\"https://cdn.pydata.org/bokeh/release/bokeh-widgets-0.13.0.min.css\");\n",
                            "      console.log(\"Bokeh: injecting CSS: https://cdn.pydata.org/bokeh/release/bokeh-tables-0.13.0.min.css\");\n",
                            "      Bokeh.embed.inject_css(\"https://cdn.pydata.org/bokeh/release/bokeh-tables-0.13.0.min.css\");\n",
                            "    }\n",
                            "  ];\n",
                            "\n",
                            "  function run_inline_js() {\n",
                            "    \n",
                            "    if ((root.Bokeh !== undefined) || (force === true)) {\n",
                            "      for (var i = 0; i < inline_js.length; i++) {\n",
                            "        inline_js[i].call(root, root.Bokeh);\n",
                            "      }if (force === true) {\n",
                            "        display_loaded();\n",
                            "      }} else if (Date.now() < root._bokeh_timeout) {\n",
                            "      setTimeout(run_inline_js, 100);\n",
                            "    } else if (!root._bokeh_failed_load) {\n",
                            "      console.log(\"Bokeh: BokehJS failed to load within specified timeout.\");\n",
                            "      root._bokeh_failed_load = true;\n",
                            "    } else if (force !== true) {\n",
                            "      var cell = $(document.getElementById(\"dd7767c4-440d-4218-88be-db2d81ca7e5d\")).parents('.cell').data().cell;\n",
                            "      cell.output_area.append_execute_result(NB_LOAD_WARNING)\n",
                            "    }\n",
                            "\n",
                            "  }\n",
                            "\n",
                            "  if (root._bokeh_is_loading === 0) {\n",
                            "    console.log(\"Bokeh: BokehJS loaded, going straight to plotting\");\n",
                            "    run_inline_js();\n",
                            "  } else {\n",
                            "    load_libs(js_urls, function() {\n",
                            "      console.log(\"Bokeh: BokehJS plotting callback run at\", now());\n",
                            "      run_inline_js();\n",
                            "    });\n",
                            "  }\n",
                            "}(window));"
                        ],
                        "application/vnd.bokehjs_load.v0+json": "\n(function(root) {\n  function now() {\n    return new Date();\n  }\n\n  var force = true;\n\n  if (typeof (root._bokeh_onload_callbacks) === \"undefined\" || force === true) {\n    root._bokeh_onload_callbacks = [];\n    root._bokeh_is_loading = undefined;\n  }\n\n  \n\n  \n  if (typeof (root._bokeh_timeout) === \"undefined\" || force === true) {\n    root._bokeh_timeout = Date.now() + 5000;\n    root._bokeh_failed_load = false;\n  }\n\n  var NB_LOAD_WARNING = {'data': {'text/html':\n     \"<div style='background-color: #fdd'>\\n\"+\n     \"<p>\\n\"+\n     \"BokehJS does not appear to have successfully loaded. If loading BokehJS from CDN, this \\n\"+\n     \"may be due to a slow or bad network connection. Possible fixes:\\n\"+\n     \"</p>\\n\"+\n     \"<ul>\\n\"+\n     \"<li>re-rerun `output_notebook()` to attempt to load from CDN again, or</li>\\n\"+\n     \"<li>use INLINE resources instead, as so:</li>\\n\"+\n     \"</ul>\\n\"+\n     \"<code>\\n\"+\n     \"from bokeh.resources import INLINE\\n\"+\n     \"output_notebook(resources=INLINE)\\n\"+\n     \"</code>\\n\"+\n     \"</div>\"}};\n\n  function display_loaded() {\n    var el = document.getElementById(\"dd7767c4-440d-4218-88be-db2d81ca7e5d\");\n    if (el != null) {\n      el.textContent = \"BokehJS is loading...\";\n    }\n    if (root.Bokeh !== undefined) {\n      if (el != null) {\n        el.textContent = \"BokehJS \" + root.Bokeh.version + \" successfully loaded.\";\n      }\n    } else if (Date.now() < root._bokeh_timeout) {\n      setTimeout(display_loaded, 100)\n    }\n  }\n\n\n  function run_callbacks() {\n    try {\n      root._bokeh_onload_callbacks.forEach(function(callback) { callback() });\n    }\n    finally {\n      delete root._bokeh_onload_callbacks\n    }\n    console.info(\"Bokeh: all callbacks have finished\");\n  }\n\n  function load_libs(js_urls, callback) {\n    root._bokeh_onload_callbacks.push(callback);\n    if (root._bokeh_is_loading > 0) {\n      console.log(\"Bokeh: BokehJS is being loaded, scheduling callback at\", now());\n      return null;\n    }\n    if (js_urls == null || js_urls.length === 0) {\n      run_callbacks();\n      return null;\n    }\n    console.log(\"Bokeh: BokehJS not loaded, scheduling load and callback at\", now());\n    root._bokeh_is_loading = js_urls.length;\n    for (var i = 0; i < js_urls.length; i++) {\n      var url = js_urls[i];\n      var s = document.createElement('script');\n      s.src = url;\n      s.async = false;\n      s.onreadystatechange = s.onload = function() {\n        root._bokeh_is_loading--;\n        if (root._bokeh_is_loading === 0) {\n          console.log(\"Bokeh: all BokehJS libraries loaded\");\n          run_callbacks()\n        }\n      };\n      s.onerror = function() {\n        console.warn(\"failed to load library \" + url);\n      };\n      console.log(\"Bokeh: injecting script tag for BokehJS library: \", url);\n      document.getElementsByTagName(\"head\")[0].appendChild(s);\n    }\n  };var element = document.getElementById(\"dd7767c4-440d-4218-88be-db2d81ca7e5d\");\n  if (element == null) {\n    console.log(\"Bokeh: ERROR: autoload.js configured with elementid 'dd7767c4-440d-4218-88be-db2d81ca7e5d' but no matching script tag was found. \")\n    return false;\n  }\n\n  var js_urls = [\"https://cdn.pydata.org/bokeh/release/bokeh-0.13.0.min.js\", \"https://cdn.pydata.org/bokeh/release/bokeh-widgets-0.13.0.min.js\", \"https://cdn.pydata.org/bokeh/release/bokeh-tables-0.13.0.min.js\", \"https://cdn.pydata.org/bokeh/release/bokeh-gl-0.13.0.min.js\"];\n\n  var inline_js = [\n    function(Bokeh) {\n      Bokeh.set_log_level(\"info\");\n    },\n    \n    function(Bokeh) {\n      \n    },\n    function(Bokeh) {\n      console.log(\"Bokeh: injecting CSS: https://cdn.pydata.org/bokeh/release/bokeh-0.13.0.min.css\");\n      Bokeh.embed.inject_css(\"https://cdn.pydata.org/bokeh/release/bokeh-0.13.0.min.css\");\n      console.log(\"Bokeh: injecting CSS: https://cdn.pydata.org/bokeh/release/bokeh-widgets-0.13.0.min.css\");\n      Bokeh.embed.inject_css(\"https://cdn.pydata.org/bokeh/release/bokeh-widgets-0.13.0.min.css\");\n      console.log(\"Bokeh: injecting CSS: https://cdn.pydata.org/bokeh/release/bokeh-tables-0.13.0.min.css\");\n      Bokeh.embed.inject_css(\"https://cdn.pydata.org/bokeh/release/bokeh-tables-0.13.0.min.css\");\n    }\n  ];\n\n  function run_inline_js() {\n    \n    if ((root.Bokeh !== undefined) || (force === true)) {\n      for (var i = 0; i < inline_js.length; i++) {\n        inline_js[i].call(root, root.Bokeh);\n      }if (force === true) {\n        display_loaded();\n      }} else if (Date.now() < root._bokeh_timeout) {\n      setTimeout(run_inline_js, 100);\n    } else if (!root._bokeh_failed_load) {\n      console.log(\"Bokeh: BokehJS failed to load within specified timeout.\");\n      root._bokeh_failed_load = true;\n    } else if (force !== true) {\n      var cell = $(document.getElementById(\"dd7767c4-440d-4218-88be-db2d81ca7e5d\")).parents('.cell').data().cell;\n      cell.output_area.append_execute_result(NB_LOAD_WARNING)\n    }\n\n  }\n\n  if (root._bokeh_is_loading === 0) {\n    console.log(\"Bokeh: BokehJS loaded, going straight to plotting\");\n    run_inline_js();\n  } else {\n    load_libs(js_urls, function() {\n      console.log(\"Bokeh: BokehJS plotting callback run at\", now());\n      run_inline_js();\n    });\n  }\n}(window));"
                    },
                    "metadata": {},
                    "output_type": "display_data"
                }
            ],
            "source": [
                "from datetime import datetime\n",
                "import pandas as pd\n",
                "from bokeh.plotting import figure, output_notebook\n",
                "from bokeh.io import show\n",
                "from bokeh.layouts import row, column\n",
                "import math\n",
                "from math import pi\n",
                "from bokeh.models import HoverTool\n",
                "from bokeh.models import Text, Label, Triangle, Square, Circle\n",
                "from bokeh.models import ColumnDataSource, ranges, LabelSet\n",
                "from collections import Counter\n",
                "from bokeh.models import NumeralTickFormatter\n",
                "from IPython.display import display, HTML\n",
                "from bokeh.models import BoxAnnotation\n",
                "\n",
                "output_notebook()"
            ]
        },
        {
            "cell_type": "markdown",
            "metadata": {},
            "source": [
                "### Income Inequality in the United States"
            ]
        },
        {
            "cell_type": "markdown",
            "metadata": {},
            "source": [
                "In his introductory chapter, Pikkety discusses different forces of convergence and divergence between and within countries in relation to the evolution of inequality. For example, while the diffusion of knowledge and skills are forces that push towards a convergrence, there are other forces that actively push in the opposite direction, towards greater inequality. These forces include the fact that high-inccome earners are able to separate themselves from the rest of the population, for a variety of reasons that we'll discuss, as well as the accumulation and conventration of wealth when growth is weak and return on capital is high.\n",
                "\n",
                "Below we look at a timeline of the top decile's share of the US national income over the course of the last century, an extension of the data collected by Kuznets for the period 1913-1948, whose findings suggested that inequalities increase during the early stages of industrialisation, and automatically decreases as the economy enters more advanced stages of development as a larger percentage of the population enjoy the benefits of this economic growth."
            ]
        },
        {
            "cell_type": "code",
            "execution_count": 4,
            "metadata": {},
            "outputs": [],
            "source": [
                "df = pd.read_csv('Pikkety_Chap0_Fig1.csv')\n",
                "df.columns = ['Year', 'Share_of_National_Income']\n",
                "df['Share_of_National_Income'] = df['Share_of_National_Income'].str.rstrip('%').astype('float')\n",
                "df['Share_of_National_Income'] = df['Share_of_National_Income'].round(2)\n",
                "df = df.set_index('Year')"
            ]
        },
        {
            "cell_type": "markdown",
            "metadata": {},
            "source": [
                "The figure shows that the top decile's share of the national income dropped from 45-50% in the 1910s-1920s to less than 35% in the 1950s (the basis for Kuznet's theory). mPiketty argues that Kuznets mistook the 1930-1950 decrease in inequality for the endpoint of its development, as it rose from less than 35% in the 1970s to 45-50% in the 2000s-2010s, back at pre-WWII levels.\n",
                "\n",
                "Pikkety later goes on to show that the dramatic increase in inequality, beginning circa 1980, is a result of a similarly explosive rise in incomes from labor and rising remunerations of top manages at an even greater rate, the reasons for which we'll discuss later."
            ]
        },
        {
            "cell_type": "code",
            "execution_count": 7,
            "metadata": {},
            "outputs": [
                {
                    "data": {
                        "text/html": [
                            "\n",
                            "\n",
                            "\n",
                            "\n",
                            "\n",
                            "\n",
                            "  <div class=\"bk-root\" id=\"e667b3cb-35b9-423e-bd4a-5031da2b6934\"></div>\n"
                        ]
                    },
                    "metadata": {},
                    "output_type": "display_data"
                },
                {
                    "data": {
                        "application/javascript": [
                            "(function(root) {\n",
                            "  function embed_document(root) {\n",
                            "    \n",
                            "  var docs_json = {\"1232c85b-d7a2-43b1-8c9a-131e0b28b2f7\":{\"roots\":{\"references\":[{\"attributes\":{\"data_source\":{\"id\":\"c2c3f148-4651-4c95-b6bf-4a33de909334\",\"type\":\"ColumnDataSource\"},\"glyph\":{\"id\":\"bf8bad89-88b2-46de-a662-7969788a8937\",\"type\":\"Square\"},\"hover_glyph\":null,\"muted_glyph\":null,\"view\":{\"id\":\"acac23fb-1605-410d-a2d4-62edfb4930f4\",\"type\":\"CDSView\"}},\"id\":\"e3a88cb1-9c6c-404c-a43f-c547cede5a0d\",\"type\":\"GlyphRenderer\"},{\"attributes\":{\"fill_alpha\":{\"value\":0.1},\"fill_color\":{\"field\":\"fill_color\"},\"line_color\":{\"field\":\"line_color\"},\"radius\":{\"units\":\"data\",\"value\":0.1},\"x\":{\"field\":\"x\"},\"y\":{\"field\":\"y\"}},\"id\":\"1e077132-20dc-467f-8260-36383ccdc2de\",\"type\":\"Circle\"},{\"attributes\":{},\"id\":\"a9067e7b-e54e-4594-90dc-bd29b17ab1db\",\"type\":\"BasicTickFormatter\"},{\"attributes\":{\"fill_alpha\":{\"value\":0.1},\"fill_color\":{\"value\":\"#1f77b4\"},\"line_alpha\":{\"value\":0.1},\"line_color\":{\"value\":\"#1f77b4\"},\"radius\":{\"units\":\"data\",\"value\":0.1},\"x\":{\"field\":\"x\"},\"y\":{\"field\":\"y\"}},\"id\":\"effcd011-ad7a-4f73-90e7-85e6eb995e21\",\"type\":\"Circle\"},{\"attributes\":{\"callback\":null},\"id\":\"8daea09f-9060-4acd-8f54-9618104b91a2\",\"type\":\"DataRange1d\"},{\"attributes\":{\"data_source\":{\"id\":\"5142b19d-4101-4f16-968c-022a11ca808a\",\"type\":\"ColumnDataSource\"},\"glyph\":{\"id\":\"1e077132-20dc-467f-8260-36383ccdc2de\",\"type\":\"Circle\"},\"hover_glyph\":null,\"muted_glyph\":null,\"nonselection_glyph\":{\"id\":\"effcd011-ad7a-4f73-90e7-85e6eb995e21\",\"type\":\"Circle\"},\"selection_glyph\":null,\"view\":{\"id\":\"f9be9f9e-c950-42ca-bc96-5b5b9378d719\",\"type\":\"CDSView\"}},\"id\":\"9b0087ec-1a27-4d97-96b6-44eb400c9b01\",\"type\":\"GlyphRenderer\"},{\"attributes\":{\"callback\":null,\"data\":{\"fill_color\":[\"green\",\"red\"],\"line_color\":[\"green\",\"red\"],\"x\":[\"1980-01-01\",\"2000-01-01\"],\"y\":[\"34.6\",\"47.6\"]},\"selected\":{\"id\":\"f867e9d1-371f-476b-87bb-5378e8372ca0\",\"type\":\"Selection\"},\"selection_policy\":{\"id\":\"fb7db35d-9aab-4f91-9002-bce6ab755f14\",\"type\":\"UnionRenderers\"}},\"id\":\"5142b19d-4101-4f16-968c-022a11ca808a\",\"type\":\"ColumnDataSource\"},{\"attributes\":{\"source\":{\"id\":\"5142b19d-4101-4f16-968c-022a11ca808a\",\"type\":\"ColumnDataSource\"}},\"id\":\"f9be9f9e-c950-42ca-bc96-5b5b9378d719\",\"type\":\"CDSView\"},{\"attributes\":{\"source\":{\"id\":\"c2c3f148-4651-4c95-b6bf-4a33de909334\",\"type\":\"ColumnDataSource\"}},\"id\":\"acac23fb-1605-410d-a2d4-62edfb4930f4\",\"type\":\"CDSView\"},{\"attributes\":{},\"id\":\"629d9376-b2ff-4832-bfaf-f6faf6eb5428\",\"type\":\"ResetTool\"},{\"attributes\":{\"fill_alpha\":{\"value\":0.2},\"fill_color\":{\"value\":\"#ff6f69\"},\"left\":-946771200000.0,\"line_color\":{\"value\":\"black\"},\"line_dash\":[6],\"plot\":{\"id\":\"c021f6ff-c96c-41f1-b534-888c8e1288dc\",\"subtype\":\"Figure\",\"type\":\"Plot\"},\"right\":-788918400000.0},\"id\":\"2443cfb5-43ec-4ffa-9d23-a84b3f308e42\",\"type\":\"BoxAnnotation\"},{\"attributes\":{\"line_alpha\":0.1,\"line_color\":\"#1f77b4\",\"line_width\":2,\"x\":{\"field\":\"Year\"},\"y\":{\"field\":\"Share_of_National_Income\"}},\"id\":\"6cce2306-a316-4cb3-ba1c-f047694c58d7\",\"type\":\"Line\"},{\"attributes\":{},\"id\":\"50b97755-2ec2-441c-9c8a-a79ed04bd570\",\"type\":\"HelpTool\"},{\"attributes\":{},\"id\":\"6735f931-c1a5-467e-859f-0a65219205e5\",\"type\":\"DatetimeTickFormatter\"},{\"attributes\":{\"plot\":null,\"text\":\"Income Inequality in the United States, 1910-2010\"},\"id\":\"7bdca1f0-e4a8-4d80-a618-72a52d78fb82\",\"type\":\"Title\"},{\"attributes\":{\"mantissas\":[1,2,5],\"max_interval\":500.0,\"num_minor_ticks\":0},\"id\":\"7121606b-2f32-4d84-9764-c836e1c6f130\",\"type\":\"AdaptiveTicker\"},{\"attributes\":{\"callback\":null},\"id\":\"f25fe1b4-7af9-40d2-bf3c-f6c8ee8fed80\",\"type\":\"DataRange1d\"},{\"attributes\":{\"months\":[0,4,8]},\"id\":\"8378995e-f2c3-4c24-92e1-ee23c0b6be86\",\"type\":\"MonthsTicker\"},{\"attributes\":{\"source\":{\"id\":\"c2c3f148-4651-4c95-b6bf-4a33de909334\",\"type\":\"ColumnDataSource\"}},\"id\":\"36613d4a-5a05-493a-8cf4-83db6667c425\",\"type\":\"CDSView\"},{\"attributes\":{\"months\":[0,6]},\"id\":\"eda77541-0ed2-4fb2-8e31-95317c652ec4\",\"type\":\"MonthsTicker\"},{\"attributes\":{\"active_drag\":\"auto\",\"active_inspect\":\"auto\",\"active_multi\":null,\"active_scroll\":\"auto\",\"active_tap\":\"auto\",\"tools\":[{\"id\":\"33deb156-bfd7-4766-99a2-7f2315d98c90\",\"type\":\"PanTool\"},{\"id\":\"738388cc-6bfa-4b55-af2e-b47674e38e88\",\"type\":\"WheelZoomTool\"},{\"id\":\"2a28f600-056d-4f56-b741-5ff72442871a\",\"type\":\"BoxZoomTool\"},{\"id\":\"245158d0-04a2-46d8-b15f-30591a5ec13c\",\"type\":\"SaveTool\"},{\"id\":\"629d9376-b2ff-4832-bfaf-f6faf6eb5428\",\"type\":\"ResetTool\"},{\"id\":\"50b97755-2ec2-441c-9c8a-a79ed04bd570\",\"type\":\"HelpTool\"},{\"id\":\"1623a351-70c3-42c0-b4e5-5a1c590b0796\",\"type\":\"HoverTool\"}]},\"id\":\"65d6b820-82a6-43c7-a28a-d0f4f7bc8f1a\",\"type\":\"Toolbar\"},{\"attributes\":{\"base\":24,\"mantissas\":[1,2,4,6,8,12],\"max_interval\":43200000.0,\"min_interval\":3600000.0,\"num_minor_ticks\":0},\"id\":\"21fb7f56-724e-4276-ab57-6852ef551ce3\",\"type\":\"AdaptiveTicker\"},{\"attributes\":{\"base\":60,\"mantissas\":[1,2,5,10,15,20,30],\"max_interval\":1800000.0,\"min_interval\":1000.0,\"num_minor_ticks\":0},\"id\":\"f0d2e184-bdd5-46d1-87a7-d17c194b39ca\",\"type\":\"AdaptiveTicker\"},{\"attributes\":{},\"id\":\"99506c8a-3bd6-4cbe-8181-4a4662142cc5\",\"type\":\"LinearScale\"},{\"attributes\":{\"days\":[1,2,3,4,5,6,7,8,9,10,11,12,13,14,15,16,17,18,19,20,21,22,23,24,25,26,27,28,29,30,31]},\"id\":\"02a4afb1-8a85-4eb6-a16f-b947d4d6396c\",\"type\":\"DaysTicker\"},{\"attributes\":{\"callback\":null,\"data\":{\"Share_of_National_Income\":{\"__ndarray__\":\"zczMzMxMREBmZmZmZmZEQM3MzMzMjERAAAAAAACAREAAAAAAAMBEQM3MzMzMDERAzczMzMwMRkAAAAAAAEBEQM3MzMzMDERAZmZmZmYmREAAAAAAAIBDQJqZmZmZmUVAmpmZmZnZRUAAAAAAAMBEQDMzMzMzM0ZAMzMzMzMzR0CamZmZmdlGQJqZmZmZWUdAZmZmZmamSECamZmZmVlHQDMzMzMz80VAAAAAAABARkAzMzMzMzNHQM3MzMzMzEZAZmZmZmbmRkAAAAAAAEBGQM3MzMzMTEdAmpmZmZkZRkDNzMzMzAxGQAAAAAAAwEZAZmZmZmamRkAzMzMzM/NEQM3MzMzMDEJAmpmZmZnZQEAAAAAAAEBAQDMzMzMzM0FAmpmZmZlZQkAzMzMzMzNBQAAAAAAAgEFAZmZmZmZmQUDNzMzMzMxBQJqZmZmZGUFAmpmZmZmZQEBmZmZmZiZAQM3MzMzMzEBAMzMzMzPzQEAAAAAAAMBAQAAAAAAAgEBAzczMzMzMQEAAAAAAAABBQAAAAAAAwEBAZmZmZmYmQUCamZmZmdlAQGZmZmZm5kBAMzMzMzMzQUBmZmZmZmZBQJqZmZmZ2UBAMzMzMzMzQUAzMzMzM3NBQDMzMzMz80BAzczMzMxMQEBmZmZmZqZAQM3MzMzMzEBAZmZmZmamQEBmZmZmZqZAQDMzMzMzs0BAMzMzMzOzQEDNzMzMzMxAQAAAAAAAwEBAmpmZmZkZQUDNzMzMzExBQAAAAAAAQEFAZmZmZmamQUAzMzMzMzNCQJqZmZmZWUJAzczMzMzMQkDNzMzMzExEQGZmZmZmJkNAzczMzMxMREDNzMzMzAxEQAAAAAAAAERAzczMzMzMQ0BmZmZmZmZEQJqZmZmZWURAZmZmZmZmREDNzMzMzAxFQAAAAAAAwEVAzczMzMxMRkAzMzMzM7NGQAAAAAAAQEdAzczMzMzMR0BmZmZmZmZGQGZmZmZm5kVAAAAAAABARkAzMzMzMzNHQGZmZmZmJkhAZmZmZmamSECamZmZmdlIQJqZmZmZGUhAAAAAAABAR0AzMzMzM/NHQA==\",\"dtype\":\"float64\",\"shape\":[101]},\"Year\":{\"__ndarray__\":\"AABAW6yNe8IAAIBIMRh7wgAAwDW2onrCAABAvegsesIAAICqbbd5wgAAwJfyQXnCAAAAhXfMeMIAAIAMqlZ4wgAAwPku4XfCAAAA57Nrd8IAAEDUOPZ2wgAAwFtrgHbCAAAASfAKdsIAAEA2dZV1wgAAgCP6H3XCAAAAqyyqdMIAAECYsTR0wgAAgIU2v3PCAADAcrtJc8IAAED67dNywgAAgOdyXnLCAADA1PfoccIAAADCfHNxwgAAgEmv/XDCAADANjSIcMIAAAAkuRJwwgAAgCJ8Om/CAACAMeFObsIAAAAM62NtwgAAgOb0eGzCAAAAwf6Na8IAAADQY6JqwgAAgKptt2nCAAAAhXfMaMIAAIBfgeFnwgAAgG7m9WbCAAAASfAKZsIAAIAj+h9lwgAAAP4DNWTCAAAADWlJY8IAAIDncl5iwgAAAMJ8c2HCAACAnIaIYMIAAABX1zlfwgAAAAzrY13CAAAAwf6NW8IAAAB2ErhZwgAAAJTc4FfCAAAASfAKVsIAAAD+AzVUwgAAALMXX1LCAAAA0eGHUMIAAAAM62NNwgAAAHYSuEnCAAAA4DkMRsIAAAAczl1CwgAAAAzrYz3CAAAA4DkMNsIAAABoEWktwgAAALDEXh3CAAAAAAAAAAAAAACwxF4dQgAAALDEXi1CAAAA4DkMNkIAAAAM62M9QgAAABzOXUJCAAAAsqYJRkIAAAB2ErhJQgAAAAzrY01CAAAA0eGHUEIAAAAczl1SQgAAAP4DNVRCAAAASfAKVkIAAACU3OBXQgAAAN/ItllCAAAAwf6NW0IAAAAM62NdQgAAAFfXOV9CAAAA0eGHYEIAAADCfHNhQgAAgOdyXmJCAAAADWlJY0IAAIAyXzRkQgAAgCP6H2VCAAAASfAKZkIAAIBu5vVmQgAAAJTc4GdCAAAAhXfMaEIAAICqbbdpQgAAANBjompCAACA9VmNa0IAAIDm9HhsQgAAAAzrY21CAACAMeFObkIAAABX1zlvQgAAACS5EnBCAADANjSIcEIAAIBJr/1wQgAAQFwqc3FCAADA1PfocUIAAIDncl5yQg==\",\"dtype\":\"float64\",\"shape\":[101]},\"index\":[0,1,2,3,4,5,6,7,8,9,10,11,12,13,14,15,16,17,18,19,20,21,22,23,24,25,26,27,28,29,30,31,32,33,34,35,36,37,38,39,40,41,42,43,44,45,46,47,48,49,50,51,52,53,54,55,56,57,58,59,60,61,62,63,64,65,66,67,68,69,70,71,72,73,74,75,76,77,78,79,80,81,82,83,84,85,86,87,88,89,90,91,92,93,94,95,96,97,98,99,100]},\"selected\":{\"id\":\"02d065e3-5ef4-41c2-b3e4-4e43f368d206\",\"type\":\"Selection\"},\"selection_policy\":{\"id\":\"4824893b-72e2-4f44-92e1-7177ec916b60\",\"type\":\"UnionRenderers\"}},\"id\":\"c2c3f148-4651-4c95-b6bf-4a33de909334\",\"type\":\"ColumnDataSource\"},{\"attributes\":{\"days\":[1,4,7,10,13,16,19,22,25,28]},\"id\":\"491f4cc3-801c-4990-958e-36a2d4b1d0a1\",\"type\":\"DaysTicker\"},{\"attributes\":{\"days\":[1,8,15,22]},\"id\":\"bd8fdac6-9504-4b44-9d8f-9e70ab80646e\",\"type\":\"DaysTicker\"},{\"attributes\":{\"days\":[1,15]},\"id\":\"1d023c13-8b1a-44fd-a0ca-bf09f6c08725\",\"type\":\"DaysTicker\"},{\"attributes\":{\"background_fill_color\":\"rgb(245,245,240)\",\"below\":[{\"id\":\"397e30dd-dab2-472a-8d7e-6d6f4b7d1585\",\"type\":\"DatetimeAxis\"}],\"left\":[{\"id\":\"e00d7e19-ba80-4d83-bf13-5283ff04a151\",\"type\":\"LinearAxis\"}],\"plot_height\":500,\"plot_width\":1000,\"renderers\":[{\"id\":\"397e30dd-dab2-472a-8d7e-6d6f4b7d1585\",\"type\":\"DatetimeAxis\"},{\"id\":\"49056614-738a-4f5d-99d5-27ecfb29bc61\",\"type\":\"Grid\"},{\"id\":\"e00d7e19-ba80-4d83-bf13-5283ff04a151\",\"type\":\"LinearAxis\"},{\"id\":\"3e5588fb-5851-4987-ac45-20ebe0e5fd1a\",\"type\":\"Grid\"},{\"id\":\"0fb8bf81-e639-42fc-ae2f-b2106bca6d88\",\"type\":\"BoxAnnotation\"},{\"id\":\"e7934f81-ba2a-4a15-b134-914bd3cfbfcc\",\"type\":\"GlyphRenderer\"},{\"id\":\"e3a88cb1-9c6c-404c-a43f-c547cede5a0d\",\"type\":\"GlyphRenderer\"},{\"id\":\"9b0087ec-1a27-4d97-96b6-44eb400c9b01\",\"type\":\"GlyphRenderer\"},{\"id\":\"2443cfb5-43ec-4ffa-9d23-a84b3f308e42\",\"type\":\"BoxAnnotation\"}],\"title\":{\"id\":\"7bdca1f0-e4a8-4d80-a618-72a52d78fb82\",\"type\":\"Title\"},\"toolbar\":{\"id\":\"65d6b820-82a6-43c7-a28a-d0f4f7bc8f1a\",\"type\":\"Toolbar\"},\"x_range\":{\"id\":\"8daea09f-9060-4acd-8f54-9618104b91a2\",\"type\":\"DataRange1d\"},\"x_scale\":{\"id\":\"99506c8a-3bd6-4cbe-8181-4a4662142cc5\",\"type\":\"LinearScale\"},\"y_range\":{\"id\":\"f25fe1b4-7af9-40d2-bf3c-f6c8ee8fed80\",\"type\":\"DataRange1d\"},\"y_scale\":{\"id\":\"67b15314-1cc4-4c72-96c4-b621fd535552\",\"type\":\"LinearScale\"}},\"id\":\"c021f6ff-c96c-41f1-b534-888c8e1288dc\",\"subtype\":\"Figure\",\"type\":\"Plot\"},{\"attributes\":{\"months\":[0,1,2,3,4,5,6,7,8,9,10,11]},\"id\":\"910fefc2-20ab-4c71-81e7-3b573c923e76\",\"type\":\"MonthsTicker\"},{\"attributes\":{\"months\":[0,2,4,6,8,10]},\"id\":\"0a46e51d-5cfa-4a06-95db-c69ab279c071\",\"type\":\"MonthsTicker\"},{\"attributes\":{},\"id\":\"67b15314-1cc4-4c72-96c4-b621fd535552\",\"type\":\"LinearScale\"},{\"attributes\":{},\"id\":\"92edc57f-8c87-4ea2-a030-779ebae51ad1\",\"type\":\"YearsTicker\"},{\"attributes\":{\"plot\":{\"id\":\"c021f6ff-c96c-41f1-b534-888c8e1288dc\",\"subtype\":\"Figure\",\"type\":\"Plot\"},\"ticker\":{\"id\":\"d831be43-e07f-4cf4-8d50-c92c224da231\",\"type\":\"DatetimeTicker\"}},\"id\":\"49056614-738a-4f5d-99d5-27ecfb29bc61\",\"type\":\"Grid\"},{\"attributes\":{\"overlay\":{\"id\":\"0fb8bf81-e639-42fc-ae2f-b2106bca6d88\",\"type\":\"BoxAnnotation\"}},\"id\":\"2a28f600-056d-4f56-b741-5ff72442871a\",\"type\":\"BoxZoomTool\"},{\"attributes\":{},\"id\":\"02d065e3-5ef4-41c2-b3e4-4e43f368d206\",\"type\":\"Selection\"},{\"attributes\":{\"axis_label\":\"Evolution of the Top Decile's Share in National Income\",\"formatter\":{\"id\":\"6735f931-c1a5-467e-859f-0a65219205e5\",\"type\":\"DatetimeTickFormatter\"},\"plot\":{\"id\":\"c021f6ff-c96c-41f1-b534-888c8e1288dc\",\"subtype\":\"Figure\",\"type\":\"Plot\"},\"ticker\":{\"id\":\"d831be43-e07f-4cf4-8d50-c92c224da231\",\"type\":\"DatetimeTicker\"}},\"id\":\"397e30dd-dab2-472a-8d7e-6d6f4b7d1585\",\"type\":\"DatetimeAxis\"},{\"attributes\":{},\"id\":\"4824893b-72e2-4f44-92e1-7177ec916b60\",\"type\":\"UnionRenderers\"},{\"attributes\":{\"desired_num_ticks\":10,\"num_minor_ticks\":5,\"tickers\":[{\"id\":\"7121606b-2f32-4d84-9764-c836e1c6f130\",\"type\":\"AdaptiveTicker\"},{\"id\":\"f0d2e184-bdd5-46d1-87a7-d17c194b39ca\",\"type\":\"AdaptiveTicker\"},{\"id\":\"21fb7f56-724e-4276-ab57-6852ef551ce3\",\"type\":\"AdaptiveTicker\"},{\"id\":\"02a4afb1-8a85-4eb6-a16f-b947d4d6396c\",\"type\":\"DaysTicker\"},{\"id\":\"491f4cc3-801c-4990-958e-36a2d4b1d0a1\",\"type\":\"DaysTicker\"},{\"id\":\"bd8fdac6-9504-4b44-9d8f-9e70ab80646e\",\"type\":\"DaysTicker\"},{\"id\":\"1d023c13-8b1a-44fd-a0ca-bf09f6c08725\",\"type\":\"DaysTicker\"},{\"id\":\"910fefc2-20ab-4c71-81e7-3b573c923e76\",\"type\":\"MonthsTicker\"},{\"id\":\"0a46e51d-5cfa-4a06-95db-c69ab279c071\",\"type\":\"MonthsTicker\"},{\"id\":\"8378995e-f2c3-4c24-92e1-ee23c0b6be86\",\"type\":\"MonthsTicker\"},{\"id\":\"eda77541-0ed2-4fb2-8e31-95317c652ec4\",\"type\":\"MonthsTicker\"},{\"id\":\"92edc57f-8c87-4ea2-a030-779ebae51ad1\",\"type\":\"YearsTicker\"}]},\"id\":\"d831be43-e07f-4cf4-8d50-c92c224da231\",\"type\":\"DatetimeTicker\"},{\"attributes\":{},\"id\":\"f867e9d1-371f-476b-87bb-5378e8372ca0\",\"type\":\"Selection\"},{\"attributes\":{\"axis_label\":\"Percentage Share of Top Decile in National Income\",\"formatter\":{\"id\":\"a9067e7b-e54e-4594-90dc-bd29b17ab1db\",\"type\":\"BasicTickFormatter\"},\"plot\":{\"id\":\"c021f6ff-c96c-41f1-b534-888c8e1288dc\",\"subtype\":\"Figure\",\"type\":\"Plot\"},\"ticker\":{\"id\":\"bfce1adf-023d-46eb-b9b9-bcebebe0e270\",\"type\":\"BasicTicker\"}},\"id\":\"e00d7e19-ba80-4d83-bf13-5283ff04a151\",\"type\":\"LinearAxis\"},{\"attributes\":{},\"id\":\"fb7db35d-9aab-4f91-9002-bce6ab755f14\",\"type\":\"UnionRenderers\"},{\"attributes\":{\"desired_num_ticks\":10},\"id\":\"bfce1adf-023d-46eb-b9b9-bcebebe0e270\",\"type\":\"BasicTicker\"},{\"attributes\":{\"dimension\":1,\"plot\":{\"id\":\"c021f6ff-c96c-41f1-b534-888c8e1288dc\",\"subtype\":\"Figure\",\"type\":\"Plot\"},\"ticker\":{\"id\":\"bfce1adf-023d-46eb-b9b9-bcebebe0e270\",\"type\":\"BasicTicker\"}},\"id\":\"3e5588fb-5851-4987-ac45-20ebe0e5fd1a\",\"type\":\"Grid\"},{\"attributes\":{\"data_source\":{\"id\":\"c2c3f148-4651-4c95-b6bf-4a33de909334\",\"type\":\"ColumnDataSource\"},\"glyph\":{\"id\":\"4fa2f846-ff3b-4ad8-8c90-49d9e2b03afa\",\"type\":\"Line\"},\"hover_glyph\":null,\"muted_glyph\":null,\"nonselection_glyph\":{\"id\":\"6cce2306-a316-4cb3-ba1c-f047694c58d7\",\"type\":\"Line\"},\"selection_glyph\":null,\"view\":{\"id\":\"36613d4a-5a05-493a-8cf4-83db6667c425\",\"type\":\"CDSView\"}},\"id\":\"e7934f81-ba2a-4a15-b134-914bd3cfbfcc\",\"type\":\"GlyphRenderer\"},{\"attributes\":{\"line_color\":\"#051e3e\",\"line_width\":2,\"x\":{\"field\":\"Year\"},\"y\":{\"field\":\"Share_of_National_Income\"}},\"id\":\"4fa2f846-ff3b-4ad8-8c90-49d9e2b03afa\",\"type\":\"Line\"},{\"attributes\":{\"fill_color\":{\"value\":\"white\"},\"line_color\":{\"value\":\"#051e3e\"},\"size\":{\"units\":\"screen\",\"value\":5},\"x\":{\"field\":\"Year\"},\"y\":{\"field\":\"Share_of_National_Income\"}},\"id\":\"bf8bad89-88b2-46de-a662-7969788a8937\",\"type\":\"Square\"},{\"attributes\":{\"bottom_units\":\"screen\",\"fill_alpha\":{\"value\":0.5},\"fill_color\":{\"value\":\"lightgrey\"},\"left_units\":\"screen\",\"level\":\"overlay\",\"line_alpha\":{\"value\":1.0},\"line_color\":{\"value\":\"black\"},\"line_dash\":[4,4],\"line_width\":{\"value\":2},\"plot\":null,\"render_mode\":\"css\",\"right_units\":\"screen\",\"top_units\":\"screen\"},\"id\":\"0fb8bf81-e639-42fc-ae2f-b2106bca6d88\",\"type\":\"BoxAnnotation\"},{\"attributes\":{},\"id\":\"33deb156-bfd7-4766-99a2-7f2315d98c90\",\"type\":\"PanTool\"},{\"attributes\":{\"callback\":null,\"mode\":\"vline\",\"renderers\":\"auto\",\"tooltips\":[[\"Percentage Share\",\"@{Share_of_National_Income}{0.0}%\"]]},\"id\":\"1623a351-70c3-42c0-b4e5-5a1c590b0796\",\"type\":\"HoverTool\"},{\"attributes\":{},\"id\":\"245158d0-04a2-46d8-b15f-30591a5ec13c\",\"type\":\"SaveTool\"},{\"attributes\":{},\"id\":\"738388cc-6bfa-4b55-af2e-b47674e38e88\",\"type\":\"WheelZoomTool\"}],\"root_ids\":[\"c021f6ff-c96c-41f1-b534-888c8e1288dc\"]},\"title\":\"Bokeh Application\",\"version\":\"0.13.0\"}};\n",
                            "  var render_items = [{\"docid\":\"1232c85b-d7a2-43b1-8c9a-131e0b28b2f7\",\"roots\":{\"c021f6ff-c96c-41f1-b534-888c8e1288dc\":\"e667b3cb-35b9-423e-bd4a-5031da2b6934\"}}];\n",
                            "  root.Bokeh.embed.embed_items_notebook(docs_json, render_items);\n",
                            "\n",
                            "  }\n",
                            "  if (root.Bokeh !== undefined) {\n",
                            "    embed_document(root);\n",
                            "  } else {\n",
                            "    var attempts = 0;\n",
                            "    var timer = setInterval(function(root) {\n",
                            "      if (root.Bokeh !== undefined) {\n",
                            "        embed_document(root);\n",
                            "        clearInterval(timer);\n",
                            "      }\n",
                            "      attempts++;\n",
                            "      if (attempts > 100) {\n",
                            "        console.log(\"Bokeh: ERROR: Unable to run BokehJS code because BokehJS library is missing\")\n",
                            "        clearInterval(timer);\n",
                            "      }\n",
                            "    }, 10, root)\n",
                            "  }\n",
                            "})(window);"
                        ],
                        "application/vnd.bokehjs_exec.v0+json": ""
                    },
                    "metadata": {
                        "application/vnd.bokehjs_exec.v0+json": {
                            "id": "c021f6ff-c96c-41f1-b534-888c8e1288dc"
                        }
                    },
                    "output_type": "display_data"
                }
            ],
            "source": [
                "df = df.groupby('Year')['Share_of_National_Income'].sum().reset_index()\n",
                "df['Year'] = pd.to_datetime(df['Year'], format='%Y')\n",
                "\n",
                "source = ColumnDataSource(df)\n",
                "\n",
                "p = figure(x_axis_type='datetime',  plot_height=500, plot_width=1000, title='Income Inequality in the United States, 1910-2010')\n",
                "\n",
                "p.line(x='Year', y='Share_of_National_Income', line_width=2, color=\"#051e3e\", source=source)\n",
                "glyph1 = Square(x=\"Year\", y=\"Share_of_National_Income\", size=5, line_color=\"#051e3e\", fill_color=\"white\", line_width=1)\n",
                "p.add_glyph(source, glyph1)\n",
                "\n",
                "p.circle(x=['1980-01-01', '2000-01-01'], y=['34.6', '47.6'], radius=0.1,\n",
                "         color=[\"green\", \"red\"], fill_alpha=0.1)\n",
                "\n",
                "p.yaxis.axis_label = 'Percentage Share of Top Decile in National Income'\n",
                "p.xaxis[0].ticker.desired_num_ticks = 10\n",
                "p.yaxis[0].ticker.desired_num_ticks = 10\n",
                "p.xaxis.axis_label = 'Evolution of the Top Decile\\'s Share in National Income'\n",
                "\n",
                "hover = HoverTool()\n",
                "hover.tooltips = [\n",
                "        (\"Percentage Share\", \"@{Share_of_National_Income}{0.0}\"+ \"%\")]\n",
                "\n",
                "hover.mode = 'vline'\n",
                "\n",
                "box_left = pd.to_datetime('1940')\n",
                "box_right = pd.to_datetime('1945')\n",
                "box = BoxAnnotation(left=box_left, right=box_right,\n",
                "                    line_width=1, line_color='black', line_dash='dashed',\n",
                "                    fill_alpha=0.2, fill_color='#ff6f69')\n",
                "\n",
                "p.background_fill_color = \"rgb(245,245,240)\"\n",
                "\n",
                "p.add_tools(hover)\n",
                "p.add_layout(box)\n",
                "\n",
                "show(p)"
            ]
        },
        {
            "cell_type": "markdown",
            "metadata": {},
            "source": [
                "### The Fundamental Force for Divergence: r > g"
            ]
        },
        {
            "cell_type": "markdown",
            "metadata": {},
            "source": [
                "The second figure below reveals a pattern that, according to Pikkety, exerts an even greater influence on the long-run evolution of the wealth distribution, namely, the total value of private wealth in Britain, France and Germany, expressed in years of national income."
            ]
        },
        {
            "cell_type": "code",
            "execution_count": 8,
            "metadata": {
                "scrolled": true
            },
            "outputs": [],
            "source": [
                "df = pd.read_csv('Pikkety_Chap0_Fig2.csv')\n",
                "df['Germany'] = df['Germany'].str.rstrip('%').astype('float')\n",
                "df.Germany = df.Germany.round(2)\n",
                "df['France'] = df['France'].str.rstrip('%').astype('float')\n",
                "df.France = df.France.round(2)\n",
                "df['Britain'] = df['Britain'].str.rstrip('%').astype('float')\n",
                "df.Britain = df.Britain.round(2)\n",
                "\n",
                "df = df.groupby('Year')['Germany', 'France', 'Britain'].sum().reset_index()\n",
                "df = df.set_index('Year')"
            ]
        },
        {
            "cell_type": "markdown",
            "metadata": {},
            "source": [
                "Similar to the evolution of income inequality shown above, we observe a \"U-shaped\" curve. Pikkety will later go on to show that the high capital-to-income ratios over the past few decades is widely explained by a return to relatively slow economic growth, during which time private wealth has taken on a disproportionate importance in the global economy. As of 2010, aggregate private wealth is worth between 4 and 6 years of national income. Note that *capital* includes, among other incomes from capital, profits, dividends, interest and rents. \n",
                "\n",
                "This inequality, written by Pikkety as *r > g*, where *r* stands for the average annual rate of return on capital, as a percentage of its total value, and *g* for the rate of growth of the economy, is the basis for a lot of his conclusions and policy recommendations. For one, if the return on capital remains considerably higher than the growth rate of the economy for an extended period of time, then the risk of divergence in the distribution of wealth will increase"
            ]
        },
        {
            "cell_type": "code",
            "execution_count": 11,
            "metadata": {
                "scrolled": false
            },
            "outputs": [
                {
                    "data": {
                        "text/html": [
                            "\n",
                            "\n",
                            "\n",
                            "\n",
                            "\n",
                            "\n",
                            "  <div class=\"bk-root\" id=\"f6a14120-b850-4353-8b31-edd0225b6975\"></div>\n"
                        ]
                    },
                    "metadata": {},
                    "output_type": "display_data"
                },
                {
                    "data": {
                        "application/javascript": [
                            "(function(root) {\n",
                            "  function embed_document(root) {\n",
                            "    \n",
                            "  var docs_json = {\"b012b3c8-ea22-4385-b0c6-88773ae0dd96\":{\"roots\":{\"references\":[{\"attributes\":{\"source\":{\"id\":\"f799ae74-679b-4f81-ad57-d93eba4052fd\",\"type\":\"ColumnDataSource\"}},\"id\":\"d1ebcbad-b49c-4751-bd62-b67f866c0706\",\"type\":\"CDSView\"},{\"attributes\":{},\"id\":\"cf5f8ab4-b31f-4063-83c2-908f07259a70\",\"type\":\"DatetimeTickFormatter\"},{\"attributes\":{\"bottom_units\":\"screen\",\"fill_alpha\":{\"value\":0.5},\"fill_color\":{\"value\":\"lightgrey\"},\"left_units\":\"screen\",\"level\":\"overlay\",\"line_alpha\":{\"value\":1.0},\"line_color\":{\"value\":\"black\"},\"line_dash\":[4,4],\"line_width\":{\"value\":2},\"plot\":null,\"render_mode\":\"css\",\"right_units\":\"screen\",\"top_units\":\"screen\"},\"id\":\"b9413d97-bb86-437b-b71a-fdf135775814\",\"type\":\"BoxAnnotation\"},{\"attributes\":{},\"id\":\"ccd27ab7-ae1c-4eaa-8ad7-e23481d43513\",\"type\":\"PanTool\"},{\"attributes\":{},\"id\":\"4183e250-4897-4209-a406-5d2305e20607\",\"type\":\"WheelZoomTool\"},{\"attributes\":{\"overlay\":{\"id\":\"b9413d97-bb86-437b-b71a-fdf135775814\",\"type\":\"BoxAnnotation\"}},\"id\":\"0c493061-4ca5-489b-9904-949ca9e92443\",\"type\":\"BoxZoomTool\"},{\"attributes\":{},\"id\":\"238f625b-9039-4dbe-bcbe-a1e0f0c06991\",\"type\":\"SaveTool\"},{\"attributes\":{},\"id\":\"58d0f68d-ac4b-4ac7-bc20-1fd3c768193e\",\"type\":\"ResetTool\"},{\"attributes\":{},\"id\":\"06d36f43-4573-4860-96a9-aaa66e2d5592\",\"type\":\"HelpTool\"},{\"attributes\":{\"base\":60,\"mantissas\":[1,2,5,10,15,20,30],\"max_interval\":1800000.0,\"min_interval\":1000.0,\"num_minor_ticks\":0},\"id\":\"36980ab8-68b4-45e5-b8e6-b63dcbf5b52e\",\"type\":\"AdaptiveTicker\"},{\"attributes\":{\"mantissas\":[1,2,5],\"max_interval\":500.0,\"num_minor_ticks\":0},\"id\":\"0a0f0df1-4853-4eb8-81ee-ae16f2152d11\",\"type\":\"AdaptiveTicker\"},{\"attributes\":{},\"id\":\"6932a729-efb4-412d-8cbf-47a7547cb9ea\",\"type\":\"UnionRenderers\"},{\"attributes\":{\"base\":24,\"mantissas\":[1,2,4,6,8,12],\"max_interval\":43200000.0,\"min_interval\":3600000.0,\"num_minor_ticks\":0},\"id\":\"d182a5cc-09ca-41ee-b6c3-b10cfc285d62\",\"type\":\"AdaptiveTicker\"},{\"attributes\":{\"days\":[1,2,3,4,5,6,7,8,9,10,11,12,13,14,15,16,17,18,19,20,21,22,23,24,25,26,27,28,29,30,31]},\"id\":\"fedba88b-087a-40fe-ae88-7cfa37b4f5f1\",\"type\":\"DaysTicker\"},{\"attributes\":{\"dimension\":1,\"plot\":{\"id\":\"c36b0df5-5309-477a-9a09-413175315904\",\"subtype\":\"Figure\",\"type\":\"Plot\"},\"ticker\":{\"id\":\"93538401-d0a5-43cd-a7d4-dd4ecc5a24fe\",\"type\":\"BasicTicker\"}},\"id\":\"bf017e73-7fe7-495d-956d-0f1aa5599552\",\"type\":\"Grid\"},{\"attributes\":{\"days\":[1,4,7,10,13,16,19,22,25,28]},\"id\":\"9824a127-5f76-4834-b4f3-1b7bb5f88114\",\"type\":\"DaysTicker\"},{\"attributes\":{\"days\":[1,8,15,22]},\"id\":\"7fbddb1d-1b1f-4029-9ac0-ed8d5815d817\",\"type\":\"DaysTicker\"},{\"attributes\":{\"days\":[1,15]},\"id\":\"498825f6-0f4b-46da-a608-39cd6066b340\",\"type\":\"DaysTicker\"},{\"attributes\":{\"months\":[0,1,2,3,4,5,6,7,8,9,10,11]},\"id\":\"5c0cd72f-eca4-44ee-aa38-fa5b0087c5bc\",\"type\":\"MonthsTicker\"},{\"attributes\":{\"months\":[0,2,4,6,8,10]},\"id\":\"424530b9-c376-4193-b341-689ed81f3060\",\"type\":\"MonthsTicker\"},{\"attributes\":{\"line_color\":\"#008744\",\"line_width\":2,\"x\":{\"field\":\"Year\"},\"y\":{\"field\":\"Germany\"}},\"id\":\"848a0a49-700a-4790-bba1-d77ea01ba2a2\",\"type\":\"Line\"},{\"attributes\":{\"months\":[0,4,8]},\"id\":\"f60ffd64-5a05-44c7-818c-c6fbb4b85aa8\",\"type\":\"MonthsTicker\"},{\"attributes\":{\"months\":[0,6]},\"id\":\"a9d4c6e0-d81d-4d23-8c8f-1acabc23428e\",\"type\":\"MonthsTicker\"},{\"attributes\":{},\"id\":\"03a03176-1d22-4080-b3fd-480db18f0c69\",\"type\":\"YearsTicker\"},{\"attributes\":{\"background_fill_color\":\"rgb(245,245,240)\",\"border_line_color\":{\"value\":\"#000000\"},\"items\":[{\"id\":\"60ec0a7d-287e-4e3d-b03c-0801177a3607\",\"type\":\"LegendItem\"},{\"id\":\"45deb765-dea5-4824-b89b-6f956064069e\",\"type\":\"LegendItem\"},{\"id\":\"8262f66b-af3d-42a7-9c2e-bf93bf29ac5b\",\"type\":\"LegendItem\"}],\"plot\":{\"id\":\"c36b0df5-5309-477a-9a09-413175315904\",\"subtype\":\"Figure\",\"type\":\"Plot\"}},\"id\":\"2388da59-6bce-49c7-9cf5-54f5a16b70f1\",\"type\":\"Legend\"},{\"attributes\":{},\"id\":\"93538401-d0a5-43cd-a7d4-dd4ecc5a24fe\",\"type\":\"BasicTicker\"},{\"attributes\":{\"label\":{\"value\":\"Germany.\"},\"renderers\":[{\"id\":\"364b9224-77c3-427b-8b8c-3a13ed8387f4\",\"type\":\"GlyphRenderer\"},{\"id\":\"50232363-1622-4539-8196-1f66d442bfc4\",\"type\":\"GlyphRenderer\"}]},\"id\":\"60ec0a7d-287e-4e3d-b03c-0801177a3607\",\"type\":\"LegendItem\"},{\"attributes\":{\"callback\":null,\"mode\":\"vline\",\"renderers\":[{\"id\":\"50232363-1622-4539-8196-1f66d442bfc4\",\"type\":\"GlyphRenderer\"}],\"tooltips\":[[\"Germany\",\"@{Germany}%\"]]},\"id\":\"cf1842ca-427a-4472-9ca8-9a1f36f8a1b5\",\"type\":\"HoverTool\"},{\"attributes\":{\"fill_color\":{\"value\":\"white\"},\"line_color\":{\"value\":\"#008744\"},\"size\":{\"units\":\"screen\",\"value\":8},\"x\":{\"field\":\"Year\"},\"y\":{\"field\":\"Germany\"}},\"id\":\"dad96c42-5f6b-41e9-9bd3-7bdca7561487\",\"type\":\"Circle\"},{\"attributes\":{\"fill_alpha\":{\"value\":0.1},\"fill_color\":{\"value\":\"#1f77b4\"},\"line_alpha\":{\"value\":0.1},\"line_color\":{\"value\":\"#1f77b4\"},\"size\":{\"units\":\"screen\",\"value\":8},\"x\":{\"field\":\"Year\"},\"y\":{\"field\":\"Germany\"}},\"id\":\"b56c593c-5b36-4f29-93bb-fae722e982be\",\"type\":\"Circle\"},{\"attributes\":{\"data_source\":{\"id\":\"f799ae74-679b-4f81-ad57-d93eba4052fd\",\"type\":\"ColumnDataSource\"},\"glyph\":{\"id\":\"dad96c42-5f6b-41e9-9bd3-7bdca7561487\",\"type\":\"Circle\"},\"hover_glyph\":null,\"muted_glyph\":null,\"nonselection_glyph\":{\"id\":\"b56c593c-5b36-4f29-93bb-fae722e982be\",\"type\":\"Circle\"},\"selection_glyph\":null,\"view\":{\"id\":\"91ba8a57-d306-4b6f-94b5-f20a38b637a9\",\"type\":\"CDSView\"}},\"id\":\"50232363-1622-4539-8196-1f66d442bfc4\",\"type\":\"GlyphRenderer\"},{\"attributes\":{\"source\":{\"id\":\"f799ae74-679b-4f81-ad57-d93eba4052fd\",\"type\":\"ColumnDataSource\"}},\"id\":\"91ba8a57-d306-4b6f-94b5-f20a38b637a9\",\"type\":\"CDSView\"},{\"attributes\":{},\"id\":\"3762913c-291a-4762-a8f8-f5a04f3230cf\",\"type\":\"Selection\"},{\"attributes\":{\"callback\":null},\"id\":\"82c8daa3-f238-44b6-b3a2-8e9f0bd3afb4\",\"type\":\"DataRange1d\"},{\"attributes\":{\"data_source\":{\"id\":\"f799ae74-679b-4f81-ad57-d93eba4052fd\",\"type\":\"ColumnDataSource\"},\"glyph\":{\"id\":\"f4247f24-14de-4170-84a5-4c1be7133ef3\",\"type\":\"Line\"},\"hover_glyph\":null,\"muted_glyph\":null,\"nonselection_glyph\":{\"id\":\"eb5e846b-0045-435f-9bb5-e5524724014f\",\"type\":\"Line\"},\"selection_glyph\":null,\"view\":{\"id\":\"67169a92-f646-4cd0-ad85-c93a44c800ba\",\"type\":\"CDSView\"}},\"id\":\"3667f40e-262d-4659-876e-ea2ee74922be\",\"type\":\"GlyphRenderer\"},{\"attributes\":{\"callback\":null,\"mode\":\"vline\",\"renderers\":[{\"id\":\"15256213-b3f9-4703-8a96-4d5a94146e4c\",\"type\":\"GlyphRenderer\"}],\"tooltips\":[[\"France\",\"@{France}%\"]]},\"id\":\"f2ad4dc5-bf5f-4ff7-a223-dbd4f7f6b993\",\"type\":\"HoverTool\"},{\"attributes\":{\"source\":{\"id\":\"f799ae74-679b-4f81-ad57-d93eba4052fd\",\"type\":\"ColumnDataSource\"}},\"id\":\"67169a92-f646-4cd0-ad85-c93a44c800ba\",\"type\":\"CDSView\"},{\"attributes\":{\"data_source\":{\"id\":\"f799ae74-679b-4f81-ad57-d93eba4052fd\",\"type\":\"ColumnDataSource\"},\"glyph\":{\"id\":\"848a0a49-700a-4790-bba1-d77ea01ba2a2\",\"type\":\"Line\"},\"hover_glyph\":null,\"muted_glyph\":null,\"nonselection_glyph\":{\"id\":\"95f9c694-d7c6-45eb-8bbf-892e8d53832b\",\"type\":\"Line\"},\"selection_glyph\":null,\"view\":{\"id\":\"d1ebcbad-b49c-4751-bd62-b67f866c0706\",\"type\":\"CDSView\"}},\"id\":\"364b9224-77c3-427b-8b8c-3a13ed8387f4\",\"type\":\"GlyphRenderer\"},{\"attributes\":{\"label\":{\"value\":\"France.\"},\"renderers\":[{\"id\":\"3667f40e-262d-4659-876e-ea2ee74922be\",\"type\":\"GlyphRenderer\"},{\"id\":\"15256213-b3f9-4703-8a96-4d5a94146e4c\",\"type\":\"GlyphRenderer\"}]},\"id\":\"45deb765-dea5-4824-b89b-6f956064069e\",\"type\":\"LegendItem\"},{\"attributes\":{\"label\":{\"value\":\"Britain.\"},\"renderers\":[{\"id\":\"5edc7da2-0405-4b7c-85a1-ce3296aa39b6\",\"type\":\"GlyphRenderer\"},{\"id\":\"48fc23c7-8b8f-4d04-8fce-dff2dd8b67b0\",\"type\":\"GlyphRenderer\"}]},\"id\":\"8262f66b-af3d-42a7-9c2e-bf93bf29ac5b\",\"type\":\"LegendItem\"},{\"attributes\":{\"fill_color\":{\"value\":\"white\"},\"line_color\":{\"value\":\"#851e3e\"},\"size\":{\"units\":\"screen\",\"value\":8},\"x\":{\"field\":\"Year\"},\"y\":{\"field\":\"France\"}},\"id\":\"4c6a7720-0e14-454d-901c-3d53982c020b\",\"type\":\"Triangle\"},{\"attributes\":{\"fill_alpha\":{\"value\":0.1},\"fill_color\":{\"value\":\"#1f77b4\"},\"line_alpha\":{\"value\":0.1},\"line_color\":{\"value\":\"#1f77b4\"},\"size\":{\"units\":\"screen\",\"value\":8},\"x\":{\"field\":\"Year\"},\"y\":{\"field\":\"France\"}},\"id\":\"3d267c4f-f179-4e02-9fca-83aa63771a4e\",\"type\":\"Triangle\"},{\"attributes\":{\"data_source\":{\"id\":\"f799ae74-679b-4f81-ad57-d93eba4052fd\",\"type\":\"ColumnDataSource\"},\"glyph\":{\"id\":\"4c6a7720-0e14-454d-901c-3d53982c020b\",\"type\":\"Triangle\"},\"hover_glyph\":null,\"muted_glyph\":null,\"nonselection_glyph\":{\"id\":\"3d267c4f-f179-4e02-9fca-83aa63771a4e\",\"type\":\"Triangle\"},\"selection_glyph\":null,\"view\":{\"id\":\"36a0d421-cf98-4c9b-8270-b0d351134924\",\"type\":\"CDSView\"}},\"id\":\"15256213-b3f9-4703-8a96-4d5a94146e4c\",\"type\":\"GlyphRenderer\"},{\"attributes\":{\"line_color\":\"#851e3e\",\"line_width\":2,\"x\":{\"field\":\"Year\"},\"y\":{\"field\":\"France\"}},\"id\":\"f4247f24-14de-4170-84a5-4c1be7133ef3\",\"type\":\"Line\"},{\"attributes\":{\"source\":{\"id\":\"f799ae74-679b-4f81-ad57-d93eba4052fd\",\"type\":\"ColumnDataSource\"}},\"id\":\"36a0d421-cf98-4c9b-8270-b0d351134924\",\"type\":\"CDSView\"},{\"attributes\":{\"axis_label\":\"Capital-Income Ratio\",\"formatter\":{\"id\":\"8e6c5493-d702-4a94-9b5d-3b63601cf55b\",\"type\":\"NumeralTickFormatter\"},\"plot\":{\"id\":\"c36b0df5-5309-477a-9a09-413175315904\",\"subtype\":\"Figure\",\"type\":\"Plot\"},\"ticker\":{\"id\":\"93538401-d0a5-43cd-a7d4-dd4ecc5a24fe\",\"type\":\"BasicTicker\"}},\"id\":\"472daadb-646a-4d35-87df-d711b1225dfe\",\"type\":\"LinearAxis\"},{\"attributes\":{\"callback\":null,\"mode\":\"vline\",\"renderers\":[{\"id\":\"48fc23c7-8b8f-4d04-8fce-dff2dd8b67b0\",\"type\":\"GlyphRenderer\"}],\"tooltips\":[[\"Britain\",\"@{Britain}%\"]]},\"id\":\"f8336c47-e0da-40cf-ac98-fc6f7482cc08\",\"type\":\"HoverTool\"},{\"attributes\":{\"line_alpha\":0.1,\"line_color\":\"#1f77b4\",\"line_width\":2,\"x\":{\"field\":\"Year\"},\"y\":{\"field\":\"France\"}},\"id\":\"eb5e846b-0045-435f-9bb5-e5524724014f\",\"type\":\"Line\"},{\"attributes\":{\"line_color\":\"#051e3e\",\"line_width\":2,\"x\":{\"field\":\"Year\"},\"y\":{\"field\":\"Britain\"}},\"id\":\"99a54db8-39c8-480f-ad3a-82841c67f64f\",\"type\":\"Line\"},{\"attributes\":{},\"id\":\"d77abff0-f65e-4b66-b5ad-e23a2b8373c2\",\"type\":\"LinearScale\"},{\"attributes\":{\"line_alpha\":0.1,\"line_color\":\"#1f77b4\",\"line_width\":2,\"x\":{\"field\":\"Year\"},\"y\":{\"field\":\"Britain\"}},\"id\":\"26d03abd-f9af-4546-82c5-c733fe4f1bf3\",\"type\":\"Line\"},{\"attributes\":{\"axis_label\":\"Aggregate private wealth as a percentage of National Income\",\"formatter\":{\"id\":\"cf5f8ab4-b31f-4063-83c2-908f07259a70\",\"type\":\"DatetimeTickFormatter\"},\"plot\":{\"id\":\"c36b0df5-5309-477a-9a09-413175315904\",\"subtype\":\"Figure\",\"type\":\"Plot\"},\"ticker\":{\"id\":\"9e2ef011-82b7-4627-bb9d-f63d872a4e98\",\"type\":\"DatetimeTicker\"}},\"id\":\"9fe42516-4818-4e24-baef-36d9dfe1de78\",\"type\":\"DatetimeAxis\"},{\"attributes\":{\"data_source\":{\"id\":\"f799ae74-679b-4f81-ad57-d93eba4052fd\",\"type\":\"ColumnDataSource\"},\"glyph\":{\"id\":\"99a54db8-39c8-480f-ad3a-82841c67f64f\",\"type\":\"Line\"},\"hover_glyph\":null,\"muted_glyph\":null,\"nonselection_glyph\":{\"id\":\"26d03abd-f9af-4546-82c5-c733fe4f1bf3\",\"type\":\"Line\"},\"selection_glyph\":null,\"view\":{\"id\":\"3bbcf2d0-f6b6-4ec4-b746-4f4c9c2d8880\",\"type\":\"CDSView\"}},\"id\":\"5edc7da2-0405-4b7c-85a1-ce3296aa39b6\",\"type\":\"GlyphRenderer\"},{\"attributes\":{\"source\":{\"id\":\"f799ae74-679b-4f81-ad57-d93eba4052fd\",\"type\":\"ColumnDataSource\"}},\"id\":\"3bbcf2d0-f6b6-4ec4-b746-4f4c9c2d8880\",\"type\":\"CDSView\"},{\"attributes\":{\"format\":\"000\"},\"id\":\"8e6c5493-d702-4a94-9b5d-3b63601cf55b\",\"type\":\"NumeralTickFormatter\"},{\"attributes\":{\"fill_color\":{\"value\":\"white\"},\"line_color\":{\"value\":\"#051e3e\"},\"size\":{\"units\":\"screen\",\"value\":8},\"x\":{\"field\":\"Year\"},\"y\":{\"field\":\"Britain\"}},\"id\":\"0abf2d56-c051-422e-9369-73318ff8af0f\",\"type\":\"Square\"},{\"attributes\":{\"fill_alpha\":{\"value\":0.1},\"fill_color\":{\"value\":\"#1f77b4\"},\"line_alpha\":{\"value\":0.1},\"line_color\":{\"value\":\"#1f77b4\"},\"size\":{\"units\":\"screen\",\"value\":8},\"x\":{\"field\":\"Year\"},\"y\":{\"field\":\"Britain\"}},\"id\":\"8beed2d0-9083-4b95-9373-d33e69502b40\",\"type\":\"Square\"},{\"attributes\":{\"data_source\":{\"id\":\"f799ae74-679b-4f81-ad57-d93eba4052fd\",\"type\":\"ColumnDataSource\"},\"glyph\":{\"id\":\"0abf2d56-c051-422e-9369-73318ff8af0f\",\"type\":\"Square\"},\"hover_glyph\":null,\"muted_glyph\":null,\"nonselection_glyph\":{\"id\":\"8beed2d0-9083-4b95-9373-d33e69502b40\",\"type\":\"Square\"},\"selection_glyph\":null,\"view\":{\"id\":\"f480e42d-19e0-4e66-8338-c400251ead3d\",\"type\":\"CDSView\"}},\"id\":\"48fc23c7-8b8f-4d04-8fce-dff2dd8b67b0\",\"type\":\"GlyphRenderer\"},{\"attributes\":{\"source\":{\"id\":\"f799ae74-679b-4f81-ad57-d93eba4052fd\",\"type\":\"ColumnDataSource\"}},\"id\":\"f480e42d-19e0-4e66-8338-c400251ead3d\",\"type\":\"CDSView\"},{\"attributes\":{\"plot\":null,\"text\":\"The Capital-Income Ratio in Europe, 1870-2010\"},\"id\":\"1b70f62a-fe19-4107-aed8-0d72d8c48d28\",\"type\":\"Title\"},{\"attributes\":{\"line_alpha\":0.1,\"line_color\":\"#1f77b4\",\"line_width\":2,\"x\":{\"field\":\"Year\"},\"y\":{\"field\":\"Germany\"}},\"id\":\"95f9c694-d7c6-45eb-8bbf-892e8d53832b\",\"type\":\"Line\"},{\"attributes\":{\"callback\":null},\"id\":\"d2bd81d3-499c-480f-8e5f-be1a11a6615c\",\"type\":\"DataRange1d\"},{\"attributes\":{\"active_drag\":\"auto\",\"active_inspect\":\"auto\",\"active_multi\":null,\"active_scroll\":\"auto\",\"active_tap\":\"auto\",\"tools\":[{\"id\":\"ccd27ab7-ae1c-4eaa-8ad7-e23481d43513\",\"type\":\"PanTool\"},{\"id\":\"4183e250-4897-4209-a406-5d2305e20607\",\"type\":\"WheelZoomTool\"},{\"id\":\"0c493061-4ca5-489b-9904-949ca9e92443\",\"type\":\"BoxZoomTool\"},{\"id\":\"238f625b-9039-4dbe-bcbe-a1e0f0c06991\",\"type\":\"SaveTool\"},{\"id\":\"58d0f68d-ac4b-4ac7-bc20-1fd3c768193e\",\"type\":\"ResetTool\"},{\"id\":\"06d36f43-4573-4860-96a9-aaa66e2d5592\",\"type\":\"HelpTool\"},{\"id\":\"cf1842ca-427a-4472-9ca8-9a1f36f8a1b5\",\"type\":\"HoverTool\"},{\"id\":\"f2ad4dc5-bf5f-4ff7-a223-dbd4f7f6b993\",\"type\":\"HoverTool\"},{\"id\":\"f8336c47-e0da-40cf-ac98-fc6f7482cc08\",\"type\":\"HoverTool\"}]},\"id\":\"ba90351b-c6bd-4c01-99bb-3f492ae3b174\",\"type\":\"Toolbar\"},{\"attributes\":{},\"id\":\"d0161cc5-8973-4ab1-98e3-db0c305f96c5\",\"type\":\"LinearScale\"},{\"attributes\":{\"num_minor_ticks\":5,\"tickers\":[{\"id\":\"0a0f0df1-4853-4eb8-81ee-ae16f2152d11\",\"type\":\"AdaptiveTicker\"},{\"id\":\"36980ab8-68b4-45e5-b8e6-b63dcbf5b52e\",\"type\":\"AdaptiveTicker\"},{\"id\":\"d182a5cc-09ca-41ee-b6c3-b10cfc285d62\",\"type\":\"AdaptiveTicker\"},{\"id\":\"fedba88b-087a-40fe-ae88-7cfa37b4f5f1\",\"type\":\"DaysTicker\"},{\"id\":\"9824a127-5f76-4834-b4f3-1b7bb5f88114\",\"type\":\"DaysTicker\"},{\"id\":\"7fbddb1d-1b1f-4029-9ac0-ed8d5815d817\",\"type\":\"DaysTicker\"},{\"id\":\"498825f6-0f4b-46da-a608-39cd6066b340\",\"type\":\"DaysTicker\"},{\"id\":\"5c0cd72f-eca4-44ee-aa38-fa5b0087c5bc\",\"type\":\"MonthsTicker\"},{\"id\":\"424530b9-c376-4193-b341-689ed81f3060\",\"type\":\"MonthsTicker\"},{\"id\":\"f60ffd64-5a05-44c7-818c-c6fbb4b85aa8\",\"type\":\"MonthsTicker\"},{\"id\":\"a9d4c6e0-d81d-4d23-8c8f-1acabc23428e\",\"type\":\"MonthsTicker\"},{\"id\":\"03a03176-1d22-4080-b3fd-480db18f0c69\",\"type\":\"YearsTicker\"}]},\"id\":\"9e2ef011-82b7-4627-bb9d-f63d872a4e98\",\"type\":\"DatetimeTicker\"},{\"attributes\":{\"plot\":{\"id\":\"c36b0df5-5309-477a-9a09-413175315904\",\"subtype\":\"Figure\",\"type\":\"Plot\"},\"ticker\":{\"id\":\"9e2ef011-82b7-4627-bb9d-f63d872a4e98\",\"type\":\"DatetimeTicker\"}},\"id\":\"269ebd83-a12a-44d0-95ea-e2110df1720d\",\"type\":\"Grid\"},{\"attributes\":{\"background_fill_color\":\"rgb(245,245,240)\",\"below\":[{\"id\":\"9fe42516-4818-4e24-baef-36d9dfe1de78\",\"type\":\"DatetimeAxis\"}],\"left\":[{\"id\":\"472daadb-646a-4d35-87df-d711b1225dfe\",\"type\":\"LinearAxis\"}],\"plot_height\":500,\"plot_width\":1000,\"renderers\":[{\"id\":\"9fe42516-4818-4e24-baef-36d9dfe1de78\",\"type\":\"DatetimeAxis\"},{\"id\":\"269ebd83-a12a-44d0-95ea-e2110df1720d\",\"type\":\"Grid\"},{\"id\":\"472daadb-646a-4d35-87df-d711b1225dfe\",\"type\":\"LinearAxis\"},{\"id\":\"bf017e73-7fe7-495d-956d-0f1aa5599552\",\"type\":\"Grid\"},{\"id\":\"b9413d97-bb86-437b-b71a-fdf135775814\",\"type\":\"BoxAnnotation\"},{\"id\":\"2388da59-6bce-49c7-9cf5-54f5a16b70f1\",\"type\":\"Legend\"},{\"id\":\"364b9224-77c3-427b-8b8c-3a13ed8387f4\",\"type\":\"GlyphRenderer\"},{\"id\":\"50232363-1622-4539-8196-1f66d442bfc4\",\"type\":\"GlyphRenderer\"},{\"id\":\"3667f40e-262d-4659-876e-ea2ee74922be\",\"type\":\"GlyphRenderer\"},{\"id\":\"15256213-b3f9-4703-8a96-4d5a94146e4c\",\"type\":\"GlyphRenderer\"},{\"id\":\"5edc7da2-0405-4b7c-85a1-ce3296aa39b6\",\"type\":\"GlyphRenderer\"},{\"id\":\"48fc23c7-8b8f-4d04-8fce-dff2dd8b67b0\",\"type\":\"GlyphRenderer\"}],\"title\":{\"id\":\"1b70f62a-fe19-4107-aed8-0d72d8c48d28\",\"type\":\"Title\"},\"toolbar\":{\"id\":\"ba90351b-c6bd-4c01-99bb-3f492ae3b174\",\"type\":\"Toolbar\"},\"x_range\":{\"id\":\"d2bd81d3-499c-480f-8e5f-be1a11a6615c\",\"type\":\"DataRange1d\"},\"x_scale\":{\"id\":\"d0161cc5-8973-4ab1-98e3-db0c305f96c5\",\"type\":\"LinearScale\"},\"y_range\":{\"id\":\"82c8daa3-f238-44b6-b3a2-8e9f0bd3afb4\",\"type\":\"DataRange1d\"},\"y_scale\":{\"id\":\"d77abff0-f65e-4b66-b5ad-e23a2b8373c2\",\"type\":\"LinearScale\"}},\"id\":\"c36b0df5-5309-477a-9a09-413175315904\",\"subtype\":\"Figure\",\"type\":\"Plot\"},{\"attributes\":{\"callback\":null,\"data\":{\"Britain\":{\"__ndarray__\":\"AAAAAADAhUAAAAAAAOiDQAAAAAAACINAAAAAAABQhEAAAAAAAAiFQAAAAAAAkHtAAAAAAADAf0AAAAAAAPB4QAAAAAAAkHNAAAAAAACQc0AAAAAAAKBzQAAAAAAA4HVAAAAAAADAekAAAAAAAAB/QAAAAAAAUIBA\",\"dtype\":\"float64\",\"shape\":[15]},\"France\":{\"__ndarray__\":\"AAAAAADYhUAAAAAAAOiGQAAAAAAAsIZAAAAAAACwhkAAAAAAANiFQAAAAAAAoHRAAAAAAACAdUAAAAAAANBzQAAAAAAAYGtAAAAAAACAcUAAAAAAAHBzQAAAAAAAAHRAAAAAAABQdUAAAAAAAKB9QAAAAAAA+IFA\",\"dtype\":\"float64\",\"shape\":[15]},\"Germany\":{\"__ndarray__\":\"AAAAAAAghEAAAAAAACCEQAAAAAAAgIJAAAAAAAAYg0AAAAAAAOCCQAAAAAAAMHBAAAAAAAAwc0AAAAAAAKBwQAAAAAAAwGRAAAAAAAAgakAAAAAAAKBsQAAAAAAAwHFAAAAAAACQc0AAAAAAAJB3QAAAAAAAwHlA\",\"dtype\":\"float64\",\"shape\":[15]},\"Year\":{\"__ndarray__\":\"AACAbub1hsIAAACrLKqEwgAAoLRJXoLCAAAg8Y8SgMIAAEBbrI17wgAAQNQ49nbCAACA53JecsIAAADB/o1rwgAAgOdyXmLCAAAAsxdfUsIAAAAAAAAAAAAAABzOXVJCAACA53JeYkIAAID1WY1rQgAAgOdyXnJC\",\"dtype\":\"float64\",\"shape\":[15]}},\"selected\":{\"id\":\"3762913c-291a-4762-a8f8-f5a04f3230cf\",\"type\":\"Selection\"},\"selection_policy\":{\"id\":\"6932a729-efb4-412d-8cbf-47a7547cb9ea\",\"type\":\"UnionRenderers\"}},\"id\":\"f799ae74-679b-4f81-ad57-d93eba4052fd\",\"type\":\"ColumnDataSource\"}],\"root_ids\":[\"c36b0df5-5309-477a-9a09-413175315904\"]},\"title\":\"Bokeh Application\",\"version\":\"0.13.0\"}};\n",
                            "  var render_items = [{\"docid\":\"b012b3c8-ea22-4385-b0c6-88773ae0dd96\",\"roots\":{\"c36b0df5-5309-477a-9a09-413175315904\":\"f6a14120-b850-4353-8b31-edd0225b6975\"}}];\n",
                            "  root.Bokeh.embed.embed_items_notebook(docs_json, render_items);\n",
                            "\n",
                            "  }\n",
                            "  if (root.Bokeh !== undefined) {\n",
                            "    embed_document(root);\n",
                            "  } else {\n",
                            "    var attempts = 0;\n",
                            "    var timer = setInterval(function(root) {\n",
                            "      if (root.Bokeh !== undefined) {\n",
                            "        embed_document(root);\n",
                            "        clearInterval(timer);\n",
                            "      }\n",
                            "      attempts++;\n",
                            "      if (attempts > 100) {\n",
                            "        console.log(\"Bokeh: ERROR: Unable to run BokehJS code because BokehJS library is missing\")\n",
                            "        clearInterval(timer);\n",
                            "      }\n",
                            "    }, 10, root)\n",
                            "  }\n",
                            "})(window);"
                        ],
                        "application/vnd.bokehjs_exec.v0+json": ""
                    },
                    "metadata": {
                        "application/vnd.bokehjs_exec.v0+json": {
                            "id": "c36b0df5-5309-477a-9a09-413175315904"
                        }
                    },
                    "output_type": "display_data"
                }
            ],
            "source": [
                "df.index = pd.to_datetime(df.index, format='%Y')\n",
                "\n",
                "source = ColumnDataSource(df)\n",
                "\n",
                "p = figure(x_axis_type='datetime',  plot_height=500, plot_width=1000, title='The Capital-Income Ratio in Europe, 1870-2010')\n",
                "\n",
                "p1 = p.line(x='Year', y='Germany', line_width=2, color=\"#008744\", source=source, legend=\"Germany.\")\n",
                "p1 = p.circle('Year', 'Germany', legend=\"Germany.\", line_color=\"#008744\", fill_color=\"white\", size=8, source=source)\n",
                "p.add_tools(HoverTool(renderers=[p1], tooltips=[(\"Germany\", \"@{Germany}\"+ \"%\")],mode='vline'))\n",
                "p2 = p.line(x='Year', y='France', line_width=2, color=\"#851e3e\", source=source, legend='France.')\n",
                "p2 = p.triangle('Year', 'France', legend=\"France.\", line_color=\"#851e3e\", fill_color=\"white\", size=8, source=source)\n",
                "p.add_tools(HoverTool(renderers=[p2], tooltips=[(\"France\", \"@{France}\"+ \"%\")],mode='vline'))\n",
                "p3 = p.line(x='Year', y='Britain', line_width=2, color=\"#051e3e\", source=source, legend='Britain.')\n",
                "p3 = p.square('Year', 'Britain', legend=\"Britain.\", line_color=\"#051e3e\", fill_color=\"white\", size=8, source=source)\n",
                "p.add_tools(HoverTool(renderers=[p3], tooltips=[(\"Britain\", \"@{Britain}\"+ \"%\")],mode='vline'))\n",
                "\n",
                "p.background_fill_color = \"rgb(245,245,240)\"\n",
                "\n",
                "p.yaxis.axis_label = 'Capital-Income Ratio'\n",
                "p.xaxis.axis_label = 'Aggregate private wealth as a percentage of National Income'\n",
                "p.yaxis.formatter=NumeralTickFormatter(format=\"000\")\n",
                "\n",
                "p.legend.background_fill_color = \"rgb(245,245,240)\"\n",
                "p.legend.border_line_color = '#000000'\n",
                "\n",
                "\n",
                "show(p)"
            ]
        },
        {
            "cell_type": "markdown",
            "metadata": {},
            "source": [
                "***"
            ]
        },
        {
            "cell_type": "markdown",
            "metadata": {},
            "source": [
                "Stay tuned for the next piece on Pikkety's extroardinary work, in which he looks at capital and income, as well as how the global distribution of income and output has evolved."
            ]
        },
        {
            "cell_type": "markdown",
            "metadata": {},
            "source": [
                "__*Charts adapted from the originals in Thomas Piketty’s “Capital in the Twenty-first Century.\"*__\n",
                "\n",
                "__*For sources and series, see: [piketty.pse.ens.fr/capital21c](piketty.pse.ens.fr/capital21c)*__"
            ]
        }
    ],
    "metadata": {
        "kernelspec": {
            "display_name": "Python 3",
            "language": "python",
            "name": "python3"
        },
        "language_info": {
            "codemirror_mode": {
                "name": "ipython",
                "version": 3
            },
            "file_extension": ".py",
            "mimetype": "text/x-python",
            "name": "python",
            "nbconvert_exporter": "python",
            "pygments_lexer": "ipython3",
            "version": "3.6.4"
        }
    },
    "nbformat": 4,
    "nbformat_minor": 2
}