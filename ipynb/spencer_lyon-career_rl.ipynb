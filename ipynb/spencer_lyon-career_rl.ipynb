{
    "cells": [
        {
            "cell_type": "markdown",
            "id": "a32bb841",
            "metadata": {
                "slideshow": {
                    "slide_type": "slide"
                },
                "tags": []
            },
            "source": [
                "# Reinforcement Learning -- Economic Example\n",
                "\n",
                "**Prerequisites**\n",
                "\n",
                "- Dynamic Programming\n",
                "- Reinforcement Learning Introduction\n",
                "- Reinforcement Learning Sarsa algorithm\n",
                "- Reinforcement Learning Q-learning algorithm\n",
                "\n",
                "**Outcomes**\n",
                "\n",
                "- Understand the main points of the career choice model of Derek Neal\n",
                "- See how career choice model can be cast as a RL problem\n",
                "- Use Sarsa and QLearning to \"solve\" career choice model\n",
                "\n",
                "**References**\n",
                "\n",
                "- Barto & Sutton book (online by authors [here](http://incompleteideas.net/book/the-book.html)) chapters 4-6\n",
                "- [QuantEcon lecture](https://python.quantecon.org/career.html) on career choice model "
            ]
        },
        {
            "cell_type": "markdown",
            "id": "214b5dcf",
            "metadata": {
                "slideshow": {
                    "slide_type": "slide"
                },
                "tags": []
            },
            "source": [
                "## Disclaimer: Julia\n",
                "\n",
                "- The code for this notebook is written in the [Julia](https://julialang.org) programming language\n",
                "- Julia is a newer language created specificly for doing numerical computing\n",
                "- It is friendly like Python, but can run *much* faster\n",
                "- Most of the code for this example in in a file `neal.jl`, which we will not study directly\n",
                "- The examples that do appear in the notebook will be commented and should be similar enough to Python for us to follow\n",
                "- To learn more about Julia, we recommend the [QuantEcon Julia Lectures](https://julia.quantecon.org/)\n",
                "\n",
                "> Note: using Julia was necessary to have the code run quickly enough..."
            ]
        },
        {
            "cell_type": "markdown",
            "id": "d8779a61",
            "metadata": {
                "slideshow": {
                    "slide_type": "slide"
                },
                "tags": []
            },
            "source": [
                "## Career Model\n",
                "\n",
                "- We'll summarize the model here\n",
                "- See the [QuantEcon lecture](https://python.quantecon.org/career.html) for more details\n",
                "- Workers have a career and a job\n",
                "    - Career is general field\n",
                "    - Job is position within a firm -- many jobs per career\n",
                "- Wage has career and job component: $$w_t = \\underbrace{\\theta_t}_{\\text{career part}} + \\underbrace{\\epsilon_t}_{\\text{job part}}$$\n",
                "- Each period, worker has three mutually exclusive choices\n",
                "    1. Stay at job -- \"stay put\"\n",
                "    2. Switch jobs in same career -- \"new job\"\n",
                "    3. Swich careers (requires new job) -- \"new life\"\n",
                "- Draws of $\\theta$ and $\\epsilon$ are time-invariant:$$\\theta_t \\sim F, \\epsilon_t \\sim G \\quad \\forall t$$\n",
                "- New $\\epsilon$ and $\\theta$ are only drawn when a worker switches jobs or careers"
            ]
        },
        {
            "cell_type": "markdown",
            "id": "4b4369ea",
            "metadata": {
                "slideshow": {
                    "slide_type": "subslide"
                },
                "tags": []
            },
            "source": [
                "### State Value Function\n",
                "\n",
                "- State of model is $s = (\\theta, \\epsilon)$\n",
                "- The state value function obeys\n",
                "$$\n",
                "\\begin{aligned}\n",
                "v(\\theta, \\epsilon) &= \\max\\{I, II, III\\}, \\text{ where} \\\\\n",
                "& I = \\theta + \\epsilon + \\beta v(\\theta, \\epsilon) \\\\\n",
                "& II = \\theta + E[ \\epsilon' + \\beta  v(\\theta, \\epsilon')  | \\epsilon' \\sim G] \\\\\n",
                "& III = E[\\theta' + \\epsilon' + \\beta v(\\theta', \\epsilon') |  \\epsilon' \\sim G, \\theta' \\sim F]\n",
                "\\end{aligned}\n",
                "$$\n",
                "- $I$, $II$, and $III$ correspond to value of \"stay put\", \"new job\", \"new life\"; respectively"
            ]
        },
        {
            "cell_type": "markdown",
            "id": "4762eb8f",
            "metadata": {
                "slideshow": {
                    "slide_type": "subslide"
                },
                "tags": []
            },
            "source": [
                "### Action Value Function\n",
                "\n",
                "\n",
                "- The action space is $\\mathcal{A} = \\{\\text{stay put}, \\text{ new job}, \\text{ new life} \\}$ for all states\n",
                "- The action value function $Q(s, a)$ is:\n",
                "$$\n",
                "\\begin{aligned}\n",
                "Q(\\theta, \\epsilon, \\text{ stay put}) &= \\theta + \\epsilon + \\beta \\max_{a'} Q(\\theta, \\epsilon, a') \\\\\n",
                "Q(\\theta, \\epsilon, \\text{ new job}) &= \\theta + E[ \\epsilon' + \\beta  \\max_{a'} Q(\\theta, \\epsilon', a')  | \\epsilon' \\sim G] \\\\\n",
                "Q(\\theta, \\epsilon, \\text{ new life}) &= E[\\theta' + \\epsilon' + \\beta  \\max_{a'} Q(\\theta', \\epsilon', a')  | \\epsilon' \\sim G, \\theta' \\sim F] \\\\\n",
                "\\end{aligned}\n",
                "$$"
            ]
        },
        {
            "cell_type": "markdown",
            "id": "ef7be19e",
            "metadata": {
                "slideshow": {
                    "slide_type": "subslide"
                },
                "tags": []
            },
            "source": [
                "### Discrete Distributions\n",
                "\n",
                "- In our examples today, we will use discrete distributions for $F$ and $G$\n",
                "- There will be a finite number of possible $\\epsilon$ and $\\theta$ -- each with a fixed probability of being drawn from their repsective distributions"
            ]
        },
        {
            "cell_type": "code",
            "execution_count": 1,
            "id": "8105edd0",
            "metadata": {},
            "outputs": [],
            "source": [
                "# set up all dependencies for this code\n",
                "using Pkg\n",
                "Pkg.activate(\".\")\n",
                "Pkg.resolve()\n",
                "\n",
                "# load up example code\n",
                "include(\"src/Career.jl\")\n",
                "using .Career"
            ]
        },
        {
            "cell_type": "code",
            "execution_count": 7,
            "id": "8134e6e4",
            "metadata": {},
            "outputs": [
                {
                    "data": {
                        "application/vnd.plotly.v1+json": {
                            "config": {
                                "editable": false,
                                "responsive": true,
                                "scrollZoom": true,
                                "showLink": false,
                                "staticPlot": false
                            },
                            "data": [
                                {
                                    "name": "ϵ ~ G",
                                    "type": "bar",
                                    "x": [
                                        0,
                                        0.35714285714285715,
                                        0.7142857142857143,
                                        1.0714285714285714,
                                        1.4285714285714286,
                                        1.7857142857142858,
                                        2.142857142857143,
                                        2.5,
                                        2.857142857142857,
                                        3.2142857142857144,
                                        3.5714285714285716,
                                        3.9285714285714284,
                                        4.285714285714286,
                                        4.642857142857143,
                                        5
                                    ],
                                    "y": [
                                        0.000998022494129263,
                                        0.006074919529482544,
                                        0.019743488470818183,
                                        0.045127973647584196,
                                        0.08066625289505662,
                                        0.11887658321376725,
                                        0.14859572901720947,
                                        0.15983406146389054,
                                        0.14859572901720947,
                                        0.11887658321376725,
                                        0.08066625289505662,
                                        0.045127973647584196,
                                        0.019743488470818183,
                                        0.006074919529482544,
                                        0.000998022494129263
                                    ]
                                },
                                {
                                    "name": "θ ~ F",
                                    "type": "bar",
                                    "x": [
                                        0,
                                        0.35714285714285715,
                                        0.7142857142857143,
                                        1.0714285714285714,
                                        1.4285714285714286,
                                        1.7857142857142858,
                                        2.142857142857143,
                                        2.5,
                                        2.857142857142857,
                                        3.2142857142857144,
                                        3.5714285714285716,
                                        3.9285714285714284,
                                        4.285714285714286,
                                        4.642857142857143,
                                        5
                                    ],
                                    "y": [
                                        0.06666666666666667,
                                        0.06666666666666667,
                                        0.06666666666666667,
                                        0.06666666666666667,
                                        0.06666666666666667,
                                        0.06666666666666667,
                                        0.06666666666666667,
                                        0.06666666666666667,
                                        0.06666666666666667,
                                        0.06666666666666667,
                                        0.06666666666666667,
                                        0.06666666666666667,
                                        0.06666666666666667,
                                        0.06666666666666667,
                                        0.06666666666666667
                                    ]
                                }
                            ],
                            "frames": [],
                            "layout": {
                                "autosize": true,
                                "margin": {
                                    "b": 50,
                                    "l": 50,
                                    "r": 50,
                                    "t": 60
                                },
                                "xaxis": {
                                    "autorange": false,
                                    "range": [
                                        -3.077144097086631,
                                        8.845396591265882
                                    ],
                                    "type": "linear"
                                },
                                "yaxis": {
                                    "autorange": false,
                                    "range": [
                                        -0.0908057055571823,
                                        0.283633500290259
                                    ],
                                    "type": "linear"
                                }
                            }
                        },
                        "image/png": "[encoded data removed]",
                        "text/html": [
                            "<html>\n",
                            "<head><meta chartset=\"utf-8\" /></head>\n",
                            "<body>\n",
                            "<div>\n",
                            "    <script src=\"https://cdnjs.cloudflare.com/ajax/libs/mathjax/2.7.5/MathJax.js?config=TeX-AMS-MML_SVG\"></script>\n",
                            "    <script type=\"text/javascript\">\n",
                            "window.PlotlyConfig = {MathJaxConfig: 'local'};\n",
                            "</script>\n",
                            "<script type=\"text/javascript\">\n",
                            "if (window.MathJax) {MathJax.Hub.Config({SVG: {font: \"STIX-Web\"}});}\n",
                            "</script>\n",
                            "<script type=\"text/javascript\">\n",
                            "    if (typeof require !== 'undefined') {\n",
                            "        require.undef(\"plotly\");\n",
                            "        requirejs.config({\n",
                            "            paths: {\n",
                            "                'plotly': ['https://cdn.plot.ly/plotly-1.58.4.min']\n",
                            "            }\n",
                            "        });\n",
                            "        require(['plotly'], function(Plotly) {\n",
                            "            window._Plotly = Plotly;\n",
                            "        });\n",
                            "    }\n",
                            "</script>\n",
                            "\n",
                            "    <div\n",
                            "        id=8410fd83-5f64-4909-aa50-35d3bef20b65\n",
                            "        class=\"plotly-graph-div\"\n",
                            "        style=\"height:100%; width:100%;\">\n",
                            "    </div>\n",
                            "    <script type=\"text/javascript\">\n",
                            "        require([\"plotly\"], function(Plotly) {\n",
                            "        window.PLOTLYENV = window.PLOTLYENV || {}\n",
                            "        \n",
                            "        if (document.getElementById('8410fd83-5f64-4909-aa50-35d3bef20b65')) {\n",
                            "    Plotly.newPlot(\n",
                            "        '8410fd83-5f64-4909-aa50-35d3bef20b65',\n",
                            "        [{\"y\":[0.000998022494129263,0.006074919529482544,0.019743488470818183,0.045127973647584196,0.08066625289505662,0.11887658321376725,0.14859572901720947,0.15983406146389054,0.14859572901720947,0.11887658321376725,0.08066625289505662,0.045127973647584196,0.019743488470818183,0.006074919529482544,0.000998022494129263],\"type\":\"bar\",\"name\":\"ϵ ~ G\",\"x\":[0.0,0.35714285714285715,0.7142857142857143,1.0714285714285714,1.4285714285714286,1.7857142857142858,2.142857142857143,2.5,2.857142857142857,3.2142857142857144,3.5714285714285716,3.9285714285714284,4.285714285714286,4.642857142857143,5.0]},{\"y\":[0.06666666666666667,0.06666666666666667,0.06666666666666667,0.06666666666666667,0.06666666666666667,0.06666666666666667,0.06666666666666667,0.06666666666666667,0.06666666666666667,0.06666666666666667,0.06666666666666667,0.06666666666666667,0.06666666666666667,0.06666666666666667,0.06666666666666667],\"type\":\"bar\",\"name\":\"θ ~ F\",\"x\":[0.0,0.35714285714285715,0.7142857142857143,1.0714285714285714,1.4285714285714286,1.7857142857142858,2.142857142857143,2.5,2.857142857142857,3.2142857142857144,3.5714285714285716,3.9285714285714284,4.285714285714286,4.642857142857143,5.0]}],\n",
                            "        {\"margin\":{\"l\":50,\"b\":50,\"r\":50,\"t\":60}},\n",
                            "        {\"editable\":false,\"responsive\":true,\"staticPlot\":false,\"scrollZoom\":true},\n",
                            "    )\n",
                            "}\n",
                            "\n",
                            "        });\n",
                            "    </script>\n",
                            "</div>\n",
                            "\n",
                            "</body>\n",
                            "</html>"
                        ],
                        "text/plain": [
                            "data: [\n",
                            "  \"bar with fields name, type, x, and y\",\n",
                            "  \"bar with fields name, type, x, and y\"\n",
                            "]\n",
                            "\n",
                            "layout: \"layout with field margin\"\n",
                            "\n"
                        ]
                    },
                    "execution_count": 7,
                    "metadata": {},
                    "output_type": "execute_result"
                }
            ],
            "source": [
                "m = NealDSDC(N=15);\n",
                "plot_distributions(m)"
            ]
        },
        {
            "cell_type": "markdown",
            "id": "099c5b9c",
            "metadata": {},
            "source": [
                "Notes: \n",
                "\n",
                "- Both $\\theta$ and $\\epsilon$ live in [0, 5]\n",
                "- $\\theta$ is uniformly distributed\n",
                "- $\\epsilon$ looks to be nearly Gaussian on that range"
            ]
        },
        {
            "cell_type": "markdown",
            "id": "426e5e2b",
            "metadata": {
                "slideshow": {
                    "slide_type": "subslide"
                },
                "tags": []
            },
            "source": [
                "### Optimal solution via Dynamic Programming\n",
                "\n",
                "- We can apply dynamic programming methods to solve this model numerically\n",
                "- We have code that can solve model this via value function iteration\n",
                "- Here's the state value function $v^*$ for this model:"
            ]
        },
        {
            "cell_type": "code",
            "execution_count": 8,
            "id": "fdd5ce65",
            "metadata": {},
            "outputs": [
                {
                    "data": {
                        "application/vnd.plotly.v1+json": {
                            "config": {
                                "editable": false,
                                "responsive": true,
                                "scrollZoom": true,
                                "showLink": false,
                                "staticPlot": false
                            },
                            "data": [
                                {
                                    "colorscale": "Viridis",
                                    "type": "surface",
                                    "x": [
                                        [
                                            0,
                                            0,
                                            0,
                                            0,
                                            0,
                                            0,
                                            0,
                                            0,
                                            0,
                                            0,
                                            0,
                                            0,
                                            0,
                                            0,
                                            0
                                        ],
                                        [
                                            0.35714285714285715,
                                            0.35714285714285715,
                                            0.35714285714285715,
                                            0.35714285714285715,
                                            0.35714285714285715,
                                            0.35714285714285715,
                                            0.35714285714285715,
                                            0.35714285714285715,
                                            0.35714285714285715,
                                            0.35714285714285715,
                                            0.35714285714285715,
                                            0.35714285714285715,
                                            0.35714285714285715,
                                            0.35714285714285715,
                                            0.35714285714285715
                                        ],
                                        [
                                            0.7142857142857143,
                                            0.7142857142857143,
                                            0.7142857142857143,
                                            0.7142857142857143,
                                            0.7142857142857143,
                                            0.7142857142857143,
                                            0.7142857142857143,
                                            0.7142857142857143,
                                            0.7142857142857143,
                                            0.7142857142857143,
                                            0.7142857142857143,
                                            0.7142857142857143,
                                            0.7142857142857143,
                                            0.7142857142857143,
                                            0.7142857142857143
                                        ],
                                        [
                                            1.0714285714285714,
                                            1.0714285714285714,
                                            1.0714285714285714,
                                            1.0714285714285714,
                                            1.0714285714285714,
                                            1.0714285714285714,
                                            1.0714285714285714,
                                            1.0714285714285714,
                                            1.0714285714285714,
                                            1.0714285714285714,
                                            1.0714285714285714,
                                            1.0714285714285714,
                                            1.0714285714285714,
                                            1.0714285714285714,
                                            1.0714285714285714
                                        ],
                                        [
                                            1.4285714285714286,
                                            1.4285714285714286,
                                            1.4285714285714286,
                                            1.4285714285714286,
                                            1.4285714285714286,
                                            1.4285714285714286,
                                            1.4285714285714286,
                                            1.4285714285714286,
                                            1.4285714285714286,
                                            1.4285714285714286,
                                            1.4285714285714286,
                                            1.4285714285714286,
                                            1.4285714285714286,
                                            1.4285714285714286,
                                            1.4285714285714286
                                        ],
                                        [
                                            1.7857142857142858,
                                            1.7857142857142858,
                                            1.7857142857142858,
                                            1.7857142857142858,
                                            1.7857142857142858,
                                            1.7857142857142858,
                                            1.7857142857142858,
                                            1.7857142857142858,
                                            1.7857142857142858,
                                            1.7857142857142858,
                                            1.7857142857142858,
                                            1.7857142857142858,
                                            1.7857142857142858,
                                            1.7857142857142858,
                                            1.7857142857142858
                                        ],
                                        [
                                            2.142857142857143,
                                            2.142857142857143,
                                            2.142857142857143,
                                            2.142857142857143,
                                            2.142857142857143,
                                            2.142857142857143,
                                            2.142857142857143,
                                            2.142857142857143,
                                            2.142857142857143,
                                            2.142857142857143,
                                            2.142857142857143,
                                            2.142857142857143,
                                            2.142857142857143,
                                            2.142857142857143,
                                            2.142857142857143
                                        ],
                                        [
                                            2.5,
                                            2.5,
                                            2.5,
                                            2.5,
                                            2.5,
                                            2.5,
                                            2.5,
                                            2.5,
                                            2.5,
                                            2.5,
                                            2.5,
                                            2.5,
                                            2.5,
                                            2.5,
                                            2.5
                                        ],
                                        [
                                            2.857142857142857,
                                            2.857142857142857,
                                            2.857142857142857,
                                            2.857142857142857,
                                            2.857142857142857,
                                            2.857142857142857,
                                            2.857142857142857,
                                            2.857142857142857,
                                            2.857142857142857,
                                            2.857142857142857,
                                            2.857142857142857,
                                            2.857142857142857,
                                            2.857142857142857,
                                            2.857142857142857,
                                            2.857142857142857
                                        ],
                                        [
                                            3.2142857142857144,
                                            3.2142857142857144,
                                            3.2142857142857144,
                                            3.2142857142857144,
                                            3.2142857142857144,
                                            3.2142857142857144,
                                            3.2142857142857144,
                                            3.2142857142857144,
                                            3.2142857142857144,
                                            3.2142857142857144,
                                            3.2142857142857144,
                                            3.2142857142857144,
                                            3.2142857142857144,
                                            3.2142857142857144,
                                            3.2142857142857144
                                        ],
                                        [
                                            3.5714285714285716,
                                            3.5714285714285716,
                                            3.5714285714285716,
                                            3.5714285714285716,
                                            3.5714285714285716,
                                            3.5714285714285716,
                                            3.5714285714285716,
                                            3.5714285714285716,
                                            3.5714285714285716,
                                            3.5714285714285716,
                                            3.5714285714285716,
                                            3.5714285714285716,
                                            3.5714285714285716,
                                            3.5714285714285716,
                                            3.5714285714285716
                                        ],
                                        [
                                            3.9285714285714284,
                                            3.9285714285714284,
                                            3.9285714285714284,
                                            3.9285714285714284,
                                            3.9285714285714284,
                                            3.9285714285714284,
                                            3.9285714285714284,
                                            3.9285714285714284,
                                            3.9285714285714284,
                                            3.9285714285714284,
                                            3.9285714285714284,
                                            3.9285714285714284,
                                            3.9285714285714284,
                                            3.9285714285714284,
                                            3.9285714285714284
                                        ],
                                        [
                                            4.285714285714286,
                                            4.285714285714286,
                                            4.285714285714286,
                                            4.285714285714286,
                                            4.285714285714286,
                                            4.285714285714286,
                                            4.285714285714286,
                                            4.285714285714286,
                                            4.285714285714286,
                                            4.285714285714286,
                                            4.285714285714286,
                                            4.285714285714286,
                                            4.285714285714286,
                                            4.285714285714286,
                                            4.285714285714286
                                        ],
                                        [
                                            4.642857142857143,
                                            4.642857142857143,
                                            4.642857142857143,
                                            4.642857142857143,
                                            4.642857142857143,
                                            4.642857142857143,
                                            4.642857142857143,
                                            4.642857142857143,
                                            4.642857142857143,
                                            4.642857142857143,
                                            4.642857142857143,
                                            4.642857142857143,
                                            4.642857142857143,
                                            4.642857142857143,
                                            4.642857142857143
                                        ],
                                        [
                                            5,
                                            5,
                                            5,
                                            5,
                                            5,
                                            5,
                                            5,
                                            5,
                                            5,
                                            5,
                                            5,
                                            5,
                                            5,
                                            5,
                                            5
                                        ]
                                    ],
                                    "y": [
                                        [
                                            0,
                                            0.35714285714285715,
                                            0.7142857142857143,
                                            1.0714285714285714,
                                            1.4285714285714286,
                                            1.7857142857142858,
                                            2.142857142857143,
                                            2.5,
                                            2.857142857142857,
                                            3.2142857142857144,
                                            3.5714285714285716,
                                            3.9285714285714284,
                                            4.285714285714286,
                                            4.642857142857143,
                                            5
                                        ],
                                        [
                                            0,
                                            0.35714285714285715,
                                            0.7142857142857143,
                                            1.0714285714285714,
                                            1.4285714285714286,
                                            1.7857142857142858,
                                            2.142857142857143,
                                            2.5,
                                            2.857142857142857,
                                            3.2142857142857144,
                                            3.5714285714285716,
                                            3.9285714285714284,
                                            4.285714285714286,
                                            4.642857142857143,
                                            5
                                        ],
                                        [
                                            0,
                                            0.35714285714285715,
                                            0.7142857142857143,
                                            1.0714285714285714,
                                            1.4285714285714286,
                                            1.7857142857142858,
                                            2.142857142857143,
                                            2.5,
                                            2.857142857142857,
                                            3.2142857142857144,
                                            3.5714285714285716,
                                            3.9285714285714284,
                                            4.285714285714286,
                                            4.642857142857143,
                                            5
                                        ],
                                        [
                                            0,
                                            0.35714285714285715,
                                            0.7142857142857143,
                                            1.0714285714285714,
                                            1.4285714285714286,
                                            1.7857142857142858,
                                            2.142857142857143,
                                            2.5,
                                            2.857142857142857,
                                            3.2142857142857144,
                                            3.5714285714285716,
                                            3.9285714285714284,
                                            4.285714285714286,
                                            4.642857142857143,
                                            5
                                        ],
                                        [
                                            0,
                                            0.35714285714285715,
                                            0.7142857142857143,
                                            1.0714285714285714,
                                            1.4285714285714286,
                                            1.7857142857142858,
                                            2.142857142857143,
                                            2.5,
                                            2.857142857142857,
                                            3.2142857142857144,
                                            3.5714285714285716,
                                            3.9285714285714284,
                                            4.285714285714286,
                                            4.642857142857143,
                                            5
                                        ],
                                        [
                                            0,
                                            0.35714285714285715,
                                            0.7142857142857143,
                                            1.0714285714285714,
                                            1.4285714285714286,
                                            1.7857142857142858,
                                            2.142857142857143,
                                            2.5,
                                            2.857142857142857,
                                            3.2142857142857144,
                                            3.5714285714285716,
                                            3.9285714285714284,
                                            4.285714285714286,
                                            4.642857142857143,
                                            5
                                        ],
                                        [
                                            0,
                                            0.35714285714285715,
                                            0.7142857142857143,
                                            1.0714285714285714,
                                            1.4285714285714286,
                                            1.7857142857142858,
                                            2.142857142857143,
                                            2.5,
                                            2.857142857142857,
                                            3.2142857142857144,
                                            3.5714285714285716,
                                            3.9285714285714284,
                                            4.285714285714286,
                                            4.642857142857143,
                                            5
                                        ],
                                        [
                                            0,
                                            0.35714285714285715,
                                            0.7142857142857143,
                                            1.0714285714285714,
                                            1.4285714285714286,
                                            1.7857142857142858,
                                            2.142857142857143,
                                            2.5,
                                            2.857142857142857,
                                            3.2142857142857144,
                                            3.5714285714285716,
                                            3.9285714285714284,
                                            4.285714285714286,
                                            4.642857142857143,
                                            5
                                        ],
                                        [
                                            0,
                                            0.35714285714285715,
                                            0.7142857142857143,
                                            1.0714285714285714,
                                            1.4285714285714286,
                                            1.7857142857142858,
                                            2.142857142857143,
                                            2.5,
                                            2.857142857142857,
                                            3.2142857142857144,
                                            3.5714285714285716,
                                            3.9285714285714284,
                                            4.285714285714286,
                                            4.642857142857143,
                                            5
                                        ],
                                        [
                                            0,
                                            0.35714285714285715,
                                            0.7142857142857143,
                                            1.0714285714285714,
                                            1.4285714285714286,
                                            1.7857142857142858,
                                            2.142857142857143,
                                            2.5,
                                            2.857142857142857,
                                            3.2142857142857144,
                                            3.5714285714285716,
                                            3.9285714285714284,
                                            4.285714285714286,
                                            4.642857142857143,
                                            5
                                        ],
                                        [
                                            0,
                                            0.35714285714285715,
                                            0.7142857142857143,
                                            1.0714285714285714,
                                            1.4285714285714286,
                                            1.7857142857142858,
                                            2.142857142857143,
                                            2.5,
                                            2.857142857142857,
                                            3.2142857142857144,
                                            3.5714285714285716,
                                            3.9285714285714284,
                                            4.285714285714286,
                                            4.642857142857143,
                                            5
                                        ],
                                        [
                                            0,
                                            0.35714285714285715,
                                            0.7142857142857143,
                                            1.0714285714285714,
                                            1.4285714285714286,
                                            1.7857142857142858,
                                            2.142857142857143,
                                            2.5,
                                            2.857142857142857,
                                            3.2142857142857144,
                                            3.5714285714285716,
                                            3.9285714285714284,
                                            4.285714285714286,
                                            4.642857142857143,
                                            5
                                        ],
                                        [
                                            0,
                                            0.35714285714285715,
                                            0.7142857142857143,
                                            1.0714285714285714,
                                            1.4285714285714286,
                                            1.7857142857142858,
                                            2.142857142857143,
                                            2.5,
                                            2.857142857142857,
                                            3.2142857142857144,
                                            3.5714285714285716,
                                            3.9285714285714284,
                                            4.285714285714286,
                                            4.642857142857143,
                                            5
                                        ],
                                        [
                                            0,
                                            0.35714285714285715,
                                            0.7142857142857143,
                                            1.0714285714285714,
                                            1.4285714285714286,
                                            1.7857142857142858,
                                            2.142857142857143,
                                            2.5,
                                            2.857142857142857,
                                            3.2142857142857144,
                                            3.5714285714285716,
                                            3.9285714285714284,
                                            4.285714285714286,
                                            4.642857142857143,
                                            5
                                        ],
                                        [
                                            0,
                                            0.35714285714285715,
                                            0.7142857142857143,
                                            1.0714285714285714,
                                            1.4285714285714286,
                                            1.7857142857142858,
                                            2.142857142857143,
                                            2.5,
                                            2.857142857142857,
                                            3.2142857142857144,
                                            3.5714285714285716,
                                            3.9285714285714284,
                                            4.285714285714286,
                                            4.642857142857143,
                                            5
                                        ]
                                    ],
                                    "z": [
                                        [
                                            150.57287381706553,
                                            150.57287381706553,
                                            150.57287381706553,
                                            150.57287381706553,
                                            150.57287381706553,
                                            150.57287381706553,
                                            150.57287381706553,
                                            150.57287381706553,
                                            150.57287381706553,
                                            150.57287381706553,
                                            150.57287381706553,
                                            150.57287381706553,
                                            150.57287381706553,
                                            150.57287381706553,
                                            150.57287381706553
                                        ],
                                        [
                                            150.57287381706553,
                                            150.57287381706553,
                                            150.57287381706553,
                                            150.57287381706553,
                                            150.57287381706553,
                                            150.57287381706553,
                                            150.57287381706553,
                                            150.57287381706553,
                                            150.57287381706553,
                                            150.57287381706553,
                                            150.57287381706553,
                                            150.57287381706553,
                                            150.57287381706553,
                                            150.57287381706553,
                                            150.57287381706553
                                        ],
                                        [
                                            150.57287381706553,
                                            150.57287381706553,
                                            150.57287381706553,
                                            150.57287381706553,
                                            150.57287381706553,
                                            150.57287381706553,
                                            150.57287381706553,
                                            150.57287381706553,
                                            150.57287381706553,
                                            150.57287381706553,
                                            150.57287381706553,
                                            150.57287381706553,
                                            150.57287381706553,
                                            150.57287381706553,
                                            150.57287381706553
                                        ],
                                        [
                                            150.57287381706553,
                                            150.57287381706553,
                                            150.57287381706553,
                                            150.57287381706553,
                                            150.57287381706553,
                                            150.57287381706553,
                                            150.57287381706553,
                                            150.57287381706553,
                                            150.57287381706553,
                                            150.57287381706553,
                                            150.57287381706553,
                                            150.57287381706553,
                                            150.57287381706553,
                                            150.57287381706553,
                                            150.57287381706553
                                        ],
                                        [
                                            150.57287381706553,
                                            150.57287381706553,
                                            150.57287381706553,
                                            150.57287381706553,
                                            150.57287381706553,
                                            150.57287381706553,
                                            150.57287381706553,
                                            150.57287381706553,
                                            150.57287381706553,
                                            150.57287381706553,
                                            150.57287381706553,
                                            150.57287381706553,
                                            150.57287381706553,
                                            150.57287381706553,
                                            150.57287381706553
                                        ],
                                        [
                                            150.57287381706553,
                                            150.57287381706553,
                                            150.57287381706553,
                                            150.57287381706553,
                                            150.57287381706553,
                                            150.57287381706553,
                                            150.57287381706553,
                                            150.57287381706553,
                                            150.57287381706553,
                                            150.57287381706553,
                                            150.57287381706553,
                                            150.57287381706553,
                                            150.57287381706553,
                                            150.57287381706553,
                                            150.57287381706553
                                        ],
                                        [
                                            150.57287381706553,
                                            150.57287381706553,
                                            150.57287381706553,
                                            150.57287381706553,
                                            150.57287381706553,
                                            150.57287381706553,
                                            150.57287381706553,
                                            150.57287381706553,
                                            150.57287381706553,
                                            150.57287381706553,
                                            150.57287381706553,
                                            150.57287381706553,
                                            150.57287381706553,
                                            150.57287381706553,
                                            150.57287381706553
                                        ],
                                        [
                                            150.57287381706553,
                                            150.57287381706553,
                                            150.57287381706553,
                                            150.57287381706553,
                                            150.57287381706553,
                                            150.57287381706553,
                                            150.57287381706553,
                                            150.57287381706553,
                                            150.57287381706553,
                                            150.57287381706553,
                                            150.57287381706553,
                                            150.57287381706553,
                                            150.57287381706553,
                                            150.57287381706553,
                                            150.57287381706553
                                        ],
                                        [
                                            150.57287381706553,
                                            150.57287381706553,
                                            150.57287381706553,
                                            150.57287381706553,
                                            150.57287381706553,
                                            150.57287381706553,
                                            150.57287381706553,
                                            150.57287381706553,
                                            150.57287381706553,
                                            150.57287381706553,
                                            150.57287381706553,
                                            150.57287381706553,
                                            150.57287381706553,
                                            150.57287381706553,
                                            157.14285703702558
                                        ],
                                        [
                                            150.57287381706553,
                                            150.57287381706553,
                                            150.57287381706553,
                                            150.57287381706553,
                                            150.57287381706553,
                                            150.57287381706553,
                                            150.57287381706553,
                                            150.57287381706553,
                                            150.57287381706553,
                                            150.57287381706553,
                                            150.57287381706553,
                                            150.57287381706553,
                                            150.57287381706553,
                                            157.14285703702558,
                                            164.28571416665378
                                        ],
                                        [
                                            150.57287381706553,
                                            150.57287381706553,
                                            150.57287381706553,
                                            150.57287381706553,
                                            150.57287381706553,
                                            150.57287381706553,
                                            150.57287381706553,
                                            150.57287381706553,
                                            150.57287381706553,
                                            150.57287381706553,
                                            150.57287381706553,
                                            150.57287381706553,
                                            157.14285703702558,
                                            164.28571416665378,
                                            171.4285712962821
                                        ],
                                        [
                                            150.57287381706553,
                                            150.57287381706553,
                                            150.57287381706553,
                                            150.57287381706553,
                                            150.57287381706553,
                                            150.57287381706553,
                                            150.57287381706553,
                                            150.57287381706553,
                                            150.57287381706553,
                                            150.57287381706553,
                                            150.57287381706553,
                                            157.14285703702558,
                                            164.28571416665378,
                                            171.4285712962821,
                                            178.57142842590974
                                        ],
                                        [
                                            155.3657604791318,
                                            155.3657604791318,
                                            155.3657604791318,
                                            155.3657604791318,
                                            155.3657604791318,
                                            155.3657604791318,
                                            155.3657604791318,
                                            155.3657604791318,
                                            155.3657604791318,
                                            155.3657604791318,
                                            157.14285703702558,
                                            164.28571416665378,
                                            171.4285712962821,
                                            178.57142842590974,
                                            185.71428555553808
                                        ],
                                        [
                                            162.5086176087594,
                                            162.5086176087594,
                                            162.5086176087594,
                                            162.5086176087594,
                                            162.5086176087594,
                                            162.5086176087594,
                                            162.5086176087594,
                                            162.5086176087594,
                                            162.5086176087594,
                                            162.5086176087594,
                                            164.28571416665378,
                                            171.4285712962821,
                                            178.57142842590974,
                                            185.71428555553808,
                                            192.8571426851663
                                        ],
                                        [
                                            169.6514747383871,
                                            169.6514747383871,
                                            169.6514747383871,
                                            169.6514747383871,
                                            169.6514747383871,
                                            169.6514747383871,
                                            169.6514747383871,
                                            169.6514747383871,
                                            169.6514747383871,
                                            169.6514747383871,
                                            171.4285712962821,
                                            178.57142842590974,
                                            185.71428555553808,
                                            192.8571426851663,
                                            199.9999998147946
                                        ]
                                    ]
                                }
                            ],
                            "frames": [],
                            "layout": {
                                "autosize": true,
                                "margin": {
                                    "b": 50,
                                    "l": 50,
                                    "r": 50,
                                    "t": 60
                                },
                                "scene": {
                                    "aspectmode": "auto",
                                    "aspectratio": {
                                        "x": 1,
                                        "y": 1,
                                        "z": 1
                                    },
                                    "camera": {
                                        "center": {
                                            "x": 0,
                                            "y": 0,
                                            "z": 0
                                        },
                                        "eye": {
                                            "x": -1.7386374504989655,
                                            "y": -1.6843050301708709,
                                            "z": 0.7171879483308229
                                        },
                                        "projection": {
                                            "type": "perspective"
                                        },
                                        "up": {
                                            "x": 0,
                                            "y": 0,
                                            "z": 1
                                        }
                                    }
                                },
                                "xaxis": {
                                    "title": {
                                        "text": "theta"
                                    }
                                },
                                "yaxis": {
                                    "title": {
                                        "text": "epsilon"
                                    }
                                }
                            }
                        },
                        "image/png": "[encoded data removed]",
                        "text/html": [
                            "<html>\n",
                            "<head><meta chartset=\"utf-8\" /></head>\n",
                            "<body>\n",
                            "<div>\n",
                            "    <script src=\"https://cdnjs.cloudflare.com/ajax/libs/mathjax/2.7.5/MathJax.js?config=TeX-AMS-MML_SVG\"></script>\n",
                            "    <script type=\"text/javascript\">\n",
                            "window.PlotlyConfig = {MathJaxConfig: 'local'};\n",
                            "</script>\n",
                            "<script type=\"text/javascript\">\n",
                            "if (window.MathJax) {MathJax.Hub.Config({SVG: {font: \"STIX-Web\"}});}\n",
                            "</script>\n",
                            "<script type=\"text/javascript\">\n",
                            "    if (typeof require !== 'undefined') {\n",
                            "        require.undef(\"plotly\");\n",
                            "        requirejs.config({\n",
                            "            paths: {\n",
                            "                'plotly': ['https://cdn.plot.ly/plotly-1.58.4.min']\n",
                            "            }\n",
                            "        });\n",
                            "        require(['plotly'], function(Plotly) {\n",
                            "            window._Plotly = Plotly;\n",
                            "        });\n",
                            "    }\n",
                            "</script>\n",
                            "\n",
                            "    <div\n",
                            "        id=8a51da75-8876-4100-8164-5b215c7ec954\n",
                            "        class=\"plotly-graph-div\"\n",
                            "        style=\"height:100%; width:100%;\">\n",
                            "    </div>\n",
                            "    <script type=\"text/javascript\">\n",
                            "        require([\"plotly\"], function(Plotly) {\n",
                            "        window.PLOTLYENV = window.PLOTLYENV || {}\n",
                            "        \n",
                            "        if (document.getElementById('8a51da75-8876-4100-8164-5b215c7ec954')) {\n",
                            "    Plotly.newPlot(\n",
                            "        '8a51da75-8876-4100-8164-5b215c7ec954',\n",
                            "        [{\"y\":[[0.0,0.35714285714285715,0.7142857142857143,1.0714285714285714,1.4285714285714286,1.7857142857142858,2.142857142857143,2.5,2.857142857142857,3.2142857142857144,3.5714285714285716,3.9285714285714284,4.285714285714286,4.642857142857143,5.0],[0.0,0.35714285714285715,0.7142857142857143,1.0714285714285714,1.4285714285714286,1.7857142857142858,2.142857142857143,2.5,2.857142857142857,3.2142857142857144,3.5714285714285716,3.9285714285714284,4.285714285714286,4.642857142857143,5.0],[0.0,0.35714285714285715,0.7142857142857143,1.0714285714285714,1.4285714285714286,1.7857142857142858,2.142857142857143,2.5,2.857142857142857,3.2142857142857144,3.5714285714285716,3.9285714285714284,4.285714285714286,4.642857142857143,5.0],[0.0,0.35714285714285715,0.7142857142857143,1.0714285714285714,1.4285714285714286,1.7857142857142858,2.142857142857143,2.5,2.857142857142857,3.2142857142857144,3.5714285714285716,3.9285714285714284,4.285714285714286,4.642857142857143,5.0],[0.0,0.35714285714285715,0.7142857142857143,1.0714285714285714,1.4285714285714286,1.7857142857142858,2.142857142857143,2.5,2.857142857142857,3.2142857142857144,3.5714285714285716,3.9285714285714284,4.285714285714286,4.642857142857143,5.0],[0.0,0.35714285714285715,0.7142857142857143,1.0714285714285714,1.4285714285714286,1.7857142857142858,2.142857142857143,2.5,2.857142857142857,3.2142857142857144,3.5714285714285716,3.9285714285714284,4.285714285714286,4.642857142857143,5.0],[0.0,0.35714285714285715,0.7142857142857143,1.0714285714285714,1.4285714285714286,1.7857142857142858,2.142857142857143,2.5,2.857142857142857,3.2142857142857144,3.5714285714285716,3.9285714285714284,4.285714285714286,4.642857142857143,5.0],[0.0,0.35714285714285715,0.7142857142857143,1.0714285714285714,1.4285714285714286,1.7857142857142858,2.142857142857143,2.5,2.857142857142857,3.2142857142857144,3.5714285714285716,3.9285714285714284,4.285714285714286,4.642857142857143,5.0],[0.0,0.35714285714285715,0.7142857142857143,1.0714285714285714,1.4285714285714286,1.7857142857142858,2.142857142857143,2.5,2.857142857142857,3.2142857142857144,3.5714285714285716,3.9285714285714284,4.285714285714286,4.642857142857143,5.0],[0.0,0.35714285714285715,0.7142857142857143,1.0714285714285714,1.4285714285714286,1.7857142857142858,2.142857142857143,2.5,2.857142857142857,3.2142857142857144,3.5714285714285716,3.9285714285714284,4.285714285714286,4.642857142857143,5.0],[0.0,0.35714285714285715,0.7142857142857143,1.0714285714285714,1.4285714285714286,1.7857142857142858,2.142857142857143,2.5,2.857142857142857,3.2142857142857144,3.5714285714285716,3.9285714285714284,4.285714285714286,4.642857142857143,5.0],[0.0,0.35714285714285715,0.7142857142857143,1.0714285714285714,1.4285714285714286,1.7857142857142858,2.142857142857143,2.5,2.857142857142857,3.2142857142857144,3.5714285714285716,3.9285714285714284,4.285714285714286,4.642857142857143,5.0],[0.0,0.35714285714285715,0.7142857142857143,1.0714285714285714,1.4285714285714286,1.7857142857142858,2.142857142857143,2.5,2.857142857142857,3.2142857142857144,3.5714285714285716,3.9285714285714284,4.285714285714286,4.642857142857143,5.0],[0.0,0.35714285714285715,0.7142857142857143,1.0714285714285714,1.4285714285714286,1.7857142857142858,2.142857142857143,2.5,2.857142857142857,3.2142857142857144,3.5714285714285716,3.9285714285714284,4.285714285714286,4.642857142857143,5.0],[0.0,0.35714285714285715,0.7142857142857143,1.0714285714285714,1.4285714285714286,1.7857142857142858,2.142857142857143,2.5,2.857142857142857,3.2142857142857144,3.5714285714285716,3.9285714285714284,4.285714285714286,4.642857142857143,5.0]],\"type\":\"surface\",\"colorscale\":\"Viridis\",\"z\":[[150.57287381706553,150.57287381706553,150.57287381706553,150.57287381706553,150.57287381706553,150.57287381706553,150.57287381706553,150.57287381706553,150.57287381706553,150.57287381706553,150.57287381706553,150.57287381706553,150.57287381706553,150.57287381706553,150.57287381706553],[150.57287381706553,150.57287381706553,150.57287381706553,150.57287381706553,150.57287381706553,150.57287381706553,150.57287381706553,150.57287381706553,150.57287381706553,150.57287381706553,150.57287381706553,150.57287381706553,150.57287381706553,150.57287381706553,150.57287381706553],[150.57287381706553,150.57287381706553,150.57287381706553,150.57287381706553,150.57287381706553,150.57287381706553,150.57287381706553,150.57287381706553,150.57287381706553,150.57287381706553,150.57287381706553,150.57287381706553,150.57287381706553,150.57287381706553,150.57287381706553],[150.57287381706553,150.57287381706553,150.57287381706553,150.57287381706553,150.57287381706553,150.57287381706553,150.57287381706553,150.57287381706553,150.57287381706553,150.57287381706553,150.57287381706553,150.57287381706553,150.57287381706553,150.57287381706553,150.57287381706553],[150.57287381706553,150.57287381706553,150.57287381706553,150.57287381706553,150.57287381706553,150.57287381706553,150.57287381706553,150.57287381706553,150.57287381706553,150.57287381706553,150.57287381706553,150.57287381706553,150.57287381706553,150.57287381706553,150.57287381706553],[150.57287381706553,150.57287381706553,150.57287381706553,150.57287381706553,150.57287381706553,150.57287381706553,150.57287381706553,150.57287381706553,150.57287381706553,150.57287381706553,150.57287381706553,150.57287381706553,150.57287381706553,150.57287381706553,150.57287381706553],[150.57287381706553,150.57287381706553,150.57287381706553,150.57287381706553,150.57287381706553,150.57287381706553,150.57287381706553,150.57287381706553,150.57287381706553,150.57287381706553,150.57287381706553,150.57287381706553,150.57287381706553,150.57287381706553,150.57287381706553],[150.57287381706553,150.57287381706553,150.57287381706553,150.57287381706553,150.57287381706553,150.57287381706553,150.57287381706553,150.57287381706553,150.57287381706553,150.57287381706553,150.57287381706553,150.57287381706553,150.57287381706553,150.57287381706553,150.57287381706553],[150.57287381706553,150.57287381706553,150.57287381706553,150.57287381706553,150.57287381706553,150.57287381706553,150.57287381706553,150.57287381706553,150.57287381706553,150.57287381706553,150.57287381706553,150.57287381706553,150.57287381706553,150.57287381706553,157.14285703702558],[150.57287381706553,150.57287381706553,150.57287381706553,150.57287381706553,150.57287381706553,150.57287381706553,150.57287381706553,150.57287381706553,150.57287381706553,150.57287381706553,150.57287381706553,150.57287381706553,150.57287381706553,157.14285703702558,164.28571416665378],[150.57287381706553,150.57287381706553,150.57287381706553,150.57287381706553,150.57287381706553,150.57287381706553,150.57287381706553,150.57287381706553,150.57287381706553,150.57287381706553,150.57287381706553,150.57287381706553,157.14285703702558,164.28571416665378,171.4285712962821],[150.57287381706553,150.57287381706553,150.57287381706553,150.57287381706553,150.57287381706553,150.57287381706553,150.57287381706553,150.57287381706553,150.57287381706553,150.57287381706553,150.57287381706553,157.14285703702558,164.28571416665378,171.4285712962821,178.57142842590974],[155.3657604791318,155.3657604791318,155.3657604791318,155.3657604791318,155.3657604791318,155.3657604791318,155.3657604791318,155.3657604791318,155.3657604791318,155.3657604791318,157.14285703702558,164.28571416665378,171.4285712962821,178.57142842590974,185.71428555553808],[162.5086176087594,162.5086176087594,162.5086176087594,162.5086176087594,162.5086176087594,162.5086176087594,162.5086176087594,162.5086176087594,162.5086176087594,162.5086176087594,164.28571416665378,171.4285712962821,178.57142842590974,185.71428555553808,192.8571426851663],[169.6514747383871,169.6514747383871,169.6514747383871,169.6514747383871,169.6514747383871,169.6514747383871,169.6514747383871,169.6514747383871,169.6514747383871,169.6514747383871,171.4285712962821,178.57142842590974,185.71428555553808,192.8571426851663,199.9999998147946]],\"x\":[[0.0,0.0,0.0,0.0,0.0,0.0,0.0,0.0,0.0,0.0,0.0,0.0,0.0,0.0,0.0],[0.35714285714285715,0.35714285714285715,0.35714285714285715,0.35714285714285715,0.35714285714285715,0.35714285714285715,0.35714285714285715,0.35714285714285715,0.35714285714285715,0.35714285714285715,0.35714285714285715,0.35714285714285715,0.35714285714285715,0.35714285714285715,0.35714285714285715],[0.7142857142857143,0.7142857142857143,0.7142857142857143,0.7142857142857143,0.7142857142857143,0.7142857142857143,0.7142857142857143,0.7142857142857143,0.7142857142857143,0.7142857142857143,0.7142857142857143,0.7142857142857143,0.7142857142857143,0.7142857142857143,0.7142857142857143],[1.0714285714285714,1.0714285714285714,1.0714285714285714,1.0714285714285714,1.0714285714285714,1.0714285714285714,1.0714285714285714,1.0714285714285714,1.0714285714285714,1.0714285714285714,1.0714285714285714,1.0714285714285714,1.0714285714285714,1.0714285714285714,1.0714285714285714],[1.4285714285714286,1.4285714285714286,1.4285714285714286,1.4285714285714286,1.4285714285714286,1.4285714285714286,1.4285714285714286,1.4285714285714286,1.4285714285714286,1.4285714285714286,1.4285714285714286,1.4285714285714286,1.4285714285714286,1.4285714285714286,1.4285714285714286],[1.7857142857142858,1.7857142857142858,1.7857142857142858,1.7857142857142858,1.7857142857142858,1.7857142857142858,1.7857142857142858,1.7857142857142858,1.7857142857142858,1.7857142857142858,1.7857142857142858,1.7857142857142858,1.7857142857142858,1.7857142857142858,1.7857142857142858],[2.142857142857143,2.142857142857143,2.142857142857143,2.142857142857143,2.142857142857143,2.142857142857143,2.142857142857143,2.142857142857143,2.142857142857143,2.142857142857143,2.142857142857143,2.142857142857143,2.142857142857143,2.142857142857143,2.142857142857143],[2.5,2.5,2.5,2.5,2.5,2.5,2.5,2.5,2.5,2.5,2.5,2.5,2.5,2.5,2.5],[2.857142857142857,2.857142857142857,2.857142857142857,2.857142857142857,2.857142857142857,2.857142857142857,2.857142857142857,2.857142857142857,2.857142857142857,2.857142857142857,2.857142857142857,2.857142857142857,2.857142857142857,2.857142857142857,2.857142857142857],[3.2142857142857144,3.2142857142857144,3.2142857142857144,3.2142857142857144,3.2142857142857144,3.2142857142857144,3.2142857142857144,3.2142857142857144,3.2142857142857144,3.2142857142857144,3.2142857142857144,3.2142857142857144,3.2142857142857144,3.2142857142857144,3.2142857142857144],[3.5714285714285716,3.5714285714285716,3.5714285714285716,3.5714285714285716,3.5714285714285716,3.5714285714285716,3.5714285714285716,3.5714285714285716,3.5714285714285716,3.5714285714285716,3.5714285714285716,3.5714285714285716,3.5714285714285716,3.5714285714285716,3.5714285714285716],[3.9285714285714284,3.9285714285714284,3.9285714285714284,3.9285714285714284,3.9285714285714284,3.9285714285714284,3.9285714285714284,3.9285714285714284,3.9285714285714284,3.9285714285714284,3.9285714285714284,3.9285714285714284,3.9285714285714284,3.9285714285714284,3.9285714285714284],[4.285714285714286,4.285714285714286,4.285714285714286,4.285714285714286,4.285714285714286,4.285714285714286,4.285714285714286,4.285714285714286,4.285714285714286,4.285714285714286,4.285714285714286,4.285714285714286,4.285714285714286,4.285714285714286,4.285714285714286],[4.642857142857143,4.642857142857143,4.642857142857143,4.642857142857143,4.642857142857143,4.642857142857143,4.642857142857143,4.642857142857143,4.642857142857143,4.642857142857143,4.642857142857143,4.642857142857143,4.642857142857143,4.642857142857143,4.642857142857143],[5.0,5.0,5.0,5.0,5.0,5.0,5.0,5.0,5.0,5.0,5.0,5.0,5.0,5.0,5.0]]}],\n",
                            "        {\"xaxis\":{\"title\":\"theta\"},\"scene\":{\"camera\":{\"eye\":{\"y\":-1.55,\"z\":0.66,\"x\":-1.6}}},\"margin\":{\"l\":50,\"b\":50,\"r\":50,\"t\":60},\"yaxis\":{\"title\":\"epsilon\"}},\n",
                            "        {\"editable\":false,\"responsive\":true,\"staticPlot\":false,\"scrollZoom\":true},\n",
                            "    )\n",
                            "}\n",
                            "\n",
                            "        });\n",
                            "    </script>\n",
                            "</div>\n",
                            "\n",
                            "</body>\n",
                            "</html>"
                        ],
                        "text/plain": [
                            "data: [\n",
                            "  \"surface with fields colorscale, type, x, y, and z\"\n",
                            "]\n",
                            "\n",
                            "layout: \"layout with fields margin, scene, xaxis, and yaxis\"\n",
                            "\n"
                        ]
                    },
                    "execution_count": 8,
                    "metadata": {},
                    "output_type": "execute_result"
                }
            ],
            "source": [
                "plot_vf(m)"
            ]
        },
        {
            "cell_type": "markdown",
            "id": "3cdbc0d1",
            "metadata": {
                "slideshow": {
                    "slide_type": "subslide"
                },
                "tags": []
            },
            "source": [
                "#### Policy function $a^*(s)$\n",
                "\n",
                "- Optimal policy function is easier to read/understand\n",
                "- We'll look more at it"
            ]
        },
        {
            "cell_type": "code",
            "execution_count": 9,
            "id": "addb0aa1",
            "metadata": {},
            "outputs": [
                {
                    "data": {
                        "application/vnd.plotly.v1+json": {
                            "config": {
                                "editable": false,
                                "responsive": true,
                                "scrollZoom": true,
                                "showLink": false,
                                "staticPlot": false
                            },
                            "data": [
                                {
                                    "colorbar": {
                                        "autotick": false,
                                        "dtick": 1,
                                        "tick0": 1
                                    },
                                    "colorscale": [
                                        [
                                            0,
                                            "#FFB4CE"
                                        ],
                                        [
                                            0.3333333333333333,
                                            "#FFB4CE"
                                        ],
                                        [
                                            0.3333333333333333,
                                            "#FFE5B4"
                                        ],
                                        [
                                            0.6666666666666666,
                                            "#FFE5B4"
                                        ],
                                        [
                                            0.6666666666666666,
                                            "#B4FFE5"
                                        ],
                                        [
                                            1,
                                            "#B4FFE5"
                                        ]
                                    ],
                                    "showscale": false,
                                    "type": "heatmap",
                                    "x": [
                                        0,
                                        0.35714285714285715,
                                        0.7142857142857143,
                                        1.0714285714285714,
                                        1.4285714285714286,
                                        1.7857142857142858,
                                        2.142857142857143,
                                        2.5,
                                        2.857142857142857,
                                        3.2142857142857144,
                                        3.5714285714285716,
                                        3.9285714285714284,
                                        4.285714285714286,
                                        4.642857142857143,
                                        5
                                    ],
                                    "y": [
                                        0,
                                        0.35714285714285715,
                                        0.7142857142857143,
                                        1.0714285714285714,
                                        1.4285714285714286,
                                        1.7857142857142858,
                                        2.142857142857143,
                                        2.5,
                                        2.857142857142857,
                                        3.2142857142857144,
                                        3.5714285714285716,
                                        3.9285714285714284,
                                        4.285714285714286,
                                        4.642857142857143,
                                        5
                                    ],
                                    "z": [
                                        [
                                            3,
                                            3,
                                            3,
                                            3,
                                            3,
                                            3,
                                            3,
                                            3,
                                            3,
                                            3,
                                            3,
                                            3,
                                            2,
                                            2,
                                            2
                                        ],
                                        [
                                            3,
                                            3,
                                            3,
                                            3,
                                            3,
                                            3,
                                            3,
                                            3,
                                            3,
                                            3,
                                            3,
                                            3,
                                            2,
                                            2,
                                            2
                                        ],
                                        [
                                            3,
                                            3,
                                            3,
                                            3,
                                            3,
                                            3,
                                            3,
                                            3,
                                            3,
                                            3,
                                            3,
                                            3,
                                            2,
                                            2,
                                            2
                                        ],
                                        [
                                            3,
                                            3,
                                            3,
                                            3,
                                            3,
                                            3,
                                            3,
                                            3,
                                            3,
                                            3,
                                            3,
                                            3,
                                            2,
                                            2,
                                            2
                                        ],
                                        [
                                            3,
                                            3,
                                            3,
                                            3,
                                            3,
                                            3,
                                            3,
                                            3,
                                            3,
                                            3,
                                            3,
                                            3,
                                            2,
                                            2,
                                            2
                                        ],
                                        [
                                            3,
                                            3,
                                            3,
                                            3,
                                            3,
                                            3,
                                            3,
                                            3,
                                            3,
                                            3,
                                            3,
                                            3,
                                            2,
                                            2,
                                            2
                                        ],
                                        [
                                            3,
                                            3,
                                            3,
                                            3,
                                            3,
                                            3,
                                            3,
                                            3,
                                            3,
                                            3,
                                            3,
                                            3,
                                            2,
                                            2,
                                            2
                                        ],
                                        [
                                            3,
                                            3,
                                            3,
                                            3,
                                            3,
                                            3,
                                            3,
                                            3,
                                            3,
                                            3,
                                            3,
                                            3,
                                            2,
                                            2,
                                            2
                                        ],
                                        [
                                            3,
                                            3,
                                            3,
                                            3,
                                            3,
                                            3,
                                            3,
                                            3,
                                            3,
                                            3,
                                            3,
                                            3,
                                            2,
                                            2,
                                            2
                                        ],
                                        [
                                            3,
                                            3,
                                            3,
                                            3,
                                            3,
                                            3,
                                            3,
                                            3,
                                            3,
                                            3,
                                            3,
                                            3,
                                            2,
                                            2,
                                            2
                                        ],
                                        [
                                            3,
                                            3,
                                            3,
                                            3,
                                            3,
                                            3,
                                            3,
                                            3,
                                            3,
                                            3,
                                            3,
                                            3,
                                            1,
                                            1,
                                            1
                                        ],
                                        [
                                            3,
                                            3,
                                            3,
                                            3,
                                            3,
                                            3,
                                            3,
                                            3,
                                            3,
                                            3,
                                            3,
                                            1,
                                            1,
                                            1,
                                            1
                                        ],
                                        [
                                            3,
                                            3,
                                            3,
                                            3,
                                            3,
                                            3,
                                            3,
                                            3,
                                            3,
                                            3,
                                            1,
                                            1,
                                            1,
                                            1,
                                            1
                                        ],
                                        [
                                            3,
                                            3,
                                            3,
                                            3,
                                            3,
                                            3,
                                            3,
                                            3,
                                            3,
                                            1,
                                            1,
                                            1,
                                            1,
                                            1,
                                            1
                                        ],
                                        [
                                            3,
                                            3,
                                            3,
                                            3,
                                            3,
                                            3,
                                            3,
                                            3,
                                            1,
                                            1,
                                            1,
                                            1,
                                            1,
                                            1,
                                            1
                                        ]
                                    ]
                                }
                            ],
                            "frames": [],
                            "layout": {
                                "annotations": [
                                    {
                                        "showarrow": false,
                                        "text": "new life",
                                        "x": 2.5,
                                        "y": 2.5
                                    },
                                    {
                                        "showarrow": false,
                                        "text": "new job",
                                        "textangle": 270,
                                        "x": 4.5,
                                        "y": 2.5
                                    },
                                    {
                                        "showarrow": false,
                                        "text": "stay put",
                                        "x": 4.5,
                                        "y": 4.5
                                    }
                                ],
                                "height": 500,
                                "margin": {
                                    "b": 50,
                                    "l": 50,
                                    "r": 50,
                                    "t": 60
                                },
                                "width": 500,
                                "xaxis": {
                                    "autorange": false,
                                    "range": [
                                        -3.397574367374381,
                                        25.92714380259281
                                    ],
                                    "title": {
                                        "text": "theta"
                                    },
                                    "type": "linear"
                                },
                                "yaxis": {
                                    "autorange": false,
                                    "range": [
                                        -5.1578151272276,
                                        24.16690304273959
                                    ],
                                    "title": {
                                        "text": "epsilon"
                                    },
                                    "type": "linear"
                                }
                            }
                        },
                        "image/png": "[encoded data removed]",
                        "text/html": [
                            "<html>\n",
                            "<head><meta chartset=\"utf-8\" /></head>\n",
                            "<body>\n",
                            "<div>\n",
                            "    <script src=\"https://cdnjs.cloudflare.com/ajax/libs/mathjax/2.7.5/MathJax.js?config=TeX-AMS-MML_SVG\"></script>\n",
                            "    <script type=\"text/javascript\">\n",
                            "window.PlotlyConfig = {MathJaxConfig: 'local'};\n",
                            "</script>\n",
                            "<script type=\"text/javascript\">\n",
                            "if (window.MathJax) {MathJax.Hub.Config({SVG: {font: \"STIX-Web\"}});}\n",
                            "</script>\n",
                            "<script type=\"text/javascript\">\n",
                            "    if (typeof require !== 'undefined') {\n",
                            "        require.undef(\"plotly\");\n",
                            "        requirejs.config({\n",
                            "            paths: {\n",
                            "                'plotly': ['https://cdn.plot.ly/plotly-1.58.4.min']\n",
                            "            }\n",
                            "        });\n",
                            "        require(['plotly'], function(Plotly) {\n",
                            "            window._Plotly = Plotly;\n",
                            "        });\n",
                            "    }\n",
                            "</script>\n",
                            "\n",
                            "    <div\n",
                            "        id=ed70edca-c310-4cd3-acd4-1368336891e7\n",
                            "        class=\"plotly-graph-div\"\n",
                            "        style=\"height:500; width:500;\">\n",
                            "    </div>\n",
                            "    <script type=\"text/javascript\">\n",
                            "        require([\"plotly\"], function(Plotly) {\n",
                            "        window.PLOTLYENV = window.PLOTLYENV || {}\n",
                            "        \n",
                            "        if (document.getElementById('ed70edca-c310-4cd3-acd4-1368336891e7')) {\n",
                            "    Plotly.newPlot(\n",
                            "        'ed70edca-c310-4cd3-acd4-1368336891e7',\n",
                            "        [{\"colorbar\":{\"dtick\":1,\"tick0\":1,\"autotick\":false},\"y\":[0.0,0.35714285714285715,0.7142857142857143,1.0714285714285714,1.4285714285714286,1.7857142857142858,2.142857142857143,2.5,2.857142857142857,3.2142857142857144,3.5714285714285716,3.9285714285714284,4.285714285714286,4.642857142857143,5.0],\"type\":\"heatmap\",\"colorscale\":[[0,\"#FFB4CE\"],[0.3333333333333333,\"#FFB4CE\"],[0.3333333333333333,\"#FFE5B4\"],[0.6666666666666666,\"#FFE5B4\"],[0.6666666666666666,\"#B4FFE5\"],[1,\"#B4FFE5\"]],\"z\":[[3.0,3.0,3.0,3.0,3.0,3.0,3.0,3.0,3.0,3.0,3.0,3.0,2.0,2.0,2.0],[3.0,3.0,3.0,3.0,3.0,3.0,3.0,3.0,3.0,3.0,3.0,3.0,2.0,2.0,2.0],[3.0,3.0,3.0,3.0,3.0,3.0,3.0,3.0,3.0,3.0,3.0,3.0,2.0,2.0,2.0],[3.0,3.0,3.0,3.0,3.0,3.0,3.0,3.0,3.0,3.0,3.0,3.0,2.0,2.0,2.0],[3.0,3.0,3.0,3.0,3.0,3.0,3.0,3.0,3.0,3.0,3.0,3.0,2.0,2.0,2.0],[3.0,3.0,3.0,3.0,3.0,3.0,3.0,3.0,3.0,3.0,3.0,3.0,2.0,2.0,2.0],[3.0,3.0,3.0,3.0,3.0,3.0,3.0,3.0,3.0,3.0,3.0,3.0,2.0,2.0,2.0],[3.0,3.0,3.0,3.0,3.0,3.0,3.0,3.0,3.0,3.0,3.0,3.0,2.0,2.0,2.0],[3.0,3.0,3.0,3.0,3.0,3.0,3.0,3.0,3.0,3.0,3.0,3.0,2.0,2.0,2.0],[3.0,3.0,3.0,3.0,3.0,3.0,3.0,3.0,3.0,3.0,3.0,3.0,2.0,2.0,2.0],[3.0,3.0,3.0,3.0,3.0,3.0,3.0,3.0,3.0,3.0,3.0,3.0,1.0,1.0,1.0],[3.0,3.0,3.0,3.0,3.0,3.0,3.0,3.0,3.0,3.0,3.0,1.0,1.0,1.0,1.0],[3.0,3.0,3.0,3.0,3.0,3.0,3.0,3.0,3.0,3.0,1.0,1.0,1.0,1.0,1.0],[3.0,3.0,3.0,3.0,3.0,3.0,3.0,3.0,3.0,1.0,1.0,1.0,1.0,1.0,1.0],[3.0,3.0,3.0,3.0,3.0,3.0,3.0,3.0,1.0,1.0,1.0,1.0,1.0,1.0,1.0]],\"showscale\":false,\"x\":[0.0,0.35714285714285715,0.7142857142857143,1.0714285714285714,1.4285714285714286,1.7857142857142858,2.142857142857143,2.5,2.857142857142857,3.2142857142857144,3.5714285714285716,3.9285714285714284,4.285714285714286,4.642857142857143,5.0]}],\n",
                            "        {\"xaxis\":{\"title\":\"theta\"},\"annotations\":[{\"y\":2.5,\"showarrow\":false,\"text\":\"new life\",\"x\":2.5},{\"y\":2.5,\"showarrow\":false,\"text\":\"new job\",\"textangle\":270,\"x\":4.5},{\"y\":4.5,\"showarrow\":false,\"text\":\"stay put\",\"x\":4.5}],\"height\":500,\"margin\":{\"l\":50,\"b\":50,\"r\":50,\"t\":60},\"yaxis\":{\"title\":\"epsilon\"},\"width\":500},\n",
                            "        {\"editable\":false,\"responsive\":true,\"staticPlot\":false,\"scrollZoom\":true},\n",
                            "    )\n",
                            "}\n",
                            "\n",
                            "        });\n",
                            "    </script>\n",
                            "</div>\n",
                            "\n",
                            "</body>\n",
                            "</html>"
                        ],
                        "text/plain": [
                            "data: [\n",
                            "  \"heatmap with fields colorbar, colorscale, showscale, type, x, y, and z\"\n",
                            "]\n",
                            "\n",
                            "layout: \"layout with fields annotations, height, margin, width, xaxis, and yaxis\"\n",
                            "\n"
                        ]
                    },
                    "execution_count": 9,
                    "metadata": {},
                    "output_type": "execute_result"
                }
            ],
            "source": [
                "plot_policy(m)"
            ]
        },
        {
            "cell_type": "markdown",
            "id": "27927809",
            "metadata": {},
            "source": [
                "Notes\n",
                "\n",
                "- If both job and career are good, worker stays put\n",
                "- If career is good, worker explores new jobs until $\\epsilon$ is sufficiently high\n",
                "- If neither is very good, worker re-draws both career and job"
            ]
        },
        {
            "cell_type": "markdown",
            "id": "808f857b",
            "metadata": {
                "slideshow": {
                    "slide_type": "subslide"
                },
                "tags": []
            },
            "source": [
                "#### Comment on model knowledge\n",
                "\n",
                "- See code for `bellman_operator!` repeated below\n",
                "- Note in doing VFI and leveraging this operator, we let algorithm (VFI) know the model for $\\theta$ and $\\epsilon$ (we use $F$ and $G$ to take expectations)\n",
                "\n",
                "```julia\n",
                "function bellman_operator!(m::NealDSDC, v::Array, out::Array;\n",
                "                           ret_policy=false)\n",
                "    # new life. This is a function of the distribution parameters and is\n",
                "    # always constant. No need to recompute it in the loop\n",
                "    v3 = (m.G_mean + m.F_mean + m.beta .* (m.F_probs' * v * m.G_probs))\n",
                "\n",
                "    for j=1:m.N\n",
                "        for i=1:m.N\n",
                "            # stay put\n",
                "            v1 = m.θ[i] + m.ϵ[j] + m.beta * v[i, j]\n",
                "\n",
                "            # new job\n",
                "            v2 = m.θ[i] + m.G_mean + m.beta * dot(v[i, :], m.G_probs)\n",
                "\n",
                "            if ret_policy\n",
                "                if v1 >= max(v2, v3)\n",
                "                    action = 1\n",
                "                elseif v2 >= max(v1, v3)\n",
                "                    action = 2\n",
                "                else\n",
                "                    action = 3\n",
                "                end\n",
                "                out[i, j] = action\n",
                "            else\n",
                "                out[i, j] = max(v1, v2, v3)\n",
                "            end\n",
                "        end\n",
                "    end\n",
                "end\n",
                "```"
            ]
        },
        {
            "cell_type": "markdown",
            "id": "44dcdba7",
            "metadata": {
                "slideshow": {
                    "slide_type": "slide"
                },
                "tags": []
            },
            "source": [
                "## Model-free learning\n",
                "\n",
                "- RL algorithms like Sarsa and Q-learning are model-free algorithms\n",
                "- They do not take into account any specialized structure about the environment\n",
                "- Sarsa and Q-learning learn entirely from trial and error\n",
                "- Benefits: can learn in situations where we don't know dynamics\n",
                "- Downfalls: don't leverage model structure to accelerate learning ==> takes longer!"
            ]
        },
        {
            "cell_type": "markdown",
            "id": "4b5a2b0b",
            "metadata": {
                "slideshow": {
                    "slide_type": "subslide"
                },
                "tags": []
            },
            "source": [
                "### Sarsa for career model\n",
                "\n",
                "- Inside the `src/neal.jl` file you see the following code for the Sarsa algorithm\n",
                "\n",
                "```julia\n",
                "# Barto & Sutton Algorithm in figure 6.5\n",
                "mutable struct Sarsa <: AbstractQAlgorithm\n",
                "    Q::QFunction  # wrapper around 3d array (a, θ, ϵ)\n",
                "    α::Float64\n",
                "    \n",
                "    # store (s, a) to use in updates\n",
                "    s::State\n",
                "    a::Action\n",
                "end\n",
                "\n",
                "function update!(wp::NealDSDC, actor::AbstractActor, algo::Sarsa)\n",
                "    # use current state and action to do transition\n",
                "    sp, r = step(wp, algo.s, algo.a)\n",
                "\n",
                "    # get next action using actor's strategy\n",
                "    ap = get_action(wp, algo, actor, sp)[1]\n",
                "\n",
                "    # Apply TD update\n",
                "    algo.Q[algo.s, algo.a] = (1-algo.α)*algo.Q[algo.s, algo.a] +\n",
                "                             algo.α*(r + wp.beta * algo.Q[sp, ap])\n",
                "\n",
                "    # step forward in time\n",
                "    algo.s = sp\n",
                "    algo.a = ap\n",
                "end\n",
                "```"
            ]
        },
        {
            "cell_type": "markdown",
            "id": "242ead07",
            "metadata": {
                "slideshow": {
                    "slide_type": "subslide"
                },
                "tags": []
            },
            "source": [
                "- Below we'll set up a Sarsa model and plot the initial policy function"
            ]
        },
        {
            "cell_type": "code",
            "execution_count": 10,
            "id": "ea992008",
            "metadata": {},
            "outputs": [
                {
                    "data": {
                        "application/vnd.plotly.v1+json": {
                            "config": {
                                "editable": false,
                                "responsive": true,
                                "scrollZoom": true,
                                "showLink": false,
                                "staticPlot": false
                            },
                            "data": [
                                {
                                    "colorbar": {
                                        "autotick": false,
                                        "dtick": 1,
                                        "tick0": 1
                                    },
                                    "colorscale": [
                                        [
                                            0,
                                            "#FFB4CE"
                                        ],
                                        [
                                            0.3333333333333333,
                                            "#FFB4CE"
                                        ],
                                        [
                                            0.3333333333333333,
                                            "#FFE5B4"
                                        ],
                                        [
                                            0.6666666666666666,
                                            "#FFE5B4"
                                        ],
                                        [
                                            0.6666666666666666,
                                            "#B4FFE5"
                                        ],
                                        [
                                            1,
                                            "#B4FFE5"
                                        ]
                                    ],
                                    "showscale": false,
                                    "type": "heatmap",
                                    "x": [
                                        0,
                                        0.35714285714285715,
                                        0.7142857142857143,
                                        1.0714285714285714,
                                        1.4285714285714286,
                                        1.7857142857142858,
                                        2.142857142857143,
                                        2.5,
                                        2.857142857142857,
                                        3.2142857142857144,
                                        3.5714285714285716,
                                        3.9285714285714284,
                                        4.285714285714286,
                                        4.642857142857143,
                                        5
                                    ],
                                    "y": [
                                        0,
                                        0.35714285714285715,
                                        0.7142857142857143,
                                        1.0714285714285714,
                                        1.4285714285714286,
                                        1.7857142857142858,
                                        2.142857142857143,
                                        2.5,
                                        2.857142857142857,
                                        3.2142857142857144,
                                        3.5714285714285716,
                                        3.9285714285714284,
                                        4.285714285714286,
                                        4.642857142857143,
                                        5
                                    ],
                                    "z": [
                                        [
                                            3,
                                            3,
                                            3,
                                            3,
                                            3,
                                            3,
                                            3,
                                            2,
                                            2,
                                            2,
                                            2,
                                            2,
                                            2,
                                            2,
                                            2
                                        ],
                                        [
                                            3,
                                            3,
                                            3,
                                            3,
                                            3,
                                            3,
                                            3,
                                            2,
                                            2,
                                            2,
                                            2,
                                            2,
                                            2,
                                            2,
                                            2
                                        ],
                                        [
                                            3,
                                            3,
                                            3,
                                            3,
                                            3,
                                            3,
                                            3,
                                            2,
                                            2,
                                            2,
                                            2,
                                            2,
                                            2,
                                            2,
                                            2
                                        ],
                                        [
                                            3,
                                            3,
                                            3,
                                            3,
                                            3,
                                            3,
                                            3,
                                            2,
                                            2,
                                            2,
                                            2,
                                            2,
                                            2,
                                            2,
                                            2
                                        ],
                                        [
                                            3,
                                            3,
                                            3,
                                            3,
                                            3,
                                            3,
                                            3,
                                            2,
                                            2,
                                            2,
                                            2,
                                            2,
                                            2,
                                            2,
                                            2
                                        ],
                                        [
                                            3,
                                            3,
                                            3,
                                            3,
                                            3,
                                            3,
                                            3,
                                            2,
                                            2,
                                            2,
                                            2,
                                            2,
                                            2,
                                            2,
                                            2
                                        ],
                                        [
                                            3,
                                            3,
                                            3,
                                            3,
                                            3,
                                            3,
                                            3,
                                            2,
                                            2,
                                            2,
                                            2,
                                            2,
                                            2,
                                            2,
                                            2
                                        ],
                                        [
                                            3,
                                            3,
                                            3,
                                            3,
                                            3,
                                            3,
                                            3,
                                            1,
                                            1,
                                            1,
                                            1,
                                            1,
                                            1,
                                            1,
                                            1
                                        ],
                                        [
                                            3,
                                            3,
                                            3,
                                            3,
                                            3,
                                            3,
                                            1,
                                            1,
                                            1,
                                            1,
                                            1,
                                            1,
                                            1,
                                            1,
                                            1
                                        ],
                                        [
                                            3,
                                            3,
                                            3,
                                            3,
                                            3,
                                            1,
                                            1,
                                            1,
                                            1,
                                            1,
                                            1,
                                            1,
                                            1,
                                            1,
                                            1
                                        ],
                                        [
                                            3,
                                            3,
                                            3,
                                            3,
                                            1,
                                            1,
                                            1,
                                            1,
                                            1,
                                            1,
                                            1,
                                            1,
                                            1,
                                            1,
                                            1
                                        ],
                                        [
                                            3,
                                            3,
                                            3,
                                            1,
                                            1,
                                            1,
                                            1,
                                            1,
                                            1,
                                            1,
                                            1,
                                            1,
                                            1,
                                            1,
                                            1
                                        ],
                                        [
                                            3,
                                            3,
                                            1,
                                            1,
                                            1,
                                            1,
                                            1,
                                            1,
                                            1,
                                            1,
                                            1,
                                            1,
                                            1,
                                            1,
                                            1
                                        ],
                                        [
                                            3,
                                            1,
                                            1,
                                            1,
                                            1,
                                            1,
                                            1,
                                            1,
                                            1,
                                            1,
                                            1,
                                            1,
                                            1,
                                            1,
                                            1
                                        ],
                                        [
                                            1,
                                            1,
                                            1,
                                            1,
                                            1,
                                            1,
                                            1,
                                            1,
                                            1,
                                            1,
                                            1,
                                            1,
                                            1,
                                            1,
                                            1
                                        ]
                                    ]
                                }
                            ],
                            "frames": [],
                            "layout": {
                                "annotations": [
                                    {
                                        "showarrow": false,
                                        "text": "new life",
                                        "x": 2.5,
                                        "y": 2.5
                                    },
                                    {
                                        "showarrow": false,
                                        "text": "new job",
                                        "textangle": 270,
                                        "x": 4.5,
                                        "y": 2.5
                                    },
                                    {
                                        "showarrow": false,
                                        "text": "stay put",
                                        "x": 4.5,
                                        "y": 4.5
                                    }
                                ],
                                "height": 500,
                                "margin": {
                                    "b": 50,
                                    "l": 50,
                                    "r": 50,
                                    "t": 60
                                },
                                "width": 500,
                                "xaxis": {
                                    "autorange": false,
                                    "range": [
                                        -0.20469981133676673,
                                        5.715858678354204
                                    ],
                                    "title": {
                                        "text": "theta"
                                    },
                                    "type": "linear"
                                },
                                "yaxis": {
                                    "autorange": false,
                                    "range": [
                                        -0.5054969433611864,
                                        5.415061546329783
                                    ],
                                    "title": {
                                        "text": "epsilon"
                                    },
                                    "type": "linear"
                                }
                            }
                        },
                        "image/png": "[encoded data removed]",
                        "text/html": [
                            "<html>\n",
                            "<head><meta chartset=\"utf-8\" /></head>\n",
                            "<body>\n",
                            "<div>\n",
                            "    <script src=\"https://cdnjs.cloudflare.com/ajax/libs/mathjax/2.7.5/MathJax.js?config=TeX-AMS-MML_SVG\"></script>\n",
                            "    <script type=\"text/javascript\">\n",
                            "window.PlotlyConfig = {MathJaxConfig: 'local'};\n",
                            "</script>\n",
                            "<script type=\"text/javascript\">\n",
                            "if (window.MathJax) {MathJax.Hub.Config({SVG: {font: \"STIX-Web\"}});}\n",
                            "</script>\n",
                            "<script type=\"text/javascript\">\n",
                            "    if (typeof require !== 'undefined') {\n",
                            "        require.undef(\"plotly\");\n",
                            "        requirejs.config({\n",
                            "            paths: {\n",
                            "                'plotly': ['https://cdn.plot.ly/plotly-1.58.4.min']\n",
                            "            }\n",
                            "        });\n",
                            "        require(['plotly'], function(Plotly) {\n",
                            "            window._Plotly = Plotly;\n",
                            "        });\n",
                            "    }\n",
                            "</script>\n",
                            "\n",
                            "    <div\n",
                            "        id=c3358ef7-1cc7-49c1-b38c-5c685d8688d5\n",
                            "        class=\"plotly-graph-div\"\n",
                            "        style=\"height:500; width:500;\">\n",
                            "    </div>\n",
                            "    <script type=\"text/javascript\">\n",
                            "        require([\"plotly\"], function(Plotly) {\n",
                            "        window.PLOTLYENV = window.PLOTLYENV || {}\n",
                            "        \n",
                            "        if (document.getElementById('c3358ef7-1cc7-49c1-b38c-5c685d8688d5')) {\n",
                            "    Plotly.newPlot(\n",
                            "        'c3358ef7-1cc7-49c1-b38c-5c685d8688d5',\n",
                            "        [{\"colorbar\":{\"dtick\":1,\"tick0\":1,\"autotick\":false},\"y\":[0.0,0.35714285714285715,0.7142857142857143,1.0714285714285714,1.4285714285714286,1.7857142857142858,2.142857142857143,2.5,2.857142857142857,3.2142857142857144,3.5714285714285716,3.9285714285714284,4.285714285714286,4.642857142857143,5.0],\"type\":\"heatmap\",\"colorscale\":[[0,\"#FFB4CE\"],[0.3333333333333333,\"#FFB4CE\"],[0.3333333333333333,\"#FFE5B4\"],[0.6666666666666666,\"#FFE5B4\"],[0.6666666666666666,\"#B4FFE5\"],[1,\"#B4FFE5\"]],\"z\":[[3.0,3.0,3.0,3.0,3.0,3.0,3.0,2.0,2.0,2.0,2.0,2.0,2.0,2.0,2.0],[3.0,3.0,3.0,3.0,3.0,3.0,3.0,2.0,2.0,2.0,2.0,2.0,2.0,2.0,2.0],[3.0,3.0,3.0,3.0,3.0,3.0,3.0,2.0,2.0,2.0,2.0,2.0,2.0,2.0,2.0],[3.0,3.0,3.0,3.0,3.0,3.0,3.0,2.0,2.0,2.0,2.0,2.0,2.0,2.0,2.0],[3.0,3.0,3.0,3.0,3.0,3.0,3.0,2.0,2.0,2.0,2.0,2.0,2.0,2.0,2.0],[3.0,3.0,3.0,3.0,3.0,3.0,3.0,2.0,2.0,2.0,2.0,2.0,2.0,2.0,2.0],[3.0,3.0,3.0,3.0,3.0,3.0,3.0,2.0,2.0,2.0,2.0,2.0,2.0,2.0,2.0],[3.0,3.0,3.0,3.0,3.0,3.0,3.0,1.0,1.0,1.0,1.0,1.0,1.0,1.0,1.0],[3.0,3.0,3.0,3.0,3.0,3.0,1.0,1.0,1.0,1.0,1.0,1.0,1.0,1.0,1.0],[3.0,3.0,3.0,3.0,3.0,1.0,1.0,1.0,1.0,1.0,1.0,1.0,1.0,1.0,1.0],[3.0,3.0,3.0,3.0,1.0,1.0,1.0,1.0,1.0,1.0,1.0,1.0,1.0,1.0,1.0],[3.0,3.0,3.0,1.0,1.0,1.0,1.0,1.0,1.0,1.0,1.0,1.0,1.0,1.0,1.0],[3.0,3.0,1.0,1.0,1.0,1.0,1.0,1.0,1.0,1.0,1.0,1.0,1.0,1.0,1.0],[3.0,1.0,1.0,1.0,1.0,1.0,1.0,1.0,1.0,1.0,1.0,1.0,1.0,1.0,1.0],[1.0,1.0,1.0,1.0,1.0,1.0,1.0,1.0,1.0,1.0,1.0,1.0,1.0,1.0,1.0]],\"showscale\":false,\"x\":[0.0,0.35714285714285715,0.7142857142857143,1.0714285714285714,1.4285714285714286,1.7857142857142858,2.142857142857143,2.5,2.857142857142857,3.2142857142857144,3.5714285714285716,3.9285714285714284,4.285714285714286,4.642857142857143,5.0]}],\n",
                            "        {\"xaxis\":{\"title\":\"theta\"},\"annotations\":[{\"y\":2.5,\"showarrow\":false,\"text\":\"new life\",\"x\":2.5},{\"y\":2.5,\"showarrow\":false,\"text\":\"new job\",\"textangle\":270,\"x\":4.5},{\"y\":4.5,\"showarrow\":false,\"text\":\"stay put\",\"x\":4.5}],\"height\":500,\"margin\":{\"l\":50,\"b\":50,\"r\":50,\"t\":60},\"yaxis\":{\"title\":\"epsilon\"},\"width\":500},\n",
                            "        {\"editable\":false,\"responsive\":true,\"staticPlot\":false,\"scrollZoom\":true},\n",
                            "    )\n",
                            "}\n",
                            "\n",
                            "        });\n",
                            "    </script>\n",
                            "</div>\n",
                            "\n",
                            "</body>\n",
                            "</html>"
                        ],
                        "text/plain": [
                            "data: [\n",
                            "  \"heatmap with fields colorbar, colorscale, showscale, type, x, y, and z\"\n",
                            "]\n",
                            "\n",
                            "layout: \"layout with fields annotations, height, margin, width, xaxis, and yaxis\"\n",
                            "\n"
                        ]
                    },
                    "execution_count": 10,
                    "metadata": {},
                    "output_type": "execute_result"
                }
            ],
            "source": [
                "# set random seed\n",
                "using Random  \n",
                "Random.seed!(56)\n",
                "sarsa = Sarsa(m, 0.01);\n",
                "\n",
                "# plot initial policy\n",
                "plot_policy(m, get_greedy(m, sarsa.Q))"
            ]
        },
        {
            "cell_type": "markdown",
            "id": "ebf22d4b",
            "metadata": {
                "slideshow": {
                    "slide_type": "subslide"
                },
                "tags": []
            },
            "source": [
                "- Now we will have Sarsa learn a policy by taking 150,000,000 steps"
            ]
        },
        {
            "cell_type": "code",
            "execution_count": 11,
            "id": "5c62b967",
            "metadata": {},
            "outputs": [
                {
                    "name": "stdout",
                    "output_type": "stream",
                    "text": [
                        "  6.712036 seconds (1.79 M allocations: 106.000 MiB, 0.31% gc time, 6.59% compilation time)\n"
                    ]
                },
                {
                    "data": {
                        "application/vnd.plotly.v1+json": {
                            "config": {
                                "editable": false,
                                "responsive": true,
                                "scrollZoom": true,
                                "showLink": false,
                                "staticPlot": false
                            },
                            "data": [
                                {
                                    "colorbar": {
                                        "autotick": false,
                                        "dtick": 1,
                                        "tick0": 1
                                    },
                                    "colorscale": [
                                        [
                                            0,
                                            "#FFB4CE"
                                        ],
                                        [
                                            0.3333333333333333,
                                            "#FFB4CE"
                                        ],
                                        [
                                            0.3333333333333333,
                                            "#FFE5B4"
                                        ],
                                        [
                                            0.6666666666666666,
                                            "#FFE5B4"
                                        ],
                                        [
                                            0.6666666666666666,
                                            "#B4FFE5"
                                        ],
                                        [
                                            1,
                                            "#B4FFE5"
                                        ]
                                    ],
                                    "showscale": false,
                                    "type": "heatmap",
                                    "x": [
                                        0,
                                        0.35714285714285715,
                                        0.7142857142857143,
                                        1.0714285714285714,
                                        1.4285714285714286,
                                        1.7857142857142858,
                                        2.142857142857143,
                                        2.5,
                                        2.857142857142857,
                                        3.2142857142857144,
                                        3.5714285714285716,
                                        3.9285714285714284,
                                        4.285714285714286,
                                        4.642857142857143,
                                        5
                                    ],
                                    "y": [
                                        0,
                                        0.35714285714285715,
                                        0.7142857142857143,
                                        1.0714285714285714,
                                        1.4285714285714286,
                                        1.7857142857142858,
                                        2.142857142857143,
                                        2.5,
                                        2.857142857142857,
                                        3.2142857142857144,
                                        3.5714285714285716,
                                        3.9285714285714284,
                                        4.285714285714286,
                                        4.642857142857143,
                                        5
                                    ],
                                    "z": [
                                        [
                                            3,
                                            3,
                                            3,
                                            3,
                                            3,
                                            3,
                                            3,
                                            3,
                                            3,
                                            3,
                                            3,
                                            2,
                                            2,
                                            2,
                                            2
                                        ],
                                        [
                                            3,
                                            3,
                                            3,
                                            3,
                                            3,
                                            3,
                                            3,
                                            3,
                                            3,
                                            3,
                                            3,
                                            2,
                                            2,
                                            2,
                                            2
                                        ],
                                        [
                                            3,
                                            3,
                                            3,
                                            3,
                                            3,
                                            3,
                                            3,
                                            3,
                                            3,
                                            3,
                                            3,
                                            2,
                                            2,
                                            2,
                                            2
                                        ],
                                        [
                                            3,
                                            3,
                                            3,
                                            3,
                                            3,
                                            3,
                                            3,
                                            3,
                                            3,
                                            3,
                                            3,
                                            2,
                                            2,
                                            2,
                                            2
                                        ],
                                        [
                                            3,
                                            3,
                                            3,
                                            3,
                                            3,
                                            3,
                                            3,
                                            3,
                                            3,
                                            3,
                                            3,
                                            2,
                                            2,
                                            2,
                                            2
                                        ],
                                        [
                                            3,
                                            3,
                                            3,
                                            3,
                                            3,
                                            3,
                                            3,
                                            3,
                                            3,
                                            3,
                                            3,
                                            2,
                                            2,
                                            2,
                                            2
                                        ],
                                        [
                                            3,
                                            3,
                                            3,
                                            3,
                                            3,
                                            3,
                                            3,
                                            3,
                                            3,
                                            3,
                                            3,
                                            2,
                                            2,
                                            2,
                                            2
                                        ],
                                        [
                                            3,
                                            3,
                                            3,
                                            3,
                                            3,
                                            3,
                                            3,
                                            3,
                                            3,
                                            3,
                                            3,
                                            2,
                                            2,
                                            2,
                                            2
                                        ],
                                        [
                                            3,
                                            3,
                                            3,
                                            3,
                                            3,
                                            3,
                                            3,
                                            3,
                                            3,
                                            3,
                                            3,
                                            2,
                                            2,
                                            2,
                                            2
                                        ],
                                        [
                                            3,
                                            3,
                                            3,
                                            3,
                                            3,
                                            3,
                                            3,
                                            3,
                                            3,
                                            3,
                                            3,
                                            1,
                                            1,
                                            2,
                                            2
                                        ],
                                        [
                                            3,
                                            3,
                                            3,
                                            3,
                                            3,
                                            3,
                                            3,
                                            3,
                                            3,
                                            3,
                                            1,
                                            1,
                                            1,
                                            1,
                                            1
                                        ],
                                        [
                                            3,
                                            3,
                                            3,
                                            3,
                                            3,
                                            3,
                                            3,
                                            3,
                                            3,
                                            1,
                                            1,
                                            1,
                                            1,
                                            1,
                                            1
                                        ],
                                        [
                                            3,
                                            3,
                                            3,
                                            3,
                                            3,
                                            3,
                                            1,
                                            1,
                                            1,
                                            1,
                                            1,
                                            1,
                                            1,
                                            1,
                                            1
                                        ],
                                        [
                                            3,
                                            3,
                                            3,
                                            3,
                                            3,
                                            3,
                                            3,
                                            3,
                                            3,
                                            3,
                                            1,
                                            1,
                                            1,
                                            1,
                                            1
                                        ],
                                        [
                                            3,
                                            3,
                                            3,
                                            3,
                                            3,
                                            3,
                                            1,
                                            1,
                                            1,
                                            3,
                                            1,
                                            1,
                                            1,
                                            1,
                                            1
                                        ]
                                    ]
                                }
                            ],
                            "frames": [],
                            "layout": {
                                "annotations": [
                                    {
                                        "showarrow": false,
                                        "text": "new life",
                                        "x": 2.5,
                                        "y": 2.5
                                    },
                                    {
                                        "showarrow": false,
                                        "text": "new job",
                                        "textangle": 270,
                                        "x": 4.5,
                                        "y": 2.5
                                    },
                                    {
                                        "showarrow": false,
                                        "text": "stay put",
                                        "x": 4.5,
                                        "y": 4.5
                                    }
                                ],
                                "height": 500,
                                "margin": {
                                    "b": 50,
                                    "l": 50,
                                    "r": 50,
                                    "t": 60
                                },
                                "width": 500,
                                "xaxis": {
                                    "autorange": false,
                                    "range": [
                                        -0.8781972981042613,
                                        12.298247940236552
                                    ],
                                    "title": {
                                        "text": "theta"
                                    },
                                    "type": "linear"
                                },
                                "yaxis": {
                                    "autorange": false,
                                    "range": [
                                        -0.9772094757851636,
                                        12.199235762555647
                                    ],
                                    "title": {
                                        "text": "epsilon"
                                    },
                                    "type": "linear"
                                }
                            }
                        },
                        "image/png": "[encoded data removed]",
                        "text/html": [
                            "<html>\n",
                            "<head><meta chartset=\"utf-8\" /></head>\n",
                            "<body>\n",
                            "<div>\n",
                            "    <script src=\"https://cdnjs.cloudflare.com/ajax/libs/mathjax/2.7.5/MathJax.js?config=TeX-AMS-MML_SVG\"></script>\n",
                            "    <script type=\"text/javascript\">\n",
                            "window.PlotlyConfig = {MathJaxConfig: 'local'};\n",
                            "</script>\n",
                            "<script type=\"text/javascript\">\n",
                            "if (window.MathJax) {MathJax.Hub.Config({SVG: {font: \"STIX-Web\"}});}\n",
                            "</script>\n",
                            "<script type=\"text/javascript\">\n",
                            "    if (typeof require !== 'undefined') {\n",
                            "        require.undef(\"plotly\");\n",
                            "        requirejs.config({\n",
                            "            paths: {\n",
                            "                'plotly': ['https://cdn.plot.ly/plotly-1.58.4.min']\n",
                            "            }\n",
                            "        });\n",
                            "        require(['plotly'], function(Plotly) {\n",
                            "            window._Plotly = Plotly;\n",
                            "        });\n",
                            "    }\n",
                            "</script>\n",
                            "\n",
                            "    <div\n",
                            "        id=d6850975-70ab-4042-82b7-e26ea4e91295\n",
                            "        class=\"plotly-graph-div\"\n",
                            "        style=\"height:500; width:500;\">\n",
                            "    </div>\n",
                            "    <script type=\"text/javascript\">\n",
                            "        require([\"plotly\"], function(Plotly) {\n",
                            "        window.PLOTLYENV = window.PLOTLYENV || {}\n",
                            "        \n",
                            "        if (document.getElementById('d6850975-70ab-4042-82b7-e26ea4e91295')) {\n",
                            "    Plotly.newPlot(\n",
                            "        'd6850975-70ab-4042-82b7-e26ea4e91295',\n",
                            "        [{\"colorbar\":{\"dtick\":1,\"tick0\":1,\"autotick\":false},\"y\":[0.0,0.35714285714285715,0.7142857142857143,1.0714285714285714,1.4285714285714286,1.7857142857142858,2.142857142857143,2.5,2.857142857142857,3.2142857142857144,3.5714285714285716,3.9285714285714284,4.285714285714286,4.642857142857143,5.0],\"type\":\"heatmap\",\"colorscale\":[[0,\"#FFB4CE\"],[0.3333333333333333,\"#FFB4CE\"],[0.3333333333333333,\"#FFE5B4\"],[0.6666666666666666,\"#FFE5B4\"],[0.6666666666666666,\"#B4FFE5\"],[1,\"#B4FFE5\"]],\"z\":[[3.0,3.0,3.0,3.0,3.0,3.0,3.0,3.0,3.0,3.0,3.0,2.0,2.0,2.0,2.0],[3.0,3.0,3.0,3.0,3.0,3.0,3.0,3.0,3.0,3.0,3.0,2.0,2.0,2.0,2.0],[3.0,3.0,3.0,3.0,3.0,3.0,3.0,3.0,3.0,3.0,3.0,2.0,2.0,2.0,2.0],[3.0,3.0,3.0,3.0,3.0,3.0,3.0,3.0,3.0,3.0,3.0,2.0,2.0,2.0,2.0],[3.0,3.0,3.0,3.0,3.0,3.0,3.0,3.0,3.0,3.0,3.0,2.0,2.0,2.0,2.0],[3.0,3.0,3.0,3.0,3.0,3.0,3.0,3.0,3.0,3.0,3.0,2.0,2.0,2.0,2.0],[3.0,3.0,3.0,3.0,3.0,3.0,3.0,3.0,3.0,3.0,3.0,2.0,2.0,2.0,2.0],[3.0,3.0,3.0,3.0,3.0,3.0,3.0,3.0,3.0,3.0,3.0,2.0,2.0,2.0,2.0],[3.0,3.0,3.0,3.0,3.0,3.0,3.0,3.0,3.0,3.0,3.0,2.0,2.0,2.0,2.0],[3.0,3.0,3.0,3.0,3.0,3.0,3.0,3.0,3.0,3.0,3.0,1.0,1.0,2.0,2.0],[3.0,3.0,3.0,3.0,3.0,3.0,3.0,3.0,3.0,3.0,1.0,1.0,1.0,1.0,1.0],[3.0,3.0,3.0,3.0,3.0,3.0,3.0,3.0,3.0,1.0,1.0,1.0,1.0,1.0,1.0],[3.0,3.0,3.0,3.0,3.0,3.0,1.0,1.0,1.0,1.0,1.0,1.0,1.0,1.0,1.0],[3.0,3.0,3.0,3.0,3.0,3.0,3.0,3.0,3.0,3.0,1.0,1.0,1.0,1.0,1.0],[3.0,3.0,3.0,3.0,3.0,3.0,1.0,1.0,1.0,3.0,1.0,1.0,1.0,1.0,1.0]],\"showscale\":false,\"x\":[0.0,0.35714285714285715,0.7142857142857143,1.0714285714285714,1.4285714285714286,1.7857142857142858,2.142857142857143,2.5,2.857142857142857,3.2142857142857144,3.5714285714285716,3.9285714285714284,4.285714285714286,4.642857142857143,5.0]}],\n",
                            "        {\"xaxis\":{\"title\":\"theta\"},\"annotations\":[{\"y\":2.5,\"showarrow\":false,\"text\":\"new life\",\"x\":2.5},{\"y\":2.5,\"showarrow\":false,\"text\":\"new job\",\"textangle\":270,\"x\":4.5},{\"y\":4.5,\"showarrow\":false,\"text\":\"stay put\",\"x\":4.5}],\"height\":500,\"margin\":{\"l\":50,\"b\":50,\"r\":50,\"t\":60},\"yaxis\":{\"title\":\"epsilon\"},\"width\":500},\n",
                            "        {\"editable\":false,\"responsive\":true,\"staticPlot\":false,\"scrollZoom\":true},\n",
                            "    )\n",
                            "}\n",
                            "\n",
                            "        });\n",
                            "    </script>\n",
                            "</div>\n",
                            "\n",
                            "</body>\n",
                            "</html>"
                        ],
                        "text/plain": [
                            "data: [\n",
                            "  \"heatmap with fields colorbar, colorscale, showscale, type, x, y, and z\"\n",
                            "]\n",
                            "\n",
                            "layout: \"layout with fields annotations, height, margin, width, xaxis, and yaxis\"\n",
                            "\n"
                        ]
                    },
                    "execution_count": 11,
                    "metadata": {},
                    "output_type": "execute_result"
                }
            ],
            "source": [
                "# epsilson is prob of random action\n",
                "actor = EpsilonGreedy(1.0, 0.1, 10_000_000)\n",
                "@time learn(m, sarsa, actor; maxit=150_000_000,  should_plot=false);\n",
                "\n",
                "# plot final policy\n",
                "plot_policy(m, get_greedy(m, sarsa.Q))"
            ]
        },
        {
            "cell_type": "markdown",
            "id": "9b2ff9a3",
            "metadata": {
                "slideshow": {
                    "slide_type": "subslide"
                },
                "tags": []
            },
            "source": [
                "Notes\n",
                "\n",
                "- This is not bad, but...\n",
                "    - Sarsa  under-estimates the Q-function systematically\n",
                "    - We'll see this by looking at \"true q*\" obtained via QFI"
            ]
        },
        {
            "cell_type": "code",
            "execution_count": 12,
            "id": "a0c43b6a",
            "metadata": {},
            "outputs": [],
            "source": [
                "opt_Q = Career.qfi(m);"
            ]
        },
        {
            "cell_type": "markdown",
            "id": "58f11915",
            "metadata": {},
            "source": [
                "- We'll compare opt_Q to Sarsa's Q in the upper right corner of state space (where it seems to struggle most)"
            ]
        },
        {
            "cell_type": "code",
            "execution_count": 13,
            "id": "a8482200",
            "metadata": {},
            "outputs": [
                {
                    "data": {
                        "text/plain": [
                            "3×3×3 Array{Float64, 3}:\n",
                            "[:, :, 1] =\n",
                            "  9.9898   9.89119   9.90818\n",
                            " 10.0404  10.1329   10.0137\n",
                            " 11.0849  10.5908   10.4959\n",
                            "\n",
                            "[:, :, 2] =\n",
                            "  9.93097   9.94257  10.0245\n",
                            " 10.0652   10.0367    9.95953\n",
                            " 10.9327   10.1025   10.6261\n",
                            "\n",
                            "[:, :, 3] =\n",
                            " 10.1664  10.1106  10.1637\n",
                            " 10.111   10.0961  10.0616\n",
                            " 10.7898  10.5648  10.5708"
                        ]
                    },
                    "execution_count": 13,
                    "metadata": {},
                    "output_type": "execute_result"
                }
            ],
            "source": [
                "opt_Q[:, 8:10, 8:10] - sarsa.Q.q[:, 8:10, 8:10] "
            ]
        },
        {
            "cell_type": "markdown",
            "id": "16cb40f8",
            "metadata": {},
            "source": [
                "- $q^*$ higher everywhere \n",
                "- Part of issue is that $TD(0)$ is only accurate when Q is accurate and $\\epsilon$ is zero (greedy updates)\n",
                "- We don't set $\\epsilon$ to zero, so we make some sub-optimal transitions, which introduces downward bias in $Q$"
            ]
        },
        {
            "cell_type": "markdown",
            "id": "4f2fc41d",
            "metadata": {
                "slideshow": {
                    "slide_type": "subslide"
                },
                "tags": []
            },
            "source": [
                "### Q-learning for career model\n",
                "\n",
                "- We can use the off-policy Q-learning algorithm to overcome this problem\n",
                "- In Q-learning, $TD(0)$ is always computed using greedy policy derived from $Q$\n",
                "- This will remove large portion of downward bias we saw with Sarsa\n",
                "- My implementation of Q-learning for this model is found below\n",
                "\n",
                "```julia\n",
                "# Barto & Sutton Algorithm in figure 6.7\n",
                "mutable struct QLearning <: AbstractQAlgorithm\n",
                "    Q::QFunction\n",
                "    s::State\n",
                "    α::Float64\n",
                "end\n",
                "\n",
                "function update!(wp::NealDSDC, actor::AbstractActor, algo::QLearning)\n",
                "    # choose a\n",
                "    a = get_action(wp, algo, actor, algo.s)[1]\n",
                "\n",
                "    # use current state and action to do transition\n",
                "    sp, r = step(wp, algo.s, a)\n",
                "\n",
                "    # ap is greedy in Q\n",
                "    ap = get_greedy(algo, sp)\n",
                "\n",
                "    # Apply TD update\n",
                "    algo.Q[algo.s, a] = (1-algo.α)*algo.Q[algo.s, a] +\n",
                "                           algo.α*(r + wp.beta * algo.Q[sp, ap])\n",
                "\n",
                "    # step forward in time\n",
                "    algo.s = sp\n",
                "end\n",
                "```"
            ]
        },
        {
            "cell_type": "markdown",
            "id": "0036d8c2",
            "metadata": {
                "slideshow": {
                    "slide_type": "subslide"
                },
                "tags": []
            },
            "source": [
                "- We'll run same experiment with Q-learning"
            ]
        },
        {
            "cell_type": "code",
            "execution_count": 14,
            "id": "2c9b2120",
            "metadata": {},
            "outputs": [
                {
                    "data": {
                        "application/vnd.plotly.v1+json": {
                            "config": {
                                "editable": false,
                                "responsive": true,
                                "scrollZoom": true,
                                "showLink": false,
                                "staticPlot": false
                            },
                            "data": [
                                {
                                    "colorbar": {
                                        "autotick": false,
                                        "dtick": 1,
                                        "tick0": 1
                                    },
                                    "colorscale": [
                                        [
                                            0,
                                            "#FFB4CE"
                                        ],
                                        [
                                            0.3333333333333333,
                                            "#FFB4CE"
                                        ],
                                        [
                                            0.3333333333333333,
                                            "#FFE5B4"
                                        ],
                                        [
                                            0.6666666666666666,
                                            "#FFE5B4"
                                        ],
                                        [
                                            0.6666666666666666,
                                            "#B4FFE5"
                                        ],
                                        [
                                            1,
                                            "#B4FFE5"
                                        ]
                                    ],
                                    "showscale": false,
                                    "type": "heatmap",
                                    "x": [
                                        0,
                                        0.35714285714285715,
                                        0.7142857142857143,
                                        1.0714285714285714,
                                        1.4285714285714286,
                                        1.7857142857142858,
                                        2.142857142857143,
                                        2.5,
                                        2.857142857142857,
                                        3.2142857142857144,
                                        3.5714285714285716,
                                        3.9285714285714284,
                                        4.285714285714286,
                                        4.642857142857143,
                                        5
                                    ],
                                    "y": [
                                        0,
                                        0.35714285714285715,
                                        0.7142857142857143,
                                        1.0714285714285714,
                                        1.4285714285714286,
                                        1.7857142857142858,
                                        2.142857142857143,
                                        2.5,
                                        2.857142857142857,
                                        3.2142857142857144,
                                        3.5714285714285716,
                                        3.9285714285714284,
                                        4.285714285714286,
                                        4.642857142857143,
                                        5
                                    ],
                                    "z": [
                                        [
                                            3,
                                            3,
                                            3,
                                            3,
                                            3,
                                            3,
                                            3,
                                            2,
                                            2,
                                            2,
                                            2,
                                            2,
                                            2,
                                            2,
                                            2
                                        ],
                                        [
                                            3,
                                            3,
                                            3,
                                            3,
                                            3,
                                            3,
                                            3,
                                            2,
                                            2,
                                            2,
                                            2,
                                            2,
                                            2,
                                            2,
                                            2
                                        ],
                                        [
                                            3,
                                            3,
                                            3,
                                            3,
                                            3,
                                            3,
                                            3,
                                            2,
                                            2,
                                            2,
                                            2,
                                            2,
                                            2,
                                            2,
                                            2
                                        ],
                                        [
                                            3,
                                            3,
                                            3,
                                            3,
                                            3,
                                            3,
                                            3,
                                            2,
                                            2,
                                            2,
                                            2,
                                            2,
                                            2,
                                            2,
                                            2
                                        ],
                                        [
                                            3,
                                            3,
                                            3,
                                            3,
                                            3,
                                            3,
                                            3,
                                            2,
                                            2,
                                            2,
                                            2,
                                            2,
                                            2,
                                            2,
                                            2
                                        ],
                                        [
                                            3,
                                            3,
                                            3,
                                            3,
                                            3,
                                            3,
                                            3,
                                            2,
                                            2,
                                            2,
                                            2,
                                            2,
                                            2,
                                            2,
                                            2
                                        ],
                                        [
                                            3,
                                            3,
                                            3,
                                            3,
                                            3,
                                            3,
                                            3,
                                            2,
                                            2,
                                            2,
                                            2,
                                            2,
                                            2,
                                            2,
                                            2
                                        ],
                                        [
                                            3,
                                            3,
                                            3,
                                            3,
                                            3,
                                            3,
                                            3,
                                            1,
                                            1,
                                            1,
                                            1,
                                            1,
                                            1,
                                            1,
                                            1
                                        ],
                                        [
                                            3,
                                            3,
                                            3,
                                            3,
                                            3,
                                            3,
                                            1,
                                            1,
                                            1,
                                            1,
                                            1,
                                            1,
                                            1,
                                            1,
                                            1
                                        ],
                                        [
                                            3,
                                            3,
                                            3,
                                            3,
                                            3,
                                            1,
                                            1,
                                            1,
                                            1,
                                            1,
                                            1,
                                            1,
                                            1,
                                            1,
                                            1
                                        ],
                                        [
                                            3,
                                            3,
                                            3,
                                            3,
                                            1,
                                            1,
                                            1,
                                            1,
                                            1,
                                            1,
                                            1,
                                            1,
                                            1,
                                            1,
                                            1
                                        ],
                                        [
                                            3,
                                            3,
                                            3,
                                            1,
                                            1,
                                            1,
                                            1,
                                            1,
                                            1,
                                            1,
                                            1,
                                            1,
                                            1,
                                            1,
                                            1
                                        ],
                                        [
                                            3,
                                            3,
                                            1,
                                            1,
                                            1,
                                            1,
                                            1,
                                            1,
                                            1,
                                            1,
                                            1,
                                            1,
                                            1,
                                            1,
                                            1
                                        ],
                                        [
                                            3,
                                            1,
                                            1,
                                            1,
                                            1,
                                            1,
                                            1,
                                            1,
                                            1,
                                            1,
                                            1,
                                            1,
                                            1,
                                            1,
                                            1
                                        ],
                                        [
                                            1,
                                            1,
                                            1,
                                            1,
                                            1,
                                            1,
                                            1,
                                            1,
                                            1,
                                            1,
                                            1,
                                            1,
                                            1,
                                            1,
                                            1
                                        ]
                                    ]
                                }
                            ],
                            "frames": [],
                            "layout": {
                                "annotations": [
                                    {
                                        "showarrow": false,
                                        "text": "new life",
                                        "x": 2.5,
                                        "y": 2.5
                                    },
                                    {
                                        "showarrow": false,
                                        "text": "new job",
                                        "textangle": 270,
                                        "x": 4.5,
                                        "y": 2.5
                                    },
                                    {
                                        "showarrow": false,
                                        "text": "stay put",
                                        "x": 4.5,
                                        "y": 4.5
                                    }
                                ],
                                "height": 500,
                                "margin": {
                                    "b": 50,
                                    "l": 50,
                                    "r": 50,
                                    "t": 60
                                },
                                "width": 500,
                                "xaxis": {
                                    "autorange": false,
                                    "range": [
                                        -2.885716223417017,
                                        32.93157543165056
                                    ],
                                    "title": {
                                        "text": "theta"
                                    },
                                    "type": "linear"
                                },
                                "yaxis": {
                                    "autorange": false,
                                    "range": [
                                        -6.313558046607283,
                                        29.503733608460287
                                    ],
                                    "title": {
                                        "text": "epsilon"
                                    },
                                    "type": "linear"
                                }
                            }
                        },
                        "image/png": "[encoded data removed]",
                        "text/html": [
                            "<html>\n",
                            "<head><meta chartset=\"utf-8\" /></head>\n",
                            "<body>\n",
                            "<div>\n",
                            "    <script src=\"https://cdnjs.cloudflare.com/ajax/libs/mathjax/2.7.5/MathJax.js?config=TeX-AMS-MML_SVG\"></script>\n",
                            "    <script type=\"text/javascript\">\n",
                            "window.PlotlyConfig = {MathJaxConfig: 'local'};\n",
                            "</script>\n",
                            "<script type=\"text/javascript\">\n",
                            "if (window.MathJax) {MathJax.Hub.Config({SVG: {font: \"STIX-Web\"}});}\n",
                            "</script>\n",
                            "<script type=\"text/javascript\">\n",
                            "    if (typeof require !== 'undefined') {\n",
                            "        require.undef(\"plotly\");\n",
                            "        requirejs.config({\n",
                            "            paths: {\n",
                            "                'plotly': ['https://cdn.plot.ly/plotly-1.58.4.min']\n",
                            "            }\n",
                            "        });\n",
                            "        require(['plotly'], function(Plotly) {\n",
                            "            window._Plotly = Plotly;\n",
                            "        });\n",
                            "    }\n",
                            "</script>\n",
                            "\n",
                            "    <div\n",
                            "        id=2ff64728-0328-4428-bf38-68d777804f7f\n",
                            "        class=\"plotly-graph-div\"\n",
                            "        style=\"height:500; width:500;\">\n",
                            "    </div>\n",
                            "    <script type=\"text/javascript\">\n",
                            "        require([\"plotly\"], function(Plotly) {\n",
                            "        window.PLOTLYENV = window.PLOTLYENV || {}\n",
                            "        \n",
                            "        if (document.getElementById('2ff64728-0328-4428-bf38-68d777804f7f')) {\n",
                            "    Plotly.newPlot(\n",
                            "        '2ff64728-0328-4428-bf38-68d777804f7f',\n",
                            "        [{\"colorbar\":{\"dtick\":1,\"tick0\":1,\"autotick\":false},\"y\":[0.0,0.35714285714285715,0.7142857142857143,1.0714285714285714,1.4285714285714286,1.7857142857142858,2.142857142857143,2.5,2.857142857142857,3.2142857142857144,3.5714285714285716,3.9285714285714284,4.285714285714286,4.642857142857143,5.0],\"type\":\"heatmap\",\"colorscale\":[[0,\"#FFB4CE\"],[0.3333333333333333,\"#FFB4CE\"],[0.3333333333333333,\"#FFE5B4\"],[0.6666666666666666,\"#FFE5B4\"],[0.6666666666666666,\"#B4FFE5\"],[1,\"#B4FFE5\"]],\"z\":[[3.0,3.0,3.0,3.0,3.0,3.0,3.0,2.0,2.0,2.0,2.0,2.0,2.0,2.0,2.0],[3.0,3.0,3.0,3.0,3.0,3.0,3.0,2.0,2.0,2.0,2.0,2.0,2.0,2.0,2.0],[3.0,3.0,3.0,3.0,3.0,3.0,3.0,2.0,2.0,2.0,2.0,2.0,2.0,2.0,2.0],[3.0,3.0,3.0,3.0,3.0,3.0,3.0,2.0,2.0,2.0,2.0,2.0,2.0,2.0,2.0],[3.0,3.0,3.0,3.0,3.0,3.0,3.0,2.0,2.0,2.0,2.0,2.0,2.0,2.0,2.0],[3.0,3.0,3.0,3.0,3.0,3.0,3.0,2.0,2.0,2.0,2.0,2.0,2.0,2.0,2.0],[3.0,3.0,3.0,3.0,3.0,3.0,3.0,2.0,2.0,2.0,2.0,2.0,2.0,2.0,2.0],[3.0,3.0,3.0,3.0,3.0,3.0,3.0,1.0,1.0,1.0,1.0,1.0,1.0,1.0,1.0],[3.0,3.0,3.0,3.0,3.0,3.0,1.0,1.0,1.0,1.0,1.0,1.0,1.0,1.0,1.0],[3.0,3.0,3.0,3.0,3.0,1.0,1.0,1.0,1.0,1.0,1.0,1.0,1.0,1.0,1.0],[3.0,3.0,3.0,3.0,1.0,1.0,1.0,1.0,1.0,1.0,1.0,1.0,1.0,1.0,1.0],[3.0,3.0,3.0,1.0,1.0,1.0,1.0,1.0,1.0,1.0,1.0,1.0,1.0,1.0,1.0],[3.0,3.0,1.0,1.0,1.0,1.0,1.0,1.0,1.0,1.0,1.0,1.0,1.0,1.0,1.0],[3.0,1.0,1.0,1.0,1.0,1.0,1.0,1.0,1.0,1.0,1.0,1.0,1.0,1.0,1.0],[1.0,1.0,1.0,1.0,1.0,1.0,1.0,1.0,1.0,1.0,1.0,1.0,1.0,1.0,1.0]],\"showscale\":false,\"x\":[0.0,0.35714285714285715,0.7142857142857143,1.0714285714285714,1.4285714285714286,1.7857142857142858,2.142857142857143,2.5,2.857142857142857,3.2142857142857144,3.5714285714285716,3.9285714285714284,4.285714285714286,4.642857142857143,5.0]}],\n",
                            "        {\"xaxis\":{\"title\":\"theta\"},\"annotations\":[{\"y\":2.5,\"showarrow\":false,\"text\":\"new life\",\"x\":2.5},{\"y\":2.5,\"showarrow\":false,\"text\":\"new job\",\"textangle\":270,\"x\":4.5},{\"y\":4.5,\"showarrow\":false,\"text\":\"stay put\",\"x\":4.5}],\"height\":500,\"margin\":{\"l\":50,\"b\":50,\"r\":50,\"t\":60},\"yaxis\":{\"title\":\"epsilon\"},\"width\":500},\n",
                            "        {\"editable\":false,\"responsive\":true,\"staticPlot\":false,\"scrollZoom\":true},\n",
                            "    )\n",
                            "}\n",
                            "\n",
                            "        });\n",
                            "    </script>\n",
                            "</div>\n",
                            "\n",
                            "</body>\n",
                            "</html>"
                        ],
                        "text/plain": [
                            "data: [\n",
                            "  \"heatmap with fields colorbar, colorscale, showscale, type, x, y, and z\"\n",
                            "]\n",
                            "\n",
                            "layout: \"layout with fields annotations, height, margin, width, xaxis, and yaxis\"\n",
                            "\n"
                        ]
                    },
                    "execution_count": 14,
                    "metadata": {},
                    "output_type": "execute_result"
                }
            ],
            "source": [
                "# reset random seed\n",
                "Random.seed!(56)\n",
                "qlearning = QLearning(m, 0.01);\n",
                "\n",
                "# plot initial policy\n",
                "plot_policy(m, get_greedy(m, qlearning.Q))"
            ]
        },
        {
            "cell_type": "code",
            "execution_count": 15,
            "id": "52f4c613",
            "metadata": {
                "slideshow": {
                    "slide_type": "subslide"
                },
                "tags": []
            },
            "outputs": [
                {
                    "name": "stdout",
                    "output_type": "stream",
                    "text": [
                        "  8.096814 seconds (98.02 k allocations: 6.062 MiB, 0.96% compilation time)\n"
                    ]
                },
                {
                    "data": {
                        "application/vnd.plotly.v1+json": {
                            "config": {
                                "editable": false,
                                "responsive": true,
                                "scrollZoom": true,
                                "showLink": false,
                                "staticPlot": false
                            },
                            "data": [
                                {
                                    "colorbar": {
                                        "autotick": false,
                                        "dtick": 1,
                                        "tick0": 1
                                    },
                                    "colorscale": [
                                        [
                                            0,
                                            "#FFB4CE"
                                        ],
                                        [
                                            0.3333333333333333,
                                            "#FFB4CE"
                                        ],
                                        [
                                            0.3333333333333333,
                                            "#FFE5B4"
                                        ],
                                        [
                                            0.6666666666666666,
                                            "#FFE5B4"
                                        ],
                                        [
                                            0.6666666666666666,
                                            "#B4FFE5"
                                        ],
                                        [
                                            1,
                                            "#B4FFE5"
                                        ]
                                    ],
                                    "showscale": false,
                                    "type": "heatmap",
                                    "x": [
                                        0,
                                        0.35714285714285715,
                                        0.7142857142857143,
                                        1.0714285714285714,
                                        1.4285714285714286,
                                        1.7857142857142858,
                                        2.142857142857143,
                                        2.5,
                                        2.857142857142857,
                                        3.2142857142857144,
                                        3.5714285714285716,
                                        3.9285714285714284,
                                        4.285714285714286,
                                        4.642857142857143,
                                        5
                                    ],
                                    "y": [
                                        0,
                                        0.35714285714285715,
                                        0.7142857142857143,
                                        1.0714285714285714,
                                        1.4285714285714286,
                                        1.7857142857142858,
                                        2.142857142857143,
                                        2.5,
                                        2.857142857142857,
                                        3.2142857142857144,
                                        3.5714285714285716,
                                        3.9285714285714284,
                                        4.285714285714286,
                                        4.642857142857143,
                                        5
                                    ],
                                    "z": [
                                        [
                                            3,
                                            3,
                                            3,
                                            3,
                                            3,
                                            3,
                                            3,
                                            3,
                                            3,
                                            3,
                                            3,
                                            3,
                                            2,
                                            2,
                                            2
                                        ],
                                        [
                                            3,
                                            3,
                                            3,
                                            3,
                                            3,
                                            3,
                                            3,
                                            3,
                                            3,
                                            3,
                                            3,
                                            3,
                                            2,
                                            2,
                                            2
                                        ],
                                        [
                                            3,
                                            3,
                                            3,
                                            3,
                                            3,
                                            3,
                                            3,
                                            3,
                                            3,
                                            3,
                                            3,
                                            3,
                                            2,
                                            2,
                                            2
                                        ],
                                        [
                                            3,
                                            3,
                                            3,
                                            3,
                                            3,
                                            3,
                                            3,
                                            3,
                                            3,
                                            3,
                                            3,
                                            3,
                                            2,
                                            2,
                                            2
                                        ],
                                        [
                                            3,
                                            3,
                                            3,
                                            3,
                                            3,
                                            3,
                                            3,
                                            3,
                                            3,
                                            3,
                                            3,
                                            3,
                                            2,
                                            2,
                                            2
                                        ],
                                        [
                                            3,
                                            3,
                                            3,
                                            3,
                                            3,
                                            3,
                                            3,
                                            3,
                                            3,
                                            3,
                                            3,
                                            3,
                                            2,
                                            2,
                                            2
                                        ],
                                        [
                                            3,
                                            3,
                                            3,
                                            3,
                                            3,
                                            3,
                                            3,
                                            3,
                                            3,
                                            3,
                                            3,
                                            3,
                                            2,
                                            2,
                                            2
                                        ],
                                        [
                                            3,
                                            3,
                                            3,
                                            3,
                                            3,
                                            3,
                                            3,
                                            3,
                                            3,
                                            3,
                                            3,
                                            3,
                                            2,
                                            2,
                                            2
                                        ],
                                        [
                                            3,
                                            3,
                                            3,
                                            3,
                                            3,
                                            3,
                                            3,
                                            3,
                                            3,
                                            3,
                                            3,
                                            3,
                                            2,
                                            2,
                                            2
                                        ],
                                        [
                                            3,
                                            3,
                                            3,
                                            3,
                                            3,
                                            3,
                                            3,
                                            3,
                                            3,
                                            3,
                                            3,
                                            3,
                                            1,
                                            2,
                                            2
                                        ],
                                        [
                                            3,
                                            3,
                                            3,
                                            3,
                                            3,
                                            3,
                                            3,
                                            3,
                                            3,
                                            3,
                                            3,
                                            3,
                                            1,
                                            1,
                                            1
                                        ],
                                        [
                                            3,
                                            3,
                                            3,
                                            3,
                                            3,
                                            3,
                                            3,
                                            3,
                                            3,
                                            3,
                                            3,
                                            1,
                                            1,
                                            1,
                                            1
                                        ],
                                        [
                                            3,
                                            3,
                                            3,
                                            3,
                                            3,
                                            3,
                                            3,
                                            3,
                                            1,
                                            3,
                                            1,
                                            1,
                                            1,
                                            1,
                                            1
                                        ],
                                        [
                                            3,
                                            3,
                                            3,
                                            3,
                                            3,
                                            3,
                                            3,
                                            3,
                                            3,
                                            1,
                                            1,
                                            1,
                                            1,
                                            1,
                                            1
                                        ],
                                        [
                                            3,
                                            3,
                                            3,
                                            3,
                                            3,
                                            3,
                                            3,
                                            1,
                                            3,
                                            3,
                                            1,
                                            1,
                                            1,
                                            1,
                                            1
                                        ]
                                    ]
                                }
                            ],
                            "frames": [],
                            "layout": {
                                "annotations": [
                                    {
                                        "showarrow": false,
                                        "text": "new life",
                                        "x": 2.5,
                                        "y": 2.5
                                    },
                                    {
                                        "showarrow": false,
                                        "text": "new job",
                                        "textangle": 270,
                                        "x": 4.5,
                                        "y": 2.5
                                    },
                                    {
                                        "showarrow": false,
                                        "text": "stay put",
                                        "x": 4.5,
                                        "y": 4.5
                                    }
                                ],
                                "height": 500,
                                "margin": {
                                    "b": 50,
                                    "l": 50,
                                    "r": 50,
                                    "t": 60
                                },
                                "width": 500,
                                "xaxis": {
                                    "autorange": false,
                                    "range": [
                                        -157.06000861706468,
                                        1612.401919470347
                                    ],
                                    "title": {
                                        "text": "theta"
                                    },
                                    "type": "linear"
                                },
                                "yaxis": {
                                    "autorange": false,
                                    "range": [
                                        -1.6364915812935907,
                                        969.4648041784499
                                    ],
                                    "title": {
                                        "text": "epsilon"
                                    },
                                    "type": "linear"
                                }
                            }
                        },
                        "image/png": "[encoded data removed]",
                        "text/html": [
                            "<html>\n",
                            "<head><meta chartset=\"utf-8\" /></head>\n",
                            "<body>\n",
                            "<div>\n",
                            "    <script src=\"https://cdnjs.cloudflare.com/ajax/libs/mathjax/2.7.5/MathJax.js?config=TeX-AMS-MML_SVG\"></script>\n",
                            "    <script type=\"text/javascript\">\n",
                            "window.PlotlyConfig = {MathJaxConfig: 'local'};\n",
                            "</script>\n",
                            "<script type=\"text/javascript\">\n",
                            "if (window.MathJax) {MathJax.Hub.Config({SVG: {font: \"STIX-Web\"}});}\n",
                            "</script>\n",
                            "<script type=\"text/javascript\">\n",
                            "    if (typeof require !== 'undefined') {\n",
                            "        require.undef(\"plotly\");\n",
                            "        requirejs.config({\n",
                            "            paths: {\n",
                            "                'plotly': ['https://cdn.plot.ly/plotly-1.58.4.min']\n",
                            "            }\n",
                            "        });\n",
                            "        require(['plotly'], function(Plotly) {\n",
                            "            window._Plotly = Plotly;\n",
                            "        });\n",
                            "    }\n",
                            "</script>\n",
                            "\n",
                            "    <div\n",
                            "        id=2c555d43-bfa4-45a3-ae0d-626bb6614ed1\n",
                            "        class=\"plotly-graph-div\"\n",
                            "        style=\"height:500; width:500;\">\n",
                            "    </div>\n",
                            "    <script type=\"text/javascript\">\n",
                            "        require([\"plotly\"], function(Plotly) {\n",
                            "        window.PLOTLYENV = window.PLOTLYENV || {}\n",
                            "        \n",
                            "        if (document.getElementById('2c555d43-bfa4-45a3-ae0d-626bb6614ed1')) {\n",
                            "    Plotly.newPlot(\n",
                            "        '2c555d43-bfa4-45a3-ae0d-626bb6614ed1',\n",
                            "        [{\"colorbar\":{\"dtick\":1,\"tick0\":1,\"autotick\":false},\"y\":[0.0,0.35714285714285715,0.7142857142857143,1.0714285714285714,1.4285714285714286,1.7857142857142858,2.142857142857143,2.5,2.857142857142857,3.2142857142857144,3.5714285714285716,3.9285714285714284,4.285714285714286,4.642857142857143,5.0],\"type\":\"heatmap\",\"colorscale\":[[0,\"#FFB4CE\"],[0.3333333333333333,\"#FFB4CE\"],[0.3333333333333333,\"#FFE5B4\"],[0.6666666666666666,\"#FFE5B4\"],[0.6666666666666666,\"#B4FFE5\"],[1,\"#B4FFE5\"]],\"z\":[[3.0,3.0,3.0,3.0,3.0,3.0,3.0,3.0,3.0,3.0,3.0,3.0,2.0,2.0,2.0],[3.0,3.0,3.0,3.0,3.0,3.0,3.0,3.0,3.0,3.0,3.0,3.0,2.0,2.0,2.0],[3.0,3.0,3.0,3.0,3.0,3.0,3.0,3.0,3.0,3.0,3.0,3.0,2.0,2.0,2.0],[3.0,3.0,3.0,3.0,3.0,3.0,3.0,3.0,3.0,3.0,3.0,3.0,2.0,2.0,2.0],[3.0,3.0,3.0,3.0,3.0,3.0,3.0,3.0,3.0,3.0,3.0,3.0,2.0,2.0,2.0],[3.0,3.0,3.0,3.0,3.0,3.0,3.0,3.0,3.0,3.0,3.0,3.0,2.0,2.0,2.0],[3.0,3.0,3.0,3.0,3.0,3.0,3.0,3.0,3.0,3.0,3.0,3.0,2.0,2.0,2.0],[3.0,3.0,3.0,3.0,3.0,3.0,3.0,3.0,3.0,3.0,3.0,3.0,2.0,2.0,2.0],[3.0,3.0,3.0,3.0,3.0,3.0,3.0,3.0,3.0,3.0,3.0,3.0,2.0,2.0,2.0],[3.0,3.0,3.0,3.0,3.0,3.0,3.0,3.0,3.0,3.0,3.0,3.0,1.0,2.0,2.0],[3.0,3.0,3.0,3.0,3.0,3.0,3.0,3.0,3.0,3.0,3.0,3.0,1.0,1.0,1.0],[3.0,3.0,3.0,3.0,3.0,3.0,3.0,3.0,3.0,3.0,3.0,1.0,1.0,1.0,1.0],[3.0,3.0,3.0,3.0,3.0,3.0,3.0,3.0,1.0,3.0,1.0,1.0,1.0,1.0,1.0],[3.0,3.0,3.0,3.0,3.0,3.0,3.0,3.0,3.0,1.0,1.0,1.0,1.0,1.0,1.0],[3.0,3.0,3.0,3.0,3.0,3.0,3.0,1.0,3.0,3.0,1.0,1.0,1.0,1.0,1.0]],\"showscale\":false,\"x\":[0.0,0.35714285714285715,0.7142857142857143,1.0714285714285714,1.4285714285714286,1.7857142857142858,2.142857142857143,2.5,2.857142857142857,3.2142857142857144,3.5714285714285716,3.9285714285714284,4.285714285714286,4.642857142857143,5.0]}],\n",
                            "        {\"xaxis\":{\"title\":\"theta\"},\"annotations\":[{\"y\":2.5,\"showarrow\":false,\"text\":\"new life\",\"x\":2.5},{\"y\":2.5,\"showarrow\":false,\"text\":\"new job\",\"textangle\":270,\"x\":4.5},{\"y\":4.5,\"showarrow\":false,\"text\":\"stay put\",\"x\":4.5}],\"height\":500,\"margin\":{\"l\":50,\"b\":50,\"r\":50,\"t\":60},\"yaxis\":{\"title\":\"epsilon\"},\"width\":500},\n",
                            "        {\"editable\":false,\"responsive\":true,\"staticPlot\":false,\"scrollZoom\":true},\n",
                            "    )\n",
                            "}\n",
                            "\n",
                            "        });\n",
                            "    </script>\n",
                            "</div>\n",
                            "\n",
                            "</body>\n",
                            "</html>"
                        ],
                        "text/plain": [
                            "data: [\n",
                            "  \"heatmap with fields colorbar, colorscale, showscale, type, x, y, and z\"\n",
                            "]\n",
                            "\n",
                            "layout: \"layout with fields annotations, height, margin, width, xaxis, and yaxis\"\n",
                            "\n"
                        ]
                    },
                    "execution_count": 15,
                    "metadata": {},
                    "output_type": "execute_result"
                }
            ],
            "source": [
                "actor = EpsilonGreedy(1.0, 0.1, 10_000_000)\n",
                "@time learn(m, qlearning, actor; maxit=150_000_000,  should_plot=false);\n",
                "\n",
                "# plot final policy\n",
                "plot_policy(m, get_greedy(m, qlearning.Q))"
            ]
        },
        {
            "cell_type": "markdown",
            "id": "bb495d6a",
            "metadata": {
                "slideshow": {
                    "slide_type": "subslide"
                },
                "tags": []
            },
            "source": [
                "- Check the Q-learning Q function against $q^*$ and see bias is smaller:"
            ]
        },
        {
            "cell_type": "code",
            "execution_count": 16,
            "id": "d5fffb7c",
            "metadata": {
                "scrolled": true
            },
            "outputs": [
                {
                    "data": {
                        "text/plain": [
                            "3×3×3 Array{Float64, 3}:\n",
                            "[:, :, 1] =\n",
                            " 0.166843   0.349435  0.0305733\n",
                            " 0.186209   0.106912  0.223948\n",
                            " 0.707085  -0.592787  0.402138\n",
                            "\n",
                            "[:, :, 2] =\n",
                            "  0.220097   0.197678  -0.0990846\n",
                            "  0.0473951  0.246321   0.0989512\n",
                            " -0.332978   0.690139   0.218061\n",
                            "\n",
                            "[:, :, 3] =\n",
                            "  0.260701   0.32411    0.603764\n",
                            "  0.0903624  0.101123  -0.0294898\n",
                            " -0.286058   0.529283   0.407503"
                        ]
                    },
                    "execution_count": 16,
                    "metadata": {},
                    "output_type": "execute_result"
                }
            ],
            "source": [
                "opt_Q[:, 8:10, 8:10] - qlearning.Q.q[:, 8:10, 8:10] "
            ]
        }
    ],
    "metadata": {
        "@webio": {
            "lastCommId": null,
            "lastKernelId": null
        },
        "kernelspec": {
            "display_name": "Julia 1.6.1",
            "language": "julia",
            "name": "julia-1.6"
        },
        "language_info": {
            "file_extension": ".jl",
            "mimetype": "application/julia",
            "name": "julia",
            "version": "1.7.2"
        },
        "rise": {
            "scroll": true
        }
    },
    "nbformat": 4,
    "nbformat_minor": 5
}