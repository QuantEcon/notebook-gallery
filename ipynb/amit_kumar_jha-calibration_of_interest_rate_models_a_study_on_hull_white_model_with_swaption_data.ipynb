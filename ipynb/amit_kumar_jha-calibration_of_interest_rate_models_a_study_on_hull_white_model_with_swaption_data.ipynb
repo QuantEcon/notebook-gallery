{
    "nbformat": 4,
    "nbformat_minor": 0,
    "metadata": {
        "colab": {
            "provenance": []
        },
        "kernelspec": {
            "name": "python3",
            "display_name": "Python 3"
        },
        "language_info": {
            "name": "python"
        }
    },
    "cells": [
        {
            "cell_type": "markdown",
            "source": [
                "Calibration is the process of finding the best values of the parameters of a financial model that minimize the differences between the model prices and market prices of a set of financial instruments. In other words, calibration is used to ensure that the model is consistent with the observed market data.\n",
                "\n",
                "\n",
                "\n",
                "In the case of interest rate models, calibration is important because interest rates are fundamental variables that affect the pricing and risk management of a wide range of financial instruments, such as bonds, swaps, options, and other derivatives. Moreover, interest rate markets are highly liquid and traded by many market participants, so the market prices of interest rate instruments are a good reflection of market expectations and perceptions of future interest rates."
            ],
            "metadata": {
                "id": "ivWP-9p8ugsO"
            }
        },
        {
            "cell_type": "code",
            "execution_count": 1,
            "metadata": {
                "id": "b9MANi23kSZt"
            },
            "outputs": [],
            "source": [
                " from QuantLib import *"
            ]
        },
        {
            "cell_type": "code",
            "source": [
                "from pandas import DataFrame\n",
                "import numpy as np\n",
                "import matplotlib.pyplot as plt\n",
                "%matplotlib inline"
            ],
            "metadata": {
                "id": "ruqiNr36qnuG"
            },
            "execution_count": 2,
            "outputs": []
        },
        {
            "cell_type": "code",
            "source": [
                "from collections import namedtuple\n",
                "import math"
            ],
            "metadata": {
                "id": "lxaG00dTsFft"
            },
            "execution_count": 3,
            "outputs": []
        },
        {
            "cell_type": "code",
            "source": [
                "today = Date(18, April, 2023);\n",
                "settlement= Date(19, April, 2024);\n",
                "Settings.instance().evaluationDate = today;\n",
                "term_structure = YieldTermStructureHandle(\n",
                "FlatForward(settlement,0.04875825,Actual365Fixed())\n",
                ")\n",
                "index = Euribor1Y(term_structure)\n"
            ],
            "metadata": {
                "id": "m3E3ujBUqyJF"
            },
            "execution_count": 4,
            "outputs": []
        },
        {
            "cell_type": "code",
            "source": [
                "CalibrationData = namedtuple(\"CalibrationData\",\n",
                "\"start, length, volatility\")\n",
                "data = [CalibrationData(1, 5, 0.1148),\n",
                "CalibrationData(2, 4, 0.1108),\n",
                "CalibrationData(3, 3, 0.1070),\n",
                "CalibrationData(4, 2, 0.1021),\n",
                "CalibrationData(5, 1, 0.1000 )]\n"
            ],
            "metadata": {
                "id": "CCYxuwlvsAoH"
            },
            "execution_count": 5,
            "outputs": []
        },
        {
            "cell_type": "code",
            "source": [
                "def create_swaption_helpers(data, index, term_structure, engine):\n",
                "  swaptions = []\n",
                "  fixed_leg_tenor = Period(1, Years)\n",
                "  fixed_leg_daycounter = Actual360()\n",
                "  floating_leg_daycounter = Actual360()\n",
                "  for d in data:\n",
                "    vol_handle = QuoteHandle(SimpleQuote(d.volatility))\n",
                "    helper = SwaptionHelper(Period(d.start, Years),\n",
                "    Period(d.length, Years),\n",
                "    vol_handle,\n",
                "    index,\n",
                "    fixed_leg_tenor,\n",
                "    fixed_leg_daycounter,\n",
                "    floating_leg_daycounter,\n",
                "    term_structure\n",
                "    )\n",
                "    helper.setPricingEngine(engine)\n",
                "    swaptions.append(helper)\n",
                "  return swaptions"
            ],
            "metadata": {
                "id": "4_YOCG2bsJ5k"
            },
            "execution_count": 6,
            "outputs": []
        },
        {
            "cell_type": "code",
            "source": [
                "def calibration_report(swaptions, data):\n",
                "  columns = [\"Model Price\", \"Market Price\", \"Implied Vol\", \"Market Vol\", \"Rel Er\\\n",
                "  ror Price\", \"Rel Error Vols\"]\n",
                "  report_data = []\n",
                "  cum_err = 0.0\n",
                "  cum_err2 = 0.0\n",
                "  for i, s in enumerate(swaptions):\n",
                "    model_price = s.modelValue()\n",
                "    market_vol = data[i].volatility\n",
                "    black_price = s.blackPrice(market_vol)\n",
                "    rel_error = model_price/black_price - 1.0\n",
                "    implied_vol = s.impliedVolatility(model_price,\n",
                "    1e-5, 50, 0.0, 0.50)\n",
                "    rel_error2 = implied_vol/market_vol-1.0\n",
                "    cum_err += rel_error*rel_error\n",
                "    cum_err2 += rel_error2*rel_error2\n",
                "    report_data.append((model_price, black_price, implied_vol,\n",
                "    market_vol, rel_error, rel_error2))\n",
                "  print (\"Cumulative Error Price: %7.5f\" % math.sqrt(cum_err))\n",
                "  print( \"Cumulative Error Vols : %7.5f\" % math.sqrt(cum_err2))\n",
                "  return DataFrame(report_data,columns= columns, index=['']*len(report_data))\n"
            ],
            "metadata": {
                "id": "nSXnU128st_C"
            },
            "execution_count": 7,
            "outputs": []
        },
        {
            "cell_type": "code",
            "source": [
                "model = HullWhite(term_structure);\n",
                "engine = JamshidianSwaptionEngine(model)\n",
                "swaptions = create_swaption_helpers(data, index, term_structure, engine)\n",
                "optimization_method = LevenbergMarquardt(1.0e-8,1.0e-8,1.0e-8)\n",
                "end_criteria = EndCriteria(10000, 100, 1e-6, 1e-8, 1e-8)\n",
                "model.calibrate(swaptions, optimization_method, end_criteria)\n",
                "a, sigma = model.params()\n",
                "print (\"a = %6.5f, sigma = %6.5f\" % (a, sigma))\n"
            ],
            "metadata": {
                "colab": {
                    "base_uri": "https://localhost:8080/"
                },
                "id": "ztD0-7bdtIbm",
                "outputId": "ad9f5e52-73c6-41c8-d3c1-136380790831"
            },
            "execution_count": 8,
            "outputs": [
                {
                    "output_type": "stream",
                    "name": "stdout",
                    "text": [
                        "a = 0.05247, sigma = 0.00688\n"
                    ]
                }
            ]
        },
        {
            "cell_type": "code",
            "source": [
                "calibration_report(swaptions, data)"
            ],
            "metadata": {
                "colab": {
                    "base_uri": "https://localhost:8080/",
                    "height": 241
                },
                "id": "gOIShnLAtNKu",
                "outputId": "09b1d0e8-8297-4209-bb7b-bb9b7208cdda"
            },
            "execution_count": 9,
            "outputs": [
                {
                    "output_type": "stream",
                    "name": "stdout",
                    "text": [
                        "Cumulative Error Price: 0.29531\n",
                        "Cumulative Error Vols : 0.29616\n"
                    ]
                },
                {
                    "output_type": "execute_result",
                    "data": {
                        "text/plain": [
                            "  Model Price  Market Price  Implied Vol  Market Vol  Rel Er  ror Price  \\\n",
                            "     0.010269      0.013374     0.088110      0.1148          -0.232146   \n",
                            "     0.011277      0.012314     0.101447      0.1108          -0.084188   \n",
                            "     0.010099      0.010047     0.107550      0.1070           0.005122   \n",
                            "     0.007585      0.006969     0.111170      0.1021           0.088394   \n",
                            "     0.004128      0.003635     0.113644      0.1000           0.135601   \n",
                            "\n",
                            "  Rel Error Vols  \n",
                            "       -0.232494  \n",
                            "       -0.084416  \n",
                            "        0.005142  \n",
                            "        0.088836  \n",
                            "        0.136439  "
                        ],
                        "text/html": [
                            "\n",
                            "  <div id=\"df-abd65957-1cae-4ed0-a0f6-9b5996271cf3\">\n",
                            "    <div class=\"colab-df-container\">\n",
                            "      <div>\n",
                            "<style scoped>\n",
                            "    .dataframe tbody tr th:only-of-type {\n",
                            "        vertical-align: middle;\n",
                            "    }\n",
                            "\n",
                            "    .dataframe tbody tr th {\n",
                            "        vertical-align: top;\n",
                            "    }\n",
                            "\n",
                            "    .dataframe thead th {\n",
                            "        text-align: right;\n",
                            "    }\n",
                            "</style>\n",
                            "<table border=\"1\" class=\"dataframe\">\n",
                            "  <thead>\n",
                            "    <tr style=\"text-align: right;\">\n",
                            "      <th></th>\n",
                            "      <th>Model Price</th>\n",
                            "      <th>Market Price</th>\n",
                            "      <th>Implied Vol</th>\n",
                            "      <th>Market Vol</th>\n",
                            "      <th>Rel Er  ror Price</th>\n",
                            "      <th>Rel Error Vols</th>\n",
                            "    </tr>\n",
                            "  </thead>\n",
                            "  <tbody>\n",
                            "    <tr>\n",
                            "      <th></th>\n",
                            "      <td>0.010269</td>\n",
                            "      <td>0.013374</td>\n",
                            "      <td>0.088110</td>\n",
                            "      <td>0.1148</td>\n",
                            "      <td>-0.232146</td>\n",
                            "      <td>-0.232494</td>\n",
                            "    </tr>\n",
                            "    <tr>\n",
                            "      <th></th>\n",
                            "      <td>0.011277</td>\n",
                            "      <td>0.012314</td>\n",
                            "      <td>0.101447</td>\n",
                            "      <td>0.1108</td>\n",
                            "      <td>-0.084188</td>\n",
                            "      <td>-0.084416</td>\n",
                            "    </tr>\n",
                            "    <tr>\n",
                            "      <th></th>\n",
                            "      <td>0.010099</td>\n",
                            "      <td>0.010047</td>\n",
                            "      <td>0.107550</td>\n",
                            "      <td>0.1070</td>\n",
                            "      <td>0.005122</td>\n",
                            "      <td>0.005142</td>\n",
                            "    </tr>\n",
                            "    <tr>\n",
                            "      <th></th>\n",
                            "      <td>0.007585</td>\n",
                            "      <td>0.006969</td>\n",
                            "      <td>0.111170</td>\n",
                            "      <td>0.1021</td>\n",
                            "      <td>0.088394</td>\n",
                            "      <td>0.088836</td>\n",
                            "    </tr>\n",
                            "    <tr>\n",
                            "      <th></th>\n",
                            "      <td>0.004128</td>\n",
                            "      <td>0.003635</td>\n",
                            "      <td>0.113644</td>\n",
                            "      <td>0.1000</td>\n",
                            "      <td>0.135601</td>\n",
                            "      <td>0.136439</td>\n",
                            "    </tr>\n",
                            "  </tbody>\n",
                            "</table>\n",
                            "</div>\n",
                            "      <button class=\"colab-df-convert\" onclick=\"convertToInteractive('df-abd65957-1cae-4ed0-a0f6-9b5996271cf3')\"\n",
                            "              title=\"Convert this dataframe to an interactive table.\"\n",
                            "              style=\"display:none;\">\n",
                            "        \n",
                            "  <svg xmlns=\"http://www.w3.org/2000/svg\" height=\"24px\"viewBox=\"0 0 24 24\"\n",
                            "       width=\"24px\">\n",
                            "    <path d=\"M0 0h24v24H0V0z\" fill=\"none\"/>\n",
                            "    <path d=\"M18.56 5.44l.94 2.06.94-2.06 2.06-.94-2.06-.94-.94-2.06-.94 2.06-2.06.94zm-11 1L8.5 8.5l.94-2.06 2.06-.94-2.06-.94L8.5 2.5l-.94 2.06-2.06.94zm10 10l.94 2.06.94-2.06 2.06-.94-2.06-.94-.94-2.06-.94 2.06-2.06.94z\"/><path d=\"M17.41 7.96l-1.37-1.37c-.4-.4-.92-.59-1.43-.59-.52 0-1.04.2-1.43.59L10.3 9.45l-7.72 7.72c-.78.78-.78 2.05 0 2.83L4 21.41c.39.39.9.59 1.41.59.51 0 1.02-.2 1.41-.59l7.78-7.78 2.81-2.81c.8-.78.8-2.07 0-2.86zM5.41 20L4 18.59l7.72-7.72 1.47 1.35L5.41 20z\"/>\n",
                            "  </svg>\n",
                            "      </button>\n",
                            "      \n",
                            "  <style>\n",
                            "    .colab-df-container {\n",
                            "      display:flex;\n",
                            "      flex-wrap:wrap;\n",
                            "      gap: 12px;\n",
                            "    }\n",
                            "\n",
                            "    .colab-df-convert {\n",
                            "      background-color: #E8F0FE;\n",
                            "      border: none;\n",
                            "      border-radius: 50%;\n",
                            "      cursor: pointer;\n",
                            "      display: none;\n",
                            "      fill: #1967D2;\n",
                            "      height: 32px;\n",
                            "      padding: 0 0 0 0;\n",
                            "      width: 32px;\n",
                            "    }\n",
                            "\n",
                            "    .colab-df-convert:hover {\n",
                            "      background-color: #E2EBFA;\n",
                            "      box-shadow: 0px 1px 2px rgba(60, 64, 67, 0.3), 0px 1px 3px 1px rgba(60, 64, 67, 0.15);\n",
                            "      fill: #174EA6;\n",
                            "    }\n",
                            "\n",
                            "    [theme=dark] .colab-df-convert {\n",
                            "      background-color: #3B4455;\n",
                            "      fill: #D2E3FC;\n",
                            "    }\n",
                            "\n",
                            "    [theme=dark] .colab-df-convert:hover {\n",
                            "      background-color: #434B5C;\n",
                            "      box-shadow: 0px 1px 3px 1px rgba(0, 0, 0, 0.15);\n",
                            "      filter: drop-shadow(0px 1px 2px rgba(0, 0, 0, 0.3));\n",
                            "      fill: #FFFFFF;\n",
                            "    }\n",
                            "  </style>\n",
                            "\n",
                            "      <script>\n",
                            "        const buttonEl =\n",
                            "          document.querySelector('#df-abd65957-1cae-4ed0-a0f6-9b5996271cf3 button.colab-df-convert');\n",
                            "        buttonEl.style.display =\n",
                            "          google.colab.kernel.accessAllowed ? 'block' : 'none';\n",
                            "\n",
                            "        async function convertToInteractive(key) {\n",
                            "          const element = document.querySelector('#df-abd65957-1cae-4ed0-a0f6-9b5996271cf3');\n",
                            "          const dataTable =\n",
                            "            await google.colab.kernel.invokeFunction('convertToInteractive',\n",
                            "                                                     [key], {});\n",
                            "          if (!dataTable) return;\n",
                            "\n",
                            "          const docLinkHtml = 'Like what you see? Visit the ' +\n",
                            "            '<a target=\"_blank\" href=https://colab.research.google.com/notebooks/data_table.ipynb>data table notebook</a>'\n",
                            "            + ' to learn more about interactive tables.';\n",
                            "          element.innerHTML = '';\n",
                            "          dataTable['output_type'] = 'display_data';\n",
                            "          await google.colab.output.renderOutput(dataTable, element);\n",
                            "          const docLink = document.createElement('div');\n",
                            "          docLink.innerHTML = docLinkHtml;\n",
                            "          element.appendChild(docLink);\n",
                            "        }\n",
                            "      </script>\n",
                            "    </div>\n",
                            "  </div>\n",
                            "  "
                        ]
                    },
                    "metadata": {},
                    "execution_count": 9
                }
            ]
        },
        {
            "cell_type": "markdown",
            "source": [
                "The code above is an implementation of the Hull-White one-factor model to calibrate a term structure of interest rates to a set of swaption volatilities. The model is used to calculate the price of European swaptions and compare them to market prices, in order to find the best values of the model parameters that minimize the differences between model and market prices.\n",
                "\n",
                "The main steps of the implementation are:\n",
                "\n",
                "Set the evaluation date, settlement date, and the term structure of interest rates.\n",
                "\n",
                "\n",
                "Define the calibration data, which consists of the start time, length, and volatility of each swaption in the set.\n",
                "\n",
                "\n",
                "\n",
                "Define the Euribor index and create the swaption helpers, which are objects that provide the necessary information for pricing the swaptions.\n",
                "Define the calibration function, which calculates the model prices, implied volatilities, and errors between model and market prices for each swaption.\n",
                "\n",
                "\n",
                "\n",
                "Define the Hull-White model and the Jamshidian swaption engine, which are used to calculate the model prices.\n",
                "Define the optimization method and end criteria, which are used to find the best model parameters that minimize the errors between model and market prices.\n",
                "\n",
                "\n",
                "\n",
                "Calibrate the model to the swaption set using the model.calibrate function.\n",
                "Print the calibrated values of the model parameters and the calibration report, which shows the errors between model and market prices and implied volatilities for each swaption, as well as cumulative errors.\n",
                "\n",
                "\n",
                "\n",
                "\n",
                "\n",
                "\n",
                "The implementation uses the QuantLib library, which provides a set of tools for pricing and modeling financial instruments. The Hull-White model is a one-factor model that assumes that the short-term interest rates follow a mean-reverting process with constant mean and volatility. The Jamshidian swaption engine is a numerical method for pricing swaptions. The Levenberg-Marquardt optimization method is used to minimize the sum of squared errors between model and market prices. The end criteria specify when the optimization should stop if convergence is not achieved."
            ],
            "metadata": {
                "id": "6R6jVT8oupj7"
            }
        }
    ]
}