{
    "cells": [
        {
            "cell_type": "code",
            "execution_count": 1,
            "metadata": {
                "collapsed": true
            },
            "outputs": [],
            "source": [
                "# Import tensorflow\n",
                "import tensorflow as tf\n",
                "# Import numpy\n",
                "import numpy as np"
            ]
        },
        {
            "cell_type": "markdown",
            "metadata": {},
            "source": "## Comparison of tokenization"
        },
        {
            "cell_type": "code",
            "execution_count": 2,
            "metadata": {},
            "outputs": [
                {
                    "data": {
                        "text/plain": [
                            "['It',\n",
                            " 'is',\n",
                            " 'hard',\n",
                            " 'to',\n",
                            " 'install',\n",
                            " 'Tensorflow',\n",
                            " 'on',\n",
                            " \"Peter's\",\n",
                            " 'machine.']"
                        ]
                    },
                    "execution_count": 2,
                    "metadata": {},
                    "output_type": "execute_result"
                }
            ],
            "source": [
                "\"It is hard to install Tensorflow on Peter's machine.\".split()"
            ]
        },
        {
            "cell_type": "code",
            "execution_count": 3,
            "metadata": {
                "collapsed": true
            },
            "outputs": [],
            "source": [
                "from nltk import word_tokenize"
            ]
        },
        {
            "cell_type": "code",
            "execution_count": 4,
            "metadata": {},
            "outputs": [
                {
                    "data": {
                        "text/plain": [
                            "['It',\n",
                            " 'is',\n",
                            " 'hard',\n",
                            " 'to',\n",
                            " 'install',\n",
                            " 'Tensorflow',\n",
                            " 'on',\n",
                            " 'Peter',\n",
                            " \"'s\",\n",
                            " 'machine',\n",
                            " '.']"
                        ]
                    },
                    "execution_count": 4,
                    "metadata": {},
                    "output_type": "execute_result"
                }
            ],
            "source": [
                "word_tokenize(\"It is hard to install Tensorflow on Peter's machine .\")\n",
                "\n",
                "## Why there is a difference?"
            ]
        },
        {
            "cell_type": "markdown",
            "metadata": {},
            "source": "## Practice of <a href='https://www.tensorflow.org/api_docs/python/tf/constant'>constants</a>"
        },
        {
            "cell_type": "code",
            "execution_count": 5,
            "metadata": {},
            "outputs": [
                {
                    "name": "stdout",
                    "output_type": "stream",
                    "text": [
                        "Tensor(\"constants/multiply:0\", shape=(2, 1), dtype=int32)\n"
                    ]
                }
            ],
            "source": [
                "with tf.name_scope('constants'):\n",
                "    a = tf.constant([-1,1, 1, -1], shape = [2,2], name='a')\n",
                "    b = tf.constant([0,1], shape = [2,1], name = 'b')\n",
                "    c = tf.matmul(a, b, name = 'multiply')\n",
                "print(c)"
            ]
        },
        {
            "cell_type": "code",
            "execution_count": 6,
            "metadata": {},
            "outputs": [
                {
                    "name": "stdout",
                    "output_type": "stream",
                    "text": [
                        "[[ 1]\n",
                        " [-1]]\n"
                    ]
                }
            ],
            "source": [
                "# Why you cannot get the expected [1, -1]?\n",
                "# What if we run the matrix multiplication with tf.Session?\n",
                "with tf.Session() as sess:\n",
                "    print(sess.run(c))"
            ]
        },
        {
            "cell_type": "code",
            "execution_count": 7,
            "metadata": {
                "collapsed": true
            },
            "outputs": [],
            "source": [
                "# Generate the computation graph\n",
                "logs_dir = './computation_graphs'\n",
                "with tf.Session() as sess:\n",
                "    log_writer = tf.summary.FileWriter(logs_dir, sess.graph)\n",
                "    sess.run(c)\n",
                "log_writer.close()\n",
                "# run tensorboard --logdir=\"./computation_graphs\" to visualize the computation graph."
            ]
        },
        {
            "cell_type": "code",
            "execution_count": 1,
            "metadata": {},
            "outputs": [
                {
                    "name": "stdout",
                    "output_type": "stream",
                    "text": [
                        "Starting TensorBoard 47 at http://0.0.0.0:6006\n",
                        "(Press CTRL+C to quit)\n",
                        "WARNING:tensorflow:path ../external/data/plugin/text/runs not found, sending 404\n",
                        "WARNING:tensorflow:path ../external/data/plugin/text/runs not found, sending 404\n",
                        "WARNING:tensorflow:path ../external/data/plugin/text/runs not found, sending 404\n",
                        "WARNING:tensorflow:path ../external/data/plugin/text/runs not found, sending 404\n",
                        "^C\n"
                    ]
                }
            ],
            "source": [
                "!tensorboard --logdir=\"./computation_graphs\""
            ]
        },
        {
            "cell_type": "code",
            "execution_count": null,
            "metadata": {
                "collapsed": true
            },
            "outputs": [],
            "source": [
                "# A1: Compute np.matmul(np.array([[1,2],[3,4],[5,6]]), np.array([[1],[2]]) ) + np.array([1,0,1]) with Tensorflow.\n",
                "with tf.name_scope('constants'):\n",
                "    x = tf.constant([1,2,3,4,5,6],shape=[3,2],name = 'x')\n",
                "    y = tf.constant([1,0,1],shape=[1,3],name = 'y')\n",
                "    z = tf."
            ]
        },
        {
            "cell_type": "markdown",
            "metadata": {},
            "source": "## Practice of <a href='https://www.tensorflow.org/api_docs/python/tf/Variable'>variables</a>\n"
        },
        {
            "cell_type": "code",
            "execution_count": null,
            "metadata": {
                "collapsed": true
            },
            "outputs": [],
            "source": [
                "M = tf.Variable(tf.random_normal([3,2], mean=0, stddev=1), name = 'M')\n",
                "m_times_two = M.assign(M * 2)\n",
                "init_m = tf.global_variables_initializer()\n",
                "\n",
                "with tf.Session() as sess:\n",
                "    sess.run(init_m)\n",
                "    print('M = %s\\n' % M.eval())\n",
                "    sess.run(m_times_two)\n",
                "    print('M * 2 = %s\\n' %  M.eval())\n",
                "    sess.run(m_times_two)\n",
                "    print('M * 4 = %s\\n' % M.eval())"
            ]
        },
        {
            "cell_type": "code",
            "execution_count": null,
            "metadata": {
                "collapsed": true
            },
            "outputs": [],
            "source": [
                "# Create a place holder of type float 32-bit.\n",
                "v = tf.placeholder(tf.float32, shape = [2, 1], name = 'v')\n",
                "m_times_v = tf.matmul(M, v, name = 'M_v')\n",
                "with tf.Session() as sess:\n",
                "    sess.run(init_m)\n",
                "    print('M = %s\\n' % M.eval())\n",
                "    print('M * [2,1] = %s \\n' % sess.run(m_times_v, {v: [[2],[1]]}))\n",
                "    print('M * [1,2] = %s \\n' % sess.run(m_times_v, {v: [[1],[2]]}))"
            ]
        },
        {
            "cell_type": "code",
            "execution_count": null,
            "metadata": {
                "collapsed": true
            },
            "outputs": [],
            "source": [
                "# A2: Randomly generate a matrix W and a vector b, compute W * x + b, \n",
                "# where x are column vectors from a set of randomly generated vectors."
            ]
        },
        {
            "cell_type": "code",
            "execution_count": null,
            "metadata": {
                "collapsed": true
            },
            "outputs": [],
            "source": [
                "# Example of word embedding look up.\n",
                "x = tf.placeholder(tf.int32, shape = [None], name = 'v')\n",
                "embeddings = tf.Variable(tf.random_uniform([10, 5], -1.0, 1.0), name = 'embed')\n",
                "embed_seq = tf.nn.embedding_lookup(embeddings, x)\n",
                "with tf.Session() as sess:\n",
                "    sess.run(tf.global_variables_initializer())\n",
                "    print('embed = %s\\n' % embeddings.eval())\n",
                "    print('sequence 1 \\n')\n",
                "    print(sess.run(embed_seq, {x: np.array([1,2,3])}))\n",
                "    print('sequence 2 \\n')\n",
                "    print(sess.run(embed_seq, {x: np.array([1,3])}))"
            ]
        },
        {
            "cell_type": "code",
            "execution_count": null,
            "metadata": {
                "collapsed": true
            },
            "outputs": [],
            "source": [
                "## A3: Modify the above code to compute the mean of word embeddings."
            ]
        },
        {
            "cell_type": "markdown",
            "metadata": {},
            "source": "## Useful resources:\n\n1. Logistic regression implementation: https://github.com/aymericdamien/TensorFlow-Examples/blob/master/notebooks/2_BasicModels/logistic_regression.ipynb. Note that it does not follow the best practice.\n\n2. Tensorflow best practices : https://github.com/aicodes/tf-bestpractice\n\n3. Tensorflow course: http://web.stanford.edu/class/cs20si/\n\n4. Best practices for files, folders and models architectures: https://blog.metaflow.fr/tensorflow-a-proposal-of-good-practices-for-files-folders-and-models-architecture-f23171501ae3\n\n5. Code that follows the best practices : https://github.com/tensorflow/models/blob/master/tutorials/image/cifar10/cifar10.py"
        },
        {
            "cell_type": "code",
            "execution_count": null,
            "metadata": {
                "collapsed": true
            },
            "outputs": [],
            "source": []
        }
    ],
    "metadata": {
        "anaconda-cloud": {},
        "kernelspec": {
            "display_name": "Python 2",
            "language": "python",
            "name": "python2"
        },
        "language_info": {
            "codemirror_mode": {
                "name": "ipython",
                "version": 2
            },
            "file_extension": ".py",
            "mimetype": "text/x-python",
            "name": "python",
            "nbconvert_exporter": "python",
            "pygments_lexer": "ipython2",
            "version": "2.7.13"
        }
    },
    "nbformat": 4,
    "nbformat_minor": 1
}